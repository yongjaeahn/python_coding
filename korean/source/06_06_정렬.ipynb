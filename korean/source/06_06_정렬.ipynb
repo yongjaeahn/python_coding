{
  "nbformat": 4,
  "nbformat_minor": 0,
  "metadata": {
    "colab": {
      "provenance": [],
      "authorship_tag": "ABX9TyO5wpS77bXdlTyTqu9g6Zrw",
      "include_colab_link": true
    },
    "kernelspec": {
      "name": "python3",
      "display_name": "Python 3"
    },
    "language_info": {
      "name": "python"
    }
  },
  "cells": [
    {
      "cell_type": "markdown",
      "metadata": {
        "id": "view-in-github",
        "colab_type": "text"
      },
      "source": [
        "<a href=\"https://colab.research.google.com/github/yongjaeahn/python_coding/blob/main/korean/source/06_06_%EC%A0%95%EB%A0%AC.ipynb\" target=\"_parent\"><img src=\"https://colab.research.google.com/assets/colab-badge.svg\" alt=\"Open In Colab\"/></a>"
      ]
    },
    {
      "cell_type": "markdown",
      "source": [
        "\t정렬"
      ],
      "metadata": {
        "id": "6g18FFlbwTJa"
      }
    },
    {
      "cell_type": "code",
      "source": [
        "string_vector = '코딩 123 혹은 ABC'\n",
        "print(\"순방향 정렬 :\", sorted(string_vector))\n",
        "print(\"역방향 정렬 :\", sorted(string_vector,reverse=True))"
      ],
      "metadata": {
        "colab": {
          "base_uri": "https://localhost:8080/"
        },
        "id": "GMQVXwplcg6d",
        "outputId": "968591a8-272b-49d6-a9c6-03510cdcd601"
      },
      "execution_count": null,
      "outputs": [
        {
          "output_type": "stream",
          "name": "stdout",
          "text": [
            "순방향 정렬 : [' ', ' ', ' ', '1', '2', '3', 'A', 'B', 'C', '딩', '은', '코', '혹']\n",
            "역방향 정렬 : ['혹', '코', '은', '딩', 'C', 'B', 'A', '3', '2', '1', ' ', ' ', ' ']\n"
          ]
        }
      ]
    },
    {
      "cell_type": "code",
      "source": [
        "list_vector = [10,19,8,7,15]\n",
        "sorted_list_vector = sorted(list_vector)\n",
        "print(\"순방향 정렬된 list_vector :\", sorted_list_vector)\n",
        "reverse_sorted_list_vector = sorted(list_vector,reverse=True)\n",
        "print(\"역방향 정렬된 list_vector :\", reverse_sorted_list_vector)\n",
        "print(\"원본 list_vector :\",list_vector)"
      ],
      "metadata": {
        "colab": {
          "base_uri": "https://localhost:8080/"
        },
        "id": "x15_EA4ODEiV",
        "outputId": "f8844945-0451-416a-89a3-d7b9cd0be165"
      },
      "execution_count": null,
      "outputs": [
        {
          "output_type": "stream",
          "name": "stdout",
          "text": [
            "순방향 정렬된 list_vector : [7, 8, 10, 15, 19]\n",
            "역방향 정렬된 list_vector : [19, 15, 10, 8, 7]\n",
            "원본 list_vector : [10, 19, 8, 7, 15]\n"
          ]
        }
      ]
    },
    {
      "cell_type": "code",
      "source": [
        "str_list = ['한글1','ABC38','한글02','ABC5']\n",
        "sorted_str_list = sorted(str_list)\n",
        "print(\"순방향 정렬된 str_list :\", sorted_str_list)\n",
        "reverse_sorted_str_list = sorted(str_list,reverse=True)\n",
        "print(\"역방향 정렬된 str_list :\", reverse_sorted_str_list)"
      ],
      "metadata": {
        "colab": {
          "base_uri": "https://localhost:8080/"
        },
        "id": "2vIQCYnE73Dq",
        "outputId": "c23f71c9-3982-4cd4-a42f-ebda6054578d"
      },
      "execution_count": null,
      "outputs": [
        {
          "output_type": "stream",
          "name": "stdout",
          "text": [
            "순방향 정렬된 str_list : ['ABC38', 'ABC5', '한글02', '한글1']\n",
            "역방향 정렬된 str_list : ['한글1', '한글02', 'ABC5', 'ABC38']\n"
          ]
        }
      ]
    },
    {
      "cell_type": "code",
      "source": [
        "list_vector = [10,19,8,7,15]\n",
        "print(\"순방향 정렬된 list_vector :\", list_vector.sort())\n",
        "print(\"원본 list_vector :\",list_vector)\n",
        "\n",
        "print(\"역방향 정렬된 list_vector :\", list_vector.sort(reverse=True))\n",
        "print(\"원본 list_vector :\",list_vector)"
      ],
      "metadata": {
        "colab": {
          "base_uri": "https://localhost:8080/"
        },
        "id": "QMT-vv_eDra_",
        "outputId": "5b17bb93-7c84-4843-9106-444fac00e7d6"
      },
      "execution_count": null,
      "outputs": [
        {
          "output_type": "stream",
          "name": "stdout",
          "text": [
            "순방향 정렬된 list_vector : None\n",
            "원본 list_vector : [7, 8, 10, 15, 19]\n",
            "역방향 정렬된 list_vector : None\n",
            "원본 list_vector : [19, 15, 10, 8, 7]\n"
          ]
        }
      ]
    },
    {
      "cell_type": "code",
      "source": [
        "import numpy as np\n",
        "\n",
        "array_vector = np.array([10,19,8,7,15])\n",
        "print(\"순방향 정렬된 array_vector :\", sorted(array_vector))\n",
        "print(\"역방향 정렬된 array_vector :\", sorted(array_vector,reverse=True))\n",
        "print(\"원본 array_vector :\",array_vector)\n",
        "\n",
        "array_vector = np.array([10,19,8,7,15])\n",
        "print(\"array_vector.sort()의 반환값 :\", array_vector.sort())\n",
        "print(\"원본 array_vector (순방향 정렬된 array_vector) :\",array_vector)\n",
        "print(\"역방향 정렬된 array_vector :\", array_vector.sort(reverse=True))\n",
        "print(\"원본 array_vector (역방향 정렬된 array_vector) :\",array_vector)"
      ],
      "metadata": {
        "colab": {
          "base_uri": "https://localhost:8080/",
          "height": 335
        },
        "id": "PMN4l5YKI6-M",
        "outputId": "475a38aa-08ca-4af5-d385-b5112737916c"
      },
      "execution_count": null,
      "outputs": [
        {
          "output_type": "stream",
          "name": "stdout",
          "text": [
            "순방향 정렬된 array_vector : [7, 8, 10, 15, 19]\n",
            "역방향 정렬된 array_vector : [19, 15, 10, 8, 7]\n",
            "원본 array_vector : [10 19  8  7 15]\n",
            "array_vector.sort()의 반환값 : None\n",
            "원본 array_vector (순방향 정렬된 array_vector) : [ 7  8 10 15 19]\n",
            "원본 array_vector (순방향 정렬된 array_vector) : [ 7  8 10 15 19]\n"
          ]
        },
        {
          "output_type": "error",
          "ename": "TypeError",
          "evalue": "ignored",
          "traceback": [
            "\u001b[0;31m---------------------------------------------------------------------------\u001b[0m",
            "\u001b[0;31mTypeError\u001b[0m                                 Traceback (most recent call last)",
            "\u001b[0;32m<ipython-input-18-e730a0075e9b>\u001b[0m in \u001b[0;36m<cell line: 12>\u001b[0;34m()\u001b[0m\n\u001b[1;32m     10\u001b[0m \u001b[0mprint\u001b[0m\u001b[0;34m(\u001b[0m\u001b[0;34m\"원본 array_vector (순방향 정렬된 array_vector) :\"\u001b[0m\u001b[0;34m,\u001b[0m\u001b[0marray_vector\u001b[0m\u001b[0;34m)\u001b[0m\u001b[0;34m\u001b[0m\u001b[0;34m\u001b[0m\u001b[0m\n\u001b[1;32m     11\u001b[0m \u001b[0mprint\u001b[0m\u001b[0;34m(\u001b[0m\u001b[0;34m\"원본 array_vector (순방향 정렬된 array_vector) :\"\u001b[0m\u001b[0;34m,\u001b[0m\u001b[0marray_vector\u001b[0m\u001b[0;34m)\u001b[0m\u001b[0;34m\u001b[0m\u001b[0;34m\u001b[0m\u001b[0m\n\u001b[0;32m---> 12\u001b[0;31m \u001b[0mprint\u001b[0m\u001b[0;34m(\u001b[0m\u001b[0;34m\"역방향 정렬된 array_vector :\"\u001b[0m\u001b[0;34m,\u001b[0m \u001b[0marray_vector\u001b[0m\u001b[0;34m.\u001b[0m\u001b[0msort\u001b[0m\u001b[0;34m(\u001b[0m\u001b[0mreverse\u001b[0m\u001b[0;34m=\u001b[0m\u001b[0;32mTrue\u001b[0m\u001b[0;34m)\u001b[0m\u001b[0;34m)\u001b[0m\u001b[0;34m\u001b[0m\u001b[0;34m\u001b[0m\u001b[0m\n\u001b[0m",
            "\u001b[0;31mTypeError\u001b[0m: sort() got an unexpected keyword argument 'reverse'"
          ]
        }
      ]
    },
    {
      "cell_type": "code",
      "source": [
        "print(array_vector[::-1])"
      ],
      "metadata": {
        "colab": {
          "base_uri": "https://localhost:8080/"
        },
        "id": "niWBRnF3PYa6",
        "outputId": "ac9ec3c2-31b0-4bd7-a37c-8619111699a8"
      },
      "execution_count": null,
      "outputs": [
        {
          "output_type": "stream",
          "name": "stdout",
          "text": [
            "[19 15 10  8  7]\n"
          ]
        }
      ]
    },
    {
      "cell_type": "code",
      "source": [
        "import numpy as np\n",
        "\n",
        "array_matrix = np.array([[9,2,7],[1,7,5],[3,5,3]])\n",
        "print(\"array_matrix :\\n\", array_matrix)\n",
        "print(\"열방향 순방향 정렬된 array_matrix :\\n\", np.sort(array_matrix,axis=0))\n",
        "print(\"열방향 역방향 정렬된 array_matrix :\\n\", np.sort(array_matrix,axis=0)[::-1,:])\n",
        "print(\"행방향 순방향 정렬된 array_matrix :\\n\", np.sort(array_matrix,axis=1))\n",
        "print(\"행방향 순방향 정렬된 array_matrix :\\n\", np.sort(array_matrix,axis=1)[:,::-1])\n",
        "print(\"원본 array_matrix :\\n\", array_matrix)"
      ],
      "metadata": {
        "colab": {
          "base_uri": "https://localhost:8080/"
        },
        "id": "x89jLoZjuB5m",
        "outputId": "052aebd0-0ad7-4edd-cedb-2e46a0077a26"
      },
      "execution_count": null,
      "outputs": [
        {
          "output_type": "stream",
          "name": "stdout",
          "text": [
            "array_matrix :\n",
            " [[9 2 7]\n",
            " [1 7 5]\n",
            " [3 5 3]]\n",
            "열방향 순방향 정렬된 array_matrix :\n",
            " [[1 2 3]\n",
            " [3 5 5]\n",
            " [9 7 7]]\n",
            "열방향 역방향 정렬된 array_matrix :\n",
            " [[9 7 7]\n",
            " [3 5 5]\n",
            " [1 2 3]]\n",
            "행방향 순방향 정렬된 array_matrix :\n",
            " [[2 7 9]\n",
            " [1 5 7]\n",
            " [3 3 5]]\n",
            "행방향 순방향 정렬된 array_matrix :\n",
            " [[9 7 2]\n",
            " [7 5 1]\n",
            " [5 3 3]]\n",
            "원본 array_matrix :\n",
            " [[9 2 7]\n",
            " [1 7 5]\n",
            " [3 5 3]]\n"
          ]
        }
      ]
    },
    {
      "cell_type": "code",
      "source": [
        "import numpy as np\n",
        "\n",
        "array_vector = np.array([10,19,8,7,15])\n",
        "\n",
        "sort_index = np.argsort(array_vector)\n",
        "print(\"array_vector의 Sort Index :\",sort_index)\n",
        "print(\"순방향 정렬된 array_vector :\",array_vector[sort_index])\n",
        "print(\"np.argsort()로 정렬후 array_vector :\",array_vector)\n",
        "\n",
        "sort_index = array_vector.argsort()\n",
        "print(\"array_vector의 Sort Index :\",sort_index)\n",
        "print(\"array_vector.argsort()로 정렬후 array_vector :\",array_vector)"
      ],
      "metadata": {
        "colab": {
          "base_uri": "https://localhost:8080/"
        },
        "id": "ZaY9WFMw5dEG",
        "outputId": "b017cfe1-3076-48c5-8654-e0909086985e"
      },
      "execution_count": 1,
      "outputs": [
        {
          "output_type": "stream",
          "name": "stdout",
          "text": [
            "array_vector의 Sort Index : [3 2 0 4 1]\n",
            "순방향 정렬된 array_vector : [ 7  8 10 15 19]\n",
            "np.argsort()로 정렬후 array_vector : [10 19  8  7 15]\n",
            "array_vector의 Sort Index : [3 2 0 4 1]\n",
            "array_vector.argsort()로 정렬후 array_vector : [10 19  8  7 15]\n"
          ]
        }
      ]
    },
    {
      "cell_type": "code",
      "source": [
        "import numpy as np\n",
        "\n",
        "# 한행의 데이터 구성 : 학번, 중간고사, 기말고사\n",
        "list2d = [('002',90,95),('001',100,90),('003',95,100)]\n",
        "array2d = np.array([(2,90,95),(1,100,90),(3,95,100)])\n",
        "\n",
        "def sort_key_function(row):\n",
        "  return row[0]\n",
        "\n",
        "print('학번 기준 정렬 결과(list):',sorted(list2d,key=sort_key_function))\n",
        "print('학번 기준 정렬 결과(array):\\n',sorted(array2d,key=sort_key_function))"
      ],
      "metadata": {
        "colab": {
          "base_uri": "https://localhost:8080/"
        },
        "id": "OqFcjMGsmrGu",
        "outputId": "ae6ec452-c148-46f9-fb0c-46ae35ddbc6f"
      },
      "execution_count": null,
      "outputs": [
        {
          "output_type": "stream",
          "name": "stdout",
          "text": [
            "학번 기준 정렬 결과(list): [('001', 100, 90), ('002', 90, 95), ('003', 95, 100)]\n",
            "학번 기준 정렬 결과(array):\n",
            " [array([  1, 100,  90]), array([ 2, 90, 95]), array([  3,  95, 100])]\n"
          ]
        }
      ]
    },
    {
      "cell_type": "code",
      "source": [
        "import numpy as np\n",
        "\n",
        "# 한행의 데이터 구성 : 학번, 중간고사, 기말고사\n",
        "list2d = [('002',90,95),('001',100,90),('003',95,100)]\n",
        "array2d = np.array([(2,90,95),(1,100,90),(3,95,100)])\n",
        "\n",
        "def sort_key_function(row):\n",
        "  #return row[0]         # 학번\n",
        "  return row[1]          # 중간고사 성적\n",
        "  #return row[2]         # 기말고사 성적\n",
        "\n",
        "print('중간고사 기준 정렬 결과(list):',sorted(list2d,key=sort_key_function))\n",
        "print('중간고사 기준 정렬 결과(array):\\n',sorted(array2d,key=sort_key_function))"
      ],
      "metadata": {
        "colab": {
          "base_uri": "https://localhost:8080/"
        },
        "id": "Pj5YQWWD1Gg_",
        "outputId": "3a9f7629-b155-48e6-cab6-e4d21f2cb801"
      },
      "execution_count": null,
      "outputs": [
        {
          "output_type": "stream",
          "name": "stdout",
          "text": [
            "중간고사 기준 정렬 결과(list): [('002', 90, 95), ('003', 95, 100), ('001', 100, 90)]\n",
            "중간고사 기준 정렬 결과(array):\n",
            " [array([ 2, 90, 95]), array([  3,  95, 100]), array([  1, 100,  90])]\n"
          ]
        }
      ]
    },
    {
      "cell_type": "code",
      "source": [
        "def sort_key_function(row):\n",
        "  return row[1] + row[2]         # 성적 합계\n",
        "\n",
        "print('성적합계 기준 정렬 결과(list):',sorted(list2d,key=sort_key_function))\n",
        "print('성적합계 기준 정렬 결과(array):\\n',sorted(array2d,key=sort_key_function))"
      ],
      "metadata": {
        "colab": {
          "base_uri": "https://localhost:8080/"
        },
        "id": "irqCzIPOV1so",
        "outputId": "c8c89727-7477-4072-dcab-a216c5840914"
      },
      "execution_count": null,
      "outputs": [
        {
          "output_type": "stream",
          "name": "stdout",
          "text": [
            "성적합계 기준 정렬 결과(list): [('002', 90, 95), ('001', 100, 90), ('003', 95, 100)]\n",
            "성적합계 기준 정렬 결과(array):\n",
            " [array([ 2, 90, 95]), array([  1, 100,  90]), array([  3,  95, 100])]\n"
          ]
        }
      ]
    },
    {
      "cell_type": "code",
      "source": [
        "#def sort_key_function(row):\n",
        "#  return row[1] + row[2]         # 성적 합계\n",
        "sort_key_function = lambda row: row[1] + row[2]\n",
        "\n",
        "print('성적합계 기준 정렬 결과(list):',sorted(list2d,key=sort_key_function))\n",
        "print('성적합계 기준 정렬 결과(array):\\n',sorted(array2d,key=sort_key_function))"
      ],
      "metadata": {
        "colab": {
          "base_uri": "https://localhost:8080/"
        },
        "id": "qUOMCuT24lVn",
        "outputId": "f61cd0f2-cd10-44d2-c205-0d9267f6b33c"
      },
      "execution_count": null,
      "outputs": [
        {
          "output_type": "stream",
          "name": "stdout",
          "text": [
            "성적합계 기준 정렬 결과(list): [('002', 90, 95), ('001', 100, 90), ('003', 95, 100)]\n",
            "성적합계 기준 정렬 결과(array):\n",
            " [array([ 2, 90, 95]), array([  1, 100,  90]), array([  3,  95, 100])]\n"
          ]
        }
      ]
    },
    {
      "cell_type": "code",
      "source": [
        "#sort_key_function = lambda row: row[1] + row[2]\n",
        "\n",
        "print('성적합계 기준 정렬 결과(list):',sorted(list2d,key=lambda row: row[1] + row[2]))\n",
        "print('성적합계 기준 정렬 결과(array):\\n',sorted(array2d,key=lambda row: row[1] + row[2]))"
      ],
      "metadata": {
        "colab": {
          "base_uri": "https://localhost:8080/"
        },
        "id": "qnWkrvrCU6Fz",
        "outputId": "f4fa24f8-8299-4a98-bdf8-fcadeedca8e3"
      },
      "execution_count": null,
      "outputs": [
        {
          "output_type": "stream",
          "name": "stdout",
          "text": [
            "성적합계 기준 정렬 결과(list): [('002', 90, 95), ('001', 100, 90), ('003', 95, 100)]\n",
            "성적합계 기준 정렬 결과(array):\n",
            " [array([ 2, 90, 95]), array([  1, 100,  90]), array([  3,  95, 100])]\n"
          ]
        }
      ]
    },
    {
      "cell_type": "code",
      "source": [
        "import numpy as np\n",
        "\n",
        "# 한행의 데이터 구성 : 학번, 중간고사, 기말고사\n",
        "list2d = [('002',90,95),('001',100,90),('003',95,100)]\n",
        "array2d = np.array([(2,90,95),(1,100,90),(3,95,100)])\n",
        "\n",
        "def sort_key_function(row):\n",
        "  id, midterm_score, final_score = row\n",
        "  #  return row[1] + row[2]           # 성적 합계\n",
        "  return midterm_score + final_score  # 성적 합계\n",
        "\n",
        "print('성적합계  기준 정렬 결과(list):',sorted(list2d,key=sort_key_function))\n",
        "print('성적합계  기준 정렬 결과(array):\\n',sorted(array2d,key=sort_key_function))"
      ],
      "metadata": {
        "colab": {
          "base_uri": "https://localhost:8080/"
        },
        "id": "JqaryFEwR15e",
        "outputId": "00adba88-f1b9-4478-8516-260952020dce"
      },
      "execution_count": null,
      "outputs": [
        {
          "output_type": "stream",
          "name": "stdout",
          "text": [
            "성적합계  기준 정렬 결과(list): [('002', 90, 95), ('001', 100, 90), ('003', 95, 100)]\n",
            "성적합계  기준 정렬 결과(array):\n",
            " [array([ 2, 90, 95]), array([  1, 100,  90]), array([  3,  95, 100])]\n"
          ]
        }
      ]
    },
    {
      "cell_type": "code",
      "source": [
        "packed_tuple = (1,2,3)\n",
        "_, value2, _ = packed_tuple\n",
        "print('value2:',value2)\n",
        "value1, *_ = packed_tuple\n",
        "print('value1:',value1)\n",
        "for value in packed_tuple:\n",
        "  print(value)"
      ],
      "metadata": {
        "colab": {
          "base_uri": "https://localhost:8080/"
        },
        "id": "cSAHFzWTRAzl",
        "outputId": "4c91d846-f517-4b8f-d17f-f07bea6752d0"
      },
      "execution_count": null,
      "outputs": [
        {
          "output_type": "stream",
          "name": "stdout",
          "text": [
            "value2: 2\n",
            "value1: 1\n",
            "1\n",
            "2\n",
            "3\n"
          ]
        }
      ]
    },
    {
      "cell_type": "code",
      "source": [
        "packed_dict = {'a':1,'b':2,'c':3}\n",
        "_, value2, _ = packed_dict.items()\n",
        "print('value2:',value2)\n",
        "value1, *_ = packed_dict.items()\n",
        "print('value1:',value1)\n",
        "for key, value in packed_dict.items():\n",
        "  print('(',key, ',',value,')')"
      ],
      "metadata": {
        "colab": {
          "base_uri": "https://localhost:8080/"
        },
        "id": "K3QVod5kRm9L",
        "outputId": "f36c3a01-fa62-45db-bf78-690f8d97a0dc"
      },
      "execution_count": null,
      "outputs": [
        {
          "output_type": "stream",
          "name": "stdout",
          "text": [
            "value2: ('b', 2)\n",
            "value1: ('a', 1)\n",
            "( a , 1 )\n",
            "( b , 2 )\n",
            "( c , 3 )\n"
          ]
        }
      ]
    },
    {
      "cell_type": "code",
      "source": [
        "midterm_scores = (100,90,95)\n",
        "\n",
        "print(enumerate(midterm_scores))\n",
        "for i, score in enumerate(midterm_scores):\n",
        "  print(i,score)\n",
        "print(list(enumerate(midterm_scores)))"
      ],
      "metadata": {
        "colab": {
          "base_uri": "https://localhost:8080/"
        },
        "id": "1Yi-hcQC49wY",
        "outputId": "b8f680e4-7b33-4161-e980-b8d28a5e5054"
      },
      "execution_count": null,
      "outputs": [
        {
          "output_type": "stream",
          "name": "stdout",
          "text": [
            "<enumerate object at 0x78a0dcb4f100>\n",
            "0 100\n",
            "1 90\n",
            "2 95\n",
            "[(0, 100), (1, 90), (2, 95)]\n"
          ]
        }
      ]
    },
    {
      "cell_type": "code",
      "source": [
        "print(list(enumerate(midterm_scores,start=1)))"
      ],
      "metadata": {
        "colab": {
          "base_uri": "https://localhost:8080/"
        },
        "id": "e_s7oqvwBtbx",
        "outputId": "abcf59c4-5c73-4683-df2b-9f91f54cb5ac"
      },
      "execution_count": null,
      "outputs": [
        {
          "output_type": "stream",
          "name": "stdout",
          "text": [
            "[(1, 100), (2, 90), (3, 95)]\n"
          ]
        }
      ]
    },
    {
      "cell_type": "code",
      "source": [
        "final_scores = (90,95,100)\n",
        "\n",
        "print(list(zip(enumerate(midterm_scores,start=1),final_scores)))"
      ],
      "metadata": {
        "colab": {
          "base_uri": "https://localhost:8080/"
        },
        "id": "nhpT59Hg9a96",
        "outputId": "4a46c30b-6f41-4afa-e6b9-bbe4f94d7200"
      },
      "execution_count": null,
      "outputs": [
        {
          "output_type": "stream",
          "name": "stdout",
          "text": [
            "[((1, 100), 90), ((2, 90), 95), ((3, 95), 100)]\n"
          ]
        }
      ]
    },
    {
      "cell_type": "code",
      "source": [
        "print(list(zip(range(1,4),midterm_scores,final_scores)))\n",
        "print(list(zip(range(1,len(midterm_scores)+1),midterm_scores,final_scores)))"
      ],
      "metadata": {
        "colab": {
          "base_uri": "https://localhost:8080/"
        },
        "id": "dTbBDyyhNep7",
        "outputId": "70cb530e-8827-4178-900f-7cb9f31712e3"
      },
      "execution_count": null,
      "outputs": [
        {
          "output_type": "stream",
          "name": "stdout",
          "text": [
            "[(1, 100, 90), (2, 90, 95), (3, 95, 100)]\n",
            "[(1, 100, 90), (2, 90, 95), (3, 95, 100)]\n"
          ]
        }
      ]
    }
  ]
}