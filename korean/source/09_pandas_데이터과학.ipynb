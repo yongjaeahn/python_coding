{
  "nbformat": 4,
  "nbformat_minor": 0,
  "metadata": {
    "colab": {
      "provenance": [],
      "authorship_tag": "ABX9TyPBEd+34B9gx6q2Aaem7bD7",
      "include_colab_link": true
    },
    "kernelspec": {
      "name": "python3",
      "display_name": "Python 3"
    },
    "language_info": {
      "name": "python"
    }
  },
  "cells": [
    {
      "cell_type": "markdown",
      "metadata": {
        "id": "view-in-github",
        "colab_type": "text"
      },
      "source": [
        "<a href=\"https://colab.research.google.com/github/yongjaeahn/PythonCoding/blob/main/korean/source/09_pandas_%EB%8D%B0%EC%9D%B4%ED%84%B0%EA%B3%BC%ED%95%99.ipynb\" target=\"_parent\"><img src=\"https://colab.research.google.com/assets/colab-badge.svg\" alt=\"Open In Colab\"/></a>"
      ]
    },
    {
      "cell_type": "markdown",
      "source": [
        "\t형변환으로 이해하는 pandas"
      ],
      "metadata": {
        "id": "GJuH_PwnzN51"
      }
    },
    {
      "cell_type": "markdown",
      "source": [
        "데이터프레임"
      ],
      "metadata": {
        "id": "rdVwEYoDod2H"
      }
    },
    {
      "cell_type": "code",
      "execution_count": null,
      "metadata": {
        "colab": {
          "base_uri": "https://localhost:8080/"
        },
        "id": "UuKxq4bHbWcq",
        "outputId": "c3a6e487-5772-4177-f542-aba6a9fa8f62"
      },
      "outputs": [
        {
          "output_type": "stream",
          "name": "stdout",
          "text": [
            "pandas 데이터프레임\n",
            "     국어  영어  수학   사탐  과탐\n",
            "0  100  90  95  100  80\n",
            "1   95  95  90  100  85\n",
            "numpy 배열\n",
            " [[100  90  95 100  80]\n",
            " [ 95  95  90 100  85]]\n",
            "pandas 데이터프레임\n",
            "      0   1   2    3   4\n",
            "0  100  90  95  100  80\n",
            "1   95  95  90  100  85\n"
          ]
        },
        {
          "output_type": "execute_result",
          "data": {
            "text/plain": [
              "dict"
            ]
          },
          "metadata": {},
          "execution_count": 1
        }
      ],
      "source": [
        "import numpy as np\n",
        "import pandas as pd\n",
        "\n",
        "dictVar = {'국어':[100,95],'영어':[90,95],'수학':[95,90],'사탐':[100,100],'과탐':[80,85]}\n",
        "\n",
        "pandasDataFrame = pd.DataFrame(dictVar)\n",
        "print('pandas 데이터프레임\\n',pandasDataFrame)\n",
        "\n",
        "numpyAyyay = np.array(pandasDataFrame)\n",
        "print('numpy 배열\\n',numpyAyyay)\n",
        "\n",
        "pandasDataFrame = pd.DataFrame(numpyAyyay)\n",
        "print('pandas 데이터프레임\\n',pandasDataFrame)"
      ]
    },
    {
      "cell_type": "code",
      "source": [
        "import numpy as np\n",
        "import pandas as pd\n",
        "\n",
        "dictVar = {'이름':['홍길동','강감찬'],'국어':[100,95],'영어':[90,95]}\n",
        "\n",
        "pandasDataFrame = pd.DataFrame(dictVar)\n",
        "print('pandas 데이터프레임\\n',pandasDataFrame)\n",
        "print('이름',pandasDataFrame['이름'][0],'의 자료형:\\t',type(pandasDataFrame['이름'][0]))\n",
        "print('성적',pandasDataFrame['국어'][0],'의 자료형:\\t',type(pandasDataFrame['국어'][0]))\n",
        "\n",
        "numpyAyyay = np.array(pandasDataFrame)\n",
        "print('numpy 배열\\n',numpyAyyay)\n",
        "print('이름',numpyAyyay[0][0],'의 자료형:\\t',type(numpyAyyay[0][0]))\n",
        "print('성적',numpyAyyay[0][1],'의 자료형:\\t',type(numpyAyyay[0][1]))"
      ],
      "metadata": {
        "colab": {
          "base_uri": "https://localhost:8080/"
        },
        "id": "sqcvz8bJ2mZC",
        "outputId": "ceed2d1f-a301-4873-95d3-15a337a32a9e"
      },
      "execution_count": null,
      "outputs": [
        {
          "output_type": "stream",
          "name": "stdout",
          "text": [
            "pandas 데이터프레임\n",
            "     이름   국어  영어\n",
            "0  홍길동  100  90\n",
            "1  강감찬   95  95\n",
            "이름 홍길동 의 자료형:\t <class 'str'>\n",
            "성적 100 의 자료형:\t <class 'numpy.int64'>\n",
            "numpy 배열\n",
            " [['홍길동' 100 90]\n",
            " ['강감찬' 95 95]]\n",
            "이름 홍길동 의 자료형:\t <class 'str'>\n",
            "성적 100 의 자료형:\t <class 'int'>\n"
          ]
        }
      ]
    },
    {
      "cell_type": "markdown",
      "source": [
        "시리즈"
      ],
      "metadata": {
        "id": "Wxy_4mg8okUH"
      }
    },
    {
      "cell_type": "code",
      "source": [
        "print('pandas 데이터프레임\\n',pandasDataFrame)\n",
        "print('pandas 열시리즈/열벡터')\n",
        "print(pandasDataFrame['이름'])\n",
        "print(pandasDataFrame['국어'])"
      ],
      "metadata": {
        "id": "IsomAVrTvjqu",
        "colab": {
          "base_uri": "https://localhost:8080/"
        },
        "outputId": "dfc5af59-8ffc-4335-c844-3df3ea1eb763"
      },
      "execution_count": null,
      "outputs": [
        {
          "output_type": "stream",
          "name": "stdout",
          "text": [
            "pandas 데이터프레임\n",
            "     이름   국어  영어\n",
            "0  홍길동  100  90\n",
            "1  강감찬   95  95\n",
            "pandas 열시리즈/열벡터\n",
            "0    홍길동\n",
            "1    강감찬\n",
            "Name: 이름, dtype: object\n",
            "0    100\n",
            "1     95\n",
            "Name: 국어, dtype: int64\n"
          ]
        }
      ]
    },
    {
      "cell_type": "code",
      "source": [
        "print(type(pandasDataFrame['이름']))\n",
        "print(type(pandasDataFrame['국어']))"
      ],
      "metadata": {
        "colab": {
          "base_uri": "https://localhost:8080/"
        },
        "id": "RCLBnCcIkd99",
        "outputId": "a8d3ef02-3ccb-4f99-cdc8-c5d4b7577ddf"
      },
      "execution_count": null,
      "outputs": [
        {
          "output_type": "stream",
          "name": "stdout",
          "text": [
            "<class 'pandas.core.series.Series'>\n",
            "<class 'pandas.core.series.Series'>\n"
          ]
        }
      ]
    },
    {
      "cell_type": "code",
      "source": [
        "print('pandas 데이터프레임\\n',pandasDataFrame)\n",
        "print('pandas 행시리즈/행벡터')\n",
        "print(pandasDataFrame[:,0])\n",
        "print(pandasDataFrame[:,1])"
      ],
      "metadata": {
        "colab": {
          "base_uri": "https://localhost:8080/",
          "height": 555
        },
        "id": "d1-PFehS6wNL",
        "outputId": "dc25d852-b24b-4134-da7c-fe1fa83846d2"
      },
      "execution_count": null,
      "outputs": [
        {
          "output_type": "stream",
          "name": "stdout",
          "text": [
            "pandas 데이터프레임\n",
            "     이름   국어  영어\n",
            "0  홍길동  100  90\n",
            "1  강감찬   95  95\n",
            "pandas 행시리즈/행벡터\n"
          ]
        },
        {
          "output_type": "error",
          "ename": "InvalidIndexError",
          "evalue": "ignored",
          "traceback": [
            "\u001b[0;31m---------------------------------------------------------------------------\u001b[0m",
            "\u001b[0;31mTypeError\u001b[0m                                 Traceback (most recent call last)",
            "\u001b[0;32m/usr/local/lib/python3.9/dist-packages/pandas/core/indexes/base.py\u001b[0m in \u001b[0;36mget_loc\u001b[0;34m(self, key, method, tolerance)\u001b[0m\n\u001b[1;32m   3628\u001b[0m             \u001b[0;32mtry\u001b[0m\u001b[0;34m:\u001b[0m\u001b[0;34m\u001b[0m\u001b[0;34m\u001b[0m\u001b[0m\n\u001b[0;32m-> 3629\u001b[0;31m                 \u001b[0;32mreturn\u001b[0m \u001b[0mself\u001b[0m\u001b[0;34m.\u001b[0m\u001b[0m_engine\u001b[0m\u001b[0;34m.\u001b[0m\u001b[0mget_loc\u001b[0m\u001b[0;34m(\u001b[0m\u001b[0mcasted_key\u001b[0m\u001b[0;34m)\u001b[0m\u001b[0;34m\u001b[0m\u001b[0;34m\u001b[0m\u001b[0m\n\u001b[0m\u001b[1;32m   3630\u001b[0m             \u001b[0;32mexcept\u001b[0m \u001b[0mKeyError\u001b[0m \u001b[0;32mas\u001b[0m \u001b[0merr\u001b[0m\u001b[0;34m:\u001b[0m\u001b[0;34m\u001b[0m\u001b[0;34m\u001b[0m\u001b[0m\n",
            "\u001b[0;32m/usr/local/lib/python3.9/dist-packages/pandas/_libs/index.pyx\u001b[0m in \u001b[0;36mpandas._libs.index.IndexEngine.get_loc\u001b[0;34m()\u001b[0m\n",
            "\u001b[0;32m/usr/local/lib/python3.9/dist-packages/pandas/_libs/index.pyx\u001b[0m in \u001b[0;36mpandas._libs.index.IndexEngine.get_loc\u001b[0;34m()\u001b[0m\n",
            "\u001b[0;31mTypeError\u001b[0m: '(slice(None, None, None), 0)' is an invalid key",
            "\nDuring handling of the above exception, another exception occurred:\n",
            "\u001b[0;31mInvalidIndexError\u001b[0m                         Traceback (most recent call last)",
            "\u001b[0;32m<ipython-input-19-3711387477c3>\u001b[0m in \u001b[0;36m<module>\u001b[0;34m\u001b[0m\n\u001b[1;32m      1\u001b[0m \u001b[0mprint\u001b[0m\u001b[0;34m(\u001b[0m\u001b[0;34m'pandas 데이터프레임\\n'\u001b[0m\u001b[0;34m,\u001b[0m\u001b[0mpandasDataFrame\u001b[0m\u001b[0;34m)\u001b[0m\u001b[0;34m\u001b[0m\u001b[0;34m\u001b[0m\u001b[0m\n\u001b[1;32m      2\u001b[0m \u001b[0mprint\u001b[0m\u001b[0;34m(\u001b[0m\u001b[0;34m'pandas 행시리즈/행벡터'\u001b[0m\u001b[0;34m)\u001b[0m\u001b[0;34m\u001b[0m\u001b[0;34m\u001b[0m\u001b[0m\n\u001b[0;32m----> 3\u001b[0;31m \u001b[0mprint\u001b[0m\u001b[0;34m(\u001b[0m\u001b[0mpandasDataFrame\u001b[0m\u001b[0;34m[\u001b[0m\u001b[0;34m:\u001b[0m\u001b[0;34m,\u001b[0m\u001b[0;36m0\u001b[0m\u001b[0;34m]\u001b[0m\u001b[0;34m)\u001b[0m\u001b[0;34m\u001b[0m\u001b[0;34m\u001b[0m\u001b[0m\n\u001b[0m\u001b[1;32m      4\u001b[0m \u001b[0mprint\u001b[0m\u001b[0;34m(\u001b[0m\u001b[0mpandasDataFrame\u001b[0m\u001b[0;34m[\u001b[0m\u001b[0;34m:\u001b[0m\u001b[0;34m,\u001b[0m\u001b[0;36m1\u001b[0m\u001b[0;34m]\u001b[0m\u001b[0;34m)\u001b[0m\u001b[0;34m\u001b[0m\u001b[0;34m\u001b[0m\u001b[0m\n",
            "\u001b[0;32m/usr/local/lib/python3.9/dist-packages/pandas/core/frame.py\u001b[0m in \u001b[0;36m__getitem__\u001b[0;34m(self, key)\u001b[0m\n\u001b[1;32m   3503\u001b[0m             \u001b[0;32mif\u001b[0m \u001b[0mself\u001b[0m\u001b[0;34m.\u001b[0m\u001b[0mcolumns\u001b[0m\u001b[0;34m.\u001b[0m\u001b[0mnlevels\u001b[0m \u001b[0;34m>\u001b[0m \u001b[0;36m1\u001b[0m\u001b[0;34m:\u001b[0m\u001b[0;34m\u001b[0m\u001b[0;34m\u001b[0m\u001b[0m\n\u001b[1;32m   3504\u001b[0m                 \u001b[0;32mreturn\u001b[0m \u001b[0mself\u001b[0m\u001b[0;34m.\u001b[0m\u001b[0m_getitem_multilevel\u001b[0m\u001b[0;34m(\u001b[0m\u001b[0mkey\u001b[0m\u001b[0;34m)\u001b[0m\u001b[0;34m\u001b[0m\u001b[0;34m\u001b[0m\u001b[0m\n\u001b[0;32m-> 3505\u001b[0;31m             \u001b[0mindexer\u001b[0m \u001b[0;34m=\u001b[0m \u001b[0mself\u001b[0m\u001b[0;34m.\u001b[0m\u001b[0mcolumns\u001b[0m\u001b[0;34m.\u001b[0m\u001b[0mget_loc\u001b[0m\u001b[0;34m(\u001b[0m\u001b[0mkey\u001b[0m\u001b[0;34m)\u001b[0m\u001b[0;34m\u001b[0m\u001b[0;34m\u001b[0m\u001b[0m\n\u001b[0m\u001b[1;32m   3506\u001b[0m             \u001b[0;32mif\u001b[0m \u001b[0mis_integer\u001b[0m\u001b[0;34m(\u001b[0m\u001b[0mindexer\u001b[0m\u001b[0;34m)\u001b[0m\u001b[0;34m:\u001b[0m\u001b[0;34m\u001b[0m\u001b[0;34m\u001b[0m\u001b[0m\n\u001b[1;32m   3507\u001b[0m                 \u001b[0mindexer\u001b[0m \u001b[0;34m=\u001b[0m \u001b[0;34m[\u001b[0m\u001b[0mindexer\u001b[0m\u001b[0;34m]\u001b[0m\u001b[0;34m\u001b[0m\u001b[0;34m\u001b[0m\u001b[0m\n",
            "\u001b[0;32m/usr/local/lib/python3.9/dist-packages/pandas/core/indexes/base.py\u001b[0m in \u001b[0;36mget_loc\u001b[0;34m(self, key, method, tolerance)\u001b[0m\n\u001b[1;32m   3634\u001b[0m                 \u001b[0;31m#  InvalidIndexError. Otherwise we fall through and re-raise\u001b[0m\u001b[0;34m\u001b[0m\u001b[0;34m\u001b[0m\u001b[0m\n\u001b[1;32m   3635\u001b[0m                 \u001b[0;31m#  the TypeError.\u001b[0m\u001b[0;34m\u001b[0m\u001b[0;34m\u001b[0m\u001b[0m\n\u001b[0;32m-> 3636\u001b[0;31m                 \u001b[0mself\u001b[0m\u001b[0;34m.\u001b[0m\u001b[0m_check_indexing_error\u001b[0m\u001b[0;34m(\u001b[0m\u001b[0mkey\u001b[0m\u001b[0;34m)\u001b[0m\u001b[0;34m\u001b[0m\u001b[0;34m\u001b[0m\u001b[0m\n\u001b[0m\u001b[1;32m   3637\u001b[0m                 \u001b[0;32mraise\u001b[0m\u001b[0;34m\u001b[0m\u001b[0;34m\u001b[0m\u001b[0m\n\u001b[1;32m   3638\u001b[0m \u001b[0;34m\u001b[0m\u001b[0m\n",
            "\u001b[0;32m/usr/local/lib/python3.9/dist-packages/pandas/core/indexes/base.py\u001b[0m in \u001b[0;36m_check_indexing_error\u001b[0;34m(self, key)\u001b[0m\n\u001b[1;32m   5649\u001b[0m             \u001b[0;31m# if key is not a scalar, directly raise an error (the code below\u001b[0m\u001b[0;34m\u001b[0m\u001b[0;34m\u001b[0m\u001b[0m\n\u001b[1;32m   5650\u001b[0m             \u001b[0;31m# would convert to numpy arrays and raise later any way) - GH29926\u001b[0m\u001b[0;34m\u001b[0m\u001b[0;34m\u001b[0m\u001b[0m\n\u001b[0;32m-> 5651\u001b[0;31m             \u001b[0;32mraise\u001b[0m \u001b[0mInvalidIndexError\u001b[0m\u001b[0;34m(\u001b[0m\u001b[0mkey\u001b[0m\u001b[0;34m)\u001b[0m\u001b[0;34m\u001b[0m\u001b[0;34m\u001b[0m\u001b[0m\n\u001b[0m\u001b[1;32m   5652\u001b[0m \u001b[0;34m\u001b[0m\u001b[0m\n\u001b[1;32m   5653\u001b[0m     \u001b[0;34m@\u001b[0m\u001b[0mcache_readonly\u001b[0m\u001b[0;34m\u001b[0m\u001b[0;34m\u001b[0m\u001b[0m\n",
            "\u001b[0;31mInvalidIndexError\u001b[0m: (slice(None, None, None), 0)"
          ]
        }
      ]
    },
    {
      "cell_type": "code",
      "source": [
        "print('pandas 데이터프레임\\n',pandasDataFrame)\n",
        "print('pandas 행시리즈/행벡터')\n",
        "print(pandasDataFrame.iloc[0])\n",
        "print(pandasDataFrame.iloc[1])"
      ],
      "metadata": {
        "colab": {
          "base_uri": "https://localhost:8080/"
        },
        "id": "r4frD5W24lce",
        "outputId": "375f46e7-642d-49a7-abdc-4e5ea7b2fcf1"
      },
      "execution_count": null,
      "outputs": [
        {
          "output_type": "stream",
          "name": "stdout",
          "text": [
            "pandas 데이터프레임\n",
            "     이름   국어  영어\n",
            "0  홍길동  100  90\n",
            "1  강감찬   95  95\n",
            "pandas 행시리즈/행벡터\n",
            "이름    홍길동\n",
            "국어    100\n",
            "영어     90\n",
            "Name: 0, dtype: object\n",
            "이름    강감찬\n",
            "국어     95\n",
            "영어     95\n",
            "Name: 1, dtype: object\n"
          ]
        }
      ]
    },
    {
      "cell_type": "code",
      "source": [
        "print(type(pandasDataFrame.iloc[0]))\n",
        "print(type(pandasDataFrame.iloc[1]))"
      ],
      "metadata": {
        "colab": {
          "base_uri": "https://localhost:8080/"
        },
        "id": "vCZpQPA69Pgu",
        "outputId": "c53cdfb0-69bd-4372-8961-62f4aeca5fb1"
      },
      "execution_count": null,
      "outputs": [
        {
          "output_type": "stream",
          "name": "stdout",
          "text": [
            "<class 'pandas.core.series.Series'>\n",
            "<class 'pandas.core.series.Series'>\n"
          ]
        }
      ]
    },
    {
      "cell_type": "code",
      "source": [
        "import pandas as pd\n",
        "import numpy as np\n",
        "\n",
        "korScores = pd.Series([100,95])\n",
        "engScores = pd.Series([90,95])\n",
        "randomSeries =  pd.Series(np.random.randn(2))\n",
        "\n",
        "print('국어성적\\n',korScores)\n",
        "print('영어성적\\n',engScores)\n",
        "print('난수시리즈\\n',randomSeries)"
      ],
      "metadata": {
        "colab": {
          "base_uri": "https://localhost:8080/"
        },
        "id": "oMa5yDHUEOcx",
        "outputId": "07e201ec-3151-4188-ab86-ff3438f8785e"
      },
      "execution_count": null,
      "outputs": [
        {
          "output_type": "stream",
          "name": "stdout",
          "text": [
            "국어성적\n",
            " 0    100\n",
            "1     95\n",
            "dtype: int64\n",
            "영어성적\n",
            " 0    90\n",
            "1    95\n",
            "dtype: int64\n",
            "난수시리즈\n",
            " 0    0.281626\n",
            "1    0.565690\n",
            "dtype: float64\n"
          ]
        }
      ]
    },
    {
      "cell_type": "code",
      "source": [
        "pandasDataFrame = pd.DataFrame({'국어':korScores,'영어':engScores,'난수':randomSeries})\n",
        "print('pandas 데이터프레임\\n',pandasDataFrame)"
      ],
      "metadata": {
        "colab": {
          "base_uri": "https://localhost:8080/"
        },
        "id": "8LHax37MGYrR",
        "outputId": "77c790ae-52fd-415f-ae5a-dd2258bdecc4"
      },
      "execution_count": null,
      "outputs": [
        {
          "output_type": "stream",
          "name": "stdout",
          "text": [
            "pandas 데이터프레임\n",
            "     국어  영어        난수\n",
            "0  100  90  0.281626\n",
            "1   95  95  0.565690\n"
          ]
        }
      ]
    },
    {
      "cell_type": "code",
      "source": [
        "print(pd.Series(np.arange(9).reshape(3,3)))"
      ],
      "metadata": {
        "colab": {
          "base_uri": "https://localhost:8080/",
          "height": 331
        },
        "id": "56NvlCjv3ZEl",
        "outputId": "4d5d67a4-5f8f-4abc-f2f9-886aa33e3897"
      },
      "execution_count": null,
      "outputs": [
        {
          "output_type": "error",
          "ename": "ValueError",
          "evalue": "ignored",
          "traceback": [
            "\u001b[0;31m---------------------------------------------------------------------------\u001b[0m",
            "\u001b[0;31mValueError\u001b[0m                                Traceback (most recent call last)",
            "\u001b[0;32m<ipython-input-14-a7d2dbc74df4>\u001b[0m in \u001b[0;36m<module>\u001b[0;34m\u001b[0m\n\u001b[0;32m----> 1\u001b[0;31m \u001b[0mprint\u001b[0m\u001b[0;34m(\u001b[0m\u001b[0mpd\u001b[0m\u001b[0;34m.\u001b[0m\u001b[0mSeries\u001b[0m\u001b[0;34m(\u001b[0m\u001b[0mnp\u001b[0m\u001b[0;34m.\u001b[0m\u001b[0marange\u001b[0m\u001b[0;34m(\u001b[0m\u001b[0;36m9\u001b[0m\u001b[0;34m)\u001b[0m\u001b[0;34m.\u001b[0m\u001b[0mreshape\u001b[0m\u001b[0;34m(\u001b[0m\u001b[0;36m3\u001b[0m\u001b[0;34m,\u001b[0m\u001b[0;36m3\u001b[0m\u001b[0;34m)\u001b[0m\u001b[0;34m)\u001b[0m\u001b[0;34m)\u001b[0m\u001b[0;34m\u001b[0m\u001b[0;34m\u001b[0m\u001b[0m\n\u001b[0m",
            "\u001b[0;32m/usr/local/lib/python3.9/dist-packages/pandas/core/series.py\u001b[0m in \u001b[0;36m__init__\u001b[0;34m(self, data, index, dtype, name, copy, fastpath)\u001b[0m\n\u001b[1;32m    449\u001b[0m                     \u001b[0mdata\u001b[0m \u001b[0;34m=\u001b[0m \u001b[0mdata\u001b[0m\u001b[0;34m.\u001b[0m\u001b[0mcopy\u001b[0m\u001b[0;34m(\u001b[0m\u001b[0;34m)\u001b[0m\u001b[0;34m\u001b[0m\u001b[0;34m\u001b[0m\u001b[0m\n\u001b[1;32m    450\u001b[0m             \u001b[0;32melse\u001b[0m\u001b[0;34m:\u001b[0m\u001b[0;34m\u001b[0m\u001b[0;34m\u001b[0m\u001b[0m\n\u001b[0;32m--> 451\u001b[0;31m                 \u001b[0mdata\u001b[0m \u001b[0;34m=\u001b[0m \u001b[0msanitize_array\u001b[0m\u001b[0;34m(\u001b[0m\u001b[0mdata\u001b[0m\u001b[0;34m,\u001b[0m \u001b[0mindex\u001b[0m\u001b[0;34m,\u001b[0m \u001b[0mdtype\u001b[0m\u001b[0;34m,\u001b[0m \u001b[0mcopy\u001b[0m\u001b[0;34m)\u001b[0m\u001b[0;34m\u001b[0m\u001b[0;34m\u001b[0m\u001b[0m\n\u001b[0m\u001b[1;32m    452\u001b[0m \u001b[0;34m\u001b[0m\u001b[0m\n\u001b[1;32m    453\u001b[0m                 \u001b[0mmanager\u001b[0m \u001b[0;34m=\u001b[0m \u001b[0mget_option\u001b[0m\u001b[0;34m(\u001b[0m\u001b[0;34m\"mode.data_manager\"\u001b[0m\u001b[0;34m)\u001b[0m\u001b[0;34m\u001b[0m\u001b[0;34m\u001b[0m\u001b[0m\n",
            "\u001b[0;32m/usr/local/lib/python3.9/dist-packages/pandas/core/construction.py\u001b[0m in \u001b[0;36msanitize_array\u001b[0;34m(data, index, dtype, copy, raise_cast_failure, allow_2d)\u001b[0m\n\u001b[1;32m    599\u001b[0m                 \u001b[0msubarr\u001b[0m \u001b[0;34m=\u001b[0m \u001b[0mmaybe_infer_to_datetimelike\u001b[0m\u001b[0;34m(\u001b[0m\u001b[0msubarr\u001b[0m\u001b[0;34m)\u001b[0m\u001b[0;34m\u001b[0m\u001b[0;34m\u001b[0m\u001b[0m\n\u001b[1;32m    600\u001b[0m \u001b[0;34m\u001b[0m\u001b[0m\n\u001b[0;32m--> 601\u001b[0;31m     \u001b[0msubarr\u001b[0m \u001b[0;34m=\u001b[0m \u001b[0m_sanitize_ndim\u001b[0m\u001b[0;34m(\u001b[0m\u001b[0msubarr\u001b[0m\u001b[0;34m,\u001b[0m \u001b[0mdata\u001b[0m\u001b[0;34m,\u001b[0m \u001b[0mdtype\u001b[0m\u001b[0;34m,\u001b[0m \u001b[0mindex\u001b[0m\u001b[0;34m,\u001b[0m \u001b[0mallow_2d\u001b[0m\u001b[0;34m=\u001b[0m\u001b[0mallow_2d\u001b[0m\u001b[0;34m)\u001b[0m\u001b[0;34m\u001b[0m\u001b[0;34m\u001b[0m\u001b[0m\n\u001b[0m\u001b[1;32m    602\u001b[0m \u001b[0;34m\u001b[0m\u001b[0m\n\u001b[1;32m    603\u001b[0m     \u001b[0;32mif\u001b[0m \u001b[0misinstance\u001b[0m\u001b[0;34m(\u001b[0m\u001b[0msubarr\u001b[0m\u001b[0;34m,\u001b[0m \u001b[0mnp\u001b[0m\u001b[0;34m.\u001b[0m\u001b[0mndarray\u001b[0m\u001b[0;34m)\u001b[0m\u001b[0;34m:\u001b[0m\u001b[0;34m\u001b[0m\u001b[0;34m\u001b[0m\u001b[0m\n",
            "\u001b[0;32m/usr/local/lib/python3.9/dist-packages/pandas/core/construction.py\u001b[0m in \u001b[0;36m_sanitize_ndim\u001b[0;34m(result, data, dtype, index, allow_2d)\u001b[0m\n\u001b[1;32m    650\u001b[0m             \u001b[0;32mif\u001b[0m \u001b[0mallow_2d\u001b[0m\u001b[0;34m:\u001b[0m\u001b[0;34m\u001b[0m\u001b[0;34m\u001b[0m\u001b[0m\n\u001b[1;32m    651\u001b[0m                 \u001b[0;32mreturn\u001b[0m \u001b[0mresult\u001b[0m\u001b[0;34m\u001b[0m\u001b[0;34m\u001b[0m\u001b[0m\n\u001b[0;32m--> 652\u001b[0;31m             \u001b[0;32mraise\u001b[0m \u001b[0mValueError\u001b[0m\u001b[0;34m(\u001b[0m\u001b[0;34m\"Data must be 1-dimensional\"\u001b[0m\u001b[0;34m)\u001b[0m\u001b[0;34m\u001b[0m\u001b[0;34m\u001b[0m\u001b[0m\n\u001b[0m\u001b[1;32m    653\u001b[0m         \u001b[0;32mif\u001b[0m \u001b[0mis_object_dtype\u001b[0m\u001b[0;34m(\u001b[0m\u001b[0mdtype\u001b[0m\u001b[0;34m)\u001b[0m \u001b[0;32mand\u001b[0m \u001b[0misinstance\u001b[0m\u001b[0;34m(\u001b[0m\u001b[0mdtype\u001b[0m\u001b[0;34m,\u001b[0m \u001b[0mExtensionDtype\u001b[0m\u001b[0;34m)\u001b[0m\u001b[0;34m:\u001b[0m\u001b[0;34m\u001b[0m\u001b[0;34m\u001b[0m\u001b[0m\n\u001b[1;32m    654\u001b[0m             \u001b[0;31m# i.e. PandasDtype(\"O\")\u001b[0m\u001b[0;34m\u001b[0m\u001b[0;34m\u001b[0m\u001b[0m\n",
            "\u001b[0;31mValueError\u001b[0m: Data must be 1-dimensional"
          ]
        }
      ]
    },
    {
      "cell_type": "code",
      "source": [
        "print(pd.DataFrame(np.arange(27).reshape(3,3,3)))"
      ],
      "metadata": {
        "colab": {
          "base_uri": "https://localhost:8080/",
          "height": 331
        },
        "id": "AQqnMmhB2MpF",
        "outputId": "e68a7ecc-4d85-4268-ea99-8baf421839d8"
      },
      "execution_count": null,
      "outputs": [
        {
          "output_type": "error",
          "ename": "ValueError",
          "evalue": "ignored",
          "traceback": [
            "\u001b[0;31m---------------------------------------------------------------------------\u001b[0m",
            "\u001b[0;31mValueError\u001b[0m                                Traceback (most recent call last)",
            "\u001b[0;32m<ipython-input-13-1ecb3207008f>\u001b[0m in \u001b[0;36m<module>\u001b[0;34m\u001b[0m\n\u001b[0;32m----> 1\u001b[0;31m \u001b[0mprint\u001b[0m\u001b[0;34m(\u001b[0m\u001b[0mpd\u001b[0m\u001b[0;34m.\u001b[0m\u001b[0mDataFrame\u001b[0m\u001b[0;34m(\u001b[0m\u001b[0mnp\u001b[0m\u001b[0;34m.\u001b[0m\u001b[0marange\u001b[0m\u001b[0;34m(\u001b[0m\u001b[0;36m1\u001b[0m\u001b[0;34m,\u001b[0m\u001b[0;36m28\u001b[0m\u001b[0;34m)\u001b[0m\u001b[0;34m.\u001b[0m\u001b[0mreshape\u001b[0m\u001b[0;34m(\u001b[0m\u001b[0;36m3\u001b[0m\u001b[0;34m,\u001b[0m\u001b[0;36m3\u001b[0m\u001b[0;34m,\u001b[0m\u001b[0;36m3\u001b[0m\u001b[0;34m)\u001b[0m\u001b[0;34m)\u001b[0m\u001b[0;34m)\u001b[0m\u001b[0;34m\u001b[0m\u001b[0;34m\u001b[0m\u001b[0m\n\u001b[0m",
            "\u001b[0;32m/usr/local/lib/python3.9/dist-packages/pandas/core/frame.py\u001b[0m in \u001b[0;36m__init__\u001b[0;34m(self, data, index, columns, dtype, copy)\u001b[0m\n\u001b[1;32m    692\u001b[0m                 )\n\u001b[1;32m    693\u001b[0m             \u001b[0;32melse\u001b[0m\u001b[0;34m:\u001b[0m\u001b[0;34m\u001b[0m\u001b[0;34m\u001b[0m\u001b[0m\n\u001b[0;32m--> 694\u001b[0;31m                 mgr = ndarray_to_mgr(\n\u001b[0m\u001b[1;32m    695\u001b[0m                     \u001b[0mdata\u001b[0m\u001b[0;34m,\u001b[0m\u001b[0;34m\u001b[0m\u001b[0;34m\u001b[0m\u001b[0m\n\u001b[1;32m    696\u001b[0m                     \u001b[0mindex\u001b[0m\u001b[0;34m,\u001b[0m\u001b[0;34m\u001b[0m\u001b[0;34m\u001b[0m\u001b[0m\n",
            "\u001b[0;32m/usr/local/lib/python3.9/dist-packages/pandas/core/internals/construction.py\u001b[0m in \u001b[0;36mndarray_to_mgr\u001b[0;34m(values, index, columns, dtype, copy, typ)\u001b[0m\n\u001b[1;32m    329\u001b[0m         \u001b[0;31m# by definition an array here\u001b[0m\u001b[0;34m\u001b[0m\u001b[0;34m\u001b[0m\u001b[0m\n\u001b[1;32m    330\u001b[0m         \u001b[0;31m# the dtypes will be coerced to a single dtype\u001b[0m\u001b[0;34m\u001b[0m\u001b[0;34m\u001b[0m\u001b[0m\n\u001b[0;32m--> 331\u001b[0;31m         \u001b[0mvalues\u001b[0m \u001b[0;34m=\u001b[0m \u001b[0m_prep_ndarray\u001b[0m\u001b[0;34m(\u001b[0m\u001b[0mvalues\u001b[0m\u001b[0;34m,\u001b[0m \u001b[0mcopy\u001b[0m\u001b[0;34m=\u001b[0m\u001b[0mcopy_on_sanitize\u001b[0m\u001b[0;34m)\u001b[0m\u001b[0;34m\u001b[0m\u001b[0;34m\u001b[0m\u001b[0m\n\u001b[0m\u001b[1;32m    332\u001b[0m \u001b[0;34m\u001b[0m\u001b[0m\n\u001b[1;32m    333\u001b[0m     \u001b[0;32mif\u001b[0m \u001b[0mdtype\u001b[0m \u001b[0;32mis\u001b[0m \u001b[0;32mnot\u001b[0m \u001b[0;32mNone\u001b[0m \u001b[0;32mand\u001b[0m \u001b[0;32mnot\u001b[0m \u001b[0mis_dtype_equal\u001b[0m\u001b[0;34m(\u001b[0m\u001b[0mvalues\u001b[0m\u001b[0;34m.\u001b[0m\u001b[0mdtype\u001b[0m\u001b[0;34m,\u001b[0m \u001b[0mdtype\u001b[0m\u001b[0;34m)\u001b[0m\u001b[0;34m:\u001b[0m\u001b[0;34m\u001b[0m\u001b[0;34m\u001b[0m\u001b[0m\n",
            "\u001b[0;32m/usr/local/lib/python3.9/dist-packages/pandas/core/internals/construction.py\u001b[0m in \u001b[0;36m_prep_ndarray\u001b[0;34m(values, copy)\u001b[0m\n\u001b[1;32m    589\u001b[0m         \u001b[0mvalues\u001b[0m \u001b[0;34m=\u001b[0m \u001b[0mvalues\u001b[0m\u001b[0;34m.\u001b[0m\u001b[0mreshape\u001b[0m\u001b[0;34m(\u001b[0m\u001b[0;34m(\u001b[0m\u001b[0mvalues\u001b[0m\u001b[0;34m.\u001b[0m\u001b[0mshape\u001b[0m\u001b[0;34m[\u001b[0m\u001b[0;36m0\u001b[0m\u001b[0;34m]\u001b[0m\u001b[0;34m,\u001b[0m \u001b[0;36m1\u001b[0m\u001b[0;34m)\u001b[0m\u001b[0;34m)\u001b[0m\u001b[0;34m\u001b[0m\u001b[0;34m\u001b[0m\u001b[0m\n\u001b[1;32m    590\u001b[0m     \u001b[0;32melif\u001b[0m \u001b[0mvalues\u001b[0m\u001b[0;34m.\u001b[0m\u001b[0mndim\u001b[0m \u001b[0;34m!=\u001b[0m \u001b[0;36m2\u001b[0m\u001b[0;34m:\u001b[0m\u001b[0;34m\u001b[0m\u001b[0;34m\u001b[0m\u001b[0m\n\u001b[0;32m--> 591\u001b[0;31m         \u001b[0;32mraise\u001b[0m \u001b[0mValueError\u001b[0m\u001b[0;34m(\u001b[0m\u001b[0;34mf\"Must pass 2-d input. shape={values.shape}\"\u001b[0m\u001b[0;34m)\u001b[0m\u001b[0;34m\u001b[0m\u001b[0;34m\u001b[0m\u001b[0m\n\u001b[0m\u001b[1;32m    592\u001b[0m \u001b[0;34m\u001b[0m\u001b[0m\n\u001b[1;32m    593\u001b[0m     \u001b[0;32mreturn\u001b[0m \u001b[0mvalues\u001b[0m\u001b[0;34m\u001b[0m\u001b[0;34m\u001b[0m\u001b[0m\n",
            "\u001b[0;31mValueError\u001b[0m: Must pass 2-d input. shape=(3, 3, 3)"
          ]
        }
      ]
    },
    {
      "cell_type": "code",
      "source": [
        "import pandas as pd\n",
        "\n",
        "pandasDataFrame = pd.DataFrame({'이름':['홍길동','강감찬'],'국어':[100,95],'영어':[90,95]})\n",
        "print('pandas 데이터프레임\\n',pandasDataFrame)\n",
        "\n",
        "print('데이터프레임의 덧셈\\n',pandasDataFrame + 3)\n",
        "print('데이터프레임의 뺄셈\\n',pandasDataFrame - 3)\n",
        "print('데이터프레임의 곱셈\\n',pandasDataFrame * 3)\n",
        "print('데이터프레임의 나눗셈\\n',pandasDataFrame / 3)\n",
        "print('데이터프레임의 자승\\n',pandasDataFrame ** 3)"
      ],
      "metadata": {
        "colab": {
          "base_uri": "https://localhost:8080/",
          "height": 536
        },
        "id": "HYxy6-HUB8uU",
        "outputId": "ea034f04-a32b-4cfc-8114-ef0290e6bc0b"
      },
      "execution_count": null,
      "outputs": [
        {
          "output_type": "stream",
          "name": "stdout",
          "text": [
            "pandas 데이터프레임\n",
            "     이름   국어  영어\n",
            "0  홍길동  100  90\n",
            "1  강감찬   95  95\n"
          ]
        },
        {
          "output_type": "error",
          "ename": "TypeError",
          "evalue": "ignored",
          "traceback": [
            "\u001b[0;31m---------------------------------------------------------------------------\u001b[0m",
            "\u001b[0;31mTypeError\u001b[0m                                 Traceback (most recent call last)",
            "\u001b[0;32m/usr/local/lib/python3.9/dist-packages/pandas/core/ops/array_ops.py\u001b[0m in \u001b[0;36m_na_arithmetic_op\u001b[0;34m(left, right, op, is_cmp)\u001b[0m\n\u001b[1;32m    162\u001b[0m     \u001b[0;32mtry\u001b[0m\u001b[0;34m:\u001b[0m\u001b[0;34m\u001b[0m\u001b[0;34m\u001b[0m\u001b[0m\n\u001b[0;32m--> 163\u001b[0;31m         \u001b[0mresult\u001b[0m \u001b[0;34m=\u001b[0m \u001b[0mfunc\u001b[0m\u001b[0;34m(\u001b[0m\u001b[0mleft\u001b[0m\u001b[0;34m,\u001b[0m \u001b[0mright\u001b[0m\u001b[0;34m)\u001b[0m\u001b[0;34m\u001b[0m\u001b[0;34m\u001b[0m\u001b[0m\n\u001b[0m\u001b[1;32m    164\u001b[0m     \u001b[0;32mexcept\u001b[0m \u001b[0mTypeError\u001b[0m\u001b[0;34m:\u001b[0m\u001b[0;34m\u001b[0m\u001b[0;34m\u001b[0m\u001b[0m\n",
            "\u001b[0;32m/usr/local/lib/python3.9/dist-packages/pandas/core/computation/expressions.py\u001b[0m in \u001b[0;36mevaluate\u001b[0;34m(op, a, b, use_numexpr)\u001b[0m\n\u001b[1;32m    238\u001b[0m             \u001b[0;31m# error: \"None\" not callable\u001b[0m\u001b[0;34m\u001b[0m\u001b[0;34m\u001b[0m\u001b[0m\n\u001b[0;32m--> 239\u001b[0;31m             \u001b[0;32mreturn\u001b[0m \u001b[0m_evaluate\u001b[0m\u001b[0;34m(\u001b[0m\u001b[0mop\u001b[0m\u001b[0;34m,\u001b[0m \u001b[0mop_str\u001b[0m\u001b[0;34m,\u001b[0m \u001b[0ma\u001b[0m\u001b[0;34m,\u001b[0m \u001b[0mb\u001b[0m\u001b[0;34m)\u001b[0m  \u001b[0;31m# type: ignore[misc]\u001b[0m\u001b[0;34m\u001b[0m\u001b[0;34m\u001b[0m\u001b[0m\n\u001b[0m\u001b[1;32m    240\u001b[0m     \u001b[0;32mreturn\u001b[0m \u001b[0m_evaluate_standard\u001b[0m\u001b[0;34m(\u001b[0m\u001b[0mop\u001b[0m\u001b[0;34m,\u001b[0m \u001b[0mop_str\u001b[0m\u001b[0;34m,\u001b[0m \u001b[0ma\u001b[0m\u001b[0;34m,\u001b[0m \u001b[0mb\u001b[0m\u001b[0;34m)\u001b[0m\u001b[0;34m\u001b[0m\u001b[0;34m\u001b[0m\u001b[0m\n",
            "\u001b[0;32m/usr/local/lib/python3.9/dist-packages/pandas/core/computation/expressions.py\u001b[0m in \u001b[0;36m_evaluate_numexpr\u001b[0;34m(op, op_str, a, b)\u001b[0m\n\u001b[1;32m    127\u001b[0m     \u001b[0;32mif\u001b[0m \u001b[0mresult\u001b[0m \u001b[0;32mis\u001b[0m \u001b[0;32mNone\u001b[0m\u001b[0;34m:\u001b[0m\u001b[0;34m\u001b[0m\u001b[0;34m\u001b[0m\u001b[0m\n\u001b[0;32m--> 128\u001b[0;31m         \u001b[0mresult\u001b[0m \u001b[0;34m=\u001b[0m \u001b[0m_evaluate_standard\u001b[0m\u001b[0;34m(\u001b[0m\u001b[0mop\u001b[0m\u001b[0;34m,\u001b[0m \u001b[0mop_str\u001b[0m\u001b[0;34m,\u001b[0m \u001b[0ma\u001b[0m\u001b[0;34m,\u001b[0m \u001b[0mb\u001b[0m\u001b[0;34m)\u001b[0m\u001b[0;34m\u001b[0m\u001b[0;34m\u001b[0m\u001b[0m\n\u001b[0m\u001b[1;32m    129\u001b[0m \u001b[0;34m\u001b[0m\u001b[0m\n",
            "\u001b[0;32m/usr/local/lib/python3.9/dist-packages/pandas/core/computation/expressions.py\u001b[0m in \u001b[0;36m_evaluate_standard\u001b[0;34m(op, op_str, a, b)\u001b[0m\n\u001b[1;32m     68\u001b[0m         \u001b[0m_store_test_result\u001b[0m\u001b[0;34m(\u001b[0m\u001b[0;32mFalse\u001b[0m\u001b[0;34m)\u001b[0m\u001b[0;34m\u001b[0m\u001b[0;34m\u001b[0m\u001b[0m\n\u001b[0;32m---> 69\u001b[0;31m     \u001b[0;32mreturn\u001b[0m \u001b[0mop\u001b[0m\u001b[0;34m(\u001b[0m\u001b[0ma\u001b[0m\u001b[0;34m,\u001b[0m \u001b[0mb\u001b[0m\u001b[0;34m)\u001b[0m\u001b[0;34m\u001b[0m\u001b[0;34m\u001b[0m\u001b[0m\n\u001b[0m\u001b[1;32m     70\u001b[0m \u001b[0;34m\u001b[0m\u001b[0m\n",
            "\u001b[0;31mTypeError\u001b[0m: can only concatenate str (not \"int\") to str",
            "\nDuring handling of the above exception, another exception occurred:\n",
            "\u001b[0;31mTypeError\u001b[0m                                 Traceback (most recent call last)",
            "\u001b[0;32m<ipython-input-9-31dc90526a12>\u001b[0m in \u001b[0;36m<cell line: 6>\u001b[0;34m()\u001b[0m\n\u001b[1;32m      4\u001b[0m \u001b[0mprint\u001b[0m\u001b[0;34m(\u001b[0m\u001b[0;34m'pandas 데이터프레임\\n'\u001b[0m\u001b[0;34m,\u001b[0m\u001b[0mpandasDataFrame\u001b[0m\u001b[0;34m)\u001b[0m\u001b[0;34m\u001b[0m\u001b[0;34m\u001b[0m\u001b[0m\n\u001b[1;32m      5\u001b[0m \u001b[0;34m\u001b[0m\u001b[0m\n\u001b[0;32m----> 6\u001b[0;31m \u001b[0mprint\u001b[0m\u001b[0;34m(\u001b[0m\u001b[0;34m'데이터프레임의 덧셈\\n'\u001b[0m\u001b[0;34m,\u001b[0m\u001b[0mpandasDataFrame\u001b[0m \u001b[0;34m+\u001b[0m \u001b[0;36m3\u001b[0m\u001b[0;34m)\u001b[0m\u001b[0;34m\u001b[0m\u001b[0;34m\u001b[0m\u001b[0m\n\u001b[0m\u001b[1;32m      7\u001b[0m \u001b[0mprint\u001b[0m\u001b[0;34m(\u001b[0m\u001b[0;34m'데이터프레임의 뺄셈\\n'\u001b[0m\u001b[0;34m,\u001b[0m\u001b[0mpandasDataFrame\u001b[0m \u001b[0;34m-\u001b[0m \u001b[0;36m3\u001b[0m\u001b[0;34m)\u001b[0m\u001b[0;34m\u001b[0m\u001b[0;34m\u001b[0m\u001b[0m\n\u001b[1;32m      8\u001b[0m \u001b[0mprint\u001b[0m\u001b[0;34m(\u001b[0m\u001b[0;34m'데이터프레임의 곱셈\\n'\u001b[0m\u001b[0;34m,\u001b[0m\u001b[0mpandasDataFrame\u001b[0m \u001b[0;34m*\u001b[0m \u001b[0;36m3\u001b[0m\u001b[0;34m)\u001b[0m\u001b[0;34m\u001b[0m\u001b[0;34m\u001b[0m\u001b[0m\n",
            "\u001b[0;32m/usr/local/lib/python3.9/dist-packages/pandas/core/ops/common.py\u001b[0m in \u001b[0;36mnew_method\u001b[0;34m(self, other)\u001b[0m\n\u001b[1;32m     68\u001b[0m         \u001b[0mother\u001b[0m \u001b[0;34m=\u001b[0m \u001b[0mitem_from_zerodim\u001b[0m\u001b[0;34m(\u001b[0m\u001b[0mother\u001b[0m\u001b[0;34m)\u001b[0m\u001b[0;34m\u001b[0m\u001b[0;34m\u001b[0m\u001b[0m\n\u001b[1;32m     69\u001b[0m \u001b[0;34m\u001b[0m\u001b[0m\n\u001b[0;32m---> 70\u001b[0;31m         \u001b[0;32mreturn\u001b[0m \u001b[0mmethod\u001b[0m\u001b[0;34m(\u001b[0m\u001b[0mself\u001b[0m\u001b[0;34m,\u001b[0m \u001b[0mother\u001b[0m\u001b[0;34m)\u001b[0m\u001b[0;34m\u001b[0m\u001b[0;34m\u001b[0m\u001b[0m\n\u001b[0m\u001b[1;32m     71\u001b[0m \u001b[0;34m\u001b[0m\u001b[0m\n\u001b[1;32m     72\u001b[0m     \u001b[0;32mreturn\u001b[0m \u001b[0mnew_method\u001b[0m\u001b[0;34m\u001b[0m\u001b[0;34m\u001b[0m\u001b[0m\n",
            "\u001b[0;32m/usr/local/lib/python3.9/dist-packages/pandas/core/arraylike.py\u001b[0m in \u001b[0;36m__add__\u001b[0;34m(self, other)\u001b[0m\n\u001b[1;32m     98\u001b[0m     \u001b[0;34m@\u001b[0m\u001b[0munpack_zerodim_and_defer\u001b[0m\u001b[0;34m(\u001b[0m\u001b[0;34m\"__add__\"\u001b[0m\u001b[0;34m)\u001b[0m\u001b[0;34m\u001b[0m\u001b[0;34m\u001b[0m\u001b[0m\n\u001b[1;32m     99\u001b[0m     \u001b[0;32mdef\u001b[0m \u001b[0m__add__\u001b[0m\u001b[0;34m(\u001b[0m\u001b[0mself\u001b[0m\u001b[0;34m,\u001b[0m \u001b[0mother\u001b[0m\u001b[0;34m)\u001b[0m\u001b[0;34m:\u001b[0m\u001b[0;34m\u001b[0m\u001b[0;34m\u001b[0m\u001b[0m\n\u001b[0;32m--> 100\u001b[0;31m         \u001b[0;32mreturn\u001b[0m \u001b[0mself\u001b[0m\u001b[0;34m.\u001b[0m\u001b[0m_arith_method\u001b[0m\u001b[0;34m(\u001b[0m\u001b[0mother\u001b[0m\u001b[0;34m,\u001b[0m \u001b[0moperator\u001b[0m\u001b[0;34m.\u001b[0m\u001b[0madd\u001b[0m\u001b[0;34m)\u001b[0m\u001b[0;34m\u001b[0m\u001b[0;34m\u001b[0m\u001b[0m\n\u001b[0m\u001b[1;32m    101\u001b[0m \u001b[0;34m\u001b[0m\u001b[0m\n\u001b[1;32m    102\u001b[0m     \u001b[0;34m@\u001b[0m\u001b[0munpack_zerodim_and_defer\u001b[0m\u001b[0;34m(\u001b[0m\u001b[0;34m\"__radd__\"\u001b[0m\u001b[0;34m)\u001b[0m\u001b[0;34m\u001b[0m\u001b[0;34m\u001b[0m\u001b[0m\n",
            "\u001b[0;32m/usr/local/lib/python3.9/dist-packages/pandas/core/frame.py\u001b[0m in \u001b[0;36m_arith_method\u001b[0;34m(self, other, op)\u001b[0m\n\u001b[1;32m   6953\u001b[0m         \u001b[0mself\u001b[0m\u001b[0;34m,\u001b[0m \u001b[0mother\u001b[0m \u001b[0;34m=\u001b[0m \u001b[0mops\u001b[0m\u001b[0;34m.\u001b[0m\u001b[0malign_method_FRAME\u001b[0m\u001b[0;34m(\u001b[0m\u001b[0mself\u001b[0m\u001b[0;34m,\u001b[0m \u001b[0mother\u001b[0m\u001b[0;34m,\u001b[0m \u001b[0maxis\u001b[0m\u001b[0;34m,\u001b[0m \u001b[0mflex\u001b[0m\u001b[0;34m=\u001b[0m\u001b[0;32mTrue\u001b[0m\u001b[0;34m,\u001b[0m \u001b[0mlevel\u001b[0m\u001b[0;34m=\u001b[0m\u001b[0;32mNone\u001b[0m\u001b[0;34m)\u001b[0m\u001b[0;34m\u001b[0m\u001b[0;34m\u001b[0m\u001b[0m\n\u001b[1;32m   6954\u001b[0m \u001b[0;34m\u001b[0m\u001b[0m\n\u001b[0;32m-> 6955\u001b[0;31m         \u001b[0mnew_data\u001b[0m \u001b[0;34m=\u001b[0m \u001b[0mself\u001b[0m\u001b[0;34m.\u001b[0m\u001b[0m_dispatch_frame_op\u001b[0m\u001b[0;34m(\u001b[0m\u001b[0mother\u001b[0m\u001b[0;34m,\u001b[0m \u001b[0mop\u001b[0m\u001b[0;34m,\u001b[0m \u001b[0maxis\u001b[0m\u001b[0;34m=\u001b[0m\u001b[0maxis\u001b[0m\u001b[0;34m)\u001b[0m\u001b[0;34m\u001b[0m\u001b[0;34m\u001b[0m\u001b[0m\n\u001b[0m\u001b[1;32m   6956\u001b[0m         \u001b[0;32mreturn\u001b[0m \u001b[0mself\u001b[0m\u001b[0;34m.\u001b[0m\u001b[0m_construct_result\u001b[0m\u001b[0;34m(\u001b[0m\u001b[0mnew_data\u001b[0m\u001b[0;34m)\u001b[0m\u001b[0;34m\u001b[0m\u001b[0;34m\u001b[0m\u001b[0m\n\u001b[1;32m   6957\u001b[0m \u001b[0;34m\u001b[0m\u001b[0m\n",
            "\u001b[0;32m/usr/local/lib/python3.9/dist-packages/pandas/core/frame.py\u001b[0m in \u001b[0;36m_dispatch_frame_op\u001b[0;34m(self, right, func, axis)\u001b[0m\n\u001b[1;32m   6980\u001b[0m             \u001b[0;31m# i.e. scalar, faster than checking np.ndim(right) == 0\u001b[0m\u001b[0;34m\u001b[0m\u001b[0;34m\u001b[0m\u001b[0m\n\u001b[1;32m   6981\u001b[0m             \u001b[0;32mwith\u001b[0m \u001b[0mnp\u001b[0m\u001b[0;34m.\u001b[0m\u001b[0merrstate\u001b[0m\u001b[0;34m(\u001b[0m\u001b[0mall\u001b[0m\u001b[0;34m=\u001b[0m\u001b[0;34m\"ignore\"\u001b[0m\u001b[0;34m)\u001b[0m\u001b[0;34m:\u001b[0m\u001b[0;34m\u001b[0m\u001b[0;34m\u001b[0m\u001b[0m\n\u001b[0;32m-> 6982\u001b[0;31m                 \u001b[0mbm\u001b[0m \u001b[0;34m=\u001b[0m \u001b[0mself\u001b[0m\u001b[0;34m.\u001b[0m\u001b[0m_mgr\u001b[0m\u001b[0;34m.\u001b[0m\u001b[0mapply\u001b[0m\u001b[0;34m(\u001b[0m\u001b[0marray_op\u001b[0m\u001b[0;34m,\u001b[0m \u001b[0mright\u001b[0m\u001b[0;34m=\u001b[0m\u001b[0mright\u001b[0m\u001b[0;34m)\u001b[0m\u001b[0;34m\u001b[0m\u001b[0;34m\u001b[0m\u001b[0m\n\u001b[0m\u001b[1;32m   6983\u001b[0m             \u001b[0;32mreturn\u001b[0m \u001b[0mself\u001b[0m\u001b[0;34m.\u001b[0m\u001b[0m_constructor\u001b[0m\u001b[0;34m(\u001b[0m\u001b[0mbm\u001b[0m\u001b[0;34m)\u001b[0m\u001b[0;34m\u001b[0m\u001b[0;34m\u001b[0m\u001b[0m\n\u001b[1;32m   6984\u001b[0m \u001b[0;34m\u001b[0m\u001b[0m\n",
            "\u001b[0;32m/usr/local/lib/python3.9/dist-packages/pandas/core/internals/managers.py\u001b[0m in \u001b[0;36mapply\u001b[0;34m(self, f, align_keys, ignore_failures, **kwargs)\u001b[0m\n\u001b[1;32m    300\u001b[0m             \u001b[0;32mtry\u001b[0m\u001b[0;34m:\u001b[0m\u001b[0;34m\u001b[0m\u001b[0;34m\u001b[0m\u001b[0m\n\u001b[1;32m    301\u001b[0m                 \u001b[0;32mif\u001b[0m \u001b[0mcallable\u001b[0m\u001b[0;34m(\u001b[0m\u001b[0mf\u001b[0m\u001b[0;34m)\u001b[0m\u001b[0;34m:\u001b[0m\u001b[0;34m\u001b[0m\u001b[0;34m\u001b[0m\u001b[0m\n\u001b[0;32m--> 302\u001b[0;31m                     \u001b[0mapplied\u001b[0m \u001b[0;34m=\u001b[0m \u001b[0mb\u001b[0m\u001b[0;34m.\u001b[0m\u001b[0mapply\u001b[0m\u001b[0;34m(\u001b[0m\u001b[0mf\u001b[0m\u001b[0;34m,\u001b[0m \u001b[0;34m**\u001b[0m\u001b[0mkwargs\u001b[0m\u001b[0;34m)\u001b[0m\u001b[0;34m\u001b[0m\u001b[0;34m\u001b[0m\u001b[0m\n\u001b[0m\u001b[1;32m    303\u001b[0m                 \u001b[0;32melse\u001b[0m\u001b[0;34m:\u001b[0m\u001b[0;34m\u001b[0m\u001b[0;34m\u001b[0m\u001b[0m\n\u001b[1;32m    304\u001b[0m                     \u001b[0mapplied\u001b[0m \u001b[0;34m=\u001b[0m \u001b[0mgetattr\u001b[0m\u001b[0;34m(\u001b[0m\u001b[0mb\u001b[0m\u001b[0;34m,\u001b[0m \u001b[0mf\u001b[0m\u001b[0;34m)\u001b[0m\u001b[0;34m(\u001b[0m\u001b[0;34m**\u001b[0m\u001b[0mkwargs\u001b[0m\u001b[0;34m)\u001b[0m\u001b[0;34m\u001b[0m\u001b[0;34m\u001b[0m\u001b[0m\n",
            "\u001b[0;32m/usr/local/lib/python3.9/dist-packages/pandas/core/internals/blocks.py\u001b[0m in \u001b[0;36mapply\u001b[0;34m(self, func, **kwargs)\u001b[0m\n\u001b[1;32m    400\u001b[0m         \u001b[0mone\u001b[0m\u001b[0;34m\u001b[0m\u001b[0;34m\u001b[0m\u001b[0m\n\u001b[1;32m    401\u001b[0m         \"\"\"\n\u001b[0;32m--> 402\u001b[0;31m         \u001b[0mresult\u001b[0m \u001b[0;34m=\u001b[0m \u001b[0mfunc\u001b[0m\u001b[0;34m(\u001b[0m\u001b[0mself\u001b[0m\u001b[0;34m.\u001b[0m\u001b[0mvalues\u001b[0m\u001b[0;34m,\u001b[0m \u001b[0;34m**\u001b[0m\u001b[0mkwargs\u001b[0m\u001b[0;34m)\u001b[0m\u001b[0;34m\u001b[0m\u001b[0;34m\u001b[0m\u001b[0m\n\u001b[0m\u001b[1;32m    403\u001b[0m \u001b[0;34m\u001b[0m\u001b[0m\n\u001b[1;32m    404\u001b[0m         \u001b[0;32mreturn\u001b[0m \u001b[0mself\u001b[0m\u001b[0;34m.\u001b[0m\u001b[0m_split_op_result\u001b[0m\u001b[0;34m(\u001b[0m\u001b[0mresult\u001b[0m\u001b[0;34m)\u001b[0m\u001b[0;34m\u001b[0m\u001b[0;34m\u001b[0m\u001b[0m\n",
            "\u001b[0;32m/usr/local/lib/python3.9/dist-packages/pandas/core/ops/array_ops.py\u001b[0m in \u001b[0;36marithmetic_op\u001b[0;34m(left, right, op)\u001b[0m\n\u001b[1;32m    220\u001b[0m         \u001b[0m_bool_arith_check\u001b[0m\u001b[0;34m(\u001b[0m\u001b[0mop\u001b[0m\u001b[0;34m,\u001b[0m \u001b[0mleft\u001b[0m\u001b[0;34m,\u001b[0m \u001b[0mright\u001b[0m\u001b[0;34m)\u001b[0m\u001b[0;34m\u001b[0m\u001b[0;34m\u001b[0m\u001b[0m\n\u001b[1;32m    221\u001b[0m \u001b[0;34m\u001b[0m\u001b[0m\n\u001b[0;32m--> 222\u001b[0;31m         \u001b[0mres_values\u001b[0m \u001b[0;34m=\u001b[0m \u001b[0m_na_arithmetic_op\u001b[0m\u001b[0;34m(\u001b[0m\u001b[0mleft\u001b[0m\u001b[0;34m,\u001b[0m \u001b[0mright\u001b[0m\u001b[0;34m,\u001b[0m \u001b[0mop\u001b[0m\u001b[0;34m)\u001b[0m\u001b[0;34m\u001b[0m\u001b[0;34m\u001b[0m\u001b[0m\n\u001b[0m\u001b[1;32m    223\u001b[0m \u001b[0;34m\u001b[0m\u001b[0m\n\u001b[1;32m    224\u001b[0m     \u001b[0;32mreturn\u001b[0m \u001b[0mres_values\u001b[0m\u001b[0;34m\u001b[0m\u001b[0;34m\u001b[0m\u001b[0m\n",
            "\u001b[0;32m/usr/local/lib/python3.9/dist-packages/pandas/core/ops/array_ops.py\u001b[0m in \u001b[0;36m_na_arithmetic_op\u001b[0;34m(left, right, op, is_cmp)\u001b[0m\n\u001b[1;32m    168\u001b[0m             \u001b[0;31m# Don't do this for comparisons, as that will handle complex numbers\u001b[0m\u001b[0;34m\u001b[0m\u001b[0;34m\u001b[0m\u001b[0m\n\u001b[1;32m    169\u001b[0m             \u001b[0;31m#  incorrectly, see GH#32047\u001b[0m\u001b[0;34m\u001b[0m\u001b[0;34m\u001b[0m\u001b[0m\n\u001b[0;32m--> 170\u001b[0;31m             \u001b[0mresult\u001b[0m \u001b[0;34m=\u001b[0m \u001b[0m_masked_arith_op\u001b[0m\u001b[0;34m(\u001b[0m\u001b[0mleft\u001b[0m\u001b[0;34m,\u001b[0m \u001b[0mright\u001b[0m\u001b[0;34m,\u001b[0m \u001b[0mop\u001b[0m\u001b[0;34m)\u001b[0m\u001b[0;34m\u001b[0m\u001b[0;34m\u001b[0m\u001b[0m\n\u001b[0m\u001b[1;32m    171\u001b[0m         \u001b[0;32melse\u001b[0m\u001b[0;34m:\u001b[0m\u001b[0;34m\u001b[0m\u001b[0;34m\u001b[0m\u001b[0m\n\u001b[1;32m    172\u001b[0m             \u001b[0;32mraise\u001b[0m\u001b[0;34m\u001b[0m\u001b[0;34m\u001b[0m\u001b[0m\n",
            "\u001b[0;32m/usr/local/lib/python3.9/dist-packages/pandas/core/ops/array_ops.py\u001b[0m in \u001b[0;36m_masked_arith_op\u001b[0;34m(x, y, op)\u001b[0m\n\u001b[1;32m    125\u001b[0m \u001b[0;34m\u001b[0m\u001b[0m\n\u001b[1;32m    126\u001b[0m         \u001b[0;32mif\u001b[0m \u001b[0mmask\u001b[0m\u001b[0;34m.\u001b[0m\u001b[0many\u001b[0m\u001b[0;34m(\u001b[0m\u001b[0;34m)\u001b[0m\u001b[0;34m:\u001b[0m\u001b[0;34m\u001b[0m\u001b[0;34m\u001b[0m\u001b[0m\n\u001b[0;32m--> 127\u001b[0;31m             \u001b[0mresult\u001b[0m\u001b[0;34m[\u001b[0m\u001b[0mmask\u001b[0m\u001b[0;34m]\u001b[0m \u001b[0;34m=\u001b[0m \u001b[0mop\u001b[0m\u001b[0;34m(\u001b[0m\u001b[0mxrav\u001b[0m\u001b[0;34m[\u001b[0m\u001b[0mmask\u001b[0m\u001b[0;34m]\u001b[0m\u001b[0;34m,\u001b[0m \u001b[0my\u001b[0m\u001b[0;34m)\u001b[0m\u001b[0;34m\u001b[0m\u001b[0;34m\u001b[0m\u001b[0m\n\u001b[0m\u001b[1;32m    128\u001b[0m \u001b[0;34m\u001b[0m\u001b[0m\n\u001b[1;32m    129\u001b[0m     \u001b[0mnp\u001b[0m\u001b[0;34m.\u001b[0m\u001b[0mputmask\u001b[0m\u001b[0;34m(\u001b[0m\u001b[0mresult\u001b[0m\u001b[0;34m,\u001b[0m \u001b[0;34m~\u001b[0m\u001b[0mmask\u001b[0m\u001b[0;34m,\u001b[0m \u001b[0mnp\u001b[0m\u001b[0;34m.\u001b[0m\u001b[0mnan\u001b[0m\u001b[0;34m)\u001b[0m\u001b[0;34m\u001b[0m\u001b[0;34m\u001b[0m\u001b[0m\n",
            "\u001b[0;31mTypeError\u001b[0m: can only concatenate str (not \"int\") to str"
          ]
        }
      ]
    },
    {
      "cell_type": "code",
      "source": [
        "print('시리즈와 스칼라 연산\\n',pandasDataFrame['국어'] * 0.1)\n",
        "print('시리즈간의 연산\\n',pandasDataFrame['국어'] + pandasDataFrame['영어'])\n",
        "print('시리즈를 대상으로 함수 호출:', sum(pandasDataFrame['국어']))"
      ],
      "metadata": {
        "colab": {
          "base_uri": "https://localhost:8080/"
        },
        "id": "z9KkJe5XFnvK",
        "outputId": "16286be7-d5c9-4114-e0cd-d665ceef4e3c"
      },
      "execution_count": null,
      "outputs": [
        {
          "output_type": "stream",
          "name": "stdout",
          "text": [
            "시리즈와 스칼라 연산\n",
            " 0    10.0\n",
            "1     9.5\n",
            "Name: 국어, dtype: float64\n",
            "시리즈간의 연산\n",
            " 0    190\n",
            "1    190\n",
            "dtype: int64\n",
            "시리즈를 대상으로 함수 호출: 195\n"
          ]
        }
      ]
    },
    {
      "cell_type": "code",
      "source": [
        "import pandas as pd\n",
        "\n",
        "pandasDataFrame = pd.DataFrame({'국어':[100,95],'영어':[90,95]})\n",
        "print('pandas 데이터프레임\\n',pandasDataFrame)\n",
        "\n",
        "print('데이터프레임과 스칼라 덧셈\\n',pandasDataFrame + 3)\n",
        "print('데이터프레임과 스칼라 뺄셈\\n',pandasDataFrame - 3)\n",
        "print('데이터프레임과 스칼라 곱셈\\n',pandasDataFrame * 3)\n",
        "print('데이터프레임과 스칼라 나눗셈\\n',pandasDataFrame / 3)\n",
        "print('데이터프레임과 스칼라 자승\\n',pandasDataFrame ** 3)"
      ],
      "metadata": {
        "colab": {
          "base_uri": "https://localhost:8080/"
        },
        "id": "oila05QVCjPN",
        "outputId": "3466d71e-0252-40bb-cc16-668923d7fb74"
      },
      "execution_count": null,
      "outputs": [
        {
          "output_type": "stream",
          "name": "stdout",
          "text": [
            "pandas 데이터프레임\n",
            "     국어  영어\n",
            "0  100  90\n",
            "1   95  95\n",
            "데이터프레임과 스칼라 덧셈\n",
            "     국어  영어\n",
            "0  103  93\n",
            "1   98  98\n",
            "데이터프레임과 스칼라 뺄셈\n",
            "    국어  영어\n",
            "0  97  87\n",
            "1  92  92\n",
            "데이터프레임과 스칼라 곱셈\n",
            "     국어   영어\n",
            "0  300  270\n",
            "1  285  285\n",
            "데이터프레임과 스칼라 나눗셈\n",
            "           국어         영어\n",
            "0  33.333333  30.000000\n",
            "1  31.666667  31.666667\n",
            "데이터프레임과 스칼라 자승\n",
            "         국어      영어\n",
            "0  1000000  729000\n",
            "1   857375  857375\n"
          ]
        }
      ]
    },
    {
      "cell_type": "code",
      "source": [
        "print('데이터프레임간 덧셈\\n',pandasDataFrame + pandasDataFrame)\n",
        "print('데이터프레임간 뺄셈\\n',pandasDataFrame - pandasDataFrame)\n",
        "print('데이터프레임간 곱셈\\n',pandasDataFrame * pandasDataFrame)\n",
        "print('데이터프레임간 나눗셈\\n',pandasDataFrame / pandasDataFrame)"
      ],
      "metadata": {
        "colab": {
          "base_uri": "https://localhost:8080/"
        },
        "id": "Bqrp3FeEIBle",
        "outputId": "c3767448-8e0d-4179-d9ab-1de7fd5ebc95"
      },
      "execution_count": null,
      "outputs": [
        {
          "output_type": "stream",
          "name": "stdout",
          "text": [
            "데이터프레임간 덧셈\n",
            "     국어   영어\n",
            "0  200  180\n",
            "1  190  190\n",
            "데이터프레임간 뺄셈\n",
            "    국어  영어\n",
            "0   0   0\n",
            "1   0   0\n",
            "데이터프레임간 곱셈\n",
            "       국어    영어\n",
            "0  10000  8100\n",
            "1   9025  9025\n",
            "데이터프레임간 나눗셈\n",
            "     국어   영어\n",
            "0  1.0  1.0\n",
            "1  1.0  1.0\n"
          ]
        }
      ]
    },
    {
      "cell_type": "code",
      "source": [
        "print('데이터프레임간 행렬곱\\n',pandasDataFrame @ pandasDataFrame)"
      ],
      "metadata": {
        "colab": {
          "base_uri": "https://localhost:8080/",
          "height": 331
        },
        "id": "w3-BtqDXIhlp",
        "outputId": "31146015-0f46-4a25-8882-440e83e9ca9b"
      },
      "execution_count": null,
      "outputs": [
        {
          "output_type": "error",
          "ename": "ValueError",
          "evalue": "ignored",
          "traceback": [
            "\u001b[0;31m---------------------------------------------------------------------------\u001b[0m",
            "\u001b[0;31mValueError\u001b[0m                                Traceback (most recent call last)",
            "\u001b[0;32m<ipython-input-22-78d96215073b>\u001b[0m in \u001b[0;36m<cell line: 1>\u001b[0;34m()\u001b[0m\n\u001b[0;32m----> 1\u001b[0;31m \u001b[0mprint\u001b[0m\u001b[0;34m(\u001b[0m\u001b[0;34m'데이터프레임간 행렬곱\\n'\u001b[0m\u001b[0;34m,\u001b[0m\u001b[0mpandasDataFrame\u001b[0m \u001b[0;34m@\u001b[0m \u001b[0mpandasDataFrame\u001b[0m\u001b[0;34m)\u001b[0m\u001b[0;34m\u001b[0m\u001b[0;34m\u001b[0m\u001b[0m\n\u001b[0m",
            "\u001b[0;32m/usr/local/lib/python3.9/dist-packages/pandas/core/frame.py\u001b[0m in \u001b[0;36m__matmul__\u001b[0;34m(self, other)\u001b[0m\n\u001b[1;32m   1551\u001b[0m         \u001b[0mMatrix\u001b[0m \u001b[0mmultiplication\u001b[0m \u001b[0musing\u001b[0m \u001b[0mbinary\u001b[0m\u001b[0;31m \u001b[0m\u001b[0;31m`\u001b[0m\u001b[0;34m@\u001b[0m\u001b[0;31m`\u001b[0m \u001b[0moperator\u001b[0m \u001b[0;32min\u001b[0m \u001b[0mPython\u001b[0m\u001b[0;34m>=\u001b[0m\u001b[0;36m3.5\u001b[0m\u001b[0;34m.\u001b[0m\u001b[0;34m\u001b[0m\u001b[0;34m\u001b[0m\u001b[0m\n\u001b[1;32m   1552\u001b[0m         \"\"\"\n\u001b[0;32m-> 1553\u001b[0;31m         \u001b[0;32mreturn\u001b[0m \u001b[0mself\u001b[0m\u001b[0;34m.\u001b[0m\u001b[0mdot\u001b[0m\u001b[0;34m(\u001b[0m\u001b[0mother\u001b[0m\u001b[0;34m)\u001b[0m\u001b[0;34m\u001b[0m\u001b[0;34m\u001b[0m\u001b[0m\n\u001b[0m\u001b[1;32m   1554\u001b[0m \u001b[0;34m\u001b[0m\u001b[0m\n\u001b[1;32m   1555\u001b[0m     \u001b[0;32mdef\u001b[0m \u001b[0m__rmatmul__\u001b[0m\u001b[0;34m(\u001b[0m\u001b[0mself\u001b[0m\u001b[0;34m,\u001b[0m \u001b[0mother\u001b[0m\u001b[0;34m)\u001b[0m\u001b[0;34m:\u001b[0m\u001b[0;34m\u001b[0m\u001b[0;34m\u001b[0m\u001b[0m\n",
            "\u001b[0;32m/usr/local/lib/python3.9/dist-packages/pandas/core/frame.py\u001b[0m in \u001b[0;36mdot\u001b[0;34m(self, other)\u001b[0m\n\u001b[1;32m   1505\u001b[0m             \u001b[0mcommon\u001b[0m \u001b[0;34m=\u001b[0m \u001b[0mself\u001b[0m\u001b[0;34m.\u001b[0m\u001b[0mcolumns\u001b[0m\u001b[0;34m.\u001b[0m\u001b[0munion\u001b[0m\u001b[0;34m(\u001b[0m\u001b[0mother\u001b[0m\u001b[0;34m.\u001b[0m\u001b[0mindex\u001b[0m\u001b[0;34m)\u001b[0m\u001b[0;34m\u001b[0m\u001b[0;34m\u001b[0m\u001b[0m\n\u001b[1;32m   1506\u001b[0m             \u001b[0;32mif\u001b[0m \u001b[0mlen\u001b[0m\u001b[0;34m(\u001b[0m\u001b[0mcommon\u001b[0m\u001b[0;34m)\u001b[0m \u001b[0;34m>\u001b[0m \u001b[0mlen\u001b[0m\u001b[0;34m(\u001b[0m\u001b[0mself\u001b[0m\u001b[0;34m.\u001b[0m\u001b[0mcolumns\u001b[0m\u001b[0;34m)\u001b[0m \u001b[0;32mor\u001b[0m \u001b[0mlen\u001b[0m\u001b[0;34m(\u001b[0m\u001b[0mcommon\u001b[0m\u001b[0;34m)\u001b[0m \u001b[0;34m>\u001b[0m \u001b[0mlen\u001b[0m\u001b[0;34m(\u001b[0m\u001b[0mother\u001b[0m\u001b[0;34m.\u001b[0m\u001b[0mindex\u001b[0m\u001b[0;34m)\u001b[0m\u001b[0;34m:\u001b[0m\u001b[0;34m\u001b[0m\u001b[0;34m\u001b[0m\u001b[0m\n\u001b[0;32m-> 1507\u001b[0;31m                 \u001b[0;32mraise\u001b[0m \u001b[0mValueError\u001b[0m\u001b[0;34m(\u001b[0m\u001b[0;34m\"matrices are not aligned\"\u001b[0m\u001b[0;34m)\u001b[0m\u001b[0;34m\u001b[0m\u001b[0;34m\u001b[0m\u001b[0m\n\u001b[0m\u001b[1;32m   1508\u001b[0m \u001b[0;34m\u001b[0m\u001b[0m\n\u001b[1;32m   1509\u001b[0m             \u001b[0mleft\u001b[0m \u001b[0;34m=\u001b[0m \u001b[0mself\u001b[0m\u001b[0;34m.\u001b[0m\u001b[0mreindex\u001b[0m\u001b[0;34m(\u001b[0m\u001b[0mcolumns\u001b[0m\u001b[0;34m=\u001b[0m\u001b[0mcommon\u001b[0m\u001b[0;34m,\u001b[0m \u001b[0mcopy\u001b[0m\u001b[0;34m=\u001b[0m\u001b[0;32mFalse\u001b[0m\u001b[0;34m)\u001b[0m\u001b[0;34m\u001b[0m\u001b[0;34m\u001b[0m\u001b[0m\n",
            "\u001b[0;31mValueError\u001b[0m: matrices are not aligned"
          ]
        }
      ]
    },
    {
      "cell_type": "markdown",
      "source": [
        "\tnumpy 패키지의 공통 기능으로 이해하는 pandas"
      ],
      "metadata": {
        "id": "jrptP1LtiOjC"
      }
    },
    {
      "cell_type": "markdown",
      "source": [
        "형상 확인"
      ],
      "metadata": {
        "id": "zrSuT56BjMDX"
      }
    },
    {
      "cell_type": "code",
      "source": [
        "import pandas as pd\n",
        "\n",
        "pandasDataFrame = pd.DataFrame({'이름':['홍길동','강감찬'],'국어':[100,95],'영어':[90,95]})\n",
        "print('pandas 데이터프레임 길이:\\t',len(pandasDataFrame))\n",
        "print('pandas 시리즈 길이:\\t\\t',    len(pandasDataFrame['국어']))"
      ],
      "metadata": {
        "colab": {
          "base_uri": "https://localhost:8080/"
        },
        "id": "BPCEpjKrfV4L",
        "outputId": "19ef5352-757c-4336-a602-299090cf7f2a"
      },
      "execution_count": null,
      "outputs": [
        {
          "output_type": "stream",
          "name": "stdout",
          "text": [
            "pandas 데이터프레임 길이:\t 2\n",
            "pandas 시리즈 길이:\t\t 2\n"
          ]
        }
      ]
    },
    {
      "cell_type": "code",
      "source": [
        "print('pandas 데이터프레임의 크기:',pandasDataFrame.size)\n",
        "print('pandas 데이터프레임의 형상:',pandasDataFrame.shape)\n",
        "print('pandas 데이터프레임의 형상:',pd.shape(pandasDataFrame))"
      ],
      "metadata": {
        "colab": {
          "base_uri": "https://localhost:8080/",
          "height": 381
        },
        "id": "e2cAX3_7SBgc",
        "outputId": "187fe039-bc88-48a3-8a0b-9cdab31ba278"
      },
      "execution_count": null,
      "outputs": [
        {
          "output_type": "stream",
          "name": "stdout",
          "text": [
            "pandas 데이터프레임의 크기: 6\n",
            "pandas 데이터프레임의 형상: (2, 3)\n"
          ]
        },
        {
          "output_type": "error",
          "ename": "AttributeError",
          "evalue": "ignored",
          "traceback": [
            "\u001b[0;31m---------------------------------------------------------------------------\u001b[0m",
            "\u001b[0;31mAttributeError\u001b[0m                            Traceback (most recent call last)",
            "\u001b[0;32m<ipython-input-24-619b0c11e078>\u001b[0m in \u001b[0;36m<cell line: 3>\u001b[0;34m()\u001b[0m\n\u001b[1;32m      1\u001b[0m \u001b[0mprint\u001b[0m\u001b[0;34m(\u001b[0m\u001b[0;34m'pandas 데이터프레임의 크기:'\u001b[0m\u001b[0;34m,\u001b[0m\u001b[0mpandasDataFrame\u001b[0m\u001b[0;34m.\u001b[0m\u001b[0msize\u001b[0m\u001b[0;34m)\u001b[0m\u001b[0;34m\u001b[0m\u001b[0;34m\u001b[0m\u001b[0m\n\u001b[1;32m      2\u001b[0m \u001b[0mprint\u001b[0m\u001b[0;34m(\u001b[0m\u001b[0;34m'pandas 데이터프레임의 형상:'\u001b[0m\u001b[0;34m,\u001b[0m\u001b[0mpandasDataFrame\u001b[0m\u001b[0;34m.\u001b[0m\u001b[0mshape\u001b[0m\u001b[0;34m)\u001b[0m\u001b[0;34m\u001b[0m\u001b[0;34m\u001b[0m\u001b[0m\n\u001b[0;32m----> 3\u001b[0;31m \u001b[0mprint\u001b[0m\u001b[0;34m(\u001b[0m\u001b[0;34m'pandas 데이터프레임의 형상:'\u001b[0m\u001b[0;34m,\u001b[0m\u001b[0mpd\u001b[0m\u001b[0;34m.\u001b[0m\u001b[0mshape\u001b[0m\u001b[0;34m(\u001b[0m\u001b[0mpandasDataFrame\u001b[0m\u001b[0;34m)\u001b[0m\u001b[0;34m)\u001b[0m\u001b[0;34m\u001b[0m\u001b[0;34m\u001b[0m\u001b[0m\n\u001b[0m",
            "\u001b[0;32m/usr/local/lib/python3.9/dist-packages/pandas/__init__.py\u001b[0m in \u001b[0;36m__getattr__\u001b[0;34m(name)\u001b[0m\n\u001b[1;32m    259\u001b[0m         \u001b[0;32mreturn\u001b[0m \u001b[0m_SparseArray\u001b[0m\u001b[0;34m\u001b[0m\u001b[0;34m\u001b[0m\u001b[0m\n\u001b[1;32m    260\u001b[0m \u001b[0;34m\u001b[0m\u001b[0m\n\u001b[0;32m--> 261\u001b[0;31m     \u001b[0;32mraise\u001b[0m \u001b[0mAttributeError\u001b[0m\u001b[0;34m(\u001b[0m\u001b[0;34mf\"module 'pandas' has no attribute '{name}'\"\u001b[0m\u001b[0;34m)\u001b[0m\u001b[0;34m\u001b[0m\u001b[0;34m\u001b[0m\u001b[0m\n\u001b[0m\u001b[1;32m    262\u001b[0m \u001b[0;34m\u001b[0m\u001b[0m\n\u001b[1;32m    263\u001b[0m \u001b[0;34m\u001b[0m\u001b[0m\n",
            "\u001b[0;31mAttributeError\u001b[0m: module 'pandas' has no attribute 'shape'"
          ]
        }
      ]
    },
    {
      "cell_type": "markdown",
      "source": [
        "조회"
      ],
      "metadata": {
        "id": "GTDNW2AkjBOp"
      }
    },
    {
      "cell_type": "code",
      "source": [
        "import pandas as pd\n",
        "\n",
        "pandasDataFrame = pd.DataFrame({'국어':[100,95,80,95,90,85],'영어':[90,95,100,70,75,100]})\n",
        "print('pandas 데이터프레임\\n',pandasDataFrame)\n",
        "\n",
        "print(\"열 첫 요소 :\", pandasDataFrame['국어'][0], pandasDataFrame['영어'][0])\n",
        "#print(\"열 마지막 요소 :\", pandasDataFrame['국어'][-1], pandasDataFrame['영어'][-1])\n",
        "print(\"국어 열 3~5번째 요소 :\\n\", pandasDataFrame['국어'][2:5])\n",
        "print(\"영어 열 1~5번째 요소 :\\n\", pandasDataFrame['영어'][:5])\n",
        "print(\"국어 열 5번째~마지막 요소 :\\n\", pandasDataFrame['국어'][4:])\n",
        "print(\"영어 열 2~5번째 요소 중 짝수번째 요소 :\\n\", pandasDataFrame['영어'][1:5:2])\n",
        "#print(\"국어 열 마지막에서 2~5번째 요소 중 짝수번째 요소 :\\n\", pandasDataFrame['국어'][-2:-5:-2])\n",
        "print(\"영어 열 전체 요소 중 홀수번째 요소 :\\n\", pandasDataFrame['영어'][::2])"
      ],
      "metadata": {
        "colab": {
          "base_uri": "https://localhost:8080/"
        },
        "id": "QZHYX05HMwQn",
        "outputId": "f02b29b2-9651-48e3-9ff8-ff81f8d1aaa5"
      },
      "execution_count": null,
      "outputs": [
        {
          "output_type": "stream",
          "name": "stdout",
          "text": [
            "pandas 데이터프레임\n",
            "     국어   영어\n",
            "0  100   90\n",
            "1   95   95\n",
            "2   80  100\n",
            "3   95   70\n",
            "4   90   75\n",
            "5   85  100\n",
            "열 첫 요소 : 100 90\n",
            "국어 열 3~5번째 요소 :\n",
            " 2    80\n",
            "3    95\n",
            "4    90\n",
            "Name: 국어, dtype: int64\n",
            "영어 열 1~5번째 요소 :\n",
            " 0     90\n",
            "1     95\n",
            "2    100\n",
            "3     70\n",
            "4     75\n",
            "Name: 영어, dtype: int64\n",
            "국어 열 5번째~마지막 요소 :\n",
            " 4    90\n",
            "5    85\n",
            "Name: 국어, dtype: int64\n",
            "영어 열 2~5번째 요소 중 짝수번째 요소 :\n",
            " 1    95\n",
            "3    70\n",
            "Name: 영어, dtype: int64\n",
            "영어 열 전체 요소 중 홀수번째 요소 :\n",
            " 0     90\n",
            "2    100\n",
            "4     75\n",
            "Name: 영어, dtype: int64\n"
          ]
        }
      ]
    },
    {
      "cell_type": "code",
      "source": [
        "print(\"열 마지막 요소 :\", pandasDataFrame['국어'].iloc[-1], pandasDataFrame['영어'].iloc[-1])\n",
        "print(\"국어 열 마지막에서 2~5번째 요소 중 짝수번째 요소 :\\n\", pandasDataFrame['국어'].iloc[-2:-5:-2])"
      ],
      "metadata": {
        "colab": {
          "base_uri": "https://localhost:8080/"
        },
        "id": "Bf7sWGm2X16O",
        "outputId": "328e480e-4e70-4dad-be34-f6bd57de81b8"
      },
      "execution_count": null,
      "outputs": [
        {
          "output_type": "stream",
          "name": "stdout",
          "text": [
            "열 마지막 요소 : 85 100\n",
            "국어 열 마지막에서 2~5번째 요소 중 짝수번째 요소 :\n",
            " 4    90\n",
            "2    80\n",
            "Name: 국어, dtype: int64\n"
          ]
        }
      ]
    },
    {
      "cell_type": "code",
      "source": [
        "print(\"1행 시리즈 :\\n\", pandasDataFrame.iloc[0])\n",
        "print(\"2~4행 시리즈 :\\n\", pandasDataFrame.iloc[1:4])\n",
        "print(\"마지막행 시리즈 :\\n\", pandasDataFrame.iloc[-1])"
      ],
      "metadata": {
        "colab": {
          "base_uri": "https://localhost:8080/"
        },
        "id": "t3Ha2MGpafPo",
        "outputId": "8c5d2cae-d87d-495f-83bf-ad74a9e63800"
      },
      "execution_count": null,
      "outputs": [
        {
          "output_type": "stream",
          "name": "stdout",
          "text": [
            "1행 시리즈 :\n",
            " 국어    100\n",
            "영어     90\n",
            "Name: 0, dtype: int64\n",
            "2~4행 시리즈 :\n",
            "    국어   영어\n",
            "1  95   95\n",
            "2  80  100\n",
            "3  95   70\n",
            "마지막행 시리즈 :\n",
            " 국어     85\n",
            "영어    100\n",
            "Name: 5, dtype: int64\n"
          ]
        }
      ]
    },
    {
      "cell_type": "code",
      "source": [
        "import pandas as pd\n",
        "\n",
        "pandasDataFrame = pd.DataFrame({'국어':[100,95,80,95,90,85],\n",
        "                                '영어':[90,95,100,70,75,100],\n",
        "                                '수학':[50,60,70,80,90,100],\n",
        "                                '과탐':[100,90,80,70,60,50],\n",
        "                                '사탐':[99,88,77,66,55,44]})\n",
        "print('pandas 데이터프레임\\n',pandasDataFrame)\n",
        "\n",
        "print(\"1열 시리즈 :\\n\", pandasDataFrame.iloc[:,0])\n",
        "print(\"2~4열 시리즈 :\\n\", pandasDataFrame.iloc[:,1:4])\n",
        "print(\"마지막열 시리즈 :\\n\", pandasDataFrame.iloc[:,-1])"
      ],
      "metadata": {
        "colab": {
          "base_uri": "https://localhost:8080/"
        },
        "id": "1J2k9zbNggW-",
        "outputId": "9798f150-cac3-470b-8752-75269ba55f12"
      },
      "execution_count": 35,
      "outputs": [
        {
          "output_type": "stream",
          "name": "stdout",
          "text": [
            "pandas 데이터프레임\n",
            "     국어   영어   수학   과탐  사탐\n",
            "0  100   90   50  100  99\n",
            "1   95   95   60   90  88\n",
            "2   80  100   70   80  77\n",
            "3   95   70   80   70  66\n",
            "4   90   75   90   60  55\n",
            "5   85  100  100   50  44\n",
            "1열 시리즈 :\n",
            " 0    100\n",
            "1     95\n",
            "2     80\n",
            "3     95\n",
            "4     90\n",
            "5     85\n",
            "Name: 국어, dtype: int64\n",
            "2~4열 시리즈 :\n",
            "     영어   수학   과탐\n",
            "0   90   50  100\n",
            "1   95   60   90\n",
            "2  100   70   80\n",
            "3   70   80   70\n",
            "4   75   90   60\n",
            "5  100  100   50\n",
            "마지막열 시리즈 :\n",
            " 0    99\n",
            "1    88\n",
            "2    77\n",
            "3    66\n",
            "4    55\n",
            "5    44\n",
            "Name: 사탐, dtype: int64\n"
          ]
        }
      ]
    },
    {
      "cell_type": "code",
      "source": [
        "print(\"첫 1개와 마지막 1개의 요소 :\\n\", pandasDataFrame.iloc[[0,-1],[0,-1]])"
      ],
      "metadata": {
        "colab": {
          "base_uri": "https://localhost:8080/"
        },
        "id": "cb7tIhUACsQo",
        "outputId": "228ecd12-02a8-486b-f210-07567ab49070"
      },
      "execution_count": null,
      "outputs": [
        {
          "output_type": "stream",
          "name": "stdout",
          "text": [
            "첫 1개와 마지막 1개의 요소 :\n",
            "     국어  사탐\n",
            "0  100  99\n",
            "5   85  44\n"
          ]
        }
      ]
    },
    {
      "cell_type": "code",
      "source": [
        "print(\"2행과 4행 :\\n\", pandasDataFrame.iloc[[1,3]])"
      ],
      "metadata": {
        "colab": {
          "base_uri": "https://localhost:8080/"
        },
        "id": "ccjXCl8ik0Mr",
        "outputId": "37d04089-0d55-4a85-a1e0-bcd85866092d"
      },
      "execution_count": null,
      "outputs": [
        {
          "output_type": "stream",
          "name": "stdout",
          "text": [
            "2행과 4행 :\n",
            "    국어  영어  수학  과탐  사탐\n",
            "1  95  95  60  90  88\n",
            "3  95  70  80  70  66\n"
          ]
        }
      ]
    },
    {
      "cell_type": "code",
      "source": [
        "print(\"2열과 4열 :\\n\", pandasDataFrame.iloc[:,[1,3]])"
      ],
      "metadata": {
        "colab": {
          "base_uri": "https://localhost:8080/"
        },
        "id": "GaQ16wNmFzkx",
        "outputId": "a2b8fcf6-ee8f-4e8f-cc91-7f0a6aa57535"
      },
      "execution_count": null,
      "outputs": [
        {
          "output_type": "stream",
          "name": "stdout",
          "text": [
            "2열과 4열 :\n",
            "     영어   과탐\n",
            "0   90  100\n",
            "1   95   90\n",
            "2  100   80\n",
            "3   70   70\n",
            "4   75   60\n",
            "5  100   50\n"
          ]
        }
      ]
    },
    {
      "cell_type": "code",
      "source": [
        "print(\"국어,수학 및 사탐 발췌\\n\", pandasDataFrame[['국어','수학','사탐']])"
      ],
      "metadata": {
        "colab": {
          "base_uri": "https://localhost:8080/"
        },
        "id": "4EzzstshqIEB",
        "outputId": "3d21e604-6973-4693-9e31-4dec303db7f2"
      },
      "execution_count": null,
      "outputs": [
        {
          "output_type": "stream",
          "name": "stdout",
          "text": [
            "국어,수학 및 사탐 발췌\n",
            "     국어   수학  사탐\n",
            "0  100   50  99\n",
            "1   95   60  88\n",
            "2   80   70  77\n",
            "3   95   80  66\n",
            "4   90   90  55\n",
            "5   85  100  44\n"
          ]
        }
      ]
    },
    {
      "cell_type": "code",
      "source": [
        "print('60점 이하 점수\\n',pandasDataFrame[pandasDataFrame <= 60])"
      ],
      "metadata": {
        "colab": {
          "base_uri": "https://localhost:8080/"
        },
        "id": "yq-ZXd6mKtzk",
        "outputId": "2e81e78b-9a2d-4943-8f6e-fc186c5e381a"
      },
      "execution_count": null,
      "outputs": [
        {
          "output_type": "stream",
          "name": "stdout",
          "text": [
            "60점 이하 점수\n",
            "    국어  영어    수학    과탐    사탐\n",
            "0 NaN NaN  50.0   NaN   NaN\n",
            "1 NaN NaN  60.0   NaN   NaN\n",
            "2 NaN NaN   NaN   NaN   NaN\n",
            "3 NaN NaN   NaN   NaN   NaN\n",
            "4 NaN NaN   NaN  60.0  55.0\n",
            "5 NaN NaN   NaN  50.0  44.0\n"
          ]
        }
      ]
    },
    {
      "cell_type": "code",
      "source": [
        "print(\"영어 성적이 100점인 행들\\n\", pandasDataFrame[pandasDataFrame['영어'] == 100])"
      ],
      "metadata": {
        "colab": {
          "base_uri": "https://localhost:8080/"
        },
        "id": "gI6xNhtbH4c1",
        "outputId": "34bdb9bc-5c7a-4189-fd15-c26f45f64178"
      },
      "execution_count": null,
      "outputs": [
        {
          "output_type": "stream",
          "name": "stdout",
          "text": [
            "영어 성적이 100점인 행들\n",
            "    국어   영어   수학  과탐  사탐\n",
            "2  80  100   70  80  77\n",
            "5  85  100  100  50  44\n"
          ]
        }
      ]
    },
    {
      "cell_type": "code",
      "source": [
        "print('영어 성적이 100점인 영어 열의 요소:\\n',pandasDataFrame.영어[pandasDataFrame.영어 == 100])"
      ],
      "metadata": {
        "colab": {
          "base_uri": "https://localhost:8080/"
        },
        "id": "0laiAHIl4kMI",
        "outputId": "af7a3c96-3f0c-4234-ac89-a1f68d56475d"
      },
      "execution_count": 48,
      "outputs": [
        {
          "output_type": "stream",
          "name": "stdout",
          "text": [
            "영어 성적이 100점인 영어 열의 요소:\n",
            " 2    100\n",
            "5    100\n",
            "Name: 영어, dtype: int64\n"
          ]
        }
      ]
    },
    {
      "cell_type": "code",
      "source": [
        "print('6번째 시험 성적이 100점인 행의 요소:\\n',pandasDataFrame.loc[5,pandasDataFrame.loc[5] == 100])"
      ],
      "metadata": {
        "colab": {
          "base_uri": "https://localhost:8080/"
        },
        "id": "GrrZoBNJ5QMu",
        "outputId": "7025d2b9-dc5f-4cbf-e397-7bf23b1d4d8d"
      },
      "execution_count": 49,
      "outputs": [
        {
          "output_type": "stream",
          "name": "stdout",
          "text": [
            "6번째 시험 성적이 100점인 행의 요소:\n",
            " 영어    100\n",
            "수학    100\n",
            "Name: 5, dtype: int64\n"
          ]
        }
      ]
    },
    {
      "cell_type": "markdown",
      "source": [
        "삭제"
      ],
      "metadata": {
        "id": "gXU8OXcaSnGA"
      }
    },
    {
      "cell_type": "code",
      "source": [
        "import pandas as pd\n",
        "\n",
        "pandasSeries = pd.Series([1,2,3,4,5])\n",
        "print('삭제전:\\n',pandasSeries)\n",
        "del pandasSeries[3]\n",
        "print('삭제후:\\n',pandasSeries)"
      ],
      "metadata": {
        "colab": {
          "base_uri": "https://localhost:8080/"
        },
        "id": "YqIqsYIIb95F",
        "outputId": "e506892c-0fb2-4a16-8b73-ef2ea65b49b9"
      },
      "execution_count": 13,
      "outputs": [
        {
          "output_type": "stream",
          "name": "stdout",
          "text": [
            "삭제전:\n",
            " 0    1\n",
            "1    2\n",
            "2    3\n",
            "3    4\n",
            "4    5\n",
            "dtype: int64\n",
            "삭제후:\n",
            " 0    1\n",
            "1    2\n",
            "2    3\n",
            "4    5\n",
            "dtype: int64\n"
          ]
        }
      ]
    },
    {
      "cell_type": "code",
      "source": [
        "print(pandasSeries[3])"
      ],
      "metadata": {
        "colab": {
          "base_uri": "https://localhost:8080/",
          "height": 536
        },
        "id": "fPJLBZrveGse",
        "outputId": "9886fa45-391d-42f6-d755-79233482ad7a"
      },
      "execution_count": null,
      "outputs": [
        {
          "output_type": "error",
          "ename": "KeyError",
          "evalue": "ignored",
          "traceback": [
            "\u001b[0;31m---------------------------------------------------------------------------\u001b[0m",
            "\u001b[0;31mKeyError\u001b[0m                                  Traceback (most recent call last)",
            "\u001b[0;32m/usr/local/lib/python3.9/dist-packages/pandas/core/indexes/base.py\u001b[0m in \u001b[0;36mget_loc\u001b[0;34m(self, key, method, tolerance)\u001b[0m\n\u001b[1;32m   3628\u001b[0m             \u001b[0;32mtry\u001b[0m\u001b[0;34m:\u001b[0m\u001b[0;34m\u001b[0m\u001b[0;34m\u001b[0m\u001b[0m\n\u001b[0;32m-> 3629\u001b[0;31m                 \u001b[0;32mreturn\u001b[0m \u001b[0mself\u001b[0m\u001b[0;34m.\u001b[0m\u001b[0m_engine\u001b[0m\u001b[0;34m.\u001b[0m\u001b[0mget_loc\u001b[0m\u001b[0;34m(\u001b[0m\u001b[0mcasted_key\u001b[0m\u001b[0;34m)\u001b[0m\u001b[0;34m\u001b[0m\u001b[0;34m\u001b[0m\u001b[0m\n\u001b[0m\u001b[1;32m   3630\u001b[0m             \u001b[0;32mexcept\u001b[0m \u001b[0mKeyError\u001b[0m \u001b[0;32mas\u001b[0m \u001b[0merr\u001b[0m\u001b[0;34m:\u001b[0m\u001b[0;34m\u001b[0m\u001b[0;34m\u001b[0m\u001b[0m\n",
            "\u001b[0;32m/usr/local/lib/python3.9/dist-packages/pandas/_libs/index.pyx\u001b[0m in \u001b[0;36mpandas._libs.index.IndexEngine.get_loc\u001b[0;34m()\u001b[0m\n",
            "\u001b[0;32m/usr/local/lib/python3.9/dist-packages/pandas/_libs/index.pyx\u001b[0m in \u001b[0;36mpandas._libs.index.IndexEngine.get_loc\u001b[0;34m()\u001b[0m\n",
            "\u001b[0;32mpandas/_libs/hashtable_class_helper.pxi\u001b[0m in \u001b[0;36mpandas._libs.hashtable.Int64HashTable.get_item\u001b[0;34m()\u001b[0m\n",
            "\u001b[0;32mpandas/_libs/hashtable_class_helper.pxi\u001b[0m in \u001b[0;36mpandas._libs.hashtable.Int64HashTable.get_item\u001b[0;34m()\u001b[0m\n",
            "\u001b[0;31mKeyError\u001b[0m: 3",
            "\nThe above exception was the direct cause of the following exception:\n",
            "\u001b[0;31mKeyError\u001b[0m                                  Traceback (most recent call last)",
            "\u001b[0;32m<ipython-input-116-555cf24d8193>\u001b[0m in \u001b[0;36m<cell line: 1>\u001b[0;34m()\u001b[0m\n\u001b[0;32m----> 1\u001b[0;31m \u001b[0mprint\u001b[0m\u001b[0;34m(\u001b[0m\u001b[0mpandasSeries\u001b[0m\u001b[0;34m[\u001b[0m\u001b[0;36m3\u001b[0m\u001b[0;34m]\u001b[0m\u001b[0;34m)\u001b[0m\u001b[0;34m\u001b[0m\u001b[0;34m\u001b[0m\u001b[0m\n\u001b[0m",
            "\u001b[0;32m/usr/local/lib/python3.9/dist-packages/pandas/core/series.py\u001b[0m in \u001b[0;36m__getitem__\u001b[0;34m(self, key)\u001b[0m\n\u001b[1;32m    956\u001b[0m \u001b[0;34m\u001b[0m\u001b[0m\n\u001b[1;32m    957\u001b[0m         \u001b[0;32melif\u001b[0m \u001b[0mkey_is_scalar\u001b[0m\u001b[0;34m:\u001b[0m\u001b[0;34m\u001b[0m\u001b[0;34m\u001b[0m\u001b[0m\n\u001b[0;32m--> 958\u001b[0;31m             \u001b[0;32mreturn\u001b[0m \u001b[0mself\u001b[0m\u001b[0;34m.\u001b[0m\u001b[0m_get_value\u001b[0m\u001b[0;34m(\u001b[0m\u001b[0mkey\u001b[0m\u001b[0;34m)\u001b[0m\u001b[0;34m\u001b[0m\u001b[0;34m\u001b[0m\u001b[0m\n\u001b[0m\u001b[1;32m    959\u001b[0m \u001b[0;34m\u001b[0m\u001b[0m\n\u001b[1;32m    960\u001b[0m         \u001b[0;32mif\u001b[0m \u001b[0mis_hashable\u001b[0m\u001b[0;34m(\u001b[0m\u001b[0mkey\u001b[0m\u001b[0;34m)\u001b[0m\u001b[0;34m:\u001b[0m\u001b[0;34m\u001b[0m\u001b[0;34m\u001b[0m\u001b[0m\n",
            "\u001b[0;32m/usr/local/lib/python3.9/dist-packages/pandas/core/series.py\u001b[0m in \u001b[0;36m_get_value\u001b[0;34m(self, label, takeable)\u001b[0m\n\u001b[1;32m   1067\u001b[0m \u001b[0;34m\u001b[0m\u001b[0m\n\u001b[1;32m   1068\u001b[0m         \u001b[0;31m# Similar to Index.get_value, but we do not fall back to positional\u001b[0m\u001b[0;34m\u001b[0m\u001b[0;34m\u001b[0m\u001b[0m\n\u001b[0;32m-> 1069\u001b[0;31m         \u001b[0mloc\u001b[0m \u001b[0;34m=\u001b[0m \u001b[0mself\u001b[0m\u001b[0;34m.\u001b[0m\u001b[0mindex\u001b[0m\u001b[0;34m.\u001b[0m\u001b[0mget_loc\u001b[0m\u001b[0;34m(\u001b[0m\u001b[0mlabel\u001b[0m\u001b[0;34m)\u001b[0m\u001b[0;34m\u001b[0m\u001b[0;34m\u001b[0m\u001b[0m\n\u001b[0m\u001b[1;32m   1070\u001b[0m         \u001b[0;32mreturn\u001b[0m \u001b[0mself\u001b[0m\u001b[0;34m.\u001b[0m\u001b[0mindex\u001b[0m\u001b[0;34m.\u001b[0m\u001b[0m_get_values_for_loc\u001b[0m\u001b[0;34m(\u001b[0m\u001b[0mself\u001b[0m\u001b[0;34m,\u001b[0m \u001b[0mloc\u001b[0m\u001b[0;34m,\u001b[0m \u001b[0mlabel\u001b[0m\u001b[0;34m)\u001b[0m\u001b[0;34m\u001b[0m\u001b[0;34m\u001b[0m\u001b[0m\n\u001b[1;32m   1071\u001b[0m \u001b[0;34m\u001b[0m\u001b[0m\n",
            "\u001b[0;32m/usr/local/lib/python3.9/dist-packages/pandas/core/indexes/base.py\u001b[0m in \u001b[0;36mget_loc\u001b[0;34m(self, key, method, tolerance)\u001b[0m\n\u001b[1;32m   3629\u001b[0m                 \u001b[0;32mreturn\u001b[0m \u001b[0mself\u001b[0m\u001b[0;34m.\u001b[0m\u001b[0m_engine\u001b[0m\u001b[0;34m.\u001b[0m\u001b[0mget_loc\u001b[0m\u001b[0;34m(\u001b[0m\u001b[0mcasted_key\u001b[0m\u001b[0;34m)\u001b[0m\u001b[0;34m\u001b[0m\u001b[0;34m\u001b[0m\u001b[0m\n\u001b[1;32m   3630\u001b[0m             \u001b[0;32mexcept\u001b[0m \u001b[0mKeyError\u001b[0m \u001b[0;32mas\u001b[0m \u001b[0merr\u001b[0m\u001b[0;34m:\u001b[0m\u001b[0;34m\u001b[0m\u001b[0;34m\u001b[0m\u001b[0m\n\u001b[0;32m-> 3631\u001b[0;31m                 \u001b[0;32mraise\u001b[0m \u001b[0mKeyError\u001b[0m\u001b[0;34m(\u001b[0m\u001b[0mkey\u001b[0m\u001b[0;34m)\u001b[0m \u001b[0;32mfrom\u001b[0m \u001b[0merr\u001b[0m\u001b[0;34m\u001b[0m\u001b[0;34m\u001b[0m\u001b[0m\n\u001b[0m\u001b[1;32m   3632\u001b[0m             \u001b[0;32mexcept\u001b[0m \u001b[0mTypeError\u001b[0m\u001b[0;34m:\u001b[0m\u001b[0;34m\u001b[0m\u001b[0;34m\u001b[0m\u001b[0m\n\u001b[1;32m   3633\u001b[0m                 \u001b[0;31m# If we have a listlike key, _check_indexing_error will raise\u001b[0m\u001b[0;34m\u001b[0m\u001b[0;34m\u001b[0m\u001b[0m\n",
            "\u001b[0;31mKeyError\u001b[0m: 3"
          ]
        }
      ]
    },
    {
      "cell_type": "code",
      "source": [
        "print(pandasSeries.iloc[3])\n",
        "print(pandasSeries[4])\n",
        "print(pandasSeries.loc[4])"
      ],
      "metadata": {
        "colab": {
          "base_uri": "https://localhost:8080/"
        },
        "id": "uKjJWLwQd9G4",
        "outputId": "77de74ba-0847-4948-9c3f-fdc7f09bb00a"
      },
      "execution_count": null,
      "outputs": [
        {
          "output_type": "stream",
          "name": "stdout",
          "text": [
            "5\n",
            "5\n",
            "5\n"
          ]
        }
      ]
    },
    {
      "cell_type": "code",
      "source": [
        "import pandas as pd\n",
        "\n",
        "pandasDataFrame = pd.DataFrame({'국어':[100,95,80,95,90,85],\n",
        "                                '영어':[90,95,100,70,75,100],\n",
        "                                '수학':[50,60,70,80,90,100]})\n",
        "print('삭제전\\n',pandasDataFrame)\n",
        "del pandasDataFrame['국어']\n",
        "print('삭제후\\n',pandasDataFrame)"
      ],
      "metadata": {
        "colab": {
          "base_uri": "https://localhost:8080/"
        },
        "id": "lhi1GrehUlAs",
        "outputId": "9b462840-5f50-426f-ce49-f9964c87909d"
      },
      "execution_count": null,
      "outputs": [
        {
          "output_type": "stream",
          "name": "stdout",
          "text": [
            "삭제전\n",
            "     국어   영어   수학\n",
            "0  100   90   50\n",
            "1   95   95   60\n",
            "2   80  100   70\n",
            "3   95   70   80\n",
            "4   90   75   90\n",
            "5   85  100  100\n",
            "삭제후\n",
            "     영어   수학\n",
            "0   90   50\n",
            "1   95   60\n",
            "2  100   70\n",
            "3   70   80\n",
            "4   75   90\n",
            "5  100  100\n"
          ]
        }
      ]
    },
    {
      "cell_type": "code",
      "source": [
        "import pandas as pd\n",
        "\n",
        "pandasDataFrame = pd.DataFrame({'국어':[100,95,80,95,90,85],\n",
        "                                '영어':[90,95,100,70,75,100],\n",
        "                                '수학':[50,60,70,80,90,100]})\n",
        "print('삭제전\\n',pandasDataFrame)\n",
        "pandasDataFrame = pandasDataFrame.drop(2)\n",
        "pandasDataFrame = pandasDataFrame.drop([1,3])\n",
        "print('삭제후\\n',pandasDataFrame)"
      ],
      "metadata": {
        "colab": {
          "base_uri": "https://localhost:8080/"
        },
        "id": "sKE4x0z7ihxM",
        "outputId": "cc13d657-71e3-4781-ee18-6f49bed6964e"
      },
      "execution_count": null,
      "outputs": [
        {
          "output_type": "stream",
          "name": "stdout",
          "text": [
            "삭제전\n",
            "     국어   영어   수학\n",
            "0  100   90   50\n",
            "1   95   95   60\n",
            "2   80  100   70\n",
            "3   95   70   80\n",
            "4   90   75   90\n",
            "5   85  100  100\n",
            "삭제후\n",
            "     국어   영어   수학\n",
            "0  100   90   50\n",
            "4   90   75   90\n",
            "5   85  100  100\n"
          ]
        }
      ]
    },
    {
      "cell_type": "code",
      "source": [
        "import pandas as pd\n",
        "\n",
        "pandasSeries = pd.Series([1,2,3,4,5])\n",
        "print('삭제전:\\n',pandasSeries)\n",
        "pandasSeries = pandasSeries.drop([1,2,3])\n",
        "print('삭제후:\\n',pandasSeries)"
      ],
      "metadata": {
        "colab": {
          "base_uri": "https://localhost:8080/"
        },
        "id": "V1c_t6Li4xqA",
        "outputId": "ff75a4a3-b17a-4102-ff5b-8e25c8919092"
      },
      "execution_count": 14,
      "outputs": [
        {
          "output_type": "stream",
          "name": "stdout",
          "text": [
            "삭제전:\n",
            " 0    1\n",
            "1    2\n",
            "2    3\n",
            "3    4\n",
            "4    5\n",
            "dtype: int64\n",
            "삭제후:\n",
            " 0    1\n",
            "4    5\n",
            "dtype: int64\n"
          ]
        }
      ]
    },
    {
      "cell_type": "code",
      "source": [
        "import pandas as pd\n",
        "\n",
        "pandasDataFrame = pd.DataFrame({'국어':[100,95,80,95,90,85],\n",
        "                                '영어':[90,95,100,70,75,100],\n",
        "                                '수학':[50,60,70,80,90,100]})\n",
        "print('삭제전\\n',pandasDataFrame)\n",
        "pandasDataFrame = pandasDataFrame.drop(['국어','영어'],axis=1)\n",
        "print('삭제후\\n',pandasDataFrame)"
      ],
      "metadata": {
        "colab": {
          "base_uri": "https://localhost:8080/"
        },
        "id": "iH665dBY6Mr3",
        "outputId": "6ff2a31e-a5db-45af-8845-d3ed0d5a26e5"
      },
      "execution_count": 15,
      "outputs": [
        {
          "output_type": "stream",
          "name": "stdout",
          "text": [
            "삭제전\n",
            "     국어   영어   수학\n",
            "0  100   90   50\n",
            "1   95   95   60\n",
            "2   80  100   70\n",
            "3   95   70   80\n",
            "4   90   75   90\n",
            "5   85  100  100\n",
            "삭제후\n",
            "     수학\n",
            "0   50\n",
            "1   60\n",
            "2   70\n",
            "3   80\n",
            "4   90\n",
            "5  100\n"
          ]
        }
      ]
    },
    {
      "cell_type": "markdown",
      "source": [
        "추가"
      ],
      "metadata": {
        "id": "2_qVfZ-XkMiD"
      }
    },
    {
      "cell_type": "code",
      "source": [
        "import pandas as pd\n",
        "\n",
        "pandasSeries = pd.Series([1,2,3])\n",
        "print('추가전:\\n',pandasSeries)\n",
        "pandasSeries[3] = 4\n",
        "pandasSeries.loc[9] = 10\n",
        "print('추가후:\\n',pandasSeries)"
      ],
      "metadata": {
        "colab": {
          "base_uri": "https://localhost:8080/"
        },
        "id": "Mp4ZHvKFy8RP",
        "outputId": "344daa3f-b7d0-4306-e148-94e2c813a4de"
      },
      "execution_count": 20,
      "outputs": [
        {
          "output_type": "stream",
          "name": "stdout",
          "text": [
            "추가전:\n",
            " 0    1\n",
            "1    2\n",
            "2    3\n",
            "dtype: int64\n",
            "추가후:\n",
            " 0     1\n",
            "1     2\n",
            "2     3\n",
            "3     4\n",
            "9    10\n",
            "dtype: int64\n"
          ]
        }
      ]
    },
    {
      "cell_type": "code",
      "source": [
        "import pandas as pd\n",
        "\n",
        "pandasSeries = pd.Series([1,2,3,4,5])\n",
        "print('삭제전:\\n',pandasSeries)\n",
        "del pandasSeries[1]\n",
        "del pandasSeries[2]\n",
        "del pandasSeries[3]\n",
        "print('삭제후:\\n',pandasSeries)\n",
        "pandasSeries[2] = 3\n",
        "print('추가후:\\n',pandasSeries)"
      ],
      "metadata": {
        "colab": {
          "base_uri": "https://localhost:8080/"
        },
        "id": "lk9i19wL2RNJ",
        "outputId": "8f869a68-51a5-4279-cab4-5efe6b5f70c5"
      },
      "execution_count": 23,
      "outputs": [
        {
          "output_type": "stream",
          "name": "stdout",
          "text": [
            "삭제전:\n",
            " 0    1\n",
            "1    2\n",
            "2    3\n",
            "3    4\n",
            "4    5\n",
            "dtype: int64\n",
            "삭제후:\n",
            " 0    1\n",
            "4    5\n",
            "dtype: int64\n",
            "추가후:\n",
            " 0    1\n",
            "4    5\n",
            "2    3\n",
            "dtype: int64\n"
          ]
        }
      ]
    },
    {
      "cell_type": "code",
      "source": [
        "import pandas as pd\n",
        "\n",
        "pandasDataFrame = pd.DataFrame({'국어':[100,95,80,95,90,85],\n",
        "                                '영어':[90,95,100,70,75,100],\n",
        "                                '수학':[50,60,70,80,90,100]})\n",
        "print('추가전\\n',pandasDataFrame)\n",
        "pandasDataFrame['과탐'] = [100,90,80,70,60,50]  # 열추가\n",
        "pandasDataFrame.loc[6] = [99,99,99,99]          # 행추가\n",
        "print('추가후\\n',pandasDataFrame)"
      ],
      "metadata": {
        "colab": {
          "base_uri": "https://localhost:8080/"
        },
        "id": "SZhAQW1__a-A",
        "outputId": "9ce54572-61dd-42ac-9e94-365bf614bfb8"
      },
      "execution_count": 25,
      "outputs": [
        {
          "output_type": "stream",
          "name": "stdout",
          "text": [
            "추가전\n",
            "     국어   영어   수학\n",
            "0  100   90   50\n",
            "1   95   95   60\n",
            "2   80  100   70\n",
            "3   95   70   80\n",
            "4   90   75   90\n",
            "5   85  100  100\n",
            "추가후\n",
            "     국어   영어   수학   과탐\n",
            "0  100   90   50  100\n",
            "1   95   95   60   90\n",
            "2   80  100   70   80\n",
            "3   95   70   80   70\n",
            "4   90   75   90   60\n",
            "5   85  100  100   50\n",
            "6   99   99   99   99\n"
          ]
        }
      ]
    },
    {
      "cell_type": "code",
      "source": [
        "import pandas as pd\n",
        "\n",
        "pandasDataFrame = pd.DataFrame({'이름':['홍길동','강감찬'],'국어':[100,95],'영어':[90,95]})\n",
        "print('전치전\\n',pandasDataFrame)\n",
        "print(\"영어 성적이 100점인 행들\\n\", pandasDataFrame[pandasDataFrame['영어'] == 90])\n",
        "print('60점 이하 점수\\n',pandasDataFrame[pandasDataFrame <= 60])"
      ],
      "metadata": {
        "colab": {
          "base_uri": "https://localhost:8080/",
          "height": 405
        },
        "id": "f5J4eW0o4bcr",
        "outputId": "de923f66-ff96-4e9b-e3cf-98ee76f79851"
      },
      "execution_count": 8,
      "outputs": [
        {
          "output_type": "stream",
          "name": "stdout",
          "text": [
            "전치전\n",
            "     이름   국어  영어\n",
            "0  홍길동  100  90\n",
            "1  강감찬   95  95\n",
            "영어 성적이 100점인 행들\n",
            "     이름   국어  영어\n",
            "0  홍길동  100  90\n"
          ]
        },
        {
          "output_type": "error",
          "ename": "TypeError",
          "evalue": "ignored",
          "traceback": [
            "\u001b[0;31m---------------------------------------------------------------------------\u001b[0m",
            "\u001b[0;31mTypeError\u001b[0m                                 Traceback (most recent call last)",
            "\u001b[0;32m<ipython-input-8-c53ef4f8fdf5>\u001b[0m in \u001b[0;36m<cell line: 6>\u001b[0;34m()\u001b[0m\n\u001b[1;32m      4\u001b[0m \u001b[0mprint\u001b[0m\u001b[0;34m(\u001b[0m\u001b[0;34m'전치전\\n'\u001b[0m\u001b[0;34m,\u001b[0m\u001b[0mpandasDataFrame\u001b[0m\u001b[0;34m)\u001b[0m\u001b[0;34m\u001b[0m\u001b[0;34m\u001b[0m\u001b[0m\n\u001b[1;32m      5\u001b[0m \u001b[0mprint\u001b[0m\u001b[0;34m(\u001b[0m\u001b[0;34m\"영어 성적이 100점인 행들\\n\"\u001b[0m\u001b[0;34m,\u001b[0m \u001b[0mpandasDataFrame\u001b[0m\u001b[0;34m[\u001b[0m\u001b[0mpandasDataFrame\u001b[0m\u001b[0;34m[\u001b[0m\u001b[0;34m'영어'\u001b[0m\u001b[0;34m]\u001b[0m \u001b[0;34m==\u001b[0m \u001b[0;36m90\u001b[0m\u001b[0;34m]\u001b[0m\u001b[0;34m)\u001b[0m\u001b[0;34m\u001b[0m\u001b[0;34m\u001b[0m\u001b[0m\n\u001b[0;32m----> 6\u001b[0;31m \u001b[0mprint\u001b[0m\u001b[0;34m(\u001b[0m\u001b[0;34m'60점 이하 점수\\n'\u001b[0m\u001b[0;34m,\u001b[0m\u001b[0mpandasDataFrame\u001b[0m\u001b[0;34m[\u001b[0m\u001b[0mpandasDataFrame\u001b[0m \u001b[0;34m<=\u001b[0m \u001b[0;36m60\u001b[0m\u001b[0;34m]\u001b[0m\u001b[0;34m)\u001b[0m\u001b[0;34m\u001b[0m\u001b[0;34m\u001b[0m\u001b[0m\n\u001b[0m",
            "\u001b[0;32m/usr/local/lib/python3.9/dist-packages/pandas/core/ops/common.py\u001b[0m in \u001b[0;36mnew_method\u001b[0;34m(self, other)\u001b[0m\n\u001b[1;32m     68\u001b[0m         \u001b[0mother\u001b[0m \u001b[0;34m=\u001b[0m \u001b[0mitem_from_zerodim\u001b[0m\u001b[0;34m(\u001b[0m\u001b[0mother\u001b[0m\u001b[0;34m)\u001b[0m\u001b[0;34m\u001b[0m\u001b[0;34m\u001b[0m\u001b[0m\n\u001b[1;32m     69\u001b[0m \u001b[0;34m\u001b[0m\u001b[0m\n\u001b[0;32m---> 70\u001b[0;31m         \u001b[0;32mreturn\u001b[0m \u001b[0mmethod\u001b[0m\u001b[0;34m(\u001b[0m\u001b[0mself\u001b[0m\u001b[0;34m,\u001b[0m \u001b[0mother\u001b[0m\u001b[0;34m)\u001b[0m\u001b[0;34m\u001b[0m\u001b[0;34m\u001b[0m\u001b[0m\n\u001b[0m\u001b[1;32m     71\u001b[0m \u001b[0;34m\u001b[0m\u001b[0m\n\u001b[1;32m     72\u001b[0m     \u001b[0;32mreturn\u001b[0m \u001b[0mnew_method\u001b[0m\u001b[0;34m\u001b[0m\u001b[0;34m\u001b[0m\u001b[0m\n",
            "\u001b[0;32m/usr/local/lib/python3.9/dist-packages/pandas/core/arraylike.py\u001b[0m in \u001b[0;36m__le__\u001b[0;34m(self, other)\u001b[0m\n\u001b[1;32m     50\u001b[0m     \u001b[0;34m@\u001b[0m\u001b[0munpack_zerodim_and_defer\u001b[0m\u001b[0;34m(\u001b[0m\u001b[0;34m\"__le__\"\u001b[0m\u001b[0;34m)\u001b[0m\u001b[0;34m\u001b[0m\u001b[0;34m\u001b[0m\u001b[0m\n\u001b[1;32m     51\u001b[0m     \u001b[0;32mdef\u001b[0m \u001b[0m__le__\u001b[0m\u001b[0;34m(\u001b[0m\u001b[0mself\u001b[0m\u001b[0;34m,\u001b[0m \u001b[0mother\u001b[0m\u001b[0;34m)\u001b[0m\u001b[0;34m:\u001b[0m\u001b[0;34m\u001b[0m\u001b[0;34m\u001b[0m\u001b[0m\n\u001b[0;32m---> 52\u001b[0;31m         \u001b[0;32mreturn\u001b[0m \u001b[0mself\u001b[0m\u001b[0;34m.\u001b[0m\u001b[0m_cmp_method\u001b[0m\u001b[0;34m(\u001b[0m\u001b[0mother\u001b[0m\u001b[0;34m,\u001b[0m \u001b[0moperator\u001b[0m\u001b[0;34m.\u001b[0m\u001b[0mle\u001b[0m\u001b[0;34m)\u001b[0m\u001b[0;34m\u001b[0m\u001b[0;34m\u001b[0m\u001b[0m\n\u001b[0m\u001b[1;32m     53\u001b[0m \u001b[0;34m\u001b[0m\u001b[0m\n\u001b[1;32m     54\u001b[0m     \u001b[0;34m@\u001b[0m\u001b[0munpack_zerodim_and_defer\u001b[0m\u001b[0;34m(\u001b[0m\u001b[0;34m\"__gt__\"\u001b[0m\u001b[0;34m)\u001b[0m\u001b[0;34m\u001b[0m\u001b[0;34m\u001b[0m\u001b[0m\n",
            "\u001b[0;32m/usr/local/lib/python3.9/dist-packages/pandas/core/frame.py\u001b[0m in \u001b[0;36m_cmp_method\u001b[0;34m(self, other, op)\u001b[0m\n\u001b[1;32m   6941\u001b[0m \u001b[0;34m\u001b[0m\u001b[0m\n\u001b[1;32m   6942\u001b[0m         \u001b[0;31m# See GH#4537 for discussion of scalar op behavior\u001b[0m\u001b[0;34m\u001b[0m\u001b[0;34m\u001b[0m\u001b[0m\n\u001b[0;32m-> 6943\u001b[0;31m         \u001b[0mnew_data\u001b[0m \u001b[0;34m=\u001b[0m \u001b[0mself\u001b[0m\u001b[0;34m.\u001b[0m\u001b[0m_dispatch_frame_op\u001b[0m\u001b[0;34m(\u001b[0m\u001b[0mother\u001b[0m\u001b[0;34m,\u001b[0m \u001b[0mop\u001b[0m\u001b[0;34m,\u001b[0m \u001b[0maxis\u001b[0m\u001b[0;34m=\u001b[0m\u001b[0maxis\u001b[0m\u001b[0;34m)\u001b[0m\u001b[0;34m\u001b[0m\u001b[0;34m\u001b[0m\u001b[0m\n\u001b[0m\u001b[1;32m   6944\u001b[0m         \u001b[0;32mreturn\u001b[0m \u001b[0mself\u001b[0m\u001b[0;34m.\u001b[0m\u001b[0m_construct_result\u001b[0m\u001b[0;34m(\u001b[0m\u001b[0mnew_data\u001b[0m\u001b[0;34m)\u001b[0m\u001b[0;34m\u001b[0m\u001b[0;34m\u001b[0m\u001b[0m\n\u001b[1;32m   6945\u001b[0m \u001b[0;34m\u001b[0m\u001b[0m\n",
            "\u001b[0;32m/usr/local/lib/python3.9/dist-packages/pandas/core/frame.py\u001b[0m in \u001b[0;36m_dispatch_frame_op\u001b[0;34m(self, right, func, axis)\u001b[0m\n\u001b[1;32m   6980\u001b[0m             \u001b[0;31m# i.e. scalar, faster than checking np.ndim(right) == 0\u001b[0m\u001b[0;34m\u001b[0m\u001b[0;34m\u001b[0m\u001b[0m\n\u001b[1;32m   6981\u001b[0m             \u001b[0;32mwith\u001b[0m \u001b[0mnp\u001b[0m\u001b[0;34m.\u001b[0m\u001b[0merrstate\u001b[0m\u001b[0;34m(\u001b[0m\u001b[0mall\u001b[0m\u001b[0;34m=\u001b[0m\u001b[0;34m\"ignore\"\u001b[0m\u001b[0;34m)\u001b[0m\u001b[0;34m:\u001b[0m\u001b[0;34m\u001b[0m\u001b[0;34m\u001b[0m\u001b[0m\n\u001b[0;32m-> 6982\u001b[0;31m                 \u001b[0mbm\u001b[0m \u001b[0;34m=\u001b[0m \u001b[0mself\u001b[0m\u001b[0;34m.\u001b[0m\u001b[0m_mgr\u001b[0m\u001b[0;34m.\u001b[0m\u001b[0mapply\u001b[0m\u001b[0;34m(\u001b[0m\u001b[0marray_op\u001b[0m\u001b[0;34m,\u001b[0m \u001b[0mright\u001b[0m\u001b[0;34m=\u001b[0m\u001b[0mright\u001b[0m\u001b[0;34m)\u001b[0m\u001b[0;34m\u001b[0m\u001b[0;34m\u001b[0m\u001b[0m\n\u001b[0m\u001b[1;32m   6983\u001b[0m             \u001b[0;32mreturn\u001b[0m \u001b[0mself\u001b[0m\u001b[0;34m.\u001b[0m\u001b[0m_constructor\u001b[0m\u001b[0;34m(\u001b[0m\u001b[0mbm\u001b[0m\u001b[0;34m)\u001b[0m\u001b[0;34m\u001b[0m\u001b[0;34m\u001b[0m\u001b[0m\n\u001b[1;32m   6984\u001b[0m \u001b[0;34m\u001b[0m\u001b[0m\n",
            "\u001b[0;32m/usr/local/lib/python3.9/dist-packages/pandas/core/internals/managers.py\u001b[0m in \u001b[0;36mapply\u001b[0;34m(self, f, align_keys, ignore_failures, **kwargs)\u001b[0m\n\u001b[1;32m    300\u001b[0m             \u001b[0;32mtry\u001b[0m\u001b[0;34m:\u001b[0m\u001b[0;34m\u001b[0m\u001b[0;34m\u001b[0m\u001b[0m\n\u001b[1;32m    301\u001b[0m                 \u001b[0;32mif\u001b[0m \u001b[0mcallable\u001b[0m\u001b[0;34m(\u001b[0m\u001b[0mf\u001b[0m\u001b[0;34m)\u001b[0m\u001b[0;34m:\u001b[0m\u001b[0;34m\u001b[0m\u001b[0;34m\u001b[0m\u001b[0m\n\u001b[0;32m--> 302\u001b[0;31m                     \u001b[0mapplied\u001b[0m \u001b[0;34m=\u001b[0m \u001b[0mb\u001b[0m\u001b[0;34m.\u001b[0m\u001b[0mapply\u001b[0m\u001b[0;34m(\u001b[0m\u001b[0mf\u001b[0m\u001b[0;34m,\u001b[0m \u001b[0;34m**\u001b[0m\u001b[0mkwargs\u001b[0m\u001b[0;34m)\u001b[0m\u001b[0;34m\u001b[0m\u001b[0;34m\u001b[0m\u001b[0m\n\u001b[0m\u001b[1;32m    303\u001b[0m                 \u001b[0;32melse\u001b[0m\u001b[0;34m:\u001b[0m\u001b[0;34m\u001b[0m\u001b[0;34m\u001b[0m\u001b[0m\n\u001b[1;32m    304\u001b[0m                     \u001b[0mapplied\u001b[0m \u001b[0;34m=\u001b[0m \u001b[0mgetattr\u001b[0m\u001b[0;34m(\u001b[0m\u001b[0mb\u001b[0m\u001b[0;34m,\u001b[0m \u001b[0mf\u001b[0m\u001b[0;34m)\u001b[0m\u001b[0;34m(\u001b[0m\u001b[0;34m**\u001b[0m\u001b[0mkwargs\u001b[0m\u001b[0;34m)\u001b[0m\u001b[0;34m\u001b[0m\u001b[0;34m\u001b[0m\u001b[0m\n",
            "\u001b[0;32m/usr/local/lib/python3.9/dist-packages/pandas/core/internals/blocks.py\u001b[0m in \u001b[0;36mapply\u001b[0;34m(self, func, **kwargs)\u001b[0m\n\u001b[1;32m    400\u001b[0m         \u001b[0mone\u001b[0m\u001b[0;34m\u001b[0m\u001b[0;34m\u001b[0m\u001b[0m\n\u001b[1;32m    401\u001b[0m         \"\"\"\n\u001b[0;32m--> 402\u001b[0;31m         \u001b[0mresult\u001b[0m \u001b[0;34m=\u001b[0m \u001b[0mfunc\u001b[0m\u001b[0;34m(\u001b[0m\u001b[0mself\u001b[0m\u001b[0;34m.\u001b[0m\u001b[0mvalues\u001b[0m\u001b[0;34m,\u001b[0m \u001b[0;34m**\u001b[0m\u001b[0mkwargs\u001b[0m\u001b[0;34m)\u001b[0m\u001b[0;34m\u001b[0m\u001b[0;34m\u001b[0m\u001b[0m\n\u001b[0m\u001b[1;32m    403\u001b[0m \u001b[0;34m\u001b[0m\u001b[0m\n\u001b[1;32m    404\u001b[0m         \u001b[0;32mreturn\u001b[0m \u001b[0mself\u001b[0m\u001b[0;34m.\u001b[0m\u001b[0m_split_op_result\u001b[0m\u001b[0;34m(\u001b[0m\u001b[0mresult\u001b[0m\u001b[0;34m)\u001b[0m\u001b[0;34m\u001b[0m\u001b[0;34m\u001b[0m\u001b[0m\n",
            "\u001b[0;32m/usr/local/lib/python3.9/dist-packages/pandas/core/ops/array_ops.py\u001b[0m in \u001b[0;36mcomparison_op\u001b[0;34m(left, right, op)\u001b[0m\n\u001b[1;32m    281\u001b[0m \u001b[0;34m\u001b[0m\u001b[0m\n\u001b[1;32m    282\u001b[0m     \u001b[0;32melif\u001b[0m \u001b[0mis_object_dtype\u001b[0m\u001b[0;34m(\u001b[0m\u001b[0mlvalues\u001b[0m\u001b[0;34m.\u001b[0m\u001b[0mdtype\u001b[0m\u001b[0;34m)\u001b[0m \u001b[0;32mor\u001b[0m \u001b[0misinstance\u001b[0m\u001b[0;34m(\u001b[0m\u001b[0mrvalues\u001b[0m\u001b[0;34m,\u001b[0m \u001b[0mstr\u001b[0m\u001b[0;34m)\u001b[0m\u001b[0;34m:\u001b[0m\u001b[0;34m\u001b[0m\u001b[0;34m\u001b[0m\u001b[0m\n\u001b[0;32m--> 283\u001b[0;31m         \u001b[0mres_values\u001b[0m \u001b[0;34m=\u001b[0m \u001b[0mcomp_method_OBJECT_ARRAY\u001b[0m\u001b[0;34m(\u001b[0m\u001b[0mop\u001b[0m\u001b[0;34m,\u001b[0m \u001b[0mlvalues\u001b[0m\u001b[0;34m,\u001b[0m \u001b[0mrvalues\u001b[0m\u001b[0;34m)\u001b[0m\u001b[0;34m\u001b[0m\u001b[0;34m\u001b[0m\u001b[0m\n\u001b[0m\u001b[1;32m    284\u001b[0m \u001b[0;34m\u001b[0m\u001b[0m\n\u001b[1;32m    285\u001b[0m     \u001b[0;32melse\u001b[0m\u001b[0;34m:\u001b[0m\u001b[0;34m\u001b[0m\u001b[0;34m\u001b[0m\u001b[0m\n",
            "\u001b[0;32m/usr/local/lib/python3.9/dist-packages/pandas/core/ops/array_ops.py\u001b[0m in \u001b[0;36mcomp_method_OBJECT_ARRAY\u001b[0;34m(op, x, y)\u001b[0m\n\u001b[1;32m     71\u001b[0m         \u001b[0mresult\u001b[0m \u001b[0;34m=\u001b[0m \u001b[0mlibops\u001b[0m\u001b[0;34m.\u001b[0m\u001b[0mvec_compare\u001b[0m\u001b[0;34m(\u001b[0m\u001b[0mx\u001b[0m\u001b[0;34m.\u001b[0m\u001b[0mravel\u001b[0m\u001b[0;34m(\u001b[0m\u001b[0;34m)\u001b[0m\u001b[0;34m,\u001b[0m \u001b[0my\u001b[0m\u001b[0;34m.\u001b[0m\u001b[0mravel\u001b[0m\u001b[0;34m(\u001b[0m\u001b[0;34m)\u001b[0m\u001b[0;34m,\u001b[0m \u001b[0mop\u001b[0m\u001b[0;34m)\u001b[0m\u001b[0;34m\u001b[0m\u001b[0;34m\u001b[0m\u001b[0m\n\u001b[1;32m     72\u001b[0m     \u001b[0;32melse\u001b[0m\u001b[0;34m:\u001b[0m\u001b[0;34m\u001b[0m\u001b[0;34m\u001b[0m\u001b[0m\n\u001b[0;32m---> 73\u001b[0;31m         \u001b[0mresult\u001b[0m \u001b[0;34m=\u001b[0m \u001b[0mlibops\u001b[0m\u001b[0;34m.\u001b[0m\u001b[0mscalar_compare\u001b[0m\u001b[0;34m(\u001b[0m\u001b[0mx\u001b[0m\u001b[0;34m.\u001b[0m\u001b[0mravel\u001b[0m\u001b[0;34m(\u001b[0m\u001b[0;34m)\u001b[0m\u001b[0;34m,\u001b[0m \u001b[0my\u001b[0m\u001b[0;34m,\u001b[0m \u001b[0mop\u001b[0m\u001b[0;34m)\u001b[0m\u001b[0;34m\u001b[0m\u001b[0;34m\u001b[0m\u001b[0m\n\u001b[0m\u001b[1;32m     74\u001b[0m     \u001b[0;32mreturn\u001b[0m \u001b[0mresult\u001b[0m\u001b[0;34m.\u001b[0m\u001b[0mreshape\u001b[0m\u001b[0;34m(\u001b[0m\u001b[0mx\u001b[0m\u001b[0;34m.\u001b[0m\u001b[0mshape\u001b[0m\u001b[0;34m)\u001b[0m\u001b[0;34m\u001b[0m\u001b[0;34m\u001b[0m\u001b[0m\n\u001b[1;32m     75\u001b[0m \u001b[0;34m\u001b[0m\u001b[0m\n",
            "\u001b[0;32m/usr/local/lib/python3.9/dist-packages/pandas/_libs/ops.pyx\u001b[0m in \u001b[0;36mpandas._libs.ops.scalar_compare\u001b[0;34m()\u001b[0m\n",
            "\u001b[0;31mTypeError\u001b[0m: '<=' not supported between instances of 'str' and 'int'"
          ]
        }
      ]
    },
    {
      "cell_type": "markdown",
      "source": [
        "matplotlib 그래프 그리기"
      ],
      "metadata": {
        "id": "XH27bHACRiAF"
      }
    },
    {
      "cell_type": "code",
      "source": [
        "import pandas as pd\n",
        "import matplotlib.pyplot as plt\n",
        "\n",
        "pandasDataFrame = pd.DataFrame({'국어':[100,95,80,95,90,85],\n",
        "                                '사탐':[99,88,77,66,55,44]})\n",
        "\n",
        "plt.figure(figsize=(3,3))\n",
        "plt.scatter(pandasDataFrame['국어'],pandasDataFrame['사탐'])\n",
        "plt.show()"
      ],
      "metadata": {
        "colab": {
          "base_uri": "https://localhost:8080/",
          "height": 291
        },
        "id": "43DJAHOARnMq",
        "outputId": "8dea13dd-b7ac-4e97-b26b-d936e9fe2281"
      },
      "execution_count": 24,
      "outputs": [
        {
          "output_type": "display_data",
          "data": {
            "text/plain": [
              "<Figure size 300x300 with 1 Axes>"
            ],
            "image/png": "[encoded data removed]"
          },
          "metadata": {}
        }
      ]
    },
    {
      "cell_type": "markdown",
      "source": [
        "파일 입출력"
      ],
      "metadata": {
        "id": "qt6jXmFv8lyd"
      }
    },
    {
      "cell_type": "code",
      "source": [
        "import pandas as pd\n",
        "\n",
        "pandasDataFrame = pd.DataFrame({'국어':[100,95,80,95,90,85],\n",
        "                                '영어':[90,95,100,70,75,100],\n",
        "                                '수학':[50,60,70,80,90,100],\n",
        "                                '과탐':[100,90,80,70,60,50],\n",
        "                                '사탐':[99,88,77,66,55,44]})\n",
        "\n",
        "pandasDataFrame = pandasDataFrame.drop(3)\n",
        "print('pandas 데이터프레임\\n',pandasDataFrame)\n",
        "pandasDataFrame.to_csv('scores.csv',index_label='index',encoding='utf8')"
      ],
      "metadata": {
        "colab": {
          "base_uri": "https://localhost:8080/"
        },
        "id": "yOnJE0MZKVHr",
        "outputId": "1822e92b-1cf9-48ef-f6dd-d467abbdf5fe"
      },
      "execution_count": 19,
      "outputs": [
        {
          "output_type": "stream",
          "name": "stdout",
          "text": [
            "pandas 데이터프레임\n",
            "     국어   영어   수학   과탐  사탐\n",
            "0  100   90   50  100  99\n",
            "1   95   95   60   90  88\n",
            "2   80  100   70   80  77\n",
            "4   90   75   90   60  55\n",
            "5   85  100  100   50  44\n"
          ]
        }
      ]
    },
    {
      "cell_type": "code",
      "source": [
        "import pandas as pd\n",
        "\n",
        "pandasDataFrame = pd.read_csv('scores.csv',index_col='index',encoding='utf8')\n",
        "print('pandas 데이터프레임\\n',pandasDataFrame)"
      ],
      "metadata": {
        "colab": {
          "base_uri": "https://localhost:8080/"
        },
        "id": "uJzTRU45NvG3",
        "outputId": "bbe1e4f7-c8e0-4d08-b4a1-32a0611c4ded"
      },
      "execution_count": 20,
      "outputs": [
        {
          "output_type": "stream",
          "name": "stdout",
          "text": [
            "pandas 데이터프레임\n",
            "         국어   영어   수학   과탐  사탐\n",
            "index                        \n",
            "0      100   90   50  100  99\n",
            "1       95   95   60   90  88\n",
            "2       80  100   70   80  77\n",
            "4       90   75   90   60  55\n",
            "5       85  100  100   50  44\n"
          ]
        }
      ]
    },
    {
      "cell_type": "markdown",
      "source": [
        "반복값 연산"
      ],
      "metadata": {
        "id": "Dx9jcAdIhopt"
      }
    },
    {
      "cell_type": "code",
      "source": [
        "import pandas as pd\n",
        "\n",
        "pandasDataFrame = pd.DataFrame({'국어':[100,95,80,95,90,85],\n",
        "                                '영어':[90,95,100,70,75,100],\n",
        "                                '수학':[50,60,70,80,90,100]})\n",
        "print('pandas 데이터프레임\\n',pandasDataFrame)\n",
        "\n",
        "print('국어 성적 최소값:',min(pandasDataFrame['국어']))\n",
        "print('첫번째 시험 성적 최대값:',max(pandasDataFrame.loc[0]))\n",
        "print('과목별 성적 최소값:\\n',pandasDataFrame.min(axis=0))\n",
        "print('시험별 성적 최대값:\\n',pandasDataFrame.max(axis=1))"
      ],
      "metadata": {
        "colab": {
          "base_uri": "https://localhost:8080/"
        },
        "id": "xMYNg3hnhjx5",
        "outputId": "174955a7-b4cb-4205-9199-63af2779d1a6"
      },
      "execution_count": 34,
      "outputs": [
        {
          "output_type": "stream",
          "name": "stdout",
          "text": [
            "pandas 데이터프레임\n",
            "     국어   영어   수학\n",
            "0  100   90   50\n",
            "1   95   95   60\n",
            "2   80  100   70\n",
            "3   95   70   80\n",
            "4   90   75   90\n",
            "5   85  100  100\n",
            "국어 성적 최소값: 80\n",
            "첫번째 시험 성적 최대값: 100\n",
            "과목별 성적 최소값:\n",
            " 국어    80\n",
            "영어    70\n",
            "수학    50\n",
            "dtype: int64\n",
            "시험별 성적 최대값:\n",
            " 0    100\n",
            "1     95\n",
            "2    100\n",
            "3     95\n",
            "4     90\n",
            "5    100\n",
            "dtype: int64\n"
          ]
        }
      ]
    },
    {
      "cell_type": "markdown",
      "source": [
        "이상치 처리"
      ],
      "metadata": {
        "id": "MOWQcdjnUBJX"
      }
    },
    {
      "cell_type": "code",
      "source": [
        "import pandas as pd\n",
        "\n",
        "pandasDataFrame = pd.DataFrame({'이름':['홍길동','강감찬','아사녀'],'국어':[100,-95,95],'영어':[90,95,195]})\n",
        "print('pandas 데이터프레임\\n',pandasDataFrame)\n",
        "\n",
        "print('성적이 0점 미만 혹은 100점 초과인 불리언 인덱스',(pandasDataFrame < 0) | (pandasDataFrame > 100))"
      ],
      "metadata": {
        "colab": {
          "base_uri": "https://localhost:8080/",
          "height": 368
        },
        "id": "tkeb1s7GUAj0",
        "outputId": "31408b1d-19cc-4c70-a66d-3dc4da3ec07c"
      },
      "execution_count": 19,
      "outputs": [
        {
          "output_type": "stream",
          "name": "stdout",
          "text": [
            "pandas 데이터프레임\n",
            "     이름   국어   영어\n",
            "0  홍길동  100   90\n",
            "1  강감찬  -95   95\n",
            "2  아사녀   95  195\n"
          ]
        },
        {
          "output_type": "error",
          "ename": "TypeError",
          "evalue": "ignored",
          "traceback": [
            "\u001b[0;31m---------------------------------------------------------------------------\u001b[0m",
            "\u001b[0;31mTypeError\u001b[0m                                 Traceback (most recent call last)",
            "\u001b[0;32m<ipython-input-19-baddda79d1ff>\u001b[0m in \u001b[0;36m<cell line: 6>\u001b[0;34m()\u001b[0m\n\u001b[1;32m      4\u001b[0m \u001b[0mprint\u001b[0m\u001b[0;34m(\u001b[0m\u001b[0;34m'pandas 데이터프레임\\n'\u001b[0m\u001b[0;34m,\u001b[0m\u001b[0mpandasDataFrame\u001b[0m\u001b[0;34m)\u001b[0m\u001b[0;34m\u001b[0m\u001b[0;34m\u001b[0m\u001b[0m\n\u001b[1;32m      5\u001b[0m \u001b[0;34m\u001b[0m\u001b[0m\n\u001b[0;32m----> 6\u001b[0;31m \u001b[0mprint\u001b[0m\u001b[0;34m(\u001b[0m\u001b[0;34m'성적이 0점 미만 혹은 100점 초과인 불리언 인덱스'\u001b[0m\u001b[0;34m,\u001b[0m\u001b[0;34m(\u001b[0m\u001b[0mpandasDataFrame\u001b[0m \u001b[0;34m<\u001b[0m \u001b[0;36m0\u001b[0m\u001b[0;34m)\u001b[0m \u001b[0;34m|\u001b[0m \u001b[0;34m(\u001b[0m\u001b[0mpandasDataFrame\u001b[0m \u001b[0;34m>\u001b[0m \u001b[0;36m100\u001b[0m\u001b[0;34m)\u001b[0m\u001b[0;34m)\u001b[0m\u001b[0;34m\u001b[0m\u001b[0;34m\u001b[0m\u001b[0m\n\u001b[0m",
            "\u001b[0;32m/usr/local/lib/python3.9/dist-packages/pandas/core/ops/common.py\u001b[0m in \u001b[0;36mnew_method\u001b[0;34m(self, other)\u001b[0m\n\u001b[1;32m     70\u001b[0m         \u001b[0mother\u001b[0m \u001b[0;34m=\u001b[0m \u001b[0mitem_from_zerodim\u001b[0m\u001b[0;34m(\u001b[0m\u001b[0mother\u001b[0m\u001b[0;34m)\u001b[0m\u001b[0;34m\u001b[0m\u001b[0;34m\u001b[0m\u001b[0m\n\u001b[1;32m     71\u001b[0m \u001b[0;34m\u001b[0m\u001b[0m\n\u001b[0;32m---> 72\u001b[0;31m         \u001b[0;32mreturn\u001b[0m \u001b[0mmethod\u001b[0m\u001b[0;34m(\u001b[0m\u001b[0mself\u001b[0m\u001b[0;34m,\u001b[0m \u001b[0mother\u001b[0m\u001b[0;34m)\u001b[0m\u001b[0;34m\u001b[0m\u001b[0;34m\u001b[0m\u001b[0m\n\u001b[0m\u001b[1;32m     73\u001b[0m \u001b[0;34m\u001b[0m\u001b[0m\n\u001b[1;32m     74\u001b[0m     \u001b[0;32mreturn\u001b[0m \u001b[0mnew_method\u001b[0m\u001b[0;34m\u001b[0m\u001b[0;34m\u001b[0m\u001b[0m\n",
            "\u001b[0;32m/usr/local/lib/python3.9/dist-packages/pandas/core/arraylike.py\u001b[0m in \u001b[0;36m__lt__\u001b[0;34m(self, other)\u001b[0m\n\u001b[1;32m     48\u001b[0m     \u001b[0;34m@\u001b[0m\u001b[0munpack_zerodim_and_defer\u001b[0m\u001b[0;34m(\u001b[0m\u001b[0;34m\"__lt__\"\u001b[0m\u001b[0;34m)\u001b[0m\u001b[0;34m\u001b[0m\u001b[0;34m\u001b[0m\u001b[0m\n\u001b[1;32m     49\u001b[0m     \u001b[0;32mdef\u001b[0m \u001b[0m__lt__\u001b[0m\u001b[0;34m(\u001b[0m\u001b[0mself\u001b[0m\u001b[0;34m,\u001b[0m \u001b[0mother\u001b[0m\u001b[0;34m)\u001b[0m\u001b[0;34m:\u001b[0m\u001b[0;34m\u001b[0m\u001b[0;34m\u001b[0m\u001b[0m\n\u001b[0;32m---> 50\u001b[0;31m         \u001b[0;32mreturn\u001b[0m \u001b[0mself\u001b[0m\u001b[0;34m.\u001b[0m\u001b[0m_cmp_method\u001b[0m\u001b[0;34m(\u001b[0m\u001b[0mother\u001b[0m\u001b[0;34m,\u001b[0m \u001b[0moperator\u001b[0m\u001b[0;34m.\u001b[0m\u001b[0mlt\u001b[0m\u001b[0;34m)\u001b[0m\u001b[0;34m\u001b[0m\u001b[0;34m\u001b[0m\u001b[0m\n\u001b[0m\u001b[1;32m     51\u001b[0m \u001b[0;34m\u001b[0m\u001b[0m\n\u001b[1;32m     52\u001b[0m     \u001b[0;34m@\u001b[0m\u001b[0munpack_zerodim_and_defer\u001b[0m\u001b[0;34m(\u001b[0m\u001b[0;34m\"__le__\"\u001b[0m\u001b[0;34m)\u001b[0m\u001b[0;34m\u001b[0m\u001b[0;34m\u001b[0m\u001b[0m\n",
            "\u001b[0;32m/usr/local/lib/python3.9/dist-packages/pandas/core/frame.py\u001b[0m in \u001b[0;36m_cmp_method\u001b[0;34m(self, other, op)\u001b[0m\n\u001b[1;32m   7580\u001b[0m \u001b[0;34m\u001b[0m\u001b[0m\n\u001b[1;32m   7581\u001b[0m         \u001b[0;31m# See GH#4537 for discussion of scalar op behavior\u001b[0m\u001b[0;34m\u001b[0m\u001b[0;34m\u001b[0m\u001b[0m\n\u001b[0;32m-> 7582\u001b[0;31m         \u001b[0mnew_data\u001b[0m \u001b[0;34m=\u001b[0m \u001b[0mself\u001b[0m\u001b[0;34m.\u001b[0m\u001b[0m_dispatch_frame_op\u001b[0m\u001b[0;34m(\u001b[0m\u001b[0mother\u001b[0m\u001b[0;34m,\u001b[0m \u001b[0mop\u001b[0m\u001b[0;34m,\u001b[0m \u001b[0maxis\u001b[0m\u001b[0;34m=\u001b[0m\u001b[0maxis\u001b[0m\u001b[0;34m)\u001b[0m\u001b[0;34m\u001b[0m\u001b[0;34m\u001b[0m\u001b[0m\n\u001b[0m\u001b[1;32m   7583\u001b[0m         \u001b[0;32mreturn\u001b[0m \u001b[0mself\u001b[0m\u001b[0;34m.\u001b[0m\u001b[0m_construct_result\u001b[0m\u001b[0;34m(\u001b[0m\u001b[0mnew_data\u001b[0m\u001b[0;34m)\u001b[0m\u001b[0;34m\u001b[0m\u001b[0;34m\u001b[0m\u001b[0m\n\u001b[1;32m   7584\u001b[0m \u001b[0;34m\u001b[0m\u001b[0m\n",
            "\u001b[0;32m/usr/local/lib/python3.9/dist-packages/pandas/core/frame.py\u001b[0m in \u001b[0;36m_dispatch_frame_op\u001b[0;34m(self, right, func, axis)\u001b[0m\n\u001b[1;32m   7619\u001b[0m             \u001b[0;31m# i.e. scalar, faster than checking np.ndim(right) == 0\u001b[0m\u001b[0;34m\u001b[0m\u001b[0;34m\u001b[0m\u001b[0m\n\u001b[1;32m   7620\u001b[0m             \u001b[0;32mwith\u001b[0m \u001b[0mnp\u001b[0m\u001b[0;34m.\u001b[0m\u001b[0merrstate\u001b[0m\u001b[0;34m(\u001b[0m\u001b[0mall\u001b[0m\u001b[0;34m=\u001b[0m\u001b[0;34m\"ignore\"\u001b[0m\u001b[0;34m)\u001b[0m\u001b[0;34m:\u001b[0m\u001b[0;34m\u001b[0m\u001b[0;34m\u001b[0m\u001b[0m\n\u001b[0;32m-> 7621\u001b[0;31m                 \u001b[0mbm\u001b[0m \u001b[0;34m=\u001b[0m \u001b[0mself\u001b[0m\u001b[0;34m.\u001b[0m\u001b[0m_mgr\u001b[0m\u001b[0;34m.\u001b[0m\u001b[0mapply\u001b[0m\u001b[0;34m(\u001b[0m\u001b[0marray_op\u001b[0m\u001b[0;34m,\u001b[0m \u001b[0mright\u001b[0m\u001b[0;34m=\u001b[0m\u001b[0mright\u001b[0m\u001b[0;34m)\u001b[0m\u001b[0;34m\u001b[0m\u001b[0;34m\u001b[0m\u001b[0m\n\u001b[0m\u001b[1;32m   7622\u001b[0m             \u001b[0;32mreturn\u001b[0m \u001b[0mself\u001b[0m\u001b[0;34m.\u001b[0m\u001b[0m_constructor\u001b[0m\u001b[0;34m(\u001b[0m\u001b[0mbm\u001b[0m\u001b[0;34m)\u001b[0m\u001b[0;34m\u001b[0m\u001b[0;34m\u001b[0m\u001b[0m\n\u001b[1;32m   7623\u001b[0m \u001b[0;34m\u001b[0m\u001b[0m\n",
            "\u001b[0;32m/usr/local/lib/python3.9/dist-packages/pandas/core/internals/managers.py\u001b[0m in \u001b[0;36mapply\u001b[0;34m(self, f, align_keys, ignore_failures, **kwargs)\u001b[0m\n\u001b[1;32m    348\u001b[0m             \u001b[0;32mtry\u001b[0m\u001b[0;34m:\u001b[0m\u001b[0;34m\u001b[0m\u001b[0;34m\u001b[0m\u001b[0m\n\u001b[1;32m    349\u001b[0m                 \u001b[0;32mif\u001b[0m \u001b[0mcallable\u001b[0m\u001b[0;34m(\u001b[0m\u001b[0mf\u001b[0m\u001b[0;34m)\u001b[0m\u001b[0;34m:\u001b[0m\u001b[0;34m\u001b[0m\u001b[0;34m\u001b[0m\u001b[0m\n\u001b[0;32m--> 350\u001b[0;31m                     \u001b[0mapplied\u001b[0m \u001b[0;34m=\u001b[0m \u001b[0mb\u001b[0m\u001b[0;34m.\u001b[0m\u001b[0mapply\u001b[0m\u001b[0;34m(\u001b[0m\u001b[0mf\u001b[0m\u001b[0;34m,\u001b[0m \u001b[0;34m**\u001b[0m\u001b[0mkwargs\u001b[0m\u001b[0;34m)\u001b[0m\u001b[0;34m\u001b[0m\u001b[0;34m\u001b[0m\u001b[0m\n\u001b[0m\u001b[1;32m    351\u001b[0m                 \u001b[0;32melse\u001b[0m\u001b[0;34m:\u001b[0m\u001b[0;34m\u001b[0m\u001b[0;34m\u001b[0m\u001b[0m\n\u001b[1;32m    352\u001b[0m                     \u001b[0mapplied\u001b[0m \u001b[0;34m=\u001b[0m \u001b[0mgetattr\u001b[0m\u001b[0;34m(\u001b[0m\u001b[0mb\u001b[0m\u001b[0;34m,\u001b[0m \u001b[0mf\u001b[0m\u001b[0;34m)\u001b[0m\u001b[0;34m(\u001b[0m\u001b[0;34m**\u001b[0m\u001b[0mkwargs\u001b[0m\u001b[0;34m)\u001b[0m\u001b[0;34m\u001b[0m\u001b[0;34m\u001b[0m\u001b[0m\n",
            "\u001b[0;32m/usr/local/lib/python3.9/dist-packages/pandas/core/internals/blocks.py\u001b[0m in \u001b[0;36mapply\u001b[0;34m(self, func, **kwargs)\u001b[0m\n\u001b[1;32m    349\u001b[0m         \u001b[0mone\u001b[0m\u001b[0;34m\u001b[0m\u001b[0;34m\u001b[0m\u001b[0m\n\u001b[1;32m    350\u001b[0m         \"\"\"\n\u001b[0;32m--> 351\u001b[0;31m         \u001b[0mresult\u001b[0m \u001b[0;34m=\u001b[0m \u001b[0mfunc\u001b[0m\u001b[0;34m(\u001b[0m\u001b[0mself\u001b[0m\u001b[0;34m.\u001b[0m\u001b[0mvalues\u001b[0m\u001b[0;34m,\u001b[0m \u001b[0;34m**\u001b[0m\u001b[0mkwargs\u001b[0m\u001b[0;34m)\u001b[0m\u001b[0;34m\u001b[0m\u001b[0;34m\u001b[0m\u001b[0m\n\u001b[0m\u001b[1;32m    352\u001b[0m \u001b[0;34m\u001b[0m\u001b[0m\n\u001b[1;32m    353\u001b[0m         \u001b[0;32mreturn\u001b[0m \u001b[0mself\u001b[0m\u001b[0;34m.\u001b[0m\u001b[0m_split_op_result\u001b[0m\u001b[0;34m(\u001b[0m\u001b[0mresult\u001b[0m\u001b[0;34m)\u001b[0m\u001b[0;34m\u001b[0m\u001b[0;34m\u001b[0m\u001b[0m\n",
            "\u001b[0;32m/usr/local/lib/python3.9/dist-packages/pandas/core/ops/array_ops.py\u001b[0m in \u001b[0;36mcomparison_op\u001b[0;34m(left, right, op)\u001b[0m\n\u001b[1;32m    285\u001b[0m \u001b[0;34m\u001b[0m\u001b[0m\n\u001b[1;32m    286\u001b[0m     \u001b[0;32melif\u001b[0m \u001b[0mis_object_dtype\u001b[0m\u001b[0;34m(\u001b[0m\u001b[0mlvalues\u001b[0m\u001b[0;34m.\u001b[0m\u001b[0mdtype\u001b[0m\u001b[0;34m)\u001b[0m \u001b[0;32mor\u001b[0m \u001b[0misinstance\u001b[0m\u001b[0;34m(\u001b[0m\u001b[0mrvalues\u001b[0m\u001b[0;34m,\u001b[0m \u001b[0mstr\u001b[0m\u001b[0;34m)\u001b[0m\u001b[0;34m:\u001b[0m\u001b[0;34m\u001b[0m\u001b[0;34m\u001b[0m\u001b[0m\n\u001b[0;32m--> 287\u001b[0;31m         \u001b[0mres_values\u001b[0m \u001b[0;34m=\u001b[0m \u001b[0mcomp_method_OBJECT_ARRAY\u001b[0m\u001b[0;34m(\u001b[0m\u001b[0mop\u001b[0m\u001b[0;34m,\u001b[0m \u001b[0mlvalues\u001b[0m\u001b[0;34m,\u001b[0m \u001b[0mrvalues\u001b[0m\u001b[0;34m)\u001b[0m\u001b[0;34m\u001b[0m\u001b[0;34m\u001b[0m\u001b[0m\n\u001b[0m\u001b[1;32m    288\u001b[0m \u001b[0;34m\u001b[0m\u001b[0m\n\u001b[1;32m    289\u001b[0m     \u001b[0;32melse\u001b[0m\u001b[0;34m:\u001b[0m\u001b[0;34m\u001b[0m\u001b[0;34m\u001b[0m\u001b[0m\n",
            "\u001b[0;32m/usr/local/lib/python3.9/dist-packages/pandas/core/ops/array_ops.py\u001b[0m in \u001b[0;36mcomp_method_OBJECT_ARRAY\u001b[0;34m(op, x, y)\u001b[0m\n\u001b[1;32m     73\u001b[0m         \u001b[0mresult\u001b[0m \u001b[0;34m=\u001b[0m \u001b[0mlibops\u001b[0m\u001b[0;34m.\u001b[0m\u001b[0mvec_compare\u001b[0m\u001b[0;34m(\u001b[0m\u001b[0mx\u001b[0m\u001b[0;34m.\u001b[0m\u001b[0mravel\u001b[0m\u001b[0;34m(\u001b[0m\u001b[0;34m)\u001b[0m\u001b[0;34m,\u001b[0m \u001b[0my\u001b[0m\u001b[0;34m.\u001b[0m\u001b[0mravel\u001b[0m\u001b[0;34m(\u001b[0m\u001b[0;34m)\u001b[0m\u001b[0;34m,\u001b[0m \u001b[0mop\u001b[0m\u001b[0;34m)\u001b[0m\u001b[0;34m\u001b[0m\u001b[0;34m\u001b[0m\u001b[0m\n\u001b[1;32m     74\u001b[0m     \u001b[0;32melse\u001b[0m\u001b[0;34m:\u001b[0m\u001b[0;34m\u001b[0m\u001b[0;34m\u001b[0m\u001b[0m\n\u001b[0;32m---> 75\u001b[0;31m         \u001b[0mresult\u001b[0m \u001b[0;34m=\u001b[0m \u001b[0mlibops\u001b[0m\u001b[0;34m.\u001b[0m\u001b[0mscalar_compare\u001b[0m\u001b[0;34m(\u001b[0m\u001b[0mx\u001b[0m\u001b[0;34m.\u001b[0m\u001b[0mravel\u001b[0m\u001b[0;34m(\u001b[0m\u001b[0;34m)\u001b[0m\u001b[0;34m,\u001b[0m \u001b[0my\u001b[0m\u001b[0;34m,\u001b[0m \u001b[0mop\u001b[0m\u001b[0;34m)\u001b[0m\u001b[0;34m\u001b[0m\u001b[0;34m\u001b[0m\u001b[0m\n\u001b[0m\u001b[1;32m     76\u001b[0m     \u001b[0;32mreturn\u001b[0m \u001b[0mresult\u001b[0m\u001b[0;34m.\u001b[0m\u001b[0mreshape\u001b[0m\u001b[0;34m(\u001b[0m\u001b[0mx\u001b[0m\u001b[0;34m.\u001b[0m\u001b[0mshape\u001b[0m\u001b[0;34m)\u001b[0m\u001b[0;34m\u001b[0m\u001b[0;34m\u001b[0m\u001b[0m\n\u001b[1;32m     77\u001b[0m \u001b[0;34m\u001b[0m\u001b[0m\n",
            "\u001b[0;32m/usr/local/lib/python3.9/dist-packages/pandas/_libs/ops.pyx\u001b[0m in \u001b[0;36mpandas._libs.ops.scalar_compare\u001b[0;34m()\u001b[0m\n",
            "\u001b[0;31mTypeError\u001b[0m: '<' not supported between instances of 'str' and 'int'"
          ]
        }
      ]
    },
    {
      "cell_type": "code",
      "source": [
        "targetColumn = ['국어','영어']\n",
        "print('성적이 0점 미만 혹은 100점 초과인 불리언 인덱스\\n',\n",
        "      (pandasDataFrame[targetColumn] < 0) | (pandasDataFrame[targetColumn] > 100))"
      ],
      "metadata": {
        "colab": {
          "base_uri": "https://localhost:8080/"
        },
        "id": "79V13j82O8fW",
        "outputId": "b104a5c6-f6d0-436a-a96c-2939d6202226"
      },
      "execution_count": 14,
      "outputs": [
        {
          "output_type": "stream",
          "name": "stdout",
          "text": [
            "성적이 0점 미만 혹은 100점 초과인 불리언 인덱스\n",
            "       국어     영어\n",
            "0  False  False\n",
            "1   True  False\n",
            "2  False   True\n"
          ]
        }
      ]
    },
    {
      "cell_type": "code",
      "source": [
        "import numpy as np\n",
        "\n",
        "pandasDataFrame[(pandasDataFrame[targetColumn] < 0) | (pandasDataFrame[targetColumn] > 100)] = np.nan\n",
        "print('pandas 데이터프레임\\n',pandasDataFrame)"
      ],
      "metadata": {
        "colab": {
          "base_uri": "https://localhost:8080/"
        },
        "id": "5v6PgKzHSsFr",
        "outputId": "9b71b140-cfe3-4ff3-ff88-4afd2ccf493d"
      },
      "execution_count": 18,
      "outputs": [
        {
          "output_type": "stream",
          "name": "stdout",
          "text": [
            "pandas 데이터프레임\n",
            "     이름     국어    영어\n",
            "0  홍길동  100.0  90.0\n",
            "1  강감찬    NaN  95.0\n",
            "2  아사녀   95.0   NaN\n"
          ]
        }
      ]
    },
    {
      "cell_type": "code",
      "source": [
        "import pandas as pd\n",
        "\n",
        "pandasDataFrame = pd.DataFrame({'이름':['아사달','아사녀','아무개'],'성별':['남','녀','난'],'국어':[100,95,95]})\n",
        "print('처리전 pandas 데이터프레임\\n',pandasDataFrame)\n",
        "\n",
        "targetColumn = ['성별']\n",
        "validSex = ['남','녀']\n",
        "pandasDataFrame[~(pandasDataFrame[targetColumn].isin(validSex))] = np.nan\n",
        "print('처리후 pandas 데이터프레임\\n',pandasDataFrame)"
      ],
      "metadata": {
        "colab": {
          "base_uri": "https://localhost:8080/"
        },
        "id": "-r9FFHu1VxlY",
        "outputId": "3b23a5c3-873e-44d5-d8d9-bad98c751c9f"
      },
      "execution_count": 24,
      "outputs": [
        {
          "output_type": "stream",
          "name": "stdout",
          "text": [
            "처리전 pandas 데이터프레임\n",
            "     이름 성별   국어\n",
            "0  아사달  남  100\n",
            "1  아사녀  녀   95\n",
            "2  아무개  난   95\n",
            "처리후 pandas 데이터프레임\n",
            "     이름   성별   국어\n",
            "0  아사달    남  100\n",
            "1  아사녀    녀   95\n",
            "2  아무개  NaN   95\n"
          ]
        }
      ]
    },
    {
      "cell_type": "code",
      "source": [
        "import pandas as pd\n",
        "import matplotlib.pyplot as plt\n",
        "\n",
        "heights = pd.Series([180,165,150,175,185,200,170,169,177,181])\n",
        "\n",
        "plt.boxplot(heights)\n",
        "plt.show()"
      ],
      "metadata": {
        "colab": {
          "base_uri": "https://localhost:8080/",
          "height": 430
        },
        "id": "SwtxX3E347IY",
        "outputId": "795ca90a-6220-419b-9da9-f607771436fd"
      },
      "execution_count": 40,
      "outputs": [
        {
          "output_type": "display_data",
          "data": {
            "text/plain": [
              "<Figure size 640x480 with 1 Axes>"
            ],
            "image/png": "[encoded data removed]"
          },
          "metadata": {}
        }
      ]
    },
    {
      "cell_type": "code",
      "source": [
        "import numpy as np\n",
        "\n",
        "Q1 = heights.quantile(0.25)\n",
        "Q3 = heights.quantile(0.75)\n",
        "IQR = Q3 - Q1       # InterQuartile Range\n",
        "lowerBound = Q1 - 1.5 * IQR\n",
        "upperBound = Q3 + 1.5 * IQR\n",
        "print('1사분위:',Q1,', 3사분위:',Q3,', IQR:',IQR)\n",
        "print('하위 이상치 경계값:',lowerBound,', 하위 이상치 경계값:',upperBound)\n",
        "\n",
        "heights[(heights < lowerBound) | (heights > upperBound)] = np.nan\n",
        "print(heights)"
      ],
      "metadata": {
        "colab": {
          "base_uri": "https://localhost:8080/"
        },
        "id": "JxMsOVPEEjyl",
        "outputId": "d692b45e-205d-42f2-ad8b-1eea1fa8caa2"
      },
      "execution_count": 45,
      "outputs": [
        {
          "output_type": "stream",
          "name": "stdout",
          "text": [
            "1사분위: 169.75 , 3사분위: 180.25 , IQR: 10.5\n",
            "하위 이상치 경계값: 154.0 , 하위 이상치 경계값: 196.0\n",
            "0    180.0\n",
            "1    165.0\n",
            "2      NaN\n",
            "3    175.0\n",
            "4    185.0\n",
            "5      NaN\n",
            "6    170.0\n",
            "7    169.0\n",
            "8    177.0\n",
            "9    181.0\n",
            "dtype: float64\n"
          ]
        }
      ]
    },
    {
      "cell_type": "markdown",
      "source": [
        "\tpandas 패키지의 고유 기능"
      ],
      "metadata": {
        "id": "vO2IOIBH8o6k"
      }
    },
    {
      "cell_type": "markdown",
      "source": [
        "다양한 인덱스"
      ],
      "metadata": {
        "id": "S1xjZU7q8u86"
      }
    },
    {
      "cell_type": "code",
      "source": [
        "import pandas as pd\n",
        "\n",
        "pandasDataFrame = pd.DataFrame({'국어':[100,95,80,95,90,85],\n",
        "                                '영어':[90,95,100,70,75,100],\n",
        "                                '수학':[50,60,70,80,90,100]})\n",
        "\n",
        "print('pandas 데이터프레임\\n',pandasDataFrame)\n",
        "print('데이터프레임의 인덱스:',pandasDataFrame.index)\n",
        "print('데이터프레임의 열 이름:',pandasDataFrame.columns)\n",
        "print('데이터프레임의 값\\n',pandasDataFrame.values)\n",
        "print('데이터프레임의 값의 자료형:',type(pandasDataFrame.values))"
      ],
      "metadata": {
        "colab": {
          "base_uri": "https://localhost:8080/"
        },
        "id": "S1x8RL_A9Nab",
        "outputId": "0ee0c67b-7fe5-4f0b-d531-f21a04935646"
      },
      "execution_count": 11,
      "outputs": [
        {
          "output_type": "stream",
          "name": "stdout",
          "text": [
            "pandas 데이터프레임\n",
            "     국어   영어   수학\n",
            "0  100   90   50\n",
            "1   95   95   60\n",
            "2   80  100   70\n",
            "3   95   70   80\n",
            "4   90   75   90\n",
            "5   85  100  100\n",
            "데이터프레임의 인덱스: RangeIndex(start=0, stop=6, step=1)\n",
            "데이터프레임의 열 이름: Index(['국어', '영어', '수학'], dtype='object')\n",
            "데이터프레임의 값\n",
            " [[100  90  50]\n",
            " [ 95  95  60]\n",
            " [ 80 100  70]\n",
            " [ 95  70  80]\n",
            " [ 90  75  90]\n",
            " [ 85 100 100]]\n",
            "데이터프레임의 값의 자료형: <class 'numpy.ndarray'>\n"
          ]
        }
      ]
    },
    {
      "cell_type": "code",
      "source": [
        "import pandas as pd\n",
        "\n",
        "exams = ['1차퀴즈','2차퀴즈','중간고사','3차퀴즈','4차퀴즈','기말고사']\n",
        "pandasDataFrame = pd.DataFrame({'국어':[100,95,80,95,90,85],\n",
        "                                '영어':[90,95,100,70,75,100],\n",
        "                                '수학':[50,60,70,80,90,100]},\n",
        "                               index=exams)\n",
        "\n",
        "print('pandas 데이터프레임\\n',pandasDataFrame)\n",
        "print('데이터프레임의 인덱스:',pandasDataFrame.index)"
      ],
      "metadata": {
        "colab": {
          "base_uri": "https://localhost:8080/"
        },
        "id": "q0MMOtxdEZcL",
        "outputId": "f5a90a0d-5a39-4c49-ea9a-943b83018b5c"
      },
      "execution_count": 1,
      "outputs": [
        {
          "output_type": "stream",
          "name": "stdout",
          "text": [
            "pandas 데이터프레임\n",
            "        국어   영어   수학\n",
            "1차퀴즈  100   90   50\n",
            "2차퀴즈   95   95   60\n",
            "중간고사   80  100   70\n",
            "3차퀴즈   95   70   80\n",
            "4차퀴즈   90   75   90\n",
            "기말고사   85  100  100\n",
            "데이터프레임의 인덱스: Index(['1차퀴즈', '2차퀴즈', '중간고사', '3차퀴즈', '4차퀴즈', '기말고사'], dtype='object')\n"
          ]
        }
      ]
    },
    {
      "cell_type": "code",
      "source": [
        "print('중간고사 성적\\n',pandasDataFrame.loc['중간고사'])\n",
        "print('중간고사 영어 성적:',pandasDataFrame.loc['중간고사','영어'])"
      ],
      "metadata": {
        "colab": {
          "base_uri": "https://localhost:8080/"
        },
        "id": "TCy3OYZeJtFW",
        "outputId": "d0dfc3fe-0107-4f63-99a0-e96ff1952ead"
      },
      "execution_count": 5,
      "outputs": [
        {
          "output_type": "stream",
          "name": "stdout",
          "text": [
            "중간고사 성적\n",
            " 국어     80\n",
            "영어    100\n",
            "수학     70\n",
            "Name: 중간고사, dtype: int64\n",
            "중간고사 영어 성적: 100\n"
          ]
        }
      ]
    },
    {
      "cell_type": "markdown",
      "source": [
        "시계열 데이터 처리"
      ],
      "metadata": {
        "id": "GMtoZIhFYwrE"
      }
    },
    {
      "cell_type": "code",
      "source": [
        "from datetime import datetime\n",
        "\n",
        "now = datetime.now()\n",
        "print(\"현재의 datetime:\",now)"
      ],
      "metadata": {
        "colab": {
          "base_uri": "https://localhost:8080/"
        },
        "id": "3lOEhqA2d4zC",
        "outputId": "1ce80f8d-6622-460b-a97d-f3cf1181536b"
      },
      "execution_count": 8,
      "outputs": [
        {
          "output_type": "stream",
          "name": "stdout",
          "text": [
            "현재의 datetime: 2023-04-06 07:58:54.542829\n"
          ]
        }
      ]
    },
    {
      "cell_type": "code",
      "source": [
        "from datetime import datetime\n",
        "\n",
        "now = datetime.now()\n",
        "print(\"현재의 datetime:\",now)"
      ],
      "metadata": {
        "id": "NzhPnbADkl_l"
      },
      "execution_count": null,
      "outputs": []
    },
    {
      "cell_type": "code",
      "source": [
        "print(\"현재 날짜:\",now.date())\n",
        "print(\"현재 시간:\",now.time())\n",
        "\n",
        "print(\"현재 년:\",now.year)\n",
        "print(\"현재 월:\",now.month)\n",
        "print(\"현재 일:\",now.day)\n",
        "print(\"현재 시:\",now.hour)\n",
        "print(\"현재 분:\",now.minute)\n",
        "print(\"현재 초:\",now.second)"
      ],
      "metadata": {
        "colab": {
          "base_uri": "https://localhost:8080/"
        },
        "id": "-mowyefYkmzr",
        "outputId": "e8239354-b4dd-4bb1-8b12-129f936b62b6"
      },
      "execution_count": 22,
      "outputs": [
        {
          "output_type": "stream",
          "name": "stdout",
          "text": [
            "현재 날짜: 2023-04-06\n",
            "현재 시간: 07:58:54.542829\n",
            "현재 년: 2023\n",
            "현재 월: 4\n",
            "현재 일: 6\n",
            "현재 시: 7\n",
            "현재 분: 58\n",
            "현재 초: 54\n"
          ]
        }
      ]
    },
    {
      "cell_type": "code",
      "source": [
        "from datetime import datetime\n",
        "\n",
        "startDatetime = datetime(2023,4,7,9,0)\n",
        "endDatetime = datetime(2023,4,16,17,30)\n",
        "\n",
        "print(\"시작일시:\",startDatetime)\n",
        "print(\"종료일시:\",endDatetime)\n",
        "print(\"소요일시:\",endDatetime - startDatetime)"
      ],
      "metadata": {
        "colab": {
          "base_uri": "https://localhost:8080/"
        },
        "id": "kohPzBG19Zi4",
        "outputId": "8329bdce-0619-4994-a7b8-7151e8d280e4"
      },
      "execution_count": 14,
      "outputs": [
        {
          "output_type": "stream",
          "name": "stdout",
          "text": [
            "시작일시: 2023-04-07 09:00:00\n",
            "종료일시: 2023-04-16 17:30:00\n",
            "소요일시: 9 days, 8:30:00\n"
          ]
        }
      ]
    },
    {
      "cell_type": "code",
      "source": [
        "from datetime import date\n",
        "\n",
        "startDate = date(2023,4,7)\n",
        "endDate = date(2023,4,16)\n",
        "\n",
        "print(\"시작일:\",startDate)\n",
        "print(\"종료일:\",endDate)\n",
        "print(\"소요일:\",endDate - startDate)\n",
        "print(\"소요일의 자료형:\",type(endDate - startDate))"
      ],
      "metadata": {
        "colab": {
          "base_uri": "https://localhost:8080/"
        },
        "id": "QkY9OdMpBS09",
        "outputId": "641ace46-a4b3-43c5-e436-13d0ba081349"
      },
      "execution_count": 15,
      "outputs": [
        {
          "output_type": "stream",
          "name": "stdout",
          "text": [
            "시작일: 2023-04-07\n",
            "종료일: 2023-04-16\n",
            "소요일: 9 days, 0:00:00\n",
            "소요일의 자료형: <class 'datetime.timedelta'>\n"
          ]
        }
      ]
    },
    {
      "cell_type": "code",
      "source": [
        "from datetime import date, timedelta\n",
        "\n",
        "startDate = date(2023,4,7)\n",
        "endDate = date(2023,4,16)\n",
        "\n",
        "print(\"시작일:\",startDate)\n",
        "print(\"종료일:\",endDate)\n",
        "print(\"소요일:\",endDate - startDate + timedelta(days=1))"
      ],
      "metadata": {
        "colab": {
          "base_uri": "https://localhost:8080/"
        },
        "id": "A5IKaALkEndQ",
        "outputId": "36eefbf3-b3af-4c5f-b59f-54d378847831"
      },
      "execution_count": 16,
      "outputs": [
        {
          "output_type": "stream",
          "name": "stdout",
          "text": [
            "시작일: 2023-04-07\n",
            "종료일: 2023-04-16\n",
            "소요일: 10 days, 0:00:00\n"
          ]
        }
      ]
    },
    {
      "cell_type": "code",
      "source": [
        "from datetime import date, timedelta\n",
        "\n",
        "today = date.today()\n",
        "dayDelta = timedelta(days=10)\n",
        "print('오늘 날짜:',today)\n",
        "print('10일전 날짜:',today - dayDelta)\n",
        "print('10일후 날짜:',today + dayDelta)"
      ],
      "metadata": {
        "colab": {
          "base_uri": "https://localhost:8080/"
        },
        "id": "Obv0ydi2Y_ME",
        "outputId": "59df9fd3-8d20-42c6-ef11-88b9100fc663"
      },
      "execution_count": 17,
      "outputs": [
        {
          "output_type": "stream",
          "name": "stdout",
          "text": [
            "오늘 날짜: 2023-04-07\n",
            "10일전 날짜: 2023-03-28\n",
            "10일후 날짜: 2023-04-17\n"
          ]
        }
      ]
    },
    {
      "cell_type": "code",
      "source": [
        "from datetime import datetime, timedelta\n",
        "from dateutil.relativedelta import relativedelta\n",
        "\n",
        "now = datetime.now()\n",
        "\n",
        "print('현재일시:',now)\n",
        "print('10년전:',now - relativedelta(years=10))\n",
        "print('10개월후:',now + relativedelta(months=10))\n",
        "print('10시간전:',now - timedelta(hours=10))\n",
        "print('10분후:',now + timedelta(minutes=10))\n",
        "print('10초전:',now - timedelta(seconds=10))\n",
        "print('10마이크로초후:',now + timedelta(microseconds=10))"
      ],
      "metadata": {
        "colab": {
          "base_uri": "https://localhost:8080/"
        },
        "id": "X552cU5UMAfP",
        "outputId": "3fa8a8e8-2d3c-4e36-fbb6-8e59a5f6f25a"
      },
      "execution_count": 25,
      "outputs": [
        {
          "output_type": "stream",
          "name": "stdout",
          "text": [
            "현재일시: 2023-04-07 05:36:52.911963\n",
            "10년전: 2013-04-07 05:36:52.911963\n",
            "10개월후: 2024-02-07 05:36:52.911963\n",
            "10시간전: 2023-04-06 19:36:52.911963\n",
            "10분후: 2023-04-07 05:46:52.911963\n",
            "10초전: 2023-04-07 05:36:42.911963\n",
            "10마이크로초후: 2023-04-07 05:36:52.911973\n"
          ]
        }
      ]
    },
    {
      "cell_type": "code",
      "source": [
        "from datetime import date\n",
        "\n",
        "weekdayDict = { 0: '월요일',\n",
        "                1: '화요일',\n",
        "                2: '수요일',\n",
        "                3: '목요일',\n",
        "                4: '금요일',\n",
        "                5: '토요일',\n",
        "                6: '일요일' }\n",
        "\n",
        "print('현재요일:',weekdayDict[date.today().weekday()])"
      ],
      "metadata": {
        "colab": {
          "base_uri": "https://localhost:8080/"
        },
        "id": "3bfj6ZzqafdF",
        "outputId": "608ff491-bf3a-448f-d4a6-c40b2118c64b"
      },
      "execution_count": 29,
      "outputs": [
        {
          "output_type": "stream",
          "name": "stdout",
          "text": [
            "현재요일: 금요일\n"
          ]
        }
      ]
    },
    {
      "cell_type": "code",
      "source": [
        "import time\n",
        "\n",
        "print('Enter 키 입력전 현재 초:', beforeSeconds := time.time())\n",
        "input('Enter 키를 치세요.')\n",
        "print('Enter 키 입력후 현재 초:', afterSeconds := time.time())\n",
        "print('Enter 키 입력을 위하여 걸린 초:', afterSeconds - beforeSeconds)"
      ],
      "metadata": {
        "colab": {
          "base_uri": "https://localhost:8080/"
        },
        "id": "fP-Bo6fazyxY",
        "outputId": "efd0350e-ad1c-4350-ad74-3159b9a85824"
      },
      "execution_count": 31,
      "outputs": [
        {
          "output_type": "stream",
          "name": "stdout",
          "text": [
            "Enter 키 입력전 현재 초: 1681276024.9769688\n",
            "Enter 키를 치세요.\n",
            "Enter 키 입력후 현재 초: 1681276026.4157414\n",
            "Enter 키 입력을 위하여 걸린 초: 1.4387726783752441\n"
          ]
        }
      ]
    },
    {
      "cell_type": "code",
      "source": [
        "import pandas as pd\n",
        "\n",
        "examDates = ['2022-09-20','2022-10-01','2022-10-25','2022-11-15','2022-11-25','2022-12-02']\n",
        "pandasDataFrame = pd.DataFrame({'국어':[100,95,80,95,90,85],\n",
        "                                '영어':[90,95,100,70,75,100],\n",
        "                                '수학':[50,60,70,80,90,100]},\n",
        "                               index=examDates)\n",
        "\n",
        "print('pandas 데이터프레임\\n',pandasDataFrame)\n",
        "print('데이터프레임의 인덱스:',pandasDataFrame.index)\n",
        "print('2022년 10월 25일이후의 시험 성적:\\n',pandasDataFrame.loc['2022-10-25':])"
      ],
      "metadata": {
        "colab": {
          "base_uri": "https://localhost:8080/"
        },
        "id": "O6iUb6hAYz-v",
        "outputId": "48e7987b-15bf-4192-80ea-3af193b479ca"
      },
      "execution_count": 56,
      "outputs": [
        {
          "output_type": "stream",
          "name": "stdout",
          "text": [
            "pandas 데이터프레임\n",
            "              국어   영어   수학\n",
            "2022-09-20  100   90   50\n",
            "2022-10-01   95   95   60\n",
            "2022-10-25   80  100   70\n",
            "2022-11-15   95   70   80\n",
            "2022-11-25   90   75   90\n",
            "2022-12-02   85  100  100\n",
            "데이터프레임의 인덱스: Index(['2022-09-20', '2022-10-01', '2022-10-25', '2022-11-15', '2022-11-25',\n",
            "       '2022-12-02'],\n",
            "      dtype='object')\n",
            "2022년 10월 25일이후의 시험 성적:\n",
            "             국어   영어   수학\n",
            "2022-10-25  80  100   70\n",
            "2022-11-15  95   70   80\n",
            "2022-11-25  90   75   90\n",
            "2022-12-02  85  100  100\n"
          ]
        }
      ]
    },
    {
      "cell_type": "code",
      "source": [
        "import pandas as pd\n",
        "from datetime import datetime, timedelta\n",
        "\n",
        "examDates = [datetime(2022,9,20),datetime(2022,10,1),datetime(2022,10,25),\n",
        "             datetime(2022,11,15),datetime(2022,11,25),datetime(2022,12,2)]\n",
        "pandasDataFrame = pd.DataFrame({'국어':[100,95,80,95,90,85],\n",
        "                                '영어':[90,95,100,70,75,100],\n",
        "                                '수학':[50,60,70,80,90,100]},\n",
        "                               index=examDates)\n",
        "\n",
        "print('pandas 데이터프레임\\n',pandasDataFrame)\n",
        "print('데이터프레임의 인덱스:',pandasDataFrame.index)\n",
        "print('현재~180일 이전의 시험 성적\\n',pandasDataFrame.loc[date.today() - timedelta(days=180):date.today()])"
      ],
      "metadata": {
        "colab": {
          "base_uri": "https://localhost:8080/"
        },
        "id": "K4tb_sxAj4QD",
        "outputId": "81eee26b-4593-4216-c033-85504ed51db6"
      },
      "execution_count": 58,
      "outputs": [
        {
          "output_type": "stream",
          "name": "stdout",
          "text": [
            "pandas 데이터프레임\n",
            "              국어   영어   수학\n",
            "2022-09-20  100   90   50\n",
            "2022-10-01   95   95   60\n",
            "2022-10-25   80  100   70\n",
            "2022-11-15   95   70   80\n",
            "2022-11-25   90   75   90\n",
            "2022-12-02   85  100  100\n",
            "데이터프레임의 인덱스: DatetimeIndex(['2022-09-20', '2022-10-01', '2022-10-25', '2022-11-15',\n",
            "               '2022-11-25', '2022-12-02'],\n",
            "              dtype='datetime64[ns]', freq=None)\n",
            "현재~180일 이전의 시험 성적\n",
            "             국어   영어   수학\n",
            "2022-10-25  80  100   70\n",
            "2022-11-15  95   70   80\n",
            "2022-11-25  90   75   90\n",
            "2022-12-02  85  100  100\n"
          ]
        }
      ]
    },
    {
      "cell_type": "code",
      "source": [
        "import pandas as pd\n",
        "\n",
        "examDates = pd.to_datetime(['2022-09-20','2022-10-01','2022-10-25','2022-11-15','2022-11-25','2022-12-02'])\n",
        "pandasDataFrame = pd.DataFrame({'국어':[100,95,80,95,90,85],\n",
        "                                '영어':[90,95,100,70,75,100],\n",
        "                                '수학':[50,60,70,80,90,100]},\n",
        "                               index=examDates)\n",
        "\n",
        "print('pandas 데이터프레임\\n',pandasDataFrame)\n",
        "print('데이터프레임의 인덱스:',pandasDataFrame.index)\n",
        "print('현재~180일 이전의 시험 성적\\n',pandasDataFrame.loc[date.today() - timedelta(days=180):date.today()])"
      ],
      "metadata": {
        "colab": {
          "base_uri": "https://localhost:8080/"
        },
        "id": "gjtvzPe0q7SV",
        "outputId": "ad3c3223-be86-4fbe-9f00-8e0069163480"
      },
      "execution_count": 59,
      "outputs": [
        {
          "output_type": "stream",
          "name": "stdout",
          "text": [
            "pandas 데이터프레임\n",
            "              국어   영어   수학\n",
            "2022-09-20  100   90   50\n",
            "2022-10-01   95   95   60\n",
            "2022-10-25   80  100   70\n",
            "2022-11-15   95   70   80\n",
            "2022-11-25   90   75   90\n",
            "2022-12-02   85  100  100\n",
            "데이터프레임의 인덱스: DatetimeIndex(['2022-09-20', '2022-10-01', '2022-10-25', '2022-11-15',\n",
            "               '2022-11-25', '2022-12-02'],\n",
            "              dtype='datetime64[ns]', freq=None)\n",
            "현재~180일 이전의 시험 성적\n",
            "             국어   영어   수학\n",
            "2022-10-25  80  100   70\n",
            "2022-11-15  95   70   80\n",
            "2022-11-25  90   75   90\n",
            "2022-12-02  85  100  100\n"
          ]
        }
      ]
    },
    {
      "cell_type": "code",
      "source": [
        "import pandas as pd\n",
        "\n",
        "examDates = pd.date_range('2022-07-15',periods=6,freq='D')\n",
        "print('2022년 7월 15일부터 6일간:',examDates)\n",
        "examDates = pd.date_range('2022-07-15','2022-07-17',freq='D')\n",
        "print('2022년 7월 15일부터 7월 17일까지 매일:',examDates)\n",
        "\n",
        "examDates = pd.date_range('2022-07-15 09:00',periods=4,freq='H')\n",
        "print('2022년 7월 15일 9시부터 4시간:',examDates)\n",
        "examDates = pd.date_range('2022-07-15 09:00','2022-07-15 12:00',freq='H')\n",
        "print('2022년 7월 15일 9시부터 12시까지 매시간:',examDates)"
      ],
      "metadata": {
        "colab": {
          "base_uri": "https://localhost:8080/"
        },
        "id": "-N0D-ph4bmBa",
        "outputId": "51f1c345-abcc-4c30-9c06-517f713cc223"
      },
      "execution_count": 11,
      "outputs": [
        {
          "output_type": "stream",
          "name": "stdout",
          "text": [
            "2022년 7월 15일부터 6일간: DatetimeIndex(['2022-07-15', '2022-07-16', '2022-07-17', '2022-07-18',\n",
            "               '2022-07-19', '2022-07-20'],\n",
            "              dtype='datetime64[ns]', freq='D')\n",
            "2022년 7월 15일부터 7월 17일까지 매일: DatetimeIndex(['2022-07-15', '2022-07-16', '2022-07-17'], dtype='datetime64[ns]', freq='D')\n",
            "2022년 7월 15일 9시부터 4시간: DatetimeIndex(['2022-07-15 09:00:00', '2022-07-15 10:00:00',\n",
            "               '2022-07-15 11:00:00', '2022-07-15 12:00:00'],\n",
            "              dtype='datetime64[ns]', freq='H')\n",
            "2022년 7월 15일 9시부터 12시까지 매시간: DatetimeIndex(['2022-07-15 09:00:00', '2022-07-15 10:00:00',\n",
            "               '2022-07-15 11:00:00', '2022-07-15 12:00:00'],\n",
            "              dtype='datetime64[ns]', freq='H')\n"
          ]
        }
      ]
    },
    {
      "cell_type": "markdown",
      "source": [
        "결측치 처리"
      ],
      "metadata": {
        "id": "Ca7mx7RS6zJi"
      }
    },
    {
      "cell_type": "code",
      "source": [
        "import pandas as pd\n",
        "\n",
        "pandasDataFrame = pd.DataFrame({'국어':[100,95,None,95,90,85],\n",
        "                                '영어':[90,95,None,70,75,100],\n",
        "                                '수학':[50,60,None,80,90,100]})\n",
        "print('pandas 데이터프레임\\n',pandasDataFrame)"
      ],
      "metadata": {
        "colab": {
          "base_uri": "https://localhost:8080/"
        },
        "id": "9zIBJUyq7QGQ",
        "outputId": "7d9c9825-cd78-4d13-a85a-380e2d7c7e08"
      },
      "execution_count": 27,
      "outputs": [
        {
          "output_type": "stream",
          "name": "stdout",
          "text": [
            "pandas 데이터프레임\n",
            "       국어     영어     수학\n",
            "0  100.0   90.0   50.0\n",
            "1   95.0   95.0   60.0\n",
            "2    NaN    NaN    NaN\n",
            "3   95.0   70.0   80.0\n",
            "4   90.0   75.0   90.0\n",
            "5   85.0  100.0  100.0\n"
          ]
        }
      ]
    },
    {
      "cell_type": "code",
      "source": [
        "print('pandasDataFrame.isna()\\n',pandasDataFrame.isna())\n",
        "print('pandasDataFrame.isnull()\\n',pandasDataFrame.isnull())"
      ],
      "metadata": {
        "colab": {
          "base_uri": "https://localhost:8080/"
        },
        "id": "EWPA7X0ElEnh",
        "outputId": "a77ee0cc-a0ed-46c0-a927-9ebcc6aa4a4d"
      },
      "execution_count": 28,
      "outputs": [
        {
          "output_type": "stream",
          "name": "stdout",
          "text": [
            "pandasDataFrame.isna()\n",
            "       국어     영어     수학\n",
            "0  False  False  False\n",
            "1  False  False  False\n",
            "2   True   True   True\n",
            "3  False  False  False\n",
            "4  False  False  False\n",
            "5  False  False  False\n",
            "pandasDataFrame.isnull()\n",
            "       국어     영어     수학\n",
            "0  False  False  False\n",
            "1  False  False  False\n",
            "2   True   True   True\n",
            "3  False  False  False\n",
            "4  False  False  False\n",
            "5  False  False  False\n"
          ]
        }
      ]
    },
    {
      "cell_type": "code",
      "source": [
        "pandasDataFrame['국어'][5] = pandasDataFrame['국어'][5]/0\n",
        "pandasDataFrame['영어'][0] = 0\n",
        "pandasDataFrame['영어'][0] = pandasDataFrame['영어'][0]/0\n",
        "pandasDataFrame['수학'][1] = -1\n",
        "pandasDataFrame['수학'][1] = pandasDataFrame['수학'][1]/0\n",
        "print('pandas 데이터프레임\\n',pandasDataFrame)"
      ],
      "metadata": {
        "colab": {
          "base_uri": "https://localhost:8080/"
        },
        "id": "lCRllxts86g-",
        "outputId": "b1995677-a01b-461a-df40-cb2caf1cc1eb"
      },
      "execution_count": 29,
      "outputs": [
        {
          "output_type": "stream",
          "name": "stdout",
          "text": [
            "pandas 데이터프레임\n",
            "       국어     영어     수학\n",
            "0  100.0    NaN   50.0\n",
            "1   95.0   95.0   -inf\n",
            "2    NaN    NaN    NaN\n",
            "3   95.0   70.0   80.0\n",
            "4   90.0   75.0   90.0\n",
            "5    inf  100.0  100.0\n"
          ]
        },
        {
          "output_type": "stream",
          "name": "stderr",
          "text": [
            "<ipython-input-29-e4dd750657d1>:1: RuntimeWarning: divide by zero encountered in double_scalars\n",
            "  pandasDataFrame['국어'][5] = pandasDataFrame['국어'][5]/0\n",
            "<ipython-input-29-e4dd750657d1>:3: RuntimeWarning: invalid value encountered in double_scalars\n",
            "  pandasDataFrame['영어'][0] = pandasDataFrame['영어'][0]/0\n",
            "<ipython-input-29-e4dd750657d1>:5: RuntimeWarning: divide by zero encountered in double_scalars\n",
            "  pandasDataFrame['수학'][1] = pandasDataFrame['수학'][1]/0\n"
          ]
        }
      ]
    },
    {
      "cell_type": "code",
      "source": [
        "print('Nan 값의 개수\\n',pandasDataFrame.isna().sum())"
      ],
      "metadata": {
        "colab": {
          "base_uri": "https://localhost:8080/"
        },
        "id": "x4lAtJL6BOOn",
        "outputId": "463fbf69-017c-4ab7-88a8-96363ff51a93"
      },
      "execution_count": 20,
      "outputs": [
        {
          "output_type": "stream",
          "name": "stdout",
          "text": [
            "Nan 값의 개수\n",
            " 국어    1\n",
            "영어    2\n",
            "수학    1\n",
            "dtype: int64\n"
          ]
        }
      ]
    },
    {
      "cell_type": "code",
      "source": [
        "print('Nan 값의 개수\\n',pandasDataFrame.isna().sum().sum())"
      ],
      "metadata": {
        "colab": {
          "base_uri": "https://localhost:8080/"
        },
        "id": "MhLOlPGCB78n",
        "outputId": "267e71b4-713d-4670-b976-08cab967b920"
      },
      "execution_count": 21,
      "outputs": [
        {
          "output_type": "stream",
          "name": "stdout",
          "text": [
            "Nan 값의 개수\n",
            " 4\n"
          ]
        }
      ]
    },
    {
      "cell_type": "code",
      "source": [
        "pandasDataFrame = pandasDataFrame.dropna()\n",
        "print('pandas 데이터프레임\\n',pandasDataFrame)"
      ],
      "metadata": {
        "colab": {
          "base_uri": "https://localhost:8080/"
        },
        "id": "0BhPhCk7RSVE",
        "outputId": "068fa3ad-0685-4c48-c41f-a9fbf86ed78c"
      },
      "execution_count": 30,
      "outputs": [
        {
          "output_type": "stream",
          "name": "stdout",
          "text": [
            "pandas 데이터프레임\n",
            "      국어     영어     수학\n",
            "1  95.0   95.0   -inf\n",
            "3  95.0   70.0   80.0\n",
            "4  90.0   75.0   90.0\n",
            "5   inf  100.0  100.0\n"
          ]
        }
      ]
    },
    {
      "cell_type": "code",
      "source": [
        "import pandas as pd\n",
        "\n",
        "pandasDataFrame = pd.DataFrame({'국어':[100,95,None,95,90,85],\n",
        "                                '영어':[90,95,None,70,75,100],\n",
        "                                '수학':[50,60,None,80,90,100]})\n",
        "pandasDataFrame['국어'][5] = pandasDataFrame['국어'][5]/0\n",
        "pandasDataFrame['영어'][0] = 0\n",
        "pandasDataFrame['영어'][0] = pandasDataFrame['영어'][0]/0\n",
        "pandasDataFrame['수학'][1] = -1\n",
        "pandasDataFrame['수학'][1] = pandasDataFrame['수학'][1]/0\n",
        "\n",
        "pandasDataFrame.dropna(how='all',inplace=True)\n",
        "print('pandas 데이터프레임\\n',pandasDataFrame)"
      ],
      "metadata": {
        "colab": {
          "base_uri": "https://localhost:8080/"
        },
        "id": "cWKcCG9yGnVw",
        "outputId": "a7bec816-5495-4644-b8a5-08279063b593"
      },
      "execution_count": 6,
      "outputs": [
        {
          "output_type": "stream",
          "name": "stdout",
          "text": [
            "pandas 데이터프레임\n",
            "       국어     영어     수학\n",
            "0  100.0    NaN   50.0\n",
            "1   95.0   95.0   -inf\n",
            "3   95.0   70.0   80.0\n",
            "4   90.0   75.0   90.0\n",
            "5    inf  100.0  100.0\n"
          ]
        },
        {
          "output_type": "stream",
          "name": "stderr",
          "text": [
            "<ipython-input-6-04cf131801e2>:6: RuntimeWarning: divide by zero encountered in double_scalars\n",
            "  pandasDataFrame['국어'][5] = pandasDataFrame['국어'][5]/0\n",
            "<ipython-input-6-04cf131801e2>:8: RuntimeWarning: invalid value encountered in double_scalars\n",
            "  pandasDataFrame['영어'][0] = pandasDataFrame['영어'][0]/0\n",
            "<ipython-input-6-04cf131801e2>:10: RuntimeWarning: divide by zero encountered in double_scalars\n",
            "  pandasDataFrame['수학'][1] = pandasDataFrame['수학'][1]/0\n"
          ]
        }
      ]
    },
    {
      "cell_type": "code",
      "source": [
        "print('데이터프레임의 inf/-inf 불리언 인덱스\\n',pandasDataFrame.isin([np.inf,-np.inf]))\n",
        "print('데이터프레임의 inf/-inf 값의 개수\\n',pandasDataFrame.isin([np.inf,-np.inf]).sum().sum())"
      ],
      "metadata": {
        "colab": {
          "base_uri": "https://localhost:8080/"
        },
        "id": "rYyRJZYVC_DH",
        "outputId": "2ca97533-fcb4-46c9-bc0e-6d759116a910"
      },
      "execution_count": 32,
      "outputs": [
        {
          "output_type": "stream",
          "name": "stdout",
          "text": [
            "데이터프레임의 inf/-inf 불리언 인덱스\n",
            "       국어     영어     수학\n",
            "0  False  False  False\n",
            "1  False  False   True\n",
            "3  False  False  False\n",
            "4  False  False  False\n",
            "5   True  False  False\n",
            "데이터프레임의 inf/-inf 값의 개수\n",
            " 2\n"
          ]
        }
      ]
    },
    {
      "cell_type": "code",
      "source": [
        "import numpy as np\n",
        "pandasDataFrame[pandasDataFrame.isin([np.inf,-np.inf])] = np.nan\n",
        "print('pandas 데이터프레임\\n',pandasDataFrame)"
      ],
      "metadata": {
        "colab": {
          "base_uri": "https://localhost:8080/"
        },
        "id": "pz4u2vQEAne9",
        "outputId": "f0eb1d13-4fb3-41b9-bfa9-32844c84820f"
      },
      "execution_count": 7,
      "outputs": [
        {
          "output_type": "stream",
          "name": "stdout",
          "text": [
            "pandas 데이터프레임\n",
            "       국어     영어     수학\n",
            "0  100.0    NaN   50.0\n",
            "1   95.0   95.0    NaN\n",
            "3   95.0   70.0   80.0\n",
            "4   90.0   75.0   90.0\n",
            "5    NaN  100.0  100.0\n"
          ]
        }
      ]
    },
    {
      "cell_type": "code",
      "source": [
        "pandasDataFrame.fillna(pandasDataFrame.mean(),inplace=True)\n",
        "print('pandas 데이터프레임\\n',pandasDataFrame)"
      ],
      "metadata": {
        "colab": {
          "base_uri": "https://localhost:8080/"
        },
        "id": "GKikLwYamzYx",
        "outputId": "68bbfe56-797f-40a1-fc2f-b3b53e6f1c8c"
      },
      "execution_count": 19,
      "outputs": [
        {
          "output_type": "stream",
          "name": "stdout",
          "text": [
            "pandas 데이터프레임\n",
            "       국어     영어     수학\n",
            "0  100.0   85.0   50.0\n",
            "1   95.0   95.0   80.0\n",
            "3   95.0   70.0   80.0\n",
            "4   90.0   75.0   90.0\n",
            "5   95.0  100.0  100.0\n"
          ]
        }
      ]
    },
    {
      "cell_type": "code",
      "source": [
        "print(pandasDataFrame.mean())"
      ],
      "metadata": {
        "colab": {
          "base_uri": "https://localhost:8080/"
        },
        "id": "39QS_N4KopVx",
        "outputId": "535e0515-7872-4571-d99b-0192a8faacc0"
      },
      "execution_count": 9,
      "outputs": [
        {
          "output_type": "stream",
          "name": "stdout",
          "text": [
            "국어    95.0\n",
            "영어    85.0\n",
            "수학    80.0\n",
            "dtype: float64\n"
          ]
        }
      ]
    },
    {
      "cell_type": "code",
      "source": [
        "import numpy as np\n",
        "import pandas as pd\n",
        "\n",
        "print('NaN이 포함된 numpy  평균:',np.array([10,20,np.nan]).mean())\n",
        "print('NaN이 포함된 pandas 평균:',pd.Series([10,20,np.nan]).mean())"
      ],
      "metadata": {
        "colab": {
          "base_uri": "https://localhost:8080/"
        },
        "id": "rLxglaIhp_DN",
        "outputId": "3ff16ca7-4005-4af8-de93-21cc5da7cb14"
      },
      "execution_count": 21,
      "outputs": [
        {
          "output_type": "stream",
          "name": "stdout",
          "text": [
            "NaN이 포함된 numpy  평균: nan\n",
            "NaN이 포함된 pandas 평균: 15.0\n"
          ]
        }
      ]
    },
    {
      "cell_type": "code",
      "source": [
        "import numpy as np\n",
        "import pandas as pd\n",
        "\n",
        "pandasDataFrame['국어'][5] = np.nan\n",
        "pandasDataFrame['영어'][0] = np.nan\n",
        "pandasDataFrame['수학'][1] = np.nan\n",
        "print('pandas 데이터프레임\\n',pandasDataFrame)\n",
        "\n",
        "print('정방향채우기:\\n',pandasDataFrame.fillna(method='ffill'))\n",
        "print('역방향채우기\\n:',pandasDataFrame.fillna(method='bfill'))"
      ],
      "metadata": {
        "colab": {
          "base_uri": "https://localhost:8080/"
        },
        "id": "Uo_21LPTMqD4",
        "outputId": "1e04122a-7fea-437d-f61c-d208bca901a2"
      },
      "execution_count": 22,
      "outputs": [
        {
          "output_type": "stream",
          "name": "stdout",
          "text": [
            "pandas 데이터프레임\n",
            "       국어     영어     수학\n",
            "0  100.0    NaN   50.0\n",
            "1   95.0   95.0    NaN\n",
            "3   95.0   70.0   80.0\n",
            "4   90.0   75.0   90.0\n",
            "5    NaN  100.0  100.0\n",
            "정방향채우기:\n",
            "       국어     영어     수학\n",
            "0  100.0    NaN   50.0\n",
            "1   95.0   95.0   50.0\n",
            "3   95.0   70.0   80.0\n",
            "4   90.0   75.0   90.0\n",
            "5   90.0  100.0  100.0\n",
            "역방향채우기\n",
            ":       국어     영어     수학\n",
            "0  100.0   95.0   50.0\n",
            "1   95.0   95.0   80.0\n",
            "3   95.0   70.0   80.0\n",
            "4   90.0   75.0   90.0\n",
            "5    NaN  100.0  100.0\n"
          ]
        }
      ]
    },
    {
      "cell_type": "code",
      "source": [
        "print('정방향채우기:\\n',pandasDataFrame.fillna(method='ffill',axis=1))\n",
        "print('역방향채우기\\n:',pandasDataFrame.fillna(method='bfill',axis=1))"
      ],
      "metadata": {
        "colab": {
          "base_uri": "https://localhost:8080/"
        },
        "id": "ZUC-gvwR3gIO",
        "outputId": "50b94759-5205-4431-b8cc-9609c344a33a"
      },
      "execution_count": 24,
      "outputs": [
        {
          "output_type": "stream",
          "name": "stdout",
          "text": [
            "정방향채우기:\n",
            "       국어     영어     수학\n",
            "0  100.0  100.0   50.0\n",
            "1   95.0   95.0   95.0\n",
            "3   95.0   70.0   80.0\n",
            "4   90.0   75.0   90.0\n",
            "5    NaN  100.0  100.0\n",
            "역방향채우기\n",
            ":       국어     영어     수학\n",
            "0  100.0   50.0   50.0\n",
            "1   95.0   95.0    NaN\n",
            "3   95.0   70.0   80.0\n",
            "4   90.0   75.0   90.0\n",
            "5  100.0  100.0  100.0\n"
          ]
        }
      ]
    },
    {
      "cell_type": "markdown",
      "source": [
        "중복 데이터 처리"
      ],
      "metadata": {
        "id": "CBXnxyznzX0_"
      }
    },
    {
      "cell_type": "code",
      "source": [
        "import pandas as pd\n",
        "\n",
        "pandasDataFrame = pd.DataFrame({'이름':['홍길동','강감찬','강감찬'],'국어':[100,95,95],'영어':[90,95,95]})\n",
        "print('pandas 데이터프레임\\n',pandasDataFrame)\n",
        "\n",
        "print('중복 데이터 불리언 인덱스\\n',pandasDataFrame.duplicated())"
      ],
      "metadata": {
        "colab": {
          "base_uri": "https://localhost:8080/"
        },
        "id": "DKJCeP3VDinn",
        "outputId": "2120bf24-5a5c-4aab-99b0-bbcde4da256d"
      },
      "execution_count": 29,
      "outputs": [
        {
          "output_type": "stream",
          "name": "stdout",
          "text": [
            "pandas 데이터프레임\n",
            "     이름   국어  영어\n",
            "0  홍길동  100  90\n",
            "1  강감찬   95  95\n",
            "2  강감찬   95  95\n",
            "중복 데이터 불리언 인덱스\n",
            " 0    False\n",
            "1    False\n",
            "2     True\n",
            "dtype: bool\n"
          ]
        }
      ]
    },
    {
      "cell_type": "code",
      "source": [
        "print('중복이 제거된 성적 데이터프레임\\n',pandasDataFrame.drop_duplicates())"
      ],
      "metadata": {
        "colab": {
          "base_uri": "https://localhost:8080/"
        },
        "id": "KwgeckUSG5Ps",
        "outputId": "897390f8-022d-4ae9-8f73-1586a818dcce"
      },
      "execution_count": 30,
      "outputs": [
        {
          "output_type": "stream",
          "name": "stdout",
          "text": [
            "중복이 제거된 성적 데이터프레임\n",
            "     이름   국어  영어\n",
            "0  홍길동  100  90\n",
            "1  강감찬   95  95\n"
          ]
        }
      ]
    },
    {
      "cell_type": "code",
      "source": [
        "import pandas as pd\n",
        "\n",
        "pandasDataFrame = pd.DataFrame({'이름':['홍길동','강감찬','강감찬'],'국어':[100,95,95],'영어':[90,95,90]})\n",
        "print('pandas 데이터프레임\\n',pandasDataFrame)\n",
        "\n",
        "print('중복이 제거된 성적 데이터프레임\\n',pandasDataFrame.drop_duplicates())"
      ],
      "metadata": {
        "colab": {
          "base_uri": "https://localhost:8080/"
        },
        "id": "lfmFpgeMH9L7",
        "outputId": "04251f89-46d1-41d8-bd47-a94b9860d5c3"
      },
      "execution_count": 32,
      "outputs": [
        {
          "output_type": "stream",
          "name": "stdout",
          "text": [
            "pandas 데이터프레임\n",
            "     이름   국어  영어\n",
            "0  홍길동  100  90\n",
            "1  강감찬   95  95\n",
            "2  강감찬   95  90\n",
            "중복이 제거된 성적 데이터프레임\n",
            "     이름   국어  영어\n",
            "0  홍길동  100  90\n",
            "1  강감찬   95  95\n",
            "2  강감찬   95  90\n"
          ]
        }
      ]
    },
    {
      "cell_type": "code",
      "source": [
        "print('중복이 제거된 성적 데이터프레임(첫데이터 남기기)\\n',pandasDataFrame.drop_duplicates(['이름']))\n",
        "print('중복이 제거된 성적 데이터프레임(뒷데이터 남기기)\\n',pandasDataFrame.drop_duplicates(['이름'],keep='last'))"
      ],
      "metadata": {
        "colab": {
          "base_uri": "https://localhost:8080/"
        },
        "id": "6_cIdwYqKvpL",
        "outputId": "dcedd63a-275b-4ee3-e77b-0a5fb3edf456"
      },
      "execution_count": 34,
      "outputs": [
        {
          "output_type": "stream",
          "name": "stdout",
          "text": [
            "중복이 제거된 성적 데이터프레임(첫데이터 남기기)\n",
            "     이름   국어  영어\n",
            "0  홍길동  100  90\n",
            "1  강감찬   95  95\n",
            "중복이 제거된 성적 데이터프레임(뒷데이터 남기기)\n",
            "     이름   국어  영어\n",
            "0  홍길동  100  90\n",
            "2  강감찬   95  90\n"
          ]
        }
      ]
    }
  ]
}