{
  "nbformat": 4,
  "nbformat_minor": 0,
  "metadata": {
    "colab": {
      "provenance": [],
      "authorship_tag": "ABX9TyO9NcIRkWmewHG6eG+5znGm",
      "include_colab_link": true
    },
    "kernelspec": {
      "name": "python3",
      "display_name": "Python 3"
    },
    "language_info": {
      "name": "python"
    }
  },
  "cells": [
    {
      "cell_type": "markdown",
      "metadata": {
        "id": "view-in-github",
        "colab_type": "text"
      },
      "source": [
        "<a href=\"https://colab.research.google.com/github/yongjaeahn/PythonCoding/blob/main/korean/source/06_06_%EC%88%98%ED%95%99_numpy_%EC%84%A0%ED%98%95_%EB%B0%8F_%EB%B9%84%EC%84%A0%ED%98%95_%EB%B0%A9%EC%A0%95%EC%8B%9D.ipynb\" target=\"_parent\"><img src=\"https://colab.research.google.com/assets/colab-badge.svg\" alt=\"Open In Colab\"/></a>"
      ]
    },
    {
      "cell_type": "markdown",
      "source": [
        "\tnumpy 선형 및 비선형 방정식"
      ],
      "metadata": {
        "id": "PlijbeHBHVyA"
      }
    },
    {
      "cell_type": "markdown",
      "source": [
        "일차방정식"
      ],
      "metadata": {
        "id": "7NXqSOPGHYDN"
      }
    },
    {
      "cell_type": "code",
      "execution_count": null,
      "metadata": {
        "colab": {
          "base_uri": "https://localhost:8080/"
        },
        "id": "kWqCLTs3fEAe",
        "outputId": "db5b2d37-6798-485c-8bd7-cdacefdaca1c"
      },
      "outputs": [
        {
          "output_type": "stream",
          "name": "stdout",
          "text": [
            "x가 2일 때 f(x) = 2x - 3식의 계산 결과 : 1\n"
          ]
        }
      ],
      "source": [
        "x = 2\n",
        "y = 2 * x - 3\n",
        "print('x가 2일 때 f(x) = 2x - 3식의 계산 결과 :',y)"
      ]
    },
    {
      "cell_type": "code",
      "source": [
        "def f(x):\n",
        "    return 2 * x - 3\n",
        "\n",
        "x = 2\n",
        "y = f(x)\n",
        "print('x가 2일 때 f(x) = 2x - 3식의 계산 결과 :',y)\n",
        "x = 3\n",
        "y = f(x)\n",
        "print('x가 3일 때 f(x) = 2x - 3식의 계산 결과 :',y)"
      ],
      "metadata": {
        "colab": {
          "base_uri": "https://localhost:8080/"
        },
        "id": "-YHFEA5tOgaR",
        "outputId": "22cc71ae-f2c9-4808-bb37-33394d2b5de1"
      },
      "execution_count": null,
      "outputs": [
        {
          "output_type": "stream",
          "name": "stdout",
          "text": [
            "x가 2일 때 f(x) = 2x - 3식의 계산 결과 : 1\n",
            "x가 3일 때 f(x) = 2x - 3식의 계산 결과 : 3\n"
          ]
        }
      ]
    },
    {
      "cell_type": "code",
      "source": [
        "def fsolve():\n",
        "    return 3 / 2\n",
        "\n",
        "root = fsolve()\n",
        "print('f(x) = 2x - 3 식의 근 :',root)\n",
        "y = f(root)\n",
        "print('근을 사용한 f(x) = 2x - 3식의 계산 결과 :',y)"
      ],
      "metadata": {
        "colab": {
          "base_uri": "https://localhost:8080/"
        },
        "id": "S4jisM9iR3Fu",
        "outputId": "f1e8bee5-af90-4db1-9b8d-019e60847c90"
      },
      "execution_count": null,
      "outputs": [
        {
          "output_type": "stream",
          "name": "stdout",
          "text": [
            "f(x) = 2x - 3 식의 근 : 1.5\n",
            "근을 사용한 f(x) = 2x - 3식의 계산 결과 : 0.0\n"
          ]
        }
      ]
    },
    {
      "cell_type": "markdown",
      "source": [
        "이차방정식"
      ],
      "metadata": {
        "id": "gEomN2qyH9mF"
      }
    },
    {
      "cell_type": "code",
      "source": [
        "def f(x):\n",
        "    return x ** 2 + 2 * x + 1"
      ],
      "metadata": {
        "id": "VLs1e6vBW_GO"
      },
      "execution_count": null,
      "outputs": []
    },
    {
      "cell_type": "code",
      "source": [
        "import math\n",
        "\n",
        "def fsolve(a,b,c):\n",
        "    x1 = (-b + math.sqrt(b**2 - 4*a*c)) / (2*a)\n",
        "    x2 = (-b - math.sqrt(b**2 - 4*a*c)) / (2*a)\n",
        "    return x1, x2"
      ],
      "metadata": {
        "id": "Ss4SYoU5Zwz0"
      },
      "execution_count": null,
      "outputs": []
    },
    {
      "cell_type": "code",
      "source": [
        "root1, root2 = fsolve(1,2,1)\n",
        "print('f(x) = x**2 + 2x + 1식의 근 :',root1, root2)\n",
        "y = f(root1)\n",
        "print('근1을 사용한 f(x) = x**2 + 2x + 1식의 계산 결과 :',y)\n",
        "y = f(root2)\n",
        "print('근2을 사용한 f(x) = x**2 + 2x + 1식의 계산 결과 :',y)"
      ],
      "metadata": {
        "colab": {
          "base_uri": "https://localhost:8080/"
        },
        "id": "2Dz-6q3Jdvro",
        "outputId": "364c8085-cd0e-47cb-c04c-181eb96fc04e"
      },
      "execution_count": null,
      "outputs": [
        {
          "output_type": "stream",
          "name": "stdout",
          "text": [
            "f(x) = x**2 + 2x + 1식의 근 : -1.0 -1.0\n",
            "근1을 사용한 f(x) = x**2 + 2x + 1식의 계산 결과 : 0.0\n",
            "근2을 사용한 f(x) = x**2 + 2x + 1식의 계산 결과 : 0.0\n"
          ]
        }
      ]
    },
    {
      "cell_type": "code",
      "source": [
        "root1, root2 = fsolve(1,1,1)\n",
        "print('f(x) = x**2 + x + 1식의 근 :',root1, root2)"
      ],
      "metadata": {
        "colab": {
          "base_uri": "https://localhost:8080/"
        },
        "id": "JHD60VCkvXPS",
        "outputId": "d80ce158-1de7-439e-894f-470d9ccf5151"
      },
      "execution_count": null,
      "outputs": [
        {
          "output_type": "stream",
          "name": "stdout",
          "text": [
            "f(x) = x**2 + x + 1식의 근 : (-0.49999999999999994+0.8660254037844386j) (-0.5-0.8660254037844386j)\n"
          ]
        }
      ]
    },
    {
      "cell_type": "markdown",
      "source": [
        "함수의 개선과 확장 그리고 다차방정식"
      ],
      "metadata": {
        "id": "LdqLoSKEIMlk"
      }
    },
    {
      "cell_type": "code",
      "source": [
        "def fsolve(a,b,c):\n",
        "    temp = (b**2 - 4*a*c) ** 0.5\n",
        "    x1 = (-b + temp) / (2*a)\n",
        "    x2 = (-b - temp) / (2*a)\n",
        "    return x1, x2\n",
        "\n",
        "root1, root2 = fsolve(1,2,1)\n",
        "print('f(x) = x**2 + 2x + 1식의 근 :',root1, root2)\n",
        "y = f(root1)\n",
        "print('근1을 사용한 f(x) = x**2 + 2x + 1식의 계산 결과 :',y)\n",
        "y = f(root2)\n",
        "print('근2을 사용한 f(x) = x**2 + 2x + 1식의 계산 결과 :',y)"
      ],
      "metadata": {
        "colab": {
          "base_uri": "https://localhost:8080/"
        },
        "id": "lnxI66vHqexH",
        "outputId": "a709a4f0-be14-4b6c-b487-cdc44ef69223"
      },
      "execution_count": null,
      "outputs": [
        {
          "output_type": "stream",
          "name": "stdout",
          "text": [
            "f(x) = x**2 + 2x + 1식의 근 : -1.0 -1.0\n",
            "근1을 사용한 f(x) = x**2 + 2x + 1식의 계산 결과 : 0.0\n",
            "근2을 사용한 f(x) = x**2 + 2x + 1식의 계산 결과 : 0.0\n"
          ]
        }
      ]
    },
    {
      "cell_type": "code",
      "source": [
        "#import math\n",
        "\n",
        "def fsolve(a,b,c):\n",
        "    # x1 = (-b + math.sqrt(b**2 - 4*a*c)) / (2*a)\n",
        "    # x2 = (-b - math.sqrt(b**2 - 4*a*c)) / (2*a)\n",
        "    # temp 변수를 사용하여 중복된 코드를 제거하여 수행 속도와 코드 유지보수성을 향상시킴\n",
        "    # sqrt() 함수를 0.5를 거듭제곱하는 방식으로 수정하여 메모리 사용량을 줄임\n",
        "\n",
        "    temp = (b**2 - 4*a*c) ** 0.5\n",
        "    x1 = (-b + temp) / (2*a)\n",
        "    x2 = (-b - temp) / (2*a)\n",
        "\n",
        "    return x1, x2"
      ],
      "metadata": {
        "id": "mRirfXge5Pmm"
      },
      "execution_count": null,
      "outputs": []
    },
    {
      "cell_type": "markdown",
      "source": [
        "다항식"
      ],
      "metadata": {
        "id": "N1B-gbnYIWjd"
      }
    },
    {
      "cell_type": "code",
      "source": [
        "import numpy as np\n",
        "\n",
        "fx = np.poly1d([2,-3])\n",
        "print('방정식 : f(x)=',fx)\n",
        "root = np.roots(fx)\n",
        "print('방정식의 근:', root)\n",
        "y = np.polyval(fx,root)\n",
        "print('근을 사용한 방정식의 계산 결과 :', y)"
      ],
      "metadata": {
        "colab": {
          "base_uri": "https://localhost:8080/"
        },
        "id": "RIYaS8yFqg4I",
        "outputId": "ac5226f4-57ee-4c2f-f2f3-bbeda55d925a"
      },
      "execution_count": null,
      "outputs": [
        {
          "output_type": "stream",
          "name": "stdout",
          "text": [
            "방정식 : f(x)=  \n",
            "2 x - 3\n",
            "방정식의 근: [1.5]\n",
            "근을 사용한 방정식의 계산 결과 : [0.]\n"
          ]
        }
      ]
    },
    {
      "cell_type": "code",
      "source": [
        "import numpy as np\n",
        "\n",
        "fx = np.poly1d([1,2,1])\n",
        "print('방정식 : f(x)=')\n",
        "print(fx)\n",
        "root = np.roots(fx)\n",
        "print('방정식의 근:', root)\n",
        "y = np.polyval(fx,root)\n",
        "print('근을 사용한 방정식의 계산 결과 :', y)"
      ],
      "metadata": {
        "colab": {
          "base_uri": "https://localhost:8080/"
        },
        "id": "W-EU7A-9vvzS",
        "outputId": "f7e36248-ce27-4652-fbba-d50f3eef8143"
      },
      "execution_count": null,
      "outputs": [
        {
          "output_type": "stream",
          "name": "stdout",
          "text": [
            "방정식 : f(x)=\n",
            "   2\n",
            "1 x + 2 x + 1\n",
            "방정식의 근: [-1. -1.]\n",
            "근을 사용한 방정식의 계산 결과 : [0. 0.]\n"
          ]
        }
      ]
    },
    {
      "cell_type": "code",
      "source": [
        "import numpy as np\n",
        "fx = np.poly1d([1,2,1])\n",
        "print('np.poly1d() 함수로 생성된 방정식의 객체유형(클래스,class) :', type(fx))\n",
        "print('근을 사용한 방정식의 계산 결과 :', fx(root))\n",
        "print(fx)\n",
        "fx"
      ],
      "metadata": {
        "colab": {
          "base_uri": "https://localhost:8080/"
        },
        "id": "svkt4n_yZe7O",
        "outputId": "7d560de9-7fec-49ae-d506-0f3a350fc14a"
      },
      "execution_count": null,
      "outputs": [
        {
          "output_type": "stream",
          "name": "stdout",
          "text": [
            "np.poly1d() 함수로 생성된 방정식의 객체유형(클래스,class) : <class 'numpy.poly1d'>\n",
            "근을 사용한 방정식의 계산 결과 : [0. 0.]\n",
            "   2\n",
            "1 x + 2 x + 1\n"
          ]
        },
        {
          "output_type": "execute_result",
          "data": {
            "text/plain": [
              "poly1d([1, 2, 1])"
            ]
          },
          "metadata": {},
          "execution_count": 8
        }
      ]
    },
    {
      "cell_type": "code",
      "source": [
        "import numpy as np\n",
        "\n",
        "fx = np.poly1d([3,-2,0,4])\n",
        "print('방정식 : f(x)=')\n",
        "print(fx)\n",
        "root = np.roots(fx)\n",
        "print('방정식의 근:', root)\n",
        "y = np.polyval(fx,root)\n",
        "print('근을 사용한 방정식의 계산 결과 :', y)"
      ],
      "metadata": {
        "colab": {
          "base_uri": "https://localhost:8080/"
        },
        "id": "wKM1EHluyNwm",
        "outputId": "d5edacf0-c51e-4ef8-89b3-aa49c94d1053"
      },
      "execution_count": null,
      "outputs": [
        {
          "output_type": "stream",
          "name": "stdout",
          "text": [
            "방정식 : f(x)=\n",
            "   3     2\n",
            "3 x - 2 x + 4\n",
            "방정식의 근: [ 0.79205291+0.90883051j  0.79205291-0.90883051j -0.91743916+0.j        ]\n",
            "근을 사용한 방정식의 계산 결과 : [-4.4408921e-15+1.77635684e-15j -4.4408921e-15-1.77635684e-15j\n",
            "  8.8817842e-16+0.00000000e+00j]\n"
          ]
        }
      ]
    },
    {
      "cell_type": "code",
      "source": [
        "import math\n",
        "\n",
        "for i in y:\n",
        "    print('계산결과의 실수부', format(i.real,'.16f'),'이 0과 같은지 여부 :',math.isclose(i.real,0))\n",
        "    print('계산결과의 허수부', format(i.imag,'.16f'),'이 0과 같은지 여부 :',math.isclose(i.imag,0))"
      ],
      "metadata": {
        "colab": {
          "base_uri": "https://localhost:8080/"
        },
        "id": "woo19DUi1XrS",
        "outputId": "9de5f878-be2a-43e2-bbdd-dff77b973a15"
      },
      "execution_count": null,
      "outputs": [
        {
          "output_type": "stream",
          "name": "stdout",
          "text": [
            "계산결과의 실수부 -0.0000000000000044 이 0과 같은지 여부 : False\n",
            "계산결과의 허수부 0.0000000000000018 이 0과 같은지 여부 : False\n",
            "계산결과의 실수부 -0.0000000000000044 이 0과 같은지 여부 : False\n",
            "계산결과의 허수부 -0.0000000000000018 이 0과 같은지 여부 : False\n",
            "계산결과의 실수부 0.0000000000000009 이 0과 같은지 여부 : False\n",
            "계산결과의 허수부 0.0000000000000000 이 0과 같은지 여부 : True\n"
          ]
        }
      ]
    },
    {
      "cell_type": "code",
      "source": [
        "import math\n",
        "\n",
        "for i in y:\n",
        "    print('계산결과의 실수부', format(i.real,'.16f'),'이 0과 같은지 여부 :',math.isclose(i.real,0,abs_tol=1e-14))\n",
        "    print('계산결과의 허수부', format(i.imag,'.16f'),'이 0과 같은지 여부 :',math.isclose(i.imag,0,abs_tol=1e-14))"
      ],
      "metadata": {
        "colab": {
          "base_uri": "https://localhost:8080/"
        },
        "id": "HHO2P1qZFDfo",
        "outputId": "82c7e6bb-d056-44db-9cfb-811c2a67e5c7"
      },
      "execution_count": null,
      "outputs": [
        {
          "output_type": "stream",
          "name": "stdout",
          "text": [
            "계산결과의 실수부 -0.0000000000000044 이 0과 같은지 여부 : True\n",
            "계산결과의 허수부 0.0000000000000018 이 0과 같은지 여부 : True\n",
            "계산결과의 실수부 -0.0000000000000044 이 0과 같은지 여부 : True\n",
            "계산결과의 허수부 -0.0000000000000018 이 0과 같은지 여부 : True\n",
            "계산결과의 실수부 0.0000000000000009 이 0과 같은지 여부 : True\n",
            "계산결과의 허수부 0.0000000000000000 이 0과 같은지 여부 : True\n"
          ]
        }
      ]
    },
    {
      "cell_type": "code",
      "source": [
        "for i in y:\n",
        "    print(i,'계산결과가 0과 같은지 여부 :',math.isclose(abs(i),0,abs_tol=1e-14))"
      ],
      "metadata": {
        "colab": {
          "base_uri": "https://localhost:8080/"
        },
        "id": "rCHVmVlCsvKW",
        "outputId": "e73918d3-6806-4675-944c-fd608949eda2"
      },
      "execution_count": null,
      "outputs": [
        {
          "output_type": "stream",
          "name": "stdout",
          "text": [
            "(-4.440892098500626e-15+1.7763568394002505e-15j) 계산결과가 0과 같은지 여부 : True\n",
            "(-4.440892098500626e-15-1.7763568394002505e-15j) 계산결과가 0과 같은지 여부 : True\n",
            "(8.881784197001252e-16+0j) 계산결과가 0과 같은지 여부 : True\n"
          ]
        }
      ]
    },
    {
      "cell_type": "code",
      "source": [
        "import numpy as np\n",
        "\n",
        "fx = np.poly1d([1,2,3-3j])\n",
        "print('방정식 : f(x)=')\n",
        "print(fx)\n",
        "root = np.roots(fx)\n",
        "print('방정식의 근:', root)\n",
        "y = np.polyval(fx,root)\n",
        "print('근을 사용한 방정식의 계산 결과 :', y)"
      ],
      "metadata": {
        "colab": {
          "base_uri": "https://localhost:8080/"
        },
        "id": "Y7NyAnvOPKD7",
        "outputId": "ce372af0-916d-4027-e0f1-18b6167f6732"
      },
      "execution_count": null,
      "outputs": [
        {
          "output_type": "stream",
          "name": "stdout",
          "text": [
            "방정식 : f(x)=\n",
            "   2\n",
            "1 x + 2 x + (3 + -3j)\n",
            "방정식의 근: [-1.89597748-1.67414923j -0.10402252+1.67414923j]\n",
            "근을 사용한 방정식의 계산 결과 : [-4.44089210e-16+3.55271368e-15j -1.33226763e-15+4.44089210e-16j]\n"
          ]
        }
      ]
    },
    {
      "cell_type": "markdown",
      "source": [
        "예측을 위한 방정식을 만들어 예측하기"
      ],
      "metadata": {
        "id": "2wsdmI0UJGMe"
      }
    },
    {
      "cell_type": "code",
      "source": [
        "import numpy as np\n",
        "\n",
        "ages = np.array([10,17,27,24,38,35,29,40,12,32,23,21])\n",
        "weights = np.array([30,45,58,50,61,65,50,51,35,62,50,40])\n",
        "\n",
        "coefficients = np.polyfit(ages,weights,1)\n",
        "print('x의 계수 :',coefficients)"
      ],
      "metadata": {
        "colab": {
          "base_uri": "https://localhost:8080/"
        },
        "id": "g62kIY6o_1EW",
        "outputId": "f8d2dc83-8cd9-4fb9-ded7-530a105f528d"
      },
      "execution_count": null,
      "outputs": [
        {
          "output_type": "stream",
          "name": "stdout",
          "text": [
            "x의 계수 : [ 0.95016077 25.36254019]\n"
          ]
        }
      ]
    },
    {
      "cell_type": "code",
      "source": [
        "fx = np.poly1d(coefficients)\n",
        "print('회귀방정식 :',fx)\n",
        "expectedWeight = np.polyval(fx,30)\n",
        "print('30살일 때 예측되는 체중 :',expectedWeight)"
      ],
      "metadata": {
        "colab": {
          "base_uri": "https://localhost:8080/"
        },
        "id": "G5MXW9B_sKvS",
        "outputId": "66d06b7f-c80e-4145-a46f-d7bc82ba08eb"
      },
      "execution_count": null,
      "outputs": [
        {
          "output_type": "stream",
          "name": "stdout",
          "text": [
            "회귀방정식 :  \n",
            "0.9502 x + 25.36\n",
            "30살일 때 예측되는 체중 : 53.86736334405144\n"
          ]
        }
      ]
    },
    {
      "cell_type": "code",
      "source": [
        "import matplotlib.pyplot as plt\n",
        "\n",
        "agesForPrediction = np.arange(10,41)\n",
        "predictedWeights = np.polyval(fx,agesForPrediction)\n",
        "\n",
        "plt.scatter(ages,weights)\n",
        "plt.plot(agesForPrediction,predictedWeights)\n",
        "plt.show()"
      ],
      "metadata": {
        "colab": {
          "base_uri": "https://localhost:8080/",
          "height": 265
        },
        "id": "NkeIcRZSytsD",
        "outputId": "14e98f00-47cf-4f85-91c0-73d6991db157"
      },
      "execution_count": null,
      "outputs": [
        {
          "output_type": "display_data",
          "data": {
            "text/plain": [
              "<Figure size 432x288 with 1 Axes>"
            ],
            "image/png": "[encoded data removed]"
          },
          "metadata": {
            "needs_background": "light"
          }
        }
      ]
    },
    {
      "cell_type": "code",
      "source": [
        "coefficients1 = np.polyfit(ages,weights,1)\n",
        "coefficients2 = np.polyfit(ages,weights,2)\n",
        "coefficients3 = np.polyfit(ages,weights,3)\n",
        "\n",
        "fx1 = np.poly1d(coefficients1)\n",
        "fx2 = np.poly1d(coefficients2)\n",
        "fx3 = np.poly1d(coefficients3)\n",
        "\n",
        "agesForPrediction = np.arange(10,41)\n",
        "predictedWeights1 = np.polyval(fx1,agesForPrediction)\n",
        "predictedWeights2 = np.polyval(fx2,agesForPrediction)\n",
        "predictedWeights3 = np.polyval(fx3,agesForPrediction)\n",
        "\n",
        "plt.scatter(ages,weights)\n",
        "plt.plot(agesForPrediction,predictedWeights1)\n",
        "plt.plot(agesForPrediction,predictedWeights2)\n",
        "plt.plot(agesForPrediction,predictedWeights3)\n",
        "plt.show()"
      ],
      "metadata": {
        "colab": {
          "base_uri": "https://localhost:8080/",
          "height": 265
        },
        "id": "dIitg2EbqlGN",
        "outputId": "0172b554-a95e-49a8-ff1b-ce6027f1c631"
      },
      "execution_count": null,
      "outputs": [
        {
          "output_type": "display_data",
          "data": {
            "text/plain": [
              "<Figure size 432x288 with 1 Axes>"
            ],
            "image/png": "[encoded data removed]"
          },
          "metadata": {
            "needs_background": "light"
          }
        }
      ]
    },
    {
      "cell_type": "markdown",
      "source": [
        "선형 연립방정식"
      ],
      "metadata": {
        "id": "wsRJVptBJpuD"
      }
    },
    {
      "cell_type": "code",
      "source": [
        "import numpy as np\n",
        "\n",
        "A = np.array([[4,-2,3],[3,1,5],[-2,2,-2]])\n",
        "b = np.array([9,8,5])\n",
        "x = np.linalg.solve(A,b)\n",
        "\n",
        "print('연립방정식의 해 :\\n',x)\n",
        "print('x1 :',x[0])\n",
        "print('x2 :',x[1])\n",
        "print('x3 :',x[2])"
      ],
      "metadata": {
        "colab": {
          "base_uri": "https://localhost:8080/"
        },
        "id": "iqbs5-NGjAPO",
        "outputId": "66999333-25a3-4e5b-9f02-b6a3b2c65848"
      },
      "execution_count": null,
      "outputs": [
        {
          "output_type": "stream",
          "name": "stdout",
          "text": [
            "연립방정식의 해 :\n",
            " [ 9.8125  6.6875 -5.625 ]\n",
            "x1 : 9.8125\n",
            "x2 : 6.6875\n",
            "x3 : -5.625\n"
          ]
        }
      ]
    },
    {
      "cell_type": "code",
      "source": [
        "print('Ax =',A @ x)\n",
        "print('연립방정식의 해 일치 여부 :',np.allclose(A @ x, b))"
      ],
      "metadata": {
        "colab": {
          "base_uri": "https://localhost:8080/"
        },
        "id": "iqHI9IFftBtP",
        "outputId": "2a977d50-1445-4625-e9b4-5f634710cfe1"
      },
      "execution_count": null,
      "outputs": [
        {
          "output_type": "stream",
          "name": "stdout",
          "text": [
            "Ax = [9. 8. 5.]\n",
            "연립방정식의 해 일치 여부 : True\n"
          ]
        }
      ]
    },
    {
      "cell_type": "code",
      "source": [
        "xForVerify = np.linalg.inv(A) @ b\n",
        "print('x =',xForVerify)\n",
        "print('AxForVerify =',A @ xForVerify)\n",
        "print('연립방정식의 검증해 일치 여부 :',np.allclose(A @ xForVerify, b))\n",
        "print('연립방정식의 해 일치 여부 :',np.allclose(x, xForVerify))"
      ],
      "metadata": {
        "colab": {
          "base_uri": "https://localhost:8080/"
        },
        "id": "p7AAGqsaweOY",
        "outputId": "32eb3c8d-caa1-4bb9-dbd9-d60abdceb8a9"
      },
      "execution_count": null,
      "outputs": [
        {
          "output_type": "stream",
          "name": "stdout",
          "text": [
            "x = [ 9.8125  6.6875 -5.625 ]\n",
            "AxForVerify = [9. 8. 5.]\n",
            "연립방정식의 검증해 일치 여부 : True\n",
            "연립방정식의 해 일치 여부 : True\n"
          ]
        }
      ]
    }
  ]
}