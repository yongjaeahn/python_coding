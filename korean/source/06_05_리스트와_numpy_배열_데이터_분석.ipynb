{
  "nbformat": 4,
  "nbformat_minor": 0,
  "metadata": {
    "colab": {
      "provenance": [],
      "authorship_tag": "ABX9TyPwYaHxLOhJRYgT3DZXRdhY",
      "include_colab_link": true
    },
    "kernelspec": {
      "name": "python3",
      "display_name": "Python 3"
    },
    "language_info": {
      "name": "python"
    }
  },
  "cells": [
    {
      "cell_type": "markdown",
      "metadata": {
        "id": "view-in-github",
        "colab_type": "text"
      },
      "source": [
        "<a href=\"https://colab.research.google.com/github/yongjaeahn/python_coding/blob/main/korean/source/06_05_%EB%A6%AC%EC%8A%A4%ED%8A%B8%EC%99%80_numpy_%EB%B0%B0%EC%97%B4_%EB%8D%B0%EC%9D%B4%ED%84%B0_%EB%B6%84%EC%84%9D.ipynb\" target=\"_parent\"><img src=\"https://colab.research.google.com/assets/colab-badge.svg\" alt=\"Open In Colab\"/></a>"
      ]
    },
    {
      "cell_type": "markdown",
      "source": [
        "\t리스트와 numpy 배열 데이터 분석"
      ],
      "metadata": {
        "id": "6g18FFlbwTJa"
      }
    },
    {
      "cell_type": "markdown",
      "source": [
        "최대값/최소값"
      ],
      "metadata": {
        "id": "cezGKOEqwaVu"
      }
    },
    {
      "cell_type": "code",
      "execution_count": null,
      "metadata": {
        "colab": {
          "base_uri": "https://localhost:8080/"
        },
        "id": "sbz0VUqfvrf3",
        "outputId": "0e75d01e-61b1-4828-cdd2-8b8f35cd9a8b"
      },
      "outputs": [
        {
          "output_type": "stream",
          "name": "stdout",
          "text": [
            "list_vector의 최소값 :  1\n",
            "list_vector의 최대값 :  10\n",
            "array_vector의 최소값 :  1\n",
            "array_vector의 최대값 :  10\n"
          ]
        }
      ],
      "source": [
        "import numpy as np\n",
        "\n",
        "list_vector = [10,9,8,7,6,5,4,3,2,1]\n",
        "print(\"list_vector의 최소값 : \", min(list_vector))\n",
        "print(\"list_vector의 최대값 : \", max(list_vector))\n",
        "\n",
        "array_vector = np.array(list_vector)\n",
        "print(\"array_vector의 최소값 : \", min(array_vector))\n",
        "print(\"array_vector의 최대값 : \", max(array_vector))"
      ]
    },
    {
      "cell_type": "code",
      "source": [
        "import numpy as np\n",
        "\n",
        "array_matrix = np.arange(1,51).reshape(5,10)\n",
        "print(\"array_matrix :\\n\",array_matrix)\n",
        "print(\"최소값 : \", np.min(array_matrix))\n",
        "print(\"최대값 : \", np.max(array_matrix))\n",
        "print(\"열의 최소값 : \", np.min(array_matrix,axis=0))\n",
        "print(\"열의 최대값 : \", np.max(array_matrix,axis=0))\n",
        "print(\"행의 최소값 : \", np.min(array_matrix,axis=1))\n",
        "print(\"행의 최대값 : \", np.max(array_matrix,axis=1))"
      ],
      "metadata": {
        "colab": {
          "base_uri": "https://localhost:8080/"
        },
        "id": "C0p4mhHr07lY",
        "outputId": "653c7481-f205-437e-f41f-93953db90fe8"
      },
      "execution_count": null,
      "outputs": [
        {
          "output_type": "stream",
          "name": "stdout",
          "text": [
            "array_matrix :\n",
            " [[ 1  2  3  4  5  6  7  8  9 10]\n",
            " [11 12 13 14 15 16 17 18 19 20]\n",
            " [21 22 23 24 25 26 27 28 29 30]\n",
            " [31 32 33 34 35 36 37 38 39 40]\n",
            " [41 42 43 44 45 46 47 48 49 50]]\n",
            "최소값 :  1\n",
            "최대값 :  50\n",
            "열의 최소값 :  [ 1  2  3  4  5  6  7  8  9 10]\n",
            "열의 최대값 :  [41 42 43 44 45 46 47 48 49 50]\n",
            "행의 최소값 :  [ 1 11 21 31 41]\n",
            "행의 최대값 :  [10 20 30 40 50]\n"
          ]
        }
      ]
    },
    {
      "cell_type": "code",
      "source": [
        "import numpy as np\n",
        "\n",
        "array_vector = np.array([10,9,8,7,6,5,4,3,2,1])\n",
        "min_index = np.argmin(array_vector)\n",
        "print(\"최소값 인덱스 :\", min_index)\n",
        "print(\"최소값 : \", array_vector[min_index])\n",
        "max_index = np.argmax(array_vector)\n",
        "print(\"최대값 인덱스 :\", max_index)\n",
        "print(\"최대값 : \", array_vector[max_index])\n",
        "#최대값을 국외자로 가정하고 평균값으로 변경\n",
        "array_vector[max_index] = np.mean(array_vector)\n",
        "print(\"변경후 array_vector :\",array_vector)"
      ],
      "metadata": {
        "colab": {
          "base_uri": "https://localhost:8080/"
        },
        "id": "QEYwIH0_l_jk",
        "outputId": "0b7a70f2-9285-4b71-be17-79d39c3be86f"
      },
      "execution_count": null,
      "outputs": [
        {
          "output_type": "stream",
          "name": "stdout",
          "text": [
            "최소값 인덱스 : 9\n",
            "최소값 :  1\n",
            "최대값 인덱스 : 0\n",
            "최대값 :  10\n",
            "변경후 array_vector : [5 9 8 7 6 5 4 3 2 1]\n"
          ]
        }
      ]
    },
    {
      "cell_type": "markdown",
      "source": [
        "합과 곱"
      ],
      "metadata": {
        "id": "BoINPJYy12BX"
      }
    },
    {
      "cell_type": "code",
      "source": [
        "import numpy as np\n",
        "\n",
        "array_matrix = np.arange(1,51).reshape(5,10)\n",
        "print(\"array_matrix :\\n\",array_matrix)\n",
        "print(\"array_matrix의 합 :\",np.sum(array_matrix))\n",
        "print(\"array_matrix의 곱 :\",np.prod(array_matrix))"
      ],
      "metadata": {
        "colab": {
          "base_uri": "https://localhost:8080/"
        },
        "id": "wD4x_HNvfW6h",
        "outputId": "ff2f2f6a-119c-4a04-ba70-aabd0b19a989"
      },
      "execution_count": null,
      "outputs": [
        {
          "output_type": "stream",
          "name": "stdout",
          "text": [
            "array_matrix :\n",
            " [[ 1  2  3  4  5  6  7  8  9 10]\n",
            " [11 12 13 14 15 16 17 18 19 20]\n",
            " [21 22 23 24 25 26 27 28 29 30]\n",
            " [31 32 33 34 35 36 37 38 39 40]\n",
            " [41 42 43 44 45 46 47 48 49 50]]\n",
            "array_matrix의 합 : 1275\n",
            "array_matrix의 곱 : -3258495067890909184\n"
          ]
        }
      ]
    },
    {
      "cell_type": "code",
      "source": [
        "array_matrix = np.arange(1,51).reshape(5,10)\n",
        "array_matrix = array_matrix.astype(np.float_)\n",
        "print(\"array_matrix의 합 :\",np.sum(array_matrix))\n",
        "print(\"array_matrix의 곱 :\",np.prod(array_matrix))"
      ],
      "metadata": {
        "colab": {
          "base_uri": "https://localhost:8080/"
        },
        "id": "lxXYYWnBt7Il",
        "outputId": "6e4e23bc-ba2e-4df1-8a57-63c80be53ef3"
      },
      "execution_count": null,
      "outputs": [
        {
          "output_type": "stream",
          "name": "stdout",
          "text": [
            "array_matrix의 합 : 1275.0\n",
            "array_matrix의 곱 : 3.0414093201713376e+64\n"
          ]
        }
      ]
    },
    {
      "cell_type": "code",
      "source": [
        "array_matrix = np.array([[9,2,7],[1,7,5]])\n",
        "print(\"array_matrix의 합 :\",np.sum(array_matrix))\n",
        "print(\"array_matrix의 곱 :\",np.prod(array_matrix))"
      ],
      "metadata": {
        "colab": {
          "base_uri": "https://localhost:8080/"
        },
        "id": "WiM-IONPqT75",
        "outputId": "1b5bb682-4067-4755-e5fd-30d6f4cc1712"
      },
      "execution_count": null,
      "outputs": [
        {
          "output_type": "stream",
          "name": "stdout",
          "text": [
            "array_matrix의 합 : 31\n",
            "array_matrix의 곱 : 4410\n"
          ]
        }
      ]
    },
    {
      "cell_type": "code",
      "source": [
        "print(np.shape(array_matrix))\n",
        "print(array_matrix.shape)"
      ],
      "metadata": {
        "colab": {
          "base_uri": "https://localhost:8080/"
        },
        "id": "XdchEjOR2Xkv",
        "outputId": "32fc7e73-54c6-47dc-d852-ee1e9689d8d1"
      },
      "execution_count": null,
      "outputs": [
        {
          "output_type": "stream",
          "name": "stdout",
          "text": [
            "(2, 3)\n",
            "(2, 3)\n"
          ]
        }
      ]
    },
    {
      "cell_type": "code",
      "source": [
        "array_matrix = np.arange(1,51,dtype=np.float_).reshape(5,10)\n",
        "print(array_matrix.dtype)"
      ],
      "metadata": {
        "colab": {
          "base_uri": "https://localhost:8080/"
        },
        "id": "XRYXLtfBwHrs",
        "outputId": "8e2a2370-5866-4178-f46f-2e4a9c9485c0"
      },
      "execution_count": null,
      "outputs": [
        {
          "output_type": "stream",
          "name": "stdout",
          "text": [
            "float64\n"
          ]
        }
      ]
    },
    {
      "cell_type": "markdown",
      "source": [
        "누적합과 누적곱"
      ],
      "metadata": {
        "id": "ayRVW2-K4aCh"
      }
    },
    {
      "cell_type": "code",
      "source": [
        "array_matrix = np.array([[9,2,7],[1,7,5]])\n",
        "print(\"array_matrix의 누적합 : \",np.cumsum(array_matrix))\n",
        "print(\"array_matrix의 누적곱 : \",np.cumprod(array_matrix))"
      ],
      "metadata": {
        "colab": {
          "base_uri": "https://localhost:8080/"
        },
        "id": "IFh-5jUAhAoX",
        "outputId": "3de4cd1c-8773-4509-d550-b8f0d2d59b56"
      },
      "execution_count": null,
      "outputs": [
        {
          "output_type": "stream",
          "name": "stdout",
          "text": [
            "array_matrix의 누적합 :  [ 9 11 18 19 26 31]\n",
            "array_matrix의 누적곱 :  [   9   18  126  126  882 4410]\n"
          ]
        }
      ]
    },
    {
      "cell_type": "code",
      "source": [
        "print(array_matrix.reshape(-1))"
      ],
      "metadata": {
        "colab": {
          "base_uri": "https://localhost:8080/"
        },
        "id": "pGCez6-yJQim",
        "outputId": "f1def6b7-6dcb-4341-9ae8-222e80be86af"
      },
      "execution_count": null,
      "outputs": [
        {
          "output_type": "stream",
          "name": "stdout",
          "text": [
            "[9 2 7 1 7 5]\n"
          ]
        }
      ]
    },
    {
      "cell_type": "code",
      "source": [
        "print(\"array_matrix :\\n\", array_matrix)\n",
        "print(\"array_matrix의 열 누적합 : \\n\",np.cumsum(array_matrix,axis=0))\n",
        "print(\"array_matrix의 행 누적합 : \\n\",np.cumsum(array_matrix,axis=1))\n",
        "print(\"array_matrix의 열 누적곱 : \\n\",np.cumprod(array_matrix,axis=0))\n",
        "print(\"array_matrix의 행 누적곱 : \\n\",np.cumprod(array_matrix,axis=1))"
      ],
      "metadata": {
        "colab": {
          "base_uri": "https://localhost:8080/"
        },
        "id": "u3YxXyVI9r5p",
        "outputId": "4acc7a21-f200-434d-feca-26d13d38f870"
      },
      "execution_count": null,
      "outputs": [
        {
          "output_type": "stream",
          "name": "stdout",
          "text": [
            "array_matrix :\n",
            " [[9 2 7]\n",
            " [1 7 5]]\n",
            "array_matrix의 열 누적합 : \n",
            " [[ 9  2  7]\n",
            " [10  9 12]]\n",
            "array_matrix의 행 누적합 : \n",
            " [[ 9 11 18]\n",
            " [ 1  8 13]]\n",
            "array_matrix의 열 누적곱 : \n",
            " [[ 9  2  7]\n",
            " [ 9 14 35]]\n",
            "array_matrix의 행 누적곱 : \n",
            " [[  9  18 126]\n",
            " [  1   7  35]]\n"
          ]
        }
      ]
    },
    {
      "cell_type": "code",
      "source": [
        "import numpy as np\n",
        "\n",
        "list_vector = [10,8,6,4,2]\n",
        "print(\"list_vector의 누적합 : \",np.cumsum(np.array(list_vector)))\n",
        "print(\"list_vector의 누적곱 : \",np.cumprod(np.array(list_vector)))"
      ],
      "metadata": {
        "colab": {
          "base_uri": "https://localhost:8080/"
        },
        "id": "LAefL7M2u9XE",
        "outputId": "8d132724-d4fe-4d1d-b939-8e60926f2778"
      },
      "execution_count": null,
      "outputs": [
        {
          "output_type": "stream",
          "name": "stdout",
          "text": [
            "list_vector의 누적합 :  [10 18 24 28 30]\n",
            "list_vector의 누적곱 :  [  10   80  480 1920 3840]\n"
          ]
        }
      ]
    },
    {
      "cell_type": "markdown",
      "source": [
        "차이"
      ],
      "metadata": {
        "id": "vJcH0BxV5Xbp"
      }
    },
    {
      "cell_type": "code",
      "source": [
        "import numpy as np\n",
        "\n",
        "array_vector = np.array([10,9,8,7,6,5,4,3,2,1])\n",
        "array_matrix = np.array([[9,2,7],[1,7,5],[3,5,3]])\n",
        "\n",
        "print(\"array_vector의 차이 :\",np.diff(array_vector))\n",
        "print(\"array_matrix의 차이 (2차원) :\\n\",np.diff(array_matrix))\n",
        "print(\"array_matrix 열의 차이 :\\n\",np.diff(array_matrix,axis=0))\n",
        "print(\"array_matrix 행의 차이 :\\n\",np.diff(array_matrix,axis=1))\n",
        "print(\"array_matrix의 차이 (1차원) :\",np.diff(array_matrix.reshape(-1)))"
      ],
      "metadata": {
        "colab": {
          "base_uri": "https://localhost:8080/"
        },
        "id": "Nk0QRwE7YI5p",
        "outputId": "6bcc03fe-5585-42aa-d7d6-fdc1da9d0a77"
      },
      "execution_count": null,
      "outputs": [
        {
          "output_type": "stream",
          "name": "stdout",
          "text": [
            "array_vector의 차이 : [-1 -1 -1 -1 -1 -1 -1 -1 -1]\n",
            "array_matrix의 차이 (2차원) :\n",
            " [[-7  5]\n",
            " [ 6 -2]\n",
            " [ 2 -2]]\n",
            "array_matrix 열의 차이 :\n",
            " [[-8  5 -2]\n",
            " [ 2 -2 -2]]\n",
            "array_matrix 행의 차이 :\n",
            " [[-7  5]\n",
            " [ 6 -2]\n",
            " [ 2 -2]]\n",
            "array_matrix의 차이 (1차원) : [-7  5 -6  6 -2 -2  2 -2]\n"
          ]
        }
      ]
    },
    {
      "cell_type": "markdown",
      "source": [
        "통계"
      ],
      "metadata": {
        "id": "zgtvVzJY5kXT"
      }
    },
    {
      "cell_type": "code",
      "source": [
        "import numpy as np\n",
        "\n",
        "array_vector = np.array([10,9,8,7,98,6,5,4,3,2,1])\n",
        "array_matrix = np.array([[9,2,7],[1,7,5],[3,5,3]])\n",
        "\n",
        "print(\"array_vector의 평균 :\",np.mean(array_vector))\n",
        "print(\"array_matrix의 평균 :\",np.mean(array_matrix))\n",
        "print(\"array_matrix 열의 평균 :\",np.mean(array_matrix,axis=0))\n",
        "print(\"array_matrix 행의 평균 :\",np.mean(array_matrix,axis=1))"
      ],
      "metadata": {
        "colab": {
          "base_uri": "https://localhost:8080/"
        },
        "id": "dyNrVegIeLVs",
        "outputId": "87fbc612-0734-4bc7-9d23-65c50f1d79d5"
      },
      "execution_count": null,
      "outputs": [
        {
          "output_type": "stream",
          "name": "stdout",
          "text": [
            "array_vector의 평균 : 13.909090909090908\n",
            "array_matrix의 평균 : 4.666666666666667\n",
            "array_matrix 열의 평균 : [4.33333333 4.66666667 5.        ]\n",
            "array_matrix 행의 평균 : [6.         4.33333333 3.66666667]\n"
          ]
        }
      ]
    },
    {
      "cell_type": "code",
      "source": [
        "import numpy as np\n",
        "\n",
        "array_vector = np.array([10,9,8,7,98,6,5,4,3,2,1])\n",
        "temp_array_vector = array_vector[array_vector != np.max(array_vector)]\n",
        "print(\"최대값 이상치가 제거된 array_vector :\",temp_array_vector)\n",
        "print(\"array_vector의 평균 :\",np.mean(temp_array_vector))"
      ],
      "metadata": {
        "colab": {
          "base_uri": "https://localhost:8080/"
        },
        "id": "ur1msDdgiGn6",
        "outputId": "a367c12d-857c-4c06-ac3a-5e1c45ef5afe"
      },
      "execution_count": null,
      "outputs": [
        {
          "output_type": "stream",
          "name": "stdout",
          "text": [
            "최대값 이상치가 제거된 array_vector : [10  9  8  7  6  5  4  3  2  1]\n",
            "array_vector의 평균 : 5.5\n"
          ]
        }
      ]
    },
    {
      "cell_type": "code",
      "source": [
        "import numpy as np\n",
        "\n",
        "array_vector = np.array([10,9,8,7,6,6,5,4,3,2,1])\n",
        "array_matrix = np.array([[9,2,7],[1,7,5],[3,5,3]])\n",
        "\n",
        "print(\"array_vector의 최빈치 :\",np.mode(array_vector))\n",
        "print(\"array_matrix의 최빈치 :\",np.mode(array_matrix))\n",
        "print(\"array_matrix 열의 최빈치 :\\n\",np.mode(array_matrix,axis=0))\n",
        "print(\"array_matrix 행의 최빈치 :\\n\",np.mode(array_matrix,axis=1))"
      ],
      "metadata": {
        "colab": {
          "base_uri": "https://localhost:8080/",
          "height": 391
        },
        "id": "ITmFdT0dlqKo",
        "outputId": "a6dba2f0-57aa-46ae-d8c4-3d9ae2aa14c8"
      },
      "execution_count": null,
      "outputs": [
        {
          "output_type": "error",
          "ename": "AttributeError",
          "evalue": "ignored",
          "traceback": [
            "\u001b[0;31m---------------------------------------------------------------------------\u001b[0m",
            "\u001b[0;31mAttributeError\u001b[0m                            Traceback (most recent call last)",
            "\u001b[0;32m<ipython-input-3-38fea236d3ca>\u001b[0m in \u001b[0;36m<cell line: 6>\u001b[0;34m()\u001b[0m\n\u001b[1;32m      4\u001b[0m \u001b[0marray_matrix\u001b[0m \u001b[0;34m=\u001b[0m \u001b[0mnp\u001b[0m\u001b[0;34m.\u001b[0m\u001b[0marray\u001b[0m\u001b[0;34m(\u001b[0m\u001b[0;34m[\u001b[0m\u001b[0;34m[\u001b[0m\u001b[0;36m9\u001b[0m\u001b[0;34m,\u001b[0m\u001b[0;36m2\u001b[0m\u001b[0;34m,\u001b[0m\u001b[0;36m7\u001b[0m\u001b[0;34m]\u001b[0m\u001b[0;34m,\u001b[0m\u001b[0;34m[\u001b[0m\u001b[0;36m1\u001b[0m\u001b[0;34m,\u001b[0m\u001b[0;36m7\u001b[0m\u001b[0;34m,\u001b[0m\u001b[0;36m5\u001b[0m\u001b[0;34m]\u001b[0m\u001b[0;34m,\u001b[0m\u001b[0;34m[\u001b[0m\u001b[0;36m3\u001b[0m\u001b[0;34m,\u001b[0m\u001b[0;36m5\u001b[0m\u001b[0;34m,\u001b[0m\u001b[0;36m3\u001b[0m\u001b[0;34m]\u001b[0m\u001b[0;34m]\u001b[0m\u001b[0;34m)\u001b[0m\u001b[0;34m\u001b[0m\u001b[0;34m\u001b[0m\u001b[0m\n\u001b[1;32m      5\u001b[0m \u001b[0;34m\u001b[0m\u001b[0m\n\u001b[0;32m----> 6\u001b[0;31m \u001b[0mprint\u001b[0m\u001b[0;34m(\u001b[0m\u001b[0;34m\"array_vector의 최빈치 :\"\u001b[0m\u001b[0;34m,\u001b[0m\u001b[0mnp\u001b[0m\u001b[0;34m.\u001b[0m\u001b[0mmode\u001b[0m\u001b[0;34m(\u001b[0m\u001b[0marray_vector\u001b[0m\u001b[0;34m)\u001b[0m\u001b[0;34m)\u001b[0m\u001b[0;34m\u001b[0m\u001b[0;34m\u001b[0m\u001b[0m\n\u001b[0m\u001b[1;32m      7\u001b[0m \u001b[0mprint\u001b[0m\u001b[0;34m(\u001b[0m\u001b[0;34m\"array_matrix의 최빈치 :\"\u001b[0m\u001b[0;34m,\u001b[0m\u001b[0mnp\u001b[0m\u001b[0;34m.\u001b[0m\u001b[0mmode\u001b[0m\u001b[0;34m(\u001b[0m\u001b[0marray_matrix\u001b[0m\u001b[0;34m)\u001b[0m\u001b[0;34m)\u001b[0m\u001b[0;34m\u001b[0m\u001b[0;34m\u001b[0m\u001b[0m\n\u001b[1;32m      8\u001b[0m \u001b[0mprint\u001b[0m\u001b[0;34m(\u001b[0m\u001b[0;34m\"array_matrix 열의 최빈치 :\\n\"\u001b[0m\u001b[0;34m,\u001b[0m\u001b[0mnp\u001b[0m\u001b[0;34m.\u001b[0m\u001b[0mmode\u001b[0m\u001b[0;34m(\u001b[0m\u001b[0marray_matrix\u001b[0m\u001b[0;34m,\u001b[0m\u001b[0maxis\u001b[0m\u001b[0;34m=\u001b[0m\u001b[0;36m0\u001b[0m\u001b[0;34m)\u001b[0m\u001b[0;34m)\u001b[0m\u001b[0;34m\u001b[0m\u001b[0;34m\u001b[0m\u001b[0m\n",
            "\u001b[0;32m/usr/local/lib/python3.10/dist-packages/numpy/__init__.py\u001b[0m in \u001b[0;36m__getattr__\u001b[0;34m(attr)\u001b[0m\n\u001b[1;32m    309\u001b[0m             \u001b[0;32mreturn\u001b[0m \u001b[0mTester\u001b[0m\u001b[0;34m\u001b[0m\u001b[0;34m\u001b[0m\u001b[0m\n\u001b[1;32m    310\u001b[0m \u001b[0;34m\u001b[0m\u001b[0m\n\u001b[0;32m--> 311\u001b[0;31m         raise AttributeError(\"module {!r} has no attribute \"\n\u001b[0m\u001b[1;32m    312\u001b[0m                              \"{!r}\".format(__name__, attr))\n\u001b[1;32m    313\u001b[0m \u001b[0;34m\u001b[0m\u001b[0m\n",
            "\u001b[0;31mAttributeError\u001b[0m: module 'numpy' has no attribute 'mode'"
          ]
        }
      ]
    },
    {
      "cell_type": "code",
      "source": [
        "import numpy as np\n",
        "from scipy import stats\n",
        "\n",
        "array_vector = np.array([10,9,8,7,6,6,5,4,3,2,1])\n",
        "array_matrix = np.array([[9,9,2,3],[9,7,7,5],[3,5,2,3]])\n",
        "\n",
        "print(\"array_vector의 최빈치 :\",stats.mode(array_vector))\n",
        "print(\"array_matrix :\\n\",array_matrix)\n",
        "print(\"array_matrix의 최빈치 (2차원) :\\n\",stats.mode(array_matrix))\n",
        "print(\"array_matrix 열의 최빈치 :\\n\",stats.mode(array_matrix,axis=0))\n",
        "print(\"array_matrix 행의 최빈치 :\\n\",stats.mode(array_matrix,axis=1))"
      ],
      "metadata": {
        "colab": {
          "base_uri": "https://localhost:8080/"
        },
        "id": "gHpo2RTwmAE8",
        "outputId": "1e3e33fa-11a9-43d6-ce11-58730219cd24"
      },
      "execution_count": 2,
      "outputs": [
        {
          "output_type": "stream",
          "name": "stdout",
          "text": [
            "array_vector의 최빈치 : ModeResult(mode=6, count=2)\n",
            "array_matrix :\n",
            " [[9 9 2 3]\n",
            " [9 7 7 5]\n",
            " [3 5 2 3]]\n",
            "array_matrix의 최빈치 (2차원) :\n",
            " ModeResult(mode=array([9, 5, 2, 3]), count=array([2, 1, 2, 2]))\n",
            "array_matrix 열의 최빈치 :\n",
            " ModeResult(mode=array([9, 5, 2, 3]), count=array([2, 1, 2, 2]))\n",
            "array_matrix 행의 최빈치 :\n",
            " ModeResult(mode=array([9, 7, 3]), count=array([2, 2, 2]))\n"
          ]
        }
      ]
    },
    {
      "cell_type": "code",
      "source": [
        "print(\"array_vector의 최빈치 :\",stats.mode(array_vector).mode)\n",
        "print(\"array_vector의 최빈치 발생 횟수 :\",stats.mode(array_vector).count)\n",
        "print(\"array_matrix 1열의 최빈치 :\",stats.mode(array_matrix,axis=0).mode[0])\n",
        "print(\"array_matrix 1열의 최빈치 발생 횟수 :\",stats.mode(array_matrix,axis=0).count[0])\n",
        "print(\"array_matrix 2행의 최빈치 :\",stats.mode(array_matrix,axis=1).mode[1])\n",
        "print(\"array_matrix 2행의 최빈치 발생 횟수 :\",stats.mode(array_matrix,axis=1).count[1])"
      ],
      "metadata": {
        "colab": {
          "base_uri": "https://localhost:8080/"
        },
        "id": "nBBG-TLH1TWJ",
        "outputId": "22c973ba-ab02-4a98-d8d3-4afdf8b5c730"
      },
      "execution_count": null,
      "outputs": [
        {
          "output_type": "stream",
          "name": "stdout",
          "text": [
            "array_vector의 최빈치 : 6\n",
            "array_vector의 최빈치 발생 횟수 : 2\n",
            "array_matrix 1열의 최빈치 : 9\n",
            "array_matrix 1열의 최빈치 발생 횟수 : 2\n",
            "array_matrix 2행의 최빈치 : 7\n",
            "array_matrix 2행의 최빈치 발생 횟수 : 2\n"
          ]
        }
      ]
    },
    {
      "cell_type": "code",
      "source": [
        "array_vector = np.array([10,9,8,7,6,6,5,4,3,3,2,1])\n",
        "\n",
        "print(\"array_vector의 최빈치 :\",stats.mode(array_vector))"
      ],
      "metadata": {
        "colab": {
          "base_uri": "https://localhost:8080/"
        },
        "id": "85ja5K-Xp3mR",
        "outputId": "474f64fb-7661-46e9-e00e-94b8c158987f"
      },
      "execution_count": 4,
      "outputs": [
        {
          "output_type": "stream",
          "name": "stdout",
          "text": [
            "array_vector의 최빈치 : ModeResult(mode=3, count=2)\n"
          ]
        }
      ]
    },
    {
      "cell_type": "code",
      "source": [
        "import scipy\n",
        "print(scipy.__version__)"
      ],
      "metadata": {
        "colab": {
          "base_uri": "https://localhost:8080/"
        },
        "id": "4w7dslxaPWX-",
        "outputId": "6ae951b1-0246-4c93-d3e3-9e56a513713e"
      },
      "execution_count": null,
      "outputs": [
        {
          "output_type": "stream",
          "name": "stdout",
          "text": [
            "1.11.4\n"
          ]
        }
      ]
    }
  ]
}