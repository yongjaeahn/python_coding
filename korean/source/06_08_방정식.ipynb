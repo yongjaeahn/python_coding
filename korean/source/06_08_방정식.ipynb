{
  "nbformat": 4,
  "nbformat_minor": 0,
  "metadata": {
    "colab": {
      "provenance": [],
      "authorship_tag": "ABX9TyOW0b2RJqP5FG84Q9suOceZ",
      "include_colab_link": true
    },
    "kernelspec": {
      "name": "python3",
      "display_name": "Python 3"
    },
    "language_info": {
      "name": "python"
    }
  },
  "cells": [
    {
      "cell_type": "markdown",
      "metadata": {
        "id": "view-in-github",
        "colab_type": "text"
      },
      "source": [
        "<a href=\"https://colab.research.google.com/github/yongjaeahn/python_coding/blob/main/korean/source/06_08_%EB%B0%A9%EC%A0%95%EC%8B%9D.ipynb\" target=\"_parent\"><img src=\"https://colab.research.google.com/assets/colab-badge.svg\" alt=\"Open In Colab\"/></a>"
      ]
    },
    {
      "cell_type": "markdown",
      "source": [
        "\t방정식"
      ],
      "metadata": {
        "id": "PlijbeHBHVyA"
      }
    },
    {
      "cell_type": "markdown",
      "source": [
        "일차방정식"
      ],
      "metadata": {
        "id": "7NXqSOPGHYDN"
      }
    },
    {
      "cell_type": "code",
      "execution_count": null,
      "metadata": {
        "colab": {
          "base_uri": "https://localhost:8080/"
        },
        "id": "kWqCLTs3fEAe",
        "outputId": "db5b2d37-6798-485c-8bd7-cdacefdaca1c"
      },
      "outputs": [
        {
          "output_type": "stream",
          "name": "stdout",
          "text": [
            "x가 2일 때 f(x) = 2x - 3식의 계산 결과 : 1\n"
          ]
        }
      ],
      "source": [
        "x = 2\n",
        "y = 2 * x - 3\n",
        "print('x가 2일 때 f(x) = 2x - 3식의 계산 결과 :',y)"
      ]
    },
    {
      "cell_type": "code",
      "source": [
        "def f(x):\n",
        "  return 2 * x - 3\n",
        "\n",
        "x = 2\n",
        "y = f(x)\n",
        "print('x가 2일 때 f(x) = 2x - 3식의 계산 결과 :',y)\n",
        "x = 3\n",
        "y = f(x)\n",
        "print('x가 3일 때 f(x) = 2x - 3식의 계산 결과 :',y)"
      ],
      "metadata": {
        "colab": {
          "base_uri": "https://localhost:8080/"
        },
        "id": "-YHFEA5tOgaR",
        "outputId": "22cc71ae-f2c9-4808-bb37-33394d2b5de1"
      },
      "execution_count": null,
      "outputs": [
        {
          "output_type": "stream",
          "name": "stdout",
          "text": [
            "x가 2일 때 f(x) = 2x - 3식의 계산 결과 : 1\n",
            "x가 3일 때 f(x) = 2x - 3식의 계산 결과 : 3\n"
          ]
        }
      ]
    },
    {
      "cell_type": "code",
      "source": [
        "def fsolve():\n",
        "  return 3 / 2\n",
        "\n",
        "root = fsolve()\n",
        "print('f(x) = 2x - 3 식의 근 :',root)\n",
        "y = f(root)\n",
        "print('근을 사용한 f(x) = 2x - 3식의 계산 결과 :',y)"
      ],
      "metadata": {
        "colab": {
          "base_uri": "https://localhost:8080/"
        },
        "id": "S4jisM9iR3Fu",
        "outputId": "f1e8bee5-af90-4db1-9b8d-019e60847c90"
      },
      "execution_count": null,
      "outputs": [
        {
          "output_type": "stream",
          "name": "stdout",
          "text": [
            "f(x) = 2x - 3 식의 근 : 1.5\n",
            "근을 사용한 f(x) = 2x - 3식의 계산 결과 : 0.0\n"
          ]
        }
      ]
    },
    {
      "cell_type": "markdown",
      "source": [
        "이차방정식"
      ],
      "metadata": {
        "id": "gEomN2qyH9mF"
      }
    },
    {
      "cell_type": "code",
      "source": [
        "def f(x):\n",
        "  return x ** 2 + 2 * x + 1"
      ],
      "metadata": {
        "id": "VLs1e6vBW_GO"
      },
      "execution_count": null,
      "outputs": []
    },
    {
      "cell_type": "code",
      "source": [
        "import math\n",
        "\n",
        "def fsolve(a,b,c):\n",
        "  x1 = (-b + math.sqrt(b**2 - 4*a*c)) / (2*a)\n",
        "  x2 = (-b - math.sqrt(b**2 - 4*a*c)) / (2*a)\n",
        "  return x1, x2"
      ],
      "metadata": {
        "id": "Ss4SYoU5Zwz0"
      },
      "execution_count": null,
      "outputs": []
    },
    {
      "cell_type": "code",
      "source": [
        "root1, root2 = fsolve(1,2,1)\n",
        "print('f(x) = x**2 + 2x + 1식의 근 :',root1, root2)\n",
        "y = f(root1)\n",
        "print('근1을 사용한 f(x) = x**2 + 2x + 1식의 계산 결과 :',y)\n",
        "y = f(root2)\n",
        "print('근2을 사용한 f(x) = x**2 + 2x + 1식의 계산 결과 :',y)"
      ],
      "metadata": {
        "colab": {
          "base_uri": "https://localhost:8080/"
        },
        "id": "2Dz-6q3Jdvro",
        "outputId": "ed1b0369-c6b0-41ea-afbb-1bd84879ead6"
      },
      "execution_count": null,
      "outputs": [
        {
          "output_type": "stream",
          "name": "stdout",
          "text": [
            "f(x) = x**2 + 2x + 1식의 근 : -1.0 -1.0\n",
            "근1을 사용한 f(x) = x**2 + 2x + 1식의 계산 결과 : 0.0\n",
            "근2을 사용한 f(x) = x**2 + 2x + 1식의 계산 결과 : 0.0\n"
          ]
        }
      ]
    },
    {
      "cell_type": "markdown",
      "source": [
        "다항식"
      ],
      "metadata": {
        "id": "N1B-gbnYIWjd"
      }
    },
    {
      "cell_type": "code",
      "source": [
        "import numpy as np\n",
        "\n",
        "f = np.poly1d([2,-3])\n",
        "print('방정식 : f(x)=',f)\n",
        "root = np.roots(f)\n",
        "print('방정식의 근:', root)\n",
        "y = np.polyval(f,root)    # y = f(root)\n",
        "print('근을 사용한 방정식의 계산 결과 :', y)"
      ],
      "metadata": {
        "colab": {
          "base_uri": "https://localhost:8080/"
        },
        "id": "RIYaS8yFqg4I",
        "outputId": "9e8da217-0232-47b5-8794-18155a3fcb05"
      },
      "execution_count": null,
      "outputs": [
        {
          "output_type": "stream",
          "name": "stdout",
          "text": [
            "방정식 : f(x)=  \n",
            "2 x - 3\n",
            "방정식의 근: [1.5]\n",
            "근을 사용한 방정식의 계산 결과 : [0.]\n"
          ]
        }
      ]
    },
    {
      "cell_type": "code",
      "source": [
        "import numpy as np\n",
        "\n",
        "f = np.poly1d([1,2,1])\n",
        "print('방정식 : f(x)=')\n",
        "print(f)\n",
        "root = np.roots(f)\n",
        "print('방정식의 근:', root)\n",
        "y = np.polyval(f,root)    # y = f(root)\n",
        "print('근을 사용한 방정식의 계산 결과 :', y)"
      ],
      "metadata": {
        "colab": {
          "base_uri": "https://localhost:8080/"
        },
        "id": "W-EU7A-9vvzS",
        "outputId": "9a1ed566-6f8e-4e81-f5a8-de6c3f22c93f"
      },
      "execution_count": null,
      "outputs": [
        {
          "output_type": "stream",
          "name": "stdout",
          "text": [
            "방정식 : f(x)=\n",
            "   2\n",
            "1 x + 2 x + 1\n",
            "방정식의 근: [-1. -1.]\n",
            "근을 사용한 방정식의 계산 결과 : [0. 0.]\n"
          ]
        }
      ]
    },
    {
      "cell_type": "code",
      "source": [
        "import numpy as np\n",
        "f = np.poly1d([1,2,1])\n",
        "print('np.poly1d() 함수로 생성된 방정식의 객체유형(클래스,class) :', type(f))\n",
        "print('근을 사용한 방정식의 계산 결과 :', f(root))"
      ],
      "metadata": {
        "colab": {
          "base_uri": "https://localhost:8080/"
        },
        "id": "svkt4n_yZe7O",
        "outputId": "3fe5f8ac-883f-4fd2-f2e5-e3a1a0f95cba"
      },
      "execution_count": null,
      "outputs": [
        {
          "output_type": "stream",
          "name": "stdout",
          "text": [
            "np.poly1d() 함수로 생성된 방정식의 객체유형(클래스,class) : <class 'numpy.poly1d'>\n",
            "근을 사용한 방정식의 계산 결과 : [0. 0.]\n"
          ]
        }
      ]
    },
    {
      "cell_type": "markdown",
      "source": [
        "회귀방정식"
      ],
      "metadata": {
        "id": "2wsdmI0UJGMe"
      }
    },
    {
      "cell_type": "code",
      "source": [
        "import numpy as np\n",
        "\n",
        "ages = np.array([10,17,27,24,38,35,29,40,12,32,23,21])\n",
        "weights = np.array([30,45,58,50,61,65,50,51,35,62,50,40])\n",
        "\n",
        "coefficients = np.polyfit(ages,weights,1)\n",
        "print('x의 계수 :',coefficients)"
      ],
      "metadata": {
        "colab": {
          "base_uri": "https://localhost:8080/"
        },
        "id": "g62kIY6o_1EW",
        "outputId": "aeb2a3e0-ff9f-4182-db71-d272daa7b0eb"
      },
      "execution_count": null,
      "outputs": [
        {
          "output_type": "stream",
          "name": "stdout",
          "text": [
            "x의 계수 : [ 0.95016077 25.36254019]\n"
          ]
        }
      ]
    },
    {
      "cell_type": "code",
      "source": [
        "f = np.poly1d(coefficients)\n",
        "print('회귀방정식 :',f)\n",
        "expected_weight = np.polyval(f,30)\n",
        "print('30살일 때 예측되는 체중 :',expected_weight)"
      ],
      "metadata": {
        "colab": {
          "base_uri": "https://localhost:8080/"
        },
        "id": "G5MXW9B_sKvS",
        "outputId": "7a62c577-7717-4913-de14-fe76e99992ad"
      },
      "execution_count": null,
      "outputs": [
        {
          "output_type": "stream",
          "name": "stdout",
          "text": [
            "회귀방정식 :  \n",
            "0.9502 x + 25.36\n",
            "30살일 때 예측되는 체중 : 53.86736334405144\n"
          ]
        }
      ]
    },
    {
      "cell_type": "code",
      "source": [
        "import matplotlib.pyplot as plt\n",
        "\n",
        "ages_for_prediction = np.arange(10,41)\n",
        "predicted_weights = np.polyval(f,ages_for_prediction)\n",
        "\n",
        "plt.scatter(ages,weights)\n",
        "plt.plot(ages_for_prediction,predicted_weights)\n",
        "plt.show()"
      ],
      "metadata": {
        "colab": {
          "base_uri": "https://localhost:8080/",
          "height": 430
        },
        "id": "NkeIcRZSytsD",
        "outputId": "d9eb140d-a15d-415d-beef-ab0497b18fac"
      },
      "execution_count": null,
      "outputs": [
        {
          "output_type": "display_data",
          "data": {
            "text/plain": [
              "<Figure size 640x480 with 1 Axes>"
            ],
            "image/png": "[encoded data removed]"
          },
          "metadata": {}
        }
      ]
    },
    {
      "cell_type": "markdown",
      "source": [
        "미분과 적분"
      ],
      "metadata": {
        "id": "YssXdfLJw2Bi"
      }
    },
    {
      "cell_type": "code",
      "source": [
        "import numpy as np\n",
        "\n",
        "f = np.poly1d([3,-2,0,4])\n",
        "\n",
        "f_diff =     np.polyder(f)\n",
        "f_2nd_diff = np.polyder(f,2)\n",
        "f_3rd_diff = np.polyder(f,3)\n",
        "print('방정식 : f(x)=\\n', f)\n",
        "print('미분한 방정식 :\\n',f_diff)\n",
        "print('2차 미분한 방정식 :',f_2nd_diff)\n",
        "print('3차 미분한 방정식 :',f_3rd_diff)"
      ],
      "metadata": {
        "colab": {
          "base_uri": "https://localhost:8080/"
        },
        "id": "QLxKPTHKxYy8",
        "outputId": "71e635dd-d224-4a36-e96e-c6d1295cce5d"
      },
      "execution_count": null,
      "outputs": [
        {
          "output_type": "stream",
          "name": "stdout",
          "text": [
            "방정식 : f(x)=\n",
            "    3     2\n",
            "3 x - 2 x + 4\n",
            "미분한 방정식 :\n",
            "    2\n",
            "9 x - 4 x\n",
            "2차 미분한 방정식 :  \n",
            "18 x - 4\n",
            "3차 미분한 방정식 :  \n",
            "18\n"
          ]
        }
      ]
    },
    {
      "cell_type": "code",
      "source": [
        "print('x값이 -1일때 미분계수 :', f_diff(-1))"
      ],
      "metadata": {
        "colab": {
          "base_uri": "https://localhost:8080/"
        },
        "id": "zovZ1ziUyR7G",
        "outputId": "2075ee4e-4a08-41fa-ccfb-993c67f704ba"
      },
      "execution_count": null,
      "outputs": [
        {
          "output_type": "stream",
          "name": "stdout",
          "text": [
            "x값이 -1일때 미분계수 : 13\n"
          ]
        }
      ]
    },
    {
      "cell_type": "code",
      "source": [
        "print('x값이 -1과 0과 1일때 미분계수 :', f_diff((-1,0,1)))"
      ],
      "metadata": {
        "colab": {
          "base_uri": "https://localhost:8080/"
        },
        "id": "rFWkVzF00z72",
        "outputId": "3239582c-6d09-4dd2-9740-df781e9e3ea2"
      },
      "execution_count": null,
      "outputs": [
        {
          "output_type": "stream",
          "name": "stdout",
          "text": [
            "x값이 -1과 0과 1일때 미분계수 : [13  0  5]\n"
          ]
        }
      ]
    },
    {
      "cell_type": "code",
      "source": [
        "import numpy as np\n",
        "import matplotlib.pyplot as plt\n",
        "\n",
        "f = np.poly1d([1,2,1])\n",
        "\n",
        "f_diff = np.polyder(f)\n",
        "print('방정식 : f(x)=\\n', f)\n",
        "print('미분한 방정식 :\\n',f_diff)\n",
        "\n",
        "diff_coef = f_diff([-7.5,0,5])\n",
        "print('x값이 [-7.5,0,5]일때 미분계수 :', diff_coef)\n",
        "\n",
        "x = np.linspace(-10,10,50)\n",
        "y = f(x)\n",
        "plt.plot(x,y,'b-',label=r'f(x)=$x^2 + 2x + 1$')\n",
        "\n",
        "f_diff1 = np.poly1d([diff_coef[0],-56])\n",
        "x_diff1 = np.linspace(-10,-5,20)\n",
        "y_diff1 = f_diff1(x_diff1)\n",
        "plt.plot(x_diff1,y_diff1,'r:',label='Diff Coef at -7.5')\n",
        "\n",
        "f_diff2 = np.poly1d([diff_coef[1],0])\n",
        "x_diff2 = np.linspace(-2.5,2.5,20)\n",
        "y_diff2 = f_diff2(x_diff2)\n",
        "plt.plot(x_diff2,y_diff2,'g--',label='Diff Coef at 0')\n",
        "\n",
        "f_diff3 = np.poly1d([diff_coef[2],-25])\n",
        "x_diff3 = np.linspace(2.5,7.5,20)\n",
        "y_diff3 = f_diff3(x_diff3)\n",
        "plt.plot(x_diff3,y_diff3,'b-.',label='Diff Coef at 5')\n",
        "\n",
        "plt.legend()\n",
        "plt.show()"
      ],
      "metadata": {
        "colab": {
          "base_uri": "https://localhost:8080/",
          "height": 559
        },
        "id": "9ys-eaNh2ZrE",
        "outputId": "c34d8e1e-d7a4-4841-a7ff-05b2722e74ef"
      },
      "execution_count": null,
      "outputs": [
        {
          "output_type": "stream",
          "name": "stdout",
          "text": [
            "방정식 : f(x)=\n",
            "    2\n",
            "1 x + 2 x + 1\n",
            "미분한 방정식 :\n",
            "  \n",
            "2 x + 2\n",
            "x값이 [-7.5,0,5]일때 미분계수 : [-13.   2.  12.]\n"
          ]
        },
        {
          "output_type": "display_data",
          "data": {
            "text/plain": [
              "<Figure size 640x480 with 1 Axes>"
            ],
            "image/png": "[encoded data removed]"
          },
          "metadata": {}
        }
      ]
    },
    {
      "cell_type": "code",
      "source": [
        "import numpy as np\n",
        "import matplotlib.pyplot as plt\n",
        "\n",
        "f = np.poly1d([3,-2,0,4])\n",
        "num_of_xs = 5\n",
        "x = np.linspace(-1,1,num_of_xs)\n",
        "y = f(x)\n",
        "\n",
        "plt.plot(x,y)\n",
        "plt.axvline(x=0, color='k') # 검정색 x축\n",
        "plt.axhline(y=0, color='k') # 검정색 y축\n",
        "plt.fill_between(x, y, 0, facecolor='g')\n",
        "plt.show()"
      ],
      "metadata": {
        "colab": {
          "base_uri": "https://localhost:8080/",
          "height": 430
        },
        "id": "7lHi_QHKGHN1",
        "outputId": "5a32748e-d6dc-48c3-f3ea-9c0213511de8"
      },
      "execution_count": null,
      "outputs": [
        {
          "output_type": "display_data",
          "data": {
            "text/plain": [
              "<Figure size 640x480 with 1 Axes>"
            ],
            "image/png": "[encoded data removed]"
          },
          "metadata": {}
        }
      ]
    },
    {
      "cell_type": "code",
      "source": [
        "area = np.trapz(y,x)\n",
        "print('적분값 :', area)"
      ],
      "metadata": {
        "colab": {
          "base_uri": "https://localhost:8080/"
        },
        "id": "i3Xyd38YI0ot",
        "outputId": "c4efe01d-2388-4515-afd3-0c1d6922aacb"
      },
      "execution_count": null,
      "outputs": [
        {
          "output_type": "stream",
          "name": "stdout",
          "text": [
            "적분값 : 6.5\n"
          ]
        }
      ]
    },
    {
      "cell_type": "code",
      "source": [
        "from scipy import integrate\n",
        "import numpy as np\n",
        "\n",
        "f = np.poly1d([3,-2,0,4])\n",
        "print(integrate.quad(f,-1,1))"
      ],
      "metadata": {
        "colab": {
          "base_uri": "https://localhost:8080/"
        },
        "id": "RijFvt8MJiiO",
        "outputId": "7d46fda8-e48c-4064-b374-381dc64c5e52"
      },
      "execution_count": null,
      "outputs": [
        {
          "output_type": "stream",
          "name": "stdout",
          "text": [
            "(6.666666666666667, 7.49189256220043e-14)\n"
          ]
        }
      ]
    },
    {
      "cell_type": "code",
      "source": [
        "from scipy import integrate\n",
        "\n",
        "#f = np.poly1d([3,-2,0,4])\n",
        "def f(x):\n",
        "  return 3*x**3 - 2*x**2 + 4\n",
        "\n",
        "print(integrate.quad(f,-1,1))"
      ],
      "metadata": {
        "colab": {
          "base_uri": "https://localhost:8080/"
        },
        "id": "iQ94SfQPKFQN",
        "outputId": "5de2fe41-8704-4201-9641-0c402ac5aea9"
      },
      "execution_count": null,
      "outputs": [
        {
          "output_type": "stream",
          "name": "stdout",
          "text": [
            "(6.666666666666667, 7.49189256220043e-14)\n"
          ]
        }
      ]
    },
    {
      "cell_type": "code",
      "source": [
        "from scipy import integrate\n",
        "\n",
        "print(integrate.quad(lambda x: 3*x**3 - 2*x**2 + 4,-1,1))"
      ],
      "metadata": {
        "id": "Z1uRiWQaKmVT",
        "outputId": "8fa90b7d-bd02-4143-ae3c-2c6dd882f526",
        "colab": {
          "base_uri": "https://localhost:8080/"
        }
      },
      "execution_count": null,
      "outputs": [
        {
          "output_type": "stream",
          "name": "stdout",
          "text": [
            "(6.666666666666667, 7.49189256220043e-14)\n"
          ]
        }
      ]
    }
  ]
}