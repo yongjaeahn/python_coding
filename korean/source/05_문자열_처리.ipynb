{
  "nbformat": 4,
  "nbformat_minor": 0,
  "metadata": {
    "colab": {
      "provenance": [],
      "authorship_tag": "ABX9TyMo+xBUxw4UIXOu3EJnYcb1",
      "include_colab_link": true
    },
    "kernelspec": {
      "name": "python3",
      "display_name": "Python 3"
    },
    "language_info": {
      "name": "python"
    }
  },
  "cells": [
    {
      "cell_type": "markdown",
      "metadata": {
        "id": "view-in-github",
        "colab_type": "text"
      },
      "source": [
        "<a href=\"https://colab.research.google.com/github/yongjaeahn/python_coding/blob/main/korean/source/05_%EB%AC%B8%EC%9E%90%EC%97%B4_%EC%B2%98%EB%A6%AC.ipynb\" target=\"_parent\"><img src=\"https://colab.research.google.com/assets/colab-badge.svg\" alt=\"Open In Colab\"/></a>"
      ]
    },
    {
      "cell_type": "markdown",
      "source": [
        "\t문자열 만들기"
      ],
      "metadata": {
        "id": "OzuXpwBTn3IO"
      }
    },
    {
      "cell_type": "code",
      "execution_count": null,
      "metadata": {
        "id": "FjCSaG-Nlvql",
        "colab": {
          "base_uri": "https://localhost:8080/"
        },
        "outputId": "542e5c96-7371-4c99-c799-7c7c47f26a44"
      },
      "outputs": [
        {
          "output_type": "stream",
          "name": "stdout",
          "text": [
            "문자열은 단일인용(Single Quotation)부호로 감싸주거나 이중인용(Double Quotation)부호로 감싸줍니다.\n",
            "English 한글 1234 ,.)[{\n"
          ]
        }
      ],
      "source": [
        "print('문자열은 단일인용(Single Quotation)부호로 감싸주거나 ' + \"이중인용(Double Quotation)부호로 감싸줍니다.\")\n",
        "print('English 한글 1234 ,.)[{')"
      ]
    },
    {
      "cell_type": "code",
      "source": [
        "print('단일인용부호(\\')')\n",
        "print(\"이중인용부호(\\\")\")"
      ],
      "metadata": {
        "colab": {
          "base_uri": "https://localhost:8080/"
        },
        "id": "ByYOyLSCm_F4",
        "outputId": "8a93077d-fec4-4e3f-f27c-9ade56553675"
      },
      "execution_count": null,
      "outputs": [
        {
          "output_type": "stream",
          "name": "stdout",
          "text": [
            "단일인용부호(')\n",
            "이중인용부호(\")\n"
          ]
        }
      ]
    },
    {
      "cell_type": "code",
      "source": [
        "print(\"Tab으로 \\t맞추는 문자열\")\n",
        "print(\"탭(Tab)으로 \\t맞추는 문자열\")"
      ],
      "metadata": {
        "id": "hSKGn3Yt8F_v",
        "outputId": "15966d0a-80c4-40b5-9bc6-80a8f7d5d0bd",
        "colab": {
          "base_uri": "https://localhost:8080/"
        }
      },
      "execution_count": null,
      "outputs": [
        {
          "output_type": "stream",
          "name": "stdout",
          "text": [
            "Tab으로 \t맞추는 문자열\n",
            "탭(Tab)으로 \t맞추는 문자열\n"
          ]
        }
      ]
    },
    {
      "cell_type": "code",
      "source": [
        "print(\"새줄로 넘기기\\n새줄\")"
      ],
      "metadata": {
        "colab": {
          "base_uri": "https://localhost:8080/"
        },
        "id": "6Bg0gKyBmwq6",
        "outputId": "7917be56-4f76-4002-baab-4eb7f1ca94ab"
      },
      "execution_count": null,
      "outputs": [
        {
          "output_type": "stream",
          "name": "stdout",
          "text": [
            "새줄로 넘기기\n",
            "새줄\n"
          ]
        }
      ]
    },
    {
      "cell_type": "code",
      "source": [
        "print(\"백슬래시(\\\\)출력\")\n",
        "print(\"단일인용부호(')\")\n",
        "print('이중인용부호(\")')"
      ],
      "metadata": {
        "colab": {
          "base_uri": "https://localhost:8080/"
        },
        "id": "tkQW4mQbnKwX",
        "outputId": "db85089e-d5e8-4994-f2d4-65c780417244"
      },
      "execution_count": null,
      "outputs": [
        {
          "output_type": "stream",
          "name": "stdout",
          "text": [
            "백슬래시(\\)출력\n",
            "단일인용부호(')\n",
            "이중인용부호(\")\n"
          ]
        }
      ]
    },
    {
      "cell_type": "code",
      "source": [
        "multiLineString = '''1번째 문자열\n",
        "2번째 문자열\n",
        "3번째 문자열'''\n",
        "print(multiLineString)\n",
        "multiLineString = \"\"\"\n",
        "2번째 문자열\n",
        "3번째 문자열\n",
        "\"\"\"\n",
        "print(multiLineString)"
      ],
      "metadata": {
        "colab": {
          "base_uri": "https://localhost:8080/"
        },
        "id": "qeBtf4FCxNd5",
        "outputId": "cce5380f-4d1d-4704-9417-a5edf2b86588"
      },
      "execution_count": null,
      "outputs": [
        {
          "output_type": "stream",
          "name": "stdout",
          "text": [
            "1번째 문자열\n",
            "2번째 문자열\n",
            "3번째 문자열\n",
            "\n",
            "2번째 문자열\n",
            "3번째 문자열\n",
            "\n"
          ]
        }
      ]
    },
    {
      "cell_type": "code",
      "source": [
        "'''\n",
        "단일인용부호를 사용한\n",
        "여러줄 주석\n",
        "'''"
      ],
      "metadata": {
        "colab": {
          "base_uri": "https://localhost:8080/",
          "height": 36
        },
        "id": "mtRqWN5Jn224",
        "outputId": "6cc3cc7f-2ab3-4cb7-d1d9-738c41093cb1"
      },
      "execution_count": null,
      "outputs": [
        {
          "output_type": "execute_result",
          "data": {
            "text/plain": [
              "'\\n단일인용부호를 사용한\\n여러줄 주석\\n'"
            ],
            "application/vnd.google.colaboratory.intrinsic+json": {
              "type": "string"
            }
          },
          "metadata": {},
          "execution_count": 26
        }
      ]
    },
    {
      "cell_type": "code",
      "source": [
        "\"\"\"\n",
        "이중인용부호를 사용한\n",
        "여러줄 주석\n",
        "\"\"\""
      ],
      "metadata": {
        "colab": {
          "base_uri": "https://localhost:8080/",
          "height": 36
        },
        "id": "dwEACT7e5M_o",
        "outputId": "28836a3f-8de0-4531-dff7-aea0ca23a64a"
      },
      "execution_count": null,
      "outputs": [
        {
          "output_type": "execute_result",
          "data": {
            "text/plain": [
              "'\\n이중인용부호를 사용한\\n여러줄 주석\\n'"
            ],
            "application/vnd.google.colaboratory.intrinsic+json": {
              "type": "string"
            }
          },
          "metadata": {},
          "execution_count": 27
        }
      ]
    },
    {
      "cell_type": "code",
      "source": [
        "print('일반 문자열은 \\t, \\n, \\\\, \\', \\\" 등을 특수 문자로 인식합니다.')"
      ],
      "metadata": {
        "colab": {
          "base_uri": "https://localhost:8080/"
        },
        "id": "lrD3uFDT-dv-",
        "outputId": "5ae6b9c5-a4d2-446f-985e-422ac64eb9e3"
      },
      "execution_count": null,
      "outputs": [
        {
          "output_type": "stream",
          "name": "stdout",
          "text": [
            "일반 문자열은 \t, \n",
            ", \\, ', \" 등을 특수 문자로 인식합니다.\n"
          ]
        }
      ]
    },
    {
      "cell_type": "code",
      "source": [
        "print(r'Raw String은 \\t, \\n, \\\\, \\', \\\" 등을 일반 문자로 인식합니다.')"
      ],
      "metadata": {
        "colab": {
          "base_uri": "https://localhost:8080/"
        },
        "id": "-RZUduvp-gT9",
        "outputId": "93fbc90d-473c-4c84-bd9a-9e464f118d6c"
      },
      "execution_count": null,
      "outputs": [
        {
          "output_type": "stream",
          "name": "stdout",
          "text": [
            "Raw String은 \\t, \\n, \\\\, \\', \\\" 등을 일반 문자로 인식합니다.\n"
          ]
        }
      ]
    },
    {
      "cell_type": "code",
      "source": [
        "pythonFolder = 'C:\\\\Users\\\\00320811\\OneDrive\\\\문서\\\\Python Coding'\n",
        "print(pythonFolder)\n",
        "pythonFolder = r'C:\\Users\\00320811\\OneDrive\\문서\\Python Coding'\n",
        "print(pythonFolder)"
      ],
      "metadata": {
        "colab": {
          "base_uri": "https://localhost:8080/"
        },
        "id": "Y5fH34MF-jp3",
        "outputId": "24908ac2-cafd-4ad5-a4d9-99b5d3e995fd"
      },
      "execution_count": null,
      "outputs": [
        {
          "output_type": "stream",
          "name": "stdout",
          "text": [
            "C:\\Users\\00320811\\OneDrive\\문서\\Python Coding\n",
            "C:\\Users\\00320811\\OneDrive\\문서\\Python Coding\n"
          ]
        }
      ]
    },
    {
      "cell_type": "code",
      "source": [
        "print(repr('repr() 함수는 \\t, \\n, \\\\, \\', \\\" 등을 일반 문자로 인식합니다.'))\n",
        "print(repr(123))"
      ],
      "metadata": {
        "colab": {
          "base_uri": "https://localhost:8080/"
        },
        "id": "qls5oI0YAGT2",
        "outputId": "4108b4b7-41a5-40a0-e8c2-f26e3f037c16"
      },
      "execution_count": null,
      "outputs": [
        {
          "output_type": "stream",
          "name": "stdout",
          "text": [
            "'repr() 함수는 \\t, \\n, \\\\, \\', \" 등을 일반 문자로 인식합니다.'\n",
            "123\n"
          ]
        }
      ]
    },
    {
      "cell_type": "code",
      "source": [
        "print(100)\n",
        "print('100')\n",
        "print()\n",
        "print(repr(100))\n",
        "print(repr('100'))"
      ],
      "metadata": {
        "colab": {
          "base_uri": "https://localhost:8080/"
        },
        "id": "RLo6U15-JvDd",
        "outputId": "738caffe-30ec-4331-d4ae-99fd3b76e861"
      },
      "execution_count": null,
      "outputs": [
        {
          "output_type": "stream",
          "name": "stdout",
          "text": [
            "100\n",
            "100\n",
            "\n",
            "100\n",
            "'100'\n"
          ]
        }
      ]
    },
    {
      "cell_type": "markdown",
      "source": [
        "\t문자열 연산"
      ],
      "metadata": {
        "id": "91zjk0pZTPdu"
      }
    },
    {
      "cell_type": "markdown",
      "source": [
        "문자열 상수"
      ],
      "metadata": {
        "id": "iBx6Cal_zGao"
      }
    },
    {
      "cell_type": "code",
      "source": [
        "import string\n",
        "print(string.punctuation)"
      ],
      "metadata": {
        "colab": {
          "base_uri": "https://localhost:8080/"
        },
        "id": "Bufpe1fETS0P",
        "outputId": "bc1eb707-9f52-4ea5-c4a1-44266dc7f8dc"
      },
      "execution_count": null,
      "outputs": [
        {
          "output_type": "stream",
          "name": "stdout",
          "text": [
            "!\"#$%&'()*+,-./:;<=>?@[\\]^_`{|}~\n"
          ]
        }
      ]
    },
    {
      "cell_type": "code",
      "source": [
        "print(repr(string.whitespace))"
      ],
      "metadata": {
        "colab": {
          "base_uri": "https://localhost:8080/"
        },
        "id": "0cdwHN6nnBde",
        "outputId": "6d2c6529-3a26-444e-829a-f32ee6db4a57"
      },
      "execution_count": null,
      "outputs": [
        {
          "output_type": "stream",
          "name": "stdout",
          "text": [
            "' \\t\\n\\r\\x0b\\x0c'\n"
          ]
        }
      ]
    },
    {
      "cell_type": "markdown",
      "source": [
        "문자열 확인"
      ],
      "metadata": {
        "id": "CzIVPWfPzRO0"
      }
    },
    {
      "cell_type": "code",
      "source": [
        "first_number = int(input(\"첫번째 숫자 : \"))"
      ],
      "metadata": {
        "id": "CvoGu1oW10sq"
      },
      "execution_count": null,
      "outputs": []
    },
    {
      "cell_type": "code",
      "source": [
        "first_number = int(input(\"첫번째 숫자 : \"))"
      ],
      "metadata": {
        "colab": {
          "base_uri": "https://localhost:8080/",
          "height": 194
        },
        "id": "8Xo9_Zx2zH1L",
        "outputId": "b0d97b3d-c301-4324-c6fb-0f222cee2314"
      },
      "execution_count": null,
      "outputs": [
        {
          "name": "stdout",
          "output_type": "stream",
          "text": [
            "첫번째 숫자 : 1O\n"
          ]
        },
        {
          "output_type": "error",
          "ename": "ValueError",
          "evalue": "ignored",
          "traceback": [
            "\u001b[0;31m---------------------------------------------------------------------------\u001b[0m",
            "\u001b[0;31mValueError\u001b[0m                                Traceback (most recent call last)",
            "\u001b[0;32m<ipython-input-22-4553882e8532>\u001b[0m in \u001b[0;36m<module>\u001b[0;34m\u001b[0m\n\u001b[0;32m----> 1\u001b[0;31m \u001b[0mfirstNumber\u001b[0m \u001b[0;34m=\u001b[0m \u001b[0mint\u001b[0m\u001b[0;34m(\u001b[0m\u001b[0minput\u001b[0m\u001b[0;34m(\u001b[0m\u001b[0;34m\"첫번째 숫자 : \"\u001b[0m\u001b[0;34m)\u001b[0m\u001b[0;34m)\u001b[0m\u001b[0;34m\u001b[0m\u001b[0;34m\u001b[0m\u001b[0m\n\u001b[0m",
            "\u001b[0;31mValueError\u001b[0m: invalid literal for int() with base 10: '1O'"
          ]
        }
      ]
    },
    {
      "cell_type": "code",
      "source": [
        "first_number = input(\"첫번째 숫자 : \")\n",
        "\n",
        "if first_number.isdecimal():\n",
        "  first_number = int(first_number)\n",
        "else:\n",
        "  print('입력한',first_number,'를 정수형으로 변환할 수 없습니다.')"
      ],
      "metadata": {
        "colab": {
          "base_uri": "https://localhost:8080/"
        },
        "id": "HYDC_fY9pFex",
        "outputId": "ca48a56e-a7fe-40e9-8f4e-840a8b32dd11"
      },
      "execution_count": null,
      "outputs": [
        {
          "output_type": "stream",
          "name": "stdout",
          "text": [
            "첫번째 숫자 : 1O\n",
            "입력한 1O 를 정수형으로 변환할 수 없습니다.\n"
          ]
        }
      ]
    },
    {
      "cell_type": "code",
      "source": [
        "print('def'.isidentifier())\n",
        "\n",
        "def testFunc():\n",
        "  pass\n",
        "\n",
        "test_variable = '123'\n",
        "\n",
        "print('testFunc'.isidentifier())\n",
        "print('test_variable'.isidentifier())"
      ],
      "metadata": {
        "colab": {
          "base_uri": "https://localhost:8080/"
        },
        "id": "-hhkrfcv7D5G",
        "outputId": "056a9969-e1bf-4e74-fa8e-22de37635a1f"
      },
      "execution_count": null,
      "outputs": [
        {
          "output_type": "stream",
          "name": "stdout",
          "text": [
            "True\n",
            "True\n",
            "True\n"
          ]
        }
      ]
    },
    {
      "cell_type": "markdown",
      "source": [
        "대소문자 변환"
      ],
      "metadata": {
        "id": "oOSKhxrF1UXU"
      }
    },
    {
      "cell_type": "code",
      "source": [
        "print('this is english sentense. this is 한글문장.'.capitalize())\n",
        "print('subject score remark 타이틀'.title())"
      ],
      "metadata": {
        "colab": {
          "base_uri": "https://localhost:8080/"
        },
        "id": "6QUX3--q2fvS",
        "outputId": "bf759710-3c5f-4953-8e21-0cfb01dc198b"
      },
      "execution_count": null,
      "outputs": [
        {
          "output_type": "stream",
          "name": "stdout",
          "text": [
            "This is english sentense. this is 한글문장.\n",
            "Subject Score Remark 타이틀\n"
          ]
        }
      ]
    },
    {
      "cell_type": "code",
      "source": [
        "print('Subject Score Remark 타이틀'.lower())\n",
        "print('Subject Score Remark 타이틀'.upper())\n",
        "print('Subject Score Remark 타이틀'.swapcase())"
      ],
      "metadata": {
        "colab": {
          "base_uri": "https://localhost:8080/"
        },
        "id": "32ZWLxHl65EQ",
        "outputId": "ddebc9cc-6979-4f52-f67f-761fe12747ef"
      },
      "execution_count": null,
      "outputs": [
        {
          "output_type": "stream",
          "name": "stdout",
          "text": [
            "subject score remark 타이틀\n",
            "SUBJECT SCORE REMARK 타이틀\n",
            "sUBJECT sCORE rEMARK 타이틀\n"
          ]
        }
      ]
    },
    {
      "cell_type": "markdown",
      "source": [
        "문자열 나누기와 합치기"
      ],
      "metadata": {
        "id": "muoik8ld1b8q"
      }
    },
    {
      "cell_type": "code",
      "source": [
        "titleInput = 'subject score remark'\n",
        "titles = titleInput.title().split()\n",
        "print(titles)"
      ],
      "metadata": {
        "colab": {
          "base_uri": "https://localhost:8080/"
        },
        "id": "Ih0--ljl2mDO",
        "outputId": "18d1aeb7-4c1f-4b61-ae9c-64f06b031488"
      },
      "execution_count": null,
      "outputs": [
        {
          "output_type": "stream",
          "name": "stdout",
          "text": [
            "['Subject', 'Score', 'Remark']\n"
          ]
        }
      ]
    },
    {
      "cell_type": "code",
      "source": [
        "csvInput = '100,99,95,80,100'\n",
        "print(csvInput.split(','))\n",
        "txt_input = '홍길동\\t유관순\\t이순신'\n",
        "print(txt_input.split('\\t'))"
      ],
      "metadata": {
        "colab": {
          "base_uri": "https://localhost:8080/"
        },
        "id": "M88ztBgcS9mz",
        "outputId": "d9064db4-f230-4134-e4a8-3eeadd075d2c"
      },
      "execution_count": null,
      "outputs": [
        {
          "output_type": "stream",
          "name": "stdout",
          "text": [
            "['100', '99', '95', '80', '100']\n",
            "['홍길동', '유관순', '이순신']\n"
          ]
        }
      ]
    },
    {
      "cell_type": "code",
      "source": [
        "import string\n",
        "print(repr(string.whitespace))\n",
        "print('공란앞 탭문자앞\\t줄바꿈앞\\n세로탭앞\\x0b폼피드앞\\x0c이상문자앞\\x01이상문자뒤'.split())"
      ],
      "metadata": {
        "colab": {
          "base_uri": "https://localhost:8080/"
        },
        "id": "eGOg7qVMx_JW",
        "outputId": "e8df1ff5-3f41-4ce1-fb44-ec211413e5dc"
      },
      "execution_count": null,
      "outputs": [
        {
          "output_type": "stream",
          "name": "stdout",
          "text": [
            "' \\t\\n\\r\\x0b\\x0c'\n",
            "['공란앞', '탭문자앞', '줄바꿈앞', '세로탭앞', '폼피드앞', '이상문자앞\\x01이상문자뒤']\n"
          ]
        }
      ]
    },
    {
      "cell_type": "code",
      "source": [
        "titles = ['subject','score','remark']\n",
        "print(''.join(titles))\n",
        "print(' '.join(titles))\n",
        "print(','.join(titles))\n",
        "print('\\t'.join(titles))\n",
        "print(repr('\\n'.join(titles)))\n",
        "print(repr('\\r\\n'.join(titles)))"
      ],
      "metadata": {
        "colab": {
          "base_uri": "https://localhost:8080/"
        },
        "id": "-Z5ukSni8ccK",
        "outputId": "d268df04-eb5c-4624-cb40-09e45fdafb13"
      },
      "execution_count": null,
      "outputs": [
        {
          "output_type": "stream",
          "name": "stdout",
          "text": [
            "subjectscoreremark\n",
            "subject score remark\n",
            "subject,score,remark\n",
            "subject\tscore\tremark\n",
            "'subject\\nscore\\nremark'\n",
            "'subject\\r\\nscore\\r\\nremark'\n"
          ]
        }
      ]
    },
    {
      "cell_type": "code",
      "source": [
        "web_text = '''Python은 문법이 매우 쉬워서 초보자들이 프로그래밍을 할 때 추천되는 언어이다.\\r\n",
        "   오죽하면 python의\\x0b별명이 \"실행할 수 있는 의사 코드(Executable pseudocode)\"일\\x0c정도이다.   \\r\n",
        "Python은 학습용으로 좋은 언어인 동시에 실사용률과 생산성도 높은 대단히 강력한 언어인 셈이다.'''\n",
        "\n",
        "text_lines = web_text.split('\\n')\n",
        "for text_line in text_lines:\n",
        "  print(text_line)"
      ],
      "metadata": {
        "colab": {
          "base_uri": "https://localhost:8080/"
        },
        "id": "7dJKxJy4t0wv",
        "outputId": "9b75c22c-5f81-489a-b2a0-044b60bca444"
      },
      "execution_count": null,
      "outputs": [
        {
          "output_type": "stream",
          "name": "stdout",
          "text": [
            "Python은 문법이 매우 쉬워서 초보자들이 프로그래밍을 할 때 추천되는 언어이다.\r\n",
            "   오죽하면 python의\u000b별명이 \"실행할 수 있는 의사 코드(Executable pseudocode)\"일\f정도이다.   \r\n",
            "Python은 학습용으로 좋은 언어인 동시에 실사용률과 생산성도 높은 대단히 강력한 언어인 셈이다.\n"
          ]
        }
      ]
    },
    {
      "cell_type": "code",
      "source": [
        "for text_line in text_lines:\n",
        "  print(repr(text_line))"
      ],
      "metadata": {
        "colab": {
          "base_uri": "https://localhost:8080/"
        },
        "id": "VQJEdlHIU6j-",
        "outputId": "a304fae5-35fd-4ee5-8a72-8b8dba2803a5"
      },
      "execution_count": null,
      "outputs": [
        {
          "output_type": "stream",
          "name": "stdout",
          "text": [
            "'Python은 문법이 매우 쉬워서 초보자들이 프로그래밍을 할 때 추천되는 언어이다.\\r'\n",
            "'   오죽하면 python의\\x0b별명이 \"실행할 수 있는 의사 코드(Executable pseudocode)\"일\\x0c정도이다.   \\r'\n",
            "'Python은 학습용으로 좋은 언어인 동시에 실사용률과 생산성도 높은 대단히 강력한 언어인 셈이다.'\n"
          ]
        }
      ]
    },
    {
      "cell_type": "code",
      "source": [
        "text_lines = web_text.split('\\r\\n')\n",
        "for text_line in text_lines:\n",
        "  print(repr(text_line))"
      ],
      "metadata": {
        "colab": {
          "base_uri": "https://localhost:8080/"
        },
        "id": "c-6PVc8vosWn",
        "outputId": "3773870c-83b9-4923-e981-f0ce29644d9d"
      },
      "execution_count": null,
      "outputs": [
        {
          "output_type": "stream",
          "name": "stdout",
          "text": [
            "'Python은 문법이 매우 쉬워서 초보자들이 프로그래밍을 할 때 추천되는 언어이다.'\n",
            "'   오죽하면 python의\\x0b별명이 \"실행할 수 있는 의사 코드(Executable pseudocode)\"일\\x0c정도이다.   '\n",
            "'Python은 학습용으로 좋은 언어인 동시에 실사용률과 생산성도 높은 대단히 강력한 언어인 셈이다.'\n"
          ]
        }
      ]
    },
    {
      "cell_type": "code",
      "source": [
        "text_lines = web_text.splitlines()\n",
        "for text_line in text_lines:\n",
        "  print(repr(text_line))"
      ],
      "metadata": {
        "colab": {
          "base_uri": "https://localhost:8080/"
        },
        "id": "1Te_qKMdRfR6",
        "outputId": "d19acb1c-dcd8-4dee-f6ab-4057f022d9ce"
      },
      "execution_count": null,
      "outputs": [
        {
          "output_type": "stream",
          "name": "stdout",
          "text": [
            "'Python은 문법이 매우 쉬워서 초보자들이 프로그래밍을 할 때 추천되는 언어이다.'\n",
            "'   오죽하면 python의'\n",
            "'별명이 \"실행할 수 있는 의사 코드(Executable pseudocode)\"일'\n",
            "'정도이다.   '\n",
            "'Python은 학습용으로 좋은 언어인 동시에 실사용률과 생산성도 높은 대단히 강력한 언어인 셈이다.'\n"
          ]
        }
      ]
    },
    {
      "cell_type": "markdown",
      "source": [
        "문자열 변환"
      ],
      "metadata": {
        "id": "VpmZS9ZP1qNE"
      }
    },
    {
      "cell_type": "code",
      "source": [
        "print('대체할 문자열 대체할 문자열'.replace('대체할','대체된'))\n",
        "print('대체할 문자열 대체할 문자열'.replace('대체할','대체된',1))"
      ],
      "metadata": {
        "colab": {
          "base_uri": "https://localhost:8080/"
        },
        "id": "mgSFEQJgQD3C",
        "outputId": "bca0d5e3-15f7-4577-fdd8-a76618eb49dd"
      },
      "execution_count": null,
      "outputs": [
        {
          "output_type": "stream",
          "name": "stdout",
          "text": [
            "대체된 문자열 대체된 문자열\n",
            "대체된 문자열 대체할 문자열\n"
          ]
        }
      ]
    },
    {
      "cell_type": "code",
      "source": [
        "web_text = web_text.replace('\\x0b',' ')\n",
        "web_text = web_text.replace('\\x0c',' ')\n",
        "\n",
        "text_lines = web_text.splitlines()\n",
        "for text_line in text_lines:\n",
        "  print(repr(text_line))"
      ],
      "metadata": {
        "colab": {
          "base_uri": "https://localhost:8080/"
        },
        "id": "kKT-KaLFSy33",
        "outputId": "e6310e67-3a55-4a4c-8290-1ef45c8d4433"
      },
      "execution_count": null,
      "outputs": [
        {
          "output_type": "stream",
          "name": "stdout",
          "text": [
            "'Python은 문법이 매우 쉬워서 초보자들이 프로그래밍을 할 때 추천되는 언어이다.'\n",
            "'   오죽하면 python의 별명이 \"실행할 수 있는 의사 코드(Executable pseudocode)\"일 정도이다.   '\n",
            "'Python은 학습용으로 좋은 언어인 동시에 실사용률과 생산성도 높은 대단히 강력한 언어인 셈이다.'\n"
          ]
        }
      ]
    },
    {
      "cell_type": "code",
      "source": [
        "print(repr(text_lines[1]))\n",
        "print(repr(text_lines[1].lstrip()))\n",
        "print(repr(text_lines[1].rstrip()))\n",
        "text_lines[1] = text_lines[1].strip()\n",
        "print(repr(text_lines[1]))"
      ],
      "metadata": {
        "colab": {
          "base_uri": "https://localhost:8080/"
        },
        "id": "YLPagD7VV32X",
        "outputId": "9dfed0c2-9b1d-4d93-92d4-4f5dbb95de01"
      },
      "execution_count": null,
      "outputs": [
        {
          "output_type": "stream",
          "name": "stdout",
          "text": [
            "'   오죽하면 python의 별명이 \"실행할 수 있는 의사 코드(Executable pseudocode)\"일 정도이다.   '\n",
            "'오죽하면 python의 별명이 \"실행할 수 있는 의사 코드(Executable pseudocode)\"일 정도이다.   '\n",
            "'   오죽하면 python의 별명이 \"실행할 수 있는 의사 코드(Executable pseudocode)\"일 정도이다.'\n",
            "'오죽하면 python의 별명이 \"실행할 수 있는 의사 코드(Executable pseudocode)\"일 정도이다.'\n"
          ]
        }
      ]
    },
    {
      "cell_type": "code",
      "source": [
        "words = text_lines[1].split()\n",
        "print(words)"
      ],
      "metadata": {
        "colab": {
          "base_uri": "https://localhost:8080/"
        },
        "id": "p8OFM0e77H6G",
        "outputId": "27e6961a-b468-4571-bdf2-9681ceeb48c5"
      },
      "execution_count": null,
      "outputs": [
        {
          "output_type": "stream",
          "name": "stdout",
          "text": [
            "['오죽하면', 'python의', '별명이', '\"실행할', '수', '있는', '의사', '코드(Executable', 'pseudocode)\"일', '정도이다.']\n"
          ]
        }
      ]
    },
    {
      "cell_type": "code",
      "source": [
        "mappingTable = text_lines[1].maketrans('()','  ','\".')\n",
        "print(mappingTable)"
      ],
      "metadata": {
        "colab": {
          "base_uri": "https://localhost:8080/"
        },
        "id": "CSrzg_n0EmZ4",
        "outputId": "67919ac2-19a8-4397-849c-d3ea03bfd9d7"
      },
      "execution_count": null,
      "outputs": [
        {
          "output_type": "stream",
          "name": "stdout",
          "text": [
            "{40: 32, 41: 32, 34: None, 46: None}\n"
          ]
        }
      ]
    },
    {
      "cell_type": "code",
      "source": [
        "print(text_lines[1].translate(mappingTable))"
      ],
      "metadata": {
        "colab": {
          "base_uri": "https://localhost:8080/"
        },
        "id": "KuieQ5r8N5RY",
        "outputId": "8f5e059c-2361-46d2-e988-91446470f13b"
      },
      "execution_count": null,
      "outputs": [
        {
          "output_type": "stream",
          "name": "stdout",
          "text": [
            "오죽하면 python의 별명이 실행할 수 있는 의사 코드 Executable pseudocode 일 정도이다\n"
          ]
        }
      ]
    },
    {
      "cell_type": "code",
      "source": [
        "words = text_lines[1].translate(mappingTable).split()\n",
        "print(words)"
      ],
      "metadata": {
        "colab": {
          "base_uri": "https://localhost:8080/"
        },
        "id": "gbpoOnsNOgSE",
        "outputId": "b7861e2c-33d4-479c-edca-dd88d9dc4c77"
      },
      "execution_count": null,
      "outputs": [
        {
          "output_type": "stream",
          "name": "stdout",
          "text": [
            "['오죽하면', 'python의', '별명이', '실행할', '수', '있는', '의사', '코드', 'Executable', 'pseudocode', '일', '정도이다']\n"
          ]
        }
      ]
    },
    {
      "cell_type": "code",
      "source": [
        "import string\n",
        "\n",
        "print('변환할 문자들 :',repr(string.punctuation))\n",
        "toString = ' ' * len(string.punctuation)\n",
        "print('변환될 문자들 :',repr(toString))\n",
        "\n",
        "mappingTable = web_text.maketrans(string.punctuation,toString)\n",
        "words = web_text.translate(mappingTable).split()\n",
        "print('변환된 문자열 :',words)"
      ],
      "metadata": {
        "colab": {
          "base_uri": "https://localhost:8080/"
        },
        "id": "B07Z73thRFt9",
        "outputId": "850a7dfd-8694-413c-ba0d-fc33c0eabb18"
      },
      "execution_count": null,
      "outputs": [
        {
          "output_type": "stream",
          "name": "stdout",
          "text": [
            "변환할 문자들 : '!\"#$%&\\'()*+,-./:;<=>?@[\\\\]^_`{|}~'\n",
            "변환될 문자들 : '                                '\n",
            "변환된 문자열 : ['Python은', '문법이', '매우', '쉬워서', '초보자들이', '프로그래밍을', '할', '때', '추천되는', '언어이다', '오죽하면', 'python의', '별명이', '실행할', '수', '있는', '의사', '코드', 'Executable', 'pseudocode', '일', '정도이다', 'Python은', '학습용으로', '좋은', '언어인', '동시에', '실사용률과', '생산성도', '높은', '대단히', '강력한', '언어인', '셈이다']\n"
          ]
        }
      ]
    },
    {
      "cell_type": "code",
      "source": [
        "!pip install konlpy"
      ],
      "metadata": {
        "colab": {
          "base_uri": "https://localhost:8080/"
        },
        "id": "SMV1RPZ0XN37",
        "outputId": "c02c5046-7911-4fb0-ec60-6cc13b2d5dca"
      },
      "execution_count": null,
      "outputs": [
        {
          "output_type": "stream",
          "name": "stdout",
          "text": [
            "Looking in indexes: https://pypi.org/simple, https://us-python.pkg.dev/colab-wheels/public/simple/\n",
            "Requirement already satisfied: konlpy in /usr/local/lib/python3.10/dist-packages (0.6.0)\n",
            "Requirement already satisfied: numpy>=1.6 in /usr/local/lib/python3.10/dist-packages (from konlpy) (1.22.4)\n",
            "Requirement already satisfied: JPype1>=0.7.0 in /usr/local/lib/python3.10/dist-packages (from konlpy) (1.4.1)\n",
            "Requirement already satisfied: lxml>=4.1.0 in /usr/local/lib/python3.10/dist-packages (from konlpy) (4.9.2)\n",
            "Requirement already satisfied: packaging in /usr/local/lib/python3.10/dist-packages (from JPype1>=0.7.0->konlpy) (23.1)\n"
          ]
        }
      ]
    },
    {
      "cell_type": "code",
      "source": [
        "from konlpy.tag import Okt\n",
        "\n",
        "okt = Okt()\n",
        "words = okt.pos(web_text.translate(mappingTable))\n",
        "print(words)"
      ],
      "metadata": {
        "colab": {
          "base_uri": "https://localhost:8080/"
        },
        "id": "7mQPxmB6PXx_",
        "outputId": "bdf83c40-3e30-4b78-cbbe-c72826ea44a9"
      },
      "execution_count": null,
      "outputs": [
        {
          "output_type": "stream",
          "name": "stdout",
          "text": [
            "[('Python', 'Alpha'), ('은', 'Noun'), ('문법', 'Noun'), ('이', 'Josa'), ('매우', 'Noun'), ('쉬워서', 'Adjective'), ('초보자', 'Noun'), ('들', 'Suffix'), ('이', 'Josa'), ('프로그래밍', 'Noun'), ('을', 'Josa'), ('할', 'Verb'), ('때', 'Noun'), ('추천', 'Noun'), ('되는', 'Verb'), ('언어', 'Noun'), ('이다', 'Josa'), ('오죽하면', 'Adjective'), ('python', 'Alpha'), ('의', 'Noun'), ('별명', 'Noun'), ('이', 'Josa'), ('실행', 'Noun'), ('할', 'Verb'), ('수', 'Noun'), ('있는', 'Adjective'), ('의사', 'Noun'), ('코드', 'Noun'), ('Executable', 'Alpha'), ('pseudocode', 'Alpha'), ('일', 'Noun'), ('정도', 'Noun'), ('이다', 'Josa'), ('Python', 'Alpha'), ('은', 'Noun'), ('학습', 'Noun'), ('용', 'Noun'), ('으로', 'Josa'), ('좋은', 'Adjective'), ('언어', 'Noun'), ('인', 'Josa'), ('동시', 'Noun'), ('에', 'Josa'), ('실', 'Noun'), ('사용', 'Noun'), ('률', 'Noun'), ('과', 'Josa'), ('생산', 'Noun'), ('성도', 'Noun'), ('높은', 'Adjective'), ('대단히', 'Adjective'), ('강력한', 'Adjective'), ('언어', 'Noun'), ('인', 'Josa'), ('셈', 'Noun'), ('이다', 'Josa')]\n"
          ]
        }
      ]
    },
    {
      "cell_type": "code",
      "source": [
        "import re\n",
        "words = re.findall(r'\\b\\w+\\b', web_text)\n",
        "print('변환된 문자열 :',words)"
      ],
      "metadata": {
        "colab": {
          "base_uri": "https://localhost:8080/"
        },
        "id": "uqc9fFOgssgl",
        "outputId": "ea2770cb-5f5d-4a36-a7cd-cb01a8e8629a"
      },
      "execution_count": null,
      "outputs": [
        {
          "output_type": "stream",
          "name": "stdout",
          "text": [
            "변환된 문자열 : ['Python은', '문법이', '매우', '쉬워서', '초보자들이', '프로그래밍을', '할', '때', '추천되는', '언어이다', '오죽하면', 'python의', '별명이', '실행할', '수', '있는', '의사', '코드', 'Executable', 'pseudocode', '일', '정도이다', 'Python은', '학습용으로', '좋은', '언어인', '동시에', '실사용률과', '생산성도', '높은', '대단히', '강력한', '언어인', '셈이다']\n"
          ]
        }
      ]
    },
    {
      "cell_type": "code",
      "source": [
        "import re\n",
        "\n",
        "web_text = '''Python은 문법이 매우 쉬워서 초보자들이 프로그래밍을 할 때 추천되는 언어이다.\\r\n",
        "   오죽하면 python의\\x0b별명이 \"실행할 수 있는 의사 코드(Executable pseudocode)\"일\\x0c정도이다.   \\r\n",
        "Python은 학습용으로 좋은 언어인 동시에 실사용률과 생산성도 높은 대단히 강력한 언어인 셈이다.'''\n",
        "\n",
        "webweb_text = re.sub(r'[^0-9a-zA-Z가-힣 \\n]',r'',web_text)\n",
        "print(web_text)"
      ],
      "metadata": {
        "colab": {
          "base_uri": "https://localhost:8080/"
        },
        "id": "Bgvz3cLY6mPL",
        "outputId": "e8036f81-14bb-4ba4-b769-b4fa83576a53"
      },
      "execution_count": null,
      "outputs": [
        {
          "output_type": "stream",
          "name": "stdout",
          "text": [
            "Python은 문법이 매우 쉬워서 초보자들이 프로그래밍을 할 때 추천되는 언어이다\n",
            "   오죽하면 python의별명이 실행할 수 있는 의사 코드Executable pseudocode일정도이다   \n",
            "Python은 학습용으로 좋은 언어인 동시에 실사용률과 생산성도 높은 대단히 강력한 언어인 셈이다\n"
          ]
        }
      ]
    },
    {
      "cell_type": "markdown",
      "source": [
        "문자열 비교"
      ],
      "metadata": {
        "id": "ZjQxaMpd1whk"
      }
    },
    {
      "cell_type": "code",
      "source": [
        "3 == 3.0\n",
        "3 > 3.1"
      ],
      "metadata": {
        "id": "QHhIhb6x2cm6"
      },
      "execution_count": null,
      "outputs": []
    },
    {
      "cell_type": "code",
      "source": [
        "'A' == 'a'\n",
        "'A' > 'a'\n",
        "'a' > 'A'"
      ],
      "metadata": {
        "id": "r0Ix1Wgi2fs7"
      },
      "execution_count": null,
      "outputs": []
    },
    {
      "cell_type": "code",
      "source": [
        "ord('a')\n",
        "ord('A')"
      ],
      "metadata": {
        "id": "2F6qcsLt2rar"
      },
      "execution_count": null,
      "outputs": []
    },
    {
      "cell_type": "code",
      "source": [
        "'a'.lower() == 'A'.lower()\n",
        "'a'.upper() == 'A'.upper()"
      ],
      "metadata": {
        "id": "PnigwCzlBRXq"
      },
      "execution_count": null,
      "outputs": []
    },
    {
      "cell_type": "code",
      "source": [
        "print(\"'Seoul' == 'Seoul' :\",'Seoul' == 'Seoul')\n",
        "print(\"'Seoul' != 'seoul' :\",'Seoul' != 'seoul')\n",
        "print(\"'Seoul' < 'seoul' :\",'Seoul' < 'seoul')\n",
        "print(\"'Seoul' <= 'seoul' :\",'English' <= 'English')\n",
        "print(\"'seoul' > 'Seoul' :\",'seoul' > 'Seoul')\n",
        "print(\"'seoul' >= 'Seoul' :\",'seoul' >= 'Seoul')\n",
        "print()\n",
        "print(repr(\"'\\t\\r\\n 특수문자' < '12345 숫자' :\"),'\\t\\r\\n 특수문자' < '12345 숫자')\n",
        "print(\"'12345 숫자' < 'English' :\",'12345 숫자' < 'English')\n",
        "print(\"'ABCDE 대문자' < 'abcde 소문자' :\",'ABCDE 대문자' < 'abcde 소문자')\n",
        "print(\"'English' < '한글' :\",'English' < '한글')"
      ],
      "metadata": {
        "colab": {
          "base_uri": "https://localhost:8080/"
        },
        "id": "xSg91nXQ2XqN",
        "outputId": "b8ee14af-3426-4845-95bc-1bcf247d68d8"
      },
      "execution_count": null,
      "outputs": [
        {
          "output_type": "stream",
          "name": "stdout",
          "text": [
            "'Seoul' == 'Seoul' : True\n",
            "'Seoul' != 'seoul' : True\n",
            "'Seoul' < 'seoul' : True\n",
            "'Seoul' <= 'seoul' : True\n",
            "'seoul' > 'Seoul' : True\n",
            "'seoul' >= 'Seoul' : True\n",
            "\n",
            "\"'\\t\\r\\n 특수문자' < '12345 숫자' :\" True\n",
            "'12345 숫자' < 'English' : True\n",
            "'ABCDE 대문자' < 'abcde 소문자' : True\n",
            "'English' < '한글' : True\n"
          ]
        }
      ]
    },
    {
      "cell_type": "code",
      "source": [
        "ord('(')\n",
        "ord(')')\n",
        "ord('\"')\n",
        "ord('.')\n",
        "ord(' ')"
      ],
      "metadata": {
        "id": "W0wdB1Ef3ezx"
      },
      "execution_count": null,
      "outputs": []
    },
    {
      "cell_type": "code",
      "source": [
        "ord('가')\n",
        "ord('기')\n",
        "ord('하')\n",
        "ord('히')\n",
        "'가' > 'z'"
      ],
      "metadata": {
        "id": "Tkco7d3t8G6p"
      },
      "execution_count": null,
      "outputs": []
    },
    {
      "cell_type": "code",
      "source": [
        "bin(ord('a'))     # 이진수\n",
        "oct(ord('a'))     # 팔진수\n",
        "ord('가')          # 십진수\n",
        "hex(ord('가'))     # 16진수\n",
        "chr(0b1100001)\n",
        "chr(0o141)\n",
        "chr(97)\n",
        "chr(0x61)"
      ],
      "metadata": {
        "id": "taDZEwWA_Msk",
        "colab": {
          "base_uri": "https://localhost:8080/",
          "height": 36
        },
        "outputId": "9de41c6d-36d6-4155-a495-761249f1d2d3"
      },
      "execution_count": null,
      "outputs": [
        {
          "output_type": "execute_result",
          "data": {
            "text/plain": [
              "'a'"
            ],
            "application/vnd.google.colaboratory.intrinsic+json": {
              "type": "string"
            }
          },
          "metadata": {},
          "execution_count": 1
        }
      ]
    },
    {
      "cell_type": "code",
      "source": [
        "bin(ord('a'))     # 이진수\n",
        "oct(ord('a'))     # 팔진수\n",
        "ord('가')         # 십진수\n",
        "hex(ord('가'))    # 16진수\n",
        "\n",
        "chr(0b1100001)    # 이진수\n",
        "chr(0o141)        # 팔진수\n",
        "chr(44032)        # 십진수\n",
        "chr(0xac00)       # 16진수"
      ],
      "metadata": {
        "id": "IoiInoo6hozl"
      },
      "execution_count": null,
      "outputs": []
    },
    {
      "cell_type": "code",
      "source": [
        "string_variable = 'Python C C++ Java'\n",
        "'Python' in string_variable\n",
        "'Python' not in string_variable\n",
        "string_variable.startswith('python')\n",
        "string_variable.endswith('java')"
      ],
      "metadata": {
        "id": "3j6nwn9zHOFH"
      },
      "execution_count": null,
      "outputs": []
    },
    {
      "cell_type": "code",
      "source": [
        "string_variable.startswith(('python','Python'))\n",
        "string_variable.endswith(('java','Java'))"
      ],
      "metadata": {
        "id": "KARPHey_kPMQ"
      },
      "execution_count": null,
      "outputs": []
    },
    {
      "cell_type": "markdown",
      "source": [
        "문자열 찾기"
      ],
      "metadata": {
        "id": "upfltpJkhg3y"
      }
    },
    {
      "cell_type": "code",
      "source": [
        "string_variable = 'Python C C++ Java'\n",
        "print('좌측부터 찾은 C의 인덱스 :',string_variable.find('C'))\n",
        "print('우측부터 찾은 C의 인덱스 :',string_variable.rfind('C'))\n",
        "print('좌측부터 찾은 C++의 인덱스 :',string_variable.find('C++'))\n",
        "print('우측부터 찾은 Rust의 인덱스 :',string_variable.find('Rust'))"
      ],
      "metadata": {
        "colab": {
          "base_uri": "https://localhost:8080/"
        },
        "id": "J1DQxZ4wh6Y4",
        "outputId": "c6251dea-669c-4a06-8c77-75b56d95e7d1"
      },
      "execution_count": null,
      "outputs": [
        {
          "output_type": "stream",
          "name": "stdout",
          "text": [
            "좌측부터 찾은 C의 인덱스 : 7\n",
            "우측부터 찾은 C의 인덱스 : 9\n",
            "좌측부터 찾은 C++의 인덱스 : 9\n",
            "우측부터 찾은 Rust의 인덱스 : -1\n"
          ]
        }
      ]
    },
    {
      "cell_type": "code",
      "source": [
        "string_variable = 'Python C C++ Java'\n",
        "word_count = string_variable.count(\"C\")\n",
        "print('string_variable 문자열에 \"C\"라는 단어가',word_count,'개 들어 있습니다.')"
      ],
      "metadata": {
        "colab": {
          "base_uri": "https://localhost:8080/"
        },
        "id": "TfCZ4FbTldCW",
        "outputId": "c154d713-7595-41b3-dcad-022dac72612f"
      },
      "execution_count": null,
      "outputs": [
        {
          "output_type": "stream",
          "name": "stdout",
          "text": [
            "stringVariable 문자열에 \"C\"라는 단어가 2 개 들어 있습니다.\n"
          ]
        }
      ]
    },
    {
      "cell_type": "markdown",
      "source": [
        "\t문자열 포맷팅"
      ],
      "metadata": {
        "id": "BgmbMUw1TJHe"
      }
    },
    {
      "cell_type": "code",
      "source": [
        "print(format(12345,'d'))\n",
        "print(f'{12345:d}')"
      ],
      "metadata": {
        "colab": {
          "base_uri": "https://localhost:8080/"
        },
        "id": "lfKjoZD6qlh6",
        "outputId": "47ff172d-f2a9-4175-80fe-a7b1de27d552"
      },
      "execution_count": null,
      "outputs": [
        {
          "output_type": "stream",
          "name": "stdout",
          "text": [
            "12345\n",
            "12345\n"
          ]
        }
      ]
    },
    {
      "cell_type": "code",
      "source": [
        "value=12345\n",
        "print(format(value,'d'))\n",
        "print(f'{value:d}')\n",
        "\n",
        "print(format(value+1,'d'))\n",
        "print(f'{value+1:d}')"
      ],
      "metadata": {
        "colab": {
          "base_uri": "https://localhost:8080/"
        },
        "id": "wInJoRt_rppm",
        "outputId": "0c5cd654-d3e6-400c-afdc-ef553f63577f"
      },
      "execution_count": null,
      "outputs": [
        {
          "output_type": "stream",
          "name": "stdout",
          "text": [
            "12345\n",
            "12345\n",
            "12346\n",
            "12346\n"
          ]
        }
      ]
    },
    {
      "cell_type": "code",
      "source": [
        "print(format(12345,'10d'))\n",
        "print(f'{-12345:10d}')\n",
        "print(format('문자열','10s'))\n",
        "print(f'{\"문자열\":10s}')"
      ],
      "metadata": {
        "colab": {
          "base_uri": "https://localhost:8080/"
        },
        "id": "qPKLmHumxo0p",
        "outputId": "3e6fc585-1530-4d34-bd51-096e113500a6"
      },
      "execution_count": null,
      "outputs": [
        {
          "output_type": "stream",
          "name": "stdout",
          "text": [
            "     12345\n",
            "    -12345\n",
            "문자열       \n",
            "문자열       \n"
          ]
        }
      ]
    },
    {
      "cell_type": "code",
      "source": [
        "print(format('좌측 정렬','<10s'))\n",
        "print(f'{\"우측 정렬\":>10s}')\n",
        "print(format('중앙 정렬','^10s'))"
      ],
      "metadata": {
        "colab": {
          "base_uri": "https://localhost:8080/"
        },
        "id": "ndlbvCPbW0Sb",
        "outputId": "b4091434-970d-429a-a533-4996f0cbb4be"
      },
      "execution_count": null,
      "outputs": [
        {
          "output_type": "stream",
          "name": "stdout",
          "text": [
            "좌측 정렬     \n",
            "     우측 정렬\n",
            "  중앙 정렬   \n"
          ]
        }
      ]
    },
    {
      "cell_type": "code",
      "source": [
        "print(format('타이틀','*^10s'))\n",
        "print(f'{\"타이틀\":*^10s}')"
      ],
      "metadata": {
        "colab": {
          "base_uri": "https://localhost:8080/"
        },
        "id": "DngKrtmSgHej",
        "outputId": "589147b5-eb6e-4b8c-cb76-5bbd2f57f72a"
      },
      "execution_count": null,
      "outputs": [
        {
          "output_type": "stream",
          "name": "stdout",
          "text": [
            "***타이틀****\n",
            "***타이틀****\n"
          ]
        }
      ]
    },
    {
      "cell_type": "code",
      "source": [
        "print(format(-12345,'10d'))\n",
        "print(f'{12345:+10d}')"
      ],
      "metadata": {
        "colab": {
          "base_uri": "https://localhost:8080/"
        },
        "id": "lG6QqJCKyHQ3",
        "outputId": "e5ffc5e4-bf23-47ad-9ae5-61c49de7ef21"
      },
      "execution_count": null,
      "outputs": [
        {
          "output_type": "stream",
          "name": "stdout",
          "text": [
            "    -12345\n",
            "    +12345\n"
          ]
        }
      ]
    },
    {
      "cell_type": "code",
      "source": [
        "print(format(-12345,'010d'))\n",
        "print(f'{12345:010d}')"
      ],
      "metadata": {
        "colab": {
          "base_uri": "https://localhost:8080/"
        },
        "id": "97Esu_VN3tts",
        "outputId": "a65d39ef-4db3-4c0a-935a-457c860971b7"
      },
      "execution_count": null,
      "outputs": [
        {
          "output_type": "stream",
          "name": "stdout",
          "text": [
            "-000012345\n",
            "0000012345\n"
          ]
        }
      ]
    },
    {
      "cell_type": "code",
      "source": [
        "print(format(12345,'10,d'))\n",
        "print(f'{12345:10,d}')"
      ],
      "metadata": {
        "colab": {
          "base_uri": "https://localhost:8080/"
        },
        "id": "3Qlx-8wf2geP",
        "outputId": "65863c64-3c9a-485e-c5f2-d3f96e0af4d6"
      },
      "execution_count": null,
      "outputs": [
        {
          "output_type": "stream",
          "name": "stdout",
          "text": [
            "    12,345\n",
            "    12,345\n"
          ]
        }
      ]
    },
    {
      "cell_type": "code",
      "source": [
        "print('$'+format(12345,',d'))\n",
        "print(f'\\{12345:,d}')"
      ],
      "metadata": {
        "colab": {
          "base_uri": "https://localhost:8080/"
        },
        "id": "AU68DqoeeYVO",
        "outputId": "ea5baeb5-8be9-4a89-fdad-16092c020516"
      },
      "execution_count": null,
      "outputs": [
        {
          "output_type": "stream",
          "name": "stdout",
          "text": [
            "$12,345\n",
            "\\12,345\n"
          ]
        }
      ]
    },
    {
      "cell_type": "code",
      "source": [
        "amount = 12345\n",
        "payDue = '2023-02-15'\n",
        "print(f'지급일({payDue})에 지급할 금액은 {amount:,d}원입니다.')\n",
        "print(f'Format String은 \\t, \\n, \\\\, \\', \\\" 등을 특수 문자로 인식합니다.')"
      ],
      "metadata": {
        "colab": {
          "base_uri": "https://localhost:8080/"
        },
        "id": "nayfQeIM68ma",
        "outputId": "a0798e7f-3306-4521-af4b-d3b70af8a6f9"
      },
      "execution_count": null,
      "outputs": [
        {
          "output_type": "stream",
          "name": "stdout",
          "text": [
            "지급일(2023-02-15)에 지급할 금액은 12,345원입니다.\n",
            "Format String은 \t, \n",
            ", \\, ', \" 등을 특수 문자로 인식합니다.\n"
          ]
        }
      ]
    },
    {
      "cell_type": "code",
      "source": [
        "print(f'Format String에 집합괄호를 추가하려면 {{ 그리고 }}와 같이 집합괄호를 두번 사용합니다.')"
      ],
      "metadata": {
        "colab": {
          "base_uri": "https://localhost:8080/"
        },
        "id": "uwwZO4P7jZ-D",
        "outputId": "79770424-e9f8-400a-dd92-0066ff63e67f"
      },
      "execution_count": null,
      "outputs": [
        {
          "output_type": "stream",
          "name": "stdout",
          "text": [
            "Format String에 집합괄호를 추가하려면 { 그리고 }와 같이 집합괄호를 두번 사용합니다.\n"
          ]
        }
      ]
    },
    {
      "cell_type": "code",
      "source": [
        "print(format(12345.67,'10.1f'))\n",
        "print(f'{12345.67:10.3f}')\n",
        "print(format(12345.67,'3.1f'))\n",
        "print(f'{12345.67:.3f}')"
      ],
      "metadata": {
        "colab": {
          "base_uri": "https://localhost:8080/"
        },
        "id": "puFOwOhUTTel",
        "outputId": "ff4b4c6c-42a3-4bce-87b4-7b56963d4832"
      },
      "execution_count": null,
      "outputs": [
        {
          "output_type": "stream",
          "name": "stdout",
          "text": [
            "   12345.7\n",
            " 12345.670\n",
            "12345.7\n",
            "12345.670\n"
          ]
        }
      ]
    },
    {
      "cell_type": "code",
      "source": [
        "print(format(12345.67,'10.1e'))\n",
        "print(f'{12345.67:10.7E}')\n",
        "print(format(12345.67,'3.1e'))\n",
        "print(f'{12345.67:.7E}')"
      ],
      "metadata": {
        "colab": {
          "base_uri": "https://localhost:8080/"
        },
        "id": "QFRDlSHoFQpc",
        "outputId": "bb6fcdc0-e85c-4340-bc87-98718732cd02"
      },
      "execution_count": null,
      "outputs": [
        {
          "output_type": "stream",
          "name": "stdout",
          "text": [
            "   1.2e+04\n",
            "1.2345670E+04\n",
            "1.2e+04\n",
            "1.2345670E+04\n"
          ]
        }
      ]
    },
    {
      "cell_type": "code",
      "source": [
        "print('$'+format(12345.67,'*>10,.2f'))\n",
        "print(f'${12345.67:,.2f}')"
      ],
      "metadata": {
        "colab": {
          "base_uri": "https://localhost:8080/"
        },
        "id": "y54W3FMC3i74",
        "outputId": "a89be6b1-dde4-4e44-8a1f-74e17edbcbe2"
      },
      "execution_count": null,
      "outputs": [
        {
          "output_type": "stream",
          "name": "stdout",
          "text": [
            "$*12,345.67\n",
            "$12,345.67\n"
          ]
        }
      ]
    }
  ]
}