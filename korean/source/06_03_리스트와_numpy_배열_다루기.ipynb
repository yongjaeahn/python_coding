{
  "nbformat": 4,
  "nbformat_minor": 0,
  "metadata": {
    "colab": {
      "provenance": [],
      "authorship_tag": "ABX9TyOYdkHOpmr1EBXwyXcJw5JU",
      "include_colab_link": true
    },
    "kernelspec": {
      "name": "python3",
      "display_name": "Python 3"
    },
    "language_info": {
      "name": "python"
    }
  },
  "cells": [
    {
      "cell_type": "markdown",
      "metadata": {
        "id": "view-in-github",
        "colab_type": "text"
      },
      "source": [
        "<a href=\"https://colab.research.google.com/github/yongjaeahn/python_coding/blob/main/korean/source/06_03_%EB%A6%AC%EC%8A%A4%ED%8A%B8%EC%99%80_numpy_%EB%B0%B0%EC%97%B4_%EB%8B%A4%EB%A3%A8%EA%B8%B0.ipynb\" target=\"_parent\"><img src=\"https://colab.research.google.com/assets/colab-badge.svg\" alt=\"Open In Colab\"/></a>"
      ]
    },
    {
      "cell_type": "markdown",
      "source": [
        "\t리스트와 numpy 배열 다루기"
      ],
      "metadata": {
        "id": "B5JBGfgXzMho"
      }
    },
    {
      "cell_type": "markdown",
      "source": [
        "형상 확인"
      ],
      "metadata": {
        "id": "0BljQojHzRCo"
      }
    },
    {
      "cell_type": "code",
      "source": [
        "import numpy as np\n",
        "\n",
        "list_vector = [1,2,3,4,5]\n",
        "array_vector = np.arange(1,6)\n",
        "print(\"array_vector :\", array_vector)\n",
        "\n",
        "print(\"len(list_vector)  :\", len(list_vector))\n",
        "print(\"len(array_vector) :\", len(array_vector))"
      ],
      "metadata": {
        "colab": {
          "base_uri": "https://localhost:8080/"
        },
        "id": "bjdynW-l_XmH",
        "outputId": "cfe0e9d1-f375-40e6-942e-f410fcaf94ca"
      },
      "execution_count": null,
      "outputs": [
        {
          "output_type": "stream",
          "name": "stdout",
          "text": [
            "array_vector : [1 2 3 4 5]\n",
            "len(list_vector)  : 5\n",
            "len(array_vector) : 5\n"
          ]
        }
      ]
    },
    {
      "cell_type": "code",
      "source": [
        "import numpy as np\n",
        "\n",
        "list_matrix = [[1,2,3],[4,5,6]]\n",
        "array_matrix = np.arange(1,7).reshape(2,3)\n",
        "print(\"array_matrix :\\n\", array_matrix)\n",
        "\n",
        "print(\"np.ndim(list_matrix) :\", np.ndim(list_matrix))\n",
        "print(\"np.ndim(array_matrix) :\", np.ndim(array_matrix))\n",
        "print(\"np.size(list_matrix) :\", np.size(list_matrix))\n",
        "print(\"np.size(array_matrix) :\", np.size(array_matrix))\n",
        "print(\"np.shape(list_matrix) :\", np.shape(list_matrix))\n",
        "print(\"np.shape(array_matrix) :\", np.shape(array_matrix))"
      ],
      "metadata": {
        "colab": {
          "base_uri": "https://localhost:8080/"
        },
        "id": "8pHWqsoYo2zn",
        "outputId": "84cbe185-7563-4a0b-83c9-060506381688"
      },
      "execution_count": null,
      "outputs": [
        {
          "output_type": "stream",
          "name": "stdout",
          "text": [
            "array_matrix :\n",
            " [[1 2 3]\n",
            " [4 5 6]]\n",
            "np.ndim(list_matrix) : 2\n",
            "np.ndim(array_matrix) : 2\n",
            "np.size(list_matrix) : 6\n",
            "np.size(array_matrix) : 6\n",
            "np.shape(list_matrix) : (2, 3)\n",
            "np.shape(array_matrix) : (2, 3)\n"
          ]
        }
      ]
    },
    {
      "cell_type": "code",
      "source": [
        "import numpy as np\n",
        "\n",
        "array_matrix = np.arange(1,7).reshape(2,3)\n",
        "print(\"array_matrix :\\n\", array_matrix)\n",
        "\n",
        "print(\"array_matrix.ndim :\", array_matrix.ndim)\n",
        "print(\"array_matrix.size :\", array_matrix.size)\n",
        "print(\"array_matrix.shape :\", array_matrix.shape)"
      ],
      "metadata": {
        "colab": {
          "base_uri": "https://localhost:8080/"
        },
        "id": "--JcQFOKbj4-",
        "outputId": "66f48fe2-bd3f-402f-8767-4a6c43ea3aa6"
      },
      "execution_count": null,
      "outputs": [
        {
          "output_type": "stream",
          "name": "stdout",
          "text": [
            "array_matrix :\n",
            " [[1 2 3]\n",
            " [4 5 6]]\n",
            "array_matrix.ndim : 2\n",
            "array_matrix.size : 6\n",
            "array_matrix.shape : (2, 3)\n"
          ]
        }
      ]
    },
    {
      "cell_type": "markdown",
      "source": [
        "조회"
      ],
      "metadata": {
        "id": "6xBkDAAABUKF"
      }
    },
    {
      "cell_type": "code",
      "source": [
        "import numpy as np\n",
        "\n",
        "list_vector = [1,2,3,4,5,6,7,8,9,10]\n",
        "array_vector = np.array(list_vector)\n",
        "\n",
        "print(\"2~8번째 요소 중 짝수번째 요소 : \", list_vector[1:8:2], array_vector[1:8:2])\n",
        "print(\"마지막에서 2~8번째 요소 중 짝수번째 요소 :\",\n",
        "      list_vector[-2:-9:-2], array_vector[-2:-9:-2])\n",
        "print(\"3~7번째 요소 :\", list_vector[2:7], array_vector[2:7])\n",
        "print(\"1~7번째 요소 :\", list_vector[:7], array_vector[:7])\n",
        "print(\"7번째~마지막 요소 :\", list_vector[6:], array_vector[6:])\n",
        "print(\"전체 요소 중 홀수번째 요소 :\",list_vector[::2], array_vector[::2])"
      ],
      "metadata": {
        "colab": {
          "base_uri": "https://localhost:8080/"
        },
        "id": "mgW7uXTE9Tjy",
        "outputId": "4da7bfa7-a63e-4aca-d457-5a259465112a"
      },
      "execution_count": null,
      "outputs": [
        {
          "output_type": "stream",
          "name": "stdout",
          "text": [
            "3~7번째 요소 : [3, 4, 5, 6, 7] [3 4 5 6 7]\n",
            "1~7번째 요소 : [1, 2, 3, 4, 5, 6, 7] [1 2 3 4 5 6 7]\n",
            "7번째~마지막 요소 : [7, 8, 9, 10] [ 7  8  9 10]\n",
            "2~8번째 요소 중 짝수번째 요소 :  [2, 4, 6, 8] [2 4 6 8]\n",
            "마지막에서 2~8번째 요소 중 짝수번째 요소 : [9, 7, 5, 3] [9 7 5 3]\n",
            "전체 요소 중 홀수번째 요소 : [1, 3, 5, 7, 9] [1 3 5 7 9]\n"
          ]
        }
      ]
    },
    {
      "cell_type": "code",
      "source": [
        "sample_string = \"긴 문자열입니다.\"\n",
        "print(sample_string[2:5])"
      ],
      "metadata": {
        "colab": {
          "base_uri": "https://localhost:8080/"
        },
        "id": "GvK73S3oFBk4",
        "outputId": "ff5fd822-fd61-4f54-9014-43ad30cf9ff5"
      },
      "execution_count": null,
      "outputs": [
        {
          "output_type": "stream",
          "name": "stdout",
          "text": [
            "문자열\n"
          ]
        }
      ]
    },
    {
      "cell_type": "code",
      "source": [
        "import numpy as np\n",
        "\n",
        "list_matrix = [[1,2,3,4,5],\n",
        "               [6,7,8,9,10],\n",
        "               [11,12,13,14,15],\n",
        "               [16,17,18,19,20],\n",
        "               [21,22,23,24,25]]\n",
        "array_matrix = np.array(list_matrix)\n",
        "print(\"array_matrix :\\n\", array_matrix)\n",
        "\n",
        "print(\"첫 요소 :\", list_matrix[0][0], array_matrix[0][0], array_matrix[0,0])\n",
        "print(\"2행 3열 요소 :\", list_matrix[1][2], array_matrix[1][2], array_matrix[1,2])\n",
        "print(\"마지막 요소 :\", list_matrix[-1][-1], array_matrix[-1][-1], array_matrix[-1,-1])"
      ],
      "metadata": {
        "colab": {
          "base_uri": "https://localhost:8080/"
        },
        "id": "nlml7JP-DPQV",
        "outputId": "b3d93714-e783-469d-f4ea-fe28d36a361d"
      },
      "execution_count": null,
      "outputs": [
        {
          "output_type": "stream",
          "name": "stdout",
          "text": [
            "array_matrix :\n",
            " [[ 1  2  3  4  5]\n",
            " [ 6  7  8  9 10]\n",
            " [11 12 13 14 15]\n",
            " [16 17 18 19 20]\n",
            " [21 22 23 24 25]]\n",
            "첫 요소 : 1 1 1\n",
            "2행 3열 요소 : 8 8 8\n",
            "마지막 요소 : 25 25 25\n"
          ]
        }
      ]
    },
    {
      "cell_type": "code",
      "source": [
        "print(\"1행벡터 :\", list_matrix[0], array_matrix[0])\n",
        "print(\"3행벡터 :\", list_matrix[2][:], array_matrix[2][:])\n",
        "print(\"2~4행벡터(리스트) :\", list_matrix[1:4])\n",
        "print(\"2~4행벡터(배열) :\\n\", array_matrix[1:4,:])"
      ],
      "metadata": {
        "colab": {
          "base_uri": "https://localhost:8080/"
        },
        "id": "Bw8zsikTIYhH",
        "outputId": "0154839e-270e-4247-fc48-bc2ac31a007e"
      },
      "execution_count": null,
      "outputs": [
        {
          "output_type": "stream",
          "name": "stdout",
          "text": [
            "1행벡터 : [1, 2, 3, 4, 5] [1 2 3 4 5]\n",
            "3행벡터 : [11, 12, 13, 14, 15] [11 12 13 14 15]\n",
            "2~4행벡터(리스트) : [[6, 7, 8, 9, 10], [11, 12, 13, 14, 15], [16, 17, 18, 19, 20]]\n",
            "2~4행벡터(배열) :\n",
            " [[ 6  7  8  9 10]\n",
            " [11 12 13 14 15]\n",
            " [16 17 18 19 20]]\n"
          ]
        }
      ]
    },
    {
      "cell_type": "code",
      "source": [
        "print(\"1열벡터 :\", list_matrix[:][0], array_matrix[:][0])\n",
        "print(\"3열벡터 :\", list_matrix[:][2], array_matrix[:][2])\n",
        "print(\"2~4열벡터(리스트) :\", list_matrix[:][1:4])\n",
        "print(\"2~4열벡터(배열) :\\n\", array_matrix[:][1:4])"
      ],
      "metadata": {
        "colab": {
          "base_uri": "https://localhost:8080/"
        },
        "id": "LDCZjzkpK6gd",
        "outputId": "a0f2dc8f-63d6-4c3f-f374-0023b5237cd2"
      },
      "execution_count": null,
      "outputs": [
        {
          "output_type": "stream",
          "name": "stdout",
          "text": [
            "1열벡터 : [1, 2, 3, 4, 5] [1 2 3 4 5]\n",
            "3열벡터 : [11, 12, 13, 14, 15] [11 12 13 14 15]\n",
            "2~4열벡터(리스트) : [[6, 7, 8, 9, 10], [11, 12, 13, 14, 15], [16, 17, 18, 19, 20]]\n",
            "2~4열벡터(배열) :\n",
            " [[ 6  7  8  9 10]\n",
            " [11 12 13 14 15]\n",
            " [16 17 18 19 20]]\n"
          ]
        }
      ]
    },
    {
      "cell_type": "code",
      "source": [
        "print(\"array_matrix :\\n\", array_matrix)\n",
        "print(\"1열벡터 :\", array_matrix[:,0])\n",
        "print(\"3열벡터 :\", array_matrix[:,2])\n",
        "print(\"2~4열벡터(배열) :\\n\", array_matrix[:,1:4])"
      ],
      "metadata": {
        "colab": {
          "base_uri": "https://localhost:8080/"
        },
        "id": "VBnz0M2IN-sL",
        "outputId": "017080d1-d65b-4324-b98d-a139d6472f64"
      },
      "execution_count": null,
      "outputs": [
        {
          "output_type": "stream",
          "name": "stdout",
          "text": [
            "array_matrix :\n",
            " [[ 1  2  3  4  5]\n",
            " [ 6  7  8  9 10]\n",
            " [11 12 13 14 15]\n",
            " [16 17 18 19 20]\n",
            " [21 22 23 24 25]]\n",
            "1열벡터 : [ 1  6 11 16 21]\n",
            "3열벡터 : [ 3  8 13 18 23]\n",
            "2~4열벡터(배열) :\n",
            " [[ 2  3  4]\n",
            " [ 7  8  9]\n",
            " [12 13 14]\n",
            " [17 18 19]\n",
            " [22 23 24]]\n"
          ]
        }
      ]
    },
    {
      "cell_type": "code",
      "source": [
        "print(\"2~3 행 슬라이싱(1:3) + 2~4 열 슬라이싱(1:4) :\\n\", array_matrix[1:3,1:4])"
      ],
      "metadata": {
        "colab": {
          "base_uri": "https://localhost:8080/"
        },
        "id": "WlCyRYQ8ZFGa",
        "outputId": "49c65f35-0c1a-4442-aecb-ec07fe0b7a21"
      },
      "execution_count": null,
      "outputs": [
        {
          "output_type": "stream",
          "name": "stdout",
          "text": [
            "2~3 행 슬라이싱(1:3) + 2~4 열 슬라이싱(1:4) :\n",
            " [[ 7  8  9]\n",
            " [12 13 14]]\n"
          ]
        }
      ]
    },
    {
      "cell_type": "code",
      "source": [
        "array_vector = np.array([1,2,3,4,5])\n",
        "print(\"첫번째 요소 :\", array_vector[0])\n",
        "print(\"세번째 요소 :\", array_vector[2])\n",
        "print(\"마지막 요소 :\", array_vector[-1])"
      ],
      "metadata": {
        "colab": {
          "base_uri": "https://localhost:8080/"
        },
        "id": "e1OM5lqymbnr",
        "outputId": "df00a630-fda0-4068-9fa3-ed54abaa8b09"
      },
      "execution_count": null,
      "outputs": [
        {
          "output_type": "stream",
          "name": "stdout",
          "text": [
            "첫번째 요소 : 1\n",
            "세번째 요소 : 3\n",
            "마지막 요소 : 5\n"
          ]
        }
      ]
    },
    {
      "cell_type": "code",
      "source": [
        "print(\"array_vector[[0,2,-1]] :\", array_vector[[0,2,-1]])"
      ],
      "metadata": {
        "colab": {
          "base_uri": "https://localhost:8080/"
        },
        "id": "jAyzcg8nHO2_",
        "outputId": "4d4a48ca-c35a-4500-dd60-da458086a587"
      },
      "execution_count": null,
      "outputs": [
        {
          "output_type": "stream",
          "name": "stdout",
          "text": [
            "array_vector[[0,2,-1]] : [1 3 5]\n"
          ]
        }
      ]
    },
    {
      "cell_type": "code",
      "source": [
        "array_matrix = np.array([[1,2,3,4,5],\n",
        "               [6,7,8,9,10],\n",
        "               [11,12,13,14,15],\n",
        "               [16,17,18,19,20],\n",
        "               [21,22,23,24,25]])\n",
        "\n",
        "print(\"array_matrix[[0,2,-1],[0,2,-1]] : \", array_matrix[[0,2,-1],[0,2,-1]])"
      ],
      "metadata": {
        "colab": {
          "base_uri": "https://localhost:8080/"
        },
        "id": "u9JxuZ_V93u4",
        "outputId": "acef81f2-8f04-4a11-fba5-dc0bac6f41e0"
      },
      "execution_count": null,
      "outputs": [
        {
          "output_type": "stream",
          "name": "stdout",
          "text": [
            "array_matrix[[0,2,-1],[0,2,-1]] :  [ 1 13 25]\n"
          ]
        }
      ]
    },
    {
      "cell_type": "code",
      "source": [
        "print(\"2행과 4행 :\\n\", array_matrix[[1,3]])"
      ],
      "metadata": {
        "colab": {
          "base_uri": "https://localhost:8080/"
        },
        "id": "fU5UyTNdD5rH",
        "outputId": "a05915d9-712d-498c-9502-d01fa408dfc3"
      },
      "execution_count": null,
      "outputs": [
        {
          "output_type": "stream",
          "name": "stdout",
          "text": [
            "2행과 4행 :\n",
            " [[ 6  7  8  9 10]\n",
            " [16 17 18 19 20]]\n"
          ]
        }
      ]
    },
    {
      "cell_type": "code",
      "source": [
        "print(\"2열과 4열 :\\n\", array_matrix[:,[1,3]])"
      ],
      "metadata": {
        "colab": {
          "base_uri": "https://localhost:8080/"
        },
        "id": "5bytd2x9Et01",
        "outputId": "556fef2a-9c8e-4701-8bcc-25db8f0269df"
      },
      "execution_count": null,
      "outputs": [
        {
          "output_type": "stream",
          "name": "stdout",
          "text": [
            "2열과 4열 :\n",
            " [[ 2  4]\n",
            " [ 7  9]\n",
            " [12 14]\n",
            " [17 19]\n",
            " [22 24]]\n"
          ]
        }
      ]
    },
    {
      "cell_type": "code",
      "source": [
        "array_matrix < 10"
      ],
      "metadata": {
        "colab": {
          "base_uri": "https://localhost:8080/"
        },
        "id": "k9CnreA5f8XF",
        "outputId": "c79b7dfe-8b5e-451a-80d7-27dea97d45da"
      },
      "execution_count": null,
      "outputs": [
        {
          "output_type": "execute_result",
          "data": {
            "text/plain": [
              "array([[ True,  True,  True,  True,  True],\n",
              "       [ True,  True,  True,  True, False],\n",
              "       [False, False, False, False, False],\n",
              "       [False, False, False, False, False],\n",
              "       [False, False, False, False, False]])"
            ]
          },
          "metadata": {},
          "execution_count": 30
        }
      ]
    },
    {
      "cell_type": "code",
      "source": [
        "print(array_matrix[array_matrix < 10])\n",
        "\n",
        "mask = array_matrix < 10\n",
        "print(array_matrix[mask])"
      ],
      "metadata": {
        "colab": {
          "base_uri": "https://localhost:8080/"
        },
        "id": "k2nIajJgvQ6b",
        "outputId": "8ed8f80a-6801-4eff-d669-5c5193ad2fb7"
      },
      "execution_count": null,
      "outputs": [
        {
          "output_type": "stream",
          "name": "stdout",
          "text": [
            "[1 2 3 4 5 6 7 8 9]\n",
            "[1 2 3 4 5 6 7 8 9]\n"
          ]
        }
      ]
    },
    {
      "cell_type": "code",
      "source": [
        "mask = (array_matrix < 10) | (array_matrix > 20)\n",
        "print(array_matrix[mask])"
      ],
      "metadata": {
        "colab": {
          "base_uri": "https://localhost:8080/"
        },
        "id": "DSCYnZ0TzNbl",
        "outputId": "57eb8414-dd8e-4ca2-9516-76f6b5b83834"
      },
      "execution_count": null,
      "outputs": [
        {
          "output_type": "stream",
          "name": "stdout",
          "text": [
            "[ 1  2  3  4  5  6  7  8  9 21 22 23 24 25]\n"
          ]
        }
      ]
    },
    {
      "cell_type": "code",
      "source": [
        "import numpy as np\n",
        "\n",
        "employee_list = [320811, \"안용제\", \"010-1234-5678\", \"서울시 영등포구 당산동\", 99.5]\n",
        "print(\"리스트(list) : \", employee_list)\n",
        "\n",
        "employee_array = np.array([320811, \"안용제\", \"010-1234-5678\", \"서울시 영등포구 당산동\", 99.5])\n",
        "print(\"배열(array) : \", employee_array)"
      ],
      "metadata": {
        "colab": {
          "base_uri": "https://localhost:8080/"
        },
        "id": "5Mb4dyGu2wBg",
        "outputId": "bbacc93d-b493-4e57-8b8d-c87aa6dce729"
      },
      "execution_count": null,
      "outputs": [
        {
          "output_type": "stream",
          "name": "stdout",
          "text": [
            "리스트(list) :  [320811, '안용제', '010-1234-5678', '서울시 영등포구 당산동', 99.5]\n",
            "배열(array) :  ['320811' '안용제' '010-1234-5678' '서울시 영등포구 당산동' '99.5']\n"
          ]
        }
      ]
    },
    {
      "cell_type": "markdown",
      "source": [
        "수정"
      ],
      "metadata": {
        "id": "sr1wjBx-EP-i"
      }
    },
    {
      "cell_type": "code",
      "source": [
        "list_matrix = [[1,2,3,4,5],[6,7,8,9,10],[11,12,13,14,15]]\n",
        "\n",
        "print(\"list_matrix (수정전):\\n\", list_matrix)\n",
        "list_matrix[0][0] = -999\n",
        "print(\"list_matrix (수정후):\\n\", list_matrix)"
      ],
      "metadata": {
        "colab": {
          "base_uri": "https://localhost:8080/"
        },
        "id": "pvyenq9b1qW_",
        "outputId": "16fb4957-fdc2-448f-c6c6-e84fdece0e03"
      },
      "execution_count": null,
      "outputs": [
        {
          "output_type": "stream",
          "name": "stdout",
          "text": [
            "list_matrix (수정전):\n",
            " [[1, 2, 3, 4, 5], [6, 7, 8, 9, 10], [11, 12, 13, 14, 15]]\n",
            "list_matrix (수정후):\n",
            " [[-999, 2, 3, 4, 5], [6, 7, 8, 9, 10], [11, 12, 13, 14, 15]]\n"
          ]
        }
      ]
    },
    {
      "cell_type": "code",
      "source": [
        "import numpy as np\n",
        "\n",
        "array_matrix = np.arange(1,26).reshape(5,5)\n",
        "\n",
        "print(\"array_matrix (수정전) :\\n\", array_matrix)\n",
        "array_matrix[1][2] = -888\n",
        "array_matrix[-1,-1] = -777\n",
        "print(\"array_matrix (수정후):\\n\", array_matrix)"
      ],
      "metadata": {
        "colab": {
          "base_uri": "https://localhost:8080/"
        },
        "id": "i8-0slyL4fgE",
        "outputId": "21a16e14-832a-4d74-ac20-4fe021f9af1b"
      },
      "execution_count": null,
      "outputs": [
        {
          "output_type": "stream",
          "name": "stdout",
          "text": [
            "array_matrix (수정전) :\n",
            " [[ 1  2  3  4  5]\n",
            " [ 6  7  8  9 10]\n",
            " [11 12 13 14 15]\n",
            " [16 17 18 19 20]\n",
            " [21 22 23 24 25]]\n",
            "array_matrix (수정후):\n",
            " [[   1    2    3    4    5]\n",
            " [   6    7 -888    9   10]\n",
            " [  11   12   13   14   15]\n",
            " [  16   17   18   19   20]\n",
            " [  21   22   23   24 -777]]\n"
          ]
        }
      ]
    },
    {
      "cell_type": "code",
      "source": [
        "array_matrix[0] = 1\n",
        "array_matrix[2:3,:] = -1\n",
        "print(\"array_matrix (수정후):\\n\", array_matrix)"
      ],
      "metadata": {
        "colab": {
          "base_uri": "https://localhost:8080/"
        },
        "id": "yrSRTZ8n8tZQ",
        "outputId": "87b07f8d-461e-4f7b-9a08-a761af2bc6d9"
      },
      "execution_count": null,
      "outputs": [
        {
          "output_type": "stream",
          "name": "stdout",
          "text": [
            "array_matrix (수정후):\n",
            " [[   1    1    1    1    1]\n",
            " [   6    7 -888    9   10]\n",
            " [  -1   -1   -1   -1   -1]\n",
            " [  16   17   18   19   20]\n",
            " [  21   22   23   24 -777]]\n"
          ]
        }
      ]
    },
    {
      "cell_type": "code",
      "source": [
        "array_matrix[:,0] = 2\n",
        "array_matrix[:,2:3] = -2\n",
        "print(\"array_matrix (수정후):\\n\", array_matrix)"
      ],
      "metadata": {
        "colab": {
          "base_uri": "https://localhost:8080/"
        },
        "id": "xAuO_8Y4D1F1",
        "outputId": "2d79f6e4-9d20-40cd-998b-5242212e94e3"
      },
      "execution_count": null,
      "outputs": [
        {
          "output_type": "stream",
          "name": "stdout",
          "text": [
            "array_matrix (수정후):\n",
            " [[   2    1   -2    1    1]\n",
            " [   2    7   -2    9   10]\n",
            " [   2   -1   -2   -1   -1]\n",
            " [   2   17   -2   19   20]\n",
            " [   2   22   -2   24 -777]]\n"
          ]
        }
      ]
    },
    {
      "cell_type": "code",
      "source": [
        "array_matrix[1:3,1:4] = 100\n",
        "print(\"array_matrix (수정후):\\n\", array_matrix)"
      ],
      "metadata": {
        "colab": {
          "base_uri": "https://localhost:8080/"
        },
        "id": "nzo_2DjaE4Ch",
        "outputId": "14b231f0-b69d-4bfe-b817-dc3626d17cb9"
      },
      "execution_count": null,
      "outputs": [
        {
          "output_type": "stream",
          "name": "stdout",
          "text": [
            "array_matrix (수정후):\n",
            " [[   2    1   -2    1    1]\n",
            " [   2  100  100  100   10]\n",
            " [   2  100  100  100   -1]\n",
            " [   2   17   -2   19   20]\n",
            " [   2   22   -2   24 -777]]\n"
          ]
        }
      ]
    },
    {
      "cell_type": "code",
      "source": [
        "array_matrix[[0,0,0,-1,-1,-1],[0,1,2,-1,-2,-3]] = -100\n",
        "print(\"array_matrix (수정후):\\n\", array_matrix)"
      ],
      "metadata": {
        "colab": {
          "base_uri": "https://localhost:8080/"
        },
        "id": "aJ88p5G-IEVy",
        "outputId": "4709df88-26fd-4e37-deb3-f48417b8f279"
      },
      "execution_count": null,
      "outputs": [
        {
          "output_type": "stream",
          "name": "stdout",
          "text": [
            "array_matrix (수정후):\n",
            " [[-100 -100 -100    1    1]\n",
            " [   2  100  100  100   10]\n",
            " [   2  100  100  100   -1]\n",
            " [   2   17   -2   19   20]\n",
            " [   2   22 -100 -100 -100]]\n"
          ]
        }
      ]
    },
    {
      "cell_type": "code",
      "source": [
        "mask = array_matrix == -100\n",
        "array_matrix[mask] = 100\n",
        "print(\"array_matrix (수정후):\\n\", array_matrix)"
      ],
      "metadata": {
        "colab": {
          "base_uri": "https://localhost:8080/"
        },
        "id": "QXJZ4VFmOLfK",
        "outputId": "cccfdb02-788f-4076-dc13-0d025d10bee9"
      },
      "execution_count": null,
      "outputs": [
        {
          "output_type": "stream",
          "name": "stdout",
          "text": [
            "array_matrix (수정후):\n",
            " [[100 100 100   1   1]\n",
            " [  2 100 100 100  10]\n",
            " [  2 100 100 100  -1]\n",
            " [  2  17  -2  19  20]\n",
            " [  2  22 100 100 100]]\n"
          ]
        }
      ]
    },
    {
      "cell_type": "markdown",
      "source": [
        "삭제"
      ],
      "metadata": {
        "id": "0zn0e_GzE0pr"
      }
    },
    {
      "cell_type": "code",
      "source": [
        "list_vector = [1,2,3,4,5,6,7,8,9,10]\n",
        "print(\"list_vector (삭제전): \", list_vector)\n",
        "del list_vector[3]     # 인덱스로 삭제\n",
        "print(\"list_vector (인덱스 3 즉 4번째 요소 삭제후): \", list_vector)\n",
        "list_vector.remove(10) #  값으로 삭제\n",
        "print(\"list_vector (값 10으로 삭제후): \", list_vector)"
      ],
      "metadata": {
        "colab": {
          "base_uri": "https://localhost:8080/"
        },
        "id": "R9d_XSKMqYRa",
        "outputId": "114d1252-91dc-4da2-dedc-a54762df5dad"
      },
      "execution_count": null,
      "outputs": [
        {
          "output_type": "stream",
          "name": "stdout",
          "text": [
            "list_vector (삭제전):  [1, 2, 3, 4, 5, 6, 7, 8, 9, 10]\n",
            "list_vector (인덱스 3 즉 4번째 요소 삭제후):  [1, 2, 3, 5, 6, 7, 8, 9, 10]\n",
            "list_vector (값 10으로 삭제후):  [1, 2, 3, 5, 6, 7, 8, 9]\n"
          ]
        }
      ]
    },
    {
      "cell_type": "code",
      "source": [
        "import numpy as np\n",
        "\n",
        "array_matrix = np.arange(1,26).reshape(5,5)\n",
        "print(\"array_matrix (삭제전) :\\n\", array_matrix)\n",
        "array_matrix = np.delete(array_matrix,1,axis=0)\n",
        "print(\"array_matrix (인덱스 1 즉 2행 삭제후) :\\n\", array_matrix)\n",
        "array_matrix = np.delete(array_matrix,[1,3],axis=1)\n",
        "print(\"array_matrix (인덱스 1과 3 즉 2열과 4열 삭제후) :\\n\", array_matrix)"
      ],
      "metadata": {
        "colab": {
          "base_uri": "https://localhost:8080/"
        },
        "id": "Iv6lpTc0soV9",
        "outputId": "c0d0181f-e66d-42f7-d3e8-c3a7541b2939"
      },
      "execution_count": null,
      "outputs": [
        {
          "output_type": "stream",
          "name": "stdout",
          "text": [
            "array_matrix (삭제전) :\n",
            " [[ 1  2  3  4  5]\n",
            " [ 6  7  8  9 10]\n",
            " [11 12 13 14 15]\n",
            " [16 17 18 19 20]\n",
            " [21 22 23 24 25]]\n",
            "array_matrix (인덱스 1 즉 2행 삭제후) :\n",
            " [[ 1  2  3  4  5]\n",
            " [11 12 13 14 15]\n",
            " [16 17 18 19 20]\n",
            " [21 22 23 24 25]]\n",
            "array_matrix (인덱스 1과 3 즉 2열과 4열 삭제후) :\n",
            " [[ 1  3  5]\n",
            " [11 13 15]\n",
            " [16 18 20]\n",
            " [21 23 25]]\n"
          ]
        }
      ]
    },
    {
      "cell_type": "markdown",
      "source": [
        "추가"
      ],
      "metadata": {
        "id": "trvZ_sqCGCIq"
      }
    },
    {
      "cell_type": "code",
      "source": [
        "list_vector = [1,2,4,5]\n",
        "print(\"list_vector 추가전 :\", list_vector)\n",
        "list_vector.append(6)\n",
        "print(\"6을 확장한 후 :\", list_vector)\n",
        "list_vector.insert(2,3)\n",
        "print(\"3을 삽입한 후 :\", list_vector)\n",
        "list_vector.extend([7,8])\n",
        "print(\"[7,8] 리스트를 확장한 후 :\", list_vector)\n",
        "list_vector = [-1,0] + list_vector + [9,10]\n",
        "print(\"[-1,0]와 [9~10] 리스트를 앞뒤로 이어붙인 후 :\",list_vector)"
      ],
      "metadata": {
        "colab": {
          "base_uri": "https://localhost:8080/"
        },
        "id": "UBpyyY9iKXLn",
        "outputId": "38512d75-6bcf-446a-8ebf-922bf1d45dbe"
      },
      "execution_count": null,
      "outputs": [
        {
          "output_type": "stream",
          "name": "stdout",
          "text": [
            "list_vector 추가전 : [1, 2, 4, 5]\n",
            "6을 확장한 후 : [1, 2, 4, 5, 6]\n",
            "3을 삽입한 후 : [1, 2, 3, 4, 5, 6]\n",
            "[7,8] 리스트를 확장한 후 : [1, 2, 3, 4, 5, 6, 7, 8]\n",
            "[-1,0]와 [9~10] 리스트를 앞뒤로 이어붙인 후 : [-1, 0, 1, 2, 3, 4, 5, 6, 7, 8, 9, 10]\n"
          ]
        }
      ]
    },
    {
      "cell_type": "code",
      "source": [
        "import numpy as np\n",
        "array_matrix = np.arange(1,26).reshape(5,5)\n",
        "print(\"array_matrix (추가전) :\\n\", array_matrix)\n",
        "new_row_2d = np.array([[26,27,28,29,30],[31,32,33,34,35]])\n",
        "print(\"신규행 :\\n\", new_row_2d)\n",
        "array_matrix = np.append(array_matrix,new_row_2d,axis=0)\n",
        "print(\"array_matrix (신규행 추가후) :\\n\", array_matrix)"
      ],
      "metadata": {
        "colab": {
          "base_uri": "https://localhost:8080/"
        },
        "id": "UFuRZm3CMkMX",
        "outputId": "e8bda067-16a8-4634-ae54-a487948e323e"
      },
      "execution_count": null,
      "outputs": [
        {
          "output_type": "stream",
          "name": "stdout",
          "text": [
            "array_matrix (추가전) :\n",
            " [[ 1  2  3  4  5]\n",
            " [ 6  7  8  9 10]\n",
            " [11 12 13 14 15]\n",
            " [16 17 18 19 20]\n",
            " [21 22 23 24 25]]\n",
            "신규행 :\n",
            " [[26 27 28 29 30]\n",
            " [31 32 33 34 35]]\n",
            "array_matrix (신규행 추가후) :\n",
            " [[ 1  2  3  4  5]\n",
            " [ 6  7  8  9 10]\n",
            " [11 12 13 14 15]\n",
            " [16 17 18 19 20]\n",
            " [21 22 23 24 25]\n",
            " [26 27 28 29 30]\n",
            " [31 32 33 34 35]]\n"
          ]
        }
      ]
    },
    {
      "cell_type": "code",
      "source": [
        "import numpy as np\n",
        "array_matrix = np.arange(1,26).reshape(5,5)\n",
        "print(\"array_matrix (추가전) :\\n\", array_matrix)\n",
        "new_column_2d = np.array([[26],[27],[28],[29],[30]])\n",
        "print(\"신규열 :\\n\", new_column_2d)\n",
        "array_matrix = np.append(array_matrix,new_column_2d,axis=1)\n",
        "print(\"array_matrix (신규열 추가후) :\\n\", array_matrix)"
      ],
      "metadata": {
        "colab": {
          "base_uri": "https://localhost:8080/"
        },
        "id": "cSji6WB6Wq27",
        "outputId": "23e0ad61-5411-4d32-e773-35725a1c7144"
      },
      "execution_count": null,
      "outputs": [
        {
          "output_type": "stream",
          "name": "stdout",
          "text": [
            "array_matrix (추가전) :\n",
            " [[ 1  2  3  4  5]\n",
            " [ 6  7  8  9 10]\n",
            " [11 12 13 14 15]\n",
            " [16 17 18 19 20]\n",
            " [21 22 23 24 25]]\n",
            "신규열 :\n",
            " [[26]\n",
            " [27]\n",
            " [28]\n",
            " [29]\n",
            " [30]]\n",
            "array_matrix (신규열 추가후) :\n",
            " [[ 1  2  3  4  5 26]\n",
            " [ 6  7  8  9 10 27]\n",
            " [11 12 13 14 15 28]\n",
            " [16 17 18 19 20 29]\n",
            " [21 22 23 24 25 30]]\n"
          ]
        }
      ]
    },
    {
      "cell_type": "code",
      "source": [
        "import numpy as np\n",
        "\n",
        "array_matrix = np.arange(1,26).reshape(5,5)\n",
        "print(\"array_matrix (추가전) :\\n\", array_matrix)\n",
        "new_row_2d = np.array([[26,27,28,29,30],[31,32,33,34,35]])\n",
        "print(\"신규열(행표현) :\\n\", new_row_2d)\n",
        "new_column_2d = np.transpose(new_row_2d)\n",
        "print(\"신규열 :\\n\", new_column_2d)"
      ],
      "metadata": {
        "colab": {
          "base_uri": "https://localhost:8080/"
        },
        "id": "sTXKSxeccxli",
        "outputId": "5d926fe6-935a-44f6-a76e-7950abc8d772"
      },
      "execution_count": null,
      "outputs": [
        {
          "output_type": "stream",
          "name": "stdout",
          "text": [
            "array_matrix (추가전) :\n",
            " [[ 1  2  3  4  5]\n",
            " [ 6  7  8  9 10]\n",
            " [11 12 13 14 15]\n",
            " [16 17 18 19 20]\n",
            " [21 22 23 24 25]]\n",
            "신규열(행표현) :\n",
            " [[26 27 28 29 30]\n",
            " [31 32 33 34 35]]\n",
            "신규열 :\n",
            " [[26 31]\n",
            " [27 32]\n",
            " [28 33]\n",
            " [29 34]\n",
            " [30 35]]\n"
          ]
        }
      ]
    },
    {
      "cell_type": "code",
      "source": [
        "array_matrix = np.append(array_matrix,new_column_2d,axis=1)\n",
        "print(\"array_matrix (신규열 추가후) :\\n\", array_matrix)"
      ],
      "metadata": {
        "colab": {
          "base_uri": "https://localhost:8080/"
        },
        "id": "xahIRdETwIP0",
        "outputId": "7cc003eb-f335-487d-9403-9cd904d87656"
      },
      "execution_count": null,
      "outputs": [
        {
          "output_type": "stream",
          "name": "stdout",
          "text": [
            "array_matrix (신규열 추가후) :\n",
            " [[ 1  2  3  4  5 26 31]\n",
            " [ 6  7  8  9 10 27 32]\n",
            " [11 12 13 14 15 28 33]\n",
            " [16 17 18 19 20 29 34]\n",
            " [21 22 23 24 25 30 35]]\n"
          ]
        }
      ]
    },
    {
      "cell_type": "code",
      "source": [
        "input_data = [1,2,3]      # 데이터 저장소에서 읽어 왔다고 가정\n",
        "list_vector = []          # 빈 리스트\n",
        "print(\"list_vector (빈 리스트) :\\n\", list_vector)\n",
        "\n",
        "for datum in input_data:\n",
        "  list_vector.append(datum)\n",
        "\n",
        "print(\"list_vector (값을 읽어와 생성한 리스트) :\\n\", list_vector)"
      ],
      "metadata": {
        "colab": {
          "base_uri": "https://localhost:8080/"
        },
        "id": "D9_JmFoWEySM",
        "outputId": "8223636d-ebc9-47be-f997-92c33c1ce681"
      },
      "execution_count": null,
      "outputs": [
        {
          "output_type": "stream",
          "name": "stdout",
          "text": [
            "list_vector (빈 리스트) :\n",
            " []\n",
            "list_vector (값을 읽어와 생성한 리스트) :\n",
            " [1, 2, 3]\n"
          ]
        }
      ]
    },
    {
      "cell_type": "code",
      "source": [
        "import numpy as np\n",
        "\n",
        "# 데이터 저장소에서 읽어 왔다고 가정\n",
        "row = 3\n",
        "column = 3\n",
        "input_data = [[1,2,3],[4,5,6],[7,8,9]]\n",
        "\n",
        "array_matrix = np.empty(shape=(row, column))\n",
        "print(\"array_matrix (빈 배열) :\\n\", array_matrix)\n",
        "\n",
        "for i in range(row):\n",
        "  for j in range(column):\n",
        "    array_matrix[i,j] = input_data[i][j]\n",
        "\n",
        "print(\"array_matrix (값을 읽어와 생성한 배열) :\\n\", array_matrix)"
      ],
      "metadata": {
        "colab": {
          "base_uri": "https://localhost:8080/"
        },
        "id": "QBoH7PX6Fue_",
        "outputId": "750eac3a-2a14-423b-9e7e-dfff115121fc"
      },
      "execution_count": null,
      "outputs": [
        {
          "output_type": "stream",
          "name": "stdout",
          "text": [
            "array_matrix (빈 배열) :\n",
            " [[4.90825189e-310 0.00000000e+000 0.00000000e+000]\n",
            " [0.00000000e+000 0.00000000e+000 0.00000000e+000]\n",
            " [0.00000000e+000 0.00000000e+000 0.00000000e+000]]\n",
            "array_matrix (값을 읽어와 생성한 배열) :\n",
            " [[1. 2. 3.]\n",
            " [4. 5. 6.]\n",
            " [7. 8. 9.]]\n"
          ]
        }
      ]
    },
    {
      "cell_type": "markdown",
      "source": [
        "numpy 기타"
      ],
      "metadata": {
        "id": "NNKGhXoRJmEB"
      }
    },
    {
      "cell_type": "code",
      "source": [
        "import numpy as np\n",
        "\n",
        "array_matrix = np.arange(1,26).reshape(5,5)\n",
        "print(\"array_matrix (변경전) :\\n\", array_matrix)\n",
        "array_matrix = np.flipud(array_matrix)\n",
        "print(\"array_matrix (행렬의 상하 변경후) :\\n\", array_matrix)"
      ],
      "metadata": {
        "colab": {
          "base_uri": "https://localhost:8080/"
        },
        "id": "egeh6CGxYVxU",
        "outputId": "21141403-782f-41d9-c280-99a507ffd1c1"
      },
      "execution_count": null,
      "outputs": [
        {
          "output_type": "stream",
          "name": "stdout",
          "text": [
            "array_matrix (변경전) :\n",
            " [[ 1  2  3  4  5]\n",
            " [ 6  7  8  9 10]\n",
            " [11 12 13 14 15]\n",
            " [16 17 18 19 20]\n",
            " [21 22 23 24 25]]\n",
            "array_matrix (행렬의 상하 변경후) :\n",
            " [[21 22 23 24 25]\n",
            " [16 17 18 19 20]\n",
            " [11 12 13 14 15]\n",
            " [ 6  7  8  9 10]\n",
            " [ 1  2  3  4  5]]\n"
          ]
        }
      ]
    },
    {
      "cell_type": "code",
      "source": [
        "import numpy as np\n",
        "\n",
        "array_matrix = np.arange(1,26).reshape(5,5)\n",
        "print(\"array_matrix (변경전) :\\n\", array_matrix)\n",
        "array_matrix = np.roll(array_matrix,shift=3)\n",
        "print(\"array_matrix (행렬을 굴린 후) :\\n\", array_matrix)"
      ],
      "metadata": {
        "colab": {
          "base_uri": "https://localhost:8080/"
        },
        "id": "7WS07BnNfWmq",
        "outputId": "23a632f6-710a-43d6-84bd-719a371ce765"
      },
      "execution_count": null,
      "outputs": [
        {
          "output_type": "stream",
          "name": "stdout",
          "text": [
            "array_matrix (변경전) :\n",
            " [[ 1  2  3  4  5]\n",
            " [ 6  7  8  9 10]\n",
            " [11 12 13 14 15]\n",
            " [16 17 18 19 20]\n",
            " [21 22 23 24 25]]\n",
            "array_matrix (행렬을 굴린 후) :\n",
            " [[23 24 25  1  2]\n",
            " [ 3  4  5  6  7]\n",
            " [ 8  9 10 11 12]\n",
            " [13 14 15 16 17]\n",
            " [18 19 20 21 22]]\n"
          ]
        }
      ]
    },
    {
      "cell_type": "code",
      "source": [
        "import numpy as np\n",
        "\n",
        "array_matrix = np.array([[1,2,3],[4,5,6],[7,8,9]])\n",
        "print(\"array_matrix (회전전) :\\n\", array_matrix)\n",
        "array_matrix = np.rot90(array_matrix,k=1)\n",
        "print(\"array_matrix (시계 반대방향 90도 회전후) :\\n\", array_matrix)\n",
        "array_matrix = np.rot90(array_matrix,k=-2)\n",
        "print(\"array_matrix (시계 방향 180도 회전후) :\\n\", array_matrix)"
      ],
      "metadata": {
        "colab": {
          "base_uri": "https://localhost:8080/"
        },
        "id": "5FWeBbw8qf3b",
        "outputId": "2c0fe76c-49af-4c22-e074-2e244a088848"
      },
      "execution_count": null,
      "outputs": [
        {
          "output_type": "stream",
          "name": "stdout",
          "text": [
            "array_matrix (회전전) :\n",
            " [[1 2 3]\n",
            " [4 5 6]\n",
            " [7 8 9]]\n",
            "array_matrix (시계 반대방향 90도 회전후) :\n",
            " [[3 6 9]\n",
            " [2 5 8]\n",
            " [1 4 7]]\n",
            "array_matrix (시계 방향 180도 회전후) :\n",
            " [[7 4 1]\n",
            " [8 5 2]\n",
            " [9 6 3]]\n"
          ]
        }
      ]
    },
    {
      "cell_type": "code",
      "source": [
        "import numpy as np\n",
        "\n",
        "array_matrix = np.array([[1,2],[3,4]])\n",
        "print(\"array_matrix (반복전) :\\n\", array_matrix)\n",
        "array_matrix = np.tile(array_matrix, reps=3)\n",
        "print(\"array_matrix (3열로 반복후) :\\n\", array_matrix)\n",
        "\n",
        "array_matrix = np.array([[1,2],[3,4]])\n",
        "array_matrix = np.tile(array_matrix, reps=(2,3))\n",
        "print(\"array_matrix (2행 3열로 반복후) :\\n\", array_matrix)"
      ],
      "metadata": {
        "colab": {
          "base_uri": "https://localhost:8080/"
        },
        "id": "fpA-iqcSzUwE",
        "outputId": "b7cb2acd-4776-440a-f798-ba910ef50bd8"
      },
      "execution_count": null,
      "outputs": [
        {
          "output_type": "stream",
          "name": "stdout",
          "text": [
            "array_matrix (반복전) :\n",
            " [[1 2]\n",
            " [3 4]]\n",
            "array_matrix (3열로 반복후) :\n",
            " [[1 2 1 2 1 2]\n",
            " [3 4 3 4 3 4]]\n",
            "array_matrix (2행 3열로 반복후) :\n",
            " [[1 2 1 2 1 2]\n",
            " [3 4 3 4 3 4]\n",
            " [1 2 1 2 1 2]\n",
            " [3 4 3 4 3 4]]\n"
          ]
        }
      ]
    },
    {
      "cell_type": "code",
      "source": [
        "import numpy as np\n",
        "\n",
        "array_vector = np.arange(10)\n",
        "print(\"array_vector (섞기전) :\\n\", array_vector)\n",
        "np.random.shuffle(array_vector)\n",
        "print(\"array_vector (섞은후) :\\n\", array_vector)"
      ],
      "metadata": {
        "colab": {
          "base_uri": "https://localhost:8080/"
        },
        "id": "XKQnVfHs4IaC",
        "outputId": "8188f1ca-de19-4cb4-e747-7b5f95d8a3bb"
      },
      "execution_count": null,
      "outputs": [
        {
          "output_type": "stream",
          "name": "stdout",
          "text": [
            "array_vector (섞기전) :\n",
            " [0 1 2 3 4 5 6 7 8 9]\n",
            "array_vector (섞은후) :\n",
            " [3 0 7 1 9 6 5 4 2 8]\n"
          ]
        }
      ]
    },
    {
      "cell_type": "code",
      "source": [
        "import numpy as np\n",
        "\n",
        "array_matrix = np.arange(1,31).reshape(6,5)\n",
        "print(\"array_matrix :\\n\", array_matrix)\n",
        "\n",
        "splited_matrix = np.split(array_matrix, 2, axis=0)\n",
        "print(\"splited_matrix[0] :\\n\", splited_matrix[0])\n",
        "print(\"splited_matrix[1] :\\n\", splited_matrix[1])"
      ],
      "metadata": {
        "colab": {
          "base_uri": "https://localhost:8080/"
        },
        "id": "M-kEEAz6PWFT",
        "outputId": "1a7a6b77-0d2e-4ef1-a10f-84b1b58f9a18"
      },
      "execution_count": null,
      "outputs": [
        {
          "output_type": "stream",
          "name": "stdout",
          "text": [
            "array_matrix :\n",
            " [[ 1  2  3  4  5]\n",
            " [ 6  7  8  9 10]\n",
            " [11 12 13 14 15]\n",
            " [16 17 18 19 20]\n",
            " [21 22 23 24 25]\n",
            " [26 27 28 29 30]]\n",
            "splited_matrix[0] :\n",
            " [[ 1  2  3  4  5]\n",
            " [ 6  7  8  9 10]\n",
            " [11 12 13 14 15]]\n",
            "splited_matrix[1] :\n",
            " [[16 17 18 19 20]\n",
            " [21 22 23 24 25]\n",
            " [26 27 28 29 30]]\n"
          ]
        }
      ]
    },
    {
      "cell_type": "code",
      "source": [
        "splited_matrix = np.split(array_matrix, (1,3), axis=0)\n",
        "print(\"splited_matrix[0] :\\n\", splited_matrix[0])\n",
        "print(\"splited_matrix[1] :\\n\", splited_matrix[1])\n",
        "print(\"splited_matrix[2] :\\n\", splited_matrix[2])"
      ],
      "metadata": {
        "colab": {
          "base_uri": "https://localhost:8080/"
        },
        "id": "Xznbe3lBWv0z",
        "outputId": "8b54b570-0adb-4547-dbc3-c1fef4b7ad5d"
      },
      "execution_count": null,
      "outputs": [
        {
          "output_type": "stream",
          "name": "stdout",
          "text": [
            "splited_matrix[0] :\n",
            " [[1 2 3 4 5]]\n",
            "splited_matrix[1] :\n",
            " [[ 6  7  8  9 10]\n",
            " [11 12 13 14 15]]\n",
            "splited_matrix[2] :\n",
            " [[16 17 18 19 20]\n",
            " [21 22 23 24 25]\n",
            " [26 27 28 29 30]]\n"
          ]
        }
      ]
    },
    {
      "cell_type": "code",
      "source": [
        "import numpy as np\n",
        "\n",
        "array_vector = np.array([1,2,3,4,5])\n",
        "print(\"array_vector :\\n\", array_vector)\n",
        "print(\"0보다 작은 값이 있는지 확인 :\",np.any(array_vector < 0))\n",
        "\n",
        "array_matrix = np.array([[-2,-1,0,1,2],[1,2,3,4,5]])\n",
        "print(\"array_matrix :\\n\", array_matrix)\n",
        "print(\"0보다 작은 값이 있는지 확인 :\",np.any(array_matrix < 0))"
      ],
      "metadata": {
        "colab": {
          "base_uri": "https://localhost:8080/"
        },
        "id": "Ddwol9m5IqH5",
        "outputId": "824f5002-afbf-4378-c303-67da2780bd85"
      },
      "execution_count": null,
      "outputs": [
        {
          "output_type": "stream",
          "name": "stdout",
          "text": [
            "array_vector :\n",
            " [1 2 3 4 5]\n",
            "0보다 작은 값이 있는지 확인 : False\n",
            "array_matrix :\n",
            " [[-2 -1  0  1  2]\n",
            " [ 1  2  3  4  5]]\n",
            "0보다 작은 값이 있는지 확인 : True\n"
          ]
        }
      ]
    },
    {
      "cell_type": "code",
      "source": [
        "equal_boolean_idx = np.array([1,2,3]) == np.array([-1,2,-3])\n",
        "print(\"nan인지 확인하는 불리언 인덱스 : \",equal_boolean_idx)\n",
        "print(\"같은 값이 하나라도 있는지 확인 :\",np.any(equal_boolean_idx))"
      ],
      "metadata": {
        "colab": {
          "base_uri": "https://localhost:8080/"
        },
        "id": "AmBb4DlssYpC",
        "outputId": "5f31419d-53a9-4b36-859f-8f56200af154"
      },
      "execution_count": null,
      "outputs": [
        {
          "output_type": "stream",
          "name": "stdout",
          "text": [
            "nan인지 확인하는 불리언 인덱스 :  [False  True False]\n",
            "같은 값이 하나라도 있는지 확인 : True\n"
          ]
        }
      ]
    },
    {
      "cell_type": "code",
      "source": [
        "import numpy as np\n",
        "\n",
        "array_matrix01 = np.array([[-2,-1,0,1,2],[1,2,3,4,5]])\n",
        "array_matrix02 = np.array([[1,0,0,0,1],[5,4,3,2,1]])\n",
        "array_matrix03 = array_matrix01 / array_matrix02\n",
        "print(\"나눗셈 결과 행렬 : \\n\", array_matrix03)\n",
        "\n",
        "print(\"nan인지 확인하는 불리언 인덱스 : \\n\", np.isnan(array_matrix03))"
      ],
      "metadata": {
        "colab": {
          "base_uri": "https://localhost:8080/"
        },
        "id": "_-4mJWQCJrVp",
        "outputId": "8d8fa00b-0c84-4c91-c6b8-608f74d2c9e0"
      },
      "execution_count": null,
      "outputs": [
        {
          "output_type": "stream",
          "name": "stdout",
          "text": [
            "나눗셈 결과 행렬 : \n",
            " [[-2.  -inf  nan  inf  2. ]\n",
            " [ 0.2  0.5  1.   2.   5. ]]\n",
            "nan인지 확인하는 불리언 인덱스 : \n",
            " [[False False  True False False]\n",
            " [False False False False False]]\n"
          ]
        },
        {
          "output_type": "stream",
          "name": "stderr",
          "text": [
            "<ipython-input-7-d6836f2b8ce7>:5: RuntimeWarning: divide by zero encountered in divide\n",
            "  array_matrix03 = array_matrix01 / array_matrix02\n",
            "<ipython-input-7-d6836f2b8ce7>:5: RuntimeWarning: invalid value encountered in divide\n",
            "  array_matrix03 = array_matrix01 / array_matrix02\n"
          ]
        }
      ]
    },
    {
      "cell_type": "code",
      "source": [
        "print(\"배열 비교\\n\",array_matrix02 == array_matrix02)\n",
        "print(\"배열 비교\\n\",np.array_equal(array_matrix02,array_matrix02))\n",
        "\n",
        "print(\"nan이 포함된 배열 비교\\n\",array_matrix03 == array_matrix03)\n",
        "print(\"nan이 포함된 배열 비교\\n\",np.array_equal(array_matrix03,array_matrix03))"
      ],
      "metadata": {
        "colab": {
          "base_uri": "https://localhost:8080/"
        },
        "id": "KEzc09piDR6X",
        "outputId": "c3a05cfe-5bcd-4d3f-d7a7-93bd1bd46de8"
      },
      "execution_count": null,
      "outputs": [
        {
          "output_type": "stream",
          "name": "stdout",
          "text": [
            "배열 비교\n",
            " [[ True  True  True  True  True]\n",
            " [ True  True  True  True  True]]\n",
            "배열 비교\n",
            " True\n",
            "nan이 포함된 배열 비교\n",
            " [[ True  True False  True  True]\n",
            " [ True  True  True  True  True]]\n",
            "nan이 포함된 배열 비교\n",
            " False\n"
          ]
        }
      ]
    },
    {
      "cell_type": "code",
      "source": [
        "print(\"nan인 값을 0으로 바꾼 행렬 :\\n\",\n",
        "      np.where(np.isnan(array_matrix03), 0, array_matrix03))\n",
        "print(\"유한하지 않은 값을 0으로 바꾼 행렬 :\\n\",\n",
        "      np.where(~np.isfinite(array_matrix03), 0, array_matrix03))"
      ],
      "metadata": {
        "colab": {
          "base_uri": "https://localhost:8080/"
        },
        "id": "8YeiA9SyR-Qg",
        "outputId": "fc698bd9-7610-459d-e603-99c21384bb32"
      },
      "execution_count": null,
      "outputs": [
        {
          "output_type": "stream",
          "name": "stdout",
          "text": [
            "nan인 값을 0으로 바꾼 행렬 :\n",
            " [[-2.  -inf  0.   inf  2. ]\n",
            " [ 0.2  0.5  1.   2.   5. ]]\n",
            "유한하지 않은 값을 0으로 바꾼 행렬 :\n",
            " [[-2.   0.   0.   0.   2. ]\n",
            " [ 0.2  0.5  1.   2.   5. ]]\n"
          ]
        }
      ]
    },
    {
      "cell_type": "code",
      "source": [
        "print(\"0보다 작은 값의 불리언 인덱스 : \\n\", array_matrix03 < 0)\n",
        "print(\"0보다 작은 값 : \\n\", array_matrix03[array_matrix03 < 0])\n",
        "\n",
        "print(\"0보다 작은 값의 인덱스 :\\n\",np.where(array_matrix03 < 0))\n",
        "print(\"0보다 작은 값 :\\n\", array_matrix03[np.where(array_matrix03 < 0)])"
      ],
      "metadata": {
        "colab": {
          "base_uri": "https://localhost:8080/"
        },
        "id": "KOKjqk8JMXqd",
        "outputId": "fc6b8c2c-3421-4429-a18a-9a7be40e2f77"
      },
      "execution_count": null,
      "outputs": [
        {
          "output_type": "stream",
          "name": "stdout",
          "text": [
            "0보다 작은 값의 불리언 인덱스 : \n",
            " [[ True  True False False False]\n",
            " [False False False False False]]\n",
            "0보다 작은 값 : \n",
            " [ -2. -inf]\n",
            "0보다 작은 값의 인덱스 :\n",
            " (array([0, 0]), array([0, 1]))\n",
            "0보다 작은 값 :\n",
            " [ -2. -inf]\n"
          ]
        }
      ]
    }
  ]
}