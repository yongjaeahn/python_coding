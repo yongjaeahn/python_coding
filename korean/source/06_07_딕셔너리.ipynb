{
  "nbformat": 4,
  "nbformat_minor": 0,
  "metadata": {
    "colab": {
      "provenance": [],
      "authorship_tag": "ABX9TyMynylsF+ANVQCrxFtD1jsX",
      "include_colab_link": true
    },
    "kernelspec": {
      "name": "python3",
      "display_name": "Python 3"
    },
    "language_info": {
      "name": "python"
    }
  },
  "cells": [
    {
      "cell_type": "markdown",
      "metadata": {
        "id": "view-in-github",
        "colab_type": "text"
      },
      "source": [
        "<a href=\"https://colab.research.google.com/github/yongjaeahn/python_coding/blob/main/korean/source/06_07_%EB%94%95%EC%85%94%EB%84%88%EB%A6%AC.ipynb\" target=\"_parent\"><img src=\"https://colab.research.google.com/assets/colab-badge.svg\" alt=\"Open In Colab\"/></a>"
      ]
    },
    {
      "cell_type": "markdown",
      "source": [
        "\t딕셔너리"
      ],
      "metadata": {
        "id": "6g18FFlbwTJa"
      }
    },
    {
      "cell_type": "code",
      "source": [
        "subjects = ['국어','영어','수학']\n",
        "scores = [95,100,90]\n",
        "\n",
        "for i in range(len(subjects)):\n",
        "  print(subjects[i],scores[i])"
      ],
      "metadata": {
        "colab": {
          "base_uri": "https://localhost:8080/"
        },
        "id": "NNBJt2T3lTfn",
        "outputId": "6f56121f-a151-4fa5-f338-f3870e45ecdc"
      },
      "execution_count": null,
      "outputs": [
        {
          "output_type": "stream",
          "name": "stdout",
          "text": [
            "국어 95\n",
            "영어 100\n",
            "수학 90\n"
          ]
        }
      ]
    },
    {
      "cell_type": "code",
      "source": [
        "subjects = ['국어','영어','수학','과탐']\n",
        "scores = [95,100,90]\n",
        "\n",
        "for i in range(len(subjects)):\n",
        "  print(subjects[i],scores[i])"
      ],
      "metadata": {
        "colab": {
          "base_uri": "https://localhost:8080/",
          "height": 279
        },
        "id": "hyrM5m8rmvrH",
        "outputId": "0ca49f9c-6157-4c92-b66d-1dd2b6f5124d"
      },
      "execution_count": null,
      "outputs": [
        {
          "output_type": "stream",
          "name": "stdout",
          "text": [
            "국어 95\n",
            "영어 100\n",
            "수학 90\n"
          ]
        },
        {
          "output_type": "error",
          "ename": "IndexError",
          "evalue": "ignored",
          "traceback": [
            "\u001b[0;31m---------------------------------------------------------------------------\u001b[0m",
            "\u001b[0;31mIndexError\u001b[0m                                Traceback (most recent call last)",
            "\u001b[0;32m<ipython-input-1-71032a76056c>\u001b[0m in \u001b[0;36m<cell line: 4>\u001b[0;34m()\u001b[0m\n\u001b[1;32m      3\u001b[0m \u001b[0;34m\u001b[0m\u001b[0m\n\u001b[1;32m      4\u001b[0m \u001b[0;32mfor\u001b[0m \u001b[0mi\u001b[0m \u001b[0;32min\u001b[0m \u001b[0mrange\u001b[0m\u001b[0;34m(\u001b[0m\u001b[0mlen\u001b[0m\u001b[0;34m(\u001b[0m\u001b[0msubjects\u001b[0m\u001b[0;34m)\u001b[0m\u001b[0;34m)\u001b[0m\u001b[0;34m:\u001b[0m\u001b[0;34m\u001b[0m\u001b[0;34m\u001b[0m\u001b[0m\n\u001b[0;32m----> 5\u001b[0;31m   \u001b[0mprint\u001b[0m\u001b[0;34m(\u001b[0m\u001b[0msubjects\u001b[0m\u001b[0;34m[\u001b[0m\u001b[0mi\u001b[0m\u001b[0;34m]\u001b[0m\u001b[0;34m,\u001b[0m\u001b[0mscores\u001b[0m\u001b[0;34m[\u001b[0m\u001b[0mi\u001b[0m\u001b[0;34m]\u001b[0m\u001b[0;34m)\u001b[0m\u001b[0;34m\u001b[0m\u001b[0;34m\u001b[0m\u001b[0m\n\u001b[0m",
            "\u001b[0;31mIndexError\u001b[0m: list index out of range"
          ]
        }
      ]
    },
    {
      "cell_type": "code",
      "source": [
        "subjects = ['국어','영어','수학']\n",
        "scores = [95,100,90,80]\n",
        "\n",
        "for i in range(len(subjects)):\n",
        "  print(subjects[i],scores[i])"
      ],
      "metadata": {
        "colab": {
          "base_uri": "https://localhost:8080/"
        },
        "id": "dp1D9EBAnayk",
        "outputId": "a576ec0b-5d4e-4036-a391-6acc87bd5ab8"
      },
      "execution_count": null,
      "outputs": [
        {
          "output_type": "stream",
          "name": "stdout",
          "text": [
            "국어 95\n",
            "영어 100\n",
            "수학 90\n"
          ]
        }
      ]
    },
    {
      "cell_type": "code",
      "source": [
        "scores = {'국어': 95,'영어': 100,'수학': 90,'과탐': 80}\n",
        "\n",
        "for key, value in scores.items():\n",
        "  print(key, value)"
      ],
      "metadata": {
        "colab": {
          "base_uri": "https://localhost:8080/"
        },
        "id": "AnEgurkYphHZ",
        "outputId": "a0bd264e-630a-4aee-ce1a-4e0c113f494f"
      },
      "execution_count": null,
      "outputs": [
        {
          "output_type": "stream",
          "name": "stdout",
          "text": [
            "국어 95\n",
            "영어 100\n",
            "수학 90\n",
            "과탐 80\n"
          ]
        }
      ]
    },
    {
      "cell_type": "code",
      "source": [
        "for key in scores.keys():\n",
        "  print(key)\n",
        "\n",
        "for value in scores.values():\n",
        "  print(value)"
      ],
      "metadata": {
        "colab": {
          "base_uri": "https://localhost:8080/"
        },
        "id": "q-LZdED4VXQ0",
        "outputId": "092f7944-4f18-4cec-b02d-22b6acb0b72b"
      },
      "execution_count": 9,
      "outputs": [
        {
          "output_type": "stream",
          "name": "stdout",
          "text": [
            "국어\n",
            "영어\n",
            "수학\n",
            "과탐\n",
            "95\n",
            "100\n",
            "90\n",
            "80\n"
          ]
        }
      ]
    },
    {
      "cell_type": "code",
      "source": [
        "subjects = ['국어','영어','수학','과탐']\n",
        "scores = [95,100,90,80]\n",
        "\n",
        "scores = {key: value for key, value in zip(subjects, scores)}\n",
        "print(\"리스트컴프리헨션으로 만든 딕셔너리:\\n\",scores)"
      ],
      "metadata": {
        "colab": {
          "base_uri": "https://localhost:8080/"
        },
        "id": "asDCVIPUR6m1",
        "outputId": "0e60f80c-fa24-4d3f-9d4a-c28cccd957f4"
      },
      "execution_count": 8,
      "outputs": [
        {
          "output_type": "stream",
          "name": "stdout",
          "text": [
            "리스트컴프리헨션으로 만든 딕셔너리:\n",
            " {'국어': 95, '영어': 100, '수학': 90, '과탐': 80}\n"
          ]
        }
      ]
    },
    {
      "cell_type": "code",
      "source": [
        "word2vec = {'바나나': 1, '사과': 2, '배': 10}\n",
        "vec2word = {value: key for key, value in word2vec.items() if value < 10}\n",
        "print(\"vec2word :\",vec2word)"
      ],
      "metadata": {
        "colab": {
          "base_uri": "https://localhost:8080/"
        },
        "id": "cJg2qSZaV9l4",
        "outputId": "0d5b9fce-a1ba-4aa3-806d-521572e627cc"
      },
      "execution_count": 10,
      "outputs": [
        {
          "output_type": "stream",
          "name": "stdout",
          "text": [
            "vec2word : {1: '바나나', 2: '사과'}\n"
          ]
        }
      ]
    },
    {
      "cell_type": "code",
      "source": [
        "code_table = ['left','right','center','top','bottom']\n",
        "\n",
        "for code, description in enumerate(code_table):\n",
        "  print(\"Code :\", code, \", Desc :\", description)"
      ],
      "metadata": {
        "colab": {
          "base_uri": "https://localhost:8080/"
        },
        "id": "pc0JLGQzg-Lk",
        "outputId": "59130f4a-327f-4c22-d803-928b97f7a86f"
      },
      "execution_count": 14,
      "outputs": [
        {
          "output_type": "stream",
          "name": "stdout",
          "text": [
            "Code : 0 , Desc : left\n",
            "Code : 1 , Desc : right\n",
            "Code : 2 , Desc : center\n",
            "Code : 3 , Desc : top\n",
            "Code : 4 , Desc : bottom\n"
          ]
        }
      ]
    },
    {
      "cell_type": "code",
      "source": [
        "code_table = {key: value for key, value in enumerate(code_table)}\n",
        "print(\"명시적인 코드 테이블 :\", code_table)"
      ],
      "metadata": {
        "colab": {
          "base_uri": "https://localhost:8080/"
        },
        "id": "zS9p8_b9kdUO",
        "outputId": "f77eb51f-fa2f-43fd-9178-b9bbc59e0b76"
      },
      "execution_count": 15,
      "outputs": [
        {
          "output_type": "stream",
          "name": "stdout",
          "text": [
            "명시적인 코드 테이블 : {0: 'left', 1: 'right', 2: 'center', 3: 'top', 4: 'bottom'}\n"
          ]
        }
      ]
    },
    {
      "cell_type": "code",
      "source": [
        "code_table = {\"PO\": \"Purchase Order\",\n",
        "              \"GR\": \"Goods Receipt\",\n",
        "              \"IV\": \"invoice\"}"
      ],
      "metadata": {
        "id": "aUnsrQlOlKZq"
      },
      "execution_count": 16,
      "outputs": []
    },
    {
      "cell_type": "code",
      "source": [
        "scores = {}\n",
        "print(type(scores))"
      ],
      "metadata": {
        "colab": {
          "base_uri": "https://localhost:8080/"
        },
        "id": "qhJ3sZxEemt_",
        "outputId": "d1274f0e-f5b6-4062-bf6e-f89c651b2d37"
      },
      "execution_count": null,
      "outputs": [
        {
          "output_type": "stream",
          "name": "stdout",
          "text": [
            "<class 'dict'>\n"
          ]
        }
      ]
    },
    {
      "cell_type": "code",
      "source": [
        "print(\"요소 추가전 scores 사전 변수 :\",scores)\n",
        "scores['국어'] = 95\n",
        "scores['영어'] = 100\n",
        "scores['수학'] = 90\n",
        "scores['과탐'] = 80\n",
        "print(\"요소 추가후 scores 사전 변수 :\",scores)"
      ],
      "metadata": {
        "colab": {
          "base_uri": "https://localhost:8080/"
        },
        "id": "AAYQvCnYfEdL",
        "outputId": "e233fa3d-7582-46d8-8c30-e540a5840ed9"
      },
      "execution_count": null,
      "outputs": [
        {
          "output_type": "stream",
          "name": "stdout",
          "text": [
            "요소 추가전 scores 사전 변수 : {}\n",
            "요소 추가후 scores 사전 변수 : {'국어': 95, '영어': 100, '수학': 90, '과탐': 80}\n"
          ]
        }
      ]
    },
    {
      "cell_type": "code",
      "source": [
        "dict_variable = {}\n",
        "print(\"요소 추가전 dict_variable 사전 변수 :\",dict_variable)\n",
        "dict_variable[1] = \"홍길동\"\n",
        "dict_variable[2] = \"유관순\"\n",
        "dict_variable[3] = \"강감찬\"\n",
        "print(\"요소 추가후 dict_variable 사전 변수 :\",dict_variable)"
      ],
      "metadata": {
        "colab": {
          "base_uri": "https://localhost:8080/"
        },
        "id": "nZAGRmj4g8I8",
        "outputId": "42df56ad-0d80-4dc9-c245-ca3403a93184"
      },
      "execution_count": null,
      "outputs": [
        {
          "output_type": "stream",
          "name": "stdout",
          "text": [
            "요소 추가전 dictVariable 사전 변수 : {}\n",
            "요소 추가후 dictVariable 사전 변수 : {1: '홍길동', 2: '유관순', 3: '강감찬'}\n"
          ]
        }
      ]
    },
    {
      "cell_type": "code",
      "source": [
        "print(\"국어 성적 :\",scores['국어'])\n",
        "scores['국어'] = 99\n",
        "print(\"국어 성적 :\",scores['국어'])\n",
        "print(\"요소 변경후 scores 사전 변수 :\",scores)"
      ],
      "metadata": {
        "colab": {
          "base_uri": "https://localhost:8080/"
        },
        "id": "hMKBfYgOiEpk",
        "outputId": "3afc2de0-8b4e-45a4-999c-1138c647d4f4"
      },
      "execution_count": null,
      "outputs": [
        {
          "output_type": "stream",
          "name": "stdout",
          "text": [
            "국어 성적 : 95\n",
            "국어 성적 : 99\n",
            "요소 변경후 scores 사전 변수 : {'국어': 99, '영어': 100, '수학': 90, '과탐': 80}\n"
          ]
        }
      ]
    },
    {
      "cell_type": "code",
      "source": [
        "print('국어가 scores 변수에 있나?','국어' in scores)\n",
        "print('사탐이 scores 변수에 있나?','사탐' in scores)"
      ],
      "metadata": {
        "colab": {
          "base_uri": "https://localhost:8080/"
        },
        "id": "FRZHMGwqpF4D",
        "outputId": "45120c71-3b5f-45fd-f965-2c42b9b5037f"
      },
      "execution_count": null,
      "outputs": [
        {
          "output_type": "stream",
          "name": "stdout",
          "text": [
            "국어가 scores 변수에 있나? True\n",
            "사탐이 scores 변수에 있나? False\n"
          ]
        }
      ]
    },
    {
      "cell_type": "code",
      "source": [
        "del scores['국어']\n",
        "print(\"요소 삭제후 scores 사전 변수 :\",scores)"
      ],
      "metadata": {
        "colab": {
          "base_uri": "https://localhost:8080/"
        },
        "id": "0p51XeFPjHa6",
        "outputId": "e2c93069-6f99-444a-9506-0a846ebc67f4"
      },
      "execution_count": null,
      "outputs": [
        {
          "output_type": "stream",
          "name": "stdout",
          "text": [
            "요소 삭제후 scores 사전 변수 : {'영어': 100, '수학': 90, '과탐': 80}\n"
          ]
        }
      ]
    },
    {
      "cell_type": "code",
      "source": [
        "dict_var = {\"key1\": \"value3\",\"key3\":\"value1\",\"key2\":\"value2\"}\n",
        "\n",
        "print(\"정렬전 딕셔너리:\",dict_var)\n",
        "print(\"정렬후 딕셔너리:\",sorted(dict_var))"
      ],
      "metadata": {
        "colab": {
          "base_uri": "https://localhost:8080/"
        },
        "id": "ov1YxN15lH75",
        "outputId": "65886653-a827-4bdd-be12-1753e7de38b1"
      },
      "execution_count": null,
      "outputs": [
        {
          "output_type": "stream",
          "name": "stdout",
          "text": [
            "정렬전 딕셔너리: {'key1': 'value3', 'key3': 'value1', 'key2': 'value2'}\n",
            "정렬후 딕셔너리: ['key1', 'key2', 'key3']\n",
            "정렬후 딕셔너리: ['key1', 'key2', 'key3']\n"
          ]
        }
      ]
    },
    {
      "cell_type": "code",
      "source": [
        "dict_var = {\"key1\": \"value3\",\"key3\":\"value1\",\"key2\":\"value2\"}\n",
        "\n",
        "print(\"정렬전 딕셔너리:\",dict_var)\n",
        "print(\"정렬후 딕셔너리:\",sorted(dict_var.items()))"
      ],
      "metadata": {
        "colab": {
          "base_uri": "https://localhost:8080/"
        },
        "id": "itNelKrOjviS",
        "outputId": "dc830847-fdb6-497c-b483-18862b92a714"
      },
      "execution_count": null,
      "outputs": [
        {
          "output_type": "stream",
          "name": "stdout",
          "text": [
            "정렬전 딕셔너리: {'key1': 'value3', 'key3': 'value1', 'key2': 'value2'}\n",
            "정렬후 딕셔너리: [('key1', 'value3'), ('key2', 'value2'), ('key3', 'value1')]\n"
          ]
        }
      ]
    },
    {
      "cell_type": "code",
      "source": [
        "dict_var = {\"key1\": \"value3\",\"key3\":\"value1\",\"key2\":\"value2\"}\n",
        "\n",
        "def sort_key_function(item):\n",
        "  return item[1]\n",
        "\n",
        "print(\"정렬전 딕셔너리:\",dict_var)\n",
        "print(\"정렬후 딕셔너리:\",sorted(dict_var.items(),key=sort_key_function))"
      ],
      "metadata": {
        "colab": {
          "base_uri": "https://localhost:8080/"
        },
        "id": "g4u-THcdNtie",
        "outputId": "4bb198c1-0078-4381-d107-eafc9182d81b"
      },
      "execution_count": null,
      "outputs": [
        {
          "output_type": "stream",
          "name": "stdout",
          "text": [
            "정렬전 딕셔너리: {'key1': 'value3', 'key3': 'value1', 'key2': 'value2'}\n",
            "정렬후 딕셔너리: [('key3', 'value1'), ('key2', 'value2'), ('key1', 'value3')]\n"
          ]
        }
      ]
    },
    {
      "cell_type": "code",
      "source": [
        "dict_var = {\"key1\": \"value3\",\"key3\":\"value1\",\"key2\":\"value2\"}\n",
        "\n",
        "print(\"정렬전 딕셔너리:\",dict_var)\n",
        "print(\"정렬후 딕셔너리:\",sorted(dict_var.items(),key=lambda item: item[1]))"
      ],
      "metadata": {
        "colab": {
          "base_uri": "https://localhost:8080/"
        },
        "id": "-ihr-kzpki0w",
        "outputId": "23b20502-5a7d-4b85-f8cb-38072513284e"
      },
      "execution_count": null,
      "outputs": [
        {
          "output_type": "stream",
          "name": "stdout",
          "text": [
            "정렬전 딕셔너리: {'key1': 'value3', 'key3': 'value1', 'key2': 'value2'}\n",
            "정렬후 딕셔너리: [('key3', 'value1'), ('key2', 'value2'), ('key1', 'value3')]\n"
          ]
        }
      ]
    },
    {
      "cell_type": "code",
      "source": [
        "print(dict(sorted(dict_var.items(),key=lambda item: item[1])))"
      ],
      "metadata": {
        "colab": {
          "base_uri": "https://localhost:8080/"
        },
        "id": "WtYMy8AIo5bA",
        "outputId": "117b2156-e128-4122-f48a-6a107be46008"
      },
      "execution_count": null,
      "outputs": [
        {
          "output_type": "stream",
          "name": "stdout",
          "text": [
            "{'key3': 'value1', 'key2': 'value2', 'key1': 'value3'}\n"
          ]
        }
      ]
    }
  ]
}