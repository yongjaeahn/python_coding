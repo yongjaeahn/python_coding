{
  "nbformat": 4,
  "nbformat_minor": 0,
  "metadata": {
    "colab": {
      "provenance": [],
      "authorship_tag": "ABX9TyNrWo99IdohHSJa36ndFXDv",
      "include_colab_link": true
    },
    "kernelspec": {
      "name": "python3",
      "display_name": "Python 3"
    },
    "language_info": {
      "name": "python"
    }
  },
  "cells": [
    {
      "cell_type": "markdown",
      "metadata": {
        "id": "view-in-github",
        "colab_type": "text"
      },
      "source": [
        "<a href=\"https://colab.research.google.com/github/yongjaeahn/python_coding/blob/main/korean/source/06_07_%EB%94%95%EC%85%94%EB%84%88%EB%A6%AC.ipynb\" target=\"_parent\"><img src=\"https://colab.research.google.com/assets/colab-badge.svg\" alt=\"Open In Colab\"/></a>"
      ]
    },
    {
      "cell_type": "markdown",
      "source": [
        "\t딕셔너리"
      ],
      "metadata": {
        "id": "6g18FFlbwTJa"
      }
    },
    {
      "cell_type": "code",
      "source": [
        "subjects = ['국어','영어','수학']\n",
        "scores = [95,100,90]\n",
        "\n",
        "for i in range(len(subjects)):\n",
        "  print(subjects[i],scores[i])"
      ],
      "metadata": {
        "colab": {
          "base_uri": "https://localhost:8080/"
        },
        "id": "NNBJt2T3lTfn",
        "outputId": "6f56121f-a151-4fa5-f338-f3870e45ecdc"
      },
      "execution_count": null,
      "outputs": [
        {
          "output_type": "stream",
          "name": "stdout",
          "text": [
            "국어 95\n",
            "영어 100\n",
            "수학 90\n"
          ]
        }
      ]
    },
    {
      "cell_type": "code",
      "source": [
        "subjects = ['국어','영어','수학','과탐']\n",
        "scores = [95,100,90]\n",
        "\n",
        "for i in range(len(subjects)):\n",
        "  print(subjects[i],scores[i])"
      ],
      "metadata": {
        "colab": {
          "base_uri": "https://localhost:8080/",
          "height": 279
        },
        "id": "hyrM5m8rmvrH",
        "outputId": "0ca49f9c-6157-4c92-b66d-1dd2b6f5124d"
      },
      "execution_count": null,
      "outputs": [
        {
          "output_type": "stream",
          "name": "stdout",
          "text": [
            "국어 95\n",
            "영어 100\n",
            "수학 90\n"
          ]
        },
        {
          "output_type": "error",
          "ename": "IndexError",
          "evalue": "ignored",
          "traceback": [
            "\u001b[0;31m---------------------------------------------------------------------------\u001b[0m",
            "\u001b[0;31mIndexError\u001b[0m                                Traceback (most recent call last)",
            "\u001b[0;32m<ipython-input-1-71032a76056c>\u001b[0m in \u001b[0;36m<cell line: 4>\u001b[0;34m()\u001b[0m\n\u001b[1;32m      3\u001b[0m \u001b[0;34m\u001b[0m\u001b[0m\n\u001b[1;32m      4\u001b[0m \u001b[0;32mfor\u001b[0m \u001b[0mi\u001b[0m \u001b[0;32min\u001b[0m \u001b[0mrange\u001b[0m\u001b[0;34m(\u001b[0m\u001b[0mlen\u001b[0m\u001b[0;34m(\u001b[0m\u001b[0msubjects\u001b[0m\u001b[0;34m)\u001b[0m\u001b[0;34m)\u001b[0m\u001b[0;34m:\u001b[0m\u001b[0;34m\u001b[0m\u001b[0;34m\u001b[0m\u001b[0m\n\u001b[0;32m----> 5\u001b[0;31m   \u001b[0mprint\u001b[0m\u001b[0;34m(\u001b[0m\u001b[0msubjects\u001b[0m\u001b[0;34m[\u001b[0m\u001b[0mi\u001b[0m\u001b[0;34m]\u001b[0m\u001b[0;34m,\u001b[0m\u001b[0mscores\u001b[0m\u001b[0;34m[\u001b[0m\u001b[0mi\u001b[0m\u001b[0;34m]\u001b[0m\u001b[0;34m)\u001b[0m\u001b[0;34m\u001b[0m\u001b[0;34m\u001b[0m\u001b[0m\n\u001b[0m",
            "\u001b[0;31mIndexError\u001b[0m: list index out of range"
          ]
        }
      ]
    },
    {
      "cell_type": "code",
      "source": [
        "subjects = ['국어','영어','수학']\n",
        "scores = [95,100,90,80]\n",
        "\n",
        "for i in range(len(subjects)):\n",
        "  print(subjects[i],scores[i])"
      ],
      "metadata": {
        "colab": {
          "base_uri": "https://localhost:8080/"
        },
        "id": "dp1D9EBAnayk",
        "outputId": "a576ec0b-5d4e-4036-a391-6acc87bd5ab8"
      },
      "execution_count": null,
      "outputs": [
        {
          "output_type": "stream",
          "name": "stdout",
          "text": [
            "국어 95\n",
            "영어 100\n",
            "수학 90\n"
          ]
        }
      ]
    },
    {
      "cell_type": "code",
      "source": [
        "scores = {'국어': 95,'영어': 100,'수학': 90,'과탐': 80}\n",
        "\n",
        "for key, value in scores.items():\n",
        "  print(key, value)"
      ],
      "metadata": {
        "colab": {
          "base_uri": "https://localhost:8080/"
        },
        "id": "AnEgurkYphHZ",
        "outputId": "a0bd264e-630a-4aee-ce1a-4e0c113f494f"
      },
      "execution_count": null,
      "outputs": [
        {
          "output_type": "stream",
          "name": "stdout",
          "text": [
            "국어 95\n",
            "영어 100\n",
            "수학 90\n",
            "과탐 80\n"
          ]
        }
      ]
    },
    {
      "cell_type": "code",
      "source": [
        "for key in scores.keys():\n",
        "  print(key)\n",
        "\n",
        "for value in scores.values():\n",
        "  print(value)"
      ],
      "metadata": {
        "colab": {
          "base_uri": "https://localhost:8080/"
        },
        "id": "q-LZdED4VXQ0",
        "outputId": "cc62f2cb-501a-46b2-9f07-651c1cc9a5c1"
      },
      "execution_count": null,
      "outputs": [
        {
          "output_type": "stream",
          "name": "stdout",
          "text": [
            "국어\n",
            "영어\n",
            "수학\n",
            "과탐\n",
            "95\n",
            "100\n",
            "90\n",
            "80\n"
          ]
        }
      ]
    },
    {
      "cell_type": "code",
      "source": [
        "scores = {}\n",
        "print(type(scores))"
      ],
      "metadata": {
        "colab": {
          "base_uri": "https://localhost:8080/"
        },
        "id": "qhJ3sZxEemt_",
        "outputId": "d1274f0e-f5b6-4062-bf6e-f89c651b2d37"
      },
      "execution_count": null,
      "outputs": [
        {
          "output_type": "stream",
          "name": "stdout",
          "text": [
            "<class 'dict'>\n"
          ]
        }
      ]
    },
    {
      "cell_type": "code",
      "source": [
        "print(\"요소 추가전 scores 사전 변수 :\",scores)\n",
        "scores['국어'] = 95\n",
        "scores['영어'] = 100\n",
        "scores['수학'] = 90\n",
        "scores['과탐'] = 80\n",
        "print(\"요소 추가후 scores 사전 변수 :\",scores)"
      ],
      "metadata": {
        "colab": {
          "base_uri": "https://localhost:8080/"
        },
        "id": "AAYQvCnYfEdL",
        "outputId": "e233fa3d-7582-46d8-8c30-e540a5840ed9"
      },
      "execution_count": null,
      "outputs": [
        {
          "output_type": "stream",
          "name": "stdout",
          "text": [
            "요소 추가전 scores 사전 변수 : {}\n",
            "요소 추가후 scores 사전 변수 : {'국어': 95, '영어': 100, '수학': 90, '과탐': 80}\n"
          ]
        }
      ]
    },
    {
      "cell_type": "code",
      "source": [
        "dict_variable = {}\n",
        "print(\"요소 추가전 dict_variable 사전 변수 :\",dict_variable)\n",
        "dict_variable[1] = \"홍길동\"\n",
        "dict_variable[2] = \"유관순\"\n",
        "dict_variable[3] = \"강감찬\"\n",
        "print(\"요소 추가후 dict_variable 사전 변수 :\",dict_variable)"
      ],
      "metadata": {
        "colab": {
          "base_uri": "https://localhost:8080/"
        },
        "id": "nZAGRmj4g8I8",
        "outputId": "42df56ad-0d80-4dc9-c245-ca3403a93184"
      },
      "execution_count": null,
      "outputs": [
        {
          "output_type": "stream",
          "name": "stdout",
          "text": [
            "요소 추가전 dictVariable 사전 변수 : {}\n",
            "요소 추가후 dictVariable 사전 변수 : {1: '홍길동', 2: '유관순', 3: '강감찬'}\n"
          ]
        }
      ]
    },
    {
      "cell_type": "code",
      "source": [
        "print(\"국어 성적 :\",scores['국어'])\n",
        "scores['국어'] = 99\n",
        "print(\"국어 성적 :\",scores['국어'])\n",
        "print(\"요소 변경후 scores 사전 변수 :\",scores)"
      ],
      "metadata": {
        "colab": {
          "base_uri": "https://localhost:8080/"
        },
        "id": "hMKBfYgOiEpk",
        "outputId": "3afc2de0-8b4e-45a4-999c-1138c647d4f4"
      },
      "execution_count": null,
      "outputs": [
        {
          "output_type": "stream",
          "name": "stdout",
          "text": [
            "국어 성적 : 95\n",
            "국어 성적 : 99\n",
            "요소 변경후 scores 사전 변수 : {'국어': 99, '영어': 100, '수학': 90, '과탐': 80}\n"
          ]
        }
      ]
    },
    {
      "cell_type": "code",
      "source": [
        "print('국어가 scores 변수에 있나?','국어' in scores)\n",
        "print('사탐이 scores 변수에 있나?','사탐' in scores)"
      ],
      "metadata": {
        "colab": {
          "base_uri": "https://localhost:8080/"
        },
        "id": "FRZHMGwqpF4D",
        "outputId": "45120c71-3b5f-45fd-f965-2c42b9b5037f"
      },
      "execution_count": null,
      "outputs": [
        {
          "output_type": "stream",
          "name": "stdout",
          "text": [
            "국어가 scores 변수에 있나? True\n",
            "사탐이 scores 변수에 있나? False\n"
          ]
        }
      ]
    },
    {
      "cell_type": "code",
      "source": [
        "del scores['국어']\n",
        "print(\"요소 삭제후 scores 사전 변수 :\",scores)"
      ],
      "metadata": {
        "colab": {
          "base_uri": "https://localhost:8080/"
        },
        "id": "0p51XeFPjHa6",
        "outputId": "e2c93069-6f99-444a-9506-0a846ebc67f4"
      },
      "execution_count": null,
      "outputs": [
        {
          "output_type": "stream",
          "name": "stdout",
          "text": [
            "요소 삭제후 scores 사전 변수 : {'영어': 100, '수학': 90, '과탐': 80}\n"
          ]
        }
      ]
    },
    {
      "cell_type": "code",
      "source": [
        "dict_var = {\"key1\": \"value3\",\"key3\":\"value1\",\"key2\":\"value2\"}\n",
        "\n",
        "print(\"정렬전 딕셔너리:\",dict_var)\n",
        "print(\"정렬후 딕셔너리:\",sorted(dict_var))"
      ],
      "metadata": {
        "colab": {
          "base_uri": "https://localhost:8080/"
        },
        "id": "ov1YxN15lH75",
        "outputId": "65886653-a827-4bdd-be12-1753e7de38b1"
      },
      "execution_count": null,
      "outputs": [
        {
          "output_type": "stream",
          "name": "stdout",
          "text": [
            "정렬전 딕셔너리: {'key1': 'value3', 'key3': 'value1', 'key2': 'value2'}\n",
            "정렬후 딕셔너리: ['key1', 'key2', 'key3']\n",
            "정렬후 딕셔너리: ['key1', 'key2', 'key3']\n"
          ]
        }
      ]
    },
    {
      "cell_type": "code",
      "source": [
        "dict_var = {\"key1\": \"value3\",\"key3\":\"value1\",\"key2\":\"value2\"}\n",
        "\n",
        "print(\"정렬전 딕셔너리:\",dict_var)\n",
        "print(\"정렬후 딕셔너리:\",sorted(dict_var.items()))"
      ],
      "metadata": {
        "colab": {
          "base_uri": "https://localhost:8080/"
        },
        "id": "itNelKrOjviS",
        "outputId": "dc830847-fdb6-497c-b483-18862b92a714"
      },
      "execution_count": null,
      "outputs": [
        {
          "output_type": "stream",
          "name": "stdout",
          "text": [
            "정렬전 딕셔너리: {'key1': 'value3', 'key3': 'value1', 'key2': 'value2'}\n",
            "정렬후 딕셔너리: [('key1', 'value3'), ('key2', 'value2'), ('key3', 'value1')]\n"
          ]
        }
      ]
    },
    {
      "cell_type": "code",
      "source": [
        "dict_var = {\"key1\": \"value3\",\"key3\":\"value1\",\"key2\":\"value2\"}\n",
        "\n",
        "def sort_function(item):\n",
        "  return item[1]\n",
        "\n",
        "print(\"정렬전 딕셔너리:\",dict_var)\n",
        "print(\"정렬후 딕셔너리:\",sorted(dict_var.items(),key=sort_function))"
      ],
      "metadata": {
        "colab": {
          "base_uri": "https://localhost:8080/"
        },
        "id": "g4u-THcdNtie",
        "outputId": "4e10bcc4-4533-4312-f018-7c040c3b1d7f"
      },
      "execution_count": null,
      "outputs": [
        {
          "output_type": "stream",
          "name": "stdout",
          "text": [
            "정렬전 딕셔너리: {'key1': 'value3', 'key3': 'value1', 'key2': 'value2'}\n",
            "정렬후 딕셔너리: [('key3', 'value1'), ('key2', 'value2'), ('key1', 'value3')]\n"
          ]
        }
      ]
    },
    {
      "cell_type": "code",
      "source": [
        "dict_var = {\"key1\": \"value3\",\"key3\":\"value1\",\"key2\":\"value2\"}\n",
        "\n",
        "print(\"정렬전 딕셔너리:\",dict_var)\n",
        "print(\"정렬후 딕셔너리:\",sorted(dict_var.items(),key=lambda item: item[1]))"
      ],
      "metadata": {
        "colab": {
          "base_uri": "https://localhost:8080/"
        },
        "id": "-ihr-kzpki0w",
        "outputId": "23b20502-5a7d-4b85-f8cb-38072513284e"
      },
      "execution_count": null,
      "outputs": [
        {
          "output_type": "stream",
          "name": "stdout",
          "text": [
            "정렬전 딕셔너리: {'key1': 'value3', 'key3': 'value1', 'key2': 'value2'}\n",
            "정렬후 딕셔너리: [('key3', 'value1'), ('key2', 'value2'), ('key1', 'value3')]\n"
          ]
        }
      ]
    },
    {
      "cell_type": "code",
      "source": [
        "print(dict(sorted(dict_var.items(),key=lambda item: item[1])))"
      ],
      "metadata": {
        "colab": {
          "base_uri": "https://localhost:8080/"
        },
        "id": "WtYMy8AIo5bA",
        "outputId": "117b2156-e128-4122-f48a-6a107be46008"
      },
      "execution_count": null,
      "outputs": [
        {
          "output_type": "stream",
          "name": "stdout",
          "text": [
            "{'key3': 'value1', 'key2': 'value2', 'key1': 'value3'}\n"
          ]
        }
      ]
    },
    {
      "cell_type": "code",
      "source": [
        "dict_var = {\"key1\": \"value3\",\"key3\":\"value1\",\"key2\":\"value2\"}\n",
        "\n",
        "print(list(dict_var))"
      ],
      "metadata": {
        "colab": {
          "base_uri": "https://localhost:8080/"
        },
        "id": "4YtEzwAdRPj-",
        "outputId": "05fac6f4-7fd2-4d4c-add3-3354d2f4a47b"
      },
      "execution_count": 1,
      "outputs": [
        {
          "output_type": "stream",
          "name": "stdout",
          "text": [
            "['key1', 'key3', 'key2']\n"
          ]
        }
      ]
    }
  ]
}