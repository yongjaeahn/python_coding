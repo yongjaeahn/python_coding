{
  "nbformat": 4,
  "nbformat_minor": 0,
  "metadata": {
    "colab": {
      "provenance": [],
      "authorship_tag": "ABX9TyPlvrwVSgoyN4BJaITHGzzJ",
      "include_colab_link": true
    },
    "kernelspec": {
      "name": "python3",
      "display_name": "Python 3"
    },
    "language_info": {
      "name": "python"
    }
  },
  "cells": [
    {
      "cell_type": "markdown",
      "metadata": {
        "id": "view-in-github",
        "colab_type": "text"
      },
      "source": [
        "<a href=\"https://colab.research.google.com/github/yongjaeahn/PythonCoding/blob/main/korean/source/04_%ED%94%84%EB%A1%9C%EA%B7%B8%EB%9E%98%EB%B0%8D_%EA%B8%B0%EC%B4%88.ipynb\" target=\"_parent\"><img src=\"https://colab.research.google.com/assets/colab-badge.svg\" alt=\"Open In Colab\"/></a>"
      ]
    },
    {
      "cell_type": "markdown",
      "source": [
        "\t프로그램의 기본 구조"
      ],
      "metadata": {
        "id": "fDUXdBpPOLwf"
      }
    },
    {
      "cell_type": "code",
      "execution_count": null,
      "metadata": {
        "colab": {
          "base_uri": "https://localhost:8080/"
        },
        "id": "w9rS4PY6uhsW",
        "outputId": "020f61f1-7638-4bd6-fdc1-f24057aa89c3"
      },
      "outputs": [
        {
          "output_type": "stream",
          "name": "stdout",
          "text": [
            "덧셈을 할 첫번째 숫자 : 10\n",
            "덧셈을 할 두번째 숫자 : 20\n",
            "10와 20의 합은 1020입니다.\n"
          ]
        }
      ],
      "source": [
        "# 입력(Input)\n",
        "firstNumber = input(\"덧셈을 할 첫번째 숫자 : \")\n",
        "secondNumber = input(\"덧셈을 할 두번째 숫자 : \")\n",
        "\n",
        "# 처리(Process)\n",
        "addedResult = firstNumber + secondNumber\n",
        "\n",
        "# 출력(Output)\n",
        "print(firstNumber + \"와 \" + secondNumber + \"의 합은 \" + addedResult + \"입니다.\")"
      ]
    },
    {
      "cell_type": "code",
      "source": [
        "\"\"\"\n",
        "주석 첫째줄\n",
        "주석 둘째줄\n",
        "\"\"\""
      ],
      "metadata": {
        "colab": {
          "base_uri": "https://localhost:8080/",
          "height": 36
        },
        "id": "XxMnxN8UwvxR",
        "outputId": "80490cc6-85bc-4465-f5ab-025cca18b109"
      },
      "execution_count": null,
      "outputs": [
        {
          "output_type": "execute_result",
          "data": {
            "text/plain": [
              "'\\n주석 첫째줄\\n주석 둘째줄\\n'"
            ],
            "application/vnd.google.colaboratory.intrinsic+json": {
              "type": "string"
            }
          },
          "metadata": {},
          "execution_count": 1
        }
      ]
    },
    {
      "cell_type": "code",
      "source": [
        "'''\n",
        "주석 첫째줄\n",
        "주석 둘째줄\n",
        "'''"
      ],
      "metadata": {
        "colab": {
          "base_uri": "https://localhost:8080/",
          "height": 36
        },
        "id": "7v4DjETCw8j2",
        "outputId": "abe3641b-b9af-4e93-983f-512659189efa"
      },
      "execution_count": null,
      "outputs": [
        {
          "output_type": "execute_result",
          "data": {
            "text/plain": [
              "'\\n주석 첫째줄\\n주석 둘째줄\\n'"
            ],
            "application/vnd.google.colaboratory.intrinsic+json": {
              "type": "string"
            }
          },
          "metadata": {},
          "execution_count": 2
        }
      ]
    },
    {
      "cell_type": "markdown",
      "source": [
        "\t자료형"
      ],
      "metadata": {
        "id": "9B8goCJzcLW2"
      }
    },
    {
      "cell_type": "markdown",
      "source": [
        "\t연산"
      ],
      "metadata": {
        "id": "adAnzRFNOV5I"
      }
    },
    {
      "cell_type": "code",
      "source": [
        "10.0 + 25.0\n",
        "10.0 - 25.0\n",
        "10.0 * 25.0\n",
        "10.0 / 25.0\n",
        "25.0 / 10.0\n",
        "25.0 ** 2"
      ],
      "metadata": {
        "colab": {
          "base_uri": "https://localhost:8080/"
        },
        "id": "uQ-u0OW136ty",
        "outputId": "752ec4ea-2f9f-49f5-acad-ee0119dfc89c"
      },
      "execution_count": null,
      "outputs": [
        {
          "output_type": "execute_result",
          "data": {
            "text/plain": [
              "625.0"
            ]
          },
          "metadata": {},
          "execution_count": 5
        }
      ]
    },
    {
      "cell_type": "code",
      "source": [
        "10 + 25\n",
        "10 - 25\n",
        "10 * 25\n",
        "10 / 25\n",
        "25 / 10\n",
        "10 // 25\n",
        "25 // 10\n",
        "10 % 25\n",
        "25 % 10\n",
        "25 ** 2"
      ],
      "metadata": {
        "id": "rkz3hKo7-ea-"
      },
      "execution_count": null,
      "outputs": []
    },
    {
      "cell_type": "code",
      "source": [
        "10 + 25.0\n",
        "10.0 - 25\n",
        "10 / 25.0\n",
        "25 / 10.0\n",
        "25.0 ** 2"
      ],
      "metadata": {
        "id": "gW9bk3uEP5e-"
      },
      "execution_count": null,
      "outputs": []
    },
    {
      "cell_type": "code",
      "source": [
        "(1+2j) + (3+4j)\n",
        "(1+2j) - (3+4j)\n",
        "(1+2j) * (3+4j)\n",
        "(1+2j) / (3+4j)\n",
        "(1+2j) * 2\n",
        "(1+2j) * 2.1\n",
        "(1+2j) ** 2"
      ],
      "metadata": {
        "id": "Y_rI4Qv_QcgM"
      },
      "execution_count": null,
      "outputs": []
    },
    {
      "cell_type": "code",
      "source": [
        "\"10\" + \"20\"\n",
        "\"10 \" + \"20\"\n",
        "\"10\" * 3\n",
        "\"10\" - \"20\"\n",
        "\"10\" * \"20\"\n",
        "\"10\" / \"20\"\n",
        "\"10\" ** \"20\""
      ],
      "metadata": {
        "id": "1-4l8pdHRhZW"
      },
      "execution_count": null,
      "outputs": []
    },
    {
      "cell_type": "code",
      "source": [
        "[\"홍길동\",\"서울시 양천구\"] + [175.5,265] + [10,90,95]\n",
        "[\"Python\",\"C\"] * 3\n",
        "2 in [1,3,5,7,9]\n",
        "\"C++\" in [\"Python\",\"C\",\"C++\",\"Java\"]\n",
        "len([0,2,4,6,8])"
      ],
      "metadata": {
        "id": "UCme2j6tSt-c"
      },
      "execution_count": null,
      "outputs": []
    },
    {
      "cell_type": "markdown",
      "source": [
        "\t자료형 변환"
      ],
      "metadata": {
        "id": "WAeRirDfaE-c"
      }
    },
    {
      "cell_type": "code",
      "source": [
        "int(\"10\")\n",
        "str(10)\n",
        "str(10.0)\n",
        "float(\"10.1\")\n",
        "float(10)\n",
        "complex(10,5)\n",
        "int(10.6)\n",
        "int(\"10.x\")\n",
        "\"10\" + \"20\"\n",
        "int(\"10\") + int(\"20\")"
      ],
      "metadata": {
        "id": "SXR6Wi5mVv5U"
      },
      "execution_count": null,
      "outputs": []
    },
    {
      "cell_type": "code",
      "source": [
        "# 입력(Input)\n",
        "firstNumber = int(input(\"덧셈을 할 첫번째 숫자 : \"))\n",
        "secondNumber = int(input(\"덧셈을 할 두번째 숫자 : \"))\n",
        "\n",
        "# 처리(Process)\n",
        "addedResult = firstNumber + secondNumber\n",
        "\n",
        "# 출력(Output)\n",
        "print(str(firstNumber) + \"와 \" + str(secondNumber) + \"의 합은 \" + str(addedResult) + \"입니다.\")"
      ],
      "metadata": {
        "id": "PpEtP7jVaUOE"
      },
      "execution_count": null,
      "outputs": []
    },
    {
      "cell_type": "markdown",
      "source": [
        "\t변수와 상수"
      ],
      "metadata": {
        "id": "z3ldPO1Wb3ZN"
      }
    },
    {
      "cell_type": "code",
      "source": [
        "sum = 10 + 20"
      ],
      "metadata": {
        "id": "4Hn3SumLb2su"
      },
      "execution_count": null,
      "outputs": []
    },
    {
      "cell_type": "code",
      "source": [
        "sum"
      ],
      "metadata": {
        "colab": {
          "base_uri": "https://localhost:8080/"
        },
        "id": "lcWSmKajcYz1",
        "outputId": "de1ff845-c508-4adb-cf7f-0e5245842600"
      },
      "execution_count": null,
      "outputs": [
        {
          "output_type": "execute_result",
          "data": {
            "text/plain": [
              "30"
            ]
          },
          "metadata": {},
          "execution_count": 13
        }
      ]
    },
    {
      "cell_type": "code",
      "source": [
        "국어성적 = 100\n",
        "국어성적"
      ],
      "metadata": {
        "colab": {
          "base_uri": "https://localhost:8080/"
        },
        "id": "en5txNkXdKuV",
        "outputId": "b4d9a915-f340-4bb1-ff2f-367854c4ffa9"
      },
      "execution_count": null,
      "outputs": [
        {
          "output_type": "execute_result",
          "data": {
            "text/plain": [
              "100"
            ]
          },
          "metadata": {},
          "execution_count": 14
        }
      ]
    },
    {
      "cell_type": "code",
      "source": [
        "sum = sum + 30\n",
        "sum"
      ],
      "metadata": {
        "colab": {
          "base_uri": "https://localhost:8080/"
        },
        "id": "C-lPUj-7dfa9",
        "outputId": "b751a52d-62c6-4115-b986-2587aed9553b"
      },
      "execution_count": null,
      "outputs": [
        {
          "output_type": "execute_result",
          "data": {
            "text/plain": [
              "60"
            ]
          },
          "metadata": {},
          "execution_count": 15
        }
      ]
    },
    {
      "cell_type": "code",
      "source": [
        "60 = 30 + 30"
      ],
      "metadata": {
        "colab": {
          "base_uri": "https://localhost:8080/",
          "height": 138
        },
        "id": "qu3YOSLtdqfc",
        "outputId": "5371b9f2-b07c-442e-cfff-ab066a27c6a6"
      },
      "execution_count": null,
      "outputs": [
        {
          "output_type": "error",
          "ename": "SyntaxError",
          "evalue": "ignored",
          "traceback": [
            "\u001b[0;36m  File \u001b[0;32m\"<ipython-input-16-70577814c1b0>\"\u001b[0;36m, line \u001b[0;32m1\u001b[0m\n\u001b[0;31m    60 = 30 + 30\u001b[0m\n\u001b[0m    ^\u001b[0m\n\u001b[0;31mSyntaxError\u001b[0m\u001b[0;31m:\u001b[0m cannot assign to literal\n"
          ]
        }
      ]
    },
    {
      "cell_type": "code",
      "source": [
        "type(sum)\n",
        "type(\"10\")"
      ],
      "metadata": {
        "id": "kglbtva2enPr"
      },
      "execution_count": null,
      "outputs": []
    },
    {
      "cell_type": "code",
      "source": [
        "(\"홍길동\",\"서울시 양천구\") + (175.5,265) + (10,90,95)\n",
        "(\"Python\",\"C\") * 3\n",
        "2 in (1,3,5,7,9)\n",
        "\"C++\" in (\"Python\",\"C\",\"C++\",\"Java\")\n",
        "len((0,2,4,6,8))"
      ],
      "metadata": {
        "id": "cIEMrGszh3uM"
      },
      "execution_count": null,
      "outputs": []
    },
    {
      "cell_type": "code",
      "source": [
        "list = [0,2,4,6,8]\n",
        "tuple = (0,2,4,6,8)\n",
        "list[0]\n",
        "tuple[-1]\n",
        "list[1]\n",
        "tuple[3]\n",
        "list[3] = 10\n",
        "list\n",
        "tuple[3] = 10"
      ],
      "metadata": {
        "id": "aYIcL0fvi3tg"
      },
      "execution_count": null,
      "outputs": []
    },
    {
      "cell_type": "markdown",
      "source": [
        "\t프로그램 문장"
      ],
      "metadata": {
        "id": "042SFwVjlmqe"
      }
    },
    {
      "cell_type": "code",
      "source": [
        "score = 90\n",
        "score == 90\n",
        "score != 90\n",
        "score < 90\n",
        "score <= 90\n",
        "score > 90\n",
        "score >= 90\n",
        "score >= 80 and score <= 100\n",
        "90 <= score <= 100\n",
        "score <= 80 or score >= 100\n",
        "not (90 <= score <= 100)"
      ],
      "metadata": {
        "id": "-1lEh6N0rJAS"
      },
      "execution_count": null,
      "outputs": []
    },
    {
      "cell_type": "code",
      "source": [
        "a = \"첫번째 변수값\"\n",
        "b = \"두번째 변수값\"\n",
        "temp = a\n",
        "a = b\n",
        "b = temp\n",
        "a\n",
        "b"
      ],
      "metadata": {
        "id": "smxetOfhuAQp"
      },
      "execution_count": null,
      "outputs": []
    },
    {
      "cell_type": "code",
      "source": [
        "a = \"첫번째 변수값\"\n",
        "b = \"두번째 변수값\"\n",
        "a, b = b, a\n",
        "a\n",
        "b"
      ],
      "metadata": {
        "id": "WxO0nc6BuaP5"
      },
      "execution_count": null,
      "outputs": []
    },
    {
      "cell_type": "markdown",
      "source": [
        "\t함수"
      ],
      "metadata": {
        "id": "_q67EpSvvtzn"
      }
    },
    {
      "cell_type": "code",
      "source": [
        "firstNumber = input(\"덧셈을 할 첫번째 숫자 : \")\n",
        "firstNumber"
      ],
      "metadata": {
        "id": "a3OSGISGtB7V"
      },
      "execution_count": null,
      "outputs": []
    },
    {
      "cell_type": "code",
      "source": [
        "firstNumber = input()\n",
        "firstNumber"
      ],
      "metadata": {
        "id": "9Ojsbuextm8b"
      },
      "execution_count": null,
      "outputs": []
    },
    {
      "cell_type": "code",
      "source": [
        "input(\"덧셈을 할 첫번째 숫자 : \")"
      ],
      "metadata": {
        "id": "RFmy3Ik8t_AT"
      },
      "execution_count": null,
      "outputs": []
    },
    {
      "cell_type": "code",
      "source": [
        "print(firstNumber + \"와 \" + secondNumber + \"의 합은 \" + addedResult + \"입니다.\")"
      ],
      "metadata": {
        "id": "5t2ED2GtvR3A"
      },
      "execution_count": null,
      "outputs": []
    },
    {
      "cell_type": "code",
      "source": [
        "firstNumber = \"10\"\n",
        "secondNumber = \"20\"\n",
        "addedResult = \"30\"\n",
        "print(firstNumber + \"와 \" + secondNumber + \"의 합은 \" + addedResult + \"입니다.\")"
      ],
      "metadata": {
        "id": "IJUpitQhupQZ"
      },
      "execution_count": null,
      "outputs": []
    },
    {
      "cell_type": "code",
      "source": [
        "print(firstNumber,\"와 \",secondNumber,\"의 합은 \",addedResult,\"입니다.\")"
      ],
      "metadata": {
        "id": "VKZIdp-SxSIg"
      },
      "execution_count": null,
      "outputs": []
    },
    {
      "cell_type": "code",
      "source": [
        "help(input)"
      ],
      "metadata": {
        "id": "pIjHAtxZyB5N"
      },
      "execution_count": null,
      "outputs": []
    },
    {
      "cell_type": "code",
      "source": [
        "help(print)"
      ],
      "metadata": {
        "id": "hHOWc91oy7te"
      },
      "execution_count": null,
      "outputs": []
    },
    {
      "cell_type": "code",
      "source": [
        "def addTwoNumbers(number1, number2):\n",
        "    sum = number1 + number2\n",
        "    return sum\n",
        "    \n",
        "type(addTwoNumbers)\n",
        "sum = addTwoNumbers(10,20)\n",
        "print(sum)"
      ],
      "metadata": {
        "id": "kKY0W-kbcikG"
      },
      "execution_count": null,
      "outputs": []
    },
    {
      "cell_type": "code",
      "source": [
        "def variableScopeTest(localParameter):\n",
        "    localVariable = \"지역변수\"\n",
        "    print(\"variableScopeTest() 함수의 지역 변수\",locals())\n",
        "\n",
        "globalVariable = \"전역변수\"\n",
        "variableScopeTest(\"인자\")"
      ],
      "metadata": {
        "colab": {
          "base_uri": "https://localhost:8080/"
        },
        "id": "0LL0ylHY0JKk",
        "outputId": "b56cfc19-7883-4c07-b00f-148c309af441"
      },
      "execution_count": null,
      "outputs": [
        {
          "output_type": "stream",
          "name": "stdout",
          "text": [
            "variableScopeTest() 함수의 지역 변수 {'localParameter': '인자', 'localVariable': '지역변수'}\n"
          ]
        }
      ]
    },
    {
      "cell_type": "code",
      "source": [
        "def variableScopeTest(localParameter):\n",
        "    localVariable = \"지역변수\"\n",
        "    print(\"variableScopeTest() 함수의 지역 변수\",locals())\n",
        "    print(\"globalVariable :\",globalVariable)\n",
        "\n",
        "globalVariable = \"전역변수\"\n",
        "variableScopeTest(\"인자\")"
      ],
      "metadata": {
        "colab": {
          "base_uri": "https://localhost:8080/"
        },
        "id": "y3kjXAqI0ndd",
        "outputId": "34abcba1-4d31-4629-cfac-64ec1ffb38c3"
      },
      "execution_count": null,
      "outputs": [
        {
          "output_type": "stream",
          "name": "stdout",
          "text": [
            "variableScopeTest() 함수의 지역 변수 {'localParameter': '인자', 'localVariable': '지역변수'}\n",
            "globalVariable : 전역변수\n"
          ]
        }
      ]
    },
    {
      "cell_type": "code",
      "source": [
        "def variableScopeTest(localParameter):\n",
        "    localVariable = \"지역변수\"\n",
        "    print(\"variableScopeTest() 함수의 지역 변수\",locals())\n",
        "    print(\"globalVariable :\",globalVariable)\n",
        "    globalVariable = \"전역변수 변경\"\n",
        "\n",
        "globalVariable = \"전역변수\"\n",
        "variableScopeTest(\"인자\")"
      ],
      "metadata": {
        "colab": {
          "base_uri": "https://localhost:8080/",
          "height": 363
        },
        "id": "3xSFgenV1NJW",
        "outputId": "eed46c7a-6119-4ffc-c9ae-423ee56d446d"
      },
      "execution_count": null,
      "outputs": [
        {
          "output_type": "stream",
          "name": "stdout",
          "text": [
            "variableScopeTest() 함수의 지역 변수 {'localParameter': '인자', 'localVariable': '지역변수'}\n"
          ]
        },
        {
          "output_type": "error",
          "ename": "UnboundLocalError",
          "evalue": "ignored",
          "traceback": [
            "\u001b[0;31m---------------------------------------------------------------------------\u001b[0m",
            "\u001b[0;31mUnboundLocalError\u001b[0m                         Traceback (most recent call last)",
            "\u001b[0;32m<ipython-input-4-1b78674c96e0>\u001b[0m in \u001b[0;36m<module>\u001b[0;34m\u001b[0m\n\u001b[1;32m      6\u001b[0m \u001b[0;34m\u001b[0m\u001b[0m\n\u001b[1;32m      7\u001b[0m \u001b[0mglobalVariable\u001b[0m \u001b[0;34m=\u001b[0m \u001b[0;34m\"전역변수\"\u001b[0m\u001b[0;34m\u001b[0m\u001b[0;34m\u001b[0m\u001b[0m\n\u001b[0;32m----> 8\u001b[0;31m \u001b[0mvariableScopeTest\u001b[0m\u001b[0;34m(\u001b[0m\u001b[0;34m\"인자\"\u001b[0m\u001b[0;34m)\u001b[0m\u001b[0;34m\u001b[0m\u001b[0;34m\u001b[0m\u001b[0m\n\u001b[0m",
            "\u001b[0;32m<ipython-input-4-1b78674c96e0>\u001b[0m in \u001b[0;36mvariableScopeTest\u001b[0;34m(localParameter)\u001b[0m\n\u001b[1;32m      2\u001b[0m     \u001b[0mlocalVariable\u001b[0m \u001b[0;34m=\u001b[0m \u001b[0;34m\"지역변수\"\u001b[0m\u001b[0;34m\u001b[0m\u001b[0;34m\u001b[0m\u001b[0m\n\u001b[1;32m      3\u001b[0m     \u001b[0mprint\u001b[0m\u001b[0;34m(\u001b[0m\u001b[0;34m\"variableScopeTest() 함수의 지역 변수\"\u001b[0m\u001b[0;34m,\u001b[0m\u001b[0mlocals\u001b[0m\u001b[0;34m(\u001b[0m\u001b[0;34m)\u001b[0m\u001b[0;34m)\u001b[0m\u001b[0;34m\u001b[0m\u001b[0;34m\u001b[0m\u001b[0m\n\u001b[0;32m----> 4\u001b[0;31m     \u001b[0mprint\u001b[0m\u001b[0;34m(\u001b[0m\u001b[0;34m\"globalVariable :\"\u001b[0m\u001b[0;34m,\u001b[0m\u001b[0mglobalVariable\u001b[0m\u001b[0;34m)\u001b[0m\u001b[0;34m\u001b[0m\u001b[0;34m\u001b[0m\u001b[0m\n\u001b[0m\u001b[1;32m      5\u001b[0m     \u001b[0mglobalVariable\u001b[0m \u001b[0;34m=\u001b[0m \u001b[0;34m\"전역변수 변경\"\u001b[0m\u001b[0;34m\u001b[0m\u001b[0;34m\u001b[0m\u001b[0m\n\u001b[1;32m      6\u001b[0m \u001b[0;34m\u001b[0m\u001b[0m\n",
            "\u001b[0;31mUnboundLocalError\u001b[0m: local variable 'globalVariable' referenced before assignment"
          ]
        }
      ]
    },
    {
      "cell_type": "code",
      "source": [
        "def variableScopeTest(localParameter):\n",
        "    global globalVariable\n",
        "\n",
        "    localVariable = \"지역변수\"\n",
        "    print(\"variableScopeTest() 함수의 지역 변수\",locals())\n",
        "    print(\"globalVariable :\",globalVariable)\n",
        "    globalVariable = \"전역변수 변경\"  \n",
        "\n",
        "globalVariable = \"전역변수\"\n",
        "variableScopeTest(\"인자\")\n",
        "print(\"globalVariable :\",globalVariable)"
      ],
      "metadata": {
        "colab": {
          "base_uri": "https://localhost:8080/"
        },
        "id": "c9oElqrJ1o-s",
        "outputId": "45741943-86c7-422f-b706-506ad428334b"
      },
      "execution_count": null,
      "outputs": [
        {
          "output_type": "stream",
          "name": "stdout",
          "text": [
            "variableScopeTest() 함수의 지역 변수 {'localParameter': '인자', 'localVariable': '지역변수'}\n",
            "globalVariable : 전역변수\n",
            "globalVariable : 전역변수 변경\n"
          ]
        }
      ]
    },
    {
      "cell_type": "code",
      "source": [
        "def variableScopeTest(localParameter):\n",
        "    global globalVariable\n",
        "\n",
        "    localVariable = \"지역변수\"\n",
        "    print(\"variableScopeTest() 함수의 지역 변수\",locals())\n",
        "    print(\"globalVariable :\",globalVariable)\n",
        "    globalVariable = \"전역변수 변경\" \n",
        "    print(\"variableScopeTest() 함수의 전역 변수\",globals())\n",
        "\n",
        "globalVariable = \"전역변수\"\n",
        "variableScopeTest(\"인자\")"
      ],
      "metadata": {
        "colab": {
          "base_uri": "https://localhost:8080/"
        },
        "id": "GmZJ0DBGWzaH",
        "outputId": "87be5dd1-3960-42a9-f2de-6c9dcc8042b2"
      },
      "execution_count": null,
      "outputs": [
        {
          "output_type": "stream",
          "name": "stdout",
          "text": [
            "variableScopeTest() 함수의 지역 변수 {'localParameter': '인자', 'localVariable': '지역변수'}\n",
            "globalVariable : 전역변수\n",
            "variableScopeTest() 함수의 전역 변수 {'__name__': '__main__', '__doc__': 'Automatically created module for IPython interactive environment', '__package__': None, '__loader__': None, '__spec__': None, '__builtin__': <module 'builtins' (built-in)>, '__builtins__': <module 'builtins' (built-in)>, '_ih': ['', 'def variableScopeTest(localParameter):\\n    global globalVariable\\n\\n    localVariable = \"지역변수\"\\n    print(\"variableScopeTest() 함수의 지역 변수\",locals())\\n    print(\"globalVariable :\",globalVariable)\\n    globalVariable = \"전역변수 변경\" \\n    print(\"variableScopeTest() 함수의 전역 변수\",globals())\\n\\nglobalVariable = \"전역변수\"\\nvariableScopeTest(\"인자\")'], '_oh': {}, '_dh': ['/content'], 'In': ['', 'def variableScopeTest(localParameter):\\n    global globalVariable\\n\\n    localVariable = \"지역변수\"\\n    print(\"variableScopeTest() 함수의 지역 변수\",locals())\\n    print(\"globalVariable :\",globalVariable)\\n    globalVariable = \"전역변수 변경\" \\n    print(\"variableScopeTest() 함수의 전역 변수\",globals())\\n\\nglobalVariable = \"전역변수\"\\nvariableScopeTest(\"인자\")'], 'Out': {}, 'get_ipython': <bound method InteractiveShell.get_ipython of <google.colab._shell.Shell object at 0x7ffa5f33af10>>, 'exit': <IPython.core.autocall.ZMQExitAutocall object at 0x7ffa5c30c6d0>, 'quit': <IPython.core.autocall.ZMQExitAutocall object at 0x7ffa5c30c6d0>, '_': '', '__': '', '___': '', '_i': '', '_ii': '', '_iii': '', '_i1': 'def variableScopeTest(localParameter):\\n    global globalVariable\\n\\n    localVariable = \"지역변수\"\\n    print(\"variableScopeTest() 함수의 지역 변수\",locals())\\n    print(\"globalVariable :\",globalVariable)\\n    globalVariable = \"전역변수 변경\" \\n    print(\"variableScopeTest() 함수의 전역 변수\",globals())\\n\\nglobalVariable = \"전역변수\"\\nvariableScopeTest(\"인자\")', 'variableScopeTest': <function variableScopeTest at 0x7ffa2afc1430>, 'globalVariable': '전역변수 변경'}\n"
          ]
        }
      ]
    },
    {
      "cell_type": "code",
      "source": [
        "def returnMultipleValues():\n",
        "    #return (10,20,30)\n",
        "    return 10,20,30\n",
        "\n",
        "returnedValues = returnMultipleValues()\n",
        "print(\"함수 반환값 :\", returnedValues)\n",
        "print(\"함수 반환값 :\", returnedValues[0],returnedValues[1],returnedValues[2])\n",
        "print(\"함수가 반환한 자료형 :\", type(returnedValues))\n",
        "\n",
        "returnedValue1, returnedValue2, returnedValue3 = returnMultipleValues()\n",
        "print(\"함수 반환값 :\", returnedValue1, returnedValue2, returnedValue3)"
      ],
      "metadata": {
        "colab": {
          "base_uri": "https://localhost:8080/"
        },
        "id": "aEb0fs17NoiS",
        "outputId": "95b3c4d5-d5e2-442e-c3d8-49c5447e0f4d"
      },
      "execution_count": null,
      "outputs": [
        {
          "output_type": "stream",
          "name": "stdout",
          "text": [
            "함수 반환값 : (10, 20, 30)\n",
            "함수 반환값 : 10 20 30\n",
            "함수가 반환한 자료형 : <class 'tuple'>\n",
            "함수 반환값 : 10 20 30\n"
          ]
        }
      ]
    },
    {
      "cell_type": "code",
      "source": [
        "returnedValue1 = 5\n",
        "print(\"returnedValue1 :\", returnedValue1)\n",
        "returnedValues[0] = 5"
      ],
      "metadata": {
        "colab": {
          "base_uri": "https://localhost:8080/",
          "height": 232
        },
        "id": "Y5thfVGCk_x1",
        "outputId": "eaedb83a-dcbc-46cc-d898-c67e49548c99"
      },
      "execution_count": null,
      "outputs": [
        {
          "output_type": "stream",
          "name": "stdout",
          "text": [
            "returnedValue1 : 5\n"
          ]
        },
        {
          "output_type": "error",
          "ename": "TypeError",
          "evalue": "ignored",
          "traceback": [
            "\u001b[0;31m---------------------------------------------------------------------------\u001b[0m",
            "\u001b[0;31mTypeError\u001b[0m                                 Traceback (most recent call last)",
            "\u001b[0;32m<ipython-input-4-78617500a055>\u001b[0m in \u001b[0;36m<module>\u001b[0;34m\u001b[0m\n\u001b[1;32m      1\u001b[0m \u001b[0mreturnedValue1\u001b[0m \u001b[0;34m=\u001b[0m \u001b[0;36m5\u001b[0m\u001b[0;34m\u001b[0m\u001b[0;34m\u001b[0m\u001b[0m\n\u001b[1;32m      2\u001b[0m \u001b[0mprint\u001b[0m\u001b[0;34m(\u001b[0m\u001b[0;34m\"returnedValue1 :\"\u001b[0m\u001b[0;34m,\u001b[0m \u001b[0mreturnedValue1\u001b[0m\u001b[0;34m)\u001b[0m\u001b[0;34m\u001b[0m\u001b[0;34m\u001b[0m\u001b[0m\n\u001b[0;32m----> 3\u001b[0;31m \u001b[0mreturnedValues\u001b[0m\u001b[0;34m[\u001b[0m\u001b[0;36m0\u001b[0m\u001b[0;34m]\u001b[0m \u001b[0;34m=\u001b[0m \u001b[0;36m5\u001b[0m\u001b[0;34m\u001b[0m\u001b[0;34m\u001b[0m\u001b[0m\n\u001b[0m",
            "\u001b[0;31mTypeError\u001b[0m: 'tuple' object does not support item assignment"
          ]
        }
      ]
    },
    {
      "cell_type": "code",
      "source": [
        "returnedValues = (40,50,60)\n",
        "print(\"returnedValues : \", returnedValues)"
      ],
      "metadata": {
        "colab": {
          "base_uri": "https://localhost:8080/"
        },
        "id": "Vo9A6rvjkPTd",
        "outputId": "4f85de86-1a7a-4e5b-9fbc-990c754bbd97"
      },
      "execution_count": null,
      "outputs": [
        {
          "output_type": "stream",
          "name": "stdout",
          "text": [
            "returnedValues :  (40, 50, 60)\n"
          ]
        }
      ]
    },
    {
      "cell_type": "code",
      "source": [
        "def calculate(operator):\n",
        "    # 입력(Input)\n",
        "    firstNumber = int(input(\"첫번째 숫자 : \"))\n",
        "    secondNumber = int(input(\"두번째 숫자 : \"))\n",
        "\n",
        "    # 처리(Process)\n",
        "    result = eval(str(firstNumber) + operator + str(secondNumber))\n",
        "\n",
        "    # 출력(Output)\n",
        "    print(str(firstNumber), operator, str(secondNumber), \"=\", str(result))\n",
        "\n",
        "def getOperator():\n",
        "    print(\"연산자를 입력하세요. 연산을 종료하려면 q를 입력한 후 Enter 키를 치세요.\")\n",
        "    operator = input(\"연산자 : \")\n",
        "    return operator\n",
        "\n",
        "def main():\n",
        "    validOperators = ['+','-','*','/']\n",
        "\n",
        "    # 초기 반복조건 설정\n",
        "    #print(\"연산자를 입력하세요. 연산을 종료하려면 q를 입력한 후 Enter 키를 치세요.\")\n",
        "    #operator = input(\"연산자 : \")\n",
        "    operator = getOperator()\n",
        "\n",
        "    while operator != 'q':          # 반복조건을 판단하는 논리식\n",
        "        if operator in validOperators:\n",
        "            calculate(operator)\n",
        "        else:\n",
        "            print(\"사칙연산 이외의 기능은 아직 구현되지 않았습니다.\")\n",
        "\n",
        "        # 반복조건 변경\n",
        "        #print(\"연산자를 입력하세요. 연산을 종료하려면 q를 입력한 후 Enter 키를 치세요.\")\n",
        "        #operator = input(\"연산자 : \")\n",
        "        operator = getOperator()\n",
        "\n",
        "if __name__ == \"__main__\":\n",
        "    main()"
      ],
      "metadata": {
        "id": "Ahm0z_IN1mBn"
      },
      "execution_count": null,
      "outputs": []
    },
    {
      "cell_type": "code",
      "source": [
        "def calculate(operator):\n",
        "    # 입력(Input)\n",
        "    firstNumber = int(input(\"첫번째 숫자 : \"))\n",
        "    secondNumber = int(input(\"두번째 숫자 : \"))\n",
        "\n",
        "    # 처리(Process)\n",
        "    result = eval(str(firstNumber) + operator + str(secondNumber))\n",
        "\n",
        "    # 출력(Output)\n",
        "    print(str(firstNumber), operator, str(secondNumber), \"=\", str(result))\n",
        "\n",
        "def getOperator():\n",
        "    print(\"연산자를 입력하세요. 연산을 종료하려면 q를 입력한 후 Enter 키를 치세요.\")\n",
        "    operator = input(\"연산자 : \")\n",
        "    return operator\n",
        "\n",
        "def main():\n",
        "    validOperators = ['+','-','*','/']\n",
        "\n",
        "    # 초기 반복조건 설정\n",
        "    #print(\"연산자를 입력하세요. 연산을 종료하려면 q를 입력한 후 Enter 키를 치세요.\")\n",
        "    #operator = input(\"연산자 : \")\n",
        "    #operator = getOperator()\n",
        "\n",
        "    #while operator != 'q':          # 반복조건을 판단하는 논리식\n",
        "    while (operator := getOperator()) != 'q':          # 반복조건을 판단하는 논리식\n",
        "        if operator in validOperators:\n",
        "            calculate(operator)\n",
        "        else:\n",
        "            print(\"사칙연산 이외의 기능은 아직 구현되지 않았습니다.\")\n",
        "\n",
        "        # 반복조건 변경\n",
        "        #print(\"연산자를 입력하세요. 연산을 종료하려면 q를 입력한 후 Enter 키를 치세요.\")\n",
        "        #operator = input(\"연산자 : \")\n",
        "        #operator = getOperator()\n",
        "\n",
        "if __name__ == \"__main__\":\n",
        "    main()"
      ],
      "metadata": {
        "id": "8xaYGAM-9YVf"
      },
      "execution_count": null,
      "outputs": []
    },
    {
      "cell_type": "code",
      "source": [
        "operator = '+'\n",
        "operator := '+'"
      ],
      "metadata": {
        "id": "8bXu7rP69Z2M"
      },
      "execution_count": null,
      "outputs": []
    },
    {
      "cell_type": "code",
      "source": [
        "while operator = '+' != 'q':"
      ],
      "metadata": {
        "id": "kxDsrmBV9dzE"
      },
      "execution_count": null,
      "outputs": []
    },
    {
      "cell_type": "code",
      "source": [
        "if operator := '+' != 'q':\n",
        "    print(operator)\n",
        "\n",
        "if (operator := '+') != 'q':\n",
        "    print(operator)"
      ],
      "metadata": {
        "id": "Ncbv7fPb91ID"
      },
      "execution_count": null,
      "outputs": []
    },
    {
      "cell_type": "markdown",
      "source": [
        "\t구조적 프로그래밍"
      ],
      "metadata": {
        "id": "VFLpAgii2xXK"
      }
    },
    {
      "cell_type": "markdown",
      "source": [
        "\t제어문 – 선택 구조"
      ],
      "metadata": {
        "id": "7noxytWX4uOB"
      }
    },
    {
      "cell_type": "code",
      "source": [
        "number1 = 10\n",
        "number2 = 20\n",
        "operator = \"+\"\n",
        "if operator == \"+\":\n",
        "    sum = number1 + number2\n",
        "    print(str(number1) + \"과 \" + str(number2) + \"의 합은 \" + str(sum) + \"입니다.\")"
      ],
      "metadata": {
        "colab": {
          "base_uri": "https://localhost:8080/"
        },
        "id": "5-8X9OmKFxxY",
        "outputId": "014e506e-b94f-4425-a92c-213aca6e3279"
      },
      "execution_count": null,
      "outputs": [
        {
          "output_type": "stream",
          "name": "stdout",
          "text": [
            "10과 20의 합은 30입니다.\n"
          ]
        }
      ]
    },
    {
      "cell_type": "code",
      "source": [
        "number1 = 10\n",
        "number2 = 20\n",
        "operator = \"-\"\n",
        "if operator == \"+\":\n",
        "    sum = number1 + number2\n",
        "    print(str(number1) + \"과 \" + str(number2) + \"의 합은 \" + str(sum) + \"입니다.\")\n",
        "else:\n",
        "    print(\"덧셈 이외의 기능은 아직 구현되지 않았습니다.\")"
      ],
      "metadata": {
        "colab": {
          "base_uri": "https://localhost:8080/"
        },
        "id": "DYCmKfa-HHAI",
        "outputId": "0f16f6e0-9334-45c2-8c25-c5a873ede7e8"
      },
      "execution_count": null,
      "outputs": [
        {
          "output_type": "stream",
          "name": "stdout",
          "text": [
            "덧셈 이외의 기능은 아직 구현되지 않았습니다.\n"
          ]
        }
      ]
    },
    {
      "cell_type": "code",
      "source": [
        "number1 = 10\n",
        "number2 = 20\n",
        "operator = \"-\"\n",
        "if operator == '-':\n",
        "    minus = number1 - number2\n",
        "    print(str(number1) + \"과 \" + str(number2) + \"의 차는 \" + str(minus) + \"입니다.\")\n",
        "else:\n",
        "    if operator == \"+\":\n",
        "        sum = number1 + number2\n",
        "        print(str(number1) + \"과 \" + str(number2) + \"의 합은 \" + str(sum) + \"입니다.\")\n",
        "    else:\n",
        "        print(\"덧셈과 뺄셈 이외의 기능은 아직 구현되지 않았습니다.\")"
      ],
      "metadata": {
        "colab": {
          "base_uri": "https://localhost:8080/"
        },
        "id": "RHT2QyK_HfU4",
        "outputId": "831db637-ee0a-4697-e83c-23fdb173d5a3"
      },
      "execution_count": null,
      "outputs": [
        {
          "output_type": "stream",
          "name": "stdout",
          "text": [
            "10과 20의 차는 -10입니다.\n"
          ]
        }
      ]
    },
    {
      "cell_type": "code",
      "source": [
        "number1 = 10\n",
        "number2 = 20\n",
        "operator = \"/\"\n",
        "if operator == \"+\":\n",
        "    sum = number1 + number2\n",
        "    print(str(number1) + \"과 \" + str(number2) + \"의 합은 \" + str(sum) + \"입니다.\")\n",
        "elif operator == '-':\n",
        "    minus = number1 - number2\n",
        "    print(str(number1) + \"과 \" + str(number2) + \"의 차는 \" + str(minus) + \"입니다.\")\n",
        "elif operator == '*':\n",
        "    mul = number1 * number2\n",
        "    print(str(number1) + \"과 \" + str(number2) + \"의 곱은 \" + str(mul) + \"입니다.\")\n",
        "elif operator == '/':\n",
        "    div = number1 / number2\n",
        "    print(str(number1) + \"을 \" + str(number2) + \"로 나누면 \" + str(div) + \"입니다.\")\n",
        "else:\n",
        "    print(\"사칙연산 이외의 기능은 아직 구현되지 않았습니다.\")"
      ],
      "metadata": {
        "colab": {
          "base_uri": "https://localhost:8080/"
        },
        "id": "kJbCHhZOhnSX",
        "outputId": "7bb4f975-9b01-4940-c17d-5957d57f7565"
      },
      "execution_count": null,
      "outputs": [
        {
          "output_type": "stream",
          "name": "stdout",
          "text": [
            "10을 20로 나누면 0.5입니다.\n"
          ]
        }
      ]
    },
    {
      "cell_type": "code",
      "source": [
        "operator = '/'\n",
        "divisor = 5\n",
        "if operator == '/' and divisor != 0:\n",
        "    print(\"나눗셈이 가능합니다.\")"
      ],
      "metadata": {
        "colab": {
          "base_uri": "https://localhost:8080/"
        },
        "id": "ej5VoHtkkz50",
        "outputId": "a45709c4-b3bb-4e08-8035-1939af6990ed"
      },
      "execution_count": null,
      "outputs": [
        {
          "output_type": "stream",
          "name": "stdout",
          "text": [
            "나눗셈이 가능합니다.\n"
          ]
        }
      ]
    },
    {
      "cell_type": "code",
      "source": [
        "operator = '/'\n",
        "divisor = 5\n",
        "if operator == '/':\n",
        "    if divisor != 0:\n",
        "        print(\"나눗셈이 가능합니다.\")"
      ],
      "metadata": {
        "colab": {
          "base_uri": "https://localhost:8080/"
        },
        "id": "-s0w9bDdlKwx",
        "outputId": "8ef89d7e-b934-4a5c-d593-d22a95727602"
      },
      "execution_count": null,
      "outputs": [
        {
          "output_type": "stream",
          "name": "stdout",
          "text": [
            "나눗셈이 가능합니다.\n"
          ]
        }
      ]
    },
    {
      "cell_type": "code",
      "source": [
        "validOperators = ['+','-','*','/']\n",
        "operator = '/'\n",
        "divisor = 0\n",
        "if operator in validOperators and (operator == '/' and divisor == 0):\n",
        "    print(\"0으로 나눌 수 없어 연산이 가능하지 않습니다.\")"
      ],
      "metadata": {
        "colab": {
          "base_uri": "https://localhost:8080/"
        },
        "id": "RjO6K2MOmWoV",
        "outputId": "ca787e91-7a11-497f-e700-5683a1a0ecf2"
      },
      "execution_count": null,
      "outputs": [
        {
          "output_type": "stream",
          "name": "stdout",
          "text": [
            "0으로 나눌 수 없어 연산이 가능하지 않습니다.\n"
          ]
        }
      ]
    },
    {
      "cell_type": "code",
      "source": [
        "validOperators = ['+','-','*','/']\n",
        "operator = '/'\n",
        "divisor = 0\n",
        "if operator in validOperators:\n",
        "    if operator == '/' and divisor == 0:\n",
        "        print(\"0으로 나눌 수 없어 연산이 가능하지 않습니다.\")"
      ],
      "metadata": {
        "colab": {
          "base_uri": "https://localhost:8080/"
        },
        "id": "JAIgNa1dnxUo",
        "outputId": "df7ac41f-e60c-4e4c-b552-6f25067e211e"
      },
      "execution_count": null,
      "outputs": [
        {
          "output_type": "stream",
          "name": "stdout",
          "text": [
            "0으로 나눌 수 없어 연산이 가능하지 않습니다.\n"
          ]
        }
      ]
    },
    {
      "cell_type": "markdown",
      "source": [
        "\t제어문 –  반복 구조"
      ],
      "metadata": {
        "id": "vpcGHCE8oUGS"
      }
    },
    {
      "cell_type": "markdown",
      "source": [
        "for 반복문"
      ],
      "metadata": {
        "id": "sQA0-WMfzXte"
      }
    },
    {
      "cell_type": "code",
      "source": [
        "values = ['one','two','three']\n",
        "for value in values:\n",
        "    print(value)"
      ],
      "metadata": {
        "colab": {
          "base_uri": "https://localhost:8080/"
        },
        "id": "V3ztOD_coxY2",
        "outputId": "3a378c5a-39c9-446e-f442-3d0374efd2f0"
      },
      "execution_count": null,
      "outputs": [
        {
          "output_type": "stream",
          "name": "stdout",
          "text": [
            "one\n",
            "two\n",
            "three\n"
          ]
        }
      ]
    },
    {
      "cell_type": "code",
      "source": [
        "for _ in range(5):\n",
        "    print('처리할 문장들')"
      ],
      "metadata": {
        "colab": {
          "base_uri": "https://localhost:8080/"
        },
        "id": "3-oPvWa9pZhX",
        "outputId": "199dad1f-bdc0-477d-82f4-d0344be4ab57"
      },
      "execution_count": null,
      "outputs": [
        {
          "output_type": "stream",
          "name": "stdout",
          "text": [
            "처리할 문장들\n",
            "처리할 문장들\n",
            "처리할 문장들\n",
            "처리할 문장들\n",
            "처리할 문장들\n"
          ]
        }
      ]
    },
    {
      "cell_type": "code",
      "source": [
        "for i in range(5):\n",
        "    print(i)"
      ],
      "metadata": {
        "colab": {
          "base_uri": "https://localhost:8080/"
        },
        "id": "dT6xA63jpzf0",
        "outputId": "dd896a91-518c-4fe1-ea7f-f569d5a7bcaa"
      },
      "execution_count": null,
      "outputs": [
        {
          "output_type": "stream",
          "name": "stdout",
          "text": [
            "0\n",
            "1\n",
            "2\n",
            "3\n",
            "4\n"
          ]
        }
      ]
    },
    {
      "cell_type": "code",
      "source": [
        "help(range)"
      ],
      "metadata": {
        "colab": {
          "base_uri": "https://localhost:8080/"
        },
        "id": "vGcQz5edqw21",
        "outputId": "576e9f41-c945-49ea-eeb7-309ba5ce292a"
      },
      "execution_count": null,
      "outputs": [
        {
          "output_type": "stream",
          "name": "stdout",
          "text": [
            "Help on class range in module builtins:\n",
            "\n",
            "class range(object)\n",
            " |  range(stop) -> range object\n",
            " |  range(start, stop[, step]) -> range object\n",
            " |  \n",
            " |  Return an object that produces a sequence of integers from start (inclusive)\n",
            " |  to stop (exclusive) by step.  range(i, j) produces i, i+1, i+2, ..., j-1.\n",
            " |  start defaults to 0, and stop is omitted!  range(4) produces 0, 1, 2, 3.\n",
            " |  These are exactly the valid indices for a list of 4 elements.\n",
            " |  When step is given, it specifies the increment (or decrement).\n",
            " |  \n",
            " |  Methods defined here:\n",
            " |  \n",
            " |  __bool__(self, /)\n",
            " |      self != 0\n",
            " |  \n",
            " |  __contains__(self, key, /)\n",
            " |      Return key in self.\n",
            " |  \n",
            " |  __eq__(self, value, /)\n",
            " |      Return self==value.\n",
            " |  \n",
            " |  __ge__(self, value, /)\n",
            " |      Return self>=value.\n",
            " |  \n",
            " |  __getattribute__(self, name, /)\n",
            " |      Return getattr(self, name).\n",
            " |  \n",
            " |  __getitem__(self, key, /)\n",
            " |      Return self[key].\n",
            " |  \n",
            " |  __gt__(self, value, /)\n",
            " |      Return self>value.\n",
            " |  \n",
            " |  __hash__(self, /)\n",
            " |      Return hash(self).\n",
            " |  \n",
            " |  __iter__(self, /)\n",
            " |      Implement iter(self).\n",
            " |  \n",
            " |  __le__(self, value, /)\n",
            " |      Return self<=value.\n",
            " |  \n",
            " |  __len__(self, /)\n",
            " |      Return len(self).\n",
            " |  \n",
            " |  __lt__(self, value, /)\n",
            " |      Return self<value.\n",
            " |  \n",
            " |  __ne__(self, value, /)\n",
            " |      Return self!=value.\n",
            " |  \n",
            " |  __reduce__(...)\n",
            " |      Helper for pickle.\n",
            " |  \n",
            " |  __repr__(self, /)\n",
            " |      Return repr(self).\n",
            " |  \n",
            " |  __reversed__(...)\n",
            " |      Return a reverse iterator.\n",
            " |  \n",
            " |  count(...)\n",
            " |      rangeobject.count(value) -> integer -- return number of occurrences of value\n",
            " |  \n",
            " |  index(...)\n",
            " |      rangeobject.index(value) -> integer -- return index of value.\n",
            " |      Raise ValueError if the value is not present.\n",
            " |  \n",
            " |  ----------------------------------------------------------------------\n",
            " |  Static methods defined here:\n",
            " |  \n",
            " |  __new__(*args, **kwargs) from builtins.type\n",
            " |      Create and return a new object.  See help(type) for accurate signature.\n",
            " |  \n",
            " |  ----------------------------------------------------------------------\n",
            " |  Data descriptors defined here:\n",
            " |  \n",
            " |  start\n",
            " |  \n",
            " |  step\n",
            " |  \n",
            " |  stop\n",
            "\n"
          ]
        }
      ]
    },
    {
      "cell_type": "code",
      "source": [
        "for i in range(2,5,2):\n",
        "    for j in range(1,4):\n",
        "        print(i, \"x\", j, \"=\", i*j)"
      ],
      "metadata": {
        "colab": {
          "base_uri": "https://localhost:8080/"
        },
        "id": "_u6112OasAp0",
        "outputId": "2048be3d-7106-403a-a03e-4f1b07a47bcf"
      },
      "execution_count": null,
      "outputs": [
        {
          "output_type": "stream",
          "name": "stdout",
          "text": [
            "2 x 1 = 2\n",
            "2 x 2 = 4\n",
            "2 x 3 = 6\n",
            "4 x 1 = 4\n",
            "4 x 2 = 8\n",
            "4 x 3 = 12\n"
          ]
        }
      ]
    },
    {
      "cell_type": "markdown",
      "source": [
        "리스트 컴프리헨션"
      ],
      "metadata": {
        "id": "YyJejwTxziZL"
      }
    },
    {
      "cell_type": "code",
      "source": [
        "squaredValues = [i**2 for i in range(1,6)]\n",
        "print(squaredValues)"
      ],
      "metadata": {
        "colab": {
          "base_uri": "https://localhost:8080/"
        },
        "id": "ZyxGOrPqv0cx",
        "outputId": "33e1c7a6-bdc1-4a27-f093-cdc88e03aace"
      },
      "execution_count": null,
      "outputs": [
        {
          "output_type": "stream",
          "name": "stdout",
          "text": [
            "[1, 4, 9, 16, 25]\n"
          ]
        }
      ]
    },
    {
      "cell_type": "code",
      "source": [
        "squaredValues = [i**2 for i in range(1,6) if i%2 == 1]\n",
        "print(squaredValues)"
      ],
      "metadata": {
        "colab": {
          "base_uri": "https://localhost:8080/"
        },
        "id": "Csvck0Ikw6zI",
        "outputId": "1adc8189-9d06-45f6-e39a-792218d0203f"
      },
      "execution_count": null,
      "outputs": [
        {
          "output_type": "stream",
          "name": "stdout",
          "text": [
            "[1, 9, 25]\n"
          ]
        }
      ]
    },
    {
      "cell_type": "code",
      "source": [
        "list2d = [[1,2,3,],[4,5,6]]\n",
        "squaredValues = [[elem**2 for elem in sublist1d] for sublist1d in list2d]\n",
        "print(squaredValues)"
      ],
      "metadata": {
        "colab": {
          "base_uri": "https://localhost:8080/"
        },
        "id": "YTEgL5A1yMsM",
        "outputId": "29d23f35-7202-4bba-a0fc-2f7e68e10cad"
      },
      "execution_count": null,
      "outputs": [
        {
          "output_type": "stream",
          "name": "stdout",
          "text": [
            "[[1, 4, 9], [16, 25, 36]]\n"
          ]
        }
      ]
    },
    {
      "cell_type": "markdown",
      "source": [
        "while 반복문"
      ],
      "metadata": {
        "id": "bz60DdomzrX6"
      }
    },
    {
      "cell_type": "code",
      "source": [
        "i = 0\n",
        "while i < 3:\n",
        "    print(i)\n",
        "    i = i + 1"
      ],
      "metadata": {
        "colab": {
          "base_uri": "https://localhost:8080/"
        },
        "id": "roiLtTtGyZgF",
        "outputId": "5bf5b872-adef-47d8-a406-9a7b09c3cc64"
      },
      "execution_count": null,
      "outputs": [
        {
          "output_type": "stream",
          "name": "stdout",
          "text": [
            "0\n",
            "1\n",
            "2\n"
          ]
        }
      ]
    },
    {
      "cell_type": "code",
      "source": [
        "# 초기 반복조건 설정\n",
        "print(\"연산자를 입력하세요. 연산을 종료하려면 q를 입력한 후 Enter 키를 치세요.\")\n",
        "operator = input(\"연산자 : \")\n",
        "\n",
        "while operator != 'q':          # 반복조건을 판단하는 논리식\n",
        "    # 입력(Input)\n",
        "    firstNumber = int(input(\"첫번째 숫자 : \"))\n",
        "    secondNumber = int(input(\"두번째 숫자 : \"))\n",
        "\n",
        "    # 처리(Process)\n",
        "    addedResult = firstNumber + secondNumber\n",
        "\n",
        "    # 출력(Output)\n",
        "    print(str(firstNumber), operator, str(secondNumber), \"=\", str(addedResult))\n",
        "\n",
        "    # 반복조건 변경\n",
        "    print(\"연산자를 입력하세요. 연산을 종료하려면 q를 입력한 후 Enter 키를 치세요.\")\n",
        "    operator = input(\"연산자 : \")"
      ],
      "metadata": {
        "id": "7BFktbr-16VO"
      },
      "execution_count": null,
      "outputs": []
    },
    {
      "cell_type": "code",
      "source": [
        "import math\n",
        "\n",
        "# 초기 반복조건 설정\n",
        "오차 = 100\n",
        "허용오차 = 0.001\n",
        "\n",
        "x = 3\n",
        "oldExpX = 1\n",
        "i = 1\n",
        "\n",
        "while 오차 > 허용오차:          # 반복조건을 판단하는 논리식\n",
        "    expX = oldExpX + 1/math.factorial(i) * x**i \n",
        "\n",
        "    오차 = abs(expX - oldExpX)  # 반복조건 변경\n",
        "    \n",
        "    oldExpX = expX\n",
        "    i = i + 1\n",
        "\n",
        "print(\"무한급수를\",i,\"번 반복하여 찾아낸 exp(3) =\",expX)\n",
        "print(\"급수간 오차는\",오차,\"입니다.\")"
      ],
      "metadata": {
        "id": "QNKs64id1_1o"
      },
      "execution_count": null,
      "outputs": []
    },
    {
      "cell_type": "code",
      "source": [
        "import math\n",
        "\n",
        "# 초기 반복조건 설정\n",
        "오차 = 100\n",
        "허용오차 = 0.001\n",
        "\n",
        "x = 3\n",
        "oldExpX = 1\n",
        "i = 1\n",
        "\n",
        "#while 오차 > 허용오차:          # 반복조건을 판단하는 논리식\n",
        "while True:\n",
        "    if 오차 <= 허용오차: break\n",
        "\n",
        "    expX = oldExpX + 1/math.factorial(i) * x**i \n",
        "\n",
        "    오차 = abs(expX - oldExpX)  # 반복조건 변경\n",
        "    \n",
        "    oldExpX = expX\n",
        "    i = i + 1\n",
        "\n",
        "print(\"무한급수를\",i,\"번 반복하여 찾아낸 exp(3) =\",expX)\n",
        "print(\"급수간 오차는\",오차,\"입니다.\")"
      ],
      "metadata": {
        "id": "F1SBrJxf3OPF"
      },
      "execution_count": null,
      "outputs": []
    },
    {
      "cell_type": "markdown",
      "source": [
        "재귀적 함수 호출을 통한 반복"
      ],
      "metadata": {
        "id": "XdSVC_dc1dmv"
      }
    },
    {
      "cell_type": "code",
      "source": [
        "sum = 0\n",
        "\n",
        "for i in range(1,11):\n",
        "    sum = sum + i\n",
        "\n",
        "print('1~10까지 더한 합은',sum,'입니다.')"
      ],
      "metadata": {
        "colab": {
          "base_uri": "https://localhost:8080/"
        },
        "id": "4A2R7gD21mGa",
        "outputId": "df4f7a0b-4a56-420d-87ae-4544f4bdc650"
      },
      "execution_count": null,
      "outputs": [
        {
          "output_type": "stream",
          "name": "stdout",
          "text": [
            "1~10까지 더한 합은 55 입니다.\n"
          ]
        }
      ]
    },
    {
      "cell_type": "code",
      "source": [
        "sum = 0\n",
        "i = 1\n",
        "\n",
        "while i <= 10:\n",
        "    sum = sum + i\n",
        "    i = i + 1\n",
        "\n",
        "print('1~10까지 더한 합은',sum,'입니다.')"
      ],
      "metadata": {
        "colab": {
          "base_uri": "https://localhost:8080/"
        },
        "id": "qsNC4_iX85UW",
        "outputId": "b6f03b0e-7a76-4901-bc58-840daf88607b"
      },
      "execution_count": null,
      "outputs": [
        {
          "output_type": "stream",
          "name": "stdout",
          "text": [
            "1~10까지 더한 합은 55 입니다.\n"
          ]
        }
      ]
    },
    {
      "cell_type": "code",
      "source": [
        "def addTo10(i,sum):\n",
        "    if i <= 10:\n",
        "        sum = sum + i\n",
        "        print('i :',i,', sum :',sum)\n",
        "        i = i + 1\n",
        "        addTo10(i,sum)\n",
        "    else:\n",
        "        print('i :',i,', sum :',sum)\n",
        "        print('1~10까지 더한 합은',sum,'입니다.')\n",
        "        return\n",
        "\n",
        "sum = 0\n",
        "i = 1\n",
        "addTo10(i,sum)"
      ],
      "metadata": {
        "colab": {
          "base_uri": "https://localhost:8080/"
        },
        "id": "pcZqFyj17dLg",
        "outputId": "5067a032-6284-459a-ac0c-47d77ea00125"
      },
      "execution_count": null,
      "outputs": [
        {
          "output_type": "stream",
          "name": "stdout",
          "text": [
            "i : 1 , sum : 1\n",
            "i : 2 , sum : 3\n",
            "i : 3 , sum : 6\n",
            "i : 4 , sum : 10\n",
            "i : 5 , sum : 15\n",
            "i : 6 , sum : 21\n",
            "i : 7 , sum : 28\n",
            "i : 8 , sum : 36\n",
            "i : 9 , sum : 45\n",
            "i : 10 , sum : 55\n",
            "i : 11 , sum : 55\n",
            "1~10까지 더한 합은 55 입니다.\n"
          ]
        }
      ]
    },
    {
      "cell_type": "code",
      "source": [
        "def addTo10(i):\n",
        "    if i == 10: return i\n",
        "\n",
        "    return i + addTo10(i+1)\n",
        "\n",
        "sum = addTo10(1)\n",
        "print('1~10까지 더한 합은',sum,'입니다.')"
      ],
      "metadata": {
        "colab": {
          "base_uri": "https://localhost:8080/"
        },
        "id": "163tIOT_JvQ1",
        "outputId": "1d49ddb7-289d-4eae-eb4c-ae8c7f3f4e9e"
      },
      "execution_count": null,
      "outputs": [
        {
          "output_type": "stream",
          "name": "stdout",
          "text": [
            "1~10까지 더한 합은 55 입니다.\n"
          ]
        }
      ]
    },
    {
      "cell_type": "code",
      "source": [
        "def addTo10(i):\n",
        "    if i == 10: return i\n",
        "\n",
        "    return i + addTo10(i+1)\n",
        "\n",
        "sum = addTo10(1)\n",
        "print('1~10까지 더한 합은',sum,'입니다.')"
      ],
      "metadata": {
        "id": "UPnUtrT5gUTm"
      },
      "execution_count": null,
      "outputs": []
    },
    {
      "cell_type": "code",
      "source": [
        "def addTo10(i):\n",
        "    if i == 10: \n",
        "        return i\n",
        "\n",
        "    return i + addTo10(i+1)\n",
        "\n",
        "sum = addTo10(1)\n",
        "print('1~10까지 더한 합은',sum,'입니다.')"
      ],
      "metadata": {
        "id": "hoGefg3ogC4Y"
      },
      "execution_count": null,
      "outputs": []
    },
    {
      "cell_type": "code",
      "source": [
        "# 초기 반복조건 설정\n",
        "print(\"연산자를 입력하세요. 연산을 종료하려면 q를 입력한 후 Enter 키를 치세요.\")\n",
        "operator = input(\"연산자 : \")\n",
        "\n",
        "while operator != 'q':          # 반복조건을 판단하는 논리식\n",
        "    # 입력(Input)\n",
        "    firstNumber = int(input(\"첫번째 숫자 : \"))\n",
        "    secondNumber = int(input(\"두번째 숫자 : \"))\n",
        "\n",
        "    # 처리(Process)\n",
        "    if operator == '+':\n",
        "        result = firstNumber + secondNumber\n",
        "    elif operator == '-':\n",
        "        result = firstNumber - secondNumber\n",
        "    elif operator == '*':\n",
        "        result = firstNumber * secondNumber\n",
        "    elif operator == '/':\n",
        "        result = firstNumber / secondNumber\n",
        "    else:\n",
        "        print(\"사칙연산 이외의 기능은 아직 구현되지 않았습니다.\")\n",
        "\n",
        "    # 출력(Output)\n",
        "    print(str(firstNumber), operator, str(secondNumber), \"=\", str(result))\n",
        "\n",
        "    # 반복조건 변경\n",
        "    print(\"연산자를 입력하세요. 연산을 종료하려면 q를 입력한 후 Enter 키를 치세요.\")\n",
        "    operator = input(\"연산자 : \")"
      ],
      "metadata": {
        "id": "hjO30cit4Orq"
      },
      "execution_count": null,
      "outputs": []
    },
    {
      "cell_type": "code",
      "source": [
        "eval(\"10+20\")"
      ],
      "metadata": {
        "colab": {
          "base_uri": "https://localhost:8080/"
        },
        "id": "v-V4q--W51SB",
        "outputId": "e0c7b8d9-f7dd-4a64-8afc-0c7939875b18"
      },
      "execution_count": null,
      "outputs": [
        {
          "output_type": "execute_result",
          "data": {
            "text/plain": [
              "30"
            ]
          },
          "metadata": {},
          "execution_count": 28
        }
      ]
    },
    {
      "cell_type": "code",
      "source": [
        "validOperators = ['+','-','*','/']\n",
        "\n",
        "# 초기 반복조건 설정\n",
        "print(\"연산자를 입력하세요. 연산을 종료하려면 q를 입력한 후 Enter 키를 치세요.\")\n",
        "operator = input(\"연산자 : \")\n",
        "\n",
        "while operator != 'q':          # 반복조건을 판단하는 논리식\n",
        "    if operator in validOperators:\n",
        "        # 입력(Input)\n",
        "        firstNumber = int(input(\"첫번째 숫자 : \"))\n",
        "        secondNumber = int(input(\"두번째 숫자 : \"))\n",
        "\n",
        "        # 처리(Process)\n",
        "        result = eval(str(firstNumber) + operator + str(secondNumber))\n",
        "\n",
        "        # 출력(Output)\n",
        "        print(str(firstNumber), operator, str(secondNumber), \"=\", str(result))\n",
        "    else:\n",
        "        print(\"사칙연산 이외의 기능은 아직 구현되지 않았습니다.\")\n",
        "\n",
        "    # 반복조건 변경\n",
        "    print(\"연산자를 입력하세요. 연산을 종료하려면 q를 입력한 후 Enter 키를 치세요.\")\n",
        "    operator = input(\"연산자 : \")"
      ],
      "metadata": {
        "id": "CjQ70jaO6Pu9"
      },
      "execution_count": null,
      "outputs": []
    },
    {
      "cell_type": "code",
      "source": [
        "def calculate(operator):\n",
        "    # 입력(Input)\n",
        "    firstNumber = int(input(\"첫번째 숫자 : \"))\n",
        "    secondNumber = int(input(\"두번째 숫자 : \"))\n",
        "\n",
        "    # 처리(Process)\n",
        "    result = eval(str(firstNumber) + operator + str(secondNumber))\n",
        "\n",
        "    # 출력(Output)\n",
        "    print(str(firstNumber), operator, str(secondNumber), \"=\", str(result))\n",
        "\n",
        "validOperators = ['+','-','*','/']\n",
        "\n",
        "# 초기 반복조건 설정\n",
        "print(\"연산자를 입력하세요. 연산을 종료하려면 q를 입력한 후 Enter 키를 치세요.\")\n",
        "operator = input(\"연산자 : \")\n",
        "\n",
        "while operator != 'q':          # 반복조건을 판단하는 논리식\n",
        "    if operator in validOperators:\n",
        "        calculate(operator)\n",
        "    else:\n",
        "        print(\"사칙연산 이외의 기능은 아직 구현되지 않았습니다.\")\n",
        "\n",
        "    # 반복조건 변경\n",
        "    print(\"연산자를 입력하세요. 연산을 종료하려면 q를 입력한 후 Enter 키를 치세요.\")\n",
        "    operator = input(\"연산자 : \")"
      ],
      "metadata": {
        "id": "Aw86Tf1g6sgx"
      },
      "execution_count": null,
      "outputs": []
    },
    {
      "cell_type": "markdown",
      "source": [
        "\t모듈, 패키지 그리고 import"
      ],
      "metadata": {
        "id": "TnABr9cy8YYv"
      }
    },
    {
      "cell_type": "code",
      "source": [
        "import math\n",
        "math.exp(3)"
      ],
      "metadata": {
        "id": "yJhlqSLW8aT9"
      },
      "execution_count": null,
      "outputs": []
    },
    {
      "cell_type": "code",
      "source": [
        "pip install matplotlib"
      ],
      "metadata": {
        "id": "pCh9C0Oq9CUZ"
      },
      "execution_count": null,
      "outputs": []
    },
    {
      "cell_type": "code",
      "source": [
        "import matplotlib"
      ],
      "metadata": {
        "id": "2CYH2ba1-Rxm"
      },
      "execution_count": null,
      "outputs": []
    },
    {
      "cell_type": "code",
      "source": [
        "import matplotlib.pyplot\n",
        "x = [1,2,3]\n",
        "y = [1,3,1]\n",
        "matplotlib.pyplot.plot(x,y)\n",
        "matplotlib.pyplot.show()"
      ],
      "metadata": {
        "id": "68jbabOo--bl"
      },
      "execution_count": null,
      "outputs": []
    },
    {
      "cell_type": "code",
      "source": [
        "import matplotlib.pyplot as plt\n",
        "x = [1,2,3]\n",
        "y = [1,3,1]\n",
        "plt.plot(x,y)\n",
        "plt.show()"
      ],
      "metadata": {
        "id": "hU1UEw9MARbA"
      },
      "execution_count": null,
      "outputs": []
    },
    {
      "cell_type": "code",
      "source": [
        "import matplotlib\n",
        "type(matplotlib)\n",
        "import matplotlib.pyplot as plt\n",
        "type(matplotlib.pyplot)\n",
        "type(plt)"
      ],
      "metadata": {
        "id": "gccJbRHfBjTY"
      },
      "execution_count": null,
      "outputs": []
    },
    {
      "cell_type": "code",
      "source": [
        "import math\n",
        "exp(3)\n",
        "math.exp(3)\n",
        "from math import exp\n",
        "exp(3)\n",
        "from math import sin, cos\n",
        "sin(0)\n",
        "cos(0)\n",
        "from math import *\n",
        "tan(0)"
      ],
      "metadata": {
        "id": "6TNHxUX5CtXr"
      },
      "execution_count": null,
      "outputs": []
    },
    {
      "cell_type": "code",
      "source": [
        "python.exe\n",
        "import calculator"
      ],
      "metadata": {
        "id": "Mb7aBlhzFL2l"
      },
      "execution_count": null,
      "outputs": []
    },
    {
      "cell_type": "code",
      "source": [
        "def calculate(operator):\n",
        "    # 입력(Input)\n",
        "    firstNumber = int(input(\"첫번째 숫자 : \"))\n",
        "    secondNumber = int(input(\"두번째 숫자 : \"))\n",
        "\n",
        "    # 처리(Process)\n",
        "    result = eval(str(firstNumber) + operator + str(secondNumber))\n",
        "\n",
        "    # 출력(Output)\n",
        "    print(str(firstNumber), operator, str(secondNumber), \"=\", str(result))\n",
        "\n",
        "def main():\n",
        "    validOperators = ['+','-','*','/']\n",
        "\n",
        "    # 초기 반복조건 설정\n",
        "    print(\"연산자를 입력하세요. 연산을 종료하려면 q를 입력한 후 Enter 키를 치세요.\")\n",
        "    operator = input(\"연산자 : \")\n",
        "\n",
        "    while operator != 'q':          # 반복조건을 판단하는 논리식\n",
        "        if operator in validOperators:\n",
        "            calculate(operator)\n",
        "        else:\n",
        "            print(\"사칙연산 이외의 기능은 아직 구현되지 않았습니다.\")\n",
        "\n",
        "        # 반복조건 변경\n",
        "        print(\"연산자를 입력하세요. 연산을 종료하려면 q를 입력한 후 Enter 키를 치세요.\")\n",
        "        operator = input(\"연산자 : \")"
      ],
      "metadata": {
        "id": "hnXU9fxgFi3J"
      },
      "execution_count": null,
      "outputs": []
    },
    {
      "cell_type": "code",
      "source": [
        "q\n",
        "import calculator\n",
        "calculator.calculate(\"*\")"
      ],
      "metadata": {
        "id": "PlCZX6O4Fz8K"
      },
      "execution_count": null,
      "outputs": []
    },
    {
      "cell_type": "code",
      "source": [
        "exit()"
      ],
      "metadata": {
        "id": "oOvSYb62GjrW"
      },
      "execution_count": null,
      "outputs": []
    },
    {
      "cell_type": "markdown",
      "source": [
        "\t객체"
      ],
      "metadata": {
        "id": "snru1cv3HFVC"
      }
    },
    {
      "cell_type": "code",
      "source": [
        "python.exe"
      ],
      "metadata": {
        "id": "tbGtCmxiBLpQ"
      },
      "execution_count": null,
      "outputs": []
    },
    {
      "cell_type": "code",
      "source": [
        "import calculator\n",
        "type(calculator)\n",
        "type(calculator.calculate)"
      ],
      "metadata": {
        "id": "B33CkOACA16p"
      },
      "execution_count": null,
      "outputs": []
    },
    {
      "cell_type": "code",
      "source": [
        "firstNumber = 10\n",
        "dir(int)\n",
        "dir(firstNumber)"
      ],
      "metadata": {
        "id": "ac2U5HmoBjOO"
      },
      "execution_count": null,
      "outputs": []
    },
    {
      "cell_type": "code",
      "source": [
        "firstNumber = 10\n",
        "type(firstNumber)\n",
        "type(firstNumber.__dir__)\n",
        "type(firstNumber.bit_count)\n",
        "type(firstNumber.denominator)"
      ],
      "metadata": {
        "id": "fxB9AZCMJQJA"
      },
      "execution_count": null,
      "outputs": []
    },
    {
      "cell_type": "code",
      "source": [
        "stringVariable = \"My name is Yong Jae Ahn\"\n",
        "type(stringVariable)\n",
        "stringVariable.split()\n",
        "stringVariable.isupper()\n",
        "stringVariable.upper()\n",
        "stringVariable.upper().isupper()"
      ],
      "metadata": {
        "id": "-q3J59WDKCN2"
      },
      "execution_count": null,
      "outputs": []
    },
    {
      "cell_type": "code",
      "source": [
        "complexVariable = 3 + 4j\n",
        "type(complexVariable)\n",
        "complexVariable.real\n",
        "complexVariable.imag\n",
        "complexVariable.conjugate()"
      ],
      "metadata": {
        "id": "pXfcra8qLMEf"
      },
      "execution_count": null,
      "outputs": []
    },
    {
      "cell_type": "code",
      "source": [
        "import math\n",
        "(complexVariable.real**2 + complexVariable.imag**2)**(1/2)\n",
        "abs(complexVariable)\n",
        "math.sqrt(complexVariable.real**2 + complexVariable.imag**2)"
      ],
      "metadata": {
        "id": "PxWLzeyxMFk8"
      },
      "execution_count": null,
      "outputs": []
    },
    {
      "cell_type": "code",
      "source": [
        "import math\n",
        "radius = 5\n",
        "area = math.pi * radius**2\n",
        "area\n",
        "math.pi = 5\n",
        "area = math.pi * radius**2\n",
        "area\n",
        "math.pi = None\n",
        "area = math.pi * radius**2"
      ],
      "metadata": {
        "id": "VHTI4gOgQBHk"
      },
      "execution_count": null,
      "outputs": []
    },
    {
      "cell_type": "code",
      "source": [
        "def calculate(operator):\n",
        "    # 입력(Input)\n",
        "    firstNumber = int(input(\"첫번째 숫자 : \"))\n",
        "    secondNumber = int(input(\"두번째 숫자 : \"))\n",
        "\n",
        "    # 처리(Process)\n",
        "    result = eval(str(firstNumber) + operator + str(secondNumber))\n",
        "\n",
        "    # 출력(Output)\n",
        "    print(str(firstNumber), operator, str(secondNumber), \"=\", str(result))\n",
        "\n",
        "def main():\n",
        "    validOperators = ['+','-','*','/']\n",
        "\n",
        "    # 초기 반복조건 설정\n",
        "    print(\"연산자를 입력하세요. 연산을 종료하려면 q를 입력한 후 Enter 키를 치세요.\")\n",
        "    operator = input(\"연산자 : \")\n",
        "\n",
        "    while operator != 'q':          # 반복조건을 판단하는 논리식\n",
        "        if operator in validOperators:\n",
        "            calculate(operator)\n",
        "        else:\n",
        "            print(\"사칙연산 이외의 기능은 아직 구현되지 않았습니다.\")\n",
        "\n",
        "        # 반복조건 변경\n",
        "        print(\"연산자를 입력하세요. 연산을 종료하려면 q를 입력한 후 Enter 키를 치세요.\")\n",
        "        operator = input(\"연산자 : \")\n",
        "\n",
        "main()"
      ],
      "metadata": {
        "id": "XMLn1vcXRd9Q"
      },
      "execution_count": null,
      "outputs": []
    },
    {
      "cell_type": "code",
      "source": [
        "python.exe\n",
        "import calculator"
      ],
      "metadata": {
        "id": "cLH2Q-riRzyJ"
      },
      "execution_count": null,
      "outputs": []
    },
    {
      "cell_type": "code",
      "source": [
        "import calculator\n",
        "print(calculator.__name__)\n",
        "print(__name__)"
      ],
      "metadata": {
        "id": "2gmIqACUS5W1"
      },
      "execution_count": null,
      "outputs": []
    },
    {
      "cell_type": "code",
      "source": [
        "def calculate(operator):\n",
        "    # 입력(Input)\n",
        "    firstNumber = int(input(\"첫번째 숫자 : \"))\n",
        "    secondNumber = int(input(\"두번째 숫자 : \"))\n",
        "\n",
        "    # 처리(Process)\n",
        "    result = eval(str(firstNumber) + operator + str(secondNumber))\n",
        "\n",
        "    # 출력(Output)\n",
        "    print(str(firstNumber), operator, str(secondNumber), \"=\", str(result))\n",
        "\n",
        "def main():\n",
        "    validOperators = ['+','-','*','/']\n",
        "\n",
        "    # 초기 반복조건 설정\n",
        "    print(\"연산자를 입력하세요. 연산을 종료하려면 q를 입력한 후 Enter 키를 치세요.\")\n",
        "    operator = input(\"연산자 : \")\n",
        "\n",
        "    while operator != 'q':          # 반복조건을 판단하는 논리식\n",
        "        if operator in validOperators:\n",
        "            calculate(operator)\n",
        "        else:\n",
        "            print(\"사칙연산 이외의 기능은 아직 구현되지 않았습니다.\")\n",
        "\n",
        "        # 반복조건 변경\n",
        "        print(\"연산자를 입력하세요. 연산을 종료하려면 q를 입력한 후 Enter 키를 치세요.\")\n",
        "        operator = input(\"연산자 : \")\n",
        "\n",
        "if __name__ == \"__main__\":\n",
        "    main()"
      ],
      "metadata": {
        "id": "lFSJFEz0TeBC"
      },
      "execution_count": null,
      "outputs": []
    },
    {
      "cell_type": "code",
      "source": [
        "python.exe\n",
        "import calculator\n",
        "exit()"
      ],
      "metadata": {
        "id": "gza8xES8TqYm"
      },
      "execution_count": null,
      "outputs": []
    },
    {
      "cell_type": "code",
      "source": [
        "help(help)"
      ],
      "metadata": {
        "id": "6D45Q96uC4OB"
      },
      "execution_count": null,
      "outputs": []
    },
    {
      "cell_type": "code",
      "source": [
        "help(math)\n",
        "import math\n",
        "help(math)"
      ],
      "metadata": {
        "id": "fOCGKA3nDcwf"
      },
      "execution_count": null,
      "outputs": []
    },
    {
      "cell_type": "code",
      "source": [
        "help(math.sin)"
      ],
      "metadata": {
        "id": "L3Vp5NETEYhX"
      },
      "execution_count": null,
      "outputs": []
    },
    {
      "cell_type": "code",
      "source": [
        "import matplotlib\n",
        "help(matplotlib)"
      ],
      "metadata": {
        "id": "rS2VtQHxEjQH"
      },
      "execution_count": null,
      "outputs": []
    }
  ]
}