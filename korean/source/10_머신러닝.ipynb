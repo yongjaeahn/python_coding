{
  "nbformat": 4,
  "nbformat_minor": 0,
  "metadata": {
    "colab": {
      "provenance": [],
      "authorship_tag": "ABX9TyMfR7OB73mQsS7vDbGkXy9F",
      "include_colab_link": true
    },
    "kernelspec": {
      "name": "python3",
      "display_name": "Python 3"
    },
    "language_info": {
      "name": "python"
    }
  },
  "cells": [
    {
      "cell_type": "markdown",
      "metadata": {
        "id": "view-in-github",
        "colab_type": "text"
      },
      "source": [
        "<a href=\"https://colab.research.google.com/github/yongjaeahn/python_coding/blob/main/korean/source/10_%EB%A8%B8%EC%8B%A0%EB%9F%AC%EB%8B%9D.ipynb\" target=\"_parent\"><img src=\"https://colab.research.google.com/assets/colab-badge.svg\" alt=\"Open In Colab\"/></a>"
      ]
    },
    {
      "cell_type": "markdown",
      "source": [
        "\t선형 회귀 알고리즘"
      ],
      "metadata": {
        "id": "gl0hcNJAN1kG"
      }
    },
    {
      "cell_type": "markdown",
      "source": [
        "데이터 수집"
      ],
      "metadata": {
        "id": "zcCr5L2s5GXQ"
      }
    },
    {
      "cell_type": "code",
      "execution_count": 1,
      "metadata": {
        "colab": {
          "base_uri": "https://localhost:8080/"
        },
        "id": "jjdBbkhLy1Ey",
        "outputId": "9f80426f-7ddd-485b-be0d-947b1604944e"
      },
      "outputs": [
        {
          "output_type": "stream",
          "name": "stdout",
          "text": [
            "<class 'sklearn.utils._bunch.Bunch'>\n",
            "['DESCR', 'data', 'data_filename', 'data_module', 'feature_names', 'frame', 'target', 'target_filename']\n"
          ]
        }
      ],
      "source": [
        "from sklearn.datasets import load_diabetes\n",
        "\n",
        "diabetes = load_diabetes()\n",
        "\n",
        "print(type(diabetes))\n",
        "print(dir(diabetes))"
      ]
    },
    {
      "cell_type": "code",
      "source": [
        "print(diabetes.DESCR)"
      ],
      "metadata": {
        "colab": {
          "base_uri": "https://localhost:8080/"
        },
        "id": "s_s10_Bz5kEX",
        "outputId": "d3113319-effb-4ec1-cc22-6e1b11ea9677"
      },
      "execution_count": null,
      "outputs": [
        {
          "output_type": "stream",
          "name": "stdout",
          "text": [
            ".. _diabetes_dataset:\n",
            "\n",
            "Diabetes dataset\n",
            "----------------\n",
            "\n",
            "Ten baseline variables, age, sex, body mass index, average blood\n",
            "pressure, and six blood serum measurements were obtained for each of n =\n",
            "442 diabetes patients, as well as the response of interest, a\n",
            "quantitative measure of disease progression one year after baseline.\n",
            "\n",
            "**Data Set Characteristics:**\n",
            "\n",
            "  :Number of Instances: 442\n",
            "\n",
            "  :Number of Attributes: First 10 columns are numeric predictive values\n",
            "\n",
            "  :Target: Column 11 is a quantitative measure of disease progression one year after baseline\n",
            "\n",
            "  :Attribute Information:\n",
            "      - age     age in years\n",
            "      - sex\n",
            "      - bmi     body mass index\n",
            "      - bp      average blood pressure\n",
            "      - s1      tc, total serum cholesterol\n",
            "      - s2      ldl, low-density lipoproteins\n",
            "      - s3      hdl, high-density lipoproteins\n",
            "      - s4      tch, total cholesterol / HDL\n",
            "      - s5      ltg, possibly log of serum triglycerides level\n",
            "      - s6      glu, blood sugar level\n",
            "\n",
            "Note: Each of these 10 feature variables have been mean centered and scaled by the standard deviation times the square root of `n_samples` (i.e. the sum of squares of each column totals 1).\n",
            "\n",
            "Source URL:\n",
            "https://www4.stat.ncsu.edu/~boos/var.select/diabetes.html\n",
            "\n",
            "For more information see:\n",
            "Bradley Efron, Trevor Hastie, Iain Johnstone and Robert Tibshirani (2004) \"Least Angle Regression,\" Annals of Statistics (with discussion), 407-499.\n",
            "(https://web.stanford.edu/~hastie/Papers/LARS/LeastAngle_2002.pdf)\n",
            "\n"
          ]
        }
      ]
    },
    {
      "cell_type": "code",
      "source": [
        "help(load_diabetes)"
      ],
      "metadata": {
        "colab": {
          "base_uri": "https://localhost:8080/"
        },
        "id": "_-I3EhgROFW-",
        "outputId": "c4c06638-d5ce-4282-8e65-62dbd025f60f"
      },
      "execution_count": null,
      "outputs": [
        {
          "output_type": "stream",
          "name": "stdout",
          "text": [
            "Help on function load_diabetes in module sklearn.datasets._base:\n",
            "\n",
            "load_diabetes(*, return_X_y=False, as_frame=False, scaled=True)\n",
            "    Load and return the diabetes dataset (regression).\n",
            "    \n",
            "    ==============   ==================\n",
            "    Samples total    442\n",
            "    Dimensionality   10\n",
            "    Features         real, -.2 < x < .2\n",
            "    Targets          integer 25 - 346\n",
            "    ==============   ==================\n",
            "    \n",
            "    .. note::\n",
            "       The meaning of each feature (i.e. `feature_names`) might be unclear\n",
            "       (especially for `ltg`) as the documentation of the original dataset is\n",
            "       not explicit. We provide information that seems correct in regard with\n",
            "       the scientific literature in this field of research.\n",
            "    \n",
            "    Read more in the :ref:`User Guide <diabetes_dataset>`.\n",
            "    \n",
            "    Parameters\n",
            "    ----------\n",
            "    return_X_y : bool, default=False\n",
            "        If True, returns ``(data, target)`` instead of a Bunch object.\n",
            "        See below for more information about the `data` and `target` object.\n",
            "    \n",
            "        .. versionadded:: 0.18\n",
            "    \n",
            "    as_frame : bool, default=False\n",
            "        If True, the data is a pandas DataFrame including columns with\n",
            "        appropriate dtypes (numeric). The target is\n",
            "        a pandas DataFrame or Series depending on the number of target columns.\n",
            "        If `return_X_y` is True, then (`data`, `target`) will be pandas\n",
            "        DataFrames or Series as described below.\n",
            "    \n",
            "        .. versionadded:: 0.23\n",
            "    \n",
            "    scaled : bool, default=True\n",
            "        If True, the feature variables are mean centered and scaled by the\n",
            "        standard deviation times the square root of `n_samples`.\n",
            "        If False, raw data is returned for the feature variables.\n",
            "    \n",
            "        .. versionadded:: 1.1\n",
            "    \n",
            "    Returns\n",
            "    -------\n",
            "    data : :class:`~sklearn.utils.Bunch`\n",
            "        Dictionary-like object, with the following attributes.\n",
            "    \n",
            "        data : {ndarray, dataframe} of shape (442, 10)\n",
            "            The data matrix. If `as_frame=True`, `data` will be a pandas\n",
            "            DataFrame.\n",
            "        target: {ndarray, Series} of shape (442,)\n",
            "            The regression target. If `as_frame=True`, `target` will be\n",
            "            a pandas Series.\n",
            "        feature_names: list\n",
            "            The names of the dataset columns.\n",
            "        frame: DataFrame of shape (442, 11)\n",
            "            Only present when `as_frame=True`. DataFrame with `data` and\n",
            "            `target`.\n",
            "    \n",
            "            .. versionadded:: 0.23\n",
            "        DESCR: str\n",
            "            The full description of the dataset.\n",
            "        data_filename: str\n",
            "            The path to the location of the data.\n",
            "        target_filename: str\n",
            "            The path to the location of the target.\n",
            "    \n",
            "    (data, target) : tuple if ``return_X_y`` is True\n",
            "        Returns a tuple of two ndarray of shape (n_samples, n_features)\n",
            "        A 2D array with each row representing one sample and each column\n",
            "        representing the features and/or target of a given sample.\n",
            "    \n",
            "        .. versionadded:: 0.18\n",
            "\n"
          ]
        }
      ]
    },
    {
      "cell_type": "markdown",
      "source": [
        "데이터 전처리"
      ],
      "metadata": {
        "id": "nd8Y6H4yqhFJ"
      }
    },
    {
      "cell_type": "code",
      "source": [
        "print(diabetes.feature_names)"
      ],
      "metadata": {
        "colab": {
          "base_uri": "https://localhost:8080/"
        },
        "id": "UX7ZB_3Nrwcn",
        "outputId": "34af7911-a29e-417d-8cdf-c1f1d3505585"
      },
      "execution_count": null,
      "outputs": [
        {
          "output_type": "stream",
          "name": "stdout",
          "text": [
            "['age', 'sex', 'bmi', 'bp', 's1', 's2', 's3', 's4', 's5', 's6']\n"
          ]
        }
      ]
    },
    {
      "cell_type": "code",
      "source": [
        "print(diabetes.data[0:3])\n",
        "print(diabetes.data[-1:-3:-1])"
      ],
      "metadata": {
        "colab": {
          "base_uri": "https://localhost:8080/"
        },
        "id": "aUTTi04Qos8o",
        "outputId": "4c35511b-7748-4222-8b97-c59a565cb8ef"
      },
      "execution_count": null,
      "outputs": [
        {
          "output_type": "stream",
          "name": "stdout",
          "text": [
            "[[ 0.03807591  0.05068012  0.06169621  0.02187239 -0.0442235  -0.03482076\n",
            "  -0.04340085 -0.00259226  0.01990749 -0.01764613]\n",
            " [-0.00188202 -0.04464164 -0.05147406 -0.02632753 -0.00844872 -0.01916334\n",
            "   0.07441156 -0.03949338 -0.06833155 -0.09220405]\n",
            " [ 0.08529891  0.05068012  0.04445121 -0.00567042 -0.04559945 -0.03419447\n",
            "  -0.03235593 -0.00259226  0.00286131 -0.02593034]]\n",
            "[[-0.04547248 -0.04464164 -0.0730303  -0.08141314  0.08374012  0.02780893\n",
            "   0.17381578 -0.03949338 -0.00422151  0.00306441]\n",
            " [-0.04547248 -0.04464164  0.03906215  0.00121528  0.01631843  0.01528299\n",
            "  -0.02867429  0.02655962  0.04452873 -0.02593034]]\n"
          ]
        }
      ]
    },
    {
      "cell_type": "code",
      "source": [
        "print(diabetes.target[0:3])\n",
        "print(diabetes.target[-1:-4:-1])"
      ],
      "metadata": {
        "colab": {
          "base_uri": "https://localhost:8080/"
        },
        "id": "cK3P_FdKq2iB",
        "outputId": "e753e158-8ed0-4b6e-c6b9-98562dfa6d4c"
      },
      "execution_count": null,
      "outputs": [
        {
          "output_type": "stream",
          "name": "stdout",
          "text": [
            "[151.  75. 141.]\n",
            "[ 57. 220. 132.]\n"
          ]
        }
      ]
    },
    {
      "cell_type": "code",
      "source": [
        "import numpy as np\n",
        "\n",
        "def normalize(values):\n",
        "  mean = np.mean(values)    # 평균\n",
        "  std = np.std(values)      # 표준편차\n",
        "  # 정규화 = (값 - 평균) / 표준편차\n",
        "  normalized = (values - mean) / std\n",
        "\n",
        "  return normalized\n",
        "\n",
        "ages = np.array([50,45,20,60,63,57,40,47,30,58])\n",
        "normalized_ages = normalize(ages)\n",
        "print('정규화된 나이 :\\n',normalized_ages)\n",
        "\n",
        "bmis = np.array([30,28,22,28,27,32,27,22,25,29])\n",
        "normalized_bmis = normalize(bmis)\n",
        "print('정규화된 체질량 지수 :\\n',normalized_bmis)"
      ],
      "metadata": {
        "id": "WRaGjQjREJPH",
        "outputId": "43e7f698-fb6f-4f36-f0ee-57515ae104bc",
        "colab": {
          "base_uri": "https://localhost:8080/"
        }
      },
      "execution_count": null,
      "outputs": [
        {
          "output_type": "stream",
          "name": "stdout",
          "text": [
            "정규화된 나이 :\n",
            " [ 0.22834992 -0.15223328 -2.05514926  0.98951631  1.21786623  0.76116639\n",
            " -0.53281647  0.         -1.29398287  0.83728303]\n",
            "정규화된 체질량 지수 :\n",
            " [ 0.97849211  0.32616404 -1.63082018  0.32616404  0.          1.63082018\n",
            "  0.         -1.63082018 -0.65232807  0.65232807]\n"
          ]
        }
      ]
    },
    {
      "cell_type": "code",
      "source": [
        "sex = np.array(['M','F','F','M','M','F','F','F','M','F'])\n",
        "sex_numeric = np.where(sex == 'M',1,0)\n",
        "print('수치화된 성별 :',sex_numeric)\n",
        "normalized_sex = normalize(sex_numeric)\n",
        "print('정규화된 성별 :\\n',normalized_sex)"
      ],
      "metadata": {
        "id": "VaZLmWuVIzhE",
        "outputId": "5e835419-5a95-435d-8f0c-ea868f51d9f5",
        "colab": {
          "base_uri": "https://localhost:8080/"
        }
      },
      "execution_count": null,
      "outputs": [
        {
          "output_type": "stream",
          "name": "stdout",
          "text": [
            "수치화된 성별 : [1 0 0 1 1 0 0 0 1 0]\n",
            "정규화된 성별 :\n",
            " [ 1.22474487 -0.81649658 -0.81649658  1.22474487  1.22474487 -0.81649658\n",
            " -0.81649658 -0.81649658  1.22474487 -0.81649658]\n"
          ]
        }
      ]
    },
    {
      "cell_type": "code",
      "source": [
        "import numpy as np\n",
        "from sklearn.preprocessing import StandardScaler\n",
        "\n",
        "features = np.array(list(zip(ages,sex_numeric,bmis)))\n",
        "print('특징 :\\n',features)\n",
        "\n",
        "scaler = StandardScaler()\n",
        "normalized_features = scaler.fit_transform(features)\n",
        "\n",
        "print('정규화된 특징 :\\n',normalized_features)"
      ],
      "metadata": {
        "id": "h7R0WiFkgxIA",
        "outputId": "cacb765f-8b77-4d7d-ec68-43c81acb1af5",
        "colab": {
          "base_uri": "https://localhost:8080/"
        }
      },
      "execution_count": null,
      "outputs": [
        {
          "output_type": "stream",
          "name": "stdout",
          "text": [
            "특징 :\n",
            " [[50  1 30]\n",
            " [45  0 28]\n",
            " [20  0 22]\n",
            " [60  1 28]\n",
            " [63  1 27]\n",
            " [57  0 32]\n",
            " [40  0 27]\n",
            " [47  0 22]\n",
            " [30  1 25]\n",
            " [58  0 29]]\n",
            "정규화된 특징 :\n",
            " [[ 0.22834992  1.22474487  0.97849211]\n",
            " [-0.15223328 -0.81649658  0.32616404]\n",
            " [-2.05514926 -0.81649658 -1.63082018]\n",
            " [ 0.98951631  1.22474487  0.32616404]\n",
            " [ 1.21786623  1.22474487  0.        ]\n",
            " [ 0.76116639 -0.81649658  1.63082018]\n",
            " [-0.53281647 -0.81649658  0.        ]\n",
            " [ 0.         -0.81649658 -1.63082018]\n",
            " [-1.29398287  1.22474487 -0.65232807]\n",
            " [ 0.83728303 -0.81649658  0.65232807]]\n"
          ]
        }
      ]
    },
    {
      "cell_type": "code",
      "source": [
        "import numpy as np\n",
        "from sklearn.preprocessing import MinMaxScaler\n",
        "\n",
        "features = np.array(list(zip(ages,sex_numeric,bmis)))\n",
        "#print('특징 :\\n',features)\n",
        "\n",
        "scaler = MinMaxScaler()\n",
        "normalized_features = scaler.fit_transform(features)\n",
        "\n",
        "print('정규화된 특징 :\\n',normalized_features)"
      ],
      "metadata": {
        "colab": {
          "base_uri": "https://localhost:8080/"
        },
        "id": "BZN42m0in2ng",
        "outputId": "1c8566c6-359a-48b0-fdbb-490b8c231d0e"
      },
      "execution_count": null,
      "outputs": [
        {
          "output_type": "stream",
          "name": "stdout",
          "text": [
            "정규화된 특징 :\n",
            " [[0.69767442 1.         0.8       ]\n",
            " [0.58139535 0.         0.6       ]\n",
            " [0.         0.         0.        ]\n",
            " [0.93023256 1.         0.6       ]\n",
            " [1.         1.         0.5       ]\n",
            " [0.86046512 0.         1.        ]\n",
            " [0.46511628 0.         0.5       ]\n",
            " [0.62790698 0.         0.        ]\n",
            " [0.23255814 1.         0.3       ]\n",
            " [0.88372093 0.         0.7       ]]\n"
          ]
        }
      ]
    },
    {
      "cell_type": "code",
      "source": [
        "import numpy as np\n",
        "from sklearn.preprocessing import MinMaxScaler\n",
        "\n",
        "features = np.array(list(zip(ages,sex_numeric,bmis)))\n",
        "#print('특징 :\\n',features)\n",
        "\n",
        "scaler = MinMaxScaler(feature_range=(-1,1))\n",
        "normalized_features = scaler.fit_transform(features)\n",
        "\n",
        "print('정규화된 특징 :\\n',normalized_features)"
      ],
      "metadata": {
        "colab": {
          "base_uri": "https://localhost:8080/"
        },
        "id": "AkezlwSQp6Dt",
        "outputId": "429b21e3-4823-4f6a-9be6-f9433994bd31"
      },
      "execution_count": null,
      "outputs": [
        {
          "output_type": "stream",
          "name": "stdout",
          "text": [
            "정규화된 특징 :\n",
            " [[ 0.39534884  1.          0.6       ]\n",
            " [ 0.1627907  -1.          0.2       ]\n",
            " [-1.         -1.         -1.        ]\n",
            " [ 0.86046512  1.          0.2       ]\n",
            " [ 1.          1.          0.        ]\n",
            " [ 0.72093023 -1.          1.        ]\n",
            " [-0.06976744 -1.          0.        ]\n",
            " [ 0.25581395 -1.         -1.        ]\n",
            " [-0.53488372  1.         -0.4       ]\n",
            " [ 0.76744186 -1.          0.4       ]]\n"
          ]
        }
      ]
    },
    {
      "cell_type": "markdown",
      "source": [
        "모델 훈련"
      ],
      "metadata": {
        "id": "V3iEKtORz83b"
      }
    },
    {
      "cell_type": "code",
      "source": [
        "from sklearn.linear_model import LinearRegression\n",
        "\n",
        "model = LinearRegression()\n",
        "model.fit(diabetes.data,diabetes.target)\n",
        "print('훈련된 회귀방정식의 계수 :\\n',model.coef_)\n",
        "print('훈련된 회귀방정식의 절편 :',model.intercept_)"
      ],
      "metadata": {
        "colab": {
          "base_uri": "https://localhost:8080/"
        },
        "id": "RO7k6q0Fz_Yo",
        "outputId": "416a503d-c76d-4efc-c03a-d5a6bb043b9c"
      },
      "execution_count": 2,
      "outputs": [
        {
          "output_type": "stream",
          "name": "stdout",
          "text": [
            "훈련된 회귀방정식의 계수 :\n",
            " [ -10.0098663  -239.81564367  519.84592005  324.3846455  -792.17563855\n",
            "  476.73902101  101.04326794  177.06323767  751.27369956   67.62669218]\n",
            "훈련된 회귀방정식의 절편 : 152.13348416289597\n"
          ]
        }
      ]
    },
    {
      "cell_type": "markdown",
      "source": [
        "모델 테스트"
      ],
      "metadata": {
        "id": "4PFLQ-J269q7"
      }
    },
    {
      "cell_type": "code",
      "source": [
        "print('1년 후 당뇨병 진행의 예측을 위한 독립변수 :\\n',diabetes.data[0:3])\n",
        "y_pred = model.predict(diabetes.data[0:3])\n",
        "\n",
        "y_true = diabetes.target[0:3]\n",
        "print('회귀분석 모델에 사용된 1년 후 당뇨병 진행의 정량적 측정치:\\n',y_true)\n",
        "print('회귀분석 모델로 예측한 1년 후 당뇨병 진행의 정량적 측정치:\\n',y_pred)"
      ],
      "metadata": {
        "colab": {
          "base_uri": "https://localhost:8080/"
        },
        "id": "kOecf0X168t0",
        "outputId": "3eb04f0c-beca-4a44-8306-7037738817da"
      },
      "execution_count": 3,
      "outputs": [
        {
          "output_type": "stream",
          "name": "stdout",
          "text": [
            "1년 후 당뇨병 진행의 예측을 위한 독립변수 :\n",
            " [[ 0.03807591  0.05068012  0.06169621  0.02187239 -0.0442235  -0.03482076\n",
            "  -0.04340085 -0.00259226  0.01990749 -0.01764613]\n",
            " [-0.00188202 -0.04464164 -0.05147406 -0.02632753 -0.00844872 -0.01916334\n",
            "   0.07441156 -0.03949338 -0.06833155 -0.09220405]\n",
            " [ 0.08529891  0.05068012  0.04445121 -0.00567042 -0.04559945 -0.03419447\n",
            "  -0.03235593 -0.00259226  0.00286131 -0.02593034]]\n",
            "회귀분석 모델에 사용된 1년 후 당뇨병 진행의 정량적 측정치:\n",
            " [151.  75. 141.]\n",
            "회귀분석 모델로 예측한 1년 후 당뇨병 진행의 정량적 측정치:\n",
            " [206.11667725  68.07103297 176.88279035]\n"
          ]
        }
      ]
    },
    {
      "cell_type": "code",
      "source": [
        "from sklearn.datasets import load_diabetes\n",
        "from sklearn.linear_model import LinearRegression\n",
        "\n",
        "# 데이터 수집 및 전처리\n",
        "diabetes = load_diabetes()\n",
        "\n",
        "# 모델 훈련\n",
        "model = LinearRegression()\n",
        "model.fit(diabetes.data,diabetes.target)\n",
        "\n",
        "# 모델 테스트\n",
        "y_pred = model.predict(diabetes.data[0:3])\n",
        "print('회귀분석 모델로 예측한 1년 후 당뇨병 진행의 정량적 측정치:\\n', y_pred)"
      ],
      "metadata": {
        "colab": {
          "base_uri": "https://localhost:8080/"
        },
        "id": "HRRYAfQCBSnR",
        "outputId": "712d4ed2-b240-4db0-db10-ed311b9a9d11"
      },
      "execution_count": 4,
      "outputs": [
        {
          "output_type": "stream",
          "name": "stdout",
          "text": [
            "회귀분석 모델로 예측한 1년 후 당뇨병 진행의 정량적 측정치:\n",
            " [206.11667725  68.07103297 176.88279035]\n"
          ]
        }
      ]
    },
    {
      "cell_type": "code",
      "source": [
        "from sklearn.datasets import load_diabetes\n",
        "from sklearn.linear_model import LinearRegression\n",
        "\n",
        "# 데이터 수집 및 전처리\n",
        "diabetes = load_diabetes(as_frame=True)\n",
        "\n",
        "# 모델 훈련\n",
        "model = LinearRegression()\n",
        "model.fit(diabetes.data,diabetes.target)\n",
        "\n",
        "# 모델 테스트\n",
        "y_pred = model.predict(diabetes.data[0:3])\n",
        "print('회귀분석 모델로 예측한 1년 후 당뇨병 진행의 정량적 측정치:\\n', y_pred)"
      ],
      "metadata": {
        "colab": {
          "base_uri": "https://localhost:8080/"
        },
        "id": "K_h1FsQ8C4Lz",
        "outputId": "8ae6b8fb-611f-4c52-c41d-1f7007a1d7f0"
      },
      "execution_count": 5,
      "outputs": [
        {
          "output_type": "stream",
          "name": "stdout",
          "text": [
            "회귀분석 모델로 예측한 1년 후 당뇨병 진행의 정량적 측정치:\n",
            " [206.11667725  68.07103297 176.88279035]\n"
          ]
        }
      ]
    },
    {
      "cell_type": "code",
      "source": [
        "print(diabetes.data)"
      ],
      "metadata": {
        "id": "X4F80VQY9O8t",
        "outputId": "8797e1c1-0f32-40f6-fd49-58e5e8a8fca5",
        "colab": {
          "base_uri": "https://localhost:8080/"
        }
      },
      "execution_count": null,
      "outputs": [
        {
          "output_type": "stream",
          "name": "stdout",
          "text": [
            "          age       sex       bmi        bp        s1        s2        s3  \\\n",
            "0    0.038076  0.050680  0.061696  0.021872 -0.044223 -0.034821 -0.043401   \n",
            "1   -0.001882 -0.044642 -0.051474 -0.026328 -0.008449 -0.019163  0.074412   \n",
            "2    0.085299  0.050680  0.044451 -0.005670 -0.045599 -0.034194 -0.032356   \n",
            "3   -0.089063 -0.044642 -0.011595 -0.036656  0.012191  0.024991 -0.036038   \n",
            "4    0.005383 -0.044642 -0.036385  0.021872  0.003935  0.015596  0.008142   \n",
            "..        ...       ...       ...       ...       ...       ...       ...   \n",
            "437  0.041708  0.050680  0.019662  0.059744 -0.005697 -0.002566 -0.028674   \n",
            "438 -0.005515  0.050680 -0.015906 -0.067642  0.049341  0.079165 -0.028674   \n",
            "439  0.041708  0.050680 -0.015906  0.017293 -0.037344 -0.013840 -0.024993   \n",
            "440 -0.045472 -0.044642  0.039062  0.001215  0.016318  0.015283 -0.028674   \n",
            "441 -0.045472 -0.044642 -0.073030 -0.081413  0.083740  0.027809  0.173816   \n",
            "\n",
            "           s4        s5        s6  \n",
            "0   -0.002592  0.019907 -0.017646  \n",
            "1   -0.039493 -0.068332 -0.092204  \n",
            "2   -0.002592  0.002861 -0.025930  \n",
            "3    0.034309  0.022688 -0.009362  \n",
            "4   -0.002592 -0.031988 -0.046641  \n",
            "..        ...       ...       ...  \n",
            "437 -0.002592  0.031193  0.007207  \n",
            "438  0.034309 -0.018114  0.044485  \n",
            "439 -0.011080 -0.046883  0.015491  \n",
            "440  0.026560  0.044529 -0.025930  \n",
            "441 -0.039493 -0.004222  0.003064  \n",
            "\n",
            "[442 rows x 10 columns]\n"
          ]
        }
      ]
    },
    {
      "cell_type": "code",
      "source": [
        "print(diabetes.target)"
      ],
      "metadata": {
        "id": "yAPQ4Yw0Fx--",
        "outputId": "80b01b01-c6f8-4ded-a813-ae1259c5b7bf",
        "colab": {
          "base_uri": "https://localhost:8080/"
        }
      },
      "execution_count": null,
      "outputs": [
        {
          "output_type": "stream",
          "name": "stdout",
          "text": [
            "0      151.0\n",
            "1       75.0\n",
            "2      141.0\n",
            "3      206.0\n",
            "4      135.0\n",
            "       ...  \n",
            "437    178.0\n",
            "438    104.0\n",
            "439    132.0\n",
            "440    220.0\n",
            "441     57.0\n",
            "Name: target, Length: 442, dtype: float64\n"
          ]
        }
      ]
    },
    {
      "cell_type": "markdown",
      "source": [
        "모델 평가"
      ],
      "metadata": {
        "id": "y-Ph30GyLbWj"
      }
    },
    {
      "cell_type": "code",
      "source": [
        "from sklearn.model_selection import train_test_split\n",
        "\n",
        "data_train, data_test, target_train, target_test = train_test_split(\n",
        "    diabetes.data, diabetes.target, test_size=0.25, random_state=42)"
      ],
      "metadata": {
        "id": "BPaAT-TOF0ad"
      },
      "execution_count": 6,
      "outputs": []
    },
    {
      "cell_type": "code",
      "source": [
        "print('전체 데이터의 갯수 :',len(diabetes.data))\n",
        "print('학습 데이터의 갯수 :',len(data_train))\n",
        "print('테스트 데이터의 갯수 :',len(data_test))\n",
        "print('테스트 데이터의 비율 :',len(target_test) / len(diabetes.data))"
      ],
      "metadata": {
        "id": "LuxUFZqDStLe",
        "outputId": "cc5a620c-c107-4c6e-e5b1-44dc7c1be77a",
        "colab": {
          "base_uri": "https://localhost:8080/"
        }
      },
      "execution_count": 7,
      "outputs": [
        {
          "output_type": "stream",
          "name": "stdout",
          "text": [
            "전체 데이터의 갯수 : 442\n",
            "학습 데이터의 갯수 : 331\n",
            "테스트 데이터의 갯수 : 111\n",
            "테스트 데이터의 비율 : 0.251131221719457\n"
          ]
        }
      ]
    },
    {
      "cell_type": "code",
      "source": [
        "from sklearn.metrics import mean_squared_error, r2_score\n",
        "\n",
        "y_true = diabetes.target[0:3]\n",
        "mse = mean_squared_error(y_true,y_pred)\n",
        "r_square = r2_score(y_true,y_pred)\n",
        "print('평균제곱오차 :',mse)\n",
        "print('R 스퀘어 :',r_square)"
      ],
      "metadata": {
        "id": "oLJ27zDhUMyz",
        "outputId": "9ba149da-3269-49d5-98f8-ef634de1e4a0",
        "colab": {
          "base_uri": "https://localhost:8080/"
        }
      },
      "execution_count": 8,
      "outputs": [
        {
          "output_type": "stream",
          "name": "stdout",
          "text": [
            "평균제곱오차 : 1457.8111126596916\n",
            "R 스퀘어 : -0.28228108033006505\n"
          ]
        }
      ]
    },
    {
      "cell_type": "code",
      "source": [
        "import numpy as np\n",
        "\n",
        "rmse = np.sqrt(mse)\n",
        "print('평균제곱근오차(np.sqrt)\\t\\t\\t:',rmse)\n",
        "\n",
        "rmse = mean_squared_error(y_true,y_pred,squared=False)\n",
        "print('평균제곱근오차(mean_squared_error)\\t:',rmse)"
      ],
      "metadata": {
        "colab": {
          "base_uri": "https://localhost:8080/"
        },
        "id": "oLnd0AQ9FY5g",
        "outputId": "7efe3ff4-2a1f-472b-c180-5ac9c59aa4fc"
      },
      "execution_count": 16,
      "outputs": [
        {
          "output_type": "stream",
          "name": "stdout",
          "text": [
            "평균제곱근오차(np.sqrt)\t\t\t: 38.18129270545579\n",
            "평균제곱근오차(mean_squared_error)\t: 38.18129270545579\n"
          ]
        }
      ]
    },
    {
      "cell_type": "code",
      "source": [
        "from sklearn.datasets import load_diabetes\n",
        "from sklearn.model_selection import train_test_split\n",
        "from sklearn.linear_model import LinearRegression\n",
        "from sklearn.metrics import mean_squared_error, r2_score\n",
        "\n",
        "# 데이터 수집 및 전처리\n",
        "diabetes = load_diabetes(as_frame=True)\n",
        "data_train, data_test, target_train, target_test = train_test_split(\n",
        "    diabetes.data, diabetes.target, test_size=0.25, random_state=42)\n",
        "\n",
        "# 모델 훈련\n",
        "model = LinearRegression()\n",
        "model.fit(data_train,target_train)\n",
        "\n",
        "# 모델 테스트\n",
        "y_pred = model.predict(data_test)\n",
        "\n",
        "# 모델 평가\n",
        "mse = mean_squared_error(target_test,y_pred)\n",
        "r_square =      r2_score(target_test,y_pred)\n",
        "print('평균제곱오차 :',mse)\n",
        "print('R 스퀘어 :',r_square)"
      ],
      "metadata": {
        "id": "NjMteonRjKHu",
        "outputId": "bf6f33a9-43f2-4a68-ba6d-569dc63a26ef",
        "colab": {
          "base_uri": "https://localhost:8080/"
        }
      },
      "execution_count": null,
      "outputs": [
        {
          "output_type": "stream",
          "name": "stdout",
          "text": [
            "평균제곱오차 : 2848.3106508475057\n",
            "R 스퀘어 : 0.4849058889476755\n"
          ]
        }
      ]
    },
    {
      "cell_type": "markdown",
      "source": [
        "\t로지스틱 회귀 알고리즘"
      ],
      "metadata": {
        "id": "3wctJgaoouBD"
      }
    },
    {
      "cell_type": "markdown",
      "source": [
        "데이터 수집 및 전처리"
      ],
      "metadata": {
        "id": "j72m_CPLurAc"
      }
    },
    {
      "cell_type": "code",
      "source": [
        "from sklearn.datasets import load_iris\n",
        "from sklearn.model_selection import train_test_split\n",
        "\n",
        "iris = load_iris(as_frame=True)\n",
        "data_train, data_test, target_train, target_test = train_test_split(\n",
        "    iris.data, iris.target, test_size=0.25, random_state=42)"
      ],
      "metadata": {
        "id": "lI9GhriRuZg_"
      },
      "execution_count": null,
      "outputs": []
    },
    {
      "cell_type": "code",
      "source": [
        "print(iris.data)"
      ],
      "metadata": {
        "id": "Y4aZ-_Zj3XwX",
        "outputId": "3dd6c6a8-29c2-4596-c8da-36e8893515de",
        "colab": {
          "base_uri": "https://localhost:8080/"
        }
      },
      "execution_count": null,
      "outputs": [
        {
          "output_type": "stream",
          "name": "stdout",
          "text": [
            "     sepal length (cm)  sepal width (cm)  petal length (cm)  petal width (cm)\n",
            "0                  5.1               3.5                1.4               0.2\n",
            "1                  4.9               3.0                1.4               0.2\n",
            "2                  4.7               3.2                1.3               0.2\n",
            "3                  4.6               3.1                1.5               0.2\n",
            "4                  5.0               3.6                1.4               0.2\n",
            "..                 ...               ...                ...               ...\n",
            "145                6.7               3.0                5.2               2.3\n",
            "146                6.3               2.5                5.0               1.9\n",
            "147                6.5               3.0                5.2               2.0\n",
            "148                6.2               3.4                5.4               2.3\n",
            "149                5.9               3.0                5.1               1.8\n",
            "\n",
            "[150 rows x 4 columns]\n"
          ]
        }
      ]
    },
    {
      "cell_type": "code",
      "source": [
        "print(iris.target)\n",
        "print(iris.target[50:56])"
      ],
      "metadata": {
        "id": "mgpDZ_9ju0jP",
        "outputId": "8a2c9425-a29c-4417-a3fa-c7cfae6c1de3",
        "colab": {
          "base_uri": "https://localhost:8080/"
        }
      },
      "execution_count": null,
      "outputs": [
        {
          "output_type": "stream",
          "name": "stdout",
          "text": [
            "0      0\n",
            "1      0\n",
            "2      0\n",
            "3      0\n",
            "4      0\n",
            "      ..\n",
            "145    2\n",
            "146    2\n",
            "147    2\n",
            "148    2\n",
            "149    2\n",
            "Name: target, Length: 150, dtype: int64\n",
            "50    1\n",
            "51    1\n",
            "52    1\n",
            "53    1\n",
            "54    1\n",
            "55    1\n",
            "Name: target, dtype: int64\n"
          ]
        }
      ]
    },
    {
      "cell_type": "code",
      "source": [
        "print(dir(iris))\n",
        "print(iris.target_names)"
      ],
      "metadata": {
        "colab": {
          "base_uri": "https://localhost:8080/"
        },
        "id": "1Gx2rP9Vgrvm",
        "outputId": "5b048486-43c3-4d92-aece-d5fc494649a9"
      },
      "execution_count": null,
      "outputs": [
        {
          "output_type": "stream",
          "name": "stdout",
          "text": [
            "['DESCR', 'data', 'data_module', 'feature_names', 'filename', 'frame', 'target', 'target_names']\n",
            "['setosa' 'versicolor' 'virginica']\n"
          ]
        }
      ]
    },
    {
      "cell_type": "markdown",
      "source": [
        "모델 훈련"
      ],
      "metadata": {
        "id": "5gsRqMwz25lB"
      }
    },
    {
      "cell_type": "code",
      "source": [
        "from sklearn.linear_model import LogisticRegression\n",
        "\n",
        "model = LogisticRegression()\n",
        "model.fit(data_train,target_train)\n",
        "print('훈련된 회귀방정식의 계수 :',model.coef_)"
      ],
      "metadata": {
        "id": "1reu3ehz29Pf",
        "outputId": "53405d6b-088b-48d7-8e69-d1c1812b0239",
        "colab": {
          "base_uri": "https://localhost:8080/"
        }
      },
      "execution_count": null,
      "outputs": [
        {
          "output_type": "stream",
          "name": "stdout",
          "text": [
            "훈련된 회귀방정식의 계수 : [[-0.38930504  0.92000554 -2.33122213 -0.98310984]\n",
            " [ 0.49929128 -0.30959282 -0.21517453 -0.73385023]\n",
            " [-0.10998624 -0.61041272  2.54639666  1.71696008]]\n"
          ]
        },
        {
          "output_type": "stream",
          "name": "stderr",
          "text": [
            "/usr/local/lib/python3.10/dist-packages/sklearn/linear_model/_logistic.py:458: ConvergenceWarning: lbfgs failed to converge (status=1):\n",
            "STOP: TOTAL NO. of ITERATIONS REACHED LIMIT.\n",
            "\n",
            "Increase the number of iterations (max_iter) or scale the data as shown in:\n",
            "    https://scikit-learn.org/stable/modules/preprocessing.html\n",
            "Please also refer to the documentation for alternative solver options:\n",
            "    https://scikit-learn.org/stable/modules/linear_model.html#logistic-regression\n",
            "  n_iter_i = _check_optimize_result(\n"
          ]
        }
      ]
    },
    {
      "cell_type": "code",
      "source": [
        "from sklearn.linear_model import LogisticRegression\n",
        "\n",
        "model = LogisticRegression(max_iter=1000)\n",
        "model.fit(data_train,target_train)\n",
        "print('훈련된 회귀방정식의 계수 :\\n',model.coef_)"
      ],
      "metadata": {
        "id": "W8flfh5R7y-O",
        "outputId": "45b00c55-4548-4c4d-8d2e-065d63c9f4c2",
        "colab": {
          "base_uri": "https://localhost:8080/"
        }
      },
      "execution_count": null,
      "outputs": [
        {
          "output_type": "stream",
          "name": "stdout",
          "text": [
            "훈련된 회귀방정식의 계수 :\n",
            " [[-0.38927515  0.91983274 -2.33150421 -0.98321821]\n",
            " [ 0.49940308 -0.30884354 -0.21478362 -0.73419233]\n",
            " [-0.11012793 -0.6109892   2.54628783  1.71741054]]\n"
          ]
        }
      ]
    },
    {
      "cell_type": "markdown",
      "source": [
        "모델 테스트"
      ],
      "metadata": {
        "id": "9szrCq8g_A5U"
      }
    },
    {
      "cell_type": "code",
      "source": [
        "y_pred = model.predict(data_test)\n",
        "print('회귀분석 모델로 예측한 붓꽃의 종류:\\n', y_pred)"
      ],
      "metadata": {
        "id": "qO29kqDZ96wi",
        "outputId": "2d9a1acc-7eff-493e-eae7-42d56a328b22",
        "colab": {
          "base_uri": "https://localhost:8080/"
        }
      },
      "execution_count": null,
      "outputs": [
        {
          "output_type": "stream",
          "name": "stdout",
          "text": [
            "회귀분석 모델로 예측한 붓꽃의 종류:\n",
            " [1 0 2 1 1 0 1 2 1 1 2 0 0 0 0 1 2 1 1 2 0 2 0 2 2 2 2 2 0 0 0 0 1 0 0 2 1 0]\n"
          ]
        }
      ]
    },
    {
      "cell_type": "markdown",
      "source": [
        "모델 평가"
      ],
      "metadata": {
        "id": "fHZcxUvU_FZa"
      }
    },
    {
      "cell_type": "code",
      "source": [
        "from sklearn.metrics import accuracy_score\n",
        "\n",
        "accuracy = accuracy_score(target_test, y_pred)\n",
        "print('정확도:', accuracy)"
      ],
      "metadata": {
        "id": "WmgXdNbC_G6R",
        "outputId": "5f6c0eaf-853c-4723-ab40-91aadd242542",
        "colab": {
          "base_uri": "https://localhost:8080/"
        }
      },
      "execution_count": null,
      "outputs": [
        {
          "output_type": "stream",
          "name": "stdout",
          "text": [
            "정확도: 1.0\n"
          ]
        }
      ]
    },
    {
      "cell_type": "code",
      "source": [
        "from sklearn.datasets import load_iris\n",
        "from sklearn.model_selection import train_test_split\n",
        "from sklearn.linear_model import LogisticRegression\n",
        "from sklearn.metrics import accuracy_score\n",
        "\n",
        "# 데이터 수집 및 전처리\n",
        "iris = load_iris(as_frame=True)\n",
        "data_train, data_test, target_train, target_test = train_test_split(\n",
        "    iris.data, iris.target, test_size=0.25, random_state=42)\n",
        "\n",
        "# 모델 훈련\n",
        "model = LogisticRegression(max_iter=1000)\n",
        "model.fit(data_train,target_train)\n",
        "\n",
        "# 모델 테스트\n",
        "y_pred = model.predict(data_test)\n",
        "\n",
        "# 모델 평가\n",
        "accuracy = accuracy_score(target_test, y_pred)\n",
        "print('정확도:', accuracy)"
      ],
      "metadata": {
        "id": "ZUh5Y01rHc9N",
        "outputId": "c3342e9e-8bf3-4c34-bfb2-49e96457b973",
        "colab": {
          "base_uri": "https://localhost:8080/"
        }
      },
      "execution_count": null,
      "outputs": [
        {
          "output_type": "stream",
          "name": "stdout",
          "text": [
            "정확도: 1.0\n"
          ]
        }
      ]
    },
    {
      "cell_type": "markdown",
      "source": [
        "\tK-최근접 이웃 분류 알고리즘"
      ],
      "metadata": {
        "id": "kUw2ZBlf2ujt"
      }
    },
    {
      "cell_type": "code",
      "source": [
        "from sklearn.datasets import load_iris\n",
        "from sklearn.model_selection import train_test_split\n",
        "from sklearn.neighbors import KNeighborsClassifier\n",
        "from sklearn.metrics import accuracy_score\n",
        "\n",
        "# 데이터 수집 및 전처리\n",
        "iris = load_iris(as_frame=True)\n",
        "data_train, data_test, target_train, target_test = train_test_split(\n",
        "    iris.data, iris.target, test_size=0.2, random_state=0)\n",
        "\n",
        "# 모델 훈련\n",
        "k = 3\n",
        "model = KNeighborsClassifier(n_neighbors=k)\n",
        "model.fit(data_train,target_train)\n",
        "\n",
        "# 모델 테스트\n",
        "y_pred = model.predict(data_test)\n",
        "\n",
        "# 모델 평가\n",
        "accuracy = accuracy_score(target_test, y_pred)\n",
        "print('정확도:', accuracy)"
      ],
      "metadata": {
        "colab": {
          "base_uri": "https://localhost:8080/"
        },
        "id": "cLobLzLC2tGo",
        "outputId": "df779214-bfaf-4747-f747-5be47afefb93"
      },
      "execution_count": null,
      "outputs": [
        {
          "output_type": "stream",
          "name": "stdout",
          "text": [
            "정확도: 0.9666666666666667\n"
          ]
        }
      ]
    },
    {
      "cell_type": "code",
      "source": [
        "from sklearn.datasets import load_iris\n",
        "from sklearn.model_selection import train_test_split\n",
        "from sklearn.neighbors import KNeighborsClassifier\n",
        "from sklearn.metrics import accuracy_score\n",
        "\n",
        "# 데이터 수집 및 전처리\n",
        "iris = load_iris(as_frame=True)\n",
        "data_train, data_test, target_train, target_test = train_test_split(\n",
        "    iris.data, iris.target, test_size=0.2, random_state=0)\n",
        "\n",
        "# 모델 훈련\n",
        "k = 5\n",
        "model = KNeighborsClassifier(n_neighbors=k)\n",
        "model.fit(data_train,target_train)\n",
        "\n",
        "# 모델 테스트\n",
        "y_pred = model.predict(data_test)\n",
        "\n",
        "# 모델 평가\n",
        "accuracy = accuracy_score(target_test, y_pred)\n",
        "print('정확도:', accuracy)"
      ],
      "metadata": {
        "colab": {
          "base_uri": "https://localhost:8080/"
        },
        "id": "BjmAeJiW8EWf",
        "outputId": "8913a5da-ca57-41c3-f970-4dbbfeca3dfc"
      },
      "execution_count": null,
      "outputs": [
        {
          "output_type": "stream",
          "name": "stdout",
          "text": [
            "정확도: 0.9666666666666667\n"
          ]
        }
      ]
    },
    {
      "cell_type": "code",
      "source": [
        "from sklearn.datasets import load_iris\n",
        "from sklearn.model_selection import train_test_split\n",
        "from sklearn.neighbors import KNeighborsClassifier\n",
        "from sklearn.metrics import accuracy_score\n",
        "\n",
        "# 데이터 수집 및 전처리\n",
        "iris = load_iris(as_frame=True)\n",
        "data_train, data_test, target_train, target_test = train_test_split(\n",
        "    iris.data, iris.target, test_size=0.2, random_state=0)\n",
        "\n",
        "# 모델 훈련\n",
        "k = 7\n",
        "model = KNeighborsClassifier(n_neighbors=k)\n",
        "model.fit(data_train,target_train)\n",
        "\n",
        "# 모델 테스트\n",
        "y_pred = model.predict(data_test)\n",
        "\n",
        "# 모델 평가\n",
        "accuracy = accuracy_score(target_test, y_pred)\n",
        "print('정확도:', accuracy)"
      ],
      "metadata": {
        "colab": {
          "base_uri": "https://localhost:8080/"
        },
        "id": "PjVsbXsu7y7a",
        "outputId": "bd110937-c7d9-4620-f283-4906bc8f3174"
      },
      "execution_count": null,
      "outputs": [
        {
          "output_type": "stream",
          "name": "stdout",
          "text": [
            "정확도: 1.0\n"
          ]
        }
      ]
    },
    {
      "cell_type": "code",
      "source": [
        "from sklearn.datasets import load_iris\n",
        "from sklearn.model_selection import train_test_split\n",
        "from sklearn.neighbors import KNeighborsClassifier\n",
        "from sklearn.metrics import accuracy_score\n",
        "\n",
        "# 데이터 수집 및 전처리\n",
        "iris = load_iris(as_frame=True)\n",
        "data_train, data_test, target_train, target_test = train_test_split(\n",
        "    iris.data, iris.target, test_size=0.2, random_state=0)\n",
        "\n",
        "# 모델 훈련\n",
        "k = 100\n",
        "model = KNeighborsClassifier(n_neighbors=k)\n",
        "model.fit(data_train,target_train)\n",
        "\n",
        "# 모델 테스트\n",
        "y_pred = model.predict(data_test)\n",
        "\n",
        "# 모델 평가\n",
        "accuracy = accuracy_score(target_test, y_pred)\n",
        "print('정확도:', accuracy)"
      ],
      "metadata": {
        "colab": {
          "base_uri": "https://localhost:8080/"
        },
        "id": "BE1G3R8X9nPX",
        "outputId": "93684a3f-bf39-4474-c6a3-f069d2f02388"
      },
      "execution_count": null,
      "outputs": [
        {
          "output_type": "stream",
          "name": "stdout",
          "text": [
            "정확도: 0.5666666666666667\n"
          ]
        }
      ]
    },
    {
      "cell_type": "code",
      "source": [
        "from sklearn.datasets import load_iris\n",
        "from sklearn.model_selection import train_test_split\n",
        "from sklearn.neighbors import KNeighborsClassifier\n",
        "from sklearn.metrics import accuracy_score\n",
        "\n",
        "# 데이터 수집 및 전처리\n",
        "iris = load_iris(as_frame=True)\n",
        "data_train, data_test, target_train, target_test = train_test_split(\n",
        "    iris.data, iris.target, test_size=0.2, random_state=0)\n",
        "\n",
        "k = 3\n",
        "target_accuracy = 0.99\n",
        "\n",
        "while True:\n",
        "# 모델 훈련\n",
        "  model = KNeighborsClassifier(n_neighbors=k)\n",
        "  model.fit(data_train,target_train)\n",
        "\n",
        "# 모델 테스트\n",
        "  y_pred = model.predict(data_test)\n",
        "\n",
        "# 모델 평가\n",
        "  accuracy = accuracy_score(target_test, y_pred)\n",
        "  print('K:',k,', 정확도:', accuracy)\n",
        "\n",
        "  if accuracy > target_accuracy: break\n",
        "\n",
        "  k = k + 1"
      ],
      "metadata": {
        "colab": {
          "base_uri": "https://localhost:8080/"
        },
        "id": "kkL4u7hGNv2V",
        "outputId": "bb29fd0f-bb96-4ce7-a411-955fcf56574c"
      },
      "execution_count": null,
      "outputs": [
        {
          "output_type": "stream",
          "name": "stdout",
          "text": [
            "K: 3 , 정확도: 0.9666666666666667\n",
            "K: 4 , 정확도: 1.0\n"
          ]
        }
      ]
    },
    {
      "cell_type": "markdown",
      "source": [
        "\t결정트리 분류 알고리즘"
      ],
      "metadata": {
        "id": "k_j-0bAhRHdc"
      }
    },
    {
      "cell_type": "code",
      "source": [
        "from sklearn.datasets import load_iris\n",
        "from sklearn.model_selection import train_test_split\n",
        "from sklearn.tree import DecisionTreeClassifier\n",
        "from sklearn.metrics import accuracy_score\n",
        "\n",
        "# 데이터 수집 및 전처리\n",
        "iris = load_iris(as_frame=True)\n",
        "data_train, data_test, target_train, target_test = train_test_split(\n",
        "    iris.data, iris.target, test_size=0.25, random_state=42)\n",
        "\n",
        "# 모델 훈련\n",
        "model = DecisionTreeClassifier()\n",
        "model.fit(data_train,target_train)\n",
        "\n",
        "# 모델 테스트\n",
        "y_pred = model.predict(data_test)\n",
        "\n",
        "# 모델 평가\n",
        "accuracy = accuracy_score(target_test, y_pred)\n",
        "print('정확도:', accuracy)"
      ],
      "metadata": {
        "colab": {
          "base_uri": "https://localhost:8080/"
        },
        "id": "LHswGYwCRZGy",
        "outputId": "70cc84c7-25ad-48b8-9d91-a5f7df143f19"
      },
      "execution_count": null,
      "outputs": [
        {
          "output_type": "stream",
          "name": "stdout",
          "text": [
            "정확도: 1.0\n"
          ]
        }
      ]
    },
    {
      "cell_type": "code",
      "source": [
        "from sklearn.tree import export_graphviz\n",
        "import graphviz\n",
        "\n",
        "export_graphviz(model,\n",
        "                out_file='decision tree.dot',\n",
        "                class_names=iris.target_names,\n",
        "                feature_names=iris.feature_names)\n",
        "\n",
        "with open('decision tree.dot') as viz:\n",
        "  decision_tree = viz.read()\n",
        "\n",
        "graphviz.Source(decision_tree)"
      ],
      "metadata": {
        "colab": {
          "base_uri": "https://localhost:8080/",
          "height": 1000
        },
        "id": "7WY_lL-jD-Yp",
        "outputId": "b97d4086-3b80-416a-e45f-2e593e3bc21d"
      },
      "execution_count": null,
      "outputs": [
        {
          "output_type": "execute_result",
          "data": {
            "image/svg+xml": "<?xml version=\"1.0\" encoding=\"UTF-8\" standalone=\"no\"?>\n<!DOCTYPE svg PUBLIC \"-//W3C//DTD SVG 1.1//EN\"\n \"http://www.w3.org/Graphics/SVG/1.1/DTD/svg11.dtd\">\n<!-- Generated by graphviz version 2.43.0 (0)\n -->\n<!-- Title: Tree Pages: 1 -->\n<svg width=\"780pt\" height=\"790pt\"\n viewBox=\"0.00 0.00 780.00 790.00\" xmlns=\"http://www.w3.org/2000/svg\" xmlns:xlink=\"http://www.w3.org/1999/xlink\">\n<g id=\"graph0\" class=\"graph\" transform=\"scale(1 1) rotate(0) translate(4 786)\">\n<title>Tree</title>\n<polygon fill=\"white\" stroke=\"transparent\" points=\"-4,4 -4,-786 776,-786 776,4 -4,4\"/>\n<!-- 0 -->\n<g id=\"node1\" class=\"node\">\n<title>0</title>\n<polygon fill=\"none\" stroke=\"black\" points=\"276,-782 121,-782 121,-699 276,-699 276,-782\"/>\n<text text-anchor=\"middle\" x=\"198.5\" y=\"-766.8\" font-family=\"Helvetica,sans-Serif\" font-size=\"14.00\">petal width (cm) &lt;= 0.8</text>\n<text text-anchor=\"middle\" x=\"198.5\" y=\"-751.8\" font-family=\"Helvetica,sans-Serif\" font-size=\"14.00\">gini = 0.666</text>\n<text text-anchor=\"middle\" x=\"198.5\" y=\"-736.8\" font-family=\"Helvetica,sans-Serif\" font-size=\"14.00\">samples = 112</text>\n<text text-anchor=\"middle\" x=\"198.5\" y=\"-721.8\" font-family=\"Helvetica,sans-Serif\" font-size=\"14.00\">value = [35, 39, 38]</text>\n<text text-anchor=\"middle\" x=\"198.5\" y=\"-706.8\" font-family=\"Helvetica,sans-Serif\" font-size=\"14.00\">class = versicolor</text>\n</g>\n<!-- 1 -->\n<g id=\"node2\" class=\"node\">\n<title>1</title>\n<polygon fill=\"none\" stroke=\"black\" points=\"177,-655.5 60,-655.5 60,-587.5 177,-587.5 177,-655.5\"/>\n<text text-anchor=\"middle\" x=\"118.5\" y=\"-640.3\" font-family=\"Helvetica,sans-Serif\" font-size=\"14.00\">gini = 0.0</text>\n<text text-anchor=\"middle\" x=\"118.5\" y=\"-625.3\" font-family=\"Helvetica,sans-Serif\" font-size=\"14.00\">samples = 35</text>\n<text text-anchor=\"middle\" x=\"118.5\" y=\"-610.3\" font-family=\"Helvetica,sans-Serif\" font-size=\"14.00\">value = [35, 0, 0]</text>\n<text text-anchor=\"middle\" x=\"118.5\" y=\"-595.3\" font-family=\"Helvetica,sans-Serif\" font-size=\"14.00\">class = setosa</text>\n</g>\n<!-- 0&#45;&gt;1 -->\n<g id=\"edge1\" class=\"edge\">\n<title>0&#45;&gt;1</title>\n<path fill=\"none\" stroke=\"black\" d=\"M170.74,-698.91C163.05,-687.65 154.68,-675.42 146.95,-664.11\"/>\n<polygon fill=\"black\" stroke=\"black\" points=\"149.71,-661.95 141.18,-655.67 143.93,-665.9 149.71,-661.95\"/>\n<text text-anchor=\"middle\" x=\"136.56\" y=\"-676.54\" font-family=\"Helvetica,sans-Serif\" font-size=\"14.00\">True</text>\n</g>\n<!-- 2 -->\n<g id=\"node3\" class=\"node\">\n<title>2</title>\n<polygon fill=\"none\" stroke=\"black\" points=\"363.5,-663 195.5,-663 195.5,-580 363.5,-580 363.5,-663\"/>\n<text text-anchor=\"middle\" x=\"279.5\" y=\"-647.8\" font-family=\"Helvetica,sans-Serif\" font-size=\"14.00\">petal length (cm) &lt;= 4.75</text>\n<text text-anchor=\"middle\" x=\"279.5\" y=\"-632.8\" font-family=\"Helvetica,sans-Serif\" font-size=\"14.00\">gini = 0.5</text>\n<text text-anchor=\"middle\" x=\"279.5\" y=\"-617.8\" font-family=\"Helvetica,sans-Serif\" font-size=\"14.00\">samples = 77</text>\n<text text-anchor=\"middle\" x=\"279.5\" y=\"-602.8\" font-family=\"Helvetica,sans-Serif\" font-size=\"14.00\">value = [0, 39, 38]</text>\n<text text-anchor=\"middle\" x=\"279.5\" y=\"-587.8\" font-family=\"Helvetica,sans-Serif\" font-size=\"14.00\">class = versicolor</text>\n</g>\n<!-- 0&#45;&gt;2 -->\n<g id=\"edge2\" class=\"edge\">\n<title>0&#45;&gt;2</title>\n<path fill=\"none\" stroke=\"black\" d=\"M226.6,-698.91C232.76,-690.01 239.34,-680.51 245.69,-671.33\"/>\n<polygon fill=\"black\" stroke=\"black\" points=\"248.63,-673.24 251.45,-663.02 242.88,-669.25 248.63,-673.24\"/>\n<text text-anchor=\"middle\" x=\"255.92\" y=\"-683.92\" font-family=\"Helvetica,sans-Serif\" font-size=\"14.00\">False</text>\n</g>\n<!-- 3 -->\n<g id=\"node4\" class=\"node\">\n<title>3</title>\n<polygon fill=\"none\" stroke=\"black\" points=\"271,-544 108,-544 108,-461 271,-461 271,-544\"/>\n<text text-anchor=\"middle\" x=\"189.5\" y=\"-528.8\" font-family=\"Helvetica,sans-Serif\" font-size=\"14.00\">petal width (cm) &lt;= 1.65</text>\n<text text-anchor=\"middle\" x=\"189.5\" y=\"-513.8\" font-family=\"Helvetica,sans-Serif\" font-size=\"14.00\">gini = 0.056</text>\n<text text-anchor=\"middle\" x=\"189.5\" y=\"-498.8\" font-family=\"Helvetica,sans-Serif\" font-size=\"14.00\">samples = 35</text>\n<text text-anchor=\"middle\" x=\"189.5\" y=\"-483.8\" font-family=\"Helvetica,sans-Serif\" font-size=\"14.00\">value = [0, 34, 1]</text>\n<text text-anchor=\"middle\" x=\"189.5\" y=\"-468.8\" font-family=\"Helvetica,sans-Serif\" font-size=\"14.00\">class = versicolor</text>\n</g>\n<!-- 2&#45;&gt;3 -->\n<g id=\"edge3\" class=\"edge\">\n<title>2&#45;&gt;3</title>\n<path fill=\"none\" stroke=\"black\" d=\"M248.27,-579.91C241.36,-570.92 233.97,-561.32 226.85,-552.05\"/>\n<polygon fill=\"black\" stroke=\"black\" points=\"229.54,-549.81 220.67,-544.02 223.99,-554.08 229.54,-549.81\"/>\n</g>\n<!-- 6 -->\n<g id=\"node7\" class=\"node\">\n<title>6</title>\n<polygon fill=\"none\" stroke=\"black\" points=\"452,-544 289,-544 289,-461 452,-461 452,-544\"/>\n<text text-anchor=\"middle\" x=\"370.5\" y=\"-528.8\" font-family=\"Helvetica,sans-Serif\" font-size=\"14.00\">petal width (cm) &lt;= 1.75</text>\n<text text-anchor=\"middle\" x=\"370.5\" y=\"-513.8\" font-family=\"Helvetica,sans-Serif\" font-size=\"14.00\">gini = 0.21</text>\n<text text-anchor=\"middle\" x=\"370.5\" y=\"-498.8\" font-family=\"Helvetica,sans-Serif\" font-size=\"14.00\">samples = 42</text>\n<text text-anchor=\"middle\" x=\"370.5\" y=\"-483.8\" font-family=\"Helvetica,sans-Serif\" font-size=\"14.00\">value = [0, 5, 37]</text>\n<text text-anchor=\"middle\" x=\"370.5\" y=\"-468.8\" font-family=\"Helvetica,sans-Serif\" font-size=\"14.00\">class = virginica</text>\n</g>\n<!-- 2&#45;&gt;6 -->\n<g id=\"edge6\" class=\"edge\">\n<title>2&#45;&gt;6</title>\n<path fill=\"none\" stroke=\"black\" d=\"M311.07,-579.91C318.06,-570.92 325.53,-561.32 332.74,-552.05\"/>\n<polygon fill=\"black\" stroke=\"black\" points=\"335.61,-554.06 338.98,-544.02 330.08,-549.77 335.61,-554.06\"/>\n</g>\n<!-- 4 -->\n<g id=\"node5\" class=\"node\">\n<title>4</title>\n<polygon fill=\"none\" stroke=\"black\" points=\"121,-417.5 0,-417.5 0,-349.5 121,-349.5 121,-417.5\"/>\n<text text-anchor=\"middle\" x=\"60.5\" y=\"-402.3\" font-family=\"Helvetica,sans-Serif\" font-size=\"14.00\">gini = 0.0</text>\n<text text-anchor=\"middle\" x=\"60.5\" y=\"-387.3\" font-family=\"Helvetica,sans-Serif\" font-size=\"14.00\">samples = 34</text>\n<text text-anchor=\"middle\" x=\"60.5\" y=\"-372.3\" font-family=\"Helvetica,sans-Serif\" font-size=\"14.00\">value = [0, 34, 0]</text>\n<text text-anchor=\"middle\" x=\"60.5\" y=\"-357.3\" font-family=\"Helvetica,sans-Serif\" font-size=\"14.00\">class = versicolor</text>\n</g>\n<!-- 3&#45;&gt;4 -->\n<g id=\"edge4\" class=\"edge\">\n<title>3&#45;&gt;4</title>\n<path fill=\"none\" stroke=\"black\" d=\"M144.74,-460.91C131.73,-449.1 117.52,-436.22 104.55,-424.45\"/>\n<polygon fill=\"black\" stroke=\"black\" points=\"106.83,-421.79 97.07,-417.67 102.12,-426.98 106.83,-421.79\"/>\n</g>\n<!-- 5 -->\n<g id=\"node6\" class=\"node\">\n<title>5</title>\n<polygon fill=\"none\" stroke=\"black\" points=\"252,-417.5 139,-417.5 139,-349.5 252,-349.5 252,-417.5\"/>\n<text text-anchor=\"middle\" x=\"195.5\" y=\"-402.3\" font-family=\"Helvetica,sans-Serif\" font-size=\"14.00\">gini = 0.0</text>\n<text text-anchor=\"middle\" x=\"195.5\" y=\"-387.3\" font-family=\"Helvetica,sans-Serif\" font-size=\"14.00\">samples = 1</text>\n<text text-anchor=\"middle\" x=\"195.5\" y=\"-372.3\" font-family=\"Helvetica,sans-Serif\" font-size=\"14.00\">value = [0, 0, 1]</text>\n<text text-anchor=\"middle\" x=\"195.5\" y=\"-357.3\" font-family=\"Helvetica,sans-Serif\" font-size=\"14.00\">class = virginica</text>\n</g>\n<!-- 3&#45;&gt;5 -->\n<g id=\"edge5\" class=\"edge\">\n<title>3&#45;&gt;5</title>\n<path fill=\"none\" stroke=\"black\" d=\"M191.58,-460.91C192.13,-450.2 192.72,-438.62 193.28,-427.78\"/>\n<polygon fill=\"black\" stroke=\"black\" points=\"196.78,-427.83 193.8,-417.67 189.79,-427.47 196.78,-427.83\"/>\n</g>\n<!-- 7 -->\n<g id=\"node8\" class=\"node\">\n<title>7</title>\n<polygon fill=\"none\" stroke=\"black\" points=\"449.5,-425 281.5,-425 281.5,-342 449.5,-342 449.5,-425\"/>\n<text text-anchor=\"middle\" x=\"365.5\" y=\"-409.8\" font-family=\"Helvetica,sans-Serif\" font-size=\"14.00\">petal length (cm) &lt;= 4.95</text>\n<text text-anchor=\"middle\" x=\"365.5\" y=\"-394.8\" font-family=\"Helvetica,sans-Serif\" font-size=\"14.00\">gini = 0.5</text>\n<text text-anchor=\"middle\" x=\"365.5\" y=\"-379.8\" font-family=\"Helvetica,sans-Serif\" font-size=\"14.00\">samples = 8</text>\n<text text-anchor=\"middle\" x=\"365.5\" y=\"-364.8\" font-family=\"Helvetica,sans-Serif\" font-size=\"14.00\">value = [0, 4, 4]</text>\n<text text-anchor=\"middle\" x=\"365.5\" y=\"-349.8\" font-family=\"Helvetica,sans-Serif\" font-size=\"14.00\">class = versicolor</text>\n</g>\n<!-- 6&#45;&gt;7 -->\n<g id=\"edge7\" class=\"edge\">\n<title>6&#45;&gt;7</title>\n<path fill=\"none\" stroke=\"black\" d=\"M368.77,-460.91C368.41,-452.56 368.03,-443.67 367.66,-435.02\"/>\n<polygon fill=\"black\" stroke=\"black\" points=\"371.16,-434.86 367.23,-425.02 364.16,-435.16 371.16,-434.86\"/>\n</g>\n<!-- 14 -->\n<g id=\"node15\" class=\"node\">\n<title>14</title>\n<polygon fill=\"none\" stroke=\"black\" points=\"635.5,-425 467.5,-425 467.5,-342 635.5,-342 635.5,-425\"/>\n<text text-anchor=\"middle\" x=\"551.5\" y=\"-409.8\" font-family=\"Helvetica,sans-Serif\" font-size=\"14.00\">petal length (cm) &lt;= 4.85</text>\n<text text-anchor=\"middle\" x=\"551.5\" y=\"-394.8\" font-family=\"Helvetica,sans-Serif\" font-size=\"14.00\">gini = 0.057</text>\n<text text-anchor=\"middle\" x=\"551.5\" y=\"-379.8\" font-family=\"Helvetica,sans-Serif\" font-size=\"14.00\">samples = 34</text>\n<text text-anchor=\"middle\" x=\"551.5\" y=\"-364.8\" font-family=\"Helvetica,sans-Serif\" font-size=\"14.00\">value = [0, 1, 33]</text>\n<text text-anchor=\"middle\" x=\"551.5\" y=\"-349.8\" font-family=\"Helvetica,sans-Serif\" font-size=\"14.00\">class = virginica</text>\n</g>\n<!-- 6&#45;&gt;14 -->\n<g id=\"edge14\" class=\"edge\">\n<title>6&#45;&gt;14</title>\n<path fill=\"none\" stroke=\"black\" d=\"M433.3,-460.91C448.46,-451.11 464.77,-440.56 480.29,-430.53\"/>\n<polygon fill=\"black\" stroke=\"black\" points=\"482.32,-433.39 488.81,-425.02 478.52,-427.51 482.32,-433.39\"/>\n</g>\n<!-- 8 -->\n<g id=\"node9\" class=\"node\">\n<title>8</title>\n<polygon fill=\"none\" stroke=\"black\" points=\"266,-298.5 145,-298.5 145,-230.5 266,-230.5 266,-298.5\"/>\n<text text-anchor=\"middle\" x=\"205.5\" y=\"-283.3\" font-family=\"Helvetica,sans-Serif\" font-size=\"14.00\">gini = 0.0</text>\n<text text-anchor=\"middle\" x=\"205.5\" y=\"-268.3\" font-family=\"Helvetica,sans-Serif\" font-size=\"14.00\">samples = 2</text>\n<text text-anchor=\"middle\" x=\"205.5\" y=\"-253.3\" font-family=\"Helvetica,sans-Serif\" font-size=\"14.00\">value = [0, 2, 0]</text>\n<text text-anchor=\"middle\" x=\"205.5\" y=\"-238.3\" font-family=\"Helvetica,sans-Serif\" font-size=\"14.00\">class = versicolor</text>\n</g>\n<!-- 7&#45;&gt;8 -->\n<g id=\"edge8\" class=\"edge\">\n<title>7&#45;&gt;8</title>\n<path fill=\"none\" stroke=\"black\" d=\"M309.99,-341.91C293.54,-329.88 275.56,-316.73 259.23,-304.79\"/>\n<polygon fill=\"black\" stroke=\"black\" points=\"260.99,-301.74 250.86,-298.67 256.86,-307.39 260.99,-301.74\"/>\n</g>\n<!-- 9 -->\n<g id=\"node10\" class=\"node\">\n<title>9</title>\n<polygon fill=\"none\" stroke=\"black\" points=\"447,-306 284,-306 284,-223 447,-223 447,-306\"/>\n<text text-anchor=\"middle\" x=\"365.5\" y=\"-290.8\" font-family=\"Helvetica,sans-Serif\" font-size=\"14.00\">petal width (cm) &lt;= 1.55</text>\n<text text-anchor=\"middle\" x=\"365.5\" y=\"-275.8\" font-family=\"Helvetica,sans-Serif\" font-size=\"14.00\">gini = 0.444</text>\n<text text-anchor=\"middle\" x=\"365.5\" y=\"-260.8\" font-family=\"Helvetica,sans-Serif\" font-size=\"14.00\">samples = 6</text>\n<text text-anchor=\"middle\" x=\"365.5\" y=\"-245.8\" font-family=\"Helvetica,sans-Serif\" font-size=\"14.00\">value = [0, 2, 4]</text>\n<text text-anchor=\"middle\" x=\"365.5\" y=\"-230.8\" font-family=\"Helvetica,sans-Serif\" font-size=\"14.00\">class = virginica</text>\n</g>\n<!-- 7&#45;&gt;9 -->\n<g id=\"edge9\" class=\"edge\">\n<title>7&#45;&gt;9</title>\n<path fill=\"none\" stroke=\"black\" d=\"M365.5,-341.91C365.5,-333.65 365.5,-324.86 365.5,-316.3\"/>\n<polygon fill=\"black\" stroke=\"black\" points=\"369,-316.02 365.5,-306.02 362,-316.02 369,-316.02\"/>\n</g>\n<!-- 10 -->\n<g id=\"node11\" class=\"node\">\n<title>10</title>\n<polygon fill=\"none\" stroke=\"black\" points=\"269,-179.5 156,-179.5 156,-111.5 269,-111.5 269,-179.5\"/>\n<text text-anchor=\"middle\" x=\"212.5\" y=\"-164.3\" font-family=\"Helvetica,sans-Serif\" font-size=\"14.00\">gini = 0.0</text>\n<text text-anchor=\"middle\" x=\"212.5\" y=\"-149.3\" font-family=\"Helvetica,sans-Serif\" font-size=\"14.00\">samples = 3</text>\n<text text-anchor=\"middle\" x=\"212.5\" y=\"-134.3\" font-family=\"Helvetica,sans-Serif\" font-size=\"14.00\">value = [0, 0, 3]</text>\n<text text-anchor=\"middle\" x=\"212.5\" y=\"-119.3\" font-family=\"Helvetica,sans-Serif\" font-size=\"14.00\">class = virginica</text>\n</g>\n<!-- 9&#45;&gt;10 -->\n<g id=\"edge10\" class=\"edge\">\n<title>9&#45;&gt;10</title>\n<path fill=\"none\" stroke=\"black\" d=\"M312.42,-222.91C296.69,-210.88 279.5,-197.73 263.88,-185.79\"/>\n<polygon fill=\"black\" stroke=\"black\" points=\"265.94,-182.96 255.87,-179.67 261.69,-188.52 265.94,-182.96\"/>\n</g>\n<!-- 11 -->\n<g id=\"node12\" class=\"node\">\n<title>11</title>\n<polygon fill=\"none\" stroke=\"black\" points=\"455.5,-187 287.5,-187 287.5,-104 455.5,-104 455.5,-187\"/>\n<text text-anchor=\"middle\" x=\"371.5\" y=\"-171.8\" font-family=\"Helvetica,sans-Serif\" font-size=\"14.00\">petal length (cm) &lt;= 5.45</text>\n<text text-anchor=\"middle\" x=\"371.5\" y=\"-156.8\" font-family=\"Helvetica,sans-Serif\" font-size=\"14.00\">gini = 0.444</text>\n<text text-anchor=\"middle\" x=\"371.5\" y=\"-141.8\" font-family=\"Helvetica,sans-Serif\" font-size=\"14.00\">samples = 3</text>\n<text text-anchor=\"middle\" x=\"371.5\" y=\"-126.8\" font-family=\"Helvetica,sans-Serif\" font-size=\"14.00\">value = [0, 2, 1]</text>\n<text text-anchor=\"middle\" x=\"371.5\" y=\"-111.8\" font-family=\"Helvetica,sans-Serif\" font-size=\"14.00\">class = versicolor</text>\n</g>\n<!-- 9&#45;&gt;11 -->\n<g id=\"edge11\" class=\"edge\">\n<title>9&#45;&gt;11</title>\n<path fill=\"none\" stroke=\"black\" d=\"M367.58,-222.91C368.01,-214.56 368.47,-205.67 368.91,-197.02\"/>\n<polygon fill=\"black\" stroke=\"black\" points=\"372.41,-197.19 369.42,-187.02 365.41,-196.83 372.41,-197.19\"/>\n</g>\n<!-- 12 -->\n<g id=\"node13\" class=\"node\">\n<title>12</title>\n<polygon fill=\"none\" stroke=\"black\" points=\"365,-68 244,-68 244,0 365,0 365,-68\"/>\n<text text-anchor=\"middle\" x=\"304.5\" y=\"-52.8\" font-family=\"Helvetica,sans-Serif\" font-size=\"14.00\">gini = 0.0</text>\n<text text-anchor=\"middle\" x=\"304.5\" y=\"-37.8\" font-family=\"Helvetica,sans-Serif\" font-size=\"14.00\">samples = 2</text>\n<text text-anchor=\"middle\" x=\"304.5\" y=\"-22.8\" font-family=\"Helvetica,sans-Serif\" font-size=\"14.00\">value = [0, 2, 0]</text>\n<text text-anchor=\"middle\" x=\"304.5\" y=\"-7.8\" font-family=\"Helvetica,sans-Serif\" font-size=\"14.00\">class = versicolor</text>\n</g>\n<!-- 11&#45;&gt;12 -->\n<g id=\"edge12\" class=\"edge\">\n<title>11&#45;&gt;12</title>\n<path fill=\"none\" stroke=\"black\" d=\"M346.55,-103.73C341.19,-94.97 335.52,-85.7 330.14,-76.91\"/>\n<polygon fill=\"black\" stroke=\"black\" points=\"333.08,-75 324.88,-68.3 327.11,-78.66 333.08,-75\"/>\n</g>\n<!-- 13 -->\n<g id=\"node14\" class=\"node\">\n<title>13</title>\n<polygon fill=\"none\" stroke=\"black\" points=\"496,-68 383,-68 383,0 496,0 496,-68\"/>\n<text text-anchor=\"middle\" x=\"439.5\" y=\"-52.8\" font-family=\"Helvetica,sans-Serif\" font-size=\"14.00\">gini = 0.0</text>\n<text text-anchor=\"middle\" x=\"439.5\" y=\"-37.8\" font-family=\"Helvetica,sans-Serif\" font-size=\"14.00\">samples = 1</text>\n<text text-anchor=\"middle\" x=\"439.5\" y=\"-22.8\" font-family=\"Helvetica,sans-Serif\" font-size=\"14.00\">value = [0, 0, 1]</text>\n<text text-anchor=\"middle\" x=\"439.5\" y=\"-7.8\" font-family=\"Helvetica,sans-Serif\" font-size=\"14.00\">class = virginica</text>\n</g>\n<!-- 11&#45;&gt;13 -->\n<g id=\"edge13\" class=\"edge\">\n<title>11&#45;&gt;13</title>\n<path fill=\"none\" stroke=\"black\" d=\"M396.82,-103.73C402.26,-94.97 408.01,-85.7 413.48,-76.91\"/>\n<polygon fill=\"black\" stroke=\"black\" points=\"416.52,-78.64 418.82,-68.3 410.57,-74.95 416.52,-78.64\"/>\n</g>\n<!-- 15 -->\n<g id=\"node16\" class=\"node\">\n<title>15</title>\n<polygon fill=\"none\" stroke=\"black\" points=\"637,-306 466,-306 466,-223 637,-223 637,-306\"/>\n<text text-anchor=\"middle\" x=\"551.5\" y=\"-290.8\" font-family=\"Helvetica,sans-Serif\" font-size=\"14.00\">sepal length (cm) &lt;= 5.95</text>\n<text text-anchor=\"middle\" x=\"551.5\" y=\"-275.8\" font-family=\"Helvetica,sans-Serif\" font-size=\"14.00\">gini = 0.444</text>\n<text text-anchor=\"middle\" x=\"551.5\" y=\"-260.8\" font-family=\"Helvetica,sans-Serif\" font-size=\"14.00\">samples = 3</text>\n<text text-anchor=\"middle\" x=\"551.5\" y=\"-245.8\" font-family=\"Helvetica,sans-Serif\" font-size=\"14.00\">value = [0, 1, 2]</text>\n<text text-anchor=\"middle\" x=\"551.5\" y=\"-230.8\" font-family=\"Helvetica,sans-Serif\" font-size=\"14.00\">class = virginica</text>\n</g>\n<!-- 14&#45;&gt;15 -->\n<g id=\"edge15\" class=\"edge\">\n<title>14&#45;&gt;15</title>\n<path fill=\"none\" stroke=\"black\" d=\"M551.5,-341.91C551.5,-333.65 551.5,-324.86 551.5,-316.3\"/>\n<polygon fill=\"black\" stroke=\"black\" points=\"555,-316.02 551.5,-306.02 548,-316.02 555,-316.02\"/>\n</g>\n<!-- 18 -->\n<g id=\"node19\" class=\"node\">\n<title>18</title>\n<polygon fill=\"none\" stroke=\"black\" points=\"772,-298.5 655,-298.5 655,-230.5 772,-230.5 772,-298.5\"/>\n<text text-anchor=\"middle\" x=\"713.5\" y=\"-283.3\" font-family=\"Helvetica,sans-Serif\" font-size=\"14.00\">gini = 0.0</text>\n<text text-anchor=\"middle\" x=\"713.5\" y=\"-268.3\" font-family=\"Helvetica,sans-Serif\" font-size=\"14.00\">samples = 31</text>\n<text text-anchor=\"middle\" x=\"713.5\" y=\"-253.3\" font-family=\"Helvetica,sans-Serif\" font-size=\"14.00\">value = [0, 0, 31]</text>\n<text text-anchor=\"middle\" x=\"713.5\" y=\"-238.3\" font-family=\"Helvetica,sans-Serif\" font-size=\"14.00\">class = virginica</text>\n</g>\n<!-- 14&#45;&gt;18 -->\n<g id=\"edge18\" class=\"edge\">\n<title>14&#45;&gt;18</title>\n<path fill=\"none\" stroke=\"black\" d=\"M607.71,-341.91C624.36,-329.88 642.56,-316.73 659.1,-304.79\"/>\n<polygon fill=\"black\" stroke=\"black\" points=\"661.52,-307.36 667.58,-298.67 657.42,-301.68 661.52,-307.36\"/>\n</g>\n<!-- 16 -->\n<g id=\"node17\" class=\"node\">\n<title>16</title>\n<polygon fill=\"none\" stroke=\"black\" points=\"606,-179.5 485,-179.5 485,-111.5 606,-111.5 606,-179.5\"/>\n<text text-anchor=\"middle\" x=\"545.5\" y=\"-164.3\" font-family=\"Helvetica,sans-Serif\" font-size=\"14.00\">gini = 0.0</text>\n<text text-anchor=\"middle\" x=\"545.5\" y=\"-149.3\" font-family=\"Helvetica,sans-Serif\" font-size=\"14.00\">samples = 1</text>\n<text text-anchor=\"middle\" x=\"545.5\" y=\"-134.3\" font-family=\"Helvetica,sans-Serif\" font-size=\"14.00\">value = [0, 1, 0]</text>\n<text text-anchor=\"middle\" x=\"545.5\" y=\"-119.3\" font-family=\"Helvetica,sans-Serif\" font-size=\"14.00\">class = versicolor</text>\n</g>\n<!-- 15&#45;&gt;16 -->\n<g id=\"edge16\" class=\"edge\">\n<title>15&#45;&gt;16</title>\n<path fill=\"none\" stroke=\"black\" d=\"M549.42,-222.91C548.87,-212.2 548.28,-200.62 547.72,-189.78\"/>\n<polygon fill=\"black\" stroke=\"black\" points=\"551.21,-189.47 547.2,-179.67 544.22,-189.83 551.21,-189.47\"/>\n</g>\n<!-- 17 -->\n<g id=\"node18\" class=\"node\">\n<title>17</title>\n<polygon fill=\"none\" stroke=\"black\" points=\"737,-179.5 624,-179.5 624,-111.5 737,-111.5 737,-179.5\"/>\n<text text-anchor=\"middle\" x=\"680.5\" y=\"-164.3\" font-family=\"Helvetica,sans-Serif\" font-size=\"14.00\">gini = 0.0</text>\n<text text-anchor=\"middle\" x=\"680.5\" y=\"-149.3\" font-family=\"Helvetica,sans-Serif\" font-size=\"14.00\">samples = 2</text>\n<text text-anchor=\"middle\" x=\"680.5\" y=\"-134.3\" font-family=\"Helvetica,sans-Serif\" font-size=\"14.00\">value = [0, 0, 2]</text>\n<text text-anchor=\"middle\" x=\"680.5\" y=\"-119.3\" font-family=\"Helvetica,sans-Serif\" font-size=\"14.00\">class = virginica</text>\n</g>\n<!-- 15&#45;&gt;17 -->\n<g id=\"edge17\" class=\"edge\">\n<title>15&#45;&gt;17</title>\n<path fill=\"none\" stroke=\"black\" d=\"M596.26,-222.91C609.27,-211.1 623.48,-198.22 636.45,-186.45\"/>\n<polygon fill=\"black\" stroke=\"black\" points=\"638.88,-188.98 643.93,-179.67 634.17,-183.79 638.88,-188.98\"/>\n</g>\n</g>\n</svg>\n",
            "text/plain": [
              "<graphviz.sources.Source at 0x795e4a81c5e0>"
            ]
          },
          "metadata": {},
          "execution_count": 10
        }
      ]
    },
    {
      "cell_type": "markdown",
      "source": [
        "\tK-평균 군집분석(K-Means Clustering) 알고리즘"
      ],
      "metadata": {
        "id": "mQkMBu1uiuD1"
      }
    },
    {
      "cell_type": "code",
      "source": [
        "from sklearn.datasets import load_iris\n",
        "from sklearn.model_selection import train_test_split\n",
        "from sklearn.cluster import KMeans\n",
        "from sklearn.metrics import silhouette_score\n",
        "\n",
        "# 데이터 수집 및 전처리\n",
        "iris = load_iris()\n",
        "data_train, data_test, target_train, target_test = train_test_split(\n",
        "    iris.data, iris.target, test_size=0.2, random_state=42)\n",
        "\n",
        "# 모델 훈련\n",
        "model = KMeans(n_clusters=3,n_init=10,random_state=42)\n",
        "model.fit(data_train)\n",
        "\n",
        "# 모델 테스트\n",
        "y_pred = model.predict(data_test)\n",
        "\n",
        "# 모델 평가\n",
        "print('실데이터로 알려진 분류:\\n',target_test)\n",
        "print('모델로 예측된 분류:\\n',y_pred)\n",
        "score = silhouette_score(data_test, y_pred)\n",
        "print('Silhouette Score:',score)"
      ],
      "metadata": {
        "colab": {
          "base_uri": "https://localhost:8080/"
        },
        "id": "Z7X4AkeViyXR",
        "outputId": "66e1bdef-ec16-4b01-cf13-be65ab0beedf"
      },
      "execution_count": null,
      "outputs": [
        {
          "output_type": "stream",
          "name": "stdout",
          "text": [
            "실데이터로 알려진 분류:\n",
            " [1 0 2 1 1 0 1 2 1 1 2 0 0 0 0 1 2 1 1 2 0 2 0 2 2 2 2 2 0 0]\n",
            "모델로 예측된 분류:\n",
            " [2 0 1 2 2 0 2 1 2 2 1 0 0 0 0 2 1 2 2 1 0 2 0 1 1 1 1 1 0 0]\n",
            "Silhouette Score: 0.5749429418885253\n"
          ]
        }
      ]
    },
    {
      "cell_type": "code",
      "source": [
        "print(model.cluster_centers_)"
      ],
      "metadata": {
        "colab": {
          "base_uri": "https://localhost:8080/"
        },
        "id": "njdRP-9CI_xV",
        "outputId": "fbe04cec-4dcc-41a0-b733-9b083dd30cde"
      },
      "execution_count": null,
      "outputs": [
        {
          "output_type": "stream",
          "name": "stdout",
          "text": [
            "[[4.99       3.4525     1.45       0.245     ]\n",
            " [6.85517241 3.10344828 5.70689655 2.02068966]\n",
            " [5.85686275 2.73137255 4.38627451 1.44313725]]\n"
          ]
        }
      ]
    },
    {
      "cell_type": "code",
      "source": [
        "import matplotlib.pyplot as plt\n",
        "\n",
        "sepal_length = data_test[:,0]\n",
        "sepal_width = data_test[:,1]\n",
        "petal_length = data_test[:,2]\n",
        "petal_width = data_test[:,3]\n",
        "\n",
        "sepal_length_cluster_center = model.cluster_centers_[:,0]\n",
        "sepal_width_cluster_center = model.cluster_centers_[:,1]\n",
        "petal_length_cluster_center = model.cluster_centers_[:,2]\n",
        "petal_width_cluster_center = model.cluster_centers_[:,3]\n",
        "\n",
        "plt.subplot(2,1,1)\n",
        "plt.scatter(sepal_length,sepal_width,c=y_pred)\n",
        "plt.title('IRIS Clustering - Predicted y (y_pred)')\n",
        "plt.plot(sepal_length_cluster_center,sepal_width_cluster_center,\n",
        "         'rd',label='Cluster Center')\n",
        "plt.legend()\n",
        "plt.xlabel('Sepal Length')\n",
        "plt.ylabel('Sepal Width')\n",
        "plt.grid()\n",
        "\n",
        "plt.subplot(2,1,2)\n",
        "plt.scatter(petal_length,petal_width,c=y_pred)\n",
        "plt.plot(petal_length_cluster_center,petal_width_cluster_center,\n",
        "         'rd',label='Cluster Center')\n",
        "plt.legend()\n",
        "plt.xlabel('Petal Length')\n",
        "plt.ylabel('Petal Width')\n",
        "plt.grid()\n",
        "\n",
        "plt.tight_layout()\n",
        "plt.show()"
      ],
      "metadata": {
        "colab": {
          "base_uri": "https://localhost:8080/",
          "height": 486
        },
        "id": "ZM67RRBMDo5a",
        "outputId": "ac3594ae-e479-4de3-d7d5-fd0aeb6c6d18"
      },
      "execution_count": null,
      "outputs": [
        {
          "output_type": "display_data",
          "data": {
            "text/plain": [
              "<Figure size 640x480 with 2 Axes>"
            ],
            "image/png": "[encoded data removed]"
          },
          "metadata": {}
        }
      ]
    },
    {
      "cell_type": "code",
      "source": [
        "import matplotlib.pyplot as plt\n",
        "\n",
        "sepal_length = data_test[:,0]\n",
        "sepal_width = data_test[:,1]\n",
        "petal_length = data_test[:,2]\n",
        "petal_width = data_test[:,3]\n",
        "\n",
        "sepal_length_cluster_center = model.cluster_centers_[:,0]\n",
        "sepal_width_cluster_center = model.cluster_centers_[:,1]\n",
        "petal_length_cluster_center = model.cluster_centers_[:,2]\n",
        "petal_width_cluster_center = model.cluster_centers_[:,3]\n",
        "\n",
        "plt.subplot(2,1,1)\n",
        "plt.scatter(sepal_length,sepal_width,c=target_test)\n",
        "plt.title('IRIS Clustering - Label y (target_test)')\n",
        "plt.plot(sepal_length_cluster_center,sepal_width_cluster_center,\n",
        "         'rd',label='Cluster Center')\n",
        "plt.legend()\n",
        "plt.xlabel('Sepal Length')\n",
        "plt.ylabel('Sepal Width')\n",
        "plt.grid()\n",
        "\n",
        "plt.subplot(2,1,2)\n",
        "plt.scatter(petal_length,petal_width,c=target_test)\n",
        "plt.plot(petal_length_cluster_center,petal_width_cluster_center,\n",
        "         'rd',label='Cluster Center')\n",
        "plt.legend()\n",
        "plt.xlabel('Petal Length')\n",
        "plt.ylabel('Petal Width')\n",
        "plt.grid()\n",
        "\n",
        "plt.tight_layout()\n",
        "plt.show()"
      ],
      "metadata": {
        "colab": {
          "base_uri": "https://localhost:8080/",
          "height": 486
        },
        "id": "TwGiqkOkG4Cf",
        "outputId": "562e33b3-1a29-4792-80bf-47517163cdc0"
      },
      "execution_count": null,
      "outputs": [
        {
          "output_type": "display_data",
          "data": {
            "text/plain": [
              "<Figure size 640x480 with 2 Axes>"
            ],
            "image/png": "[encoded data removed]"
          },
          "metadata": {}
        }
      ]
    }
  ]
}