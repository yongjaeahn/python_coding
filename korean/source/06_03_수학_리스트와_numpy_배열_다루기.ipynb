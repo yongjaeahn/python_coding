{
  "nbformat": 4,
  "nbformat_minor": 0,
  "metadata": {
    "colab": {
      "provenance": [],
      "authorship_tag": "ABX9TyMfl1Q8vFV4eoiVR1QTwify",
      "include_colab_link": true
    },
    "kernelspec": {
      "name": "python3",
      "display_name": "Python 3"
    },
    "language_info": {
      "name": "python"
    }
  },
  "cells": [
    {
      "cell_type": "markdown",
      "metadata": {
        "id": "view-in-github",
        "colab_type": "text"
      },
      "source": [
        "<a href=\"https://colab.research.google.com/github/yongjaeahn/PythonCoding/blob/main/korean/source/06_03_%EC%88%98%ED%95%99_%EB%A6%AC%EC%8A%A4%ED%8A%B8%EC%99%80_numpy_%EB%B0%B0%EC%97%B4_%EB%8B%A4%EB%A3%A8%EA%B8%B0.ipynb\" target=\"_parent\"><img src=\"https://colab.research.google.com/assets/colab-badge.svg\" alt=\"Open In Colab\"/></a>"
      ]
    },
    {
      "cell_type": "markdown",
      "source": [
        "\t리스트와 numpy 배열 다루기"
      ],
      "metadata": {
        "id": "B5JBGfgXzMho"
      }
    },
    {
      "cell_type": "markdown",
      "source": [
        "형상 확인"
      ],
      "metadata": {
        "id": "0BljQojHzRCo"
      }
    },
    {
      "cell_type": "code",
      "source": [
        "import numpy as np\n",
        "\n",
        "listVector = [1,2,3,4,5] \n",
        "arrayVector = np.arange(1,6)\n",
        "print(\"arrayVector :\", arrayVector)\n",
        "\n",
        "print(\"len(listVector) :\", len(listVector))\n",
        "print(\"len(arrayVector) :\", len(arrayVector))"
      ],
      "metadata": {
        "colab": {
          "base_uri": "https://localhost:8080/"
        },
        "id": "bjdynW-l_XmH",
        "outputId": "b0fe3d72-7270-424c-d7d2-0c88d47588bd"
      },
      "execution_count": null,
      "outputs": [
        {
          "output_type": "stream",
          "name": "stdout",
          "text": [
            "arrayVector : [1 2 3 4 5]\n",
            "len(listVector) : 5\n",
            "len(arrayVector) : 5\n"
          ]
        }
      ]
    },
    {
      "cell_type": "code",
      "source": [
        "import numpy as np\n",
        "\n",
        "listMatrix2d = [[1,2,3],[4,5,6]]\n",
        "arrayMatrix2d = np.arange(1,7).reshape(2,3)\n",
        "print(\"arrayMatrix2d :\\n\", arrayMatrix2d)\n",
        "\n",
        "print(\"np.ndim(listMatrix2d) :\", np.ndim(listMatrix2d))\n",
        "print(\"np.ndim(arrayMatrix2d) :\", np.ndim(arrayMatrix2d))\n",
        "print(\"np.size(listMatrix2d) :\", np.size(listMatrix2d))\n",
        "print(\"np.size(arrayMatrix2d) :\", np.size(arrayMatrix2d))\n",
        "print(\"np.shape(listMatrix2d) :\", np.shape(listMatrix2d))\n",
        "print(\"np.shape(arrayMatrix2d) :\", np.shape(arrayMatrix2d))"
      ],
      "metadata": {
        "colab": {
          "base_uri": "https://localhost:8080/"
        },
        "id": "8pHWqsoYo2zn",
        "outputId": "a4d518a1-eab2-4e87-9e61-ec5141bbeb66"
      },
      "execution_count": null,
      "outputs": [
        {
          "output_type": "stream",
          "name": "stdout",
          "text": [
            "arrayMatrix2d :\n",
            " [[1 2 3]\n",
            " [4 5 6]]\n",
            "np.ndim(listMatrix2d) : 2\n",
            "np.ndim(arrayMatrix2d) : 2\n",
            "np.size(listMatrix2d) : 6\n",
            "np.size(arrayMatrix2d) : 6\n",
            "np.shape(listMatrix2d) : (2, 3)\n",
            "np.shape(arrayMatrix2d) : (2, 3)\n"
          ]
        }
      ]
    },
    {
      "cell_type": "code",
      "source": [
        "import numpy as np\n",
        "\n",
        "arrayMatrix2d = np.arange(1,7).reshape(2,3)\n",
        "print(\"arrayMatrix2d :\\n\", arrayMatrix2d)\n",
        "\n",
        "print(\"arrayMatrix2d.ndim :\", arrayMatrix2d.ndim)\n",
        "print(\"arrayMatrix2d.size :\", arrayMatrix2d.size)\n",
        "print(\"arrayMatrix2d.shape :\", arrayMatrix2d.shape)\n",
        "print(\"arrayMatrix2d.shape :\", arrayMatrix2d.len)"
      ],
      "metadata": {
        "colab": {
          "base_uri": "https://localhost:8080/",
          "height": 325
        },
        "id": "--JcQFOKbj4-",
        "outputId": "97fa7a42-6335-42b6-bcc7-98446dfc185c"
      },
      "execution_count": 4,
      "outputs": [
        {
          "output_type": "stream",
          "name": "stdout",
          "text": [
            "arrayMatrix2d :\n",
            " [[1 2 3]\n",
            " [4 5 6]]\n",
            "arrayMatrix2d.ndim : 2\n",
            "arrayMatrix2d.size : 6\n",
            "arrayMatrix2d.shape : (2, 3)\n"
          ]
        },
        {
          "output_type": "error",
          "ename": "AttributeError",
          "evalue": "ignored",
          "traceback": [
            "\u001b[0;31m---------------------------------------------------------------------------\u001b[0m",
            "\u001b[0;31mAttributeError\u001b[0m                            Traceback (most recent call last)",
            "\u001b[0;32m<ipython-input-4-b5eec6071ae2>\u001b[0m in \u001b[0;36m<cell line: 9>\u001b[0;34m()\u001b[0m\n\u001b[1;32m      7\u001b[0m \u001b[0mprint\u001b[0m\u001b[0;34m(\u001b[0m\u001b[0;34m\"arrayMatrix2d.size :\"\u001b[0m\u001b[0;34m,\u001b[0m \u001b[0marrayMatrix2d\u001b[0m\u001b[0;34m.\u001b[0m\u001b[0msize\u001b[0m\u001b[0;34m)\u001b[0m\u001b[0;34m\u001b[0m\u001b[0;34m\u001b[0m\u001b[0m\n\u001b[1;32m      8\u001b[0m \u001b[0mprint\u001b[0m\u001b[0;34m(\u001b[0m\u001b[0;34m\"arrayMatrix2d.shape :\"\u001b[0m\u001b[0;34m,\u001b[0m \u001b[0marrayMatrix2d\u001b[0m\u001b[0;34m.\u001b[0m\u001b[0mshape\u001b[0m\u001b[0;34m)\u001b[0m\u001b[0;34m\u001b[0m\u001b[0;34m\u001b[0m\u001b[0m\n\u001b[0;32m----> 9\u001b[0;31m \u001b[0mprint\u001b[0m\u001b[0;34m(\u001b[0m\u001b[0;34m\"arrayMatrix2d.shape :\"\u001b[0m\u001b[0;34m,\u001b[0m \u001b[0marrayMatrix2d\u001b[0m\u001b[0;34m.\u001b[0m\u001b[0mlen\u001b[0m\u001b[0;34m)\u001b[0m\u001b[0;34m\u001b[0m\u001b[0;34m\u001b[0m\u001b[0m\n\u001b[0m",
            "\u001b[0;31mAttributeError\u001b[0m: 'numpy.ndarray' object has no attribute 'len'"
          ]
        }
      ]
    },
    {
      "cell_type": "code",
      "source": [
        "shape = np.shape(arrayMatrix2d)\n",
        "print(\"type(shape) :\", type(shape))\n",
        "print(\"행의 길이 (shape[0]) :\", shape[0], \", 열의 길이 (shape[1]) :\", shape[1])\n",
        "\n",
        "rowLen, columnLen = np.shape(arrayMatrix2d)\n",
        "print(\"type(rowLen) :\", type(rowLen), \"type(columnLen) :\", type(columnLen))\n",
        "print(\"행의 길이 (rowLen) :\", rowLen, \", 열의 길이 (columnLen) :\", columnLen)"
      ],
      "metadata": {
        "colab": {
          "base_uri": "https://localhost:8080/"
        },
        "id": "5hnvsBN15EAB",
        "outputId": "8f39ec29-9188-4ac5-ccd3-4f170c8a1af7"
      },
      "execution_count": null,
      "outputs": [
        {
          "output_type": "stream",
          "name": "stdout",
          "text": [
            "type(shape) : <class 'tuple'>\n",
            "행의 길이 (shape[0]) : 2 , 열의 길이 (shape[1]) : 3\n",
            "type(rowLen) : <class 'int'> type(columnLen) : <class 'int'>\n",
            "행의 길이 (rowLen) : 2 , 열의 길이 (columnLen) : 3\n"
          ]
        }
      ]
    },
    {
      "cell_type": "code",
      "source": [
        "import numpy as np\n",
        "\n",
        "arrayMatrix3d = np.arange(1,25).reshape(2,4,3)\n",
        "print(\"arrayMatrix3d :\\n\", arrayMatrix3d)\n",
        "print(\"np.shape(arrayMatrix3d) :\", np.shape(arrayMatrix3d))\n",
        "\n",
        "shape = np.shape(arrayMatrix3d)\n",
        "print(\"x축의 길이 :\", shape[0], \", y축의 길이 :\", shape[1], \", z축의 길이 :\", shape[2])\n",
        "\n",
        "xLen, yLen, zLen = np.shape(arrayMatrix3d)\n",
        "print(\"x축의 길이 :\", xLen, \", y축의 길이 :\", yLen, \", z축의 길이 :\", zLen)"
      ],
      "metadata": {
        "colab": {
          "base_uri": "https://localhost:8080/"
        },
        "id": "-ppm8dXgfE7p",
        "outputId": "7d03a1a4-4d19-4b1d-fcc6-4a912551c73b"
      },
      "execution_count": null,
      "outputs": [
        {
          "output_type": "stream",
          "name": "stdout",
          "text": [
            "arrayMatrix3d :\n",
            " [[[ 1  2  3]\n",
            "  [ 4  5  6]\n",
            "  [ 7  8  9]\n",
            "  [10 11 12]]\n",
            "\n",
            " [[13 14 15]\n",
            "  [16 17 18]\n",
            "  [19 20 21]\n",
            "  [22 23 24]]]\n",
            "np.shape(arrayMatrix3d) : (2, 4, 3)\n",
            "x축의 길이 : 2 , y축의 길이 : 4 , z축의 길이 : 3\n",
            "x축의 길이 : 2 , y축의 길이 : 4 , z축의 길이 : 3\n"
          ]
        }
      ]
    },
    {
      "cell_type": "code",
      "source": [
        "for length in shape:\n",
        "    print(\"길이 :\", length)\n",
        "\n",
        "for i in range(len(shape)):\n",
        "    print(i+1, \"차원 길이 :\", shape[i])"
      ],
      "metadata": {
        "colab": {
          "base_uri": "https://localhost:8080/"
        },
        "id": "--muULUGL2IK",
        "outputId": "24c5c43e-fe44-45e9-f631-14b9ba917d0c"
      },
      "execution_count": null,
      "outputs": [
        {
          "output_type": "stream",
          "name": "stdout",
          "text": [
            "길이 : 2\n",
            "길이 : 4\n",
            "길이 : 3\n",
            "1 차원 길이 : 2\n",
            "2 차원 길이 : 4\n",
            "3 차원 길이 : 3\n"
          ]
        }
      ]
    },
    {
      "cell_type": "code",
      "source": [
        "print(\"enumerate(shape) :\", list(enumerate(shape)))\n",
        "\n",
        "for i, dim in enumerate(shape):\n",
        "    print(i+1, \"차원 길이 :\", dim)"
      ],
      "metadata": {
        "colab": {
          "base_uri": "https://localhost:8080/"
        },
        "id": "azo05KnVLGlk",
        "outputId": "1ce8b62c-6877-47c9-dba7-9bb92ab46f70"
      },
      "execution_count": null,
      "outputs": [
        {
          "output_type": "stream",
          "name": "stdout",
          "text": [
            "enumerate(shape) : [(0, 2), (1, 4), (2, 3)]\n",
            "1 차원 길이 : 2\n",
            "2 차원 길이 : 4\n",
            "3 차원 길이 : 3\n"
          ]
        }
      ]
    },
    {
      "cell_type": "code",
      "source": [
        "print(\"3차원 행렬 :\\n\", arrayMatrix3d)\n",
        "print(\"하부 2차원 행렬 :\\n\", arrayMatrix3d[0])\n",
        "print(\"하부 1차원 행렬(벡터) :\\n\", arrayMatrix3d[0][0])"
      ],
      "metadata": {
        "colab": {
          "base_uri": "https://localhost:8080/"
        },
        "id": "nDZ7RhL9WAU_",
        "outputId": "2e6b53e9-fe0f-439c-cf2d-c7cfe7bebe0f"
      },
      "execution_count": null,
      "outputs": [
        {
          "output_type": "stream",
          "name": "stdout",
          "text": [
            "3차원 행렬 :\n",
            " [[[ 1  2  3]\n",
            "  [ 4  5  6]\n",
            "  [ 7  8  9]\n",
            "  [10 11 12]]\n",
            "\n",
            " [[13 14 15]\n",
            "  [16 17 18]\n",
            "  [19 20 21]\n",
            "  [22 23 24]]]\n",
            "하부 2차원 행렬 :\n",
            " [[ 1  2  3]\n",
            " [ 4  5  6]\n",
            " [ 7  8  9]\n",
            " [10 11 12]]\n",
            "하부 1차원 행렬(벡터) :\n",
            " [1 2 3]\n"
          ]
        }
      ]
    },
    {
      "cell_type": "code",
      "source": [
        "print(\"1차원 길이 :\", len(arrayMatrix3d))\n",
        "print(\"2차원 길이 :\", len(arrayMatrix3d[0]))\n",
        "print(\"3차원 길이 :\", len(arrayMatrix3d[0][0]))"
      ],
      "metadata": {
        "colab": {
          "base_uri": "https://localhost:8080/"
        },
        "id": "KTDIbcmsd-Xo",
        "outputId": "8de49466-1c62-47aa-d7bc-cddeadd77cbc"
      },
      "execution_count": null,
      "outputs": [
        {
          "output_type": "stream",
          "name": "stdout",
          "text": [
            "1차원 길이 : 2\n",
            "2차원 길이 : 4\n",
            "3차원 길이 : 3\n"
          ]
        }
      ]
    },
    {
      "cell_type": "code",
      "source": [
        "returnedValues = (40,50,60)\n",
        "print(\"returnedValues : \", returnedValues)"
      ],
      "metadata": {
        "colab": {
          "base_uri": "https://localhost:8080/"
        },
        "id": "PidubU31uXlH",
        "outputId": "b6e7ef85-9aa0-44f2-b5eb-2c7b54604d48"
      },
      "execution_count": null,
      "outputs": [
        {
          "output_type": "stream",
          "name": "stdout",
          "text": [
            "returnedValues :  (40, 50, 60)\n"
          ]
        }
      ]
    },
    {
      "cell_type": "markdown",
      "source": [
        "생성"
      ],
      "metadata": {
        "id": "Pjc8F9mwBRkX"
      }
    },
    {
      "cell_type": "markdown",
      "source": [
        "조회"
      ],
      "metadata": {
        "id": "6xBkDAAABUKF"
      }
    },
    {
      "cell_type": "code",
      "source": [
        "import numpy as np\n",
        "\n",
        "listVector = [1,2,3,4,5,6,7,8,9,10]\n",
        "arrayVector = np.array([1,2,3,4,5,6,7,8,9,10])\n",
        "\n",
        "print(\"첫 요소 :\", listVector[0], arrayVector[0])\n",
        "print(\"마지막 요소 :\", listVector[-1], arrayVector[-1])\n",
        "print(\"3~7번째 요소 :\", listVector[2:7], arrayVector[2:7])\n",
        "print(\"1~7번째 요소 :\", listVector[:7], arrayVector[:7])\n",
        "print(\"7번째~마지막 요소 :\", listVector[6:], arrayVector[6:])\n",
        "print(\"2~8번째 요소 중 짝수번째 요소 : \", listVector[1:8:2], arrayVector[1:8:2])\n",
        "print(\"마지막에서 2~8번째 요소 중 짝수번째 요소 :\", listVector[-2:-9:-2], arrayVector[-2:-9:-2])\n",
        "print(\"전체 요소 중 홀수번째 요소 :\",listVector[::2], arrayVector[::2])"
      ],
      "metadata": {
        "colab": {
          "base_uri": "https://localhost:8080/"
        },
        "id": "mgW7uXTE9Tjy",
        "outputId": "f4e4fc67-044c-4e7e-db97-29c72907a521"
      },
      "execution_count": null,
      "outputs": [
        {
          "output_type": "stream",
          "name": "stdout",
          "text": [
            "첫 요소 : 1 1\n",
            "마지막 요소 : 10 10\n",
            "3~7번째 요소 : [3, 4, 5, 6, 7] [3 4 5 6 7]\n",
            "1~7번째 요소 : [1, 2, 3, 4, 5, 6, 7] [1 2 3 4 5 6 7]\n",
            "7번째~마지막 요소 : [7, 8, 9, 10] [ 7  8  9 10]\n",
            "2~8번째 요소 중 짝수번째 요소 :  [2, 4, 6, 8] [2 4 6 8]\n",
            "마지막에서 2~8번째 요소 중 짝수번째 요소 : [9, 7, 5, 3] [9 7 5 3]\n",
            "전체 요소 중 홀수번째 요소 : [1, 3, 5, 7, 9] [1 3 5 7 9]\n"
          ]
        }
      ]
    },
    {
      "cell_type": "code",
      "source": [
        "print(\"첫 3개의 요소와 마지막 3개의 요소 : \", arrayVector[[0,1,2,-1,-2,-3]])"
      ],
      "metadata": {
        "colab": {
          "base_uri": "https://localhost:8080/"
        },
        "id": "e1OM5lqymbnr",
        "outputId": "d4f5d5d7-2b7c-45dd-949f-3dcd1c5d3c91"
      },
      "execution_count": null,
      "outputs": [
        {
          "output_type": "stream",
          "name": "stdout",
          "text": [
            "첫 3개의 요소와 마지막 3개의 요소 :  [ 1  2  3 10  9  8]\n"
          ]
        }
      ]
    },
    {
      "cell_type": "code",
      "source": [
        "sampleString = \"긴 문자열입니다.\"\n",
        "print(sampleString[2:5])"
      ],
      "metadata": {
        "colab": {
          "base_uri": "https://localhost:8080/"
        },
        "id": "GvK73S3oFBk4",
        "outputId": "374dc69b-7e31-45fc-9984-9057bdfdf9ca"
      },
      "execution_count": null,
      "outputs": [
        {
          "output_type": "stream",
          "name": "stdout",
          "text": [
            "문자열\n"
          ]
        }
      ]
    },
    {
      "cell_type": "code",
      "source": [
        "import numpy as np\n",
        "\n",
        "listMatrix2d = [[1,2,3,4,5],[6,7,8,9,10],[11,12,13,14,15],[16,17,18,19,20],[21,22,23,24,25]]\n",
        "arrayMatrix2d = np.array([[1,2,3,4,5],[6,7,8,9,10],[11,12,13,14,15],[16,17,18,19,20],[21,22,23,24,25]])\n",
        "print(\"arrayMatrix2d :\\n\", arrayMatrix2d)\n",
        "\n",
        "print(\"첫 요소 :\", listMatrix2d[0][0], arrayMatrix2d[0][0], arrayMatrix2d[0,0])\n",
        "print(\"2행 3열 요소 :\", listMatrix2d[1][2], arrayMatrix2d[1][2], arrayMatrix2d[1,2])\n",
        "print(\"마지막 요소 :\", listMatrix2d[-1][-1], arrayMatrix2d[-1][-1], arrayMatrix2d[-1,-1])"
      ],
      "metadata": {
        "colab": {
          "base_uri": "https://localhost:8080/"
        },
        "id": "nlml7JP-DPQV",
        "outputId": "d7ac4cb5-5fcd-4758-92b6-da3bbf5c72f7"
      },
      "execution_count": null,
      "outputs": [
        {
          "output_type": "stream",
          "name": "stdout",
          "text": [
            "arrayMatrix2d :\n",
            " [[ 1  2  3  4  5]\n",
            " [ 6  7  8  9 10]\n",
            " [11 12 13 14 15]\n",
            " [16 17 18 19 20]\n",
            " [21 22 23 24 25]]\n",
            "첫 요소 : 1 1 1\n",
            "2행 3열 요소 : 8 8 8\n",
            "마지막 요소 : 25 25 25\n"
          ]
        }
      ]
    },
    {
      "cell_type": "code",
      "source": [
        "print(\"1행벡터 :\", listMatrix2d[0], arrayMatrix2d[0])\n",
        "print(\"3행벡터 :\", listMatrix2d[2][:], arrayMatrix2d[2][:])\n",
        "print(\"2~4행벡터(리스트) :\", listMatrix2d[1:4])\n",
        "print(\"2~4행벡터(배열) :\\n\", arrayMatrix2d[1:4,:])"
      ],
      "metadata": {
        "colab": {
          "base_uri": "https://localhost:8080/"
        },
        "id": "Bw8zsikTIYhH",
        "outputId": "d72b672c-78d2-4348-eca7-744bd0a550cd"
      },
      "execution_count": null,
      "outputs": [
        {
          "output_type": "stream",
          "name": "stdout",
          "text": [
            "1행벡터 : [1, 2, 3, 4, 5] [1 2 3 4 5]\n",
            "3행벡터 : [11, 12, 13, 14, 15] [11 12 13 14 15]\n",
            "2~4행벡터(리스트) : [[6, 7, 8, 9, 10], [11, 12, 13, 14, 15], [16, 17, 18, 19, 20]]\n",
            "2~4행벡터(배열) :\n",
            " [[ 6  7  8  9 10]\n",
            " [11 12 13 14 15]\n",
            " [16 17 18 19 20]]\n"
          ]
        }
      ]
    },
    {
      "cell_type": "code",
      "source": [
        "print(\"1열벡터 :\", listMatrix2d[:][0], arrayMatrix2d[:][0])\n",
        "print(\"3열벡터 :\", listMatrix2d[:][2], arrayMatrix2d[:][2])\n",
        "print(\"2~4열벡터(리스트) :\", listMatrix2d[:][1:4])\n",
        "print(\"2~4열벡터(배열) :\\n\", arrayMatrix2d[:][1:4])"
      ],
      "metadata": {
        "colab": {
          "base_uri": "https://localhost:8080/"
        },
        "id": "LDCZjzkpK6gd",
        "outputId": "b2330c09-a2df-4ebf-ab25-20c80a8f8e5f"
      },
      "execution_count": null,
      "outputs": [
        {
          "output_type": "stream",
          "name": "stdout",
          "text": [
            "1열벡터 : [1, 2, 3, 4, 5] [1 2 3 4 5]\n",
            "3열벡터 : [11, 12, 13, 14, 15] [11 12 13 14 15]\n",
            "2~4열벡터(리스트) : [[6, 7, 8, 9, 10], [11, 12, 13, 14, 15], [16, 17, 18, 19, 20]]\n",
            "2~4열벡터(배열) :\n",
            " [[ 6  7  8  9 10]\n",
            " [11 12 13 14 15]\n",
            " [16 17 18 19 20]]\n"
          ]
        }
      ]
    },
    {
      "cell_type": "code",
      "source": [
        "print(\"1열벡터 :\", arrayMatrix2d[:,0])\n",
        "print(\"3열벡터 :\", arrayMatrix2d[:,2])\n",
        "print(\"2~4열벡터(배열) :\\n\", arrayMatrix2d[:,1:4])"
      ],
      "metadata": {
        "colab": {
          "base_uri": "https://localhost:8080/"
        },
        "id": "VBnz0M2IN-sL",
        "outputId": "98c1492c-f9aa-4602-8b89-de3a60afd3a4"
      },
      "execution_count": null,
      "outputs": [
        {
          "output_type": "stream",
          "name": "stdout",
          "text": [
            "1열벡터 : [ 1  6 11 16 21]\n",
            "3열벡터 : [ 3  8 13 18 23]\n",
            "2~4열벡터(배열) :\n",
            " [[ 2  3  4]\n",
            " [ 7  8  9]\n",
            " [12 13 14]\n",
            " [17 18 19]\n",
            " [22 23 24]]\n"
          ]
        }
      ]
    },
    {
      "cell_type": "code",
      "source": [
        "print(\"2~3 행 슬라이싱(1:3) + 2~4 열 슬라이싱(1:4) :\\n\", arrayMatrix2d[1:3,1:4])"
      ],
      "metadata": {
        "colab": {
          "base_uri": "https://localhost:8080/"
        },
        "id": "WlCyRYQ8ZFGa",
        "outputId": "567e2117-cd93-4042-f144-555a78160d6d"
      },
      "execution_count": null,
      "outputs": [
        {
          "output_type": "stream",
          "name": "stdout",
          "text": [
            "2~3 행 슬라이싱(1:3) + 2~4 열 슬라이싱(1:4) :\n",
            " [[ 7  8  9]\n",
            " [12 13 14]]\n"
          ]
        }
      ]
    },
    {
      "cell_type": "code",
      "source": [
        "print(\"첫 3개의 요소와 마지막 3개의 요소 : \", arrayMatrix2d[[0,0,0,-1,-1,-1],[0,1,2,-1,-2,-3]])"
      ],
      "metadata": {
        "colab": {
          "base_uri": "https://localhost:8080/"
        },
        "id": "e_VYrqtTot6S",
        "outputId": "13611dca-1a48-468b-86f0-97150679360c"
      },
      "execution_count": null,
      "outputs": [
        {
          "output_type": "stream",
          "name": "stdout",
          "text": [
            "첫 3개의 요소와 마지막 3개의 요소 :  [ 1  2  3 25 24 23]\n"
          ]
        }
      ]
    },
    {
      "cell_type": "code",
      "source": [
        "print(arrayMatrix2d < 10)"
      ],
      "metadata": {
        "colab": {
          "base_uri": "https://localhost:8080/"
        },
        "id": "k9CnreA5f8XF",
        "outputId": "f98c7264-d4b4-454d-c241-5eda8c0b58d9"
      },
      "execution_count": null,
      "outputs": [
        {
          "output_type": "stream",
          "name": "stdout",
          "text": [
            "[[ True  True  True  True  True]\n",
            " [ True  True  True  True False]\n",
            " [False False False False False]\n",
            " [False False False False False]\n",
            " [False False False False False]]\n"
          ]
        }
      ]
    },
    {
      "cell_type": "code",
      "source": [
        "print(arrayMatrix2d[arrayMatrix2d < 10])\n",
        "\n",
        "mask = arrayMatrix2d < 10\n",
        "print(arrayMatrix2d[mask])"
      ],
      "metadata": {
        "colab": {
          "base_uri": "https://localhost:8080/"
        },
        "id": "k2nIajJgvQ6b",
        "outputId": "c0b68a99-4fc6-489d-97d5-7573cbdbd029"
      },
      "execution_count": null,
      "outputs": [
        {
          "output_type": "stream",
          "name": "stdout",
          "text": [
            "[1 2 3 4 5 6 7 8 9]\n",
            "[1 2 3 4 5 6 7 8 9]\n"
          ]
        }
      ]
    },
    {
      "cell_type": "code",
      "source": [
        "mask = (arrayMatrix2d < 10) | (arrayMatrix2d > 20)\n",
        "print(arrayMatrix2d[mask])"
      ],
      "metadata": {
        "colab": {
          "base_uri": "https://localhost:8080/"
        },
        "id": "DSCYnZ0TzNbl",
        "outputId": "53514a49-292c-4112-c589-014082302165"
      },
      "execution_count": null,
      "outputs": [
        {
          "output_type": "stream",
          "name": "stdout",
          "text": [
            "[ 1  2  3  4  5  6  7  8  9 21 22 23 24 25]\n"
          ]
        }
      ]
    },
    {
      "cell_type": "code",
      "source": [
        "import numpy as np\n",
        "\n",
        "subjects = np.array([\"학번\",\"국어\",\"영어\",\"수학\",\"사탐\",\"과탐\"])\n",
        "scores = np.array([[1,90,80,95,100,95],[2,100,80,85,90,95],[3,95,100,80,85,90],[4,80,95,100,90,85],[5,85,80,90,100,95]])\n",
        "print(\"성적 :\\n\", scores)\n",
        "\n",
        "maskColumn = (subjects == \"학번\") | (subjects == \"수학\") | (subjects == \"과탐\")\n",
        "print(scores[:,maskColumn])"
      ],
      "metadata": {
        "colab": {
          "base_uri": "https://localhost:8080/"
        },
        "id": "DIOk4XIW334C",
        "outputId": "e715ac36-9d91-4dab-d47d-9f044a16f174"
      },
      "execution_count": null,
      "outputs": [
        {
          "output_type": "stream",
          "name": "stdout",
          "text": [
            "성적 :\n",
            " [[  1  90  80  95 100  95]\n",
            " [  2 100  80  85  90  95]\n",
            " [  3  95 100  80  85  90]\n",
            " [  4  80  95 100  90  85]\n",
            " [  5  85  80  90 100  95]]\n",
            "[[  1  95  95]\n",
            " [  2  85  95]\n",
            " [  3  80  90]\n",
            " [  4 100  85]\n",
            " [  5  90  95]]\n"
          ]
        }
      ]
    },
    {
      "cell_type": "code",
      "source": [
        "maskRow = scores[:,4] == 100\n",
        "print(maskRow)\n",
        "print(scores[maskRow])"
      ],
      "metadata": {
        "colab": {
          "base_uri": "https://localhost:8080/"
        },
        "id": "pmsoD9E_IHfz",
        "outputId": "84b1135b-d024-4182-e222-5937d13332bb"
      },
      "execution_count": null,
      "outputs": [
        {
          "output_type": "stream",
          "name": "stdout",
          "text": [
            "[ True False False False  True]\n",
            "[[  1  90  80  95 100  95]\n",
            " [  5  85  80  90 100  95]]\n"
          ]
        }
      ]
    },
    {
      "cell_type": "code",
      "source": [
        "import numpy as np\n",
        "\n",
        "employeeList = [320811, \"안용제\", \"010-1234-5678\", \"서울시 영등포구 당산동\", 99.5]\n",
        "print(\"리스트(list) : \", employeeList)\n",
        "\n",
        "employeeArray = np.array([320811, \"안용제\", \"010-1234-5678\", \"서울시 영등포구 당산동\", 99.5])\n",
        "print(\"배열(array) : \", employeeArray)"
      ],
      "metadata": {
        "colab": {
          "base_uri": "https://localhost:8080/"
        },
        "id": "5Mb4dyGu2wBg",
        "outputId": "97de0e82-0665-4ffe-88b7-80f5e9044d2b"
      },
      "execution_count": null,
      "outputs": [
        {
          "output_type": "stream",
          "name": "stdout",
          "text": [
            "리스트(list) :  [320811, '안용제', '010-1234-5678', '서울시 영등포구 당산동', 99.5]\n",
            "배열(array) :  ['320811' '안용제' '010-1234-5678' '서울시 영등포구 당산동' '99.5']\n"
          ]
        }
      ]
    },
    {
      "cell_type": "code",
      "source": [
        "print(\"리스트의 성적 - 10 : \", employeeList[4] - 10)\n",
        "\n",
        "print(\"배열의 성적 - 10 : \", employeeArray[4] - 10)"
      ],
      "metadata": {
        "colab": {
          "base_uri": "https://localhost:8080/",
          "height": 232
        },
        "id": "2BlqvImVJyzY",
        "outputId": "b11ec1da-4fc9-43d0-ed7d-9080eabc4e02"
      },
      "execution_count": null,
      "outputs": [
        {
          "output_type": "stream",
          "name": "stdout",
          "text": [
            "리스트의 성적 - 10 :  89.5\n"
          ]
        },
        {
          "output_type": "error",
          "ename": "TypeError",
          "evalue": "ignored",
          "traceback": [
            "\u001b[0;31m---------------------------------------------------------------------------\u001b[0m",
            "\u001b[0;31mTypeError\u001b[0m                                 Traceback (most recent call last)",
            "\u001b[0;32m<ipython-input-3-2cc896dd69e4>\u001b[0m in \u001b[0;36m<module>\u001b[0;34m\u001b[0m\n\u001b[1;32m      1\u001b[0m \u001b[0mprint\u001b[0m\u001b[0;34m(\u001b[0m\u001b[0;34m\"리스트의 성적 - 10 : \"\u001b[0m\u001b[0;34m,\u001b[0m \u001b[0memployeeList\u001b[0m\u001b[0;34m[\u001b[0m\u001b[0;36m4\u001b[0m\u001b[0;34m]\u001b[0m \u001b[0;34m-\u001b[0m \u001b[0;36m10\u001b[0m\u001b[0;34m)\u001b[0m\u001b[0;34m\u001b[0m\u001b[0;34m\u001b[0m\u001b[0m\n\u001b[1;32m      2\u001b[0m \u001b[0;34m\u001b[0m\u001b[0m\n\u001b[0;32m----> 3\u001b[0;31m \u001b[0mprint\u001b[0m\u001b[0;34m(\u001b[0m\u001b[0;34m\"배열의 성적 - 10 : \"\u001b[0m\u001b[0;34m,\u001b[0m \u001b[0memployeeArray\u001b[0m\u001b[0;34m[\u001b[0m\u001b[0;36m4\u001b[0m\u001b[0;34m]\u001b[0m \u001b[0;34m-\u001b[0m \u001b[0;36m10\u001b[0m\u001b[0;34m)\u001b[0m\u001b[0;34m\u001b[0m\u001b[0;34m\u001b[0m\u001b[0m\n\u001b[0m",
            "\u001b[0;31mTypeError\u001b[0m: unsupported operand type(s) for -: 'numpy.str_' and 'int'"
          ]
        }
      ]
    },
    {
      "cell_type": "markdown",
      "source": [
        "수정"
      ],
      "metadata": {
        "id": "sr1wjBx-EP-i"
      }
    },
    {
      "cell_type": "code",
      "source": [
        "listMatrix2d = [[1,2,3,4,5],[6,7,8,9,10],[11,12,13,14,15],[16,17,18,19,20],[21,22,23,24,25]]\n",
        "\n",
        "print(\"listMatrix2d (수정전):\\n\", listMatrix2d)\n",
        "listMatrix2d[0][0] = -999\n",
        "print(\"listMatrix2d (수정후):\\n\", listMatrix2d)"
      ],
      "metadata": {
        "colab": {
          "base_uri": "https://localhost:8080/"
        },
        "id": "pvyenq9b1qW_",
        "outputId": "bf01a353-bf2d-4727-e1bb-ad4f03144403"
      },
      "execution_count": null,
      "outputs": [
        {
          "output_type": "stream",
          "name": "stdout",
          "text": [
            "listMatrix2d (수정전):\n",
            " [[1, 2, 3, 4, 5], [6, 7, 8, 9, 10], [11, 12, 13, 14, 15], [16, 17, 18, 19, 20], [21, 22, 23, 24, 25]]\n",
            "listMatrix2d (수정후):\n",
            " [[-999, 2, 3, 4, 5], [6, 7, 8, 9, 10], [11, 12, 13, 14, 15], [16, 17, 18, 19, 20], [21, 22, 23, 24, 25]]\n"
          ]
        }
      ]
    },
    {
      "cell_type": "code",
      "source": [
        "import numpy as np\n",
        "\n",
        "arrayMatrix2d = np.array([[1,2,3,4,5],[6,7,8,9,10],[11,12,13,14,15],[16,17,18,19,20],[21,22,23,24,25]])\n",
        "\n",
        "print(\"arrayMatrix2d (수정전) :\\n\", arrayMatrix2d)\n",
        "arrayMatrix2d[1][2] = -888\n",
        "arrayMatrix2d[-1,-1] = -777\n",
        "print(\"arrayMatrix2d (수정후):\\n\", arrayMatrix2d)"
      ],
      "metadata": {
        "colab": {
          "base_uri": "https://localhost:8080/"
        },
        "id": "i8-0slyL4fgE",
        "outputId": "73cbd28f-3734-494a-ce95-98532c696086"
      },
      "execution_count": null,
      "outputs": [
        {
          "output_type": "stream",
          "name": "stdout",
          "text": [
            "arrayMatrix2d (수정전) :\n",
            " [[ 1  2  3  4  5]\n",
            " [ 6  7  8  9 10]\n",
            " [11 12 13 14 15]\n",
            " [16 17 18 19 20]\n",
            " [21 22 23 24 25]]\n",
            "arrayMatrix2d (수정후):\n",
            " [[   1    2    3    4    5]\n",
            " [   6    7 -888    9   10]\n",
            " [  11   12   13   14   15]\n",
            " [  16   17   18   19   20]\n",
            " [  21   22   23   24 -777]]\n"
          ]
        }
      ]
    },
    {
      "cell_type": "code",
      "source": [
        "arrayMatrix2d[0] = 1\n",
        "arrayMatrix2d[2:3,:] = -1\n",
        "print(\"arrayMatrix2d (수정후):\\n\", arrayMatrix2d)"
      ],
      "metadata": {
        "colab": {
          "base_uri": "https://localhost:8080/"
        },
        "id": "yrSRTZ8n8tZQ",
        "outputId": "a92b7134-20cf-4580-c3a5-f121bddb6b0a"
      },
      "execution_count": null,
      "outputs": [
        {
          "output_type": "stream",
          "name": "stdout",
          "text": [
            "arrayMatrix2d (수정후):\n",
            " [[ 1  1  1  1  1]\n",
            " [ 6  7  8  9 10]\n",
            " [-1 -1 -1 -1 -1]\n",
            " [16 17 18 19 20]\n",
            " [21 22 23 24 25]]\n"
          ]
        }
      ]
    },
    {
      "cell_type": "code",
      "source": [
        "arrayMatrix2d[:,0] = 2\n",
        "arrayMatrix2d[:,2:3] = -2\n",
        "print(\"arrayMatrix2d (수정후):\\n\", arrayMatrix2d)"
      ],
      "metadata": {
        "colab": {
          "base_uri": "https://localhost:8080/"
        },
        "id": "xAuO_8Y4D1F1",
        "outputId": "4851ecc0-59e6-4a61-e6e5-302d1abaf911"
      },
      "execution_count": null,
      "outputs": [
        {
          "output_type": "stream",
          "name": "stdout",
          "text": [
            "arrayMatrix2d (수정후):\n",
            " [[ 2  1 -2  1  1]\n",
            " [ 2  7 -2  9 10]\n",
            " [ 2 -1 -2 -1 -1]\n",
            " [ 2 17 -2 19 20]\n",
            " [ 2 22 -2 24 25]]\n"
          ]
        }
      ]
    },
    {
      "cell_type": "code",
      "source": [
        "arrayMatrix2d[1:3,1:4] = 100\n",
        "print(\"arrayMatrix2d (수정후):\\n\", arrayMatrix2d)"
      ],
      "metadata": {
        "colab": {
          "base_uri": "https://localhost:8080/"
        },
        "id": "nzo_2DjaE4Ch",
        "outputId": "24ecada9-3640-4340-e5d5-bea93d1ca556"
      },
      "execution_count": null,
      "outputs": [
        {
          "output_type": "stream",
          "name": "stdout",
          "text": [
            "arrayMatrix2d (수정후):\n",
            " [[  2   1  -2   1   1]\n",
            " [  2 100 100 100  10]\n",
            " [  2 100 100 100  -1]\n",
            " [  2  17  -2  19  20]\n",
            " [  2  22  -2  24  25]]\n"
          ]
        }
      ]
    },
    {
      "cell_type": "code",
      "source": [
        " arrayMatrix2d[[0,0,0,-1,-1,-1],[0,1,2,-1,-2,-3]] = -100\n",
        " print(\"arrayMatrix2d (수정후):\\n\", arrayMatrix2d)"
      ],
      "metadata": {
        "colab": {
          "base_uri": "https://localhost:8080/"
        },
        "id": "aJ88p5G-IEVy",
        "outputId": "258d0ab2-2cab-49a6-a3e3-daa24700b2ae"
      },
      "execution_count": null,
      "outputs": [
        {
          "output_type": "stream",
          "name": "stdout",
          "text": [
            "arrayMatrix2d (수정후):\n",
            " [[-100 -100 -100    1    1]\n",
            " [   2  100  100  100   10]\n",
            " [   2  100  100  100   -1]\n",
            " [   2   17   -2   19   20]\n",
            " [   2   22 -100 -100 -100]]\n"
          ]
        }
      ]
    },
    {
      "cell_type": "code",
      "source": [
        "mask = arrayMatrix2d == -100\n",
        "arrayMatrix2d[mask] = 100\n",
        "print(\"arrayMatrix2d (수정후):\\n\", arrayMatrix2d)"
      ],
      "metadata": {
        "colab": {
          "base_uri": "https://localhost:8080/"
        },
        "id": "QXJZ4VFmOLfK",
        "outputId": "e96c374d-f847-4888-c99d-3c1e78315849"
      },
      "execution_count": null,
      "outputs": [
        {
          "output_type": "stream",
          "name": "stdout",
          "text": [
            "arrayMatrix2d (수정후):\n",
            " [[100 100 100   1   1]\n",
            " [  2 100 100 100  10]\n",
            " [  2 100 100 100  -1]\n",
            " [  2  17  -2  19  20]\n",
            " [  2  22 100 100 100]]\n"
          ]
        }
      ]
    },
    {
      "cell_type": "markdown",
      "source": [
        "삭제"
      ],
      "metadata": {
        "id": "0zn0e_GzE0pr"
      }
    },
    {
      "cell_type": "code",
      "source": [
        "listVector = [1,2,3,4,5,6,7,8,9,10]\n",
        "print(\"listVector (삭제전): \", listVector)\n",
        "del listVector[3]     # 인덱스로 삭제\n",
        "print(\"listVector (인덱스 3 즉 4번째 요소 삭제후): \", listVector)\n",
        "listVector.remove(10) #  값으로 삭제\n",
        "print(\"listVector (값 10으로 삭제후): \", listVector)"
      ],
      "metadata": {
        "colab": {
          "base_uri": "https://localhost:8080/"
        },
        "id": "R9d_XSKMqYRa",
        "outputId": "7bcf4d97-5ea2-4e59-c767-a7d4ef8cb444"
      },
      "execution_count": null,
      "outputs": [
        {
          "output_type": "stream",
          "name": "stdout",
          "text": [
            "listVector (삭제전):  [1, 2, 3, 4, 5, 6, 7, 8, 9, 10]\n",
            "listVector (인덱스 3 즉 4번째 요소 삭제후):  [1, 2, 3, 5, 6, 7, 8, 9, 10]\n",
            "listVector (값 10으로 삭제후):  [1, 2, 3, 5, 6, 7, 8, 9]\n"
          ]
        }
      ]
    },
    {
      "cell_type": "code",
      "source": [
        "import numpy as np\n",
        "\n",
        "arrayMatrix2d = np.array([[1,2,3,4,5],[6,7,8,9,10],[11,12,13,14,15],[16,17,18,19,20],[21,22,23,24,25]])\n",
        "print(\"arrayMatrix2d (삭제전) :\\n\", arrayMatrix2d)\n",
        "\n",
        "arrayMatrix2d = np.delete(arrayMatrix2d,1,axis=0)\n",
        "print(\"arrayMatrix2d (인덱스 1 즉 2행 삭제후) :\\n\", arrayMatrix2d)\n",
        "arrayMatrix2d = np.delete(arrayMatrix2d,-1,axis=1)\n",
        "print(\"arrayMatrix2d (인덱스 -1 즉 마지막열 삭제후) :\\n\", arrayMatrix2d)\n",
        "arrayMatrix2d = np.delete(arrayMatrix2d,[1,3],axis=0)\n",
        "print(\"arrayMatrix2d (인덱스 1과 3 즉 2행과 4행 삭제후) :\\n\", arrayMatrix2d)"
      ],
      "metadata": {
        "colab": {
          "base_uri": "https://localhost:8080/"
        },
        "id": "Iv6lpTc0soV9",
        "outputId": "3a07e9fc-3a15-4c3e-947b-2c7feef0b81e"
      },
      "execution_count": null,
      "outputs": [
        {
          "output_type": "stream",
          "name": "stdout",
          "text": [
            "arrayMatrix2d (삭제전) :\n",
            " [[ 1  2  3  4  5]\n",
            " [ 6  7  8  9 10]\n",
            " [11 12 13 14 15]\n",
            " [16 17 18 19 20]\n",
            " [21 22 23 24 25]]\n",
            "arrayMatrix2d (인덱스 1 즉 2행 삭제후) :\n",
            " [[ 1  2  3  4  5]\n",
            " [11 12 13 14 15]\n",
            " [16 17 18 19 20]\n",
            " [21 22 23 24 25]]\n",
            "arrayMatrix2d (인덱스 -1 즉 마지막열 삭제후) :\n",
            " [[ 1  2  3  4]\n",
            " [11 12 13 14]\n",
            " [16 17 18 19]\n",
            " [21 22 23 24]]\n",
            "arrayMatrix2d (인덱스 1과 3 즉 2행과 4행 삭제후) :\n",
            " [[ 1  2  3  4]\n",
            " [16 17 18 19]]\n"
          ]
        }
      ]
    },
    {
      "cell_type": "markdown",
      "source": [
        "추가"
      ],
      "metadata": {
        "id": "trvZ_sqCGCIq"
      }
    },
    {
      "cell_type": "code",
      "source": [
        "listVector = [1,2,4,5]\n",
        "print(\"listVector (추가전): \", listVector)\n",
        "listVector.append(6)              # 리스트의 맨뒤에 값을 추가\n",
        "print(\"listVector (6을 추가한 후): \", listVector)\n",
        "listVector.insert(2,3)            # 리스트의 3번째 요소로 3을 추가\n",
        "print(\"listVector (3을 추가한 후): \", listVector)\n",
        "listVector.extend([7,8])          # 리스트의 맨뒤에 7과 8을 리스트로 확장\n",
        "print(\"listVector (7과 8의 리스트를 확장한 후): \", listVector)\n",
        "listVector = [-1,0] + listVector + [9,10]  # -1,0의 리스트와 9,10의 리스트를 앞뒤로 이어붙임\n",
        "print(\"listVector (-1,0 리스트와 9~10 리스트를 이어붙인 후): \", listVector)"
      ],
      "metadata": {
        "colab": {
          "base_uri": "https://localhost:8080/"
        },
        "id": "UBpyyY9iKXLn",
        "outputId": "e4e93c13-1048-452e-e804-7da890948865"
      },
      "execution_count": null,
      "outputs": [
        {
          "output_type": "stream",
          "name": "stdout",
          "text": [
            "listVector (추가전):  [1, 2, 4, 5]\n",
            "listVector (6을 추가한 후):  [1, 2, 4, 5, 6]\n",
            "listVector (3을 추가한 후):  [1, 2, 3, 4, 5, 6]\n",
            "listVector (7과 8의 리스트를 확장한 후):  [1, 2, 3, 4, 5, 6, 7, 8]\n",
            "listVector (-1,0 리스트와 9~10 리스트를 이어붙인 후):  [-1, 0, 1, 2, 3, 4, 5, 6, 7, 8, 9, 10]\n"
          ]
        }
      ]
    },
    {
      "cell_type": "code",
      "source": [
        "import numpy as np\n",
        "\n",
        "arrayMatrix2d = np.array([[1,2,3,4,5],[6,7,8,9,10],[11,12,13,14,15],[16,17,18,19,20],[21,22,23,24,25]])\n",
        "print(\"arrayMatrix2d (추가전) :\\n\", arrayMatrix2d)\n",
        "newRow2d = np.array([[26,27,28,29,30],[31,32,33,34,35]])\n",
        "print(\"newRow2d :\\n\", newRow2d)\n",
        "arrayMatrix2d = np.append(arrayMatrix2d,newRow2d,axis=0)\n",
        "print(\"arrayMatrix2d (신규행 추가후) :\\n\", arrayMatrix2d)"
      ],
      "metadata": {
        "colab": {
          "base_uri": "https://localhost:8080/"
        },
        "id": "UFuRZm3CMkMX",
        "outputId": "37f8de9a-2aea-4332-cc38-ecc94420ca9e"
      },
      "execution_count": null,
      "outputs": [
        {
          "output_type": "stream",
          "name": "stdout",
          "text": [
            "arrayMatrix2d (추가전) :\n",
            " [[ 1  2  3  4  5]\n",
            " [ 6  7  8  9 10]\n",
            " [11 12 13 14 15]\n",
            " [16 17 18 19 20]\n",
            " [21 22 23 24 25]]\n",
            "newRow2d :\n",
            " [[26 27 28 29 30]\n",
            " [31 32 33 34 35]]\n",
            "arrayMatrix2d (신규행 추가후) :\n",
            " [[ 1  2  3  4  5]\n",
            " [ 6  7  8  9 10]\n",
            " [11 12 13 14 15]\n",
            " [16 17 18 19 20]\n",
            " [21 22 23 24 25]\n",
            " [26 27 28 29 30]\n",
            " [31 32 33 34 35]]\n"
          ]
        }
      ]
    },
    {
      "cell_type": "code",
      "source": [
        "import numpy as np\n",
        "\n",
        "arrayMatrix2d = np.array([[1,2,3,4,5],[6,7,8,9,10],[11,12,13,14,15],[16,17,18,19,20],[21,22,23,24,25]])\n",
        "print(\"arrayMatrix2d (추가전) :\\n\", arrayMatrix2d)\n",
        "newRow2d = np.array([26,27,28,29,30])\n",
        "print(\"newRow2d :\\n\", newRow2d)\n",
        "arrayMatrix2d = np.append(arrayMatrix2d,[newRow2d],axis=0)\n",
        "print(\"arrayMatrix2d (신규행 추가후) :\\n\", arrayMatrix2d)"
      ],
      "metadata": {
        "colab": {
          "base_uri": "https://localhost:8080/"
        },
        "id": "CiUpCdiPOO-g",
        "outputId": "338c8a10-5863-464f-d8af-566c2147b066"
      },
      "execution_count": null,
      "outputs": [
        {
          "output_type": "stream",
          "name": "stdout",
          "text": [
            "arrayMatrix2d (추가전) :\n",
            " [[ 1  2  3  4  5]\n",
            " [ 6  7  8  9 10]\n",
            " [11 12 13 14 15]\n",
            " [16 17 18 19 20]\n",
            " [21 22 23 24 25]]\n",
            "newRow2d :\n",
            " [26 27 28 29 30]\n",
            "arrayMatrix2d (신규행 추가후) :\n",
            " [[ 1  2  3  4  5]\n",
            " [ 6  7  8  9 10]\n",
            " [11 12 13 14 15]\n",
            " [16 17 18 19 20]\n",
            " [21 22 23 24 25]\n",
            " [26 27 28 29 30]]\n"
          ]
        }
      ]
    },
    {
      "cell_type": "code",
      "source": [
        "import numpy as np\n",
        "\n",
        "arrayMatrix2d = np.array([[1,2,3,4,5],[6,7,8,9,10],[11,12,13,14,15],[16,17,18,19,20],[21,22,23,24,25]])\n",
        "print(\"arrayMatrix2d (추가전) :\\n\", arrayMatrix2d)\n",
        "newRow2d = np.array([26,27,28,29,30],[31,32,33,34,35])\n",
        "print(\"newRow2d :\\n\", newRow2d)\n",
        "arrayMatrix2d = np.append(arrayMatrix2d,[newRow2d],axis=0)\n",
        "print(\"arrayMatrix2d (신규행 추가후) :\\n\", arrayMatrix2d)"
      ],
      "metadata": {
        "colab": {
          "base_uri": "https://localhost:8080/",
          "height": 363
        },
        "id": "m8R3DKv_SeR2",
        "outputId": "1e9ff58c-5ebb-45e6-c76f-3c9ddbbd9c54"
      },
      "execution_count": null,
      "outputs": [
        {
          "output_type": "stream",
          "name": "stdout",
          "text": [
            "arrayMatrix2d (추가전) :\n",
            " [[ 1  2  3  4  5]\n",
            " [ 6  7  8  9 10]\n",
            " [11 12 13 14 15]\n",
            " [16 17 18 19 20]\n",
            " [21 22 23 24 25]]\n"
          ]
        },
        {
          "output_type": "error",
          "ename": "TypeError",
          "evalue": "ignored",
          "traceback": [
            "\u001b[0;31m---------------------------------------------------------------------------\u001b[0m",
            "\u001b[0;31mTypeError\u001b[0m                                 Traceback (most recent call last)",
            "\u001b[0;32m<ipython-input-37-201b2ca2b952>\u001b[0m in \u001b[0;36m<module>\u001b[0;34m\u001b[0m\n\u001b[1;32m      3\u001b[0m \u001b[0marrayMatrix2d\u001b[0m \u001b[0;34m=\u001b[0m \u001b[0mnp\u001b[0m\u001b[0;34m.\u001b[0m\u001b[0marray\u001b[0m\u001b[0;34m(\u001b[0m\u001b[0;34m[\u001b[0m\u001b[0;34m[\u001b[0m\u001b[0;36m1\u001b[0m\u001b[0;34m,\u001b[0m\u001b[0;36m2\u001b[0m\u001b[0;34m,\u001b[0m\u001b[0;36m3\u001b[0m\u001b[0;34m,\u001b[0m\u001b[0;36m4\u001b[0m\u001b[0;34m,\u001b[0m\u001b[0;36m5\u001b[0m\u001b[0;34m]\u001b[0m\u001b[0;34m,\u001b[0m\u001b[0;34m[\u001b[0m\u001b[0;36m6\u001b[0m\u001b[0;34m,\u001b[0m\u001b[0;36m7\u001b[0m\u001b[0;34m,\u001b[0m\u001b[0;36m8\u001b[0m\u001b[0;34m,\u001b[0m\u001b[0;36m9\u001b[0m\u001b[0;34m,\u001b[0m\u001b[0;36m10\u001b[0m\u001b[0;34m]\u001b[0m\u001b[0;34m,\u001b[0m\u001b[0;34m[\u001b[0m\u001b[0;36m11\u001b[0m\u001b[0;34m,\u001b[0m\u001b[0;36m12\u001b[0m\u001b[0;34m,\u001b[0m\u001b[0;36m13\u001b[0m\u001b[0;34m,\u001b[0m\u001b[0;36m14\u001b[0m\u001b[0;34m,\u001b[0m\u001b[0;36m15\u001b[0m\u001b[0;34m]\u001b[0m\u001b[0;34m,\u001b[0m\u001b[0;34m[\u001b[0m\u001b[0;36m16\u001b[0m\u001b[0;34m,\u001b[0m\u001b[0;36m17\u001b[0m\u001b[0;34m,\u001b[0m\u001b[0;36m18\u001b[0m\u001b[0;34m,\u001b[0m\u001b[0;36m19\u001b[0m\u001b[0;34m,\u001b[0m\u001b[0;36m20\u001b[0m\u001b[0;34m]\u001b[0m\u001b[0;34m,\u001b[0m\u001b[0;34m[\u001b[0m\u001b[0;36m21\u001b[0m\u001b[0;34m,\u001b[0m\u001b[0;36m22\u001b[0m\u001b[0;34m,\u001b[0m\u001b[0;36m23\u001b[0m\u001b[0;34m,\u001b[0m\u001b[0;36m24\u001b[0m\u001b[0;34m,\u001b[0m\u001b[0;36m25\u001b[0m\u001b[0;34m]\u001b[0m\u001b[0;34m]\u001b[0m\u001b[0;34m)\u001b[0m\u001b[0;34m\u001b[0m\u001b[0;34m\u001b[0m\u001b[0m\n\u001b[1;32m      4\u001b[0m \u001b[0mprint\u001b[0m\u001b[0;34m(\u001b[0m\u001b[0;34m\"arrayMatrix2d (추가전) :\\n\"\u001b[0m\u001b[0;34m,\u001b[0m \u001b[0marrayMatrix2d\u001b[0m\u001b[0;34m)\u001b[0m\u001b[0;34m\u001b[0m\u001b[0;34m\u001b[0m\u001b[0m\n\u001b[0;32m----> 5\u001b[0;31m \u001b[0mnewRow2d\u001b[0m \u001b[0;34m=\u001b[0m \u001b[0mnp\u001b[0m\u001b[0;34m.\u001b[0m\u001b[0marray\u001b[0m\u001b[0;34m(\u001b[0m\u001b[0;34m[\u001b[0m\u001b[0;36m26\u001b[0m\u001b[0;34m,\u001b[0m\u001b[0;36m27\u001b[0m\u001b[0;34m,\u001b[0m\u001b[0;36m28\u001b[0m\u001b[0;34m,\u001b[0m\u001b[0;36m29\u001b[0m\u001b[0;34m,\u001b[0m\u001b[0;36m30\u001b[0m\u001b[0;34m]\u001b[0m\u001b[0;34m,\u001b[0m\u001b[0;34m[\u001b[0m\u001b[0;36m31\u001b[0m\u001b[0;34m,\u001b[0m\u001b[0;36m32\u001b[0m\u001b[0;34m,\u001b[0m\u001b[0;36m33\u001b[0m\u001b[0;34m,\u001b[0m\u001b[0;36m34\u001b[0m\u001b[0;34m,\u001b[0m\u001b[0;36m35\u001b[0m\u001b[0;34m]\u001b[0m\u001b[0;34m)\u001b[0m\u001b[0;34m\u001b[0m\u001b[0;34m\u001b[0m\u001b[0m\n\u001b[0m\u001b[1;32m      6\u001b[0m \u001b[0mprint\u001b[0m\u001b[0;34m(\u001b[0m\u001b[0;34m\"newRow2d :\\n\"\u001b[0m\u001b[0;34m,\u001b[0m \u001b[0mnewRow2d\u001b[0m\u001b[0;34m)\u001b[0m\u001b[0;34m\u001b[0m\u001b[0;34m\u001b[0m\u001b[0m\n\u001b[1;32m      7\u001b[0m \u001b[0marrayMatrix2d\u001b[0m \u001b[0;34m=\u001b[0m \u001b[0mnp\u001b[0m\u001b[0;34m.\u001b[0m\u001b[0mappend\u001b[0m\u001b[0;34m(\u001b[0m\u001b[0marrayMatrix2d\u001b[0m\u001b[0;34m,\u001b[0m\u001b[0;34m[\u001b[0m\u001b[0mnewRow2d\u001b[0m\u001b[0;34m]\u001b[0m\u001b[0;34m,\u001b[0m\u001b[0maxis\u001b[0m\u001b[0;34m=\u001b[0m\u001b[0;36m0\u001b[0m\u001b[0;34m)\u001b[0m\u001b[0;34m\u001b[0m\u001b[0;34m\u001b[0m\u001b[0m\n",
            "\u001b[0;31mTypeError\u001b[0m: Field elements must be 2- or 3-tuples, got '31'"
          ]
        }
      ]
    },
    {
      "cell_type": "code",
      "source": [
        "import numpy as np\n",
        "\n",
        "arrayMatrix2d = np.array([[1,2,3,4,5],[6,7,8,9,10],[11,12,13,14,15],[16,17,18,19,20],[21,22,23,24,25]])\n",
        "print(\"arrayMatrix2d (추가전) :\\n\", arrayMatrix2d)\n",
        "newRow2d = np.array([[26,27,28,29,30],[31,32,33,34,35]])\n",
        "print(\"newRow2d :\\n\", newRow2d)\n",
        "arrayMatrix2d = np.append(arrayMatrix2d,[newRow2d],axis=0)\n",
        "print(\"arrayMatrix2d (신규행 추가후) :\\n\", arrayMatrix2d)"
      ],
      "metadata": {
        "colab": {
          "base_uri": "https://localhost:8080/",
          "height": 606
        },
        "id": "el4rhe14Tze4",
        "outputId": "83cc1c6e-67df-4dba-bdc5-4787a165f7ec"
      },
      "execution_count": null,
      "outputs": [
        {
          "output_type": "stream",
          "name": "stdout",
          "text": [
            "arrayMatrix2d (추가전) :\n",
            " [[ 1  2  3  4  5]\n",
            " [ 6  7  8  9 10]\n",
            " [11 12 13 14 15]\n",
            " [16 17 18 19 20]\n",
            " [21 22 23 24 25]]\n",
            "newRow2d :\n",
            " [[26 27 28 29 30]\n",
            " [31 32 33 34 35]]\n"
          ]
        },
        {
          "output_type": "error",
          "ename": "ValueError",
          "evalue": "ignored",
          "traceback": [
            "\u001b[0;31m---------------------------------------------------------------------------\u001b[0m",
            "\u001b[0;31mValueError\u001b[0m                                Traceback (most recent call last)",
            "\u001b[0;32m<ipython-input-38-568144fae8f2>\u001b[0m in \u001b[0;36m<module>\u001b[0;34m\u001b[0m\n\u001b[1;32m      5\u001b[0m \u001b[0mnewRow2d\u001b[0m \u001b[0;34m=\u001b[0m \u001b[0mnp\u001b[0m\u001b[0;34m.\u001b[0m\u001b[0marray\u001b[0m\u001b[0;34m(\u001b[0m\u001b[0;34m[\u001b[0m\u001b[0;34m[\u001b[0m\u001b[0;36m26\u001b[0m\u001b[0;34m,\u001b[0m\u001b[0;36m27\u001b[0m\u001b[0;34m,\u001b[0m\u001b[0;36m28\u001b[0m\u001b[0;34m,\u001b[0m\u001b[0;36m29\u001b[0m\u001b[0;34m,\u001b[0m\u001b[0;36m30\u001b[0m\u001b[0;34m]\u001b[0m\u001b[0;34m,\u001b[0m\u001b[0;34m[\u001b[0m\u001b[0;36m31\u001b[0m\u001b[0;34m,\u001b[0m\u001b[0;36m32\u001b[0m\u001b[0;34m,\u001b[0m\u001b[0;36m33\u001b[0m\u001b[0;34m,\u001b[0m\u001b[0;36m34\u001b[0m\u001b[0;34m,\u001b[0m\u001b[0;36m35\u001b[0m\u001b[0;34m]\u001b[0m\u001b[0;34m]\u001b[0m\u001b[0;34m)\u001b[0m\u001b[0;34m\u001b[0m\u001b[0;34m\u001b[0m\u001b[0m\n\u001b[1;32m      6\u001b[0m \u001b[0mprint\u001b[0m\u001b[0;34m(\u001b[0m\u001b[0;34m\"newRow2d :\\n\"\u001b[0m\u001b[0;34m,\u001b[0m \u001b[0mnewRow2d\u001b[0m\u001b[0;34m)\u001b[0m\u001b[0;34m\u001b[0m\u001b[0;34m\u001b[0m\u001b[0m\n\u001b[0;32m----> 7\u001b[0;31m \u001b[0marrayMatrix2d\u001b[0m \u001b[0;34m=\u001b[0m \u001b[0mnp\u001b[0m\u001b[0;34m.\u001b[0m\u001b[0mappend\u001b[0m\u001b[0;34m(\u001b[0m\u001b[0marrayMatrix2d\u001b[0m\u001b[0;34m,\u001b[0m\u001b[0;34m[\u001b[0m\u001b[0mnewRow2d\u001b[0m\u001b[0;34m]\u001b[0m\u001b[0;34m,\u001b[0m\u001b[0maxis\u001b[0m\u001b[0;34m=\u001b[0m\u001b[0;36m0\u001b[0m\u001b[0;34m)\u001b[0m\u001b[0;34m\u001b[0m\u001b[0;34m\u001b[0m\u001b[0m\n\u001b[0m\u001b[1;32m      8\u001b[0m \u001b[0mprint\u001b[0m\u001b[0;34m(\u001b[0m\u001b[0;34m\"arrayMatrix2d (신규행 추가후) :\\n\"\u001b[0m\u001b[0;34m,\u001b[0m \u001b[0marrayMatrix2d\u001b[0m\u001b[0;34m)\u001b[0m\u001b[0;34m\u001b[0m\u001b[0;34m\u001b[0m\u001b[0m\n",
            "\u001b[0;32m<__array_function__ internals>\u001b[0m in \u001b[0;36mappend\u001b[0;34m(*args, **kwargs)\u001b[0m\n",
            "\u001b[0;32m/usr/local/lib/python3.8/dist-packages/numpy/lib/function_base.py\u001b[0m in \u001b[0;36mappend\u001b[0;34m(arr, values, axis)\u001b[0m\n\u001b[1;32m   4815\u001b[0m         \u001b[0mvalues\u001b[0m \u001b[0;34m=\u001b[0m \u001b[0mravel\u001b[0m\u001b[0;34m(\u001b[0m\u001b[0mvalues\u001b[0m\u001b[0;34m)\u001b[0m\u001b[0;34m\u001b[0m\u001b[0;34m\u001b[0m\u001b[0m\n\u001b[1;32m   4816\u001b[0m         \u001b[0maxis\u001b[0m \u001b[0;34m=\u001b[0m \u001b[0marr\u001b[0m\u001b[0;34m.\u001b[0m\u001b[0mndim\u001b[0m\u001b[0;34m-\u001b[0m\u001b[0;36m1\u001b[0m\u001b[0;34m\u001b[0m\u001b[0;34m\u001b[0m\u001b[0m\n\u001b[0;32m-> 4817\u001b[0;31m     \u001b[0;32mreturn\u001b[0m \u001b[0mconcatenate\u001b[0m\u001b[0;34m(\u001b[0m\u001b[0;34m(\u001b[0m\u001b[0marr\u001b[0m\u001b[0;34m,\u001b[0m \u001b[0mvalues\u001b[0m\u001b[0;34m)\u001b[0m\u001b[0;34m,\u001b[0m \u001b[0maxis\u001b[0m\u001b[0;34m=\u001b[0m\u001b[0maxis\u001b[0m\u001b[0;34m)\u001b[0m\u001b[0;34m\u001b[0m\u001b[0;34m\u001b[0m\u001b[0m\n\u001b[0m\u001b[1;32m   4818\u001b[0m \u001b[0;34m\u001b[0m\u001b[0m\n\u001b[1;32m   4819\u001b[0m \u001b[0;34m\u001b[0m\u001b[0m\n",
            "\u001b[0;32m<__array_function__ internals>\u001b[0m in \u001b[0;36mconcatenate\u001b[0;34m(*args, **kwargs)\u001b[0m\n",
            "\u001b[0;31mValueError\u001b[0m: all the input arrays must have same number of dimensions, but the array at index 0 has 2 dimension(s) and the array at index 1 has 3 dimension(s)"
          ]
        }
      ]
    },
    {
      "cell_type": "code",
      "source": [
        "import numpy as np\n",
        "\n",
        "arrayMatrix2d = np.array([[1,2,3,4,5],[6,7,8,9,10],[11,12,13,14,15],[16,17,18,19,20],[21,22,23,24,25]])\n",
        "print(\"arrayMatrix2d (추가전) :\\n\", arrayMatrix2d)\n",
        "newRow2d = np.array([[26,27,28,29,30]])\n",
        "print(\"newRow2d :\\n\", newRow2d)\n",
        "arrayMatrix2d = np.append(arrayMatrix2d,newRow2d,axis=0)\n",
        "print(\"arrayMatrix2d (신규행 추가후) :\\n\", arrayMatrix2d)"
      ],
      "metadata": {
        "colab": {
          "base_uri": "https://localhost:8080/"
        },
        "id": "Xxi1bZrAU9qE",
        "outputId": "56fc68af-9755-4142-8518-13cf532afcef"
      },
      "execution_count": null,
      "outputs": [
        {
          "output_type": "stream",
          "name": "stdout",
          "text": [
            "arrayMatrix2d (추가전) :\n",
            " [[ 1  2  3  4  5]\n",
            " [ 6  7  8  9 10]\n",
            " [11 12 13 14 15]\n",
            " [16 17 18 19 20]\n",
            " [21 22 23 24 25]]\n",
            "newRow2d :\n",
            " [[26 27 28 29 30]]\n",
            "arrayMatrix2d (신규행 추가후) :\n",
            " [[ 1  2  3  4  5]\n",
            " [ 6  7  8  9 10]\n",
            " [11 12 13 14 15]\n",
            " [16 17 18 19 20]\n",
            " [21 22 23 24 25]\n",
            " [26 27 28 29 30]]\n"
          ]
        }
      ]
    },
    {
      "cell_type": "code",
      "source": [
        "import numpy as np\n",
        "\n",
        "arrayMatrix2d = np.array([[1,2,3,4,5],[6,7,8,9,10],[11,12,13,14,15],[16,17,18,19,20],[21,22,23,24,25]])\n",
        "print(\"arrayMatrix2d (추가전) :\\n\", arrayMatrix2d)\n",
        "newColumn2d = np.array([[26],[27],[28],[29],[30]])\n",
        "print(\"newColumn2d :\\n\", newColumn2d)\n",
        "arrayMatrix2d = np.append(arrayMatrix2d,newColumn2d,axis=1)\n",
        "print(\"arrayMatrix2d (신규열 추가후) :\\n\", arrayMatrix2d)"
      ],
      "metadata": {
        "colab": {
          "base_uri": "https://localhost:8080/"
        },
        "id": "cSji6WB6Wq27",
        "outputId": "f720ef9d-36e5-4e62-ae88-3983a22de43c"
      },
      "execution_count": null,
      "outputs": [
        {
          "output_type": "stream",
          "name": "stdout",
          "text": [
            "arrayMatrix2d (추가전) :\n",
            " [[ 1  2  3  4  5]\n",
            " [ 6  7  8  9 10]\n",
            " [11 12 13 14 15]\n",
            " [16 17 18 19 20]\n",
            " [21 22 23 24 25]]\n",
            "newColumn2d :\n",
            " [[26]\n",
            " [27]\n",
            " [28]\n",
            " [29]\n",
            " [30]]\n",
            "arrayMatrix2d (신규열 추가후) :\n",
            " [[ 1  2  3  4  5 26]\n",
            " [ 6  7  8  9 10 27]\n",
            " [11 12 13 14 15 28]\n",
            " [16 17 18 19 20 29]\n",
            " [21 22 23 24 25 30]]\n"
          ]
        }
      ]
    },
    {
      "cell_type": "code",
      "source": [
        "import numpy as np\n",
        "\n",
        "arrayMatrix2d = np.array([[1,2,3,4,5],[6,7,8,9,10],[11,12,13,14,15],[16,17,18,19,20],[21,22,23,24,25]])\n",
        "print(\"arrayMatrix2d (추가전) :\\n\", arrayMatrix2d)\n",
        "newRow2d = np.array([[26,27,28,29,30],[31,32,33,34,35]])\n",
        "print(\"newRow2d :\\n\", newRow2d)\n",
        "newColumn2d = np.transpose(newRow2d)\n",
        "print(\"newColumn2d :\\n\", newColumn2d)\n",
        "arrayMatrix2d = np.append(arrayMatrix2d,newColumn2d,axis=1)\n",
        "print(\"arrayMatrix2d (신규열 추가후) :\\n\", arrayMatrix2d)"
      ],
      "metadata": {
        "colab": {
          "base_uri": "https://localhost:8080/"
        },
        "id": "sTXKSxeccxli",
        "outputId": "63df2b2a-4dd0-4bca-b93e-2cff0ecaf35b"
      },
      "execution_count": null,
      "outputs": [
        {
          "output_type": "stream",
          "name": "stdout",
          "text": [
            "arrayMatrix2d (추가전) :\n",
            " [[ 1  2  3  4  5]\n",
            " [ 6  7  8  9 10]\n",
            " [11 12 13 14 15]\n",
            " [16 17 18 19 20]\n",
            " [21 22 23 24 25]]\n",
            "newRow2d :\n",
            " [[26 27 28 29 30]\n",
            " [31 32 33 34 35]]\n",
            "newColumn2d :\n",
            " [[26 31]\n",
            " [27 32]\n",
            " [28 33]\n",
            " [29 34]\n",
            " [30 35]]\n",
            "arrayMatrix2d (신규열 추가후) :\n",
            " [[ 1  2  3  4  5 26 31]\n",
            " [ 6  7  8  9 10 27 32]\n",
            " [11 12 13 14 15 28 33]\n",
            " [16 17 18 19 20 29 34]\n",
            " [21 22 23 24 25 30 35]]\n"
          ]
        }
      ]
    },
    {
      "cell_type": "code",
      "source": [
        "import numpy as np\n",
        "\n",
        "arrayMatrix2d = np.array([[1,2,3,4,5],[6,7,8,9,10],[11,12,13,14,15],[16,17,18,19,20],[21,22,23,24,25]])\n",
        "\n",
        "newRow2d01 = np.array([[26,27,28,29,30]])\n",
        "newRow2d02 = np.array([[31,32,33,34,35],[36,37,38,39,40]])\n",
        "arrayMatrix2d = np.concatenate([arrayMatrix2d,newRow2d01,newRow2d02],axis= 0)\n",
        "arrayMatrix2d = np.vstack((arrayMatrix2d,newRow2d01,newRow2d02))\n",
        "\n",
        "arrayMatrix2d = np.array([[1,2,3,4,5],[6,7,8,9,10],[11,12,13,14,15],[16,17,18,19,20],[21,22,23,24,25]])\n",
        "\n",
        "newColumn2d01 = np.transpose(newRow2d01)\n",
        "newColumn2d02 = np.transpose(newRow2d02)\n",
        "arrayMatrix2d = np.concatenate([arrayMatrix2d,newColumn2d01,newColumn2d02],axis= 1)\n",
        "arrayMatrix2d = np.hstack((arrayMatrix2d,newColumn2d01,newColumn2d02))"
      ],
      "metadata": {
        "id": "np9dlFfkOY0r"
      },
      "execution_count": null,
      "outputs": []
    },
    {
      "cell_type": "code",
      "source": [
        "import numpy as np\n",
        "\n",
        "arrayMatrix2d = np.array([[1,2,3,4,5],[6,7,8,9,10],[11,12,13,14,15],[16,17,18,19,20],[21,22,23,24,25]])\n",
        "print(\"arrayMatrix2d (추가전) :\\n\", arrayMatrix2d)\n",
        "\n",
        "newRow2d = np.array([[26,27,28,29,30],[31,32,33,34,35]])\n",
        "arrayMatrix2d = np.insert(arrayMatrix2d,1,newRow2d,axis=0)\n",
        "print(\"arrayMatrix2d (2행으로 신규행 추가후) :\\n\", arrayMatrix2d)"
      ],
      "metadata": {
        "colab": {
          "base_uri": "https://localhost:8080/"
        },
        "id": "7f0Z8jsUh1cM",
        "outputId": "fdd398cd-b2ac-4b65-c184-c7297266dc9b"
      },
      "execution_count": null,
      "outputs": [
        {
          "output_type": "stream",
          "name": "stdout",
          "text": [
            "arrayMatrix2d (추가전) :\n",
            " [[ 1  2  3  4  5]\n",
            " [ 6  7  8  9 10]\n",
            " [11 12 13 14 15]\n",
            " [16 17 18 19 20]\n",
            " [21 22 23 24 25]]\n",
            "arrayMatrix2d (2행으로 신규행 추가후) :\n",
            " [[ 1  2  3  4  5]\n",
            " [26 27 28 29 30]\n",
            " [31 32 33 34 35]\n",
            " [ 6  7  8  9 10]\n",
            " [11 12 13 14 15]\n",
            " [16 17 18 19 20]\n",
            " [21 22 23 24 25]]\n"
          ]
        }
      ]
    },
    {
      "cell_type": "code",
      "source": [
        "import numpy as np\n",
        "\n",
        "arrayMatrix2d = np.array([[1,2,3,4,5],[6,7,8,9,10],[11,12,13,14,15],[16,17,18,19,20],[21,22,23,24,25]])\n",
        "print(\"arrayMatrix2d (추가전) :\\n\", arrayMatrix2d)\n",
        "\n",
        "newRow2d = np.array([[26,27,28,29,30],[31,32,33,34,35]])\n",
        "newColumn2d = np.transpose(newRow2d)\n",
        "arrayMatrix2d = np.insert(arrayMatrix2d,1,newColumn2d,axis=1)\n",
        "print(\"arrayMatrix2d (2열로 신규열 추가후) :\\n\", arrayMatrix2d)"
      ],
      "metadata": {
        "colab": {
          "base_uri": "https://localhost:8080/",
          "height": 512
        },
        "id": "EuLkcr7CseDK",
        "outputId": "6f539e8a-5197-4f19-f191-f689faae5463"
      },
      "execution_count": null,
      "outputs": [
        {
          "output_type": "stream",
          "name": "stdout",
          "text": [
            "arrayMatrix2d (추가전) :\n",
            " [[ 1  2  3  4  5]\n",
            " [ 6  7  8  9 10]\n",
            " [11 12 13 14 15]\n",
            " [16 17 18 19 20]\n",
            " [21 22 23 24 25]]\n"
          ]
        },
        {
          "output_type": "error",
          "ename": "ValueError",
          "evalue": "ignored",
          "traceback": [
            "\u001b[0;31m---------------------------------------------------------------------------\u001b[0m",
            "\u001b[0;31mValueError\u001b[0m                                Traceback (most recent call last)",
            "\u001b[0;32m<ipython-input-51-a00304ceaf58>\u001b[0m in \u001b[0;36m<module>\u001b[0;34m\u001b[0m\n\u001b[1;32m      6\u001b[0m \u001b[0mnewRow2d\u001b[0m \u001b[0;34m=\u001b[0m \u001b[0mnp\u001b[0m\u001b[0;34m.\u001b[0m\u001b[0marray\u001b[0m\u001b[0;34m(\u001b[0m\u001b[0;34m[\u001b[0m\u001b[0;34m[\u001b[0m\u001b[0;36m26\u001b[0m\u001b[0;34m,\u001b[0m\u001b[0;36m27\u001b[0m\u001b[0;34m,\u001b[0m\u001b[0;36m28\u001b[0m\u001b[0;34m,\u001b[0m\u001b[0;36m29\u001b[0m\u001b[0;34m,\u001b[0m\u001b[0;36m30\u001b[0m\u001b[0;34m]\u001b[0m\u001b[0;34m,\u001b[0m\u001b[0;34m[\u001b[0m\u001b[0;36m31\u001b[0m\u001b[0;34m,\u001b[0m\u001b[0;36m32\u001b[0m\u001b[0;34m,\u001b[0m\u001b[0;36m33\u001b[0m\u001b[0;34m,\u001b[0m\u001b[0;36m34\u001b[0m\u001b[0;34m,\u001b[0m\u001b[0;36m35\u001b[0m\u001b[0;34m]\u001b[0m\u001b[0;34m]\u001b[0m\u001b[0;34m)\u001b[0m\u001b[0;34m\u001b[0m\u001b[0;34m\u001b[0m\u001b[0m\n\u001b[1;32m      7\u001b[0m \u001b[0mnewColumn2d\u001b[0m \u001b[0;34m=\u001b[0m \u001b[0mnp\u001b[0m\u001b[0;34m.\u001b[0m\u001b[0mtranspose\u001b[0m\u001b[0;34m(\u001b[0m\u001b[0mnewRow2d\u001b[0m\u001b[0;34m)\u001b[0m\u001b[0;34m\u001b[0m\u001b[0;34m\u001b[0m\u001b[0m\n\u001b[0;32m----> 8\u001b[0;31m \u001b[0marrayMatrix2d\u001b[0m \u001b[0;34m=\u001b[0m \u001b[0mnp\u001b[0m\u001b[0;34m.\u001b[0m\u001b[0minsert\u001b[0m\u001b[0;34m(\u001b[0m\u001b[0marrayMatrix2d\u001b[0m\u001b[0;34m,\u001b[0m\u001b[0;36m1\u001b[0m\u001b[0;34m,\u001b[0m\u001b[0mnewColumn2d\u001b[0m\u001b[0;34m,\u001b[0m\u001b[0maxis\u001b[0m\u001b[0;34m=\u001b[0m\u001b[0;36m1\u001b[0m\u001b[0;34m)\u001b[0m\u001b[0;34m\u001b[0m\u001b[0;34m\u001b[0m\u001b[0m\n\u001b[0m\u001b[1;32m      9\u001b[0m \u001b[0mprint\u001b[0m\u001b[0;34m(\u001b[0m\u001b[0;34m\"arrayMatrix2d (2열로 신규열 추가후) :\\n\"\u001b[0m\u001b[0;34m,\u001b[0m \u001b[0marrayMatrix2d\u001b[0m\u001b[0;34m)\u001b[0m\u001b[0;34m\u001b[0m\u001b[0;34m\u001b[0m\u001b[0m\n",
            "\u001b[0;32m<__array_function__ internals>\u001b[0m in \u001b[0;36minsert\u001b[0;34m(*args, **kwargs)\u001b[0m\n",
            "\u001b[0;32m/usr/local/lib/python3.8/dist-packages/numpy/lib/function_base.py\u001b[0m in \u001b[0;36minsert\u001b[0;34m(arr, obj, values, axis)\u001b[0m\n\u001b[1;32m   4722\u001b[0m         \u001b[0mnew\u001b[0m\u001b[0;34m[\u001b[0m\u001b[0mtuple\u001b[0m\u001b[0;34m(\u001b[0m\u001b[0mslobj\u001b[0m\u001b[0;34m)\u001b[0m\u001b[0;34m]\u001b[0m \u001b[0;34m=\u001b[0m \u001b[0marr\u001b[0m\u001b[0;34m[\u001b[0m\u001b[0mtuple\u001b[0m\u001b[0;34m(\u001b[0m\u001b[0mslobj\u001b[0m\u001b[0;34m)\u001b[0m\u001b[0;34m]\u001b[0m\u001b[0;34m\u001b[0m\u001b[0;34m\u001b[0m\u001b[0m\n\u001b[1;32m   4723\u001b[0m         \u001b[0mslobj\u001b[0m\u001b[0;34m[\u001b[0m\u001b[0maxis\u001b[0m\u001b[0;34m]\u001b[0m \u001b[0;34m=\u001b[0m \u001b[0mslice\u001b[0m\u001b[0;34m(\u001b[0m\u001b[0mindex\u001b[0m\u001b[0;34m,\u001b[0m \u001b[0mindex\u001b[0m\u001b[0;34m+\u001b[0m\u001b[0mnumnew\u001b[0m\u001b[0;34m)\u001b[0m\u001b[0;34m\u001b[0m\u001b[0;34m\u001b[0m\u001b[0m\n\u001b[0;32m-> 4724\u001b[0;31m         \u001b[0mnew\u001b[0m\u001b[0;34m[\u001b[0m\u001b[0mtuple\u001b[0m\u001b[0;34m(\u001b[0m\u001b[0mslobj\u001b[0m\u001b[0;34m)\u001b[0m\u001b[0;34m]\u001b[0m \u001b[0;34m=\u001b[0m \u001b[0mvalues\u001b[0m\u001b[0;34m\u001b[0m\u001b[0;34m\u001b[0m\u001b[0m\n\u001b[0m\u001b[1;32m   4725\u001b[0m         \u001b[0mslobj\u001b[0m\u001b[0;34m[\u001b[0m\u001b[0maxis\u001b[0m\u001b[0;34m]\u001b[0m \u001b[0;34m=\u001b[0m \u001b[0mslice\u001b[0m\u001b[0;34m(\u001b[0m\u001b[0mindex\u001b[0m\u001b[0;34m+\u001b[0m\u001b[0mnumnew\u001b[0m\u001b[0;34m,\u001b[0m \u001b[0;32mNone\u001b[0m\u001b[0;34m)\u001b[0m\u001b[0;34m\u001b[0m\u001b[0;34m\u001b[0m\u001b[0m\n\u001b[1;32m   4726\u001b[0m         \u001b[0mslobj2\u001b[0m \u001b[0;34m=\u001b[0m \u001b[0;34m[\u001b[0m\u001b[0mslice\u001b[0m\u001b[0;34m(\u001b[0m\u001b[0;32mNone\u001b[0m\u001b[0;34m)\u001b[0m\u001b[0;34m]\u001b[0m \u001b[0;34m*\u001b[0m \u001b[0mndim\u001b[0m\u001b[0;34m\u001b[0m\u001b[0;34m\u001b[0m\u001b[0m\n",
            "\u001b[0;31mValueError\u001b[0m: could not broadcast input array from shape (2,5) into shape (5,5)"
          ]
        }
      ]
    },
    {
      "cell_type": "code",
      "source": [
        "import numpy as np\n",
        "\n",
        "arrayMatrix2d = np.array([[1,2,3,4,5],[6,7,8,9,10],[11,12,13,14,15],[16,17,18,19,20],[21,22,23,24,25]])\n",
        "print(\"arrayMatrix2d (추가전) :\\n\", arrayMatrix2d)\n",
        "\n",
        "newRow2d = np.array([[26,27,28,29,30],[31,32,33,34,35]])\n",
        "newColumn2d = np.transpose(newRow2d)\n",
        "arrayMatrix2d = np.insert(arrayMatrix2d,[1,2],newColumn2d,axis=1)\n",
        "print(\"arrayMatrix2d (2열과 3열로 신규열 추가후) :\\n\", arrayMatrix2d)"
      ],
      "metadata": {
        "colab": {
          "base_uri": "https://localhost:8080/"
        },
        "id": "Cq1eEzaRuGj4",
        "outputId": "ebbaff89-95c0-4d27-9da0-94411fbce9de"
      },
      "execution_count": null,
      "outputs": [
        {
          "output_type": "stream",
          "name": "stdout",
          "text": [
            "arrayMatrix2d (추가전) :\n",
            " [[ 1  2  3  4  5]\n",
            " [ 6  7  8  9 10]\n",
            " [11 12 13 14 15]\n",
            " [16 17 18 19 20]\n",
            " [21 22 23 24 25]]\n",
            "arrayMatrix2d (2열과 3열로 신규열 추가후) :\n",
            " [[ 1 26  2 31  3  4  5]\n",
            " [ 6 27  7 32  8  9 10]\n",
            " [11 28 12 33 13 14 15]\n",
            " [16 29 17 34 18 19 20]\n",
            " [21 30 22 35 23 24 25]]\n"
          ]
        }
      ]
    },
    {
      "cell_type": "code",
      "source": [
        "import numpy as np\n",
        "\n",
        "arrayMatrix2d = np.array([[1,2,3,4,5],[6,7,8,9,10],[11,12,13,14,15],[16,17,18,19,20],[21,22,23,24,25]])\n",
        "print(\"arrayMatrix2d (추가전) :\\n\", arrayMatrix2d)\n",
        "\n",
        "newRow2d = np.array([[26,27,28,29,30],[31,32,33,34,35]])\n",
        "newColumn2d = np.transpose(newRow2d)\n",
        "arrayMatrix2d = np.insert(arrayMatrix2d,[1,1],newColumn2d,axis=1)\n",
        "print(\"arrayMatrix2d (2열로 신규열 추가후) :\\n\", arrayMatrix2d)"
      ],
      "metadata": {
        "colab": {
          "base_uri": "https://localhost:8080/"
        },
        "id": "axVN7iZGxMxr",
        "outputId": "28b22f72-d633-4117-bfed-806c23947b07"
      },
      "execution_count": null,
      "outputs": [
        {
          "output_type": "stream",
          "name": "stdout",
          "text": [
            "arrayMatrix2d (추가전) :\n",
            " [[ 1  2  3  4  5]\n",
            " [ 6  7  8  9 10]\n",
            " [11 12 13 14 15]\n",
            " [16 17 18 19 20]\n",
            " [21 22 23 24 25]]\n",
            "arrayMatrix2d (2열로 신규열 추가후) :\n",
            " [[ 1 26 31  2  3  4  5]\n",
            " [ 6 27 32  7  8  9 10]\n",
            " [11 28 33 12 13 14 15]\n",
            " [16 29 34 17 18 19 20]\n",
            " [21 30 35 22 23 24 25]]\n"
          ]
        }
      ]
    },
    {
      "cell_type": "code",
      "source": [
        "import numpy as np\n",
        "\n",
        "arrayMatrix2d = np.array([[1,2,3,4,5],[6,7,8,9,10],[11,12,13,14,15],[16,17,18,19,20],[21,22,23,24,25]])\n",
        "print(\"arrayMatrix2d (추가전) :\\n\", arrayMatrix2d)\n",
        "\n",
        "newRow2d = np.array([[26,27,28,29,30]])\n",
        "newColumn2d = np.transpose(newRow2d)\n",
        "\n",
        "arrayMatrix2d = np.insert(arrayMatrix2d,[0,2,3],newColumn2d01,axis=1)\n",
        "print(\"arrayMatrix2d (1열과 3열과 4열에 신규열 추가후) :\\n\", arrayMatrix2d)"
      ],
      "metadata": {
        "colab": {
          "base_uri": "https://localhost:8080/"
        },
        "id": "PtpG6AOMiQr5",
        "outputId": "81b7866f-c165-4577-a156-82191aecd437"
      },
      "execution_count": null,
      "outputs": [
        {
          "output_type": "stream",
          "name": "stdout",
          "text": [
            "arrayMatrix2d (추가전) :\n",
            " [[ 1  2  3  4  5]\n",
            " [ 6  7  8  9 10]\n",
            " [11 12 13 14 15]\n",
            " [16 17 18 19 20]\n",
            " [21 22 23 24 25]]\n",
            "arrayMatrix2d (1열과 3열과 4열에 신규열 추가후) :\n",
            " [[26  1  2 26  3 26  4  5]\n",
            " [27  6  7 27  8 27  9 10]\n",
            " [28 11 12 28 13 28 14 15]\n",
            " [29 16 17 29 18 29 19 20]\n",
            " [30 21 22 30 23 30 24 25]]\n"
          ]
        }
      ]
    },
    {
      "cell_type": "code",
      "source": [
        "import numpy as np\n",
        "\n",
        "arrayMatrix2d = np.array([[1,2,3,4,5],[6,7,8,9,10],[11,12,13,14,15],[16,17,18,19,20],[21,22,23,24,25]])\n",
        "print(\"arrayMatrix2d (추가전) :\\n\", arrayMatrix2d)\n",
        "\n",
        "newRow2d = np.array([[26,27,28,29,30],[31,32,33,34,35]])\n",
        "arrayMatrix2d = np.insert(arrayMatrix2d,[1,3],newRow2d,axis=0)\n",
        "print(\"arrayMatrix2d (2행과 4행으로 신규행 추가후) :\\n\", arrayMatrix2d)"
      ],
      "metadata": {
        "colab": {
          "base_uri": "https://localhost:8080/"
        },
        "id": "GxnUwpIr0D_3",
        "outputId": "467333a4-f6eb-4447-b9a2-fcf03ae60710"
      },
      "execution_count": null,
      "outputs": [
        {
          "output_type": "stream",
          "name": "stdout",
          "text": [
            "arrayMatrix2d (추가전) :\n",
            " [[ 1  2  3  4  5]\n",
            " [ 6  7  8  9 10]\n",
            " [11 12 13 14 15]\n",
            " [16 17 18 19 20]\n",
            " [21 22 23 24 25]]\n",
            "arrayMatrix2d (2행과 4행으로 신규행 추가후) :\n",
            " [[ 1  2  3  4  5]\n",
            " [26 27 28 29 30]\n",
            " [ 6  7  8  9 10]\n",
            " [11 12 13 14 15]\n",
            " [31 32 33 34 35]\n",
            " [16 17 18 19 20]\n",
            " [21 22 23 24 25]]\n"
          ]
        }
      ]
    },
    {
      "cell_type": "code",
      "source": [
        "listVector = []\n",
        "print(\"listVector (빈 벡터) :\\n\", listVector)\n",
        "\n",
        "listVector.append(1)        # 벡터의 요소값들을 외부에서 읽어 온다고 가정\n",
        "listVector.append(2)\n",
        "listVector.append(3)\n",
        "print(\"listVector (값을 읽어와 생성한 벡터) :\\n\", listVector)"
      ],
      "metadata": {
        "colab": {
          "base_uri": "https://localhost:8080/"
        },
        "id": "D9_JmFoWEySM",
        "outputId": "3b1f506f-2d88-47ce-e2dc-4e5adbab02d2"
      },
      "execution_count": null,
      "outputs": [
        {
          "output_type": "stream",
          "name": "stdout",
          "text": [
            "listVector (빈 벡터) :\n",
            " []\n",
            "listVector (값을 읽어와 생성한 벡터) :\n",
            " [1, 2, 3]\n"
          ]
        }
      ]
    },
    {
      "cell_type": "code",
      "source": [
        "import numpy as np\n",
        "\n",
        "# 행렬의 크기를 외부에서 읽어 온다고 가정\n",
        "row = 2       \n",
        "column = 3\n",
        "\n",
        "arrayMatrix2d = np.empty(shape=(row, column))\n",
        "print(\"arrayMatrix2d (빈 배열) :\\n\", arrayMatrix2d)\n",
        "\n",
        "# 행렬의 요소값들을 외부에서 읽어 온다고 가정\n",
        "for i in range(row):\n",
        "    arrayMatrix2d[i] = np.array(np.arange(i * column,i * column + column))\n",
        "\n",
        "print(\"arrayMatrix2d (값을 읽어와 생성한 배열) :\\n\", arrayMatrix2d)"
      ],
      "metadata": {
        "colab": {
          "base_uri": "https://localhost:8080/"
        },
        "id": "QBoH7PX6Fue_",
        "outputId": "e5768f27-984a-4e29-93c8-568d0a9d2da5"
      },
      "execution_count": null,
      "outputs": [
        {
          "output_type": "stream",
          "name": "stdout",
          "text": [
            "arrayMatrix2d (빈 배열) :\n",
            " [[2.5013579e-316 0.0000000e+000 0.0000000e+000]\n",
            " [0.0000000e+000 0.0000000e+000 0.0000000e+000]]\n",
            "arrayMatrix2d (값을 읽어와 생성한 배열) :\n",
            " [[0. 1. 2.]\n",
            " [3. 4. 5.]]\n"
          ]
        }
      ]
    },
    {
      "cell_type": "markdown",
      "source": [
        "numpy 기타"
      ],
      "metadata": {
        "id": "NNKGhXoRJmEB"
      }
    },
    {
      "cell_type": "code",
      "source": [
        "import numpy as np\n",
        "\n",
        "arrayMatrix2d = np.array([[1,2,3,4,5],[6,7,8,9,10],[11,12,13,14,15],[16,17,18,19,20],[21,22,23,24,25]])\n",
        "print(\"arrayMatrix2d (변경전) :\\n\", arrayMatrix2d)\n",
        "arrayMatrix2d = np.flipud(arrayMatrix2d)\n",
        "print(\"arrayMatrix2d (행렬의 상하 변경후) :\\n\", arrayMatrix2d)"
      ],
      "metadata": {
        "colab": {
          "base_uri": "https://localhost:8080/"
        },
        "id": "egeh6CGxYVxU",
        "outputId": "4feb0fcf-ed14-480d-88ff-05757fe015cc"
      },
      "execution_count": null,
      "outputs": [
        {
          "output_type": "stream",
          "name": "stdout",
          "text": [
            "arrayMatrix2d (변경전) :\n",
            " [[ 1  2  3  4  5]\n",
            " [ 6  7  8  9 10]\n",
            " [11 12 13 14 15]\n",
            " [16 17 18 19 20]\n",
            " [21 22 23 24 25]]\n",
            "arrayMatrix2d (행렬의 상하 변경후) :\n",
            " [[21 22 23 24 25]\n",
            " [16 17 18 19 20]\n",
            " [11 12 13 14 15]\n",
            " [ 6  7  8  9 10]\n",
            " [ 1  2  3  4  5]]\n"
          ]
        }
      ]
    },
    {
      "cell_type": "code",
      "source": [
        "import numpy as np\n",
        "\n",
        "arrayMatrix2d = np.array([[1,2,3,4,5],[6,7,8,9,10],[11,12,13,14,15],[16,17,18,19,20],[21,22,23,24,25]])\n",
        "print(\"arrayMatrix2d (변경전) :\\n\", arrayMatrix2d)\n",
        "arrayMatrix2d = np.fliplr(arrayMatrix2d)\n",
        "print(\"arrayMatrix2d (행렬의 좌우 변경후) :\\n\", arrayMatrix2d)"
      ],
      "metadata": {
        "colab": {
          "base_uri": "https://localhost:8080/"
        },
        "id": "WXf_sPAJXSZQ",
        "outputId": "ef5e81a1-9a56-4d59-d04e-2b8773340854"
      },
      "execution_count": null,
      "outputs": [
        {
          "output_type": "stream",
          "name": "stdout",
          "text": [
            "arrayMatrix2d (변경전) :\n",
            " [[ 1  2  3  4  5]\n",
            " [ 6  7  8  9 10]\n",
            " [11 12 13 14 15]\n",
            " [16 17 18 19 20]\n",
            " [21 22 23 24 25]]\n",
            "arrayMatrix2d (행렬의 좌우 변경후) :\n",
            " [[ 5  4  3  2  1]\n",
            " [10  9  8  7  6]\n",
            " [15 14 13 12 11]\n",
            " [20 19 18 17 16]\n",
            " [25 24 23 22 21]]\n"
          ]
        }
      ]
    },
    {
      "cell_type": "code",
      "source": [
        "import numpy as np\n",
        "\n",
        "arrayMatrix2d = np.array([[1,2,3,4,5],[6,7,8,9,10],[11,12,13,14,15],[16,17,18,19,20],[21,22,23,24,25]])\n",
        "print(\"arrayMatrix2d (변경전) :\\n\", arrayMatrix2d)\n",
        "arrayMatrix2d = np.flip(arrayMatrix2d)\n",
        "print(\"arrayMatrix2d (행렬의 앞뒤 변경후) :\\n\", arrayMatrix2d)"
      ],
      "metadata": {
        "colab": {
          "base_uri": "https://localhost:8080/"
        },
        "id": "kHIpc0hrZNSN",
        "outputId": "b05007ec-e30e-499b-b349-22faf282119f"
      },
      "execution_count": null,
      "outputs": [
        {
          "output_type": "stream",
          "name": "stdout",
          "text": [
            "arrayMatrix2d (변경전) :\n",
            " [[ 1  2  3  4  5]\n",
            " [ 6  7  8  9 10]\n",
            " [11 12 13 14 15]\n",
            " [16 17 18 19 20]\n",
            " [21 22 23 24 25]]\n",
            "arrayMatrix2d (행렬의 앞뒤 변경후) :\n",
            " [[25 24 23 22 21]\n",
            " [20 19 18 17 16]\n",
            " [15 14 13 12 11]\n",
            " [10  9  8  7  6]\n",
            " [ 5  4  3  2  1]]\n"
          ]
        }
      ]
    },
    {
      "cell_type": "code",
      "source": [
        "import numpy as np\n",
        "\n",
        "arrayMatrix3d = np.arange(1,28).reshape(3,3,3)\n",
        "print(\"arrayMatrix3d (변경전) :\\n\", arrayMatrix3d)\n",
        "arrayMatrix3d = np.flip(arrayMatrix3d,axis=2)\n",
        "print(\"arrayMatrix3d (3차원 행렬의 3번째 축 기준 앞뒤 변경후) :\\n\", arrayMatrix3d)"
      ],
      "metadata": {
        "colab": {
          "base_uri": "https://localhost:8080/"
        },
        "id": "PonnRUN1aFob",
        "outputId": "464f24f6-9cfb-4d6f-cfbb-c3a5b6d8e903"
      },
      "execution_count": null,
      "outputs": [
        {
          "output_type": "stream",
          "name": "stdout",
          "text": [
            "arrayMatrix3d (변경전) :\n",
            " [[[ 1  2  3]\n",
            "  [ 4  5  6]\n",
            "  [ 7  8  9]]\n",
            "\n",
            " [[10 11 12]\n",
            "  [13 14 15]\n",
            "  [16 17 18]]\n",
            "\n",
            " [[19 20 21]\n",
            "  [22 23 24]\n",
            "  [25 26 27]]]\n",
            "arrayMatrix3d (3차원 행렬의 3번째 축 기준 앞뒤 변경후) :\n",
            " [[[ 3  2  1]\n",
            "  [ 6  5  4]\n",
            "  [ 9  8  7]]\n",
            "\n",
            " [[12 11 10]\n",
            "  [15 14 13]\n",
            "  [18 17 16]]\n",
            "\n",
            " [[21 20 19]\n",
            "  [24 23 22]\n",
            "  [27 26 25]]]\n"
          ]
        }
      ]
    },
    {
      "cell_type": "code",
      "source": [
        "import numpy as np\n",
        "\n",
        "arrayMatrix3d = np.arange(1,28).reshape(3,3,3)\n",
        "print(\"arrayMatrix3d (변경전) :\\n\", arrayMatrix3d)\n",
        "arrayMatrix3d = np.flip(arrayMatrix3d,axis=(0,2))\n",
        "print(\"arrayMatrix3d (3차원 행렬의 1,3번째 축 기준 앞뒤 변경후) :\\n\", arrayMatrix3d)"
      ],
      "metadata": {
        "colab": {
          "base_uri": "https://localhost:8080/"
        },
        "id": "bSKxNFICcsIJ",
        "outputId": "1d8763e9-c191-49ac-9721-839a9bada8c3"
      },
      "execution_count": null,
      "outputs": [
        {
          "output_type": "stream",
          "name": "stdout",
          "text": [
            "arrayMatrix3d (변경전) :\n",
            " [[[ 1  2  3]\n",
            "  [ 4  5  6]\n",
            "  [ 7  8  9]]\n",
            "\n",
            " [[10 11 12]\n",
            "  [13 14 15]\n",
            "  [16 17 18]]\n",
            "\n",
            " [[19 20 21]\n",
            "  [22 23 24]\n",
            "  [25 26 27]]]\n",
            "arrayMatrix3d (3차원 행렬의 1,3번째 축 기준 앞뒤 변경후) :\n",
            " [[[21 20 19]\n",
            "  [24 23 22]\n",
            "  [27 26 25]]\n",
            "\n",
            " [[12 11 10]\n",
            "  [15 14 13]\n",
            "  [18 17 16]]\n",
            "\n",
            " [[ 3  2  1]\n",
            "  [ 6  5  4]\n",
            "  [ 9  8  7]]]\n"
          ]
        }
      ]
    },
    {
      "cell_type": "code",
      "source": [
        "import numpy as np\n",
        "\n",
        "arrayMatrix2d = np.array([[1,2,3,4,5],[6,7,8,9,10],[11,12,13,14,15],[16,17,18,19,20],[21,22,23,24,25]])\n",
        "print(\"arrayMatrix2d (변경전) :\\n\", arrayMatrix2d)\n",
        "arrayMatrix2d = np.roll(arrayMatrix2d,shift=3)\n",
        "print(\"arrayMatrix2d (행렬의 앞뒤 변경후) :\\n\", arrayMatrix2d)"
      ],
      "metadata": {
        "colab": {
          "base_uri": "https://localhost:8080/"
        },
        "id": "7WS07BnNfWmq",
        "outputId": "26c76c3e-05e3-4f97-9990-420150227e1e"
      },
      "execution_count": null,
      "outputs": [
        {
          "output_type": "stream",
          "name": "stdout",
          "text": [
            "arrayMatrix2d (변경전) :\n",
            " [[ 1  2  3  4  5]\n",
            " [ 6  7  8  9 10]\n",
            " [11 12 13 14 15]\n",
            " [16 17 18 19 20]\n",
            " [21 22 23 24 25]]\n",
            "arrayMatrix2d (행렬의 앞뒤 변경후) :\n",
            " [[23 24 25  1  2]\n",
            " [ 3  4  5  6  7]\n",
            " [ 8  9 10 11 12]\n",
            " [13 14 15 16 17]\n",
            " [18 19 20 21 22]]\n"
          ]
        }
      ]
    },
    {
      "cell_type": "code",
      "source": [
        "import numpy as np\n",
        "\n",
        "arrayMatrix2d = np.array([[1,2,3],[4,5,6],[7,8,9]])\n",
        "print(\"arrayMatrix2d (회전전) :\\n\", arrayMatrix2d)\n",
        "arrayMatrix2d = np.rot90(arrayMatrix2d,k=1)\n",
        "print(\"arrayMatrix2d (시계 반대방향 90도 회전후) :\\n\", arrayMatrix2d)\n",
        "arrayMatrix2d = np.rot90(arrayMatrix2d,k=-2)\n",
        "print(\"arrayMatrix2d (시계 방향 180도 회전후) :\\n\", arrayMatrix2d)"
      ],
      "metadata": {
        "colab": {
          "base_uri": "https://localhost:8080/"
        },
        "id": "5FWeBbw8qf3b",
        "outputId": "eb3b2b61-09d2-4f9c-c4f2-79928e08d91e"
      },
      "execution_count": null,
      "outputs": [
        {
          "output_type": "stream",
          "name": "stdout",
          "text": [
            "arrayMatrix2d (회전전) :\n",
            " [[1 2 3]\n",
            " [4 5 6]\n",
            " [7 8 9]]\n",
            "arrayMatrix2d (시계 반대방향 90도 회전후) :\n",
            " [[3 6 9]\n",
            " [2 5 8]\n",
            " [1 4 7]]\n",
            "arrayMatrix2d (시계 방향 180도 회전후) :\n",
            " [[7 4 1]\n",
            " [8 5 2]\n",
            " [9 6 3]]\n"
          ]
        }
      ]
    },
    {
      "cell_type": "code",
      "source": [
        "import numpy as np\n",
        "\n",
        "arrayMatrix3d = np.arange(1,28).reshape(3,3,3)\n",
        "print(\"arrayMatrix3d (회전전) :\\n\", arrayMatrix3d)\n",
        "arrayMatrix3d = np.rot90(arrayMatrix3d,k=1,axes=(0,1))\n",
        "print(\"arrayMatrix3d (3차원 행렬의 1,2번째 축 기준 90도 회전후) :\\n\", arrayMatrix3d)"
      ],
      "metadata": {
        "colab": {
          "base_uri": "https://localhost:8080/"
        },
        "id": "c-CPULWAwB0-",
        "outputId": "cf524045-5567-4fcf-a7b8-d6e7fdd65a48"
      },
      "execution_count": null,
      "outputs": [
        {
          "output_type": "stream",
          "name": "stdout",
          "text": [
            "arrayMatrix3d (회전전) :\n",
            " [[[ 1  2  3]\n",
            "  [ 4  5  6]\n",
            "  [ 7  8  9]]\n",
            "\n",
            " [[10 11 12]\n",
            "  [13 14 15]\n",
            "  [16 17 18]]\n",
            "\n",
            " [[19 20 21]\n",
            "  [22 23 24]\n",
            "  [25 26 27]]]\n",
            "arrayMatrix3d (3차원 행렬의 1,2번째 축 기준 90도 회전후) :\n",
            " [[[ 7  8  9]\n",
            "  [16 17 18]\n",
            "  [25 26 27]]\n",
            "\n",
            " [[ 4  5  6]\n",
            "  [13 14 15]\n",
            "  [22 23 24]]\n",
            "\n",
            " [[ 1  2  3]\n",
            "  [10 11 12]\n",
            "  [19 20 21]]]\n"
          ]
        }
      ]
    },
    {
      "cell_type": "code",
      "source": [
        "import numpy as np\n",
        "\n",
        "arrayMatrix2d = np.array([[1,2],[3,4]])\n",
        "print(\"arrayMatrix2d (반복전) :\\n\", arrayMatrix2d)\n",
        "arrayMatrix2d = np.tile(arrayMatrix2d, reps=3)\n",
        "print(\"arrayMatrix2d (3열로 반복후) :\\n\", arrayMatrix2d)\n",
        "\n",
        "arrayMatrix2d = np.array([[1,2],[3,4]])\n",
        "arrayMatrix2d = np.tile(arrayMatrix2d, reps=(2,3))\n",
        "print(\"arrayMatrix2d (2행 3열로 반복후) :\\n\", arrayMatrix2d)"
      ],
      "metadata": {
        "colab": {
          "base_uri": "https://localhost:8080/"
        },
        "id": "fpA-iqcSzUwE",
        "outputId": "addce996-5d93-4f16-ebda-db2f79ae84d7"
      },
      "execution_count": null,
      "outputs": [
        {
          "output_type": "stream",
          "name": "stdout",
          "text": [
            "arrayMatrix2d (반복전) :\n",
            " [[1 2]\n",
            " [3 4]]\n",
            "arrayMatrix2d (3열로 반복후) :\n",
            " [[1 2 1 2 1 2]\n",
            " [3 4 3 4 3 4]]\n",
            "arrayMatrix2d (2행 3열로 반복후) :\n",
            " [[1 2 1 2 1 2]\n",
            " [3 4 3 4 3 4]\n",
            " [1 2 1 2 1 2]\n",
            " [3 4 3 4 3 4]]\n"
          ]
        }
      ]
    },
    {
      "cell_type": "code",
      "source": [
        "import numpy as np\n",
        "\n",
        "arrayVector = np.arange(10)\n",
        "print(\"arrayVector (섞기전) :\\n\", arrayVector)\n",
        "np.random.shuffle(arrayVector)\n",
        "print(\"arrayVector (섞은후) :\\n\", arrayVector)"
      ],
      "metadata": {
        "colab": {
          "base_uri": "https://localhost:8080/"
        },
        "id": "XKQnVfHs4IaC",
        "outputId": "291e67f2-13d3-47ad-9fb9-6cbc50860ab8"
      },
      "execution_count": null,
      "outputs": [
        {
          "output_type": "stream",
          "name": "stdout",
          "text": [
            "arrayVector (섞기전) :\n",
            " [0 1 2 3 4 5 6 7 8 9]\n",
            "arrayVector (섞은후) :\n",
            " [3 8 0 4 1 2 7 5 9 6]\n"
          ]
        }
      ]
    },
    {
      "cell_type": "code",
      "source": [
        "import random\n",
        "\n",
        "listVector = [0,1,2,3,4,5,6,7,8,9]\n",
        "print(\"listVector (섞기전) :\\n\", listVector)\n",
        "random.shuffle(listVector)\n",
        "print(\"listVector (섞은후) :\\n\", listVector)"
      ],
      "metadata": {
        "colab": {
          "base_uri": "https://localhost:8080/"
        },
        "id": "X0kgEWbuA8nH",
        "outputId": "d57c14d3-c154-44ce-90a7-22549a069e3b"
      },
      "execution_count": null,
      "outputs": [
        {
          "output_type": "stream",
          "name": "stdout",
          "text": [
            "listVector (섞기전) :\n",
            " [0, 1, 2, 3, 4, 5, 6, 7, 8, 9]\n",
            "listVector (섞은후) :\n",
            " [5, 0, 2, 1, 9, 6, 4, 3, 7, 8]\n"
          ]
        }
      ]
    },
    {
      "cell_type": "code",
      "source": [
        "import numpy as np\n",
        "\n",
        "arrayMatrix2d = np.arange(1,37).reshape(6,6)\n",
        "print(\"arrayMatrix2d :\\n\", arrayMatrix2d)\n",
        "\n",
        "splitedMatrix2d = np.split(arrayMatrix2d, 2, axis=0)\n",
        "print(\"splitedMatrix2d[0] :\\n\", splitedMatrix2d[0])\n",
        "print(\"splitedMatrix2d[1] :\\n\", splitedMatrix2d[1])"
      ],
      "metadata": {
        "colab": {
          "base_uri": "https://localhost:8080/"
        },
        "id": "M-kEEAz6PWFT",
        "outputId": "e98f5d6d-5bf9-4d8c-e7d5-3161f7ec3e53"
      },
      "execution_count": null,
      "outputs": [
        {
          "output_type": "stream",
          "name": "stdout",
          "text": [
            "arrayMatrix2d :\n",
            " [[ 1  2  3  4  5  6]\n",
            " [ 7  8  9 10 11 12]\n",
            " [13 14 15 16 17 18]\n",
            " [19 20 21 22 23 24]\n",
            " [25 26 27 28 29 30]\n",
            " [31 32 33 34 35 36]]\n",
            "splitedMatrix2d[0] :\n",
            " [[ 1  2  3  4  5  6]\n",
            " [ 7  8  9 10 11 12]\n",
            " [13 14 15 16 17 18]]\n",
            "splitedMatrix2d[1] :\n",
            " [[19 20 21 22 23 24]\n",
            " [25 26 27 28 29 30]\n",
            " [31 32 33 34 35 36]]\n"
          ]
        }
      ]
    },
    {
      "cell_type": "code",
      "source": [
        "splitedMatrix2d = np.split(arrayMatrix2d, (1,3), axis=0)\n",
        "print(\"splitedMatrix2d[0] :\\n\", splitedMatrix2d[0])\n",
        "print(\"splitedMatrix2d[1] :\\n\", splitedMatrix2d[1])\n",
        "print(\"splitedMatrix2d[2] :\\n\", splitedMatrix2d[2])"
      ],
      "metadata": {
        "colab": {
          "base_uri": "https://localhost:8080/"
        },
        "id": "Xznbe3lBWv0z",
        "outputId": "a884a1eb-c3e5-44fd-ad3c-b9ca6b8f2d1d"
      },
      "execution_count": null,
      "outputs": [
        {
          "output_type": "stream",
          "name": "stdout",
          "text": [
            "splitedMatrix2d[0] :\n",
            " [[1 2 3 4 5 6]]\n",
            "splitedMatrix2d[1] :\n",
            " [[ 7  8  9 10 11 12]\n",
            " [13 14 15 16 17 18]]\n",
            "splitedMatrix2d[2] :\n",
            " [[19 20 21 22 23 24]\n",
            " [25 26 27 28 29 30]\n",
            " [31 32 33 34 35 36]]\n"
          ]
        }
      ]
    },
    {
      "cell_type": "code",
      "source": [
        "import numpy as np\n",
        "\n",
        "arrayVector = np.array([1,2,3,4,5])\n",
        "arrayMatrix2d = np.array([[-2,-1,0,1,2],[1,2,3,4,5]])\n",
        "\n",
        "print(np.any(arrayVector < 0))        # 0보다 작은 값이 있는지 확인\n",
        "print(np.any(arrayMatrix2d < 0))\n",
        "\n",
        "# 두 배열의 요소가 같은 값이 하나라도 있는지 확인\n",
        "equalBooleanIndex = np.array([1,2,3]) == np.array([-1,2,-3])\n",
        "print(\"equalBooleanIndex :\\n\",equalBooleanIndex)\n",
        "np.any(equalBooleanIndex)"
      ],
      "metadata": {
        "colab": {
          "base_uri": "https://localhost:8080/"
        },
        "id": "Ddwol9m5IqH5",
        "outputId": "375b03c0-30a8-4b96-ec67-a84e07ca876d"
      },
      "execution_count": null,
      "outputs": [
        {
          "output_type": "stream",
          "name": "stdout",
          "text": [
            "False\n",
            "True\n",
            "equalBooleanIndex :\n",
            " [False  True False]\n"
          ]
        },
        {
          "output_type": "execute_result",
          "data": {
            "text/plain": [
              "True"
            ]
          },
          "metadata": {},
          "execution_count": 2
        }
      ]
    },
    {
      "cell_type": "code",
      "source": [
        "import numpy as np\n",
        "\n",
        "arrayVector = np.array([1,0,0,0,0])\n",
        "arrayMatrix2d = np.zeros(shape=(2,3))\n",
        "print(\"arrayMatrix2d : \\n\", arrayMatrix2d)\n",
        "\n",
        "print(np.all(arrayVector == 0))        # 모든 값이 0과 같은지 확인\n",
        "print(np.all(arrayMatrix2d == 0))\n",
        "\n",
        "# 두 배열의 요소가 모두 같은 값인지 확인\n",
        "equalBooleanIndex = np.array([1,2,3]) == np.array([-1,2,-3])\n",
        "print(\"equalBooleanIndex :\\n\",equalBooleanIndex)\n",
        "np.all(equalBooleanIndex)"
      ],
      "metadata": {
        "colab": {
          "base_uri": "https://localhost:8080/"
        },
        "id": "bS-PL3s-KrVG",
        "outputId": "ec6872cd-72d3-4290-e57a-475ae15859ed"
      },
      "execution_count": null,
      "outputs": [
        {
          "output_type": "stream",
          "name": "stdout",
          "text": [
            "arrayMatrix2d : \n",
            " [[0. 0. 0.]\n",
            " [0. 0. 0.]]\n",
            "False\n",
            "True\n",
            "equalBooleanIndex :\n",
            " [False  True False]\n"
          ]
        },
        {
          "output_type": "execute_result",
          "data": {
            "text/plain": [
              "False"
            ]
          },
          "metadata": {},
          "execution_count": 3
        }
      ]
    },
    {
      "cell_type": "code",
      "source": [
        "import numpy as np\n",
        "\n",
        "arrayMatrix2d01 = np.array([[-2,-1,0,1,2],[1,2,3,4,5]])\n",
        "arrayMatrix2d02 = np.array([[1,0,0,0,1],[5,4,3,2,1]])\n",
        "arrayMatrix2d03 = arrayMatrix2d01 / arrayMatrix2d02\n",
        "print(\"나누어진 행렬 : \\n\", arrayMatrix2d03)\n",
        "\n",
        "# Not a Number(nan)가 있는지 불리언 인덱스로 확인\n",
        "isnanBooleanIndex = np.isnan(arrayMatrix2d03)          \n",
        "print(\"isnanBooleanIndex : \\n\", isnanBooleanIndex)\n",
        "print(\"nan이 없는 값만 발췌 : \\n\", arrayMatrix2d03[~isnanBooleanIndex])"
      ],
      "metadata": {
        "colab": {
          "base_uri": "https://localhost:8080/"
        },
        "id": "_-4mJWQCJrVp",
        "outputId": "acbccf0e-ae0e-45b4-8be9-fbf014ba1d88"
      },
      "execution_count": null,
      "outputs": [
        {
          "output_type": "stream",
          "name": "stdout",
          "text": [
            "나누어진 행렬 : \n",
            " [[-2.  -inf  nan  inf  2. ]\n",
            " [ 0.2  0.5  1.   2.   5. ]]\n",
            "isnanBooleanIndex : \n",
            " [[False False  True False False]\n",
            " [False False False False False]]\n",
            "nan이 없는 값만 발췌 : \n",
            " [-2.  -inf  inf  2.   0.2  0.5  1.   2.   5. ]\n"
          ]
        },
        {
          "output_type": "stream",
          "name": "stderr",
          "text": [
            "<ipython-input-44-666ee8f2a428>:5: RuntimeWarning: divide by zero encountered in true_divide\n",
            "  arrayMatrix2d03 = arrayMatrix2d01 / arrayMatrix2d02\n",
            "<ipython-input-44-666ee8f2a428>:5: RuntimeWarning: invalid value encountered in true_divide\n",
            "  arrayMatrix2d03 = arrayMatrix2d01 / arrayMatrix2d02\n"
          ]
        }
      ]
    },
    {
      "cell_type": "code",
      "source": [
        "# 무한대(inf,-inf)나 Not a Number(nan)가 없는지 불리언 인덱스로 확인\n",
        "isfiniteBooleanIndex = np.isfinite(arrayMatrix2d03)\n",
        "print(\"isfiniteBooleanIndex : \\n\", isfiniteBooleanIndex)\n",
        "print(\"유한한 값만 발췌 : \\n\", arrayMatrix2d03[isfiniteBooleanIndex])"
      ],
      "metadata": {
        "colab": {
          "base_uri": "https://localhost:8080/"
        },
        "id": "-3PZ6YzWNKoU",
        "outputId": "35c1c9cb-eb8b-4d4b-b957-b2742f52f8b5"
      },
      "execution_count": null,
      "outputs": [
        {
          "output_type": "stream",
          "name": "stdout",
          "text": [
            "isfiniteBooleanIndex : \n",
            " [[ True False False False  True]\n",
            " [ True  True  True  True  True]]\n",
            "유한한 값만 발췌 : \n",
            " [-2.   2.   0.2  0.5  1.   2.   5. ]\n"
          ]
        }
      ]
    },
    {
      "cell_type": "code",
      "source": [
        "print(\"nan인 값을 0으로 바꾼 행렬 :\\n\",np.where(np.isnan(arrayMatrix2d03), 0, arrayMatrix2d03))\n",
        "print(\"유한하지 않은 값을 0으로 바꾼 행렬 :\\n\",np.where(~np.isfinite(arrayMatrix2d03), 0, arrayMatrix2d03))"
      ],
      "metadata": {
        "colab": {
          "base_uri": "https://localhost:8080/"
        },
        "id": "8YeiA9SyR-Qg",
        "outputId": "819796ce-e253-410b-bf47-f02ae7cad5b5"
      },
      "execution_count": null,
      "outputs": [
        {
          "output_type": "stream",
          "name": "stdout",
          "text": [
            "nan인 값을 0으로 바꾼 행렬 :\n",
            " [[-2.  -inf  0.   inf  2. ]\n",
            " [ 0.2  0.5  1.   2.   5. ]]\n",
            "유한하지 않은 값을 0으로 바꾼 행렬 :\n",
            " [[-2.   0.   0.   0.   2. ]\n",
            " [ 0.2  0.5  1.   2.   5. ]]\n"
          ]
        }
      ]
    },
    {
      "cell_type": "code",
      "source": [
        "print(\"nan이 포함되지 않은 배열 비교\\n\",arrayMatrix2d02 == arrayMatrix2d02)\n",
        "print(\"nan이 포함되지 않은 배열 비교\\n\",np.array_equal(arrayMatrix2d02,arrayMatrix2d02))\n",
        "\n",
        "print(\"nan이 포함된 배열 비교\\n\",arrayMatrix2d03 == arrayMatrix2d03)\n",
        "print(\"nan이 포함된 배열 비교\\n\",np.array_equal(arrayMatrix2d03,arrayMatrix2d03))"
      ],
      "metadata": {
        "colab": {
          "base_uri": "https://localhost:8080/"
        },
        "id": "KEzc09piDR6X",
        "outputId": "88ff649f-7a70-462a-e436-1fe6b41fa806"
      },
      "execution_count": null,
      "outputs": [
        {
          "output_type": "stream",
          "name": "stdout",
          "text": [
            "nan이 포함되지 않은 배열 비교\n",
            " [[ True  True  True  True  True]\n",
            " [ True  True  True  True  True]]\n",
            "nan이 포함되지 않은 배열 비교\n",
            " True\n",
            "nan이 포함된 배열 비교\n",
            " [[ True  True False  True  True]\n",
            " [ True  True  True  True  True]]\n",
            "nan이 포함된 배열 비교\n",
            " False\n"
          ]
        }
      ]
    },
    {
      "cell_type": "code",
      "source": [
        "print(\"0보다 작은 값의 불리언 인덱스 : \\n\", arrayMatrix2d03 < 0)\n",
        "print(\"0보다 작은 값 : \\n\", arrayMatrix2d03[arrayMatrix2d03 < 0])\n",
        "\n",
        "print(\"0보다 작은 값의 인덱스 :\\n\",np.where(arrayMatrix2d03 < 0))    \n",
        "print(\"0보다 작은 값 :\\n\", arrayMatrix2d03[np.where(arrayMatrix2d03 < 0)])"
      ],
      "metadata": {
        "colab": {
          "base_uri": "https://localhost:8080/"
        },
        "id": "KOKjqk8JMXqd",
        "outputId": "04175461-d211-4f23-eb15-ec197dad6a17"
      },
      "execution_count": null,
      "outputs": [
        {
          "output_type": "stream",
          "name": "stdout",
          "text": [
            "0보다 작은 값의 불리언 인덱스 : \n",
            " [[ True  True False False False]\n",
            " [False False False False False]]\n",
            "0보다 작은 값 : \n",
            " [ -2. -inf]\n",
            "0보다 작은 값의 인덱스 :\n",
            " (array([0, 0]), array([0, 1]))\n",
            "0보다 작은 값 :\n",
            " [ -2. -inf]\n"
          ]
        }
      ]
    }
  ]
}