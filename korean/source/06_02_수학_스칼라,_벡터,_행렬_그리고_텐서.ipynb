{
  "nbformat": 4,
  "nbformat_minor": 0,
  "metadata": {
    "colab": {
      "provenance": [],
      "mount_file_id": "1w-ki0Gpgts7Bv_raABHmpDGxnrhUYoGT",
      "authorship_tag": "ABX9TyPwfgmcxPrvmnbztcNjRn1h",
      "include_colab_link": true
    },
    "kernelspec": {
      "name": "python3",
      "display_name": "Python 3"
    },
    "language_info": {
      "name": "python"
    }
  },
  "cells": [
    {
      "cell_type": "markdown",
      "metadata": {
        "id": "view-in-github",
        "colab_type": "text"
      },
      "source": [
        "<a href=\"https://colab.research.google.com/github/yongjaeahn/PythonCoding/blob/main/korean/source/06_02_%EC%88%98%ED%95%99_%EC%8A%A4%EC%B9%BC%EB%9D%BC%2C_%EB%B2%A1%ED%84%B0%2C_%ED%96%89%EB%A0%AC_%EA%B7%B8%EB%A6%AC%EA%B3%A0_%ED%85%90%EC%84%9C.ipynb\" target=\"_parent\"><img src=\"https://colab.research.google.com/assets/colab-badge.svg\" alt=\"Open In Colab\"/></a>"
      ]
    },
    {
      "cell_type": "markdown",
      "source": [
        "\t스칼라, 벡터, 행렬 그리고 텐서"
      ],
      "metadata": {
        "id": "yNiBhuEpJ22j"
      }
    },
    {
      "cell_type": "markdown",
      "source": [
        "스칼라"
      ],
      "metadata": {
        "id": "W-507pbJJs6z"
      }
    },
    {
      "cell_type": "code",
      "source": [
        "def addTwoNumbers(number1, number2):\n",
        "    sum = number1 + number2\n",
        "    return sum\n",
        "\n",
        "print(addTwoNumbers(10,20))   # 고정 위치 인자 바인딩"
      ],
      "metadata": {
        "colab": {
          "base_uri": "https://localhost:8080/"
        },
        "id": "ZhKmCuEJnbg8",
        "outputId": "51c79d67-898c-45da-f7b1-99c42182903b"
      },
      "execution_count": null,
      "outputs": [
        {
          "output_type": "stream",
          "name": "stdout",
          "text": [
            "30\n"
          ]
        }
      ]
    },
    {
      "cell_type": "code",
      "source": [
        "print(addTwoNumbers(number2=20,number1=10))   # 고정 키워드 인자 바인딩"
      ],
      "metadata": {
        "colab": {
          "base_uri": "https://localhost:8080/"
        },
        "id": "MY1sk11Fqagx",
        "outputId": "e6fd1a39-f2fc-4591-feb7-2f346fe5f9e4"
      },
      "execution_count": null,
      "outputs": [
        {
          "output_type": "stream",
          "name": "stdout",
          "text": [
            "30\n"
          ]
        }
      ]
    },
    {
      "cell_type": "code",
      "source": [
        "print(addTwoNumbers(10,number2=20))   # 고정 위치와 고정 키워드 인자 혼용"
      ],
      "metadata": {
        "colab": {
          "base_uri": "https://localhost:8080/"
        },
        "id": "jo-q7jZpvreT",
        "outputId": "0349beba-82fb-497c-df65-ccd731f9e64a"
      },
      "execution_count": null,
      "outputs": [
        {
          "output_type": "stream",
          "name": "stdout",
          "text": [
            "30\n"
          ]
        }
      ]
    },
    {
      "cell_type": "code",
      "source": [
        "def addNumbers(*numbers):   # 가변 위치 인자 정의\n",
        "    sum = 0\n",
        "    for number in numbers:\n",
        "        print(\"number :\", number)\n",
        "        sum = sum + number\n",
        "    return sum\n",
        "\n",
        "print(addNumbers())         # 가변 위치 인자 바인딩\n",
        "print(addNumbers(10))\n",
        "print(addNumbers(10,20))\n",
        "print(addNumbers(10,20,30))"
      ],
      "metadata": {
        "colab": {
          "base_uri": "https://localhost:8080/"
        },
        "id": "x8NYGV0VzRlj",
        "outputId": "e6b8594c-6dc1-483d-b6ec-31e3a88519ed"
      },
      "execution_count": null,
      "outputs": [
        {
          "output_type": "stream",
          "name": "stdout",
          "text": [
            "0\n",
            "number : 10\n",
            "10\n",
            "number : 10\n",
            "number : 20\n",
            "30\n",
            "number : 10\n",
            "number : 20\n",
            "number : 30\n",
            "60\n"
          ]
        }
      ]
    },
    {
      "cell_type": "code",
      "source": [
        "def addNumbers(*numbers,start=0):   # start 인자의 초기값 지정\n",
        "    sum = start\n",
        "    for number in numbers:\n",
        "        #print(\"number :\", number)\n",
        "        sum = sum + number\n",
        "    return sum\n",
        "\n",
        "print(addNumbers(10,20))            # start 인자의 초기값 사용\n",
        "print(addNumbers(10,20,start=100))  # start 인자의 값 별도 지정"
      ],
      "metadata": {
        "colab": {
          "base_uri": "https://localhost:8080/"
        },
        "id": "gR8XWs6JCMXV",
        "outputId": "91c2b16d-ed5f-4f94-f59a-9554e6b322bc"
      },
      "execution_count": null,
      "outputs": [
        {
          "output_type": "stream",
          "name": "stdout",
          "text": [
            "30\n",
            "130\n"
          ]
        }
      ]
    },
    {
      "cell_type": "code",
      "source": [
        "def listKeywordArgs(**kwargs):  # 가변 키워드 인자 정의\n",
        "    print('listKeywordArgs() 함수 시작')\n",
        "    for key, value in kwargs.items():\n",
        "        print(key, '=',value)\n",
        "\n",
        "listKeywordArgs()               # 가변 키워드 인자 바인딩\n",
        "listKeywordArgs(name=\"홍길동\")\n",
        "listKeywordArgs(name=\"홍길동\", age=25)\n",
        "listKeywordArgs(name=\"홍길동\", age=25, address=\"율도국\")"
      ],
      "metadata": {
        "colab": {
          "base_uri": "https://localhost:8080/"
        },
        "id": "YEhcTf80E2Sc",
        "outputId": "4f5d9eb9-8184-4f04-a3c1-3107e8ab8273"
      },
      "execution_count": null,
      "outputs": [
        {
          "output_type": "stream",
          "name": "stdout",
          "text": [
            "listKeywordArgs() 함수 시작\n",
            "listKeywordArgs() 함수 시작\n",
            "name = 홍길동\n",
            "listKeywordArgs() 함수 시작\n",
            "name = 홍길동\n",
            "age = 25\n",
            "listKeywordArgs() 함수 시작\n",
            "name = 홍길동\n",
            "age = 25\n",
            "address = 율도국\n"
          ]
        }
      ]
    },
    {
      "cell_type": "code",
      "source": [
        "print(addTwoNumbers(number2=20,10))   # 고정 위치와 고정 키워드 인자 혼용"
      ],
      "metadata": {
        "colab": {
          "base_uri": "https://localhost:8080/",
          "height": 138
        },
        "id": "wRWO9JZBxjZW",
        "outputId": "f7bf497e-4468-4199-aa7a-ed0285fcf26f"
      },
      "execution_count": null,
      "outputs": [
        {
          "output_type": "error",
          "ename": "SyntaxError",
          "evalue": "ignored",
          "traceback": [
            "\u001b[0;36m  File \u001b[0;32m\"<ipython-input-5-ac9a32d7d631>\"\u001b[0;36m, line \u001b[0;32m1\u001b[0m\n\u001b[0;31m    print(addTwoNumbers(number2=20,10))   # 고정 위치와 고정 키워드 인자 혼용\u001b[0m\n\u001b[0m                                   ^\u001b[0m\n\u001b[0;31mSyntaxError\u001b[0m\u001b[0;31m:\u001b[0m positional argument follows keyword argument\n"
          ]
        }
      ]
    },
    {
      "cell_type": "code",
      "source": [
        "print(\"Python 연산자\")\n",
        "print(\"2의 세제곱 : \", 2**3)\n",
        "print(\"2.0의 세제곱 : \", 2.0**3)\n",
        "print(\"1+2j의 세제곱 : \", (1+2j)**3)\n",
        "print(\"2의 제곱근 : \", 2**0.5)\n",
        "print()\n",
        "\n",
        "print(\"Python 내장 수학 함수\")\n",
        "print(\"-3의 절대값 : \", abs(-3))\n",
        "print(\"-3.5의 절대값 : \", abs(-3.5))\n",
        "print(\"1+2j의 절대값 : \", abs(1+2j))\n",
        "print(\"2의 세제곱 : \", pow(2,3))\n",
        "print(\"2.0의 세제곱 : \", pow(2.,3))\n",
        "print(\"리스트의 합 : \", sum([.1, .1, .1, .1, .1, .1, .1, .1, .1, .1]))\n",
        "print()\n",
        "\n",
        "import math\n",
        "print(\"math 모듈 수학 함수\")\n",
        "print(\"-3의 절대값 : \", math.fabs(-3))\n",
        "print(\"-3.5의 절대값 : \", math.fabs(-3.5))\n",
        "#print(\"1+2j의 절대값 : \", math.fabs(1+2j))     # 오류가 발생하여 주석 처리\n",
        "print(\"2의 세제곱 : \", math.pow(2,3))\n",
        "print(\"리스트의 합 : \", math.fsum([.1, .1, .1, .1, .1, .1, .1, .1, .1, .1]))\n",
        "print(\"2의 제곱근 : \", math.sqrt(2))"
      ],
      "metadata": {
        "colab": {
          "base_uri": "https://localhost:8080/"
        },
        "id": "eRDuXTuxlViY",
        "outputId": "ec3a0f2d-f078-4a8d-97ae-700cb9743227"
      },
      "execution_count": null,
      "outputs": [
        {
          "output_type": "stream",
          "name": "stdout",
          "text": [
            "Python 연산자\n",
            "2의 세제곱 :  8\n",
            "2.0의 세제곱 :  8.0\n",
            "1+2j의 세제곱 :  (-11-2j)\n",
            "2의 제곱근 :  1.4142135623730951\n",
            "\n",
            "Python 내장 수학 함수\n",
            "-3의 절대값 :  3\n",
            "-3.5의 절대값 :  3.5\n",
            "1+2j의 절대값 :  2.23606797749979\n",
            "2의 세제곱 :  8\n",
            "2.0의 세제곱 :  8.0\n",
            "리스트의 합 :  0.9999999999999999\n",
            "\n",
            "math 모듈 수학 함수\n",
            "-3의 절대값 :  3.0\n",
            "-3.5의 절대값 :  3.5\n",
            "2의 세제곱 :  8.0\n",
            "리스트의 합 :  1.0\n",
            "2의 제곱근 :  1.4142135623730951\n"
          ]
        }
      ]
    },
    {
      "cell_type": "markdown",
      "source": [
        "벡터"
      ],
      "metadata": {
        "id": "19KdBGW8Q7F6"
      }
    },
    {
      "cell_type": "code",
      "source": [
        "listVector1 = [1,2,3,4,5]\n",
        "listVector2 = [5,4,3,2,1]\n",
        "print(\"벡터의 덧셈 : \",listVector1 + listVector2)\n",
        "print(\"벡터의 뺄셈 : \",listVector1 - listVector2)"
      ],
      "metadata": {
        "colab": {
          "base_uri": "https://localhost:8080/",
          "height": 232
        },
        "id": "grcKrPLnoJ9S",
        "outputId": "492c4104-cc42-40f5-9a06-4487e3695bf1"
      },
      "execution_count": null,
      "outputs": [
        {
          "output_type": "stream",
          "name": "stdout",
          "text": [
            "벡터의 덧셈 :  [1, 2, 3, 4, 5, 5, 4, 3, 2, 1]\n"
          ]
        },
        {
          "output_type": "error",
          "ename": "TypeError",
          "evalue": "ignored",
          "traceback": [
            "\u001b[0;31m---------------------------------------------------------------------------\u001b[0m",
            "\u001b[0;31mTypeError\u001b[0m                                 Traceback (most recent call last)",
            "\u001b[0;32m<ipython-input-3-e1cf36f1e9d0>\u001b[0m in \u001b[0;36m<module>\u001b[0;34m\u001b[0m\n\u001b[1;32m      2\u001b[0m \u001b[0mlistVector2\u001b[0m \u001b[0;34m=\u001b[0m \u001b[0;34m[\u001b[0m\u001b[0;36m5\u001b[0m\u001b[0;34m,\u001b[0m\u001b[0;36m4\u001b[0m\u001b[0;34m,\u001b[0m\u001b[0;36m3\u001b[0m\u001b[0;34m,\u001b[0m\u001b[0;36m2\u001b[0m\u001b[0;34m,\u001b[0m\u001b[0;36m1\u001b[0m\u001b[0;34m]\u001b[0m\u001b[0;34m\u001b[0m\u001b[0;34m\u001b[0m\u001b[0m\n\u001b[1;32m      3\u001b[0m \u001b[0mprint\u001b[0m\u001b[0;34m(\u001b[0m\u001b[0;34m\"벡터의 덧셈 : \"\u001b[0m\u001b[0;34m,\u001b[0m\u001b[0mlistVector1\u001b[0m \u001b[0;34m+\u001b[0m \u001b[0mlistVector2\u001b[0m\u001b[0;34m)\u001b[0m\u001b[0;34m\u001b[0m\u001b[0;34m\u001b[0m\u001b[0m\n\u001b[0;32m----> 4\u001b[0;31m \u001b[0mprint\u001b[0m\u001b[0;34m(\u001b[0m\u001b[0;34m\"벡터의 뺄셈 : \"\u001b[0m\u001b[0;34m,\u001b[0m\u001b[0mlistVector1\u001b[0m \u001b[0;34m-\u001b[0m \u001b[0mlistVector2\u001b[0m\u001b[0;34m)\u001b[0m\u001b[0;34m\u001b[0m\u001b[0;34m\u001b[0m\u001b[0m\n\u001b[0m",
            "\u001b[0;31mTypeError\u001b[0m: unsupported operand type(s) for -: 'list' and 'list'"
          ]
        }
      ]
    },
    {
      "cell_type": "code",
      "source": [
        "import numpy as np\n",
        "arrayVector1 = np.array([1,2,3,4,5])\n",
        "arrayVector2 = np.array([5,4,3,2,1])\n",
        "print(\"벡터의 덧셈 : \",arrayVector1 + arrayVector2)\n",
        "print(\"벡터의 뺄셈 : \",arrayVector1 - arrayVector2)\n",
        "print(\"벡터의 곱셈 : \",arrayVector1 * arrayVector2)\n",
        "print(\"벡터의 나눗셈 : \",arrayVector1 / arrayVector2)\n",
        "print(\"벡터의 자승 : \",arrayVector1 ** arrayVector2)"
      ],
      "metadata": {
        "colab": {
          "base_uri": "https://localhost:8080/"
        },
        "id": "b2_NBKMoqAqK",
        "outputId": "8410fe88-7dc8-4b4f-e5a5-9f01b46ed04e"
      },
      "execution_count": null,
      "outputs": [
        {
          "output_type": "stream",
          "name": "stdout",
          "text": [
            "벡터의 덧셈 :  [6 6 6 6 6]\n",
            "벡터의 뺄셈 :  [-4 -2  0  2  4]\n",
            "벡터의 곱셈 :  [5 8 9 8 5]\n",
            "벡터의 나눗셈 :  [0.2 0.5 1.  2.  5. ]\n",
            "벡터의 자승 :  [ 1 16 27 16  5]\n"
          ]
        }
      ]
    },
    {
      "cell_type": "code",
      "source": [
        "import numpy as np\n",
        "arrayVector = np.array([1,2,3,4,5])\n",
        "print(\"벡터와 스칼라의 덧셈 : \", arrayVector + 2)\n",
        "print(\"벡터와 스칼라의 뺄셈 : \", arrayVector - 2)\n",
        "print(\"벡터와 스칼라의 곱셈 : \", arrayVector * 2)\n",
        "print(\"벡터와 스칼라의 나눗셈 : \", arrayVector / 2)\n",
        "print(\"벡터와 스칼라의 자승 : \", arrayVector ** 2)\n",
        "print()\n",
        "print(\"스칼라와 벡터의 덧셈 : \", 2 + arrayVector)\n",
        "print(\"스칼라와 벡터의 뺄셈 : \", 2 - arrayVector)\n",
        "print(\"스칼라와 벡터의 곱셈 : \", 2 * arrayVector)\n",
        "print(\"스칼라와 벡터의 나눗셈 : \", 2 / arrayVector)\n",
        "print(\"스칼라와 벡터의 자승 : \", 2 ** arrayVector)"
      ],
      "metadata": {
        "colab": {
          "base_uri": "https://localhost:8080/"
        },
        "id": "yHkYxS68fT9L",
        "outputId": "cc241159-8a64-4104-f99a-03c57d318eb7"
      },
      "execution_count": null,
      "outputs": [
        {
          "output_type": "stream",
          "name": "stdout",
          "text": [
            "벡터와 스칼라의 덧셈 :  [3 4 5 6 7]\n",
            "벡터와 스칼라의 뺄셈 :  [-1  0  1  2  3]\n",
            "벡터와 스칼라의 곱셈 :  [ 2  4  6  8 10]\n",
            "벡터와 스칼라의 나눗셈 :  [0.5 1.  1.5 2.  2.5]\n",
            "벡터와 스칼라의 자승 :  [ 1  4  9 16 25]\n",
            "\n",
            "스칼라와 벡터의 덧셈 :  [3 4 5 6 7]\n",
            "스칼라와 벡터의 뺄셈 :  [ 1  0 -1 -2 -3]\n",
            "스칼라와 벡터의 곱셈 :  [ 2  4  6  8 10]\n",
            "스칼라와 벡터의 나눗셈 :  [2.         1.         0.66666667 0.5        0.4       ]\n",
            "스칼라와 벡터의 자승 :  [ 2  4  8 16 32]\n"
          ]
        }
      ]
    },
    {
      "cell_type": "code",
      "source": [
        "listVector = [1,-2,3,-4,5]\n",
        "abs(listVector)"
      ],
      "metadata": {
        "colab": {
          "base_uri": "https://localhost:8080/",
          "height": 193
        },
        "id": "PXDp2dNEkLtx",
        "outputId": "cbbb9eb0-a5f5-4594-dad0-52e5645d0e77"
      },
      "execution_count": null,
      "outputs": [
        {
          "output_type": "error",
          "ename": "TypeError",
          "evalue": "ignored",
          "traceback": [
            "\u001b[0;31m---------------------------------------------------------------------------\u001b[0m",
            "\u001b[0;31mTypeError\u001b[0m                                 Traceback (most recent call last)",
            "\u001b[0;32m<ipython-input-24-352838c21deb>\u001b[0m in \u001b[0;36m<module>\u001b[0;34m\u001b[0m\n\u001b[1;32m      1\u001b[0m \u001b[0mlistVector\u001b[0m \u001b[0;34m=\u001b[0m \u001b[0;34m[\u001b[0m\u001b[0;36m1\u001b[0m\u001b[0;34m,\u001b[0m\u001b[0;34m-\u001b[0m\u001b[0;36m2\u001b[0m\u001b[0;34m,\u001b[0m\u001b[0;36m3\u001b[0m\u001b[0;34m,\u001b[0m\u001b[0;34m-\u001b[0m\u001b[0;36m4\u001b[0m\u001b[0;34m,\u001b[0m\u001b[0;36m5\u001b[0m\u001b[0;34m]\u001b[0m\u001b[0;34m\u001b[0m\u001b[0;34m\u001b[0m\u001b[0m\n\u001b[0;32m----> 2\u001b[0;31m \u001b[0mabs\u001b[0m\u001b[0;34m(\u001b[0m\u001b[0mlistVector\u001b[0m\u001b[0;34m)\u001b[0m\u001b[0;34m\u001b[0m\u001b[0;34m\u001b[0m\u001b[0m\n\u001b[0m",
            "\u001b[0;31mTypeError\u001b[0m: bad operand type for abs(): 'list'"
          ]
        }
      ]
    },
    {
      "cell_type": "code",
      "source": [
        "listVector = [1,-2,3,-4,5]\n",
        "\n",
        "for scala in listVector:\n",
        "    print(\"abs(\"+str(scala)+\") = \", abs(scala))"
      ],
      "metadata": {
        "colab": {
          "base_uri": "https://localhost:8080/"
        },
        "id": "78AdgmTAl5yV",
        "outputId": "996a437e-1921-49d3-8750-2c751e48f372"
      },
      "execution_count": null,
      "outputs": [
        {
          "output_type": "stream",
          "name": "stdout",
          "text": [
            "abs(1) =  1\n",
            "abs(-2) =  2\n",
            "abs(3) =  3\n",
            "abs(-4) =  4\n",
            "abs(5) =  5\n"
          ]
        }
      ]
    },
    {
      "cell_type": "code",
      "source": [
        "import numpy as np\n",
        "arrayVector = np.array([1,-2,3,-4,5])\n",
        "abs(arrayVector)"
      ],
      "metadata": {
        "colab": {
          "base_uri": "https://localhost:8080/"
        },
        "id": "oTL-bvyRmrMu",
        "outputId": "ea298f7b-cbf6-4bc2-89d0-16811e975cda"
      },
      "execution_count": null,
      "outputs": [
        {
          "output_type": "execute_result",
          "data": {
            "text/plain": [
              "array([1, 2, 3, 4, 5])"
            ]
          },
          "metadata": {},
          "execution_count": 2
        }
      ]
    },
    {
      "cell_type": "code",
      "source": [
        "import numpy as np\n",
        "arrayVector = np.array([1,-2,3,-4,5])\n",
        "\n",
        "for scala in arrayVector:\n",
        "    print(\"abs(\"+str(scala)+\") = \", abs(scala))"
      ],
      "metadata": {
        "colab": {
          "base_uri": "https://localhost:8080/"
        },
        "id": "zI4CA6cxnfJP",
        "outputId": "4474e3c9-6172-453b-e430-17de6e04ab8e"
      },
      "execution_count": null,
      "outputs": [
        {
          "output_type": "stream",
          "name": "stdout",
          "text": [
            "abs(1) =  1\n",
            "abs(-2) =  2\n",
            "abs(3) =  3\n",
            "abs(-4) =  4\n",
            "abs(5) =  5\n"
          ]
        }
      ]
    },
    {
      "cell_type": "code",
      "source": [
        "import numpy as np\n",
        "import math\n",
        "\n",
        "#listVector = [1,-2,3,-4,5]           # 오류가 발생하여 주석 처리\n",
        "#print(math.fabs(listVector))         # 오류가 발생하여 주석 처리\n",
        "\n",
        "arrayVector = np.array([1,-2,3,-4,5])\n",
        "print(math.fabs(arrayVector))"
      ],
      "metadata": {
        "colab": {
          "base_uri": "https://localhost:8080/",
          "height": 213
        },
        "id": "vR7AWZPqEeYG",
        "outputId": "6febd7d8-0d1c-4ac7-f4f1-2a08a2c80b94"
      },
      "execution_count": null,
      "outputs": [
        {
          "output_type": "error",
          "ename": "TypeError",
          "evalue": "ignored",
          "traceback": [
            "\u001b[0;31m---------------------------------------------------------------------------\u001b[0m",
            "\u001b[0;31mTypeError\u001b[0m                                 Traceback (most recent call last)",
            "\u001b[0;32m<ipython-input-8-cee263c3d5a6>\u001b[0m in \u001b[0;36m<module>\u001b[0;34m\u001b[0m\n\u001b[1;32m      6\u001b[0m \u001b[0;34m\u001b[0m\u001b[0m\n\u001b[1;32m      7\u001b[0m \u001b[0marrayVector\u001b[0m \u001b[0;34m=\u001b[0m \u001b[0mnp\u001b[0m\u001b[0;34m.\u001b[0m\u001b[0marray\u001b[0m\u001b[0;34m(\u001b[0m\u001b[0;34m[\u001b[0m\u001b[0;36m1\u001b[0m\u001b[0;34m,\u001b[0m\u001b[0;34m-\u001b[0m\u001b[0;36m2\u001b[0m\u001b[0;34m,\u001b[0m\u001b[0;36m3\u001b[0m\u001b[0;34m,\u001b[0m\u001b[0;34m-\u001b[0m\u001b[0;36m4\u001b[0m\u001b[0;34m,\u001b[0m\u001b[0;36m5\u001b[0m\u001b[0;34m]\u001b[0m\u001b[0;34m)\u001b[0m\u001b[0;34m\u001b[0m\u001b[0;34m\u001b[0m\u001b[0m\n\u001b[0;32m----> 8\u001b[0;31m \u001b[0mprint\u001b[0m\u001b[0;34m(\u001b[0m\u001b[0mmath\u001b[0m\u001b[0;34m.\u001b[0m\u001b[0mfabs\u001b[0m\u001b[0;34m(\u001b[0m\u001b[0marrayVector\u001b[0m\u001b[0;34m)\u001b[0m\u001b[0;34m)\u001b[0m\u001b[0;34m\u001b[0m\u001b[0;34m\u001b[0m\u001b[0m\n\u001b[0m",
            "\u001b[0;31mTypeError\u001b[0m: only size-1 arrays can be converted to Python scalars"
          ]
        }
      ]
    },
    {
      "cell_type": "code",
      "source": [
        "import numpy as np\n",
        "\n",
        "arrayVector = np.array([1,-2,3,-4,5])\n",
        "print(np.abs(arrayVector))"
      ],
      "metadata": {
        "colab": {
          "base_uri": "https://localhost:8080/"
        },
        "id": "FODr3Jd-8DRg",
        "outputId": "1f3554fd-e1e8-4ad0-e47d-6f056a56b206"
      },
      "execution_count": null,
      "outputs": [
        {
          "output_type": "stream",
          "name": "stdout",
          "text": [
            "[1. 2. 3. 4. 5.]\n"
          ]
        }
      ]
    },
    {
      "cell_type": "markdown",
      "source": [
        "행렬"
      ],
      "metadata": {
        "id": "ydTIy_oVvauz"
      }
    },
    {
      "cell_type": "code",
      "source": [
        "listMatrix2d = [[1,2,3],[4,5,6],[7,8,9]]\n",
        "print(listMatrix2d)"
      ],
      "metadata": {
        "colab": {
          "base_uri": "https://localhost:8080/"
        },
        "id": "0rSw7UAyh93o",
        "outputId": "214ca7bf-7cb1-4bd9-86da-6eb9a9400bc1"
      },
      "execution_count": null,
      "outputs": [
        {
          "output_type": "stream",
          "name": "stdout",
          "text": [
            "[[1, 2, 3], [4, 5, 6], [7, 8, 9]]\n"
          ]
        }
      ]
    },
    {
      "cell_type": "code",
      "source": [
        "import numpy as np\n",
        "arrayMatrix2d = np.array([[1,2,3],[4,5,6],[7,8,9]])\n",
        "print(arrayMatrix2d)"
      ],
      "metadata": {
        "colab": {
          "base_uri": "https://localhost:8080/"
        },
        "id": "-ulM2FT8itb1",
        "outputId": "753fa45b-6813-4191-f5fe-b48c60a38bb0"
      },
      "execution_count": null,
      "outputs": [
        {
          "output_type": "stream",
          "name": "stdout",
          "text": [
            "[[1 2 3]\n",
            " [4 5 6]\n",
            " [7 8 9]]\n"
          ]
        }
      ]
    },
    {
      "cell_type": "code",
      "source": [
        "import numpy as np\n",
        "arrayMatrix3d = np.array([[[1,2,3],[4,5,6],[7,8,9]],[[10,11,12],[13,14,15],[16,17,18]],[[10,20,21],[22,23,24],[25,26,27]]])\n",
        "print(arrayMatrix3d)"
      ],
      "metadata": {
        "colab": {
          "base_uri": "https://localhost:8080/"
        },
        "id": "OfupfoBqmmzN",
        "outputId": "654f0a90-0da2-4582-eb70-ab64d16a9544"
      },
      "execution_count": null,
      "outputs": [
        {
          "output_type": "stream",
          "name": "stdout",
          "text": [
            "[[[ 1  2  3]\n",
            "  [ 4  5  6]\n",
            "  [ 7  8  9]]\n",
            "\n",
            " [[10 11 12]\n",
            "  [13 14 15]\n",
            "  [16 17 18]]\n",
            "\n",
            " [[10 20 21]\n",
            "  [22 23 24]\n",
            "  [25 26 27]]]\n"
          ]
        }
      ]
    },
    {
      "cell_type": "code",
      "source": [
        "import numpy as np\n",
        "\n",
        "arrayMatrix1d = np.arange(1,10)\n",
        "print(arrayMatrix1d)\n",
        "\n",
        "arrayMatrix2d = np.arange(1,10).reshape(3,3)\n",
        "print(arrayMatrix2d)\n",
        "\n",
        "arrayMatrix3d = np.arange(1,28).reshape(3,3,3)\n",
        "print(arrayMatrix3d)"
      ],
      "metadata": {
        "colab": {
          "base_uri": "https://localhost:8080/"
        },
        "id": "qf-MJB_poeOK",
        "outputId": "c4bac75b-1f2b-42b4-89f9-da0668b0766e"
      },
      "execution_count": null,
      "outputs": [
        {
          "output_type": "stream",
          "name": "stdout",
          "text": [
            "[1 2 3 4 5 6 7 8 9]\n",
            "[[1 2 3]\n",
            " [4 5 6]\n",
            " [7 8 9]]\n",
            "[[[ 1  2  3]\n",
            "  [ 4  5  6]\n",
            "  [ 7  8  9]]\n",
            "\n",
            " [[10 11 12]\n",
            "  [13 14 15]\n",
            "  [16 17 18]]\n",
            "\n",
            " [[19 20 21]\n",
            "  [22 23 24]\n",
            "  [25 26 27]]]\n"
          ]
        }
      ]
    },
    {
      "cell_type": "code",
      "source": [
        "import numpy as np\n",
        "\n",
        "arrayMatrix1d = np.arange(1,10).reshape(3,3).reshape(9)\n",
        "print(arrayMatrix1d)\n",
        "\n",
        "arrayMatrix3d = np.arange(1,28).reshape(3,3,3)\n",
        "print(arrayMatrix3d)\n",
        "print(arrayMatrix3d.reshape(np.size(arrayMatrix3d)))"
      ],
      "metadata": {
        "colab": {
          "base_uri": "https://localhost:8080/"
        },
        "id": "GunGvxllhuYY",
        "outputId": "279078ba-1124-42dd-b903-3f250bc50bc2"
      },
      "execution_count": null,
      "outputs": [
        {
          "output_type": "stream",
          "name": "stdout",
          "text": [
            "[1 2 3 4 5 6 7 8 9]\n",
            "[[[ 1  2  3]\n",
            "  [ 4  5  6]\n",
            "  [ 7  8  9]]\n",
            "\n",
            " [[10 11 12]\n",
            "  [13 14 15]\n",
            "  [16 17 18]]\n",
            "\n",
            " [[19 20 21]\n",
            "  [22 23 24]\n",
            "  [25 26 27]]]\n",
            "[ 1  2  3  4  5  6  7  8  9 10 11 12 13 14 15 16 17 18 19 20 21 22 23 24\n",
            " 25 26 27]\n"
          ]
        }
      ]
    },
    {
      "cell_type": "code",
      "source": [
        "import numpy as np\n",
        "\n",
        "arrayMatrix2d = np.arange(1,10).reshape(3,3)\n",
        "print('arrayMatrix2d\\n',arrayMatrix2d)\n",
        "\n",
        "print('1차원-reshape() 메소드',arrayMatrix2d.reshape(np.size(arrayMatrix2d)))\n",
        "print('1차원-revel() 메소드',arrayMatrix2d.ravel())\n",
        "print('1차원-flat 속성',arrayMatrix2d.flat)\n",
        "for element in arrayMatrix2d.flat:\n",
        "    print(element,end=' ')"
      ],
      "metadata": {
        "colab": {
          "base_uri": "https://localhost:8080/"
        },
        "id": "kXqFOUdyTlNQ",
        "outputId": "665d05fa-f3d6-43a6-adaf-464ba97796da"
      },
      "execution_count": null,
      "outputs": [
        {
          "output_type": "stream",
          "name": "stdout",
          "text": [
            "arrayMatrix2d\n",
            " [[1 2 3]\n",
            " [4 5 6]\n",
            " [7 8 9]]\n",
            "1차원-reshape() 메소드 [1 2 3 4 5 6 7 8 9]\n",
            "1차원-revel() 메소드 [1 2 3 4 5 6 7 8 9]\n",
            "1차원-flat 속성 <numpy.flatiter object at 0x2f15060>\n",
            "1 2 3 4 5 6 7 8 9 "
          ]
        }
      ]
    },
    {
      "cell_type": "code",
      "source": [
        "import numpy as np\n",
        "\n",
        "list4d = [[[['R111','G111','B111'],['R112','G112','B112']],\n",
        "           [['R121','G121','B121'],['R122','G122','B122']]],\n",
        "          \n",
        "          [[['R211','G211','B211'],['R212','G212','B212']],\n",
        "           [['R221','G221','B221'],['R222','G222','B222']]]]\n",
        "\n",
        "arrayMatrix4d = np.array(list4d)\n",
        "print('arrayMatrix4d의 형상:',arrayMatrix4d.shape)"
      ],
      "metadata": {
        "colab": {
          "base_uri": "https://localhost:8080/"
        },
        "id": "DvaxOcQQdofY",
        "outputId": "38e0b542-17e9-4e60-ac8d-59ea1e23cb15"
      },
      "execution_count": 15,
      "outputs": [
        {
          "output_type": "stream",
          "name": "stdout",
          "text": [
            "arrayMatrix4d의 형상: (2, 2, 2, 3)\n"
          ]
        }
      ]
    },
    {
      "cell_type": "code",
      "source": [
        "arrayMatrix2d = arrayMatrix4d.reshape(2,12)\n",
        "print('arrayMatrix2d\\n',arrayMatrix2d)"
      ],
      "metadata": {
        "colab": {
          "base_uri": "https://localhost:8080/"
        },
        "id": "J3D0cwnNnxPx",
        "outputId": "49f0e378-fd84-4f05-cf55-0db78a144148"
      },
      "execution_count": 17,
      "outputs": [
        {
          "output_type": "stream",
          "name": "stdout",
          "text": [
            "arrayMatrix2d\n",
            " [['R111' 'G111' 'B111' 'R112' 'G112' 'B112' 'R121' 'G121' 'B121' 'R122'\n",
            "  'G122' 'B122']\n",
            " ['R211' 'G211' 'B211' 'R212' 'G212' 'B212' 'R221' 'G221' 'B221' 'R222'\n",
            "  'G222' 'B222']]\n"
          ]
        }
      ]
    },
    {
      "cell_type": "code",
      "source": [
        "arrayMatrix2d = arrayMatrix4d.reshape(2,-1)\n",
        "print('arrayMatrix2d\\n',arrayMatrix2d)"
      ],
      "metadata": {
        "colab": {
          "base_uri": "https://localhost:8080/"
        },
        "id": "qOs1ubSmqKQc",
        "outputId": "a1e0010a-dfa9-4036-a13a-aee45241e029"
      },
      "execution_count": 20,
      "outputs": [
        {
          "output_type": "stream",
          "name": "stdout",
          "text": [
            "arrayMatrix2d\n",
            " [['R111' 'G111' 'B111' 'R112' 'G112' 'B112' 'R121' 'G121' 'B121' 'R122'\n",
            "  'G122' 'B122']\n",
            " ['R211' 'G211' 'B211' 'R212' 'G212' 'B212' 'R221' 'G221' 'B221' 'R222'\n",
            "  'G222' 'B222']]\n"
          ]
        }
      ]
    },
    {
      "cell_type": "code",
      "source": [
        "import numpy as np\n",
        "\n",
        "print(np.random.rand(2,3))                # 1을 포함하지 않는 0~1사이의 실수 난수\n",
        "print(np.random.randint(6,size=(2,3)))    # 0~5사이의 정수 난수\n",
        "print(np.random.randint(1,7,size=(2,3)))  # 1~6사이의 정수 난수\n",
        "print(np.random.randn(2,3))               # 정규분포(평균 0, 표준편자 1) 실수 난수"
      ],
      "metadata": {
        "colab": {
          "base_uri": "https://localhost:8080/"
        },
        "id": "ENv5GzPLZQzw",
        "outputId": "c7b7075e-484c-4857-9ed4-833100c611b6"
      },
      "execution_count": null,
      "outputs": [
        {
          "output_type": "stream",
          "name": "stdout",
          "text": [
            "[[0.5745447  0.55074943 0.9991471 ]\n",
            " [0.81930482 0.33285708 0.41793689]]\n",
            "[[5 2 2]\n",
            " [0 2 3]]\n",
            "[[6 3 6]\n",
            " [1 2 1]]\n",
            "[[-0.73245638 -0.28201239  1.37501889]\n",
            " [-0.94309531 -0.21941694 -0.62192199]]\n"
          ]
        }
      ]
    },
    {
      "cell_type": "code",
      "source": [
        "import random\n",
        "import numpy as np\n",
        "\n",
        "for _ in range(20):\n",
        "    print(random.randrange(1,7),end=' ')\n",
        "print()\n",
        "for _ in range(20):\n",
        "    print(np.random.randint(1,7),end=' ')"
      ],
      "metadata": {
        "colab": {
          "base_uri": "https://localhost:8080/"
        },
        "id": "nviBYlT7sDOI",
        "outputId": "2a319cd5-8aca-4b44-9846-f66c1e4341df"
      },
      "execution_count": null,
      "outputs": [
        {
          "output_type": "stream",
          "name": "stdout",
          "text": [
            "5 4 6 3 3 5 5 6 6 3 6 2 5 3 4 6 2 2 4 2 \n",
            "5 6 5 3 3 5 6 3 5 4 1 2 4 3 3 4 5 4 4 2 "
          ]
        }
      ]
    },
    {
      "cell_type": "code",
      "source": [
        "print(random.randrange(1,7,2))            # 홀수 난수\n",
        "print(random.randrange(2,7,2))            # 짝수 난수\n",
        "print(np.random.randint(1,7,(2,3)))       # 2 X 3 행렬 난수\n",
        "print(np.random.randint(1,7,size=(2,2)))  # 2 X 2 행렬 난수"
      ],
      "metadata": {
        "colab": {
          "base_uri": "https://localhost:8080/"
        },
        "id": "n7GIPtApuwgK",
        "outputId": "21d90038-57fe-46bc-b68a-0a4090fa2ccc"
      },
      "execution_count": null,
      "outputs": [
        {
          "output_type": "stream",
          "name": "stdout",
          "text": [
            "3\n",
            "2\n",
            "[[6 2 1]\n",
            " [6 5 5]]\n",
            "[[4 5]\n",
            " [3 1]]\n"
          ]
        }
      ]
    },
    {
      "cell_type": "code",
      "source": [
        "print(random.random())        # 1을 포함하지 않는 0~1사이의 실수 난수\n",
        "print(np.random.rand())       # 1을 포함하지 않는 0~1사이의 실수 난수\n",
        "print(np.random.rand(2,3))    # 1을 포함하지 않는 0~1사이의 실수 난수 (2 X 3 배열)"
      ],
      "metadata": {
        "colab": {
          "base_uri": "https://localhost:8080/"
        },
        "id": "ibjkycSqwQgQ",
        "outputId": "ebb8584b-3483-4614-e168-92deeea164f0"
      },
      "execution_count": null,
      "outputs": [
        {
          "output_type": "stream",
          "name": "stdout",
          "text": [
            "0.5081139706913528\n",
            "0.3021189758113202\n",
            "[[0.19033745 0.93991803 0.71004323]\n",
            " [0.65664406 0.85566369 0.06733242]]\n"
          ]
        }
      ]
    },
    {
      "cell_type": "code",
      "source": [
        "for _ in range(5):\n",
        "    print(random.uniform(5,10),end=' ')   # 10포함하지 않는 5~10사이의 실수 난수\n",
        "print()\n",
        "for _ in range(5):\n",
        "    print(5+random.random()*5,end=' ')    # 10포함하지 않는 5~10사이의 실수 난수\n",
        "print()\n",
        "for _ in range(5):\n",
        "    print(5+np.random.rand()*5,end=' ')   # 10을 포함하지 않는 5~10사이의 실수 난수"
      ],
      "metadata": {
        "colab": {
          "base_uri": "https://localhost:8080/"
        },
        "id": "xnKXFgE9wp1v",
        "outputId": "0774f84f-a0a0-4554-9afe-c7a36ece4c1e"
      },
      "execution_count": null,
      "outputs": [
        {
          "output_type": "stream",
          "name": "stdout",
          "text": [
            "5.033623964653591 7.628442745773186 8.546912330082627 8.145855822362206 9.68417633414076 \n",
            "8.501368782918744 9.893092118546214 8.56565234358512 5.660056727400157 5.117069371699815 \n",
            "5.200742693731946 9.321577770587142 8.771432261380554 5.340161453412026 6.364477771449792 "
          ]
        }
      ]
    },
    {
      "cell_type": "code",
      "source": [
        "# 하나의 난수\n",
        "print(np.random.randn())                  # 정규분포(평균 0, 표준편자 1) 실수 난수\n",
        "print(np.random.normal(90,10))            # 정규분포(평균 90, 표준편자 10) 실수 난수\n",
        "# 길이가 5인 벡터\n",
        "print(np.random.randn(5))                 # 정규분포(평균 0, 표준편자 1) 실수 난수\n",
        "print(np.random.normal(90,10,size=5))     # 정규분포(평균 90, 표준편자 10) 실수 난수\n",
        "# 2X3 배열\n",
        "print(np.random.randn(2,3))               # 정규분포(평균 0, 표준편자 1) 실수 난수\n",
        "print(np.random.normal(90,10,size=(2,3))) # 정규분포(평균 90, 표준편자 10) 실수 난수"
      ],
      "metadata": {
        "colab": {
          "base_uri": "https://localhost:8080/"
        },
        "id": "jGCFc6_Prccq",
        "outputId": "46f8e352-1c81-4c84-fd0a-fdf8ab40bd9b"
      },
      "execution_count": null,
      "outputs": [
        {
          "output_type": "stream",
          "name": "stdout",
          "text": [
            "0.6597870858335965\n",
            "103.56408831174102\n",
            "[ 1.49772671 -0.3393504  -0.43236208  1.14342066 -0.69243313]\n",
            "[68.81885619 73.34441971 95.45176389 94.69085933 87.69411168]\n",
            "[[ 0.32585796 -1.38560498  0.33753711]\n",
            " [ 0.5015135  -0.83120397 -0.20219147]]\n",
            "[[ 82.99569654 102.02835877  83.25308744]\n",
            " [ 83.86473348  83.83988809  95.25141292]]\n"
          ]
        }
      ]
    },
    {
      "cell_type": "code",
      "source": [
        "for _ in range(5):\n",
        "    print(random.randrange(1,11),end=' ')\n",
        "print()\n",
        "for _ in range(5):\n",
        "    print(np.random.randint(1,11),end=' ')"
      ],
      "metadata": {
        "colab": {
          "base_uri": "https://localhost:8080/"
        },
        "id": "oVPbzEoK0Usj",
        "outputId": "defef027-d86c-45a2-94f9-91d349f62e45"
      },
      "execution_count": null,
      "outputs": [
        {
          "output_type": "stream",
          "name": "stdout",
          "text": [
            "7 10 8 6 7 \n",
            "7 1 6 7 8 "
          ]
        }
      ]
    },
    {
      "cell_type": "code",
      "source": [
        "for _ in range(5):\n",
        "    print(random.randrange(1,11),end=' ')\n",
        "print()\n",
        "for _ in range(5):\n",
        "    print(np.random.randint(1,11),end=' ')"
      ],
      "metadata": {
        "colab": {
          "base_uri": "https://localhost:8080/"
        },
        "id": "rqzw9orb2tOi",
        "outputId": "bebf3309-fcf0-422d-c1f7-6331d59e860e"
      },
      "execution_count": null,
      "outputs": [
        {
          "output_type": "stream",
          "name": "stdout",
          "text": [
            "9 7 3 3 5 \n",
            "4 5 10 4 7 "
          ]
        }
      ]
    },
    {
      "cell_type": "code",
      "source": [
        "random.seed(1234)\n",
        "for _ in range(5):\n",
        "    print(random.randrange(1,11),end=' ')\n",
        "print()\n",
        "np.random.seed(1234)\n",
        "for _ in range(5):\n",
        "    print(np.random.randint(1,11),end=' ')"
      ],
      "metadata": {
        "colab": {
          "base_uri": "https://localhost:8080/"
        },
        "id": "olbNIbk-2_j1",
        "outputId": "4561d73e-303b-44a2-f520-a1994c931819"
      },
      "execution_count": null,
      "outputs": [
        {
          "output_type": "stream",
          "name": "stdout",
          "text": [
            "8 2 1 2 10 \n",
            "4 7 6 5 9 "
          ]
        }
      ]
    },
    {
      "cell_type": "code",
      "source": [
        "random.seed(1234)\n",
        "for _ in range(5):\n",
        "    print(random.randrange(1,11),end=' ')\n",
        "print()\n",
        "np.random.seed(1234)\n",
        "for _ in range(5):\n",
        "    print(np.random.randint(1,11),end=' ')"
      ],
      "metadata": {
        "id": "Yp7tUM493Kbj",
        "outputId": "152326fa-f12a-471c-e290-c9dc80effb2e",
        "colab": {
          "base_uri": "https://localhost:8080/"
        }
      },
      "execution_count": null,
      "outputs": [
        {
          "output_type": "stream",
          "name": "stdout",
          "text": [
            "8 2 1 2 10 \n",
            "4 7 6 5 9 "
          ]
        }
      ]
    },
    {
      "cell_type": "code",
      "source": [
        "import numpy as np\n",
        "\n",
        "arrayMatrix2d = np.arange(1,10).reshape(3,3)\n",
        "print(\"배열 : \\n\", arrayMatrix2d)\n",
        "\n",
        "print(\"배열 덧셈 : \\n\", arrayMatrix2d + arrayMatrix2d)\n",
        "print(\"배열 나눗셈 : \\n\", arrayMatrix2d / arrayMatrix2d)"
      ],
      "metadata": {
        "colab": {
          "base_uri": "https://localhost:8080/"
        },
        "id": "Eywh-MKG5sE4",
        "outputId": "3c4ab46a-83db-47c0-d596-4b5a87a57d2a"
      },
      "execution_count": null,
      "outputs": [
        {
          "output_type": "stream",
          "name": "stdout",
          "text": [
            "배열 : \n",
            " [[1 2 3]\n",
            " [4 5 6]\n",
            " [7 8 9]]\n",
            "배열 덧셈 : \n",
            " [[ 2  4  6]\n",
            " [ 8 10 12]\n",
            " [14 16 18]]\n",
            "배열 나눗셈 : \n",
            " [[1. 1. 1.]\n",
            " [1. 1. 1.]\n",
            " [1. 1. 1.]]\n"
          ]
        }
      ]
    },
    {
      "cell_type": "code",
      "source": [
        "import numpy as np\n",
        "\n",
        "arrayMatrix2d = np.arange(9).reshape(3,3)\n",
        "print(\"배열 : \\n\", arrayMatrix2d)\n",
        "\n",
        "print(\"배열 곱셈 : \\n\", arrayMatrix2d * arrayMatrix2d)\n",
        "print(\"배열 행렬 곱셈 : \\n\", arrayMatrix2d @ arrayMatrix2d)"
      ],
      "metadata": {
        "colab": {
          "base_uri": "https://localhost:8080/"
        },
        "id": "ZTuJi9A-V9kk",
        "outputId": "ad67ede6-3d3e-45bb-e0b9-f854b4313415"
      },
      "execution_count": null,
      "outputs": [
        {
          "output_type": "stream",
          "name": "stdout",
          "text": [
            "배열 : \n",
            " [[0 1 2]\n",
            " [3 4 5]\n",
            " [6 7 8]]\n",
            "배열 곱셈 : \n",
            " [[ 0  1  4]\n",
            " [ 9 16 25]\n",
            " [36 49 64]]\n",
            "배열 행렬 곱셈 : \n",
            " [[ 15  18  21]\n",
            " [ 42  54  66]\n",
            " [ 69  90 111]]\n"
          ]
        }
      ]
    },
    {
      "cell_type": "code",
      "source": [
        "import numpy as np\n",
        "\n",
        "arrayMatrix2d = np.arange(9).reshape(3,3)\n",
        "print(\"배열 : \\n\", arrayMatrix2d)\n",
        "\n",
        "print(\"배열과 스칼라 곱셈 : \\n\", arrayMatrix2d * 2)\n",
        "print(\"배열 제곱근 : \\n\", np.sqrt(arrayMatrix2d))"
      ],
      "metadata": {
        "colab": {
          "base_uri": "https://localhost:8080/"
        },
        "id": "uaQImhX6QRZM",
        "outputId": "b59f9a2c-474f-4f68-8e96-9529c6fe29c6"
      },
      "execution_count": null,
      "outputs": [
        {
          "output_type": "stream",
          "name": "stdout",
          "text": [
            "배열 : \n",
            " [[0 1 2]\n",
            " [3 4 5]\n",
            " [6 7 8]]\n",
            "배열과 스칼라 곱셈 : \n",
            " [[ 0  2  4]\n",
            " [ 6  8 10]\n",
            " [12 14 16]]\n",
            "배열 제곱근 : \n",
            " [[0.         1.         1.41421356]\n",
            " [1.73205081 2.         2.23606798]\n",
            " [2.44948974 2.64575131 2.82842712]]\n"
          ]
        }
      ]
    },
    {
      "cell_type": "code",
      "source": [
        "result = 0 / 0"
      ],
      "metadata": {
        "colab": {
          "base_uri": "https://localhost:8080/",
          "height": 176
        },
        "id": "JwVlFOG8rEe5",
        "outputId": "578f4a91-67e4-4414-d327-b37dc4e5f1be"
      },
      "execution_count": null,
      "outputs": [
        {
          "output_type": "error",
          "ename": "ZeroDivisionError",
          "evalue": "ignored",
          "traceback": [
            "\u001b[0;31m---------------------------------------------------------------------------\u001b[0m",
            "\u001b[0;31mZeroDivisionError\u001b[0m                         Traceback (most recent call last)",
            "\u001b[0;32m<ipython-input-6-c03388a78094>\u001b[0m in \u001b[0;36m<module>\u001b[0;34m\u001b[0m\n\u001b[0;32m----> 1\u001b[0;31m \u001b[0mresult\u001b[0m \u001b[0;34m=\u001b[0m \u001b[0;36m0\u001b[0m \u001b[0;34m/\u001b[0m \u001b[0;36m0\u001b[0m\u001b[0;34m\u001b[0m\u001b[0;34m\u001b[0m\u001b[0m\n\u001b[0m",
            "\u001b[0;31mZeroDivisionError\u001b[0m: division by zero"
          ]
        }
      ]
    },
    {
      "cell_type": "code",
      "source": [
        "import numpy as np\n",
        "\n",
        "arrayMatrix2d01 = np.array([[-2,-1,0,1,2],[1,2,3,4,5]])\n",
        "print(\"나누어지는 행렬 : \\n\", arrayMatrix2d01)\n",
        "arrayMatrix2d02 = np.array([[1,0,0,0,1],[5,4,3,2,1]])\n",
        "print(\"나누는 행렬 : \\n\", arrayMatrix2d02)\n",
        "arrayMatrix2d03 = arrayMatrix2d01 / arrayMatrix2d02\n",
        "print(\"나누어진 행렬 : \\n\", arrayMatrix2d03)"
      ],
      "metadata": {
        "colab": {
          "base_uri": "https://localhost:8080/"
        },
        "id": "sJcckszDsflh",
        "outputId": "e704ed1f-8b1c-42d8-dafb-990cfb8fc9f0"
      },
      "execution_count": null,
      "outputs": [
        {
          "output_type": "stream",
          "name": "stdout",
          "text": [
            "나누어지는 행렬 : \n",
            " [[-2 -1  0  1  2]\n",
            " [ 1  2  3  4  5]]\n",
            "나누는 행렬 : \n",
            " [[1 0 0 0 1]\n",
            " [5 4 3 2 1]]\n",
            "나누어진 행렬 : \n",
            " [[-2.  -inf  nan  inf  2. ]\n",
            " [ 0.2  0.5  1.   2.   5. ]]\n"
          ]
        },
        {
          "output_type": "stream",
          "name": "stderr",
          "text": [
            "<ipython-input-12-21d99a2a4733>:7: RuntimeWarning: divide by zero encountered in true_divide\n",
            "  arrayMatrix2d03 = arrayMatrix2d01 / arrayMatrix2d02\n",
            "<ipython-input-12-21d99a2a4733>:7: RuntimeWarning: invalid value encountered in true_divide\n",
            "  arrayMatrix2d03 = arrayMatrix2d01 / arrayMatrix2d02\n"
          ]
        }
      ]
    },
    {
      "cell_type": "code",
      "source": [
        "print(\"np.sqrt(-1) : \", np.sqrt(-1))\n",
        "print(\"np.sqrt(np.inf) : \", np.sqrt(np.inf))\n",
        "print(\"np.log(0) : \", np.log(0))\n",
        "print(\"np.exp(-np.inf) : \", np.exp(-np.inf))"
      ],
      "metadata": {
        "colab": {
          "base_uri": "https://localhost:8080/"
        },
        "id": "-edhZTVXzjeh",
        "outputId": "3076bf27-0ed6-4138-ff62-d7d727072010"
      },
      "execution_count": null,
      "outputs": [
        {
          "output_type": "stream",
          "name": "stdout",
          "text": [
            "np.sqrt(-1) :  nan\n",
            "np.sqrt(np.inf) :  inf\n",
            "np.log(0) :  -inf\n",
            "np.exp(-np.inf) :  0.0\n"
          ]
        },
        {
          "output_type": "stream",
          "name": "stderr",
          "text": [
            "<ipython-input-22-943bd00e8266>:1: RuntimeWarning: invalid value encountered in sqrt\n",
            "  print(\"np.sqrt(-1) : \", np.sqrt(-1))\n",
            "<ipython-input-22-943bd00e8266>:3: RuntimeWarning: divide by zero encountered in log\n",
            "  print(\"np.log(0) : \", np.log(0))\n"
          ]
        }
      ]
    },
    {
      "cell_type": "code",
      "source": [
        "import math\n",
        "\n",
        "print(\"math.sqrt(-1) :\", math.sqrt(-1))"
      ],
      "metadata": {
        "colab": {
          "base_uri": "https://localhost:8080/",
          "height": 213
        },
        "id": "p7X_xX811zHz",
        "outputId": "e83312d1-fe44-47ad-8978-198948cc6091"
      },
      "execution_count": null,
      "outputs": [
        {
          "output_type": "error",
          "ename": "ValueError",
          "evalue": "ignored",
          "traceback": [
            "\u001b[0;31m---------------------------------------------------------------------------\u001b[0m",
            "\u001b[0;31mValueError\u001b[0m                                Traceback (most recent call last)",
            "\u001b[0;32m<ipython-input-24-f291a4c89219>\u001b[0m in \u001b[0;36m<module>\u001b[0;34m\u001b[0m\n\u001b[1;32m      1\u001b[0m \u001b[0;32mimport\u001b[0m \u001b[0mmath\u001b[0m\u001b[0;34m\u001b[0m\u001b[0;34m\u001b[0m\u001b[0m\n\u001b[1;32m      2\u001b[0m \u001b[0;34m\u001b[0m\u001b[0m\n\u001b[0;32m----> 3\u001b[0;31m \u001b[0mprint\u001b[0m\u001b[0;34m(\u001b[0m\u001b[0;34m\"math.sqrt(-1) :\"\u001b[0m\u001b[0;34m,\u001b[0m \u001b[0mmath\u001b[0m\u001b[0;34m.\u001b[0m\u001b[0msqrt\u001b[0m\u001b[0;34m(\u001b[0m\u001b[0;34m-\u001b[0m\u001b[0;36m1\u001b[0m\u001b[0;34m)\u001b[0m\u001b[0;34m)\u001b[0m\u001b[0;34m\u001b[0m\u001b[0;34m\u001b[0m\u001b[0m\n\u001b[0m",
            "\u001b[0;31mValueError\u001b[0m: math domain error"
          ]
        }
      ]
    },
    {
      "cell_type": "code",
      "source": [
        "import numpy as np\n",
        "\n",
        "arrayMatrix2d = np.arange(9).reshape(3,3)\n",
        "print(\"배열 : \\n\", arrayMatrix2d)\n",
        "\n",
        "print(\"전치 행렬 (arrayMatrix2d.T) : \\n\", arrayMatrix2d.T)\n",
        "print(\"전치 행렬 (np.transpose(arrayMatrix2d)) : \\n\", np.transpose(arrayMatrix2d))"
      ],
      "metadata": {
        "colab": {
          "base_uri": "https://localhost:8080/"
        },
        "id": "5z1CS50FUm1a",
        "outputId": "65ce98da-8c6f-4f07-c408-371bfd3ee131"
      },
      "execution_count": null,
      "outputs": [
        {
          "output_type": "stream",
          "name": "stdout",
          "text": [
            "배열 : \n",
            " [[0 1 2]\n",
            " [3 4 5]\n",
            " [6 7 8]]\n",
            "전치 행렬 (arrayMatrix2d.T) : \n",
            " [[0 3 6]\n",
            " [1 4 7]\n",
            " [2 5 8]]\n",
            "전치 행렬 (np.transpose(arrayMatrix2d)) : \n",
            " [[0 3 6]\n",
            " [1 4 7]\n",
            " [2 5 8]]\n"
          ]
        }
      ]
    }
  ]
}