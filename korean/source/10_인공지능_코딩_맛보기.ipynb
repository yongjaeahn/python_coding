{
  "nbformat": 4,
  "nbformat_minor": 0,
  "metadata": {
    "colab": {
      "provenance": [],
      "authorship_tag": "ABX9TyPMvQA3q9Gwrq7oGkhVu9u4",
      "include_colab_link": true
    },
    "kernelspec": {
      "name": "python3",
      "display_name": "Python 3"
    },
    "language_info": {
      "name": "python"
    }
  },
  "cells": [
    {
      "cell_type": "markdown",
      "metadata": {
        "id": "view-in-github",
        "colab_type": "text"
      },
      "source": [
        "<a href=\"https://colab.research.google.com/github/yongjaeahn/PythonCoding/blob/main/korean/source/10_%EC%9D%B8%EA%B3%B5%EC%A7%80%EB%8A%A5_%EC%BD%94%EB%94%A9_%EB%A7%9B%EB%B3%B4%EA%B8%B0.ipynb\" target=\"_parent\"><img src=\"https://colab.research.google.com/assets/colab-badge.svg\" alt=\"Open In Colab\"/></a>"
      ]
    },
    {
      "cell_type": "markdown",
      "source": [
        "\t선형 회귀 알고리즘"
      ],
      "metadata": {
        "id": "gl0hcNJAN1kG"
      }
    },
    {
      "cell_type": "markdown",
      "source": [
        "데이터 수집"
      ],
      "metadata": {
        "id": "zcCr5L2s5GXQ"
      }
    },
    {
      "cell_type": "code",
      "execution_count": 4,
      "metadata": {
        "colab": {
          "base_uri": "https://localhost:8080/"
        },
        "id": "jjdBbkhLy1Ey",
        "outputId": "7bd80fd2-4a9b-42e7-804b-e117220cadf4"
      },
      "outputs": [
        {
          "output_type": "stream",
          "name": "stdout",
          "text": [
            "<class 'sklearn.utils._bunch.Bunch'>\n",
            "['DESCR', 'data', 'data_filename', 'data_module', 'feature_names', 'frame', 'target', 'target_filename']\n"
          ]
        }
      ],
      "source": [
        "from sklearn.datasets import load_diabetes\n",
        "\n",
        "diabetes = load_diabetes()\n",
        "\n",
        "print(type(diabetes))\n",
        "print(dir(diabetes))"
      ]
    },
    {
      "cell_type": "code",
      "source": [
        "print(diabetes.DESCR)"
      ],
      "metadata": {
        "colab": {
          "base_uri": "https://localhost:8080/"
        },
        "id": "s_s10_Bz5kEX",
        "outputId": "b377f39d-c0ec-4ef7-c2a9-9689148d14c8"
      },
      "execution_count": null,
      "outputs": [
        {
          "output_type": "stream",
          "name": "stdout",
          "text": [
            ".. _diabetes_dataset:\n",
            "\n",
            "Diabetes dataset\n",
            "----------------\n",
            "\n",
            "Ten baseline variables, age, sex, body mass index, average blood\n",
            "pressure, and six blood serum measurements were obtained for each of n =\n",
            "442 diabetes patients, as well as the response of interest, a\n",
            "quantitative measure of disease progression one year after baseline.\n",
            "\n",
            "**Data Set Characteristics:**\n",
            "\n",
            "  :Number of Instances: 442\n",
            "\n",
            "  :Number of Attributes: First 10 columns are numeric predictive values\n",
            "\n",
            "  :Target: Column 11 is a quantitative measure of disease progression one year after baseline\n",
            "\n",
            "  :Attribute Information:\n",
            "      - age     age in years\n",
            "      - sex\n",
            "      - bmi     body mass index\n",
            "      - bp      average blood pressure\n",
            "      - s1      tc, total serum cholesterol\n",
            "      - s2      ldl, low-density lipoproteins\n",
            "      - s3      hdl, high-density lipoproteins\n",
            "      - s4      tch, total cholesterol / HDL\n",
            "      - s5      ltg, possibly log of serum triglycerides level\n",
            "      - s6      glu, blood sugar level\n",
            "\n",
            "Note: Each of these 10 feature variables have been mean centered and scaled by the standard deviation times the square root of `n_samples` (i.e. the sum of squares of each column totals 1).\n",
            "\n",
            "Source URL:\n",
            "https://www4.stat.ncsu.edu/~boos/var.select/diabetes.html\n",
            "\n",
            "For more information see:\n",
            "Bradley Efron, Trevor Hastie, Iain Johnstone and Robert Tibshirani (2004) \"Least Angle Regression,\" Annals of Statistics (with discussion), 407-499.\n",
            "(https://web.stanford.edu/~hastie/Papers/LARS/LeastAngle_2002.pdf)\n",
            "\n"
          ]
        }
      ]
    },
    {
      "cell_type": "code",
      "source": [
        "help(load_diabetes)"
      ],
      "metadata": {
        "colab": {
          "base_uri": "https://localhost:8080/"
        },
        "id": "_-I3EhgROFW-",
        "outputId": "9eb4dc21-76ba-4389-d5ec-b5a4c14da66a"
      },
      "execution_count": null,
      "outputs": [
        {
          "output_type": "stream",
          "name": "stdout",
          "text": [
            "Help on function load_diabetes in module sklearn.datasets._base:\n",
            "\n",
            "load_diabetes(*, return_X_y=False, as_frame=False, scaled=True)\n",
            "    Load and return the diabetes dataset (regression).\n",
            "    \n",
            "    ==============   ==================\n",
            "    Samples total    442\n",
            "    Dimensionality   10\n",
            "    Features         real, -.2 < x < .2\n",
            "    Targets          integer 25 - 346\n",
            "    ==============   ==================\n",
            "    \n",
            "    .. note::\n",
            "       The meaning of each feature (i.e. `feature_names`) might be unclear\n",
            "       (especially for `ltg`) as the documentation of the original dataset is\n",
            "       not explicit. We provide information that seems correct in regard with\n",
            "       the scientific literature in this field of research.\n",
            "    \n",
            "    Read more in the :ref:`User Guide <diabetes_dataset>`.\n",
            "    \n",
            "    Parameters\n",
            "    ----------\n",
            "    return_X_y : bool, default=False\n",
            "        If True, returns ``(data, target)`` instead of a Bunch object.\n",
            "        See below for more information about the `data` and `target` object.\n",
            "    \n",
            "        .. versionadded:: 0.18\n",
            "    \n",
            "    as_frame : bool, default=False\n",
            "        If True, the data is a pandas DataFrame including columns with\n",
            "        appropriate dtypes (numeric). The target is\n",
            "        a pandas DataFrame or Series depending on the number of target columns.\n",
            "        If `return_X_y` is True, then (`data`, `target`) will be pandas\n",
            "        DataFrames or Series as described below.\n",
            "    \n",
            "        .. versionadded:: 0.23\n",
            "    \n",
            "    scaled : bool, default=True\n",
            "        If True, the feature variables are mean centered and scaled by the\n",
            "        standard deviation times the square root of `n_samples`.\n",
            "        If False, raw data is returned for the feature variables.\n",
            "    \n",
            "        .. versionadded:: 1.1\n",
            "    \n",
            "    Returns\n",
            "    -------\n",
            "    data : :class:`~sklearn.utils.Bunch`\n",
            "        Dictionary-like object, with the following attributes.\n",
            "    \n",
            "        data : {ndarray, dataframe} of shape (442, 10)\n",
            "            The data matrix. If `as_frame=True`, `data` will be a pandas\n",
            "            DataFrame.\n",
            "        target: {ndarray, Series} of shape (442,)\n",
            "            The regression target. If `as_frame=True`, `target` will be\n",
            "            a pandas Series.\n",
            "        feature_names: list\n",
            "            The names of the dataset columns.\n",
            "        frame: DataFrame of shape (442, 11)\n",
            "            Only present when `as_frame=True`. DataFrame with `data` and\n",
            "            `target`.\n",
            "    \n",
            "            .. versionadded:: 0.23\n",
            "        DESCR: str\n",
            "            The full description of the dataset.\n",
            "        data_filename: str\n",
            "            The path to the location of the data.\n",
            "        target_filename: str\n",
            "            The path to the location of the target.\n",
            "    \n",
            "    (data, target) : tuple if ``return_X_y`` is True\n",
            "        Returns a tuple of two ndarray of shape (n_samples, n_features)\n",
            "        A 2D array with each row representing one sample and each column\n",
            "        representing the features and/or target of a given sample.\n",
            "    \n",
            "        .. versionadded:: 0.18\n",
            "\n"
          ]
        }
      ]
    },
    {
      "cell_type": "markdown",
      "source": [
        "데이터 전처리"
      ],
      "metadata": {
        "id": "nd8Y6H4yqhFJ"
      }
    },
    {
      "cell_type": "code",
      "source": [
        "print(diabetes.feature_names)"
      ],
      "metadata": {
        "colab": {
          "base_uri": "https://localhost:8080/"
        },
        "id": "UX7ZB_3Nrwcn",
        "outputId": "6873b54a-4e0a-4a7c-b90e-f541d17832c0"
      },
      "execution_count": null,
      "outputs": [
        {
          "output_type": "stream",
          "name": "stdout",
          "text": [
            "['age', 'sex', 'bmi', 'bp', 's1', 's2', 's3', 's4', 's5', 's6']\n"
          ]
        }
      ]
    },
    {
      "cell_type": "code",
      "source": [
        "print(diabetes.data[0:3])\n",
        "print(diabetes.data[-1:-3:-1])"
      ],
      "metadata": {
        "colab": {
          "base_uri": "https://localhost:8080/"
        },
        "id": "aUTTi04Qos8o",
        "outputId": "d8cb2441-c4f9-4a9c-fb81-1e9004c0e49c"
      },
      "execution_count": null,
      "outputs": [
        {
          "output_type": "stream",
          "name": "stdout",
          "text": [
            "[[ 0.03807591  0.05068012  0.06169621  0.02187239 -0.0442235  -0.03482076\n",
            "  -0.04340085 -0.00259226  0.01990749 -0.01764613]\n",
            " [-0.00188202 -0.04464164 -0.05147406 -0.02632753 -0.00844872 -0.01916334\n",
            "   0.07441156 -0.03949338 -0.06833155 -0.09220405]\n",
            " [ 0.08529891  0.05068012  0.04445121 -0.00567042 -0.04559945 -0.03419447\n",
            "  -0.03235593 -0.00259226  0.00286131 -0.02593034]]\n",
            "[[-0.04547248 -0.04464164 -0.0730303  -0.08141314  0.08374012  0.02780893\n",
            "   0.17381578 -0.03949338 -0.00422151  0.00306441]\n",
            " [-0.04547248 -0.04464164  0.03906215  0.00121528  0.01631843  0.01528299\n",
            "  -0.02867429  0.02655962  0.04452873 -0.02593034]]\n"
          ]
        }
      ]
    },
    {
      "cell_type": "code",
      "source": [
        "print(diabetes.target[0:3])\n",
        "print(diabetes.target[-1:-3:-1])"
      ],
      "metadata": {
        "colab": {
          "base_uri": "https://localhost:8080/"
        },
        "id": "cK3P_FdKq2iB",
        "outputId": "ae31924b-0038-425d-94fd-872822d7c978"
      },
      "execution_count": null,
      "outputs": [
        {
          "output_type": "stream",
          "name": "stdout",
          "text": [
            "[151.  75. 141.]\n",
            "[ 57. 220.]\n"
          ]
        }
      ]
    },
    {
      "cell_type": "code",
      "source": [
        "import numpy as np\n",
        "\n",
        "def normalize(values):\n",
        "    mean = np.mean(values)    # 평균\n",
        "    std = np.std(values)      # 표준편차\n",
        "    # 정규화 = (값 - 평균) / 표준편차\n",
        "    normalized = (values - mean) / std    \n",
        "\n",
        "    return normalized\n",
        "\n",
        "ages = np.array([50,45,20,60,63,57,40,47,30,58])\n",
        "normalizedAges = normalize(ages)\n",
        "print('정규화된 나이 :',normalizedAges)\n",
        "\n",
        "bmis = np.array([30,28,22,28,27,32,27,22,25,29])\n",
        "normalizedBmis = normalize(bmis)\n",
        "print('정규화된 체질량 지수 :',normalizedBmis)"
      ],
      "metadata": {
        "id": "WRaGjQjREJPH",
        "outputId": "1be99d84-9e9b-41a9-b339-b13e0117c5d6",
        "colab": {
          "base_uri": "https://localhost:8080/"
        }
      },
      "execution_count": null,
      "outputs": [
        {
          "output_type": "stream",
          "name": "stdout",
          "text": [
            "정규화된 나이 : [ 0.22834992 -0.15223328 -2.05514926  0.98951631  1.21786623  0.76116639\n",
            " -0.53281647  0.         -1.29398287  0.83728303]\n",
            "정규화된 체질량 지수 : [ 0.97849211  0.32616404 -1.63082018  0.32616404  0.          1.63082018\n",
            "  0.         -1.63082018 -0.65232807  0.65232807]\n"
          ]
        }
      ]
    },
    {
      "cell_type": "code",
      "source": [
        "sex = np.array(['M','F','F','M','M','F','F','F','M','F'])\n",
        "sexNumeric = np.where(sex == 'M',1,0)\n",
        "print('수치화된 성별 :',sexNumeric)\n",
        "normalizedSex = normalize(sexNumeric)\n",
        "print('정규화된 성별 :',normalizedSex)"
      ],
      "metadata": {
        "id": "VaZLmWuVIzhE",
        "outputId": "e0f6ac76-bb79-4a22-a1db-dd23a8ce9887",
        "colab": {
          "base_uri": "https://localhost:8080/"
        }
      },
      "execution_count": null,
      "outputs": [
        {
          "output_type": "stream",
          "name": "stdout",
          "text": [
            "수치화된 성별 : [1 0 0 1 1 0 0 0 1 0]\n",
            "정규화된 성별 : [ 1.22474487 -0.81649658 -0.81649658  1.22474487  1.22474487 -0.81649658\n",
            " -0.81649658 -0.81649658  1.22474487 -0.81649658]\n"
          ]
        }
      ]
    },
    {
      "cell_type": "code",
      "source": [
        "from sklearn.preprocessing import StandardScaler\n",
        "\n",
        "diabetesFeatures = np.array(list(zip(ages,sexNumeric,bmis)))\n",
        "print('당뇨병 특징 :\\n',diabetesFeatures)\n",
        "\n",
        "scaler = StandardScaler()\n",
        "normalizedDiabetes = scaler.fit_transform(diabetesFeatures)\n",
        "\n",
        "print('정규화된 당뇨병 특징 :\\n',normalizedDiabetes)"
      ],
      "metadata": {
        "id": "h7R0WiFkgxIA",
        "outputId": "05b16c38-d98f-42ea-f982-d14ac9480e19",
        "colab": {
          "base_uri": "https://localhost:8080/"
        }
      },
      "execution_count": null,
      "outputs": [
        {
          "output_type": "stream",
          "name": "stdout",
          "text": [
            "당뇨병 특징 :\n",
            " [[50  1 30]\n",
            " [45  0 28]\n",
            " [20  0 22]\n",
            " [60  1 28]\n",
            " [63  1 27]\n",
            " [57  0 32]\n",
            " [40  0 27]\n",
            " [47  0 22]\n",
            " [30  1 25]\n",
            " [58  0 29]]\n",
            "정규화된 당뇨병 특징 :\n",
            " [[ 0.22834992  1.22474487  0.97849211]\n",
            " [-0.15223328 -0.81649658  0.32616404]\n",
            " [-2.05514926 -0.81649658 -1.63082018]\n",
            " [ 0.98951631  1.22474487  0.32616404]\n",
            " [ 1.21786623  1.22474487  0.        ]\n",
            " [ 0.76116639 -0.81649658  1.63082018]\n",
            " [-0.53281647 -0.81649658  0.        ]\n",
            " [ 0.         -0.81649658 -1.63082018]\n",
            " [-1.29398287  1.22474487 -0.65232807]\n",
            " [ 0.83728303 -0.81649658  0.65232807]]\n"
          ]
        }
      ]
    },
    {
      "cell_type": "markdown",
      "source": [
        "모델 훈련"
      ],
      "metadata": {
        "id": "V3iEKtORz83b"
      }
    },
    {
      "cell_type": "code",
      "source": [
        "from sklearn.linear_model import LinearRegression\n",
        "\n",
        "model = LinearRegression()\n",
        "model.fit(diabetes.data,diabetes.target)\n",
        "print('훈련된 회귀방정식의 계수 :',model.coef_)"
      ],
      "metadata": {
        "colab": {
          "base_uri": "https://localhost:8080/"
        },
        "id": "RO7k6q0Fz_Yo",
        "outputId": "3ffadb57-0d45-46ea-ec89-ae48ce11f93b"
      },
      "execution_count": 6,
      "outputs": [
        {
          "output_type": "stream",
          "name": "stdout",
          "text": [
            "훈련된 회귀방정식의 계수 : [ -10.0098663  -239.81564367  519.84592005  324.3846455  -792.17563855\n",
            "  476.73902101  101.04326794  177.06323767  751.27369956   67.62669218]\n"
          ]
        },
        {
          "output_type": "execute_result",
          "data": {
            "text/plain": [
              "10"
            ]
          },
          "metadata": {},
          "execution_count": 6
        }
      ]
    },
    {
      "cell_type": "markdown",
      "source": [
        "모델 테스트"
      ],
      "metadata": {
        "id": "4PFLQ-J269q7"
      }
    },
    {
      "cell_type": "code",
      "source": [
        "print('1년 후 당뇨병 진행의 정량적 측정치 예측을 위한 10개의 독립변수 :\\n', diabetes.data[0:3])\n",
        "yPrediction = model.predict(diabetes.data[0:3])\n",
        "\n",
        "print('회귀분석 모델로 예측한 1년 후 당뇨병 진행의 정량적 측정치:', yPrediction)\n",
        "print('회귀분석 모델에 사용된 1년 후 당뇨병 진행의 정량적 측정치:', diabetes.target[0:3])"
      ],
      "metadata": {
        "colab": {
          "base_uri": "https://localhost:8080/"
        },
        "id": "kOecf0X168t0",
        "outputId": "ab895924-1d74-4728-f3d0-ab76b09f9f12"
      },
      "execution_count": null,
      "outputs": [
        {
          "output_type": "stream",
          "name": "stdout",
          "text": [
            "1년 후 당뇨병 진행의 정량적 측정치 예측을 위한 10개의 독립변수 :\n",
            " [[ 0.03807591  0.05068012  0.06169621  0.02187239 -0.0442235  -0.03482076\n",
            "  -0.04340085 -0.00259226  0.01990749 -0.01764613]\n",
            " [-0.00188202 -0.04464164 -0.05147406 -0.02632753 -0.00844872 -0.01916334\n",
            "   0.07441156 -0.03949338 -0.06833155 -0.09220405]\n",
            " [ 0.08529891  0.05068012  0.04445121 -0.00567042 -0.04559945 -0.03419447\n",
            "  -0.03235593 -0.00259226  0.00286131 -0.02593034]]\n",
            "회귀분석 모델로 예측한 1년 후 당뇨병 진행의 정량적 측정치: [206.11667725  68.07103297 176.88279035]\n",
            "회귀분석 모델에 사용된 1년 후 당뇨병 진행의 정량적 측정치: [151.  75. 141.]\n"
          ]
        }
      ]
    },
    {
      "cell_type": "code",
      "source": [
        "from sklearn.datasets import load_diabetes\n",
        "from sklearn.linear_model import LinearRegression\n",
        "\n",
        "# 데이터 수집 및 전처리\n",
        "diabetes = load_diabetes()\n",
        "\n",
        "# 모델 훈련\n",
        "model = LinearRegression()\n",
        "model.fit(diabetes.data,diabetes.target)\n",
        "\n",
        "# 모델 테스트\n",
        "yPrediction = model.predict(diabetes.data[0:3])\n",
        "print('회귀분석 모델로 예측한 1년 후 당뇨병 진행의 정량적 측정치:', yPrediction)"
      ],
      "metadata": {
        "colab": {
          "base_uri": "https://localhost:8080/"
        },
        "id": "HRRYAfQCBSnR",
        "outputId": "9d5fe2e9-2ce9-48b8-fcb1-cc373d03058b"
      },
      "execution_count": 10,
      "outputs": [
        {
          "output_type": "stream",
          "name": "stdout",
          "text": [
            "회귀분석 모델로 예측한 1년 후 당뇨병 진행의 정량적 측정치: [206.11667725  68.07103297 176.88279035]\n"
          ]
        }
      ]
    },
    {
      "cell_type": "code",
      "source": [
        "from sklearn.datasets import load_diabetes\n",
        "from sklearn.linear_model import LinearRegression\n",
        "\n",
        "# 데이터 수집 및 전처리\n",
        "diabetes = load_diabetes(as_frame=True)\n",
        "\n",
        "# 모델 훈련\n",
        "model = LinearRegression()\n",
        "model.fit(diabetes.data,diabetes.target)\n",
        "\n",
        "# 모델 테스트\n",
        "yPrediction = model.predict(diabetes.data[0:3])\n",
        "print('회귀분석 모델로 예측한 1년 후 당뇨병 진행의 정량적 측정치:', yPrediction)"
      ],
      "metadata": {
        "colab": {
          "base_uri": "https://localhost:8080/"
        },
        "id": "K_h1FsQ8C4Lz",
        "outputId": "e667b10a-024c-4c65-9d1b-5871418b3c74"
      },
      "execution_count": 9,
      "outputs": [
        {
          "output_type": "stream",
          "name": "stdout",
          "text": [
            "회귀분석 모델로 예측한 1년 후 당뇨병 진행의 정량적 측정치: [206.11667725  68.07103297 176.88279035]\n"
          ]
        }
      ]
    },
    {
      "cell_type": "code",
      "source": [
        "print(diabetes.data)"
      ],
      "metadata": {
        "id": "X4F80VQY9O8t",
        "outputId": "e8436269-df66-4674-a91b-902b960505f3",
        "colab": {
          "base_uri": "https://localhost:8080/"
        }
      },
      "execution_count": null,
      "outputs": [
        {
          "output_type": "stream",
          "name": "stdout",
          "text": [
            "          age       sex       bmi        bp        s1        s2        s3  \\\n",
            "0    0.038076  0.050680  0.061696  0.021872 -0.044223 -0.034821 -0.043401   \n",
            "1   -0.001882 -0.044642 -0.051474 -0.026328 -0.008449 -0.019163  0.074412   \n",
            "2    0.085299  0.050680  0.044451 -0.005670 -0.045599 -0.034194 -0.032356   \n",
            "3   -0.089063 -0.044642 -0.011595 -0.036656  0.012191  0.024991 -0.036038   \n",
            "4    0.005383 -0.044642 -0.036385  0.021872  0.003935  0.015596  0.008142   \n",
            "..        ...       ...       ...       ...       ...       ...       ...   \n",
            "437  0.041708  0.050680  0.019662  0.059744 -0.005697 -0.002566 -0.028674   \n",
            "438 -0.005515  0.050680 -0.015906 -0.067642  0.049341  0.079165 -0.028674   \n",
            "439  0.041708  0.050680 -0.015906  0.017293 -0.037344 -0.013840 -0.024993   \n",
            "440 -0.045472 -0.044642  0.039062  0.001215  0.016318  0.015283 -0.028674   \n",
            "441 -0.045472 -0.044642 -0.073030 -0.081413  0.083740  0.027809  0.173816   \n",
            "\n",
            "           s4        s5        s6  \n",
            "0   -0.002592  0.019907 -0.017646  \n",
            "1   -0.039493 -0.068332 -0.092204  \n",
            "2   -0.002592  0.002861 -0.025930  \n",
            "3    0.034309  0.022688 -0.009362  \n",
            "4   -0.002592 -0.031988 -0.046641  \n",
            "..        ...       ...       ...  \n",
            "437 -0.002592  0.031193  0.007207  \n",
            "438  0.034309 -0.018114  0.044485  \n",
            "439 -0.011080 -0.046883  0.015491  \n",
            "440  0.026560  0.044529 -0.025930  \n",
            "441 -0.039493 -0.004222  0.003064  \n",
            "\n",
            "[442 rows x 10 columns]\n"
          ]
        }
      ]
    },
    {
      "cell_type": "code",
      "source": [
        "print(diabetes.target)"
      ],
      "metadata": {
        "id": "yAPQ4Yw0Fx--",
        "outputId": "0b6253cc-543d-44ed-9dbb-3658bef95e8d",
        "colab": {
          "base_uri": "https://localhost:8080/"
        }
      },
      "execution_count": null,
      "outputs": [
        {
          "output_type": "stream",
          "name": "stdout",
          "text": [
            "0      151.0\n",
            "1       75.0\n",
            "2      141.0\n",
            "3      206.0\n",
            "4      135.0\n",
            "       ...  \n",
            "437    178.0\n",
            "438    104.0\n",
            "439    132.0\n",
            "440    220.0\n",
            "441     57.0\n",
            "Name: target, Length: 442, dtype: float64\n"
          ]
        }
      ]
    },
    {
      "cell_type": "markdown",
      "source": [
        "모델 평가"
      ],
      "metadata": {
        "id": "y-Ph30GyLbWj"
      }
    },
    {
      "cell_type": "code",
      "source": [
        "from sklearn.model_selection import train_test_split\n",
        "\n",
        "data_train, data_test, target_train, target_test = \\\n",
        "train_test_split(diabetes.data, diabetes.target, test_size=0.2, random_state=0)"
      ],
      "metadata": {
        "id": "BPaAT-TOF0ad"
      },
      "execution_count": null,
      "outputs": []
    },
    {
      "cell_type": "code",
      "source": [
        "print('전체 데이터의 갯수 :',len(diabetes.data))\n",
        "print('학습 데이터의 갯수 :',len(data_train))\n",
        "print('테스트 데이터의 갯수 :',len(data_test))\n",
        "print('테스트 데이터의 비율 :',len(target_test) / len(diabetes.data))"
      ],
      "metadata": {
        "id": "LuxUFZqDStLe",
        "outputId": "ba81acff-f247-40ab-be90-05deb9d2ec30",
        "colab": {
          "base_uri": "https://localhost:8080/"
        }
      },
      "execution_count": null,
      "outputs": [
        {
          "output_type": "stream",
          "name": "stdout",
          "text": [
            "전체 데이터의 갯수 : 442\n",
            "학습 데이터의 갯수 : 353\n",
            "테스트 데이터의 갯수 : 89\n",
            "테스트 데이터의 비율 : 0.20135746606334842\n"
          ]
        }
      ]
    },
    {
      "cell_type": "code",
      "source": [
        "from sklearn.metrics import mean_squared_error, r2_score\n",
        "\n",
        "mse = mean_squared_error(diabetes.target[0:3],yPrediction)\n",
        "rSquare = r2_score(diabetes.target[0:3],yPrediction)\n",
        "print('표준평균오차 :',mse)\n",
        "print('R 스퀘어 :',rSquare)"
      ],
      "metadata": {
        "id": "oLJ27zDhUMyz",
        "outputId": "e8afaa95-c989-4c52-c1e0-7737ec10c963",
        "colab": {
          "base_uri": "https://localhost:8080/"
        }
      },
      "execution_count": null,
      "outputs": [
        {
          "output_type": "stream",
          "name": "stdout",
          "text": [
            "표준평균오차 : 1457.8111126596916\n",
            "R 스퀘어 : -0.28228108033006505\n"
          ]
        }
      ]
    },
    {
      "cell_type": "code",
      "source": [
        "from sklearn.datasets import load_diabetes\n",
        "from sklearn.model_selection import train_test_split\n",
        "from sklearn.linear_model import LinearRegression\n",
        "from sklearn.metrics import mean_squared_error, r2_score\n",
        "\n",
        "# 데이터 수집 및 전처리\n",
        "diabetes = load_diabetes(as_frame=True)\n",
        "data_train, data_test, target_train, target_test = \\\n",
        "train_test_split(diabetes.data, diabetes.target, test_size=0.2, random_state=0)\n",
        "\n",
        "# 모델 훈련\n",
        "model = LinearRegression()\n",
        "model.fit(data_train,target_train)\n",
        "print('회귀방정식의 계수 :',model.coef_)\n",
        "\n",
        "# 모델 테스트\n",
        "yPrediction = model.predict(data_test)\n",
        "\n",
        "# 모델 평가\n",
        "mse = mean_squared_error(target_test,yPrediction)\n",
        "rSquare = r2_score(target_test,yPrediction)\n",
        "print('표준평균오차 :',mse)\n",
        "print('R 스퀘어 :',rSquare)"
      ],
      "metadata": {
        "id": "NjMteonRjKHu",
        "outputId": "a2c90385-8960-43ab-a995-cdbac26c2b5d",
        "colab": {
          "base_uri": "https://localhost:8080/"
        }
      },
      "execution_count": 2,
      "outputs": [
        {
          "output_type": "stream",
          "name": "stdout",
          "text": [
            "회귀방정식의 계수 : [ -35.55025079 -243.16508959  562.76234744  305.46348218 -662.70290089\n",
            "  324.20738537   24.74879489  170.3249615   731.63743545   43.0309307 ]\n",
            "표준평균오차 : 3424.2593342986925\n",
            "R 스퀘어 : 0.3322332173106183\n"
          ]
        }
      ]
    },
    {
      "cell_type": "markdown",
      "source": [
        "\t로지스틱 회귀 알고리즘"
      ],
      "metadata": {
        "id": "3wctJgaoouBD"
      }
    },
    {
      "cell_type": "markdown",
      "source": [
        "데이터 수집 및 전처리"
      ],
      "metadata": {
        "id": "j72m_CPLurAc"
      }
    },
    {
      "cell_type": "code",
      "source": [
        "from sklearn.datasets import load_iris\n",
        "\n",
        "iris = load_iris(as_frame=True)\n",
        "data_train, data_test, target_train, target_test = \\\n",
        "train_test_split(iris.data, iris.target, test_size=0.2, random_state=0)"
      ],
      "metadata": {
        "id": "lI9GhriRuZg_"
      },
      "execution_count": null,
      "outputs": []
    },
    {
      "cell_type": "code",
      "source": [
        "print(iris.data)"
      ],
      "metadata": {
        "id": "Y4aZ-_Zj3XwX",
        "outputId": "769904cd-880d-4532-ad11-6f2ed454c1ed",
        "colab": {
          "base_uri": "https://localhost:8080/"
        }
      },
      "execution_count": null,
      "outputs": [
        {
          "output_type": "stream",
          "name": "stdout",
          "text": [
            "     sepal length (cm)  sepal width (cm)  petal length (cm)  petal width (cm)\n",
            "0                  5.1               3.5                1.4               0.2\n",
            "1                  4.9               3.0                1.4               0.2\n",
            "2                  4.7               3.2                1.3               0.2\n",
            "3                  4.6               3.1                1.5               0.2\n",
            "4                  5.0               3.6                1.4               0.2\n",
            "..                 ...               ...                ...               ...\n",
            "145                6.7               3.0                5.2               2.3\n",
            "146                6.3               2.5                5.0               1.9\n",
            "147                6.5               3.0                5.2               2.0\n",
            "148                6.2               3.4                5.4               2.3\n",
            "149                5.9               3.0                5.1               1.8\n",
            "\n",
            "[150 rows x 4 columns]\n"
          ]
        }
      ]
    },
    {
      "cell_type": "code",
      "source": [
        "print(iris.target)\n",
        "print(iris.target[50:56])"
      ],
      "metadata": {
        "id": "mgpDZ_9ju0jP",
        "outputId": "996d041f-2571-4068-c515-5b8f77b1e4f1",
        "colab": {
          "base_uri": "https://localhost:8080/"
        }
      },
      "execution_count": null,
      "outputs": [
        {
          "output_type": "stream",
          "name": "stdout",
          "text": [
            "0      0\n",
            "1      0\n",
            "2      0\n",
            "3      0\n",
            "4      0\n",
            "      ..\n",
            "145    2\n",
            "146    2\n",
            "147    2\n",
            "148    2\n",
            "149    2\n",
            "Name: target, Length: 150, dtype: int64\n",
            "50    1\n",
            "51    1\n",
            "52    1\n",
            "53    1\n",
            "54    1\n",
            "55    1\n",
            "Name: target, dtype: int64\n"
          ]
        }
      ]
    },
    {
      "cell_type": "markdown",
      "source": [
        "모델 훈련"
      ],
      "metadata": {
        "id": "5gsRqMwz25lB"
      }
    },
    {
      "cell_type": "code",
      "source": [
        "from sklearn.linear_model import LogisticRegression\n",
        "\n",
        "model = LogisticRegression()\n",
        "model.fit(data_train,target_train)\n",
        "print('훈련된 회귀방정식의 계수 :',model.coef_)"
      ],
      "metadata": {
        "id": "1reu3ehz29Pf",
        "outputId": "0f9c189f-8f25-4f10-e8cb-1ab994238de0",
        "colab": {
          "base_uri": "https://localhost:8080/"
        }
      },
      "execution_count": 11,
      "outputs": [
        {
          "output_type": "stream",
          "name": "stdout",
          "text": [
            "훈련된 회귀방정식의 계수 : [[-0.39345168  0.8511139  -2.3601146  -1.01214086]\n",
            " [ 0.40917579 -0.31929939 -0.14621045 -0.78817065]\n",
            " [-0.01572411 -0.53181451  2.50632505  1.80031151]]\n"
          ]
        },
        {
          "output_type": "stream",
          "name": "stderr",
          "text": [
            "/usr/local/lib/python3.9/dist-packages/sklearn/linear_model/_logistic.py:458: ConvergenceWarning: lbfgs failed to converge (status=1):\n",
            "STOP: TOTAL NO. of ITERATIONS REACHED LIMIT.\n",
            "\n",
            "Increase the number of iterations (max_iter) or scale the data as shown in:\n",
            "    https://scikit-learn.org/stable/modules/preprocessing.html\n",
            "Please also refer to the documentation for alternative solver options:\n",
            "    https://scikit-learn.org/stable/modules/linear_model.html#logistic-regression\n",
            "  n_iter_i = _check_optimize_result(\n"
          ]
        }
      ]
    },
    {
      "cell_type": "code",
      "source": [
        "from sklearn.linear_model import LogisticRegression\n",
        "\n",
        "model = LogisticRegression(max_iter=1000)\n",
        "model.fit(data_train,target_train)\n",
        "print('훈련된 회귀방정식의 계수 :',model.coef_)"
      ],
      "metadata": {
        "id": "W8flfh5R7y-O",
        "outputId": "09004434-80b8-4589-f6ef-a274c3c00259",
        "colab": {
          "base_uri": "https://localhost:8080/"
        }
      },
      "execution_count": 12,
      "outputs": [
        {
          "output_type": "stream",
          "name": "stdout",
          "text": [
            "훈련된 회귀방정식의 계수 : [[-0.39404717  0.84858916 -2.360915   -1.01267644]\n",
            " [ 0.41037412 -0.31739232 -0.14619146 -0.78742476]\n",
            " [-0.01632695 -0.53119684  2.50710646  1.8001012 ]]\n"
          ]
        }
      ]
    },
    {
      "cell_type": "markdown",
      "source": [
        "모델 테스트"
      ],
      "metadata": {
        "id": "9szrCq8g_A5U"
      }
    },
    {
      "cell_type": "code",
      "source": [
        "yPrediction = model.predict(data_test)\n",
        "print('회귀분석 모델로 예측한 붓꽃의 종류:', yPrediction)"
      ],
      "metadata": {
        "id": "qO29kqDZ96wi",
        "outputId": "c5f2be77-82ec-4b86-c181-b22be98faeeb",
        "colab": {
          "base_uri": "https://localhost:8080/"
        }
      },
      "execution_count": null,
      "outputs": [
        {
          "output_type": "stream",
          "name": "stdout",
          "text": [
            "회귀분석 모델로 예측한 붓꽃의 종류: [2 1 0 2 0 2 0 1 1 1 2 1 1 1 1 0 1 1 0 0 2 1 0 0 2 0 0 1 1 0]\n"
          ]
        }
      ]
    },
    {
      "cell_type": "markdown",
      "source": [
        "모델 평가"
      ],
      "metadata": {
        "id": "fHZcxUvU_FZa"
      }
    },
    {
      "cell_type": "code",
      "source": [
        "from sklearn.metrics import accuracy_score\n",
        "\n",
        "accuracy = accuracy_score(target_test, yPrediction)\n",
        "print('로지스틱 선형 회귀 모델 정확도:', accuracy)"
      ],
      "metadata": {
        "id": "WmgXdNbC_G6R",
        "outputId": "b2f3f9d8-e531-47a1-b561-636be9e15c98",
        "colab": {
          "base_uri": "https://localhost:8080/"
        }
      },
      "execution_count": null,
      "outputs": [
        {
          "output_type": "stream",
          "name": "stdout",
          "text": [
            "로지스틱 선형 회귀 모델 정확도: 1.0\n"
          ]
        }
      ]
    },
    {
      "cell_type": "code",
      "source": [
        "from sklearn.datasets import load_iris\n",
        "from sklearn.model_selection import train_test_split\n",
        "from sklearn.linear_model import LogisticRegression\n",
        "from sklearn.metrics import accuracy_score\n",
        "\n",
        "# 데이터 수집 및 전처리\n",
        "iris = load_iris(as_frame=True)\n",
        "data_train, data_test, target_train, target_test = \\\n",
        "train_test_split(iris.data, iris.target, test_size=0.2, random_state=0)\n",
        "\n",
        "# 모델 훈련\n",
        "model = LogisticRegression(max_iter=1000)\n",
        "model.fit(data_train,target_train)\n",
        "\n",
        "# 모델 테스트\n",
        "yPrediction = model.predict(data_test)\n",
        "\n",
        "# 모델 평가\n",
        "accuracy = accuracy_score(target_test, yPrediction)\n",
        "print('로지스틱 선형 회귀 모델 정확도:', accuracy)"
      ],
      "metadata": {
        "id": "ZUh5Y01rHc9N",
        "outputId": "b1715832-3d64-489a-e50d-85912c0e04e3",
        "colab": {
          "base_uri": "https://localhost:8080/"
        }
      },
      "execution_count": 13,
      "outputs": [
        {
          "output_type": "stream",
          "name": "stdout",
          "text": [
            "로지스틱 선형 회귀 모델 정확도: 1.0\n"
          ]
        }
      ]
    }
  ]
}