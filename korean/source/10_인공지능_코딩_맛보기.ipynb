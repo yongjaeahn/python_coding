{
  "nbformat": 4,
  "nbformat_minor": 0,
  "metadata": {
    "colab": {
      "provenance": [],
      "authorship_tag": "ABX9TyPNHMHkkU7VMLlU6nLn0ZYV",
      "include_colab_link": true
    },
    "kernelspec": {
      "name": "python3",
      "display_name": "Python 3"
    },
    "language_info": {
      "name": "python"
    }
  },
  "cells": [
    {
      "cell_type": "markdown",
      "metadata": {
        "id": "view-in-github",
        "colab_type": "text"
      },
      "source": [
        "<a href=\"https://colab.research.google.com/github/yongjaeahn/PythonCoding/blob/main/korean/source/10_%EC%9D%B8%EA%B3%B5%EC%A7%80%EB%8A%A5_%EC%BD%94%EB%94%A9_%EB%A7%9B%EB%B3%B4%EA%B8%B0.ipynb\" target=\"_parent\"><img src=\"https://colab.research.google.com/assets/colab-badge.svg\" alt=\"Open In Colab\"/></a>"
      ]
    },
    {
      "cell_type": "markdown",
      "source": [
        "\t선형 회귀 알고리즘"
      ],
      "metadata": {
        "id": "gl0hcNJAN1kG"
      }
    },
    {
      "cell_type": "markdown",
      "source": [
        "데이터 수집"
      ],
      "metadata": {
        "id": "zcCr5L2s5GXQ"
      }
    },
    {
      "cell_type": "code",
      "execution_count": null,
      "metadata": {
        "colab": {
          "base_uri": "https://localhost:8080/"
        },
        "id": "jjdBbkhLy1Ey",
        "outputId": "0452450e-af8e-4297-a2c7-f61b1741a9fe"
      },
      "outputs": [
        {
          "output_type": "stream",
          "name": "stdout",
          "text": [
            "<class 'sklearn.utils._bunch.Bunch'>\n",
            "['DESCR', 'data', 'data_filename', 'data_module', 'feature_names', 'frame', 'target', 'target_filename']\n"
          ]
        }
      ],
      "source": [
        "from sklearn.datasets import load_diabetes\n",
        "\n",
        "diabetes = load_diabetes()\n",
        "\n",
        "print(type(diabetes))\n",
        "print(dir(diabetes))"
      ]
    },
    {
      "cell_type": "code",
      "source": [
        "print(diabetes.DESCR)"
      ],
      "metadata": {
        "colab": {
          "base_uri": "https://localhost:8080/"
        },
        "id": "s_s10_Bz5kEX",
        "outputId": "b377f39d-c0ec-4ef7-c2a9-9689148d14c8"
      },
      "execution_count": null,
      "outputs": [
        {
          "output_type": "stream",
          "name": "stdout",
          "text": [
            ".. _diabetes_dataset:\n",
            "\n",
            "Diabetes dataset\n",
            "----------------\n",
            "\n",
            "Ten baseline variables, age, sex, body mass index, average blood\n",
            "pressure, and six blood serum measurements were obtained for each of n =\n",
            "442 diabetes patients, as well as the response of interest, a\n",
            "quantitative measure of disease progression one year after baseline.\n",
            "\n",
            "**Data Set Characteristics:**\n",
            "\n",
            "  :Number of Instances: 442\n",
            "\n",
            "  :Number of Attributes: First 10 columns are numeric predictive values\n",
            "\n",
            "  :Target: Column 11 is a quantitative measure of disease progression one year after baseline\n",
            "\n",
            "  :Attribute Information:\n",
            "      - age     age in years\n",
            "      - sex\n",
            "      - bmi     body mass index\n",
            "      - bp      average blood pressure\n",
            "      - s1      tc, total serum cholesterol\n",
            "      - s2      ldl, low-density lipoproteins\n",
            "      - s3      hdl, high-density lipoproteins\n",
            "      - s4      tch, total cholesterol / HDL\n",
            "      - s5      ltg, possibly log of serum triglycerides level\n",
            "      - s6      glu, blood sugar level\n",
            "\n",
            "Note: Each of these 10 feature variables have been mean centered and scaled by the standard deviation times the square root of `n_samples` (i.e. the sum of squares of each column totals 1).\n",
            "\n",
            "Source URL:\n",
            "https://www4.stat.ncsu.edu/~boos/var.select/diabetes.html\n",
            "\n",
            "For more information see:\n",
            "Bradley Efron, Trevor Hastie, Iain Johnstone and Robert Tibshirani (2004) \"Least Angle Regression,\" Annals of Statistics (with discussion), 407-499.\n",
            "(https://web.stanford.edu/~hastie/Papers/LARS/LeastAngle_2002.pdf)\n",
            "\n"
          ]
        }
      ]
    },
    {
      "cell_type": "code",
      "source": [
        "help(load_diabetes)"
      ],
      "metadata": {
        "colab": {
          "base_uri": "https://localhost:8080/"
        },
        "id": "_-I3EhgROFW-",
        "outputId": "9eb4dc21-76ba-4389-d5ec-b5a4c14da66a"
      },
      "execution_count": null,
      "outputs": [
        {
          "output_type": "stream",
          "name": "stdout",
          "text": [
            "Help on function load_diabetes in module sklearn.datasets._base:\n",
            "\n",
            "load_diabetes(*, return_X_y=False, as_frame=False, scaled=True)\n",
            "    Load and return the diabetes dataset (regression).\n",
            "    \n",
            "    ==============   ==================\n",
            "    Samples total    442\n",
            "    Dimensionality   10\n",
            "    Features         real, -.2 < x < .2\n",
            "    Targets          integer 25 - 346\n",
            "    ==============   ==================\n",
            "    \n",
            "    .. note::\n",
            "       The meaning of each feature (i.e. `feature_names`) might be unclear\n",
            "       (especially for `ltg`) as the documentation of the original dataset is\n",
            "       not explicit. We provide information that seems correct in regard with\n",
            "       the scientific literature in this field of research.\n",
            "    \n",
            "    Read more in the :ref:`User Guide <diabetes_dataset>`.\n",
            "    \n",
            "    Parameters\n",
            "    ----------\n",
            "    return_X_y : bool, default=False\n",
            "        If True, returns ``(data, target)`` instead of a Bunch object.\n",
            "        See below for more information about the `data` and `target` object.\n",
            "    \n",
            "        .. versionadded:: 0.18\n",
            "    \n",
            "    as_frame : bool, default=False\n",
            "        If True, the data is a pandas DataFrame including columns with\n",
            "        appropriate dtypes (numeric). The target is\n",
            "        a pandas DataFrame or Series depending on the number of target columns.\n",
            "        If `return_X_y` is True, then (`data`, `target`) will be pandas\n",
            "        DataFrames or Series as described below.\n",
            "    \n",
            "        .. versionadded:: 0.23\n",
            "    \n",
            "    scaled : bool, default=True\n",
            "        If True, the feature variables are mean centered and scaled by the\n",
            "        standard deviation times the square root of `n_samples`.\n",
            "        If False, raw data is returned for the feature variables.\n",
            "    \n",
            "        .. versionadded:: 1.1\n",
            "    \n",
            "    Returns\n",
            "    -------\n",
            "    data : :class:`~sklearn.utils.Bunch`\n",
            "        Dictionary-like object, with the following attributes.\n",
            "    \n",
            "        data : {ndarray, dataframe} of shape (442, 10)\n",
            "            The data matrix. If `as_frame=True`, `data` will be a pandas\n",
            "            DataFrame.\n",
            "        target: {ndarray, Series} of shape (442,)\n",
            "            The regression target. If `as_frame=True`, `target` will be\n",
            "            a pandas Series.\n",
            "        feature_names: list\n",
            "            The names of the dataset columns.\n",
            "        frame: DataFrame of shape (442, 11)\n",
            "            Only present when `as_frame=True`. DataFrame with `data` and\n",
            "            `target`.\n",
            "    \n",
            "            .. versionadded:: 0.23\n",
            "        DESCR: str\n",
            "            The full description of the dataset.\n",
            "        data_filename: str\n",
            "            The path to the location of the data.\n",
            "        target_filename: str\n",
            "            The path to the location of the target.\n",
            "    \n",
            "    (data, target) : tuple if ``return_X_y`` is True\n",
            "        Returns a tuple of two ndarray of shape (n_samples, n_features)\n",
            "        A 2D array with each row representing one sample and each column\n",
            "        representing the features and/or target of a given sample.\n",
            "    \n",
            "        .. versionadded:: 0.18\n",
            "\n"
          ]
        }
      ]
    },
    {
      "cell_type": "markdown",
      "source": [
        "데이터 전처리"
      ],
      "metadata": {
        "id": "nd8Y6H4yqhFJ"
      }
    },
    {
      "cell_type": "code",
      "source": [
        "print(diabetes.feature_names)"
      ],
      "metadata": {
        "colab": {
          "base_uri": "https://localhost:8080/"
        },
        "id": "UX7ZB_3Nrwcn",
        "outputId": "6873b54a-4e0a-4a7c-b90e-f541d17832c0"
      },
      "execution_count": null,
      "outputs": [
        {
          "output_type": "stream",
          "name": "stdout",
          "text": [
            "['age', 'sex', 'bmi', 'bp', 's1', 's2', 's3', 's4', 's5', 's6']\n"
          ]
        }
      ]
    },
    {
      "cell_type": "code",
      "source": [
        "print(diabetes.data[0:3])\n",
        "print(diabetes.data[-1:-3:-1])"
      ],
      "metadata": {
        "colab": {
          "base_uri": "https://localhost:8080/"
        },
        "id": "aUTTi04Qos8o",
        "outputId": "d8cb2441-c4f9-4a9c-fb81-1e9004c0e49c"
      },
      "execution_count": null,
      "outputs": [
        {
          "output_type": "stream",
          "name": "stdout",
          "text": [
            "[[ 0.03807591  0.05068012  0.06169621  0.02187239 -0.0442235  -0.03482076\n",
            "  -0.04340085 -0.00259226  0.01990749 -0.01764613]\n",
            " [-0.00188202 -0.04464164 -0.05147406 -0.02632753 -0.00844872 -0.01916334\n",
            "   0.07441156 -0.03949338 -0.06833155 -0.09220405]\n",
            " [ 0.08529891  0.05068012  0.04445121 -0.00567042 -0.04559945 -0.03419447\n",
            "  -0.03235593 -0.00259226  0.00286131 -0.02593034]]\n",
            "[[-0.04547248 -0.04464164 -0.0730303  -0.08141314  0.08374012  0.02780893\n",
            "   0.17381578 -0.03949338 -0.00422151  0.00306441]\n",
            " [-0.04547248 -0.04464164  0.03906215  0.00121528  0.01631843  0.01528299\n",
            "  -0.02867429  0.02655962  0.04452873 -0.02593034]]\n"
          ]
        }
      ]
    },
    {
      "cell_type": "code",
      "source": [
        "print(diabetes.target[0:3])\n",
        "print(diabetes.target[-1:-3:-1])"
      ],
      "metadata": {
        "colab": {
          "base_uri": "https://localhost:8080/"
        },
        "id": "cK3P_FdKq2iB",
        "outputId": "f62bca73-932e-49a4-d66e-4c3529c02cf3"
      },
      "execution_count": null,
      "outputs": [
        {
          "output_type": "stream",
          "name": "stdout",
          "text": [
            "[151.  75. 141.]\n",
            "[ 57. 220.]\n"
          ]
        }
      ]
    },
    {
      "cell_type": "code",
      "source": [
        "import numpy as np\n",
        "\n",
        "def normalize(values):\n",
        "    mean = np.mean(values)    # 평균\n",
        "    std = np.std(values)      # 표준편차\n",
        "    # 정규화 = (값 - 평균) / 표준편차\n",
        "    normalized = (values - mean) / std    \n",
        "\n",
        "    return normalized\n",
        "\n",
        "ages = np.array([50,45,20,60,63,57,40,47,30,58])\n",
        "normalizedAges = normalize(ages)\n",
        "print('정규화된 나이 :',normalizedAges)\n",
        "\n",
        "bmis = np.array([30,28,22,28,27,32,27,22,25,29])\n",
        "normalizedBmis = normalize(bmis)\n",
        "print('정규화된 체질량 지수 :',normalizedBmis)"
      ],
      "metadata": {
        "id": "WRaGjQjREJPH",
        "outputId": "1be99d84-9e9b-41a9-b339-b13e0117c5d6",
        "colab": {
          "base_uri": "https://localhost:8080/"
        }
      },
      "execution_count": null,
      "outputs": [
        {
          "output_type": "stream",
          "name": "stdout",
          "text": [
            "정규화된 나이 : [ 0.22834992 -0.15223328 -2.05514926  0.98951631  1.21786623  0.76116639\n",
            " -0.53281647  0.         -1.29398287  0.83728303]\n",
            "정규화된 체질량 지수 : [ 0.97849211  0.32616404 -1.63082018  0.32616404  0.          1.63082018\n",
            "  0.         -1.63082018 -0.65232807  0.65232807]\n"
          ]
        }
      ]
    },
    {
      "cell_type": "code",
      "source": [
        "sex = np.array(['M','F','F','M','M','F','F','F','M','F'])\n",
        "sexNumeric = np.where(sex == 'M',1,0)\n",
        "print('수치화된 성별 :',sexNumeric)\n",
        "normalizedSex = normalize(sexNumeric)\n",
        "print('정규화된 성별 :',normalizedSex)"
      ],
      "metadata": {
        "id": "VaZLmWuVIzhE",
        "outputId": "e0f6ac76-bb79-4a22-a1db-dd23a8ce9887",
        "colab": {
          "base_uri": "https://localhost:8080/"
        }
      },
      "execution_count": null,
      "outputs": [
        {
          "output_type": "stream",
          "name": "stdout",
          "text": [
            "수치화된 성별 : [1 0 0 1 1 0 0 0 1 0]\n",
            "정규화된 성별 : [ 1.22474487 -0.81649658 -0.81649658  1.22474487  1.22474487 -0.81649658\n",
            " -0.81649658 -0.81649658  1.22474487 -0.81649658]\n"
          ]
        }
      ]
    },
    {
      "cell_type": "code",
      "source": [
        "from sklearn.preprocessing import StandardScaler\n",
        "\n",
        "diabetesFeatures = np.array(list(zip(ages,sexNumeric,bmis)))\n",
        "print('당뇨병 특징 :\\n',diabetesFeatures)\n",
        "\n",
        "scaler = StandardScaler()\n",
        "normalizedDiabetes = scaler.fit_transform(diabetesFeatures)\n",
        "\n",
        "print('정규화된 당뇨병 특징 :\\n',normalizedDiabetes)"
      ],
      "metadata": {
        "id": "h7R0WiFkgxIA",
        "outputId": "05b16c38-d98f-42ea-f982-d14ac9480e19",
        "colab": {
          "base_uri": "https://localhost:8080/"
        }
      },
      "execution_count": null,
      "outputs": [
        {
          "output_type": "stream",
          "name": "stdout",
          "text": [
            "당뇨병 특징 :\n",
            " [[50  1 30]\n",
            " [45  0 28]\n",
            " [20  0 22]\n",
            " [60  1 28]\n",
            " [63  1 27]\n",
            " [57  0 32]\n",
            " [40  0 27]\n",
            " [47  0 22]\n",
            " [30  1 25]\n",
            " [58  0 29]]\n",
            "정규화된 당뇨병 특징 :\n",
            " [[ 0.22834992  1.22474487  0.97849211]\n",
            " [-0.15223328 -0.81649658  0.32616404]\n",
            " [-2.05514926 -0.81649658 -1.63082018]\n",
            " [ 0.98951631  1.22474487  0.32616404]\n",
            " [ 1.21786623  1.22474487  0.        ]\n",
            " [ 0.76116639 -0.81649658  1.63082018]\n",
            " [-0.53281647 -0.81649658  0.        ]\n",
            " [ 0.         -0.81649658 -1.63082018]\n",
            " [-1.29398287  1.22474487 -0.65232807]\n",
            " [ 0.83728303 -0.81649658  0.65232807]]\n"
          ]
        }
      ]
    },
    {
      "cell_type": "markdown",
      "source": [
        "모델 훈련"
      ],
      "metadata": {
        "id": "V3iEKtORz83b"
      }
    },
    {
      "cell_type": "code",
      "source": [
        "from sklearn.linear_model import LinearRegression\n",
        "\n",
        "model = LinearRegression()\n",
        "model.fit(diabetes.data,diabetes.target)\n",
        "print('훈련된 회귀방정식의 계수 :',model.coef_)"
      ],
      "metadata": {
        "colab": {
          "base_uri": "https://localhost:8080/"
        },
        "id": "RO7k6q0Fz_Yo",
        "outputId": "3ffadb57-0d45-46ea-ec89-ae48ce11f93b"
      },
      "execution_count": null,
      "outputs": [
        {
          "output_type": "stream",
          "name": "stdout",
          "text": [
            "훈련된 회귀방정식의 계수 : [ -10.0098663  -239.81564367  519.84592005  324.3846455  -792.17563855\n",
            "  476.73902101  101.04326794  177.06323767  751.27369956   67.62669218]\n"
          ]
        },
        {
          "output_type": "execute_result",
          "data": {
            "text/plain": [
              "10"
            ]
          },
          "metadata": {},
          "execution_count": 6
        }
      ]
    },
    {
      "cell_type": "markdown",
      "source": [
        "모델 테스트"
      ],
      "metadata": {
        "id": "4PFLQ-J269q7"
      }
    },
    {
      "cell_type": "code",
      "source": [
        "print('1년 후 당뇨병 진행의 정량적 측정치 예측을 위한 10개의 독립변수 :\\n', diabetes.data[0:3])\n",
        "yPrediction = model.predict(diabetes.data[0:3])\n",
        "\n",
        "print('회귀분석 모델로 예측한 1년 후 당뇨병 진행의 정량적 측정치:', yPrediction)\n",
        "print('회귀분석 모델에 사용된 1년 후 당뇨병 진행의 정량적 측정치:', diabetes.target[0:3])"
      ],
      "metadata": {
        "colab": {
          "base_uri": "https://localhost:8080/"
        },
        "id": "kOecf0X168t0",
        "outputId": "ab895924-1d74-4728-f3d0-ab76b09f9f12"
      },
      "execution_count": null,
      "outputs": [
        {
          "output_type": "stream",
          "name": "stdout",
          "text": [
            "1년 후 당뇨병 진행의 정량적 측정치 예측을 위한 10개의 독립변수 :\n",
            " [[ 0.03807591  0.05068012  0.06169621  0.02187239 -0.0442235  -0.03482076\n",
            "  -0.04340085 -0.00259226  0.01990749 -0.01764613]\n",
            " [-0.00188202 -0.04464164 -0.05147406 -0.02632753 -0.00844872 -0.01916334\n",
            "   0.07441156 -0.03949338 -0.06833155 -0.09220405]\n",
            " [ 0.08529891  0.05068012  0.04445121 -0.00567042 -0.04559945 -0.03419447\n",
            "  -0.03235593 -0.00259226  0.00286131 -0.02593034]]\n",
            "회귀분석 모델로 예측한 1년 후 당뇨병 진행의 정량적 측정치: [206.11667725  68.07103297 176.88279035]\n",
            "회귀분석 모델에 사용된 1년 후 당뇨병 진행의 정량적 측정치: [151.  75. 141.]\n"
          ]
        }
      ]
    },
    {
      "cell_type": "code",
      "source": [
        "from sklearn.datasets import load_diabetes\n",
        "from sklearn.linear_model import LinearRegression\n",
        "\n",
        "# 데이터 수집 및 전처리\n",
        "diabetes = load_diabetes()\n",
        "\n",
        "# 모델 훈련\n",
        "model = LinearRegression()\n",
        "model.fit(diabetes.data,diabetes.target)\n",
        "\n",
        "# 모델 테스트\n",
        "yPrediction = model.predict(diabetes.data[0:3])\n",
        "print('회귀분석 모델로 예측한 1년 후 당뇨병 진행의 정량적 측정치:', yPrediction)"
      ],
      "metadata": {
        "colab": {
          "base_uri": "https://localhost:8080/"
        },
        "id": "HRRYAfQCBSnR",
        "outputId": "9d5fe2e9-2ce9-48b8-fcb1-cc373d03058b"
      },
      "execution_count": null,
      "outputs": [
        {
          "output_type": "stream",
          "name": "stdout",
          "text": [
            "회귀분석 모델로 예측한 1년 후 당뇨병 진행의 정량적 측정치: [206.11667725  68.07103297 176.88279035]\n"
          ]
        }
      ]
    },
    {
      "cell_type": "code",
      "source": [
        "from sklearn.datasets import load_diabetes\n",
        "from sklearn.linear_model import LinearRegression\n",
        "\n",
        "# 데이터 수집 및 전처리\n",
        "diabetes = load_diabetes(as_frame=True)\n",
        "\n",
        "# 모델 훈련\n",
        "model = LinearRegression()\n",
        "model.fit(diabetes.data,diabetes.target)\n",
        "\n",
        "# 모델 테스트\n",
        "yPrediction = model.predict(diabetes.data[0:3])\n",
        "print('회귀분석 모델로 예측한 1년 후 당뇨병 진행의 정량적 측정치:', yPrediction)"
      ],
      "metadata": {
        "colab": {
          "base_uri": "https://localhost:8080/"
        },
        "id": "K_h1FsQ8C4Lz",
        "outputId": "e667b10a-024c-4c65-9d1b-5871418b3c74"
      },
      "execution_count": null,
      "outputs": [
        {
          "output_type": "stream",
          "name": "stdout",
          "text": [
            "회귀분석 모델로 예측한 1년 후 당뇨병 진행의 정량적 측정치: [206.11667725  68.07103297 176.88279035]\n"
          ]
        }
      ]
    },
    {
      "cell_type": "code",
      "source": [
        "print(diabetes.data)"
      ],
      "metadata": {
        "id": "X4F80VQY9O8t",
        "outputId": "e8436269-df66-4674-a91b-902b960505f3",
        "colab": {
          "base_uri": "https://localhost:8080/"
        }
      },
      "execution_count": null,
      "outputs": [
        {
          "output_type": "stream",
          "name": "stdout",
          "text": [
            "          age       sex       bmi        bp        s1        s2        s3  \\\n",
            "0    0.038076  0.050680  0.061696  0.021872 -0.044223 -0.034821 -0.043401   \n",
            "1   -0.001882 -0.044642 -0.051474 -0.026328 -0.008449 -0.019163  0.074412   \n",
            "2    0.085299  0.050680  0.044451 -0.005670 -0.045599 -0.034194 -0.032356   \n",
            "3   -0.089063 -0.044642 -0.011595 -0.036656  0.012191  0.024991 -0.036038   \n",
            "4    0.005383 -0.044642 -0.036385  0.021872  0.003935  0.015596  0.008142   \n",
            "..        ...       ...       ...       ...       ...       ...       ...   \n",
            "437  0.041708  0.050680  0.019662  0.059744 -0.005697 -0.002566 -0.028674   \n",
            "438 -0.005515  0.050680 -0.015906 -0.067642  0.049341  0.079165 -0.028674   \n",
            "439  0.041708  0.050680 -0.015906  0.017293 -0.037344 -0.013840 -0.024993   \n",
            "440 -0.045472 -0.044642  0.039062  0.001215  0.016318  0.015283 -0.028674   \n",
            "441 -0.045472 -0.044642 -0.073030 -0.081413  0.083740  0.027809  0.173816   \n",
            "\n",
            "           s4        s5        s6  \n",
            "0   -0.002592  0.019907 -0.017646  \n",
            "1   -0.039493 -0.068332 -0.092204  \n",
            "2   -0.002592  0.002861 -0.025930  \n",
            "3    0.034309  0.022688 -0.009362  \n",
            "4   -0.002592 -0.031988 -0.046641  \n",
            "..        ...       ...       ...  \n",
            "437 -0.002592  0.031193  0.007207  \n",
            "438  0.034309 -0.018114  0.044485  \n",
            "439 -0.011080 -0.046883  0.015491  \n",
            "440  0.026560  0.044529 -0.025930  \n",
            "441 -0.039493 -0.004222  0.003064  \n",
            "\n",
            "[442 rows x 10 columns]\n"
          ]
        }
      ]
    },
    {
      "cell_type": "code",
      "source": [
        "print(diabetes.target)"
      ],
      "metadata": {
        "id": "yAPQ4Yw0Fx--",
        "outputId": "0b6253cc-543d-44ed-9dbb-3658bef95e8d",
        "colab": {
          "base_uri": "https://localhost:8080/"
        }
      },
      "execution_count": null,
      "outputs": [
        {
          "output_type": "stream",
          "name": "stdout",
          "text": [
            "0      151.0\n",
            "1       75.0\n",
            "2      141.0\n",
            "3      206.0\n",
            "4      135.0\n",
            "       ...  \n",
            "437    178.0\n",
            "438    104.0\n",
            "439    132.0\n",
            "440    220.0\n",
            "441     57.0\n",
            "Name: target, Length: 442, dtype: float64\n"
          ]
        }
      ]
    },
    {
      "cell_type": "markdown",
      "source": [
        "모델 평가"
      ],
      "metadata": {
        "id": "y-Ph30GyLbWj"
      }
    },
    {
      "cell_type": "code",
      "source": [
        "from sklearn.model_selection import train_test_split\n",
        "\n",
        "data_train, data_test, target_train, target_test = \\\n",
        "train_test_split(diabetes.data, diabetes.target, test_size=0.2, random_state=0)"
      ],
      "metadata": {
        "id": "BPaAT-TOF0ad"
      },
      "execution_count": null,
      "outputs": []
    },
    {
      "cell_type": "code",
      "source": [
        "print('전체 데이터의 갯수 :',len(diabetes.data))\n",
        "print('학습 데이터의 갯수 :',len(data_train))\n",
        "print('테스트 데이터의 갯수 :',len(data_test))\n",
        "print('테스트 데이터의 비율 :',len(target_test) / len(diabetes.data))"
      ],
      "metadata": {
        "id": "LuxUFZqDStLe",
        "outputId": "ba81acff-f247-40ab-be90-05deb9d2ec30",
        "colab": {
          "base_uri": "https://localhost:8080/"
        }
      },
      "execution_count": null,
      "outputs": [
        {
          "output_type": "stream",
          "name": "stdout",
          "text": [
            "전체 데이터의 갯수 : 442\n",
            "학습 데이터의 갯수 : 353\n",
            "테스트 데이터의 갯수 : 89\n",
            "테스트 데이터의 비율 : 0.20135746606334842\n"
          ]
        }
      ]
    },
    {
      "cell_type": "code",
      "source": [
        "from sklearn.metrics import mean_squared_error, r2_score\n",
        "\n",
        "mse = mean_squared_error(diabetes.target[0:3],yPrediction)\n",
        "rSquare = r2_score(diabetes.target[0:3],yPrediction)\n",
        "print('표준평균오차 :',mse)\n",
        "print('R 스퀘어 :',rSquare)"
      ],
      "metadata": {
        "id": "oLJ27zDhUMyz",
        "outputId": "e8afaa95-c989-4c52-c1e0-7737ec10c963",
        "colab": {
          "base_uri": "https://localhost:8080/"
        }
      },
      "execution_count": null,
      "outputs": [
        {
          "output_type": "stream",
          "name": "stdout",
          "text": [
            "표준평균오차 : 1457.8111126596916\n",
            "R 스퀘어 : -0.28228108033006505\n"
          ]
        }
      ]
    },
    {
      "cell_type": "code",
      "source": [
        "from sklearn.datasets import load_diabetes\n",
        "from sklearn.model_selection import train_test_split\n",
        "from sklearn.linear_model import LinearRegression\n",
        "from sklearn.metrics import mean_squared_error, r2_score\n",
        "\n",
        "# 데이터 수집 및 전처리\n",
        "diabetes = load_diabetes(as_frame=True)\n",
        "data_train, data_test, target_train, target_test = \\\n",
        "train_test_split(diabetes.data, diabetes.target, test_size=0.2, random_state=0)\n",
        "\n",
        "# 모델 훈련\n",
        "model = LinearRegression()\n",
        "model.fit(data_train,target_train)\n",
        "print('회귀방정식의 계수 :',model.coef_)\n",
        "\n",
        "# 모델 테스트\n",
        "yPrediction = model.predict(data_test)\n",
        "\n",
        "# 모델 평가\n",
        "mse = mean_squared_error(target_test,yPrediction)\n",
        "rSquare = r2_score(target_test,yPrediction)\n",
        "print('표준평균오차 :',mse)\n",
        "print('R 스퀘어 :',rSquare)"
      ],
      "metadata": {
        "id": "NjMteonRjKHu",
        "outputId": "a2c90385-8960-43ab-a995-cdbac26c2b5d",
        "colab": {
          "base_uri": "https://localhost:8080/"
        }
      },
      "execution_count": null,
      "outputs": [
        {
          "output_type": "stream",
          "name": "stdout",
          "text": [
            "회귀방정식의 계수 : [ -35.55025079 -243.16508959  562.76234744  305.46348218 -662.70290089\n",
            "  324.20738537   24.74879489  170.3249615   731.63743545   43.0309307 ]\n",
            "표준평균오차 : 3424.2593342986925\n",
            "R 스퀘어 : 0.3322332173106183\n"
          ]
        }
      ]
    },
    {
      "cell_type": "markdown",
      "source": [
        "\t로지스틱 회귀 알고리즘"
      ],
      "metadata": {
        "id": "3wctJgaoouBD"
      }
    },
    {
      "cell_type": "markdown",
      "source": [
        "데이터 수집 및 전처리"
      ],
      "metadata": {
        "id": "j72m_CPLurAc"
      }
    },
    {
      "cell_type": "code",
      "source": [
        "from sklearn.datasets import load_iris\n",
        "\n",
        "iris = load_iris(as_frame=True)\n",
        "data_train, data_test, target_train, target_test = \\\n",
        "train_test_split(iris.data, iris.target, test_size=0.2, random_state=0)"
      ],
      "metadata": {
        "id": "lI9GhriRuZg_"
      },
      "execution_count": null,
      "outputs": []
    },
    {
      "cell_type": "code",
      "source": [
        "print(iris.data)"
      ],
      "metadata": {
        "id": "Y4aZ-_Zj3XwX",
        "outputId": "769904cd-880d-4532-ad11-6f2ed454c1ed",
        "colab": {
          "base_uri": "https://localhost:8080/"
        }
      },
      "execution_count": null,
      "outputs": [
        {
          "output_type": "stream",
          "name": "stdout",
          "text": [
            "     sepal length (cm)  sepal width (cm)  petal length (cm)  petal width (cm)\n",
            "0                  5.1               3.5                1.4               0.2\n",
            "1                  4.9               3.0                1.4               0.2\n",
            "2                  4.7               3.2                1.3               0.2\n",
            "3                  4.6               3.1                1.5               0.2\n",
            "4                  5.0               3.6                1.4               0.2\n",
            "..                 ...               ...                ...               ...\n",
            "145                6.7               3.0                5.2               2.3\n",
            "146                6.3               2.5                5.0               1.9\n",
            "147                6.5               3.0                5.2               2.0\n",
            "148                6.2               3.4                5.4               2.3\n",
            "149                5.9               3.0                5.1               1.8\n",
            "\n",
            "[150 rows x 4 columns]\n"
          ]
        }
      ]
    },
    {
      "cell_type": "code",
      "source": [
        "print(iris.target)\n",
        "print(iris.target[50:56])"
      ],
      "metadata": {
        "id": "mgpDZ_9ju0jP",
        "outputId": "996d041f-2571-4068-c515-5b8f77b1e4f1",
        "colab": {
          "base_uri": "https://localhost:8080/"
        }
      },
      "execution_count": null,
      "outputs": [
        {
          "output_type": "stream",
          "name": "stdout",
          "text": [
            "0      0\n",
            "1      0\n",
            "2      0\n",
            "3      0\n",
            "4      0\n",
            "      ..\n",
            "145    2\n",
            "146    2\n",
            "147    2\n",
            "148    2\n",
            "149    2\n",
            "Name: target, Length: 150, dtype: int64\n",
            "50    1\n",
            "51    1\n",
            "52    1\n",
            "53    1\n",
            "54    1\n",
            "55    1\n",
            "Name: target, dtype: int64\n"
          ]
        }
      ]
    },
    {
      "cell_type": "code",
      "source": [
        "print(dir(iris))\n",
        "print(iris.target_names)"
      ],
      "metadata": {
        "colab": {
          "base_uri": "https://localhost:8080/"
        },
        "id": "1Gx2rP9Vgrvm",
        "outputId": "94e4fff9-5fc8-4a84-932d-0831bfeb7862"
      },
      "execution_count": null,
      "outputs": [
        {
          "output_type": "stream",
          "name": "stdout",
          "text": [
            "['DESCR', 'data', 'data_module', 'feature_names', 'filename', 'frame', 'target', 'target_names']\n",
            "['setosa' 'versicolor' 'virginica']\n"
          ]
        }
      ]
    },
    {
      "cell_type": "markdown",
      "source": [
        "모델 훈련"
      ],
      "metadata": {
        "id": "5gsRqMwz25lB"
      }
    },
    {
      "cell_type": "code",
      "source": [
        "from sklearn.linear_model import LogisticRegression\n",
        "\n",
        "model = LogisticRegression()\n",
        "model.fit(data_train,target_train)\n",
        "print('훈련된 회귀방정식의 계수 :',model.coef_)"
      ],
      "metadata": {
        "id": "1reu3ehz29Pf",
        "outputId": "0f9c189f-8f25-4f10-e8cb-1ab994238de0",
        "colab": {
          "base_uri": "https://localhost:8080/"
        }
      },
      "execution_count": null,
      "outputs": [
        {
          "output_type": "stream",
          "name": "stdout",
          "text": [
            "훈련된 회귀방정식의 계수 : [[-0.39345168  0.8511139  -2.3601146  -1.01214086]\n",
            " [ 0.40917579 -0.31929939 -0.14621045 -0.78817065]\n",
            " [-0.01572411 -0.53181451  2.50632505  1.80031151]]\n"
          ]
        },
        {
          "output_type": "stream",
          "name": "stderr",
          "text": [
            "/usr/local/lib/python3.9/dist-packages/sklearn/linear_model/_logistic.py:458: ConvergenceWarning: lbfgs failed to converge (status=1):\n",
            "STOP: TOTAL NO. of ITERATIONS REACHED LIMIT.\n",
            "\n",
            "Increase the number of iterations (max_iter) or scale the data as shown in:\n",
            "    https://scikit-learn.org/stable/modules/preprocessing.html\n",
            "Please also refer to the documentation for alternative solver options:\n",
            "    https://scikit-learn.org/stable/modules/linear_model.html#logistic-regression\n",
            "  n_iter_i = _check_optimize_result(\n"
          ]
        }
      ]
    },
    {
      "cell_type": "code",
      "source": [
        "from sklearn.linear_model import LogisticRegression\n",
        "\n",
        "model = LogisticRegression(max_iter=1000)\n",
        "model.fit(data_train,target_train)\n",
        "print('훈련된 회귀방정식의 계수 :',model.coef_)"
      ],
      "metadata": {
        "id": "W8flfh5R7y-O",
        "outputId": "09004434-80b8-4589-f6ef-a274c3c00259",
        "colab": {
          "base_uri": "https://localhost:8080/"
        }
      },
      "execution_count": null,
      "outputs": [
        {
          "output_type": "stream",
          "name": "stdout",
          "text": [
            "훈련된 회귀방정식의 계수 : [[-0.39404717  0.84858916 -2.360915   -1.01267644]\n",
            " [ 0.41037412 -0.31739232 -0.14619146 -0.78742476]\n",
            " [-0.01632695 -0.53119684  2.50710646  1.8001012 ]]\n"
          ]
        }
      ]
    },
    {
      "cell_type": "markdown",
      "source": [
        "모델 테스트"
      ],
      "metadata": {
        "id": "9szrCq8g_A5U"
      }
    },
    {
      "cell_type": "code",
      "source": [
        "yPrediction = model.predict(data_test)\n",
        "print('회귀분석 모델로 예측한 붓꽃의 종류:', yPrediction)"
      ],
      "metadata": {
        "id": "qO29kqDZ96wi",
        "outputId": "c5f2be77-82ec-4b86-c181-b22be98faeeb",
        "colab": {
          "base_uri": "https://localhost:8080/"
        }
      },
      "execution_count": null,
      "outputs": [
        {
          "output_type": "stream",
          "name": "stdout",
          "text": [
            "회귀분석 모델로 예측한 붓꽃의 종류: [2 1 0 2 0 2 0 1 1 1 2 1 1 1 1 0 1 1 0 0 2 1 0 0 2 0 0 1 1 0]\n"
          ]
        }
      ]
    },
    {
      "cell_type": "markdown",
      "source": [
        "모델 평가"
      ],
      "metadata": {
        "id": "fHZcxUvU_FZa"
      }
    },
    {
      "cell_type": "code",
      "source": [
        "from sklearn.metrics import accuracy_score\n",
        "\n",
        "accuracy = accuracy_score(target_test, yPrediction)\n",
        "print('정확도:', accuracy)"
      ],
      "metadata": {
        "id": "WmgXdNbC_G6R",
        "outputId": "78c8e039-b5f5-4530-ae21-cd4fec4210a3",
        "colab": {
          "base_uri": "https://localhost:8080/"
        }
      },
      "execution_count": null,
      "outputs": [
        {
          "output_type": "stream",
          "name": "stdout",
          "text": [
            "정확도: 1.0\n"
          ]
        }
      ]
    },
    {
      "cell_type": "code",
      "source": [
        "from sklearn.datasets import load_iris\n",
        "from sklearn.model_selection import train_test_split\n",
        "from sklearn.linear_model import LogisticRegression\n",
        "from sklearn.metrics import accuracy_score\n",
        "\n",
        "# 데이터 수집 및 전처리\n",
        "iris = load_iris(as_frame=True)\n",
        "data_train, data_test, target_train, target_test = \\\n",
        "train_test_split(iris.data, iris.target, test_size=0.2, random_state=0)\n",
        "\n",
        "# 모델 훈련\n",
        "model = LogisticRegression(max_iter=1000)\n",
        "model.fit(data_train,target_train)\n",
        "\n",
        "# 모델 테스트\n",
        "yPrediction = model.predict(data_test)\n",
        "\n",
        "# 모델 평가\n",
        "accuracy = accuracy_score(target_test, yPrediction)\n",
        "print('정확도:', accuracy)"
      ],
      "metadata": {
        "id": "ZUh5Y01rHc9N",
        "outputId": "a9ba39a3-5e62-4980-cf6f-9df386650aa1",
        "colab": {
          "base_uri": "https://localhost:8080/"
        }
      },
      "execution_count": null,
      "outputs": [
        {
          "output_type": "stream",
          "name": "stdout",
          "text": [
            "정확도: 1.0\n"
          ]
        }
      ]
    },
    {
      "cell_type": "markdown",
      "source": [
        "\tK-최근접 이웃 분류 알고리즘"
      ],
      "metadata": {
        "id": "kUw2ZBlf2ujt"
      }
    },
    {
      "cell_type": "code",
      "source": [
        "from sklearn.datasets import load_iris\n",
        "from sklearn.model_selection import train_test_split\n",
        "from sklearn.neighbors import KNeighborsClassifier\n",
        "from sklearn.metrics import accuracy_score\n",
        "\n",
        "# 데이터 수집 및 전처리\n",
        "iris = load_iris(as_frame=True)\n",
        "data_train, data_test, target_train, target_test = \\\n",
        "train_test_split(iris.data, iris.target, test_size=0.2, random_state=0)\n",
        "\n",
        "# 모델 훈련\n",
        "k = 3\n",
        "model = KNeighborsClassifier(n_neighbors=k)\n",
        "model.fit(data_train,target_train)\n",
        "\n",
        "# 모델 테스트\n",
        "yPrediction = model.predict(data_test)\n",
        "\n",
        "# 모델 평가\n",
        "accuracy = accuracy_score(target_test, yPrediction)\n",
        "print('정확도:', accuracy)"
      ],
      "metadata": {
        "colab": {
          "base_uri": "https://localhost:8080/"
        },
        "id": "cLobLzLC2tGo",
        "outputId": "6e7e302a-7884-4af6-98e5-a3d2a53a2cb4"
      },
      "execution_count": null,
      "outputs": [
        {
          "output_type": "stream",
          "name": "stdout",
          "text": [
            "정확도: 0.9666666666666667\n"
          ]
        }
      ]
    },
    {
      "cell_type": "code",
      "source": [
        "from sklearn.datasets import load_iris\n",
        "from sklearn.model_selection import train_test_split\n",
        "from sklearn.neighbors import KNeighborsClassifier\n",
        "from sklearn.metrics import accuracy_score\n",
        "\n",
        "# 데이터 수집 및 전처리\n",
        "iris = load_iris(as_frame=True)\n",
        "data_train, data_test, target_train, target_test = \\\n",
        "train_test_split(iris.data, iris.target, test_size=0.2, random_state=0)\n",
        "\n",
        "# 모델 훈련\n",
        "k = 5\n",
        "model = KNeighborsClassifier(n_neighbors=k)\n",
        "model.fit(data_train,target_train)\n",
        "\n",
        "# 모델 테스트\n",
        "yPrediction = model.predict(data_test)\n",
        "\n",
        "# 모델 평가\n",
        "accuracy = accuracy_score(target_test, yPrediction)\n",
        "print('정확도:', accuracy)"
      ],
      "metadata": {
        "colab": {
          "base_uri": "https://localhost:8080/"
        },
        "id": "BjmAeJiW8EWf",
        "outputId": "7bb0deff-0cee-4c89-a98b-62ee0ec4f4c6"
      },
      "execution_count": null,
      "outputs": [
        {
          "output_type": "stream",
          "name": "stdout",
          "text": [
            "정확도: 0.9666666666666667\n"
          ]
        }
      ]
    },
    {
      "cell_type": "code",
      "source": [
        "from sklearn.datasets import load_iris\n",
        "from sklearn.model_selection import train_test_split\n",
        "from sklearn.neighbors import KNeighborsClassifier\n",
        "from sklearn.metrics import accuracy_score\n",
        "\n",
        "# 데이터 수집 및 전처리\n",
        "iris = load_iris(as_frame=True)\n",
        "data_train, data_test, target_train, target_test = \\\n",
        "train_test_split(iris.data, iris.target, test_size=0.2, random_state=0)\n",
        "\n",
        "# 모델 훈련\n",
        "k = 7\n",
        "model = KNeighborsClassifier(n_neighbors=k)\n",
        "model.fit(data_train,target_train)\n",
        "\n",
        "# 모델 테스트\n",
        "yPrediction = model.predict(data_test)\n",
        "\n",
        "# 모델 평가\n",
        "accuracy = accuracy_score(target_test, yPrediction)\n",
        "print('정확도:', accuracy)"
      ],
      "metadata": {
        "colab": {
          "base_uri": "https://localhost:8080/"
        },
        "id": "PjVsbXsu7y7a",
        "outputId": "46bfb627-8166-41b7-d6d3-e3b6fe623fac"
      },
      "execution_count": null,
      "outputs": [
        {
          "output_type": "stream",
          "name": "stdout",
          "text": [
            "정확도: 1.0\n"
          ]
        }
      ]
    },
    {
      "cell_type": "code",
      "source": [
        "from sklearn.datasets import load_iris\n",
        "from sklearn.model_selection import train_test_split\n",
        "from sklearn.neighbors import KNeighborsClassifier\n",
        "from sklearn.metrics import accuracy_score\n",
        "\n",
        "# 데이터 수집 및 전처리\n",
        "iris = load_iris(as_frame=True)\n",
        "data_train, data_test, target_train, target_test = \\\n",
        "train_test_split(iris.data, iris.target, test_size=0.2, random_state=0)\n",
        "\n",
        "# 모델 훈련\n",
        "k = 100\n",
        "model = KNeighborsClassifier(n_neighbors=k)\n",
        "model.fit(data_train,target_train)\n",
        "\n",
        "# 모델 테스트\n",
        "yPrediction = model.predict(data_test)\n",
        "\n",
        "# 모델 평가\n",
        "accuracy = accuracy_score(target_test, yPrediction)\n",
        "print('정확도:', accuracy)"
      ],
      "metadata": {
        "colab": {
          "base_uri": "https://localhost:8080/"
        },
        "id": "BE1G3R8X9nPX",
        "outputId": "4f2fb98f-98df-4586-d2d5-4f6ef99e4b51"
      },
      "execution_count": null,
      "outputs": [
        {
          "output_type": "stream",
          "name": "stdout",
          "text": [
            "정확도: 0.5666666666666667\n"
          ]
        }
      ]
    },
    {
      "cell_type": "code",
      "source": [
        "from sklearn.datasets import load_iris\n",
        "from sklearn.model_selection import train_test_split\n",
        "from sklearn.neighbors import KNeighborsClassifier\n",
        "from sklearn.metrics import accuracy_score\n",
        "\n",
        "# 데이터 수집 및 전처리\n",
        "iris = load_iris(as_frame=True)\n",
        "data_train, data_test, target_train, target_test = \\\n",
        "train_test_split(iris.data, iris.target, test_size=0.2, random_state=0)\n",
        "\n",
        "k = 3\n",
        "targetAccuracy = 0.99\n",
        "\n",
        "while True:\n",
        "# 모델 훈련\n",
        "    model = KNeighborsClassifier(n_neighbors=k)\n",
        "    model.fit(data_train,target_train)\n",
        "\n",
        "# 모델 테스트\n",
        "    yPrediction = model.predict(data_test)\n",
        "\n",
        "# 모델 평가\n",
        "    accuracy = accuracy_score(target_test, yPrediction)\n",
        "    print('K:',k,', 정확도:', accuracy)\n",
        "\n",
        "    if accuracy > targetAccuracy: break\n",
        "\n",
        "    k = k + 1"
      ],
      "metadata": {
        "colab": {
          "base_uri": "https://localhost:8080/"
        },
        "id": "kkL4u7hGNv2V",
        "outputId": "b0d7c0c8-22a9-4d6c-ee8f-97e2e5a57fc3"
      },
      "execution_count": null,
      "outputs": [
        {
          "output_type": "stream",
          "name": "stdout",
          "text": [
            "K: 3 , 정확도: 0.9666666666666667\n",
            "K: 4 , 정확도: 1.0\n"
          ]
        }
      ]
    },
    {
      "cell_type": "markdown",
      "source": [
        "\t결정트리 분류 알고리즘"
      ],
      "metadata": {
        "id": "k_j-0bAhRHdc"
      }
    },
    {
      "cell_type": "code",
      "source": [
        "from sklearn.datasets import load_iris\n",
        "from sklearn.model_selection import train_test_split\n",
        "from sklearn.tree import DecisionTreeClassifier\n",
        "from sklearn.metrics import accuracy_score\n",
        "\n",
        "# 데이터 수집 및 전처리\n",
        "iris = load_iris(as_frame=True)\n",
        "data_train, data_test, target_train, target_test = \\\n",
        "train_test_split(iris.data, iris.target, test_size=0.2, random_state=0)\n",
        "\n",
        "# 모델 훈련\n",
        "model = DecisionTreeClassifier()\n",
        "model.fit(data_train,target_train)\n",
        "\n",
        "# 모델 테스트\n",
        "yPrediction = model.predict(data_test)\n",
        "\n",
        "# 모델 평가\n",
        "accuracy = accuracy_score(target_test, yPrediction)\n",
        "print('정확도:', accuracy)"
      ],
      "metadata": {
        "colab": {
          "base_uri": "https://localhost:8080/"
        },
        "id": "LHswGYwCRZGy",
        "outputId": "8e71caac-890e-4c26-d2a5-d8461197338b"
      },
      "execution_count": 1,
      "outputs": [
        {
          "output_type": "stream",
          "name": "stdout",
          "text": [
            "정확도: 1.0\n"
          ]
        }
      ]
    },
    {
      "cell_type": "code",
      "source": [
        "from sklearn.tree import export_graphviz\n",
        "import graphviz\n",
        "\n",
        "export_graphviz(model,\n",
        "                out_file='decision tree.dot',\n",
        "                class_names=iris.target_names,\n",
        "                feature_names=iris.feature_names)\n",
        "\n",
        "with open('decision tree.dot') as viz:\n",
        "    decisionTree = viz.read()\n",
        "\n",
        "graphviz.Source(decisionTree)"
      ],
      "metadata": {
        "colab": {
          "base_uri": "https://localhost:8080/",
          "height": 934
        },
        "id": "7WY_lL-jD-Yp",
        "outputId": "c53206f8-c6cb-4cc6-d9dc-c5c2cf64d00e"
      },
      "execution_count": 4,
      "outputs": [
        {
          "output_type": "execute_result",
          "data": {
            "image/svg+xml": "<?xml version=\"1.0\" encoding=\"UTF-8\" standalone=\"no\"?>\n<!DOCTYPE svg PUBLIC \"-//W3C//DTD SVG 1.1//EN\"\n \"http://www.w3.org/Graphics/SVG/1.1/DTD/svg11.dtd\">\n<!-- Generated by graphviz version 2.43.0 (0)\n -->\n<!-- Title: Tree Pages: 1 -->\n<svg width=\"879pt\" height=\"671pt\"\n viewBox=\"0.00 0.00 879.00 671.00\" xmlns=\"http://www.w3.org/2000/svg\" xmlns:xlink=\"http://www.w3.org/1999/xlink\">\n<g id=\"graph0\" class=\"graph\" transform=\"scale(1 1) rotate(0) translate(4 667)\">\n<title>Tree</title>\n<polygon fill=\"white\" stroke=\"transparent\" points=\"-4,4 -4,-667 875,-667 875,4 -4,4\"/>\n<!-- 0 -->\n<g id=\"node1\" class=\"node\">\n<title>0</title>\n<polygon fill=\"none\" stroke=\"black\" points=\"534,-663 379,-663 379,-580 534,-580 534,-663\"/>\n<text text-anchor=\"middle\" x=\"456.5\" y=\"-647.8\" font-family=\"Helvetica,sans-Serif\" font-size=\"14.00\">petal width (cm) &lt;= 0.8</text>\n<text text-anchor=\"middle\" x=\"456.5\" y=\"-632.8\" font-family=\"Helvetica,sans-Serif\" font-size=\"14.00\">gini = 0.665</text>\n<text text-anchor=\"middle\" x=\"456.5\" y=\"-617.8\" font-family=\"Helvetica,sans-Serif\" font-size=\"14.00\">samples = 120</text>\n<text text-anchor=\"middle\" x=\"456.5\" y=\"-602.8\" font-family=\"Helvetica,sans-Serif\" font-size=\"14.00\">value = [39, 37, 44]</text>\n<text text-anchor=\"middle\" x=\"456.5\" y=\"-587.8\" font-family=\"Helvetica,sans-Serif\" font-size=\"14.00\">class = virginica</text>\n</g>\n<!-- 1 -->\n<g id=\"node2\" class=\"node\">\n<title>1</title>\n<polygon fill=\"none\" stroke=\"black\" points=\"436,-536.5 319,-536.5 319,-468.5 436,-468.5 436,-536.5\"/>\n<text text-anchor=\"middle\" x=\"377.5\" y=\"-521.3\" font-family=\"Helvetica,sans-Serif\" font-size=\"14.00\">gini = 0.0</text>\n<text text-anchor=\"middle\" x=\"377.5\" y=\"-506.3\" font-family=\"Helvetica,sans-Serif\" font-size=\"14.00\">samples = 39</text>\n<text text-anchor=\"middle\" x=\"377.5\" y=\"-491.3\" font-family=\"Helvetica,sans-Serif\" font-size=\"14.00\">value = [39, 0, 0]</text>\n<text text-anchor=\"middle\" x=\"377.5\" y=\"-476.3\" font-family=\"Helvetica,sans-Serif\" font-size=\"14.00\">class = setosa</text>\n</g>\n<!-- 0&#45;&gt;1 -->\n<g id=\"edge1\" class=\"edge\">\n<title>0&#45;&gt;1</title>\n<path fill=\"none\" stroke=\"black\" d=\"M429.09,-579.91C421.49,-568.65 413.23,-556.42 405.59,-545.11\"/>\n<polygon fill=\"black\" stroke=\"black\" points=\"408.39,-543 399.89,-536.67 402.59,-546.91 408.39,-543\"/>\n<text text-anchor=\"middle\" x=\"395.14\" y=\"-557.51\" font-family=\"Helvetica,sans-Serif\" font-size=\"14.00\">True</text>\n</g>\n<!-- 2 -->\n<g id=\"node3\" class=\"node\">\n<title>2</title>\n<polygon fill=\"none\" stroke=\"black\" points=\"617,-544 454,-544 454,-461 617,-461 617,-544\"/>\n<text text-anchor=\"middle\" x=\"535.5\" y=\"-528.8\" font-family=\"Helvetica,sans-Serif\" font-size=\"14.00\">petal width (cm) &lt;= 1.75</text>\n<text text-anchor=\"middle\" x=\"535.5\" y=\"-513.8\" font-family=\"Helvetica,sans-Serif\" font-size=\"14.00\">gini = 0.496</text>\n<text text-anchor=\"middle\" x=\"535.5\" y=\"-498.8\" font-family=\"Helvetica,sans-Serif\" font-size=\"14.00\">samples = 81</text>\n<text text-anchor=\"middle\" x=\"535.5\" y=\"-483.8\" font-family=\"Helvetica,sans-Serif\" font-size=\"14.00\">value = [0, 37, 44]</text>\n<text text-anchor=\"middle\" x=\"535.5\" y=\"-468.8\" font-family=\"Helvetica,sans-Serif\" font-size=\"14.00\">class = virginica</text>\n</g>\n<!-- 0&#45;&gt;2 -->\n<g id=\"edge2\" class=\"edge\">\n<title>0&#45;&gt;2</title>\n<path fill=\"none\" stroke=\"black\" d=\"M483.91,-579.91C489.91,-571.01 496.33,-561.51 502.53,-552.33\"/>\n<polygon fill=\"black\" stroke=\"black\" points=\"505.44,-554.27 508.14,-544.02 499.64,-550.35 505.44,-554.27\"/>\n<text text-anchor=\"middle\" x=\"512.9\" y=\"-564.86\" font-family=\"Helvetica,sans-Serif\" font-size=\"14.00\">False</text>\n</g>\n<!-- 3 -->\n<g id=\"node4\" class=\"node\">\n<title>3</title>\n<polygon fill=\"none\" stroke=\"black\" points=\"504.5,-425 336.5,-425 336.5,-342 504.5,-342 504.5,-425\"/>\n<text text-anchor=\"middle\" x=\"420.5\" y=\"-409.8\" font-family=\"Helvetica,sans-Serif\" font-size=\"14.00\">petal length (cm) &lt;= 4.95</text>\n<text text-anchor=\"middle\" x=\"420.5\" y=\"-394.8\" font-family=\"Helvetica,sans-Serif\" font-size=\"14.00\">gini = 0.18</text>\n<text text-anchor=\"middle\" x=\"420.5\" y=\"-379.8\" font-family=\"Helvetica,sans-Serif\" font-size=\"14.00\">samples = 40</text>\n<text text-anchor=\"middle\" x=\"420.5\" y=\"-364.8\" font-family=\"Helvetica,sans-Serif\" font-size=\"14.00\">value = [0, 36, 4]</text>\n<text text-anchor=\"middle\" x=\"420.5\" y=\"-349.8\" font-family=\"Helvetica,sans-Serif\" font-size=\"14.00\">class = versicolor</text>\n</g>\n<!-- 2&#45;&gt;3 -->\n<g id=\"edge3\" class=\"edge\">\n<title>2&#45;&gt;3</title>\n<path fill=\"none\" stroke=\"black\" d=\"M495.6,-460.91C486.5,-451.65 476.75,-441.73 467.39,-432.21\"/>\n<polygon fill=\"black\" stroke=\"black\" points=\"469.83,-429.7 460.33,-425.02 464.84,-434.61 469.83,-429.7\"/>\n</g>\n<!-- 12 -->\n<g id=\"node13\" class=\"node\">\n<title>12</title>\n<polygon fill=\"none\" stroke=\"black\" points=\"734.5,-425 566.5,-425 566.5,-342 734.5,-342 734.5,-425\"/>\n<text text-anchor=\"middle\" x=\"650.5\" y=\"-409.8\" font-family=\"Helvetica,sans-Serif\" font-size=\"14.00\">petal length (cm) &lt;= 4.85</text>\n<text text-anchor=\"middle\" x=\"650.5\" y=\"-394.8\" font-family=\"Helvetica,sans-Serif\" font-size=\"14.00\">gini = 0.048</text>\n<text text-anchor=\"middle\" x=\"650.5\" y=\"-379.8\" font-family=\"Helvetica,sans-Serif\" font-size=\"14.00\">samples = 41</text>\n<text text-anchor=\"middle\" x=\"650.5\" y=\"-364.8\" font-family=\"Helvetica,sans-Serif\" font-size=\"14.00\">value = [0, 1, 40]</text>\n<text text-anchor=\"middle\" x=\"650.5\" y=\"-349.8\" font-family=\"Helvetica,sans-Serif\" font-size=\"14.00\">class = virginica</text>\n</g>\n<!-- 2&#45;&gt;12 -->\n<g id=\"edge12\" class=\"edge\">\n<title>2&#45;&gt;12</title>\n<path fill=\"none\" stroke=\"black\" d=\"M575.4,-460.91C584.5,-451.65 594.25,-441.73 603.61,-432.21\"/>\n<polygon fill=\"black\" stroke=\"black\" points=\"606.16,-434.61 610.67,-425.02 601.17,-429.7 606.16,-434.61\"/>\n</g>\n<!-- 4 -->\n<g id=\"node5\" class=\"node\">\n<title>4</title>\n<polygon fill=\"none\" stroke=\"black\" points=\"277,-306 114,-306 114,-223 277,-223 277,-306\"/>\n<text text-anchor=\"middle\" x=\"195.5\" y=\"-290.8\" font-family=\"Helvetica,sans-Serif\" font-size=\"14.00\">petal width (cm) &lt;= 1.65</text>\n<text text-anchor=\"middle\" x=\"195.5\" y=\"-275.8\" font-family=\"Helvetica,sans-Serif\" font-size=\"14.00\">gini = 0.056</text>\n<text text-anchor=\"middle\" x=\"195.5\" y=\"-260.8\" font-family=\"Helvetica,sans-Serif\" font-size=\"14.00\">samples = 35</text>\n<text text-anchor=\"middle\" x=\"195.5\" y=\"-245.8\" font-family=\"Helvetica,sans-Serif\" font-size=\"14.00\">value = [0, 34, 1]</text>\n<text text-anchor=\"middle\" x=\"195.5\" y=\"-230.8\" font-family=\"Helvetica,sans-Serif\" font-size=\"14.00\">class = versicolor</text>\n</g>\n<!-- 3&#45;&gt;4 -->\n<g id=\"edge4\" class=\"edge\">\n<title>3&#45;&gt;4</title>\n<path fill=\"none\" stroke=\"black\" d=\"M342.44,-341.91C323.07,-331.83 302.19,-320.98 282.42,-310.7\"/>\n<polygon fill=\"black\" stroke=\"black\" points=\"283.91,-307.53 273.42,-306.02 280.68,-313.74 283.91,-307.53\"/>\n</g>\n<!-- 7 -->\n<g id=\"node8\" class=\"node\">\n<title>7</title>\n<polygon fill=\"none\" stroke=\"black\" points=\"502,-306 339,-306 339,-223 502,-223 502,-306\"/>\n<text text-anchor=\"middle\" x=\"420.5\" y=\"-290.8\" font-family=\"Helvetica,sans-Serif\" font-size=\"14.00\">petal width (cm) &lt;= 1.55</text>\n<text text-anchor=\"middle\" x=\"420.5\" y=\"-275.8\" font-family=\"Helvetica,sans-Serif\" font-size=\"14.00\">gini = 0.48</text>\n<text text-anchor=\"middle\" x=\"420.5\" y=\"-260.8\" font-family=\"Helvetica,sans-Serif\" font-size=\"14.00\">samples = 5</text>\n<text text-anchor=\"middle\" x=\"420.5\" y=\"-245.8\" font-family=\"Helvetica,sans-Serif\" font-size=\"14.00\">value = [0, 2, 3]</text>\n<text text-anchor=\"middle\" x=\"420.5\" y=\"-230.8\" font-family=\"Helvetica,sans-Serif\" font-size=\"14.00\">class = virginica</text>\n</g>\n<!-- 3&#45;&gt;7 -->\n<g id=\"edge7\" class=\"edge\">\n<title>3&#45;&gt;7</title>\n<path fill=\"none\" stroke=\"black\" d=\"M420.5,-341.91C420.5,-333.65 420.5,-324.86 420.5,-316.3\"/>\n<polygon fill=\"black\" stroke=\"black\" points=\"424,-316.02 420.5,-306.02 417,-316.02 424,-316.02\"/>\n</g>\n<!-- 5 -->\n<g id=\"node6\" class=\"node\">\n<title>5</title>\n<polygon fill=\"none\" stroke=\"black\" points=\"121,-179.5 0,-179.5 0,-111.5 121,-111.5 121,-179.5\"/>\n<text text-anchor=\"middle\" x=\"60.5\" y=\"-164.3\" font-family=\"Helvetica,sans-Serif\" font-size=\"14.00\">gini = 0.0</text>\n<text text-anchor=\"middle\" x=\"60.5\" y=\"-149.3\" font-family=\"Helvetica,sans-Serif\" font-size=\"14.00\">samples = 34</text>\n<text text-anchor=\"middle\" x=\"60.5\" y=\"-134.3\" font-family=\"Helvetica,sans-Serif\" font-size=\"14.00\">value = [0, 34, 0]</text>\n<text text-anchor=\"middle\" x=\"60.5\" y=\"-119.3\" font-family=\"Helvetica,sans-Serif\" font-size=\"14.00\">class = versicolor</text>\n</g>\n<!-- 4&#45;&gt;5 -->\n<g id=\"edge5\" class=\"edge\">\n<title>4&#45;&gt;5</title>\n<path fill=\"none\" stroke=\"black\" d=\"M148.66,-222.91C135.04,-211.1 120.17,-198.22 106.6,-186.45\"/>\n<polygon fill=\"black\" stroke=\"black\" points=\"108.62,-183.57 98.77,-179.67 104.03,-188.86 108.62,-183.57\"/>\n</g>\n<!-- 6 -->\n<g id=\"node7\" class=\"node\">\n<title>6</title>\n<polygon fill=\"none\" stroke=\"black\" points=\"252,-179.5 139,-179.5 139,-111.5 252,-111.5 252,-179.5\"/>\n<text text-anchor=\"middle\" x=\"195.5\" y=\"-164.3\" font-family=\"Helvetica,sans-Serif\" font-size=\"14.00\">gini = 0.0</text>\n<text text-anchor=\"middle\" x=\"195.5\" y=\"-149.3\" font-family=\"Helvetica,sans-Serif\" font-size=\"14.00\">samples = 1</text>\n<text text-anchor=\"middle\" x=\"195.5\" y=\"-134.3\" font-family=\"Helvetica,sans-Serif\" font-size=\"14.00\">value = [0, 0, 1]</text>\n<text text-anchor=\"middle\" x=\"195.5\" y=\"-119.3\" font-family=\"Helvetica,sans-Serif\" font-size=\"14.00\">class = virginica</text>\n</g>\n<!-- 4&#45;&gt;6 -->\n<g id=\"edge6\" class=\"edge\">\n<title>4&#45;&gt;6</title>\n<path fill=\"none\" stroke=\"black\" d=\"M195.5,-222.91C195.5,-212.2 195.5,-200.62 195.5,-189.78\"/>\n<polygon fill=\"black\" stroke=\"black\" points=\"199,-189.67 195.5,-179.67 192,-189.67 199,-189.67\"/>\n</g>\n<!-- 8 -->\n<g id=\"node9\" class=\"node\">\n<title>8</title>\n<polygon fill=\"none\" stroke=\"black\" points=\"383,-179.5 270,-179.5 270,-111.5 383,-111.5 383,-179.5\"/>\n<text text-anchor=\"middle\" x=\"326.5\" y=\"-164.3\" font-family=\"Helvetica,sans-Serif\" font-size=\"14.00\">gini = 0.0</text>\n<text text-anchor=\"middle\" x=\"326.5\" y=\"-149.3\" font-family=\"Helvetica,sans-Serif\" font-size=\"14.00\">samples = 2</text>\n<text text-anchor=\"middle\" x=\"326.5\" y=\"-134.3\" font-family=\"Helvetica,sans-Serif\" font-size=\"14.00\">value = [0, 0, 2]</text>\n<text text-anchor=\"middle\" x=\"326.5\" y=\"-119.3\" font-family=\"Helvetica,sans-Serif\" font-size=\"14.00\">class = virginica</text>\n</g>\n<!-- 7&#45;&gt;8 -->\n<g id=\"edge8\" class=\"edge\">\n<title>7&#45;&gt;8</title>\n<path fill=\"none\" stroke=\"black\" d=\"M387.89,-222.91C378.76,-211.54 368.82,-199.18 359.66,-187.77\"/>\n<polygon fill=\"black\" stroke=\"black\" points=\"362.14,-185.27 353.15,-179.67 356.68,-189.65 362.14,-185.27\"/>\n</g>\n<!-- 9 -->\n<g id=\"node10\" class=\"node\">\n<title>9</title>\n<polygon fill=\"none\" stroke=\"black\" points=\"572,-187 401,-187 401,-104 572,-104 572,-187\"/>\n<text text-anchor=\"middle\" x=\"486.5\" y=\"-171.8\" font-family=\"Helvetica,sans-Serif\" font-size=\"14.00\">sepal length (cm) &lt;= 6.95</text>\n<text text-anchor=\"middle\" x=\"486.5\" y=\"-156.8\" font-family=\"Helvetica,sans-Serif\" font-size=\"14.00\">gini = 0.444</text>\n<text text-anchor=\"middle\" x=\"486.5\" y=\"-141.8\" font-family=\"Helvetica,sans-Serif\" font-size=\"14.00\">samples = 3</text>\n<text text-anchor=\"middle\" x=\"486.5\" y=\"-126.8\" font-family=\"Helvetica,sans-Serif\" font-size=\"14.00\">value = [0, 2, 1]</text>\n<text text-anchor=\"middle\" x=\"486.5\" y=\"-111.8\" font-family=\"Helvetica,sans-Serif\" font-size=\"14.00\">class = versicolor</text>\n</g>\n<!-- 7&#45;&gt;9 -->\n<g id=\"edge9\" class=\"edge\">\n<title>7&#45;&gt;9</title>\n<path fill=\"none\" stroke=\"black\" d=\"M443.4,-222.91C448.31,-214.2 453.56,-204.9 458.64,-195.89\"/>\n<polygon fill=\"black\" stroke=\"black\" points=\"461.78,-197.45 463.64,-187.02 455.68,-194.01 461.78,-197.45\"/>\n</g>\n<!-- 10 -->\n<g id=\"node11\" class=\"node\">\n<title>10</title>\n<polygon fill=\"none\" stroke=\"black\" points=\"479,-68 358,-68 358,0 479,0 479,-68\"/>\n<text text-anchor=\"middle\" x=\"418.5\" y=\"-52.8\" font-family=\"Helvetica,sans-Serif\" font-size=\"14.00\">gini = 0.0</text>\n<text text-anchor=\"middle\" x=\"418.5\" y=\"-37.8\" font-family=\"Helvetica,sans-Serif\" font-size=\"14.00\">samples = 2</text>\n<text text-anchor=\"middle\" x=\"418.5\" y=\"-22.8\" font-family=\"Helvetica,sans-Serif\" font-size=\"14.00\">value = [0, 2, 0]</text>\n<text text-anchor=\"middle\" x=\"418.5\" y=\"-7.8\" font-family=\"Helvetica,sans-Serif\" font-size=\"14.00\">class = versicolor</text>\n</g>\n<!-- 9&#45;&gt;10 -->\n<g id=\"edge10\" class=\"edge\">\n<title>9&#45;&gt;10</title>\n<path fill=\"none\" stroke=\"black\" d=\"M461.18,-103.73C455.74,-94.97 449.99,-85.7 444.52,-76.91\"/>\n<polygon fill=\"black\" stroke=\"black\" points=\"447.43,-74.95 439.18,-68.3 441.48,-78.64 447.43,-74.95\"/>\n</g>\n<!-- 11 -->\n<g id=\"node12\" class=\"node\">\n<title>11</title>\n<polygon fill=\"none\" stroke=\"black\" points=\"610,-68 497,-68 497,0 610,0 610,-68\"/>\n<text text-anchor=\"middle\" x=\"553.5\" y=\"-52.8\" font-family=\"Helvetica,sans-Serif\" font-size=\"14.00\">gini = 0.0</text>\n<text text-anchor=\"middle\" x=\"553.5\" y=\"-37.8\" font-family=\"Helvetica,sans-Serif\" font-size=\"14.00\">samples = 1</text>\n<text text-anchor=\"middle\" x=\"553.5\" y=\"-22.8\" font-family=\"Helvetica,sans-Serif\" font-size=\"14.00\">value = [0, 0, 1]</text>\n<text text-anchor=\"middle\" x=\"553.5\" y=\"-7.8\" font-family=\"Helvetica,sans-Serif\" font-size=\"14.00\">class = virginica</text>\n</g>\n<!-- 9&#45;&gt;11 -->\n<g id=\"edge11\" class=\"edge\">\n<title>9&#45;&gt;11</title>\n<path fill=\"none\" stroke=\"black\" d=\"M511.45,-103.73C516.81,-94.97 522.48,-85.7 527.86,-76.91\"/>\n<polygon fill=\"black\" stroke=\"black\" points=\"530.89,-78.66 533.12,-68.3 524.92,-75 530.89,-78.66\"/>\n</g>\n<!-- 13 -->\n<g id=\"node14\" class=\"node\">\n<title>13</title>\n<polygon fill=\"none\" stroke=\"black\" points=\"736,-306 565,-306 565,-223 736,-223 736,-306\"/>\n<text text-anchor=\"middle\" x=\"650.5\" y=\"-290.8\" font-family=\"Helvetica,sans-Serif\" font-size=\"14.00\">sepal length (cm) &lt;= 5.95</text>\n<text text-anchor=\"middle\" x=\"650.5\" y=\"-275.8\" font-family=\"Helvetica,sans-Serif\" font-size=\"14.00\">gini = 0.5</text>\n<text text-anchor=\"middle\" x=\"650.5\" y=\"-260.8\" font-family=\"Helvetica,sans-Serif\" font-size=\"14.00\">samples = 2</text>\n<text text-anchor=\"middle\" x=\"650.5\" y=\"-245.8\" font-family=\"Helvetica,sans-Serif\" font-size=\"14.00\">value = [0, 1, 1]</text>\n<text text-anchor=\"middle\" x=\"650.5\" y=\"-230.8\" font-family=\"Helvetica,sans-Serif\" font-size=\"14.00\">class = versicolor</text>\n</g>\n<!-- 12&#45;&gt;13 -->\n<g id=\"edge13\" class=\"edge\">\n<title>12&#45;&gt;13</title>\n<path fill=\"none\" stroke=\"black\" d=\"M650.5,-341.91C650.5,-333.65 650.5,-324.86 650.5,-316.3\"/>\n<polygon fill=\"black\" stroke=\"black\" points=\"654,-316.02 650.5,-306.02 647,-316.02 654,-316.02\"/>\n</g>\n<!-- 16 -->\n<g id=\"node17\" class=\"node\">\n<title>16</title>\n<polygon fill=\"none\" stroke=\"black\" points=\"871,-298.5 754,-298.5 754,-230.5 871,-230.5 871,-298.5\"/>\n<text text-anchor=\"middle\" x=\"812.5\" y=\"-283.3\" font-family=\"Helvetica,sans-Serif\" font-size=\"14.00\">gini = 0.0</text>\n<text text-anchor=\"middle\" x=\"812.5\" y=\"-268.3\" font-family=\"Helvetica,sans-Serif\" font-size=\"14.00\">samples = 39</text>\n<text text-anchor=\"middle\" x=\"812.5\" y=\"-253.3\" font-family=\"Helvetica,sans-Serif\" font-size=\"14.00\">value = [0, 0, 39]</text>\n<text text-anchor=\"middle\" x=\"812.5\" y=\"-238.3\" font-family=\"Helvetica,sans-Serif\" font-size=\"14.00\">class = virginica</text>\n</g>\n<!-- 12&#45;&gt;16 -->\n<g id=\"edge16\" class=\"edge\">\n<title>12&#45;&gt;16</title>\n<path fill=\"none\" stroke=\"black\" d=\"M706.71,-341.91C723.36,-329.88 741.56,-316.73 758.1,-304.79\"/>\n<polygon fill=\"black\" stroke=\"black\" points=\"760.52,-307.36 766.58,-298.67 756.42,-301.68 760.52,-307.36\"/>\n</g>\n<!-- 14 -->\n<g id=\"node15\" class=\"node\">\n<title>14</title>\n<polygon fill=\"none\" stroke=\"black\" points=\"711,-179.5 590,-179.5 590,-111.5 711,-111.5 711,-179.5\"/>\n<text text-anchor=\"middle\" x=\"650.5\" y=\"-164.3\" font-family=\"Helvetica,sans-Serif\" font-size=\"14.00\">gini = 0.0</text>\n<text text-anchor=\"middle\" x=\"650.5\" y=\"-149.3\" font-family=\"Helvetica,sans-Serif\" font-size=\"14.00\">samples = 1</text>\n<text text-anchor=\"middle\" x=\"650.5\" y=\"-134.3\" font-family=\"Helvetica,sans-Serif\" font-size=\"14.00\">value = [0, 1, 0]</text>\n<text text-anchor=\"middle\" x=\"650.5\" y=\"-119.3\" font-family=\"Helvetica,sans-Serif\" font-size=\"14.00\">class = versicolor</text>\n</g>\n<!-- 13&#45;&gt;14 -->\n<g id=\"edge14\" class=\"edge\">\n<title>13&#45;&gt;14</title>\n<path fill=\"none\" stroke=\"black\" d=\"M650.5,-222.91C650.5,-212.2 650.5,-200.62 650.5,-189.78\"/>\n<polygon fill=\"black\" stroke=\"black\" points=\"654,-189.67 650.5,-179.67 647,-189.67 654,-189.67\"/>\n</g>\n<!-- 15 -->\n<g id=\"node16\" class=\"node\">\n<title>15</title>\n<polygon fill=\"none\" stroke=\"black\" points=\"842,-179.5 729,-179.5 729,-111.5 842,-111.5 842,-179.5\"/>\n<text text-anchor=\"middle\" x=\"785.5\" y=\"-164.3\" font-family=\"Helvetica,sans-Serif\" font-size=\"14.00\">gini = 0.0</text>\n<text text-anchor=\"middle\" x=\"785.5\" y=\"-149.3\" font-family=\"Helvetica,sans-Serif\" font-size=\"14.00\">samples = 1</text>\n<text text-anchor=\"middle\" x=\"785.5\" y=\"-134.3\" font-family=\"Helvetica,sans-Serif\" font-size=\"14.00\">value = [0, 0, 1]</text>\n<text text-anchor=\"middle\" x=\"785.5\" y=\"-119.3\" font-family=\"Helvetica,sans-Serif\" font-size=\"14.00\">class = virginica</text>\n</g>\n<!-- 13&#45;&gt;15 -->\n<g id=\"edge15\" class=\"edge\">\n<title>13&#45;&gt;15</title>\n<path fill=\"none\" stroke=\"black\" d=\"M697.34,-222.91C710.96,-211.1 725.83,-198.22 739.4,-186.45\"/>\n<polygon fill=\"black\" stroke=\"black\" points=\"741.97,-188.86 747.23,-179.67 737.38,-183.57 741.97,-188.86\"/>\n</g>\n</g>\n</svg>\n",
            "text/plain": [
              "<graphviz.sources.Source at 0x7ff62ef72730>"
            ]
          },
          "metadata": {},
          "execution_count": 4
        }
      ]
    },
    {
      "cell_type": "markdown",
      "source": [
        "\tK-평균 군집분석(K-Means Clustering) 알고리즘"
      ],
      "metadata": {
        "id": "mQkMBu1uiuD1"
      }
    },
    {
      "cell_type": "code",
      "source": [
        "from sklearn.datasets import load_iris\n",
        "from sklearn.model_selection import train_test_split\n",
        "from sklearn.cluster import KMeans\n",
        "from sklearn.metrics import silhouette_score\n",
        "\n",
        "# 데이터 수집 및 전처리\n",
        "iris = load_iris()\n",
        "data_train, data_test, target_train, target_test = \\\n",
        "train_test_split(iris.data, iris.target, test_size=0.2, random_state=0)\n",
        "\n",
        "# 모델 훈련\n",
        "model = KMeans(n_clusters=3,n_init=10,random_state=0)   # K 파라메터를 3으로 고정\n",
        "model.fit(data_train)\n",
        "\n",
        "# 모델 테스트\n",
        "yPrediction = model.predict(data_test)\n",
        "\n",
        "# 모델 평가\n",
        "print('실데이터로 알려진 분류:\\t',target_test)\n",
        "print('모델로 예측된 분류:\\t',yPrediction)\n",
        "score = silhouette_score(data_test, yPrediction)\n",
        "print('Silhouette Score:',score)"
      ],
      "metadata": {
        "colab": {
          "base_uri": "https://localhost:8080/"
        },
        "id": "Z7X4AkeViyXR",
        "outputId": "751cb5cb-ed91-4d7a-cef8-a799f4e0dd89"
      },
      "execution_count": null,
      "outputs": [
        {
          "output_type": "stream",
          "name": "stdout",
          "text": [
            "실데이터로 알려진 분류:\t [2 1 0 2 0 2 0 1 1 1 2 1 1 1 1 0 1 1 0 0 2 1 0 0 2 0 0 1 1 0]\n",
            "모델로 예측된 분류:\t [2 2 1 0 1 0 1 2 2 2 0 2 2 2 2 1 2 2 1 1 2 2 1 1 2 1 1 2 2 1]\n",
            "Silhouette Score: 0.5537338197470287\n"
          ]
        }
      ]
    },
    {
      "cell_type": "code",
      "source": [
        "print(model.cluster_centers_)"
      ],
      "metadata": {
        "colab": {
          "base_uri": "https://localhost:8080/"
        },
        "id": "njdRP-9CI_xV",
        "outputId": "49457eba-9e0e-4a33-bb50-fcfb81d061a7"
      },
      "execution_count": null,
      "outputs": [
        {
          "output_type": "stream",
          "name": "stdout",
          "text": [
            "[[6.87777778 3.08888889 5.69444444 2.06666667]\n",
            " [5.02051282 3.4025641  1.46153846 0.24102564]\n",
            " [5.82888889 2.72222222 4.35333333 1.42222222]]\n"
          ]
        }
      ]
    },
    {
      "cell_type": "code",
      "source": [
        "import matplotlib.pyplot as plt\n",
        "\n",
        "sepalLength = data_test[:,0]\n",
        "sepalWidth = data_test[:,1]\n",
        "petalLength = data_test[:,2]\n",
        "petalWidth = data_test[:,3]\n",
        "\n",
        "sepalLengthClusterCenter = model.cluster_centers_[:,0]\n",
        "sepalWidthClusterCenter = model.cluster_centers_[:,1]\n",
        "petalLengthClusterCenter = model.cluster_centers_[:,2]\n",
        "petalWidthClusterCenter = model.cluster_centers_[:,3]\n",
        "\n",
        "plt.subplot(2,1,1)\n",
        "plt.scatter(sepalLength,sepalWidth,c=yPrediction)\n",
        "plt.title('IRIS Clustering - Prediction Data')\n",
        "plt.plot(sepalLengthClusterCenter,sepalWidthClusterCenter,'rd',label='Cluster Center')\n",
        "plt.legend()\n",
        "plt.xlabel('Sepal Length')\n",
        "plt.ylabel('Sepal Width')\n",
        "plt.grid()\n",
        "\n",
        "plt.subplot(2,1,2)\n",
        "plt.scatter(petalLength,petalWidth,c=yPrediction)\n",
        "plt.plot(petalLengthClusterCenter,petalWidthClusterCenter,'rd',label='Cluster Center')\n",
        "plt.legend()\n",
        "plt.xlabel('Petal Length')\n",
        "plt.ylabel('Petal Width')\n",
        "plt.grid()\n",
        "\n",
        "plt.tight_layout()\n",
        "plt.show()"
      ],
      "metadata": {
        "colab": {
          "base_uri": "https://localhost:8080/",
          "height": 297
        },
        "id": "ZM67RRBMDo5a",
        "outputId": "2484aab9-6efb-4d00-900f-2269c783fce4"
      },
      "execution_count": null,
      "outputs": [
        {
          "output_type": "display_data",
          "data": {
            "text/plain": [
              "<Figure size 432x288 with 2 Axes>"
            ],
            "image/png": "[encoded data removed]"
          },
          "metadata": {
            "needs_background": "light"
          }
        }
      ]
    },
    {
      "cell_type": "code",
      "source": [
        "import matplotlib.pyplot as plt\n",
        "\n",
        "sepalLength = iris.data[:,0]\n",
        "sepalWidth = iris.data[:,1]\n",
        "petalLength = iris.data[:,2]\n",
        "petalWidth = iris.data[:,3]\n",
        "\n",
        "plt.subplot(2,1,1)\n",
        "plt.scatter(sepalLength,sepalWidth,c=iris.target)\n",
        "plt.title('IRIS Clustering - Real Data')\n",
        "plt.xlabel('Sepal Length')\n",
        "plt.ylabel('Sepal Width')\n",
        "plt.grid()\n",
        "\n",
        "plt.subplot(2,1,2)\n",
        "plt.scatter(petalLength,petalWidth,c=iris.target)\n",
        "plt.xlabel('Petal Length')\n",
        "plt.ylabel('Petal Width')\n",
        "plt.grid()\n",
        "\n",
        "plt.tight_layout()\n",
        "plt.show()"
      ],
      "metadata": {
        "colab": {
          "base_uri": "https://localhost:8080/",
          "height": 297
        },
        "id": "4ECjWAilWuV2",
        "outputId": "103048db-5dba-40be-a76d-b9bfe2a67a1b"
      },
      "execution_count": null,
      "outputs": [
        {
          "output_type": "display_data",
          "data": {
            "text/plain": [
              "<Figure size 432x288 with 2 Axes>"
            ],
            "image/png": "[encoded data removed]"
          },
          "metadata": {
            "needs_background": "light"
          }
        }
      ]
    },
    {
      "cell_type": "code",
      "source": [
        "from sklearn.datasets import load_iris\n",
        "from sklearn.model_selection import train_test_split\n",
        "from sklearn.cluster import KMeans\n",
        "from sklearn.metrics import silhouette_score\n",
        "\n",
        "# 데이터 수집 및 전처리\n",
        "iris = load_iris(as_frame=True)\n",
        "data_train, data_test, target_train, target_test = \\\n",
        "train_test_split(iris.data, iris.target, test_size=0.2, random_state=0)\n",
        "\n",
        "# 모델 훈련\n",
        "model = KMeans(n_clusters=3,n_init=10,random_state=0)   # K 파라메터를 3으로 고정\n",
        "model.fit(data_train)\n",
        "\n",
        "# 모델 테스트\n",
        "yPrediction = model.predict(iris.data)\n",
        "\n",
        "# 모델 평가\n",
        "print('실데이터로 알려진 분류:\\t',iris.target)\n",
        "print('모델로 예측된 분류:\\t',yPrediction)\n",
        "score = silhouette_score(iris.data, yPrediction)\n",
        "print('Silhouette Score:',score)"
      ],
      "metadata": {
        "colab": {
          "base_uri": "https://localhost:8080/"
        },
        "id": "XHPMFsE2z10J",
        "outputId": "21c1edcd-2337-44cf-cd36-b0b3fbba2530"
      },
      "execution_count": null,
      "outputs": [
        {
          "output_type": "stream",
          "name": "stdout",
          "text": [
            "실데이터로 알려진 분류:\t [0 0 0 0 0 0 0 0 0 0 0 0 0 0 0 0 0 0 0 0 0 0 0 0 0 0 0 0 0 0 0 0 0 0 0 0 0\n",
            " 0 0 0 0 0 0 0 0 0 0 0 0 0 1 1 1 1 1 1 1 1 1 1 1 1 1 1 1 1 1 1 1 1 1 1 1 1\n",
            " 1 1 1 1 1 1 1 1 1 1 1 1 1 1 1 1 1 1 1 1 1 1 1 1 1 1 2 2 2 2 2 2 2 2 2 2 2\n",
            " 2 2 2 2 2 2 2 2 2 2 2 2 2 2 2 2 2 2 2 2 2 2 2 2 2 2 2 2 2 2 2 2 2 2 2 2 2\n",
            " 2 2]\n",
            "모델로 예측된 분류:\t [1 1 1 1 1 1 1 1 1 1 1 1 1 1 1 1 1 1 1 1 1 1 1 1 1 1 1 1 1 1 1 1 1 1 1 1 1\n",
            " 1 1 1 1 1 1 1 1 1 1 1 1 1 0 2 0 2 2 2 2 2 2 2 2 2 2 2 2 2 2 2 2 2 2 2 2 2\n",
            " 2 2 2 0 2 2 2 2 2 2 2 2 2 2 2 2 2 2 2 2 2 2 2 2 2 2 0 2 0 0 0 0 2 0 0 0 0\n",
            " 0 0 2 2 0 0 0 0 2 0 2 0 2 0 0 2 2 0 0 0 0 0 2 0 0 0 0 2 0 0 0 2 0 0 0 2 0\n",
            " 0 2]\n",
            "Silhouette Score: 0.551191604619592\n"
          ]
        }
      ]
    },
    {
      "cell_type": "code",
      "source": [
        "from sklearn.metrics import accuracy_score\n",
        "import numpy as np\n",
        "\n",
        "yPrediction=np.where(yPrediction == 1,3,yPrediction)\n",
        "yPrediction=np.where(yPrediction == 2,1,yPrediction)\n",
        "yPrediction=np.where(yPrediction == 0,2,yPrediction)\n",
        "yPrediction=np.where(yPrediction == 3,0,yPrediction)\n",
        "print('모델로 예측된 분류의 보정:',yPrediction)\n",
        "accuracy = accuracy_score(iris.target, yPrediction)\n",
        "print('정확도:', accuracy)"
      ],
      "metadata": {
        "colab": {
          "base_uri": "https://localhost:8080/"
        },
        "id": "HVgaIzpD3BXH",
        "outputId": "deef6c7a-05a7-4b3f-f5a2-09e6b3e85351"
      },
      "execution_count": null,
      "outputs": [
        {
          "output_type": "stream",
          "name": "stdout",
          "text": [
            "모델로 예측된 분류의 보정: [0 0 0 0 0 0 0 0 0 0 0 0 0 0 0 0 0 0 0 0 0 0 0 0 0 0 0 0 0 0 0 0 0 0 0 0 0\n",
            " 0 0 0 0 0 0 0 0 0 0 0 0 0 2 1 2 1 1 1 1 1 1 1 1 1 1 1 1 1 1 1 1 1 1 1 1 1\n",
            " 1 1 1 2 1 1 1 1 1 1 1 1 1 1 1 1 1 1 1 1 1 1 1 1 1 1 2 1 2 2 2 2 1 2 2 2 2\n",
            " 2 2 1 1 2 2 2 2 1 2 1 2 1 2 2 1 1 2 2 2 2 2 1 2 2 2 2 1 2 2 2 1 2 2 2 1 2\n",
            " 2 1]\n",
            "정확도: 0.8866666666666667\n"
          ]
        }
      ]
    }
  ]
}