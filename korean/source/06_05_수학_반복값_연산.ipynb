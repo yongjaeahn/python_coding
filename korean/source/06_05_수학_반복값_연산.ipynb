{
  "nbformat": 4,
  "nbformat_minor": 0,
  "metadata": {
    "colab": {
      "provenance": [],
      "authorship_tag": "ABX9TyOBqQCF8jBOnfeKitkwT02P",
      "include_colab_link": true
    },
    "kernelspec": {
      "name": "python3",
      "display_name": "Python 3"
    },
    "language_info": {
      "name": "python"
    }
  },
  "cells": [
    {
      "cell_type": "markdown",
      "metadata": {
        "id": "view-in-github",
        "colab_type": "text"
      },
      "source": [
        "<a href=\"https://colab.research.google.com/github/yongjaeahn/python_coding/blob/main/korean/source/06_05_%EC%88%98%ED%95%99_%EB%B0%98%EB%B3%B5%EA%B0%92_%EC%97%B0%EC%82%B0.ipynb\" target=\"_parent\"><img src=\"https://colab.research.google.com/assets/colab-badge.svg\" alt=\"Open In Colab\"/></a>"
      ]
    },
    {
      "cell_type": "markdown",
      "source": [
        "\t반복값 연산"
      ],
      "metadata": {
        "id": "6g18FFlbwTJa"
      }
    },
    {
      "cell_type": "markdown",
      "source": [
        "반복값"
      ],
      "metadata": {
        "id": "5en7eb9nwU2_"
      }
    },
    {
      "cell_type": "markdown",
      "source": [
        "최대값/최소값"
      ],
      "metadata": {
        "id": "cezGKOEqwaVu"
      }
    },
    {
      "cell_type": "code",
      "execution_count": null,
      "metadata": {
        "colab": {
          "base_uri": "https://localhost:8080/"
        },
        "id": "sbz0VUqfvrf3",
        "outputId": "dc92e203-add4-40ef-b4ff-257a4ee8f7d5"
      },
      "outputs": [
        {
          "output_type": "stream",
          "name": "stdout",
          "text": [
            "stringVector의 최소값 :  A\n",
            "stringVector의 최대값 :  e\n",
            "\n",
            "listVector의 최소값 :  1\n",
            "listVector의 최대값 :  10\n"
          ]
        }
      ],
      "source": [
        "string_vector = 'abcedDECBA'\n",
        "print(\"string_vector의 최소값 : \", min(string_vector))\n",
        "print(\"string_vector의 최대값 : \", max(string_vector))\n",
        "print()\n",
        "list_vector = [10,9,8,7,6,5,4,3,2,1]\n",
        "print(\"list_vector의 최소값 : \", min(list_vector))\n",
        "print(\"list_vector의 최대값 : \", max(list_vector))"
      ]
    },
    {
      "cell_type": "code",
      "source": [
        "import numpy as np\n",
        "\n",
        "array_matrix = np.arange(1,51).reshape(5,10)\n",
        "print(\"array_matrix :\\n\",array_matrix)\n",
        "print(\"최소값 : \", np.min(array_matrix))\n",
        "print(\"최대값 : \", np.max(array_matrix))\n",
        "print(\"열의 최소값 : \", np.min(array_matrix,axis=0))\n",
        "print(\"열의 최대값 : \", np.max(array_matrix,axis=0))\n",
        "print(\"행의 최소값 : \", np.min(array_matrix,axis=1))\n",
        "print(\"행의 최대값 : \", np.max(array_matrix,axis=1))"
      ],
      "metadata": {
        "colab": {
          "base_uri": "https://localhost:8080/"
        },
        "id": "C0p4mhHr07lY",
        "outputId": "9ba05291-df29-4bed-c38c-5104b18cc5c2"
      },
      "execution_count": null,
      "outputs": [
        {
          "output_type": "stream",
          "name": "stdout",
          "text": [
            "array_matrix :\n",
            " [[ 1  2  3  4  5  6  7  8  9 10]\n",
            " [11 12 13 14 15 16 17 18 19 20]\n",
            " [21 22 23 24 25 26 27 28 29 30]\n",
            " [31 32 33 34 35 36 37 38 39 40]\n",
            " [41 42 43 44 45 46 47 48 49 50]]\n",
            "최소값 :  1\n",
            "최대값 :  50\n",
            "열의 최소값 :  [ 1  2  3  4  5  6  7  8  9 10]\n",
            "열의 최대값 :  [41 42 43 44 45 46 47 48 49 50]\n",
            "행의 최소값 :  [ 1 11 21 31 41]\n",
            "행의 최대값 :  [10 20 30 40 50]\n"
          ]
        }
      ]
    },
    {
      "cell_type": "code",
      "source": [
        "argmin_index = np.argmin(array_matrix)\n",
        "print(\"최소값 인덱스 :\", argmin_index)\n",
        "print(\"최소값 : \", array_matrix.reshape(np.size(array_matrix))[argmin_index])\n",
        "\n",
        "argmax_index = array_matrix.argmax()\n",
        "print(\"최대값 인덱스 :\", argmax_index)\n",
        "print(\"최대값 : \", array_matrix.reshape(np.size(array_matrix))[argmax_index])"
      ],
      "metadata": {
        "colab": {
          "base_uri": "https://localhost:8080/"
        },
        "id": "wXhg6B_o4GN5",
        "outputId": "20cb1216-104a-408d-b05f-76e10a325b4f"
      },
      "execution_count": null,
      "outputs": [
        {
          "output_type": "stream",
          "name": "stdout",
          "text": [
            "최소값 인덱스 : 0\n",
            "최소값 :  1\n",
            "최대값 인덱스 : 49\n",
            "최대값 :  50\n"
          ]
        }
      ]
    },
    {
      "cell_type": "code",
      "source": [
        "row, column = np.shape(array_matrix)\n",
        "\n",
        "max_row_indices = np.argmax(array_matrix, axis=0)\n",
        "print(\"max_row_indices :\",max_row_indices)\n",
        "for i in range(column):\n",
        "  print(i+1, \"열 :\", max_row_indices[i], \"행\", array_matrix[max_row_indices[i], i])\n",
        "\n",
        "max_column_indices = np.argmax(array_matrix, axis=1)\n",
        "print(\"max_column_vector :\",max_column_indices)\n",
        "for i in range(row):\n",
        "  print(i+1,\"행 :\", max_column_indices[i], \"열\", array_matrix[i, max_column_indices[i]])"
      ],
      "metadata": {
        "colab": {
          "base_uri": "https://localhost:8080/"
        },
        "id": "8DD1FTnd4RKv",
        "outputId": "7ede421f-d67f-49e2-b091-145596b66c36"
      },
      "execution_count": null,
      "outputs": [
        {
          "output_type": "stream",
          "name": "stdout",
          "text": [
            "max_row_indices : [4 4 4 4 4 4 4 4 4 4]\n",
            "1 열 : 4 행 41\n",
            "2 열 : 4 행 42\n",
            "3 열 : 4 행 43\n",
            "4 열 : 4 행 44\n",
            "5 열 : 4 행 45\n",
            "6 열 : 4 행 46\n",
            "7 열 : 4 행 47\n",
            "8 열 : 4 행 48\n",
            "9 열 : 4 행 49\n",
            "10 열 : 4 행 50\n",
            "max_column_vector : [9 9 9 9 9]\n",
            "1 행 : 9 열 10\n",
            "2 행 : 9 열 20\n",
            "3 행 : 9 열 30\n",
            "4 행 : 9 열 40\n",
            "5 행 : 9 열 50\n"
          ]
        }
      ]
    },
    {
      "cell_type": "markdown",
      "source": [
        "합과 곱"
      ],
      "metadata": {
        "id": "BoINPJYy12BX"
      }
    },
    {
      "cell_type": "code",
      "source": [
        "import math\n",
        "import numpy as np\n",
        "\n",
        "print(\"list_vector의 합 : \", sum(list_vector))\n",
        "print(\"list_vector의 곱 : \", math.prod(list_vector))\n",
        "print()\n",
        "print(\"array_matrix의 합 :\",np.sum(array_matrix))\n",
        "print(\"array_matrix의 곱 :\",np.prod(array_matrix))\n",
        "print(\"array_matrix 열의 합 :\",np.sum(array_matrix,axis=0))\n",
        "print(\"array_matrix 행의 곱합 :\",np.sum(array_matrix,axis=1))\n",
        "print(\"array_matrix 열의 곱 :\",np.prod(array_matrix,axis=0))\n",
        "print(\"array_matrix 행의 곱 :\",np.prod(array_matrix,axis=1))"
      ],
      "metadata": {
        "colab": {
          "base_uri": "https://localhost:8080/"
        },
        "id": "wD4x_HNvfW6h",
        "outputId": "ee47a4fe-6a29-4be6-9d25-7cde6e78c621"
      },
      "execution_count": null,
      "outputs": [
        {
          "output_type": "stream",
          "name": "stdout",
          "text": [
            "listVector의 합 :  55\n",
            "listVector의 곱 :  3628800\n",
            "\n",
            "arrayMatrix2d의 합 : 1275\n",
            "arrayMatrix2d의 곱 : -3258495067890909184\n",
            "arrayMatrix2d 열의 합 : [105 110 115 120 125 130 135 140 145 150]\n",
            "arrayMatrix2d 행의 곱합 : [ 55 155 255 355 455]\n",
            "arrayMatrix2d 열의 곱 : [  293601   709632  1272843  2010624  2953125  4133376  5587407  7354368\n",
            "  9476649 12000000]\n",
            "arrayMatrix2d 행의 곱 : [          3628800      670442572800   109027350432000  3075990524006400\n",
            " 37276043023296000]\n",
            "int64\n"
          ]
        }
      ]
    },
    {
      "cell_type": "code",
      "source": [
        "array_matrix = np.arange(1,51).reshape(5,10)\n",
        "array_matrix = array_matrix.astype(np.float_)\n",
        "print(\"array_matrix의 합 :\",np.sum(array_matrix))\n",
        "print(\"array_matrix의 곱 :\",np.prod(array_matrix))"
      ],
      "metadata": {
        "colab": {
          "base_uri": "https://localhost:8080/"
        },
        "id": "lxXYYWnBt7Il",
        "outputId": "d01eb2fe-4d9c-47a4-8c6e-19e0ad135afc"
      },
      "execution_count": null,
      "outputs": [
        {
          "output_type": "stream",
          "name": "stdout",
          "text": [
            "arrayMatrix2d의 합 : 1275.0\n",
            "arrayMatrix2d의 곱 : 3.0414093201713376e+64\n"
          ]
        }
      ]
    },
    {
      "cell_type": "code",
      "source": [
        "array_matrix = np.array([[9,2,7],[1,7,5]])\n",
        "print(\"array_matrix의 합 :\",np.sum(array_matrix))\n",
        "print(\"array_matrix의 곱 :\",np.prod(array_matrix))"
      ],
      "metadata": {
        "colab": {
          "base_uri": "https://localhost:8080/"
        },
        "id": "WiM-IONPqT75",
        "outputId": "1da17afe-912b-445f-db7a-14486191525d"
      },
      "execution_count": null,
      "outputs": [
        {
          "output_type": "stream",
          "name": "stdout",
          "text": [
            "arrayMatrix2d의 합 : 31\n",
            "arrayMatrix2d의 곱 : 4410\n",
            "(2, 3)\n",
            "(2, 3)\n"
          ]
        }
      ]
    },
    {
      "cell_type": "code",
      "source": [
        "print(np.shape(array_matrix))\n",
        "print(array_matrix.shape)"
      ],
      "metadata": {
        "colab": {
          "base_uri": "https://localhost:8080/"
        },
        "id": "XdchEjOR2Xkv",
        "outputId": "ebf3672d-f543-488a-c78a-7a6d4a89e6ec"
      },
      "execution_count": null,
      "outputs": [
        {
          "output_type": "stream",
          "name": "stdout",
          "text": [
            "(2, 3)\n",
            "(2, 3)\n"
          ]
        }
      ]
    },
    {
      "cell_type": "code",
      "source": [
        "print(array_matrix.dtype)"
      ],
      "metadata": {
        "colab": {
          "base_uri": "https://localhost:8080/"
        },
        "id": "XRYXLtfBwHrs",
        "outputId": "eb50bf01-e589-4ab9-903b-738fa126b879"
      },
      "execution_count": null,
      "outputs": [
        {
          "output_type": "stream",
          "name": "stdout",
          "text": [
            "int64\n"
          ]
        }
      ]
    },
    {
      "cell_type": "markdown",
      "source": [
        "누적합과 누적곱"
      ],
      "metadata": {
        "id": "ayRVW2-K4aCh"
      }
    },
    {
      "cell_type": "code",
      "source": [
        "array_matrix = np.array([[9,2,7],[1,7,5]])\n",
        "print(\"array_matrix의 누적합 : \",np.cumsum(array_matrix))\n",
        "print(\"array_matrix의 누적곱 : \",np.cumprod(array_matrix))"
      ],
      "metadata": {
        "colab": {
          "base_uri": "https://localhost:8080/"
        },
        "id": "IFh-5jUAhAoX",
        "outputId": "364e8935-be0f-4caa-8d25-1d1302bde95f"
      },
      "execution_count": null,
      "outputs": [
        {
          "output_type": "stream",
          "name": "stdout",
          "text": [
            "arrayMatrix2d의 누적합 :  [ 9 11 18 19 26 31]\n",
            "arrayMatrix2d의 누적곱 :  [   9   18  126  126  882 4410]\n"
          ]
        }
      ]
    },
    {
      "cell_type": "code",
      "source": [
        "print(\"array_matrix의 열 누적합 : \\n\",np.cumsum(array_matrix,axis=0))\n",
        "print(\"array_matrix의 행 누적합 : \\n\",np.cumsum(array_matrix,axis=1))\n",
        "print(\"array_matrix의 열 누적곱 : \\n\",np.cumprod(array_matrix,axis=0))\n",
        "print(\"array_matrix의 행 누적곱 : \\n\",np.cumprod(array_matrix,axis=1))"
      ],
      "metadata": {
        "colab": {
          "base_uri": "https://localhost:8080/"
        },
        "id": "u3YxXyVI9r5p",
        "outputId": "ba65f87a-bc3b-48eb-97f6-ac349c0b3342"
      },
      "execution_count": null,
      "outputs": [
        {
          "output_type": "stream",
          "name": "stdout",
          "text": [
            "arrayMatrix2d의 열 누적합 : \n",
            " [[ 9  2  7]\n",
            " [10  9 12]]\n",
            "arrayMatrix2d의 행 누적합 : \n",
            " [[ 9 11 18]\n",
            " [ 1  8 13]]\n",
            "arrayMatrix2d의 열 누적곱 : \n",
            " [[ 9  2  7]\n",
            " [ 9 14 35]]\n",
            "arrayMatrix2d의 행 누적곱 : \n",
            " [[  9  18 126]\n",
            " [  1   7  35]]\n"
          ]
        }
      ]
    },
    {
      "cell_type": "code",
      "source": [
        "import itertools\n",
        "\n",
        "list_vector = [10,9,8,7,6,5,4,3,2,1]\n",
        "list_vector_sumsum = itertools.accumulate(list_vector)\n",
        "print(\"list_vector의 누적합 : [\",end=' ')\n",
        "for element in list_vector_sumsum:\n",
        "  print(element,end=' ')\n",
        "print(\"]\")"
      ],
      "metadata": {
        "colab": {
          "base_uri": "https://localhost:8080/"
        },
        "id": "kAI09ufVciwH",
        "outputId": "e314cf15-5b2c-4313-85be-4cc451e7dd1c"
      },
      "execution_count": null,
      "outputs": [
        {
          "output_type": "stream",
          "name": "stdout",
          "text": [
            "list_vector의 누적합 : [ 10 19 27 34 40 45 49 52 54 55 ]\n"
          ]
        }
      ]
    },
    {
      "cell_type": "code",
      "source": [
        "import itertools\n",
        "import operator\n",
        "\n",
        "list_vector = [10,9,8,7,6,5,4,3,2,1]\n",
        "list_vector_cumprod = itertools.accumulate(list_vector, operator.mul)\n",
        "print(\"list_vector의 누적곱 : [\",end=' ')\n",
        "for element in list_vector_cumprod:\n",
        "  print(element,' ',end=' ')\n",
        "print(\"]\")"
      ],
      "metadata": {
        "colab": {
          "base_uri": "https://localhost:8080/"
        },
        "id": "d04okC_pvVWL",
        "outputId": "1c07d39a-270b-4b78-f218-9a474333b345"
      },
      "execution_count": null,
      "outputs": [
        {
          "output_type": "stream",
          "name": "stdout",
          "text": [
            "listVector의 누적곱 : [ 10   90   720   5040   30240   151200   604800   1814400   3628800   3628800   ]\n"
          ]
        }
      ]
    },
    {
      "cell_type": "code",
      "source": [
        "import numpy as np\n",
        "\n",
        "list_vector = [10,9,8,7,6,5,4,3,2,1]\n",
        "print(\"list_vector의 누적합 : \",np.cumsum(np.array(list_vector)))\n",
        "print(\"list_vector의 누적곱 : \",np.cumprod(np.array(list_vector)))"
      ],
      "metadata": {
        "colab": {
          "base_uri": "https://localhost:8080/"
        },
        "id": "LAefL7M2u9XE",
        "outputId": "878b9f6d-4ecc-4945-fe8a-c93c42ead6fa"
      },
      "execution_count": null,
      "outputs": [
        {
          "output_type": "stream",
          "name": "stdout",
          "text": [
            "list_vector의 누적합 :  [10 19 27 34 40 45 49 52 54 55]\n",
            "list_vector의 누적곱 :  [     10      90     720    5040   30240  151200  604800 1814400 3628800\n",
            " 3628800]\n"
          ]
        }
      ]
    },
    {
      "cell_type": "markdown",
      "source": [
        "차이"
      ],
      "metadata": {
        "id": "vJcH0BxV5Xbp"
      }
    },
    {
      "cell_type": "code",
      "source": [
        "import numpy as np\n",
        "\n",
        "array_vector = np.array([10,9,8,7,6,5,4,3,2,1])\n",
        "array_matrix = np.array([[9,2,7],[1,7,5],[3,5,3]])\n",
        "\n",
        "print(\"array_vector의 차이 :\",np.diff(array_vector))\n",
        "print(\"array_matrix의 차이 (2차원) :\\n\",np.diff(array_matrix))\n",
        "print(\"array_matrix 행의 차이 :\\n\",np.diff(array_matrix,axis=1))\n",
        "print(\"array_matrix 열의 차이 :\\n\",np.diff(array_matrix,axis=0))\n",
        "print(\"array_matrix의 차이 (1차원) :\",np.diff(array_matrix.ravel()))"
      ],
      "metadata": {
        "colab": {
          "base_uri": "https://localhost:8080/"
        },
        "id": "Nk0QRwE7YI5p",
        "outputId": "35829dc4-0b5b-4b43-8813-de5317022fdc"
      },
      "execution_count": null,
      "outputs": [
        {
          "output_type": "stream",
          "name": "stdout",
          "text": [
            "arrayVector의 차이 : [-1 -1 -1 -1 -1 -1 -1 -1 -1]\n",
            "arrayMatrix2d의 차이 (2차원) :\n",
            " [[-7  5]\n",
            " [ 6 -2]\n",
            " [ 2 -2]]\n",
            "arrayMatrix2d 행의 차이 :\n",
            " [[-7  5]\n",
            " [ 6 -2]\n",
            " [ 2 -2]]\n",
            "arrayMatrix2d 열의 차이 :\n",
            " [[-8  5 -2]\n",
            " [ 2 -2 -2]]\n",
            "arrayMatrix2d의 차이 (1차원) : [-7  5 -6  6 -2 -2  2 -2]\n"
          ]
        }
      ]
    },
    {
      "cell_type": "markdown",
      "source": [
        "간단한 통계"
      ],
      "metadata": {
        "id": "zgtvVzJY5kXT"
      }
    },
    {
      "cell_type": "code",
      "source": [
        "import numpy as np\n",
        "\n",
        "array_vector = np.array([10,9,8,7,98,6,5,4,3,2,1])\n",
        "array_matrix = np.array([[9,2,7],[1,7,5],[3,5,3]])\n",
        "\n",
        "print(\"array_vector의 평균 :\",np.mean(array_vector))\n",
        "print(\"array_matrix의 평균 :\",np.mean(array_matrix))\n",
        "print(\"array_matrix 열의 평균 :\\n\",np.mean(array_matrix,axis=0))\n",
        "print(\"array_matrix 행의 평균 :\\n\",np.mean(array_matrix,axis=1))"
      ],
      "metadata": {
        "colab": {
          "base_uri": "https://localhost:8080/"
        },
        "id": "dyNrVegIeLVs",
        "outputId": "9242188c-07a0-4b44-da21-b4ce075576d5"
      },
      "execution_count": null,
      "outputs": [
        {
          "output_type": "stream",
          "name": "stdout",
          "text": [
            "arrayVector의 평균 : 13.909090909090908\n",
            "arrayMatrix2d의 평균 : 4.666666666666667\n",
            "arrayMatrix2d 열의 평균 :\n",
            " [4.33333333 4.66666667 5.        ]\n",
            "arrayMatrix2d 행의 평균 :\n",
            " [6.         4.33333333 3.66666667]\n"
          ]
        }
      ]
    },
    {
      "cell_type": "code",
      "source": [
        "import numpy as np\n",
        "\n",
        "array_vector = np.array([10,9,8,7,98,6,5,4,3,2,1])\n",
        "temp_array_vector = array_vector[array_vector != np.max(array_vector)]\n",
        "print(\"최대값 이상치가 제거된 array_vector :\",temp_array_vector)\n",
        "print(\"array_vector의 평균 :\",np.mean(temp_array_vector))"
      ],
      "metadata": {
        "colab": {
          "base_uri": "https://localhost:8080/"
        },
        "id": "ur1msDdgiGn6",
        "outputId": "98e93eaf-d195-486d-f08c-3e5d13386ad5"
      },
      "execution_count": null,
      "outputs": [
        {
          "output_type": "stream",
          "name": "stdout",
          "text": [
            "최대값 이상치가 제거된 array_vector : [10  9  8  7  6  5  4  3  2  1]\n",
            "array_vector의 평균 : 5.5\n"
          ]
        }
      ]
    },
    {
      "cell_type": "code",
      "source": [
        "import numpy as np\n",
        "\n",
        "array_vector = np.array([10,9,8,7,6,6,5,4,3,2,1])\n",
        "array_matrix = np.array([[9,2,7],[1,7,5],[3,5,3]])\n",
        "\n",
        "print(\"array_vector의 최빈치 :\",np.mode(array_vector))\n",
        "print(\"array_matrix의 최빈치 :\",np.mode(array_matrix))\n",
        "print(\"array_matrix 열의 최빈치 :\\n\",np.mode(array_matrix,axis=0))\n",
        "print(\"array_matrix 행의 최빈치 :\\n\",np.mode(array_matrix,axis=1))"
      ],
      "metadata": {
        "colab": {
          "base_uri": "https://localhost:8080/",
          "height": 376
        },
        "id": "ITmFdT0dlqKo",
        "outputId": "b8cadd2f-0ed8-4d87-e78f-aff9da36a35e"
      },
      "execution_count": null,
      "outputs": [
        {
          "output_type": "error",
          "ename": "AttributeError",
          "evalue": "ignored",
          "traceback": [
            "\u001b[0;31m---------------------------------------------------------------------------\u001b[0m",
            "\u001b[0;31mAttributeError\u001b[0m                            Traceback (most recent call last)",
            "\u001b[0;32m<ipython-input-1-b0d594a8ff34>\u001b[0m in \u001b[0;36m<module>\u001b[0;34m\u001b[0m\n\u001b[1;32m      4\u001b[0m \u001b[0marrayMatrix2d\u001b[0m \u001b[0;34m=\u001b[0m \u001b[0mnp\u001b[0m\u001b[0;34m.\u001b[0m\u001b[0marray\u001b[0m\u001b[0;34m(\u001b[0m\u001b[0;34m[\u001b[0m\u001b[0;34m[\u001b[0m\u001b[0;36m9\u001b[0m\u001b[0;34m,\u001b[0m\u001b[0;36m2\u001b[0m\u001b[0;34m,\u001b[0m\u001b[0;36m7\u001b[0m\u001b[0;34m]\u001b[0m\u001b[0;34m,\u001b[0m\u001b[0;34m[\u001b[0m\u001b[0;36m1\u001b[0m\u001b[0;34m,\u001b[0m\u001b[0;36m7\u001b[0m\u001b[0;34m,\u001b[0m\u001b[0;36m5\u001b[0m\u001b[0;34m]\u001b[0m\u001b[0;34m,\u001b[0m\u001b[0;34m[\u001b[0m\u001b[0;36m3\u001b[0m\u001b[0;34m,\u001b[0m\u001b[0;36m5\u001b[0m\u001b[0;34m,\u001b[0m\u001b[0;36m3\u001b[0m\u001b[0;34m]\u001b[0m\u001b[0;34m]\u001b[0m\u001b[0;34m)\u001b[0m\u001b[0;34m\u001b[0m\u001b[0;34m\u001b[0m\u001b[0m\n\u001b[1;32m      5\u001b[0m \u001b[0;34m\u001b[0m\u001b[0m\n\u001b[0;32m----> 6\u001b[0;31m \u001b[0mprint\u001b[0m\u001b[0;34m(\u001b[0m\u001b[0;34m\"arrayVector의 최빈치 :\"\u001b[0m\u001b[0;34m,\u001b[0m\u001b[0mnp\u001b[0m\u001b[0;34m.\u001b[0m\u001b[0mmode\u001b[0m\u001b[0;34m(\u001b[0m\u001b[0marrayVector\u001b[0m\u001b[0;34m)\u001b[0m\u001b[0;34m)\u001b[0m\u001b[0;34m\u001b[0m\u001b[0;34m\u001b[0m\u001b[0m\n\u001b[0m\u001b[1;32m      7\u001b[0m \u001b[0mprint\u001b[0m\u001b[0;34m(\u001b[0m\u001b[0;34m\"arrayMatrix2d의 최빈치 :\"\u001b[0m\u001b[0;34m,\u001b[0m\u001b[0mnp\u001b[0m\u001b[0;34m.\u001b[0m\u001b[0mmode\u001b[0m\u001b[0;34m(\u001b[0m\u001b[0marrayMatrix2d\u001b[0m\u001b[0;34m)\u001b[0m\u001b[0;34m)\u001b[0m\u001b[0;34m\u001b[0m\u001b[0;34m\u001b[0m\u001b[0m\n\u001b[1;32m      8\u001b[0m \u001b[0mprint\u001b[0m\u001b[0;34m(\u001b[0m\u001b[0;34m\"arrayMatrix2d 열의 최빈치 :\\n\"\u001b[0m\u001b[0;34m,\u001b[0m\u001b[0mnp\u001b[0m\u001b[0;34m.\u001b[0m\u001b[0mmode\u001b[0m\u001b[0;34m(\u001b[0m\u001b[0marrayMatrix2d\u001b[0m\u001b[0;34m,\u001b[0m\u001b[0maxis\u001b[0m\u001b[0;34m=\u001b[0m\u001b[0;36m0\u001b[0m\u001b[0;34m)\u001b[0m\u001b[0;34m)\u001b[0m\u001b[0;34m\u001b[0m\u001b[0;34m\u001b[0m\u001b[0m\n",
            "\u001b[0;32m/usr/local/lib/python3.8/dist-packages/numpy/__init__.py\u001b[0m in \u001b[0;36m__getattr__\u001b[0;34m(attr)\u001b[0m\n\u001b[1;32m    311\u001b[0m                 \u001b[0;32mreturn\u001b[0m \u001b[0mTester\u001b[0m\u001b[0;34m\u001b[0m\u001b[0;34m\u001b[0m\u001b[0m\n\u001b[1;32m    312\u001b[0m \u001b[0;34m\u001b[0m\u001b[0m\n\u001b[0;32m--> 313\u001b[0;31m             raise AttributeError(\"module {!r} has no attribute \"\n\u001b[0m\u001b[1;32m    314\u001b[0m                                  \"{!r}\".format(__name__, attr))\n\u001b[1;32m    315\u001b[0m \u001b[0;34m\u001b[0m\u001b[0m\n",
            "\u001b[0;31mAttributeError\u001b[0m: module 'numpy' has no attribute 'mode'"
          ]
        }
      ]
    },
    {
      "cell_type": "code",
      "source": [
        "import numpy as np\n",
        "import scipy.stats as stats\n",
        "\n",
        "array_vector = np.array([10,9,8,7,6,6,5,4,3,2,1])\n",
        "array_matrix = np.array([[9,9,2,3],[9,7,7,5],[3,5,2,3]])\n",
        "\n",
        "print(\"array_vector의 최빈치 :\",stats.mode(array_vector))\n",
        "print(\"array_matrix :\\n\",array_matrix)\n",
        "print(\"array_matrix의 최빈치 (2차원) :\",stats.mode(array_matrix))\n",
        "print(\"array_matrix 열의 최빈치 :\\n\",stats.mode(array_matrix,axis=0))\n",
        "print(\"array_matrix 행의 최빈치 :\\n\",stats.mode(array_matrix,axis=1))"
      ],
      "metadata": {
        "colab": {
          "base_uri": "https://localhost:8080/"
        },
        "id": "gHpo2RTwmAE8",
        "outputId": "91c63cbe-87af-4ff5-f535-ae77d6ceed9c"
      },
      "execution_count": null,
      "outputs": [
        {
          "output_type": "stream",
          "name": "stdout",
          "text": [
            "arrayVector의 최빈치 : ModeResult(mode=array([6]), count=array([2]))\n",
            "arrayMatrix2d :\n",
            " [[9 9 2 3]\n",
            " [9 7 7 5]\n",
            " [3 5 2 3]]\n",
            "arrayMatrix2d의 최빈치 (2차원) : ModeResult(mode=array([[9, 5, 2, 3]]), count=array([[2, 1, 2, 2]]))\n",
            "arrayMatrix2d 열의 최빈치 :\n",
            " ModeResult(mode=array([[9, 5, 2, 3]]), count=array([[2, 1, 2, 2]]))\n",
            "arrayMatrix2d 행의 최빈치 :\n",
            " ModeResult(mode=array([[9],\n",
            "       [7],\n",
            "       [3]]), count=array([[2],\n",
            "       [2],\n",
            "       [2]]))\n"
          ]
        }
      ]
    },
    {
      "cell_type": "code",
      "source": [
        "print(\"array_vector의 최빈치 :\",stats.mode(array_vector).mode[0])\n",
        "print(\"array_vector의 최빈치 발생 횟수 :\",stats.mode(array_vector).count[0])\n",
        "print(\"array_matrix 1열의 최빈치 :\",stats.mode(array_matrix,axis=0).mode[0,0])\n",
        "print(\"array_matrix 1열의 최빈치 발생 횟수 :\",stats.mode(array_matrix,axis=0).count[0,0])\n",
        "print(\"array_matrix 2행의 최빈치 :\",stats.mode(array_matrix,axis=1).mode[1,0])\n",
        "print(\"array_matrix 2행의 최빈치 발생 횟수 :\",stats.mode(array_matrix,axis=1).count[1,0])"
      ],
      "metadata": {
        "colab": {
          "base_uri": "https://localhost:8080/"
        },
        "id": "nBBG-TLH1TWJ",
        "outputId": "7462ff5c-ac37-4b43-8e0c-280d4292353c"
      },
      "execution_count": null,
      "outputs": [
        {
          "output_type": "stream",
          "name": "stdout",
          "text": [
            "arrayVector의 최빈치 : 6\n",
            "arrayVector의 최빈치 발생 횟수 : 2\n",
            "arrayMatrix2d 1열의 최빈치 : 9\n",
            "arrayMatrix2d 1열의 최빈치 발생 횟수 : 2\n",
            "arrayMatrix2d 2행의 최빈치 : 7\n",
            "arrayMatrix2d 2행의 최빈치 발생 횟수 : 2\n"
          ]
        }
      ]
    },
    {
      "cell_type": "markdown",
      "source": [
        "정렬"
      ],
      "metadata": {
        "id": "X08i-Shw6km5"
      }
    },
    {
      "cell_type": "code",
      "source": [
        "string_vector = '코딩 123 혹은 ABC 배우기'\n",
        "print(\"순방향 정렬된 string_vector :\", sorted(string_vector))\n",
        "print(\"역방향 정렬된 string_vector :\", sorted(string_vector,reverse=True))"
      ],
      "metadata": {
        "colab": {
          "base_uri": "https://localhost:8080/"
        },
        "id": "GMQVXwplcg6d",
        "outputId": "d0280b92-124a-4ab4-b797-a5472eccac1b"
      },
      "execution_count": null,
      "outputs": [
        {
          "output_type": "stream",
          "name": "stdout",
          "text": [
            "순방향 정렬된 stringVector : [' ', ' ', ' ', ' ', '1', '2', '3', 'A', 'B', 'C', '기', '딩', '배', '우', '은', '코', '혹']\n",
            "역방향 정렬된 stringVector : ['혹', '코', '은', '우', '배', '딩', '기', 'C', 'B', 'A', '3', '2', '1', ' ', ' ', ' ', ' ']\n"
          ]
        }
      ]
    },
    {
      "cell_type": "code",
      "source": [
        "string_vector = '코딩 ABC'\n",
        "string_vector_list = list(string_vector)\n",
        "print(\"리스트로 변환한 string_vector :\",string_vector_list)\n",
        "print(\"형변환을 사용하여 다시 문자열로 변환한 string_vector :\",str(string_vector_list))\n",
        "print(\"다시 문자열로 변환한 string_vector :\",''.join(string_vector_list))"
      ],
      "metadata": {
        "colab": {
          "base_uri": "https://localhost:8080/"
        },
        "id": "nwyxRakZzjZt",
        "outputId": "5282c8f8-ae18-4dae-b128-0ba66d1c815a"
      },
      "execution_count": null,
      "outputs": [
        {
          "output_type": "stream",
          "name": "stdout",
          "text": [
            "리스트로 변환한 stringVector : ['코', '딩', ' ', 'A', 'B', 'C']\n",
            "형변환을 사용하여 다시 문자열로 변환한 stringVector : ['코', '딩', ' ', 'A', 'B', 'C']\n",
            "다시 문자열로 변환한 stringVector : 코딩 ABC\n"
          ]
        }
      ]
    },
    {
      "cell_type": "code",
      "source": [
        "list_vector = [10,9,8,7,5,4,3,2,1,6,6,]\n",
        "sorted_list_vector = sorted(list_vector)\n",
        "print(\"순방향 정렬된 list_vector :\", sorted_list_vector)\n",
        "reverse_sorted_list_vector = sorted(list_vector,reverse=True)\n",
        "print(\"역방향 정렬된 list_vector :\", reverse_sorted_list_vector)\n",
        "print(\"원본 list_vector :\",list_vector)"
      ],
      "metadata": {
        "colab": {
          "base_uri": "https://localhost:8080/"
        },
        "id": "x15_EA4ODEiV",
        "outputId": "bc4e583d-5384-44c8-bb0e-63dfab516c49"
      },
      "execution_count": null,
      "outputs": [
        {
          "output_type": "stream",
          "name": "stdout",
          "text": [
            "순방향 정렬된 listVector : [1, 2, 3, 4, 5, 6, 6, 7, 8, 9, 10]\n",
            "역방향 정렬된 listVector : [10, 9, 8, 7, 6, 6, 5, 4, 3, 2, 1]\n",
            "원본 listVector : [10, 9, 8, 7, 5, 4, 3, 2, 1, 6, 6]\n"
          ]
        }
      ]
    },
    {
      "cell_type": "code",
      "source": [
        "list_vector = [10,9,8,7,5,4,3,2,1,6,6,]\n",
        "print(\"순방향 정렬된 list_vector :\", list_vector.sort())\n",
        "print(\"원본 list_vector :\",list_vector)\n",
        "\n",
        "print(\"역방향 정렬된 list_vector :\", list_vector.sort(reverse=True))\n",
        "print(\"원본 list_vector :\",list_vector)"
      ],
      "metadata": {
        "colab": {
          "base_uri": "https://localhost:8080/"
        },
        "id": "QMT-vv_eDra_",
        "outputId": "a992119a-7f87-4ba4-e742-c16f1dca01bc"
      },
      "execution_count": 3,
      "outputs": [
        {
          "output_type": "stream",
          "name": "stdout",
          "text": [
            "순방향 정렬된 list_vector : None\n",
            "원본 list_vector : [1, 2, 3, 4, 5, 6, 6, 7, 8, 9, 10]\n",
            "역방향 정렬된 list_vector : None\n",
            "원본 list_vector : [10, 9, 8, 7, 6, 6, 5, 4, 3, 2, 1]\n"
          ]
        }
      ]
    },
    {
      "cell_type": "code",
      "source": [
        "string_vector_list = ['홍길동','Williams','유관순','Becker','나폴레옹',',오타']\n",
        "\n",
        "print(\"순방향 정렬된 string_vector_list :\", sorted(string_vector_list))\n",
        "print(\"순방향 정렬된 string_vector_list :\", sorted(string_vector_list,reverse=True))\n",
        "\n",
        "string_vector_list.sort()\n",
        "print(\"순방향 정렬된 string_vector_list :\", string_vector_list)\n",
        "string_vector_list.sort(reverse=True)\n",
        "print(\"역방향 정렬된 string_vector_list :\", string_vector_list)"
      ],
      "metadata": {
        "colab": {
          "base_uri": "https://localhost:8080/"
        },
        "id": "eDDxqC9h14cy",
        "outputId": "c90b912e-ea77-438d-b220-87acb9850cb2"
      },
      "execution_count": 4,
      "outputs": [
        {
          "output_type": "stream",
          "name": "stdout",
          "text": [
            "순방향 정렬된 string_vector_list : [',오타', 'Becker', 'Williams', '나폴레옹', '유관순', '홍길동']\n",
            "순방향 정렬된 string_vector_list : ['홍길동', '유관순', '나폴레옹', 'Williams', 'Becker', ',오타']\n",
            "순방향 정렬된 string_vector_list : [',오타', 'Becker', 'Williams', '나폴레옹', '유관순', '홍길동']\n",
            "역방향 정렬된 string_vector_list : ['홍길동', '유관순', '나폴레옹', 'Williams', 'Becker', ',오타']\n"
          ]
        }
      ]
    },
    {
      "cell_type": "code",
      "source": [
        "import numpy as np\n",
        "\n",
        "array_vector = np.array([10,9,8,7,5,4,3,2,1,6,6])\n",
        "print(\"순방향 정렬된 array_vector :\", sorted(array_vector))\n",
        "print(\"역방향 정렬된 array_vector :\", sorted(array_vector,reverse=True))\n",
        "print(\"원본 array_vector :\",array_vector)\n",
        "\n",
        "array_vector = np.array([10,9,8,7,5,4,3,2,1,6,6])\n",
        "print(\"array_vector.sort()의 반환값 :\", array_vector.sort())\n",
        "print(\"원본 array_vector (순방향 정렬된 array_vector) :\",array_vector)\n",
        "print(\"역방향 정렬된 array_vector :\", array_vector.sort(reverse=True))\n",
        "print(\"원본 array_vector (순방향 정렬된 array_vector) :\",array_vector)"
      ],
      "metadata": {
        "colab": {
          "base_uri": "https://localhost:8080/",
          "height": 321
        },
        "id": "PMN4l5YKI6-M",
        "outputId": "512a0d05-ec95-4f93-d01c-a57fd3bd28a3"
      },
      "execution_count": 5,
      "outputs": [
        {
          "output_type": "stream",
          "name": "stdout",
          "text": [
            "순방향 정렬된 array_vector : [1, 2, 3, 4, 5, 6, 6, 7, 8, 9, 10]\n",
            "역방향 정렬된 array_vector : [10, 9, 8, 7, 6, 6, 5, 4, 3, 2, 1]\n",
            "원본 array_vector : [10  9  8  7  5  4  3  2  1  6  6]\n",
            "array_vector.sort()의 반환값 : None\n",
            "원본 array_vector (순방향 정렬된 array_vector) : [ 1  2  3  4  5  6  6  7  8  9 10]\n"
          ]
        },
        {
          "output_type": "error",
          "ename": "TypeError",
          "evalue": "ignored",
          "traceback": [
            "\u001b[0;31m---------------------------------------------------------------------------\u001b[0m",
            "\u001b[0;31mTypeError\u001b[0m                                 Traceback (most recent call last)",
            "\u001b[0;32m<ipython-input-5-46d430789f17>\u001b[0m in \u001b[0;36m<cell line: 11>\u001b[0;34m()\u001b[0m\n\u001b[1;32m      9\u001b[0m \u001b[0mprint\u001b[0m\u001b[0;34m(\u001b[0m\u001b[0;34m\"array_vector.sort()의 반환값 :\"\u001b[0m\u001b[0;34m,\u001b[0m \u001b[0marray_vector\u001b[0m\u001b[0;34m.\u001b[0m\u001b[0msort\u001b[0m\u001b[0;34m(\u001b[0m\u001b[0;34m)\u001b[0m\u001b[0;34m)\u001b[0m\u001b[0;34m\u001b[0m\u001b[0;34m\u001b[0m\u001b[0m\n\u001b[1;32m     10\u001b[0m \u001b[0mprint\u001b[0m\u001b[0;34m(\u001b[0m\u001b[0;34m\"원본 array_vector (순방향 정렬된 array_vector) :\"\u001b[0m\u001b[0;34m,\u001b[0m\u001b[0marray_vector\u001b[0m\u001b[0;34m)\u001b[0m\u001b[0;34m\u001b[0m\u001b[0;34m\u001b[0m\u001b[0m\n\u001b[0;32m---> 11\u001b[0;31m \u001b[0mprint\u001b[0m\u001b[0;34m(\u001b[0m\u001b[0;34m\"역방향 정렬된 array_vector :\"\u001b[0m\u001b[0;34m,\u001b[0m \u001b[0marray_vector\u001b[0m\u001b[0;34m.\u001b[0m\u001b[0msort\u001b[0m\u001b[0;34m(\u001b[0m\u001b[0mreverse\u001b[0m\u001b[0;34m=\u001b[0m\u001b[0;32mTrue\u001b[0m\u001b[0;34m)\u001b[0m\u001b[0;34m)\u001b[0m\u001b[0;34m\u001b[0m\u001b[0;34m\u001b[0m\u001b[0m\n\u001b[0m\u001b[1;32m     12\u001b[0m \u001b[0mprint\u001b[0m\u001b[0;34m(\u001b[0m\u001b[0;34m\"원본 array_vector (순방향 정렬된 array_vector) :\"\u001b[0m\u001b[0;34m,\u001b[0m\u001b[0marray_vector\u001b[0m\u001b[0;34m)\u001b[0m\u001b[0;34m\u001b[0m\u001b[0;34m\u001b[0m\u001b[0m\n",
            "\u001b[0;31mTypeError\u001b[0m: sort() got an unexpected keyword argument 'reverse'"
          ]
        }
      ]
    },
    {
      "cell_type": "code",
      "source": [
        "import numpy as np\n",
        "\n",
        "list_vector = [10,9,8,7,5,4,3,2,1,6,6,]\n",
        "reversed_list_vector = reversed(list_vector)\n",
        "print(\"앞뒤가 전도된 list_vector :\", reversed_list_vector)\n",
        "print(\"앞뒤가 전도된 list_vector :\", end=' ')\n",
        "for i in reversed_list_vector:\n",
        "  print(i,end=' ')\n",
        "print(\"\\n원본 list_vector :\",list_vector)\n",
        "list_vector.reverse()\n",
        "print(\"앞뒤가 전도된 list_vector :\", list_vector)\n",
        "\n",
        "array_vector = np.array([10,9,8,7,5,4,3,2,1,6,6])\n",
        "reversed_array_vector = reversed(array_vector)\n",
        "print(\"앞뒤가 전도된 array_vector :\", reversed_array_vector)\n",
        "print(\"앞뒤가 전도된 array_vector :\", end=' ')\n",
        "for i in reversed_array_vector:\n",
        "  print(i,end=' ')\n",
        "print(\"\\n원본 array_vector :\",array_vector)\n",
        "array_vector.reverse()\n",
        "print(\"앞뒤가 전도된 array_vector :\", array_vector)"
      ],
      "metadata": {
        "colab": {
          "base_uri": "https://localhost:8080/",
          "height": 358
        },
        "id": "DTIK5dswFI80",
        "outputId": "d0c142bd-52f8-4d14-9de4-e0bd923b607c"
      },
      "execution_count": 19,
      "outputs": [
        {
          "output_type": "stream",
          "name": "stdout",
          "text": [
            "앞뒤가 전도된 list_vector : <list_reverseiterator object at 0x794d522560b0>\n",
            "앞뒤가 전도된 list_vector : 6 6 1 2 3 4 5 7 8 9 10 \n",
            "원본 list_vector : [10, 9, 8, 7, 5, 4, 3, 2, 1, 6, 6]\n",
            "앞뒤가 전도된 list_vector : [6, 6, 1, 2, 3, 4, 5, 7, 8, 9, 10]\n",
            "앞뒤가 전도된 array_vector : <reversed object at 0x794d35b9b7f0>\n",
            "앞뒤가 전도된 array_vector : 6 6 1 2 3 4 5 7 8 9 10 \n",
            "원본 array_vector : [10  9  8  7  5  4  3  2  1  6  6]\n"
          ]
        },
        {
          "output_type": "error",
          "ename": "AttributeError",
          "evalue": "ignored",
          "traceback": [
            "\u001b[0;31m---------------------------------------------------------------------------\u001b[0m",
            "\u001b[0;31mAttributeError\u001b[0m                            Traceback (most recent call last)",
            "\u001b[0;32m<ipython-input-19-1e550f75fad6>\u001b[0m in \u001b[0;36m<cell line: 20>\u001b[0;34m()\u001b[0m\n\u001b[1;32m     18\u001b[0m   \u001b[0mprint\u001b[0m\u001b[0;34m(\u001b[0m\u001b[0mi\u001b[0m\u001b[0;34m,\u001b[0m\u001b[0mend\u001b[0m\u001b[0;34m=\u001b[0m\u001b[0;34m' '\u001b[0m\u001b[0;34m)\u001b[0m\u001b[0;34m\u001b[0m\u001b[0;34m\u001b[0m\u001b[0m\n\u001b[1;32m     19\u001b[0m \u001b[0mprint\u001b[0m\u001b[0;34m(\u001b[0m\u001b[0;34m\"\\n원본 array_vector :\"\u001b[0m\u001b[0;34m,\u001b[0m\u001b[0marray_vector\u001b[0m\u001b[0;34m)\u001b[0m\u001b[0;34m\u001b[0m\u001b[0;34m\u001b[0m\u001b[0m\n\u001b[0;32m---> 20\u001b[0;31m \u001b[0marray_vector\u001b[0m\u001b[0;34m.\u001b[0m\u001b[0mreverse\u001b[0m\u001b[0;34m(\u001b[0m\u001b[0;34m)\u001b[0m\u001b[0;34m\u001b[0m\u001b[0;34m\u001b[0m\u001b[0m\n\u001b[0m\u001b[1;32m     21\u001b[0m \u001b[0mprint\u001b[0m\u001b[0;34m(\u001b[0m\u001b[0;34m\"앞뒤가 전도된 array_vector :\"\u001b[0m\u001b[0;34m,\u001b[0m \u001b[0marray_vector\u001b[0m\u001b[0;34m)\u001b[0m\u001b[0;34m\u001b[0m\u001b[0;34m\u001b[0m\u001b[0m\n",
            "\u001b[0;31mAttributeError\u001b[0m: 'numpy.ndarray' object has no attribute 'reverse'"
          ]
        }
      ]
    },
    {
      "cell_type": "code",
      "source": [
        "print(array_vector[::-1])"
      ],
      "metadata": {
        "colab": {
          "base_uri": "https://localhost:8080/"
        },
        "id": "niWBRnF3PYa6",
        "outputId": "f2b205b5-cfe5-4e69-f56b-23206f510d9d"
      },
      "execution_count": null,
      "outputs": [
        {
          "output_type": "stream",
          "name": "stdout",
          "text": [
            "[10  9  8  7  6  6  5  4  3  2  1]\n"
          ]
        }
      ]
    },
    {
      "cell_type": "code",
      "source": [
        "import numpy as np\n",
        "\n",
        "array_matrix = np.array([[9,2,7],[1,7,5],[3,5,3]])\n",
        "print(\"array_matrix :\\n\", array_matrix)\n",
        "print(\"열방향 순방향 정렬된 array_matrix :\\n\", np.sort(array_matrix,axis=0))\n",
        "print(\"열방향 역방향 정렬된 array_matrix :\\n\", np.sort(array_matrix,axis=0)[::-1,:])\n",
        "print(\"행방향 순방향 정렬된 array_matrix :\\n\", np.sort(array_matrix,axis=1))\n",
        "print(\"행방향 순방향 정렬된 array_matrix :\\n\", np.sort(array_matrix,axis=1)[:,::-1])\n",
        "print(\"원본 array_matrix :\\n\", array_matrix)"
      ],
      "metadata": {
        "colab": {
          "base_uri": "https://localhost:8080/"
        },
        "id": "x89jLoZjuB5m",
        "outputId": "8dd1b5f3-e628-4b9e-e26e-6658e35f4508"
      },
      "execution_count": null,
      "outputs": [
        {
          "output_type": "stream",
          "name": "stdout",
          "text": [
            "arrayMatrix2d :\n",
            " [[9 2 7]\n",
            " [1 7 5]\n",
            " [3 5 3]]\n",
            "열방향 순방향 정렬된 arrayMatrix2d :\n",
            " [[1 2 3]\n",
            " [3 5 5]\n",
            " [9 7 7]]\n",
            "열방향 역방향 정렬된 arrayMatrix2d :\n",
            " [[9 7 7]\n",
            " [3 5 5]\n",
            " [1 2 3]]\n",
            "행방향 순방향 정렬된 arrayMatrix2d :\n",
            " [[2 7 9]\n",
            " [1 5 7]\n",
            " [3 3 5]]\n",
            "행방향 순방향 정렬된 arrayMatrix2d :\n",
            " [[9 7 2]\n",
            " [7 5 1]\n",
            " [5 3 3]]\n",
            "원본 arrayMatrix2d :\n",
            " [[9 2 7]\n",
            " [1 7 5]\n",
            " [3 5 3]]\n"
          ]
        }
      ]
    },
    {
      "cell_type": "code",
      "source": [
        "import numpy as np\n",
        "\n",
        "array_matrix = np.array([[9,2,7],[1,7,5],[3,5,3]])\n",
        "print(\"array_matrix :\\n\", array_matrix)\n",
        "print(\"array_matrix.sort(axis=0)의 반환값 :\", array_matrix.sort(axis=0))\n",
        "print(\"원본 array_matrix (열방향 순방향 정렬된 array_matrix) :\\n\", array_matrix)\n",
        "print(\"열방향 역방향 정렬된 array_matrix :\\n\", array_matrix[::-1,:])\n",
        "array_matrix = np.array([[9,2,7],[1,7,5],[3,5,3]])   # 원본값과 비교를 쉽게하기 위해 값을 원복\n",
        "print(\"array_matrix.sort(axis=1)의 반환값 :\", array_matrix.sort(axis=1))\n",
        "print(\"원본 array_matrix (행방향 순방향 정렬된 array_matrix) :\\n\", array_matrix)\n",
        "print(\"열방향 역방향 정렬된 array_matrix :\\n\", array_matrix[:,::-1])"
      ],
      "metadata": {
        "colab": {
          "base_uri": "https://localhost:8080/"
        },
        "id": "gbY1qgT2TcNs",
        "outputId": "ed49153b-fcb6-411e-ed9d-2dc898e4ef7d"
      },
      "execution_count": null,
      "outputs": [
        {
          "output_type": "stream",
          "name": "stdout",
          "text": [
            "arrayMatrix2d :\n",
            " [[9 2 7]\n",
            " [1 7 5]\n",
            " [3 5 3]]\n",
            "arrayMatrix2d.sort(axis=0)의 반환값 : None\n",
            "원본 arrayMatrix2d (열방향 순방향 정렬된 arrayMatrix2d) :\n",
            " [[1 2 3]\n",
            " [3 5 5]\n",
            " [9 7 7]]\n",
            "열방향 역방향 정렬된 arrayMatrix2d :\n",
            " [[9 7 7]\n",
            " [3 5 5]\n",
            " [1 2 3]]\n",
            "arrayMatrix2d.sort(axis=1)의 반환값 : None\n",
            "원본 arrayMatrix2d (행방향 순방향 정렬된 arrayMatrix2d) :\n",
            " [[2 7 9]\n",
            " [1 5 7]\n",
            " [3 3 5]]\n",
            "열방향 역방향 정렬된 arrayMatrix2d :\n",
            " [[9 7 2]\n",
            " [7 5 1]\n",
            " [5 3 3]]\n"
          ]
        }
      ]
    },
    {
      "cell_type": "code",
      "source": [
        "import numpy as np\n",
        "\n",
        "array_vector = np.array([10,9,8,7,5,4,3,2,1,6,6])\n",
        "\n",
        "sort_index = np.argsort(array_vector)\n",
        "print(\"array_vector의 Sort Index :\",sort_index)\n",
        "print(\"순방향 정렬된 array_vector :\",array_vector[sort_index])\n",
        "\n",
        "print(\"array_vector의 Sort Index :\",array_vector.argsort())\n",
        "\n",
        "print(\"array_vector.argsort()로 정렬후 array_vector :\",array_vector)"
      ],
      "metadata": {
        "colab": {
          "base_uri": "https://localhost:8080/"
        },
        "id": "ZaY9WFMw5dEG",
        "outputId": "1db18b24-2372-48f3-eddb-148ed04ecca8"
      },
      "execution_count": null,
      "outputs": [
        {
          "output_type": "stream",
          "name": "stdout",
          "text": [
            "arrayVector의 Sort Index : [ 8  7  6  5  4  9 10  3  2  1  0]\n",
            "순방향 정렬된 arrayVector : [ 1  2  3  4  5  6  6  7  8  9 10]\n",
            "arrayVector의 Sort Index : [ 8  7  6  5  4  9 10  3  2  1  0]\n",
            "arrayVector.argsort()로 정렬후 arrayVector : [10  9  8  7  5  4  3  2  1  6  6]\n"
          ]
        }
      ]
    },
    {
      "cell_type": "markdown",
      "source": [
        "집합"
      ],
      "metadata": {
        "id": "O8QgStaj8sut"
      }
    },
    {
      "cell_type": "code",
      "source": [
        "fruit_set = {\"바나나\",\"사과\",\"오렌지\",\"오렌지\"}\n",
        "print(\"코딩으로 생성한 과일 집합 :\",fruit_set)\n",
        "\n",
        "fruit_set = set([\"바나나\",\"사과\",\"오렌지\",\"오렌지\"])\n",
        "print(\"리스트에서 형변환으로 생성한 과일 집합 :\",fruit_set)\n",
        "print(type(fruit_set))\n",
        "\n",
        "import numpy as np\n",
        "\n",
        "fruit_set = set(np.array([\"바나나\",\"사과\",\"오렌지\",\"오렌지\"]))\n",
        "print(\"numpy 배열에서 형변환으로 생성한 과일 집합 :\",fruit_set)\n",
        "print(type(fruit_set))"
      ],
      "metadata": {
        "colab": {
          "base_uri": "https://localhost:8080/"
        },
        "id": "2R_szJqJNd2H",
        "outputId": "0ad8b664-925c-4129-c2e0-55f08d820e3b"
      },
      "execution_count": null,
      "outputs": [
        {
          "output_type": "stream",
          "name": "stdout",
          "text": [
            "코딩으로 생성한 과일 집합 : {'오렌지', '바나나', '사과'}\n",
            "리스트에서 형변환으로 생성한 과일 집합 : {'오렌지', '바나나', '사과'}\n",
            "<class 'set'>\n",
            "numpy 배열에서 형변환으로 생성한 과일 집합 : {'오렌지', '바나나', '사과'}\n",
            "<class 'set'>\n"
          ]
        }
      ]
    },
    {
      "cell_type": "code",
      "source": [
        "fruit_retail = {\"바나나\",\"사과\",\"오렌지\",\"자몽\",\"키위\"}\n",
        "fruit_wholesale = {\"바나나\",\"사과\",\"오렌지\",\"배\",\"딸기\"}\n",
        "\n",
        "print(\"소매 과일과 도매 과일의 합집합 :\",fruit_retail | fruit_wholesale)\n",
        "print(\"원본 소매 과일 집합 :\",fruit_retail)\n",
        "print(\"소매 과일과 도매 과일의 합집합 :\",fruit_retail.union(fruit_wholesale))\n",
        "print(\"원본 소매 과일 집합 :\",fruit_retail)\n",
        "print(\"소매 과일과 도매 과일의 합집합 :\",set.union(fruit_retail,fruit_wholesale))\n",
        "\n",
        "fruit_set = fruit_retail | fruit_wholesale\n",
        "print(\"과일집합 (소매 과일과 도매 과일의 합집합) :\",fruit_set)"
      ],
      "metadata": {
        "colab": {
          "base_uri": "https://localhost:8080/"
        },
        "id": "eEEyPEYJXnyn",
        "outputId": "518e525b-54dc-428a-8b61-dc58e7ff2e42"
      },
      "execution_count": null,
      "outputs": [
        {
          "output_type": "stream",
          "name": "stdout",
          "text": [
            "소매 과일과 도매 과일의 합집합 : {'바나나', '오렌지', '키위', '자몽', '사과', '배', '딸기'}\n",
            "원본 소매 과일 집합 : {'바나나', '오렌지', '키위', '자몽', '사과'}\n",
            "소매 과일과 도매 과일의 합집합 : {'바나나', '오렌지', '키위', '자몽', '사과', '배', '딸기'}\n",
            "원본 소매 과일 집합 : {'바나나', '오렌지', '키위', '자몽', '사과'}\n",
            "소매 과일과 도매 과일의 합집합 : {'바나나', '오렌지', '키위', '자몽', '사과', '배', '딸기'}\n",
            "과일집합 (소매 과일과 도매 과일의 합집합) : {'바나나', '오렌지', '키위', '자몽', '사과', '배', '딸기'}\n"
          ]
        }
      ]
    },
    {
      "cell_type": "code",
      "source": [
        "fruit_retail = {\"바나나\",\"사과\",\"오렌지\",\"자몽\",\"키위\"}\n",
        "fruit_wholesale = {\"바나나\",\"사과\",\"오렌지\",\"배\",\"딸기\"}\n",
        "\n",
        "fruit_retail_wholesale = fruit_retail & fruit_wholesale\n",
        "#fruit_retail_wholesale = set.intersection(fruit_retail,fruit_wholesale)\n",
        "#fruit_retail_wholesale = fruit_retail.intersection(fruit_wholesale)\n",
        "print(\"소매 과일과 도매 과일의 교집합 :\",fruit_retail_wholesale)\n",
        "\n",
        "fruit_retail_only = fruit_retail - fruit_wholesale\n",
        "print(\"소매 과일과 도매 과일의 차집합 :\",fruit_retail_only)\n",
        "\n",
        "fruit_wholesale_only = set.difference(fruit_wholesale,fruit_retail)\n",
        "#fruit_wholesale_only = fruit_wholesale.difference(fruit_retail)\n",
        "print(\"도매 과일과 소매 과일의 차집합 :\",fruit_wholesale_only)\n",
        "\n",
        "fruit_retail_only_wholesale_only = fruit_retail ^ fruit_wholesale\n",
        "#fruit_retail_only_wholesale_only = set.symmetric_difference(fruit_retail,fruit_wholesale)\n",
        "#fruit_retail_only_wholesale_only = fruit_retail.symmetric_difference(fruit_wholesale)\n",
        "print(\"소매 과일과 도매 과일의 대칭차집합 :\",fruit_retail_only_wholesale_only)"
      ],
      "metadata": {
        "colab": {
          "base_uri": "https://localhost:8080/"
        },
        "id": "tqNuCFy9lEM0",
        "outputId": "268be929-880e-415f-b5bb-c62a48a0b02d"
      },
      "execution_count": null,
      "outputs": [
        {
          "output_type": "stream",
          "name": "stdout",
          "text": [
            "소매 과일과 도매 과일의 교집합 : {'오렌지', '바나나', '사과'}\n",
            "소매 과일과 도매 과일의 차집합 : {'키위', '자몽'}\n",
            "도매 과일과 소매 과일의 차집합 : {'딸기', '배'}\n",
            "소매 과일과 도매 과일의 대칭차집합 : {'자몽', '딸기', '키위', '배'}\n"
          ]
        }
      ]
    },
    {
      "cell_type": "code",
      "source": [
        "fruit_retail = {\"바나나\",\"사과\",\"오렌지\",\"자몽\",\"키위\"}\n",
        "fruit_wholesale = {\"바나나\",\"사과\",\"오렌지\",\"배\",\"딸기\"}\n",
        "fruit_set = fruit_retail | fruit_wholesale\n",
        "\n",
        "print(\"소매 과일이 과일에 포함되는가?\",fruit_retail <= fruit_set)\n",
        "print(\"소매 과일이 과일에 포함되는가?\",fruit_retail.issubset(fruit_set))\n",
        "\n",
        "print(\"소매 과일이 과일의 진부분 집합인가?\",fruit_retail < fruit_set)\n",
        "\n",
        "print(\"과일이 도매 과일을 포함하는가?\",fruit_set >= fruit_wholesale)\n",
        "print(\"과일이 도매 과일을 포함하는가?\",fruit_set.issuperset(fruit_wholesale))\n",
        "\n",
        "print(\"과일이 소매 과일의 진상위 집합인가?\",fruit_set > fruit_retail)\n",
        "print(\"소매 과일이 소매 과일의 진상위 집합인가?\",fruit_retail > fruit_retail)"
      ],
      "metadata": {
        "colab": {
          "base_uri": "https://localhost:8080/"
        },
        "id": "q4GDNCIWgy7G",
        "outputId": "76c3d987-6321-420e-fd36-219c700f6029"
      },
      "execution_count": null,
      "outputs": [
        {
          "output_type": "stream",
          "name": "stdout",
          "text": [
            "소매 과일이 과일에 포함되는가? True\n",
            "소매 과일이 과일에 포함되는가? True\n",
            "소매 과일이 과일의 진부분 집합인가? True\n",
            "과일이 도매 과일을 포함하는가? True\n",
            "과일이 도매 과일을 포함하는가? True\n",
            "과일이 소매 과일의 진상위 집합인가? True\n",
            "소매 과일이 소매 과일의 진상위 집합인가? False\n"
          ]
        }
      ]
    },
    {
      "cell_type": "code",
      "source": [
        "fruit_retail = {\"바나나\",\"사과\",\"오렌지\",\"자몽\",\"키위\"}\n",
        "fruit_wholesale = {\"바나나\",\"사과\",\"오렌지\",\"배\",\"딸기\"}\n",
        "\n",
        "print(\"소매 과일과 도매 과일이 같은 집합인가?\",fruit_retail == fruit_wholesale)\n",
        "print(\"소매 과일과 소매 과일이 같은 집합인가?\",fruit_retail == fruit_retail)\n",
        "\n",
        "print(\"소매 과일과 도매 과일이 다른 집합인가?\",fruit_retail != fruit_wholesale)\n",
        "print(\"소매 과일과 소매 과일이 다른 집합인가?\",fruit_retail != fruit_retail)"
      ],
      "metadata": {
        "colab": {
          "base_uri": "https://localhost:8080/"
        },
        "id": "r8P-_Tk3nvS8",
        "outputId": "be6ad84b-e455-4872-b343-beda5a825f61"
      },
      "execution_count": null,
      "outputs": [
        {
          "output_type": "stream",
          "name": "stdout",
          "text": [
            "소매 과일과 도매 과일이 같은 집합인가? False\n",
            "소매 과일과 소매 과일이 같은 집합인가? True\n",
            "소매 과일과 도매 과일이 다른 집합인가? True\n",
            "소매 과일과 소매 과일이 다른 집합인가? False\n"
          ]
        }
      ]
    },
    {
      "cell_type": "code",
      "source": [
        "fruit_retail = {\"바나나\",\"사과\",\"오렌지\",\"자몽\",\"키위\"}\n",
        "fruit_wholesale = {\"바나나\",\"사과\",\"오렌지\",\"배\",\"딸기\"}\n",
        "\n",
        "fruit_retail_only = fruit_retail - fruit_wholesale\n",
        "fruit_wholesale_only = set.difference(fruit_wholesale,fruit_retail)\n",
        "\n",
        "print(\"소매 과일과 도매 과일이 겹치지 않나?\",fruit_retail.isdisjoint(fruit_wholesale))\n",
        "print(\"소매 과일과 도매 과일간의 차집합들이 겹치지 않나?\",fruit_retail_only.isdisjoint(fruit_wholesale_only))"
      ],
      "metadata": {
        "colab": {
          "base_uri": "https://localhost:8080/"
        },
        "id": "QorPybwLooPV",
        "outputId": "61d7d2d7-c7e0-46fc-9cc9-37b57adbcd4f"
      },
      "execution_count": null,
      "outputs": [
        {
          "output_type": "stream",
          "name": "stdout",
          "text": [
            "소매 과일과 도매 과일이 겹치지 않나? False\n",
            "소매 과일과 도매 과일간의 차집합들이 겹치지 않나? True\n"
          ]
        }
      ]
    },
    {
      "cell_type": "code",
      "source": [
        "import matplotlib.pyplot as plt\n",
        "import matplotlib_venn as venn\n",
        "\n",
        "fruit_retail = {\"바나나\",\"사과\",\"오렌지\",\"자몽\",\"키위\"}\n",
        "fruit_wholesale = {\"바나나\",\"사과\",\"오렌지\",\"배\",\"딸기\"}\n",
        "fruitSpecialoffer = {\"사과\",\"오렌지\",\"감귤\",\"천혜향\"}\n",
        "\n",
        "plt.subplot(1,2,1)\n",
        "plt.title('Venn Diagram(2 Sets)')\n",
        "venn.venn2(subsets=[fruit_retail,fruit_wholesale],set_labels=('Retail','Wholesale'))\n",
        "venn.venn2_circles(subsets=[fruit_retail,fruit_wholesale])\n",
        "\n",
        "plt.subplot(1,2,2)\n",
        "plt.title('Venn Diagram(3 Sets)')\n",
        "venn.venn3(subsets=[fruit_retail,fruit_wholesale,fruitSpecialoffer],set_labels=('Retail','Wholesale','Special Offer'))\n",
        "venn.venn3_circles(subsets=[fruit_retail,fruit_wholesale,fruitSpecialoffer],linestyle='dotted')\n",
        "\n",
        "plt.show()"
      ],
      "metadata": {
        "colab": {
          "base_uri": "https://localhost:8080/",
          "height": 207
        },
        "id": "qhhAw6ntXcEt",
        "outputId": "2af046a4-51ad-45e1-fce3-815414cdc660"
      },
      "execution_count": null,
      "outputs": [
        {
          "output_type": "display_data",
          "data": {
            "text/plain": [
              "<Figure size 432x288 with 2 Axes>"
            ],
            "image/png": "[encoded data removed]"
          },
          "metadata": {}
        }
      ]
    },
    {
      "cell_type": "code",
      "source": [
        "print(list(fruit_retail))\n",
        "print(np.array(fruit_wholesale))\n",
        "print(np.array(list(fruit_wholesale)))"
      ],
      "metadata": {
        "colab": {
          "base_uri": "https://localhost:8080/"
        },
        "id": "9zmWNpl4zkaj",
        "outputId": "5e844c3a-2e88-4164-a7cc-f664e965ce72"
      },
      "execution_count": null,
      "outputs": [
        {
          "output_type": "stream",
          "name": "stdout",
          "text": [
            "['바나나', '오렌지', '키위', '자몽', '사과']\n",
            "{'바나나', '오렌지', '배', '사과', '딸기'}\n",
            "['바나나' '오렌지' '배' '사과' '딸기']\n"
          ]
        }
      ]
    },
    {
      "cell_type": "markdown",
      "source": [
        "딕셔너리"
      ],
      "metadata": {
        "id": "j-IqSimmER2r"
      }
    },
    {
      "cell_type": "code",
      "source": [
        "subjects = ['국어','영어','수학']\n",
        "scores = [95,100,90]\n",
        "\n",
        "for i in range(len(subjects)):\n",
        "  print(subjects[i],scores[i])"
      ],
      "metadata": {
        "colab": {
          "base_uri": "https://localhost:8080/"
        },
        "id": "NNBJt2T3lTfn",
        "outputId": "6f56121f-a151-4fa5-f338-f3870e45ecdc"
      },
      "execution_count": null,
      "outputs": [
        {
          "output_type": "stream",
          "name": "stdout",
          "text": [
            "국어 95\n",
            "영어 100\n",
            "수학 90\n"
          ]
        }
      ]
    },
    {
      "cell_type": "code",
      "source": [
        "subjects = ['국어','영어','수학','과탐']\n",
        "scores = [95,100,90]\n",
        "\n",
        "for i in range(len(subjects)):\n",
        "  print(subjects[i],scores[i])"
      ],
      "metadata": {
        "colab": {
          "base_uri": "https://localhost:8080/",
          "height": 269
        },
        "id": "hyrM5m8rmvrH",
        "outputId": "e5c0e696-6029-4ce9-f367-530b02a689a6"
      },
      "execution_count": null,
      "outputs": [
        {
          "output_type": "stream",
          "name": "stdout",
          "text": [
            "국어 95\n",
            "영어 100\n",
            "수학 90\n"
          ]
        },
        {
          "output_type": "error",
          "ename": "IndexError",
          "evalue": "ignored",
          "traceback": [
            "\u001b[0;31m---------------------------------------------------------------------------\u001b[0m",
            "\u001b[0;31mIndexError\u001b[0m                                Traceback (most recent call last)",
            "\u001b[0;32m<ipython-input-6-0364f3771d23>\u001b[0m in \u001b[0;36m<module>\u001b[0;34m\u001b[0m\n\u001b[1;32m      3\u001b[0m \u001b[0;34m\u001b[0m\u001b[0m\n\u001b[1;32m      4\u001b[0m \u001b[0;32mfor\u001b[0m \u001b[0mi\u001b[0m \u001b[0;32min\u001b[0m \u001b[0mrange\u001b[0m\u001b[0;34m(\u001b[0m\u001b[0mlen\u001b[0m\u001b[0;34m(\u001b[0m\u001b[0msubjects\u001b[0m\u001b[0;34m)\u001b[0m\u001b[0;34m)\u001b[0m\u001b[0;34m:\u001b[0m\u001b[0;34m\u001b[0m\u001b[0;34m\u001b[0m\u001b[0m\n\u001b[0;32m----> 5\u001b[0;31m     \u001b[0mprint\u001b[0m\u001b[0;34m(\u001b[0m\u001b[0msubjects\u001b[0m\u001b[0;34m[\u001b[0m\u001b[0mi\u001b[0m\u001b[0;34m]\u001b[0m\u001b[0;34m,\u001b[0m\u001b[0mscores\u001b[0m\u001b[0;34m[\u001b[0m\u001b[0mi\u001b[0m\u001b[0;34m]\u001b[0m\u001b[0;34m)\u001b[0m\u001b[0;34m\u001b[0m\u001b[0;34m\u001b[0m\u001b[0m\n\u001b[0m",
            "\u001b[0;31mIndexError\u001b[0m: list index out of range"
          ]
        }
      ]
    },
    {
      "cell_type": "code",
      "source": [
        "subjects = ['국어','영어','수학']\n",
        "scores = [95,100,90,80]\n",
        "\n",
        "for i in range(len(subjects)):\n",
        "  print(subjects[i],scores[i])"
      ],
      "metadata": {
        "colab": {
          "base_uri": "https://localhost:8080/"
        },
        "id": "dp1D9EBAnayk",
        "outputId": "a576ec0b-5d4e-4036-a391-6acc87bd5ab8"
      },
      "execution_count": null,
      "outputs": [
        {
          "output_type": "stream",
          "name": "stdout",
          "text": [
            "국어 95\n",
            "영어 100\n",
            "수학 90\n"
          ]
        }
      ]
    },
    {
      "cell_type": "code",
      "source": [
        "scores = {'국어':95,'영어':100,'수학':90,'과탐':80}\n",
        "\n",
        "for key, value in scores.items():\n",
        "  print(key, value)"
      ],
      "metadata": {
        "colab": {
          "base_uri": "https://localhost:8080/"
        },
        "id": "AnEgurkYphHZ",
        "outputId": "9168e5d8-b9c8-4086-8b4d-3c6e4ed11988"
      },
      "execution_count": null,
      "outputs": [
        {
          "output_type": "stream",
          "name": "stdout",
          "text": [
            "국어 95\n",
            "영어 100\n",
            "수학 90\n",
            "과탐 80\n"
          ]
        }
      ]
    },
    {
      "cell_type": "code",
      "source": [
        "for key in scores.keys():\n",
        "  print(key)\n",
        "\n",
        "for value in scores.values():\n",
        "  print(value)"
      ],
      "metadata": {
        "colab": {
          "base_uri": "https://localhost:8080/"
        },
        "id": "q-LZdED4VXQ0",
        "outputId": "cc62f2cb-501a-46b2-9f07-651c1cc9a5c1"
      },
      "execution_count": null,
      "outputs": [
        {
          "output_type": "stream",
          "name": "stdout",
          "text": [
            "국어\n",
            "영어\n",
            "수학\n",
            "과탐\n",
            "95\n",
            "100\n",
            "90\n",
            "80\n"
          ]
        }
      ]
    },
    {
      "cell_type": "code",
      "source": [
        "scores = {}\n",
        "print(type(scores))"
      ],
      "metadata": {
        "colab": {
          "base_uri": "https://localhost:8080/"
        },
        "id": "qhJ3sZxEemt_",
        "outputId": "d1274f0e-f5b6-4062-bf6e-f89c651b2d37"
      },
      "execution_count": null,
      "outputs": [
        {
          "output_type": "stream",
          "name": "stdout",
          "text": [
            "<class 'dict'>\n"
          ]
        }
      ]
    },
    {
      "cell_type": "code",
      "source": [
        "print(\"요소 추가전 scores 사전 변수 :\",scores)\n",
        "scores['국어'] = 95\n",
        "scores['영어'] = 100\n",
        "scores['수학'] = 90\n",
        "scores['과탐'] = 80\n",
        "print(\"요소 추가후 scores 사전 변수 :\",scores)"
      ],
      "metadata": {
        "colab": {
          "base_uri": "https://localhost:8080/"
        },
        "id": "AAYQvCnYfEdL",
        "outputId": "e233fa3d-7582-46d8-8c30-e540a5840ed9"
      },
      "execution_count": null,
      "outputs": [
        {
          "output_type": "stream",
          "name": "stdout",
          "text": [
            "요소 추가전 scores 사전 변수 : {}\n",
            "요소 추가후 scores 사전 변수 : {'국어': 95, '영어': 100, '수학': 90, '과탐': 80}\n"
          ]
        }
      ]
    },
    {
      "cell_type": "code",
      "source": [
        "dict_variable = {}\n",
        "print(\"요소 추가전 dict_variable 사전 변수 :\",dict_variable)\n",
        "dict_variable[1] = \"홍길동\"\n",
        "dict_variable[2] = \"유관순\"\n",
        "dict_variable[3] = \"강감찬\"\n",
        "print(\"요소 추가후 dict_variable 사전 변수 :\",dict_variable)"
      ],
      "metadata": {
        "colab": {
          "base_uri": "https://localhost:8080/"
        },
        "id": "nZAGRmj4g8I8",
        "outputId": "42df56ad-0d80-4dc9-c245-ca3403a93184"
      },
      "execution_count": null,
      "outputs": [
        {
          "output_type": "stream",
          "name": "stdout",
          "text": [
            "요소 추가전 dictVariable 사전 변수 : {}\n",
            "요소 추가후 dictVariable 사전 변수 : {1: '홍길동', 2: '유관순', 3: '강감찬'}\n"
          ]
        }
      ]
    },
    {
      "cell_type": "code",
      "source": [
        "print(\"국어 성적 :\",scores['국어'])\n",
        "scores['국어'] = 99\n",
        "print(\"국어 성적 :\",scores['국어'])\n",
        "print(\"요소 변경후 scores 사전 변수 :\",scores)"
      ],
      "metadata": {
        "colab": {
          "base_uri": "https://localhost:8080/"
        },
        "id": "hMKBfYgOiEpk",
        "outputId": "3afc2de0-8b4e-45a4-999c-1138c647d4f4"
      },
      "execution_count": null,
      "outputs": [
        {
          "output_type": "stream",
          "name": "stdout",
          "text": [
            "국어 성적 : 95\n",
            "국어 성적 : 99\n",
            "요소 변경후 scores 사전 변수 : {'국어': 99, '영어': 100, '수학': 90, '과탐': 80}\n"
          ]
        }
      ]
    },
    {
      "cell_type": "code",
      "source": [
        "print('국어가 scores 변수에 있나?','국어' in scores)\n",
        "print('사탐이 scores 변수에 있나?','사탐' in scores)"
      ],
      "metadata": {
        "colab": {
          "base_uri": "https://localhost:8080/"
        },
        "id": "FRZHMGwqpF4D",
        "outputId": "45120c71-3b5f-45fd-f965-2c42b9b5037f"
      },
      "execution_count": null,
      "outputs": [
        {
          "output_type": "stream",
          "name": "stdout",
          "text": [
            "국어가 scores 변수에 있나? True\n",
            "사탐이 scores 변수에 있나? False\n"
          ]
        }
      ]
    },
    {
      "cell_type": "code",
      "source": [
        "del scores['국어']\n",
        "print(\"요소 삭제후 scores 사전 변수 :\",scores)"
      ],
      "metadata": {
        "colab": {
          "base_uri": "https://localhost:8080/"
        },
        "id": "0p51XeFPjHa6",
        "outputId": "e2c93069-6f99-444a-9506-0a846ebc67f4"
      },
      "execution_count": null,
      "outputs": [
        {
          "output_type": "stream",
          "name": "stdout",
          "text": [
            "요소 삭제후 scores 사전 변수 : {'영어': 100, '수학': 90, '과탐': 80}\n"
          ]
        }
      ]
    },
    {
      "cell_type": "code",
      "source": [
        "subjects_input = ['국어','영어','수학','과탐']\n",
        "scores_input = [95,100,90,80]\n",
        "\n",
        "zipped_scores = zip(subjects_input,scores_input)\n",
        "print(type(zipped_scores))\n",
        "print(\"입력받은 과목과 성적을 zip() 함수로 병합한 결과 :\",list(zipped_scores))\n",
        "scores = dict(zip(subjects_input,scores_input))\n",
        "print(\"입력받은 과목과 성적을 사전 변수로 변환한 결과 :\",scores)"
      ],
      "metadata": {
        "colab": {
          "base_uri": "https://localhost:8080/"
        },
        "id": "QKl_6A65nX3Y",
        "outputId": "d5b8946e-4f9a-4981-eeb2-59725778af5f"
      },
      "execution_count": null,
      "outputs": [
        {
          "output_type": "stream",
          "name": "stdout",
          "text": [
            "<class 'zip'>\n",
            "입력받은 과목과 성적을 zip() 함수로 병합한 결과 : [('국어', 95), ('영어', 100), ('수학', 90), ('과탐', 80)]\n",
            "입력받은 과목과 성적을 사전 변수로 변환한 결과 : {'국어': 95, '영어': 100, '수학': 90, '과탐': 80}\n"
          ]
        }
      ]
    },
    {
      "cell_type": "code",
      "source": [
        "subjects_input = ['국어','영어','수학','과탐']\n",
        "scores_input = [95,100,90,80]\n",
        "\n",
        "zipped_scores = zip(subjects_input,scores_input)\n",
        "print(type(zipped_scores))\n",
        "print(\"입력받은 과목과 성적을 zip() 함수로 병합한 결과 :\",list(zipped_scores))\n",
        "scores = dict(zipped_scores)\n",
        "print(\"입력받은 과목과 성적을 사전 변수로 변환한 결과 :\",scores)"
      ],
      "metadata": {
        "colab": {
          "base_uri": "https://localhost:8080/"
        },
        "id": "97i_HDP1kEC_",
        "outputId": "6141a7b4-b0d7-4f96-9325-83b10a5d5264"
      },
      "execution_count": null,
      "outputs": [
        {
          "output_type": "stream",
          "name": "stdout",
          "text": [
            "<class 'zip'>\n",
            "입력받은 과목과 성적을 zip() 함수로 병합한 결과 : [('국어', 95), ('영어', 100), ('수학', 90), ('과탐', 80)]\n",
            "입력받은 과목과 성적을 사전 변수로 변환한 결과 : {}\n"
          ]
        }
      ]
    },
    {
      "cell_type": "code",
      "source": [
        "subjects_input = ['국어','영어','수학','과탐']\n",
        "scores_input = [95,100,90,80]\n",
        "\n",
        "zipped_scores = zip(subjects_input,scores_input)\n",
        "print(type(zipped_scores))\n",
        "#print(\"입력받은 과목과 성적을 zip() 함수로 병합한 결과 :\",list(zipped_scores))\n",
        "scores = dict(zipped_scores)\n",
        "print(\"입력받은 과목과 성적을 사전 변수로 변환한 결과 :\",scores)"
      ],
      "metadata": {
        "colab": {
          "base_uri": "https://localhost:8080/"
        },
        "id": "UwHU9F5lE0JG",
        "outputId": "caf379b9-16af-409c-94f1-be0f03759910"
      },
      "execution_count": null,
      "outputs": [
        {
          "output_type": "stream",
          "name": "stdout",
          "text": [
            "<class 'zip'>\n",
            "입력받은 과목과 성적을 사전 변수로 변환한 결과 : {'국어': 95, '영어': 100, '수학': 90, '과탐': 80}\n"
          ]
        }
      ]
    },
    {
      "cell_type": "code",
      "source": [
        "subjects_input = ['국어','영어','수학','과탐']\n",
        "scores_input = [95,100,90,80]\n",
        "\n",
        "zipped_scores = zip(subjects_input,scores_input)\n",
        "print('type(zipped_scores) :',type(zipped_scores))\n",
        "print(\"입력받은 과목과 성적을 zip() 함수로 병합한 결과 :\",list(zipped_scores))\n",
        "enumerated_scores = enumerate(scores_input)\n",
        "print('type(enumerated_scores) :',type(enumerated_scores))\n",
        "print(\"성적을 enumerate() 함수로 나열한 결과 :\",list(enumerated_scores))\n",
        "enumeratedzipped_scores = enumerate(zip(subjects_input,scores_input))\n",
        "#print('type(enumeratedzipped_scores) :',type(enumeratedzipped_scores))\n",
        "print(\"zip() 병합후 enumerate()로 나열한 성적 :\",list(enumeratedzipped_scores))"
      ],
      "metadata": {
        "colab": {
          "base_uri": "https://localhost:8080/"
        },
        "id": "908RJMyWbGaI",
        "outputId": "f1b6eacc-5ef0-40ab-b883-a6c1a8cd9a22"
      },
      "execution_count": null,
      "outputs": [
        {
          "output_type": "stream",
          "name": "stdout",
          "text": [
            "type(zipped_scores) : <class 'zip'>\n",
            "입력받은 과목과 성적을 zip() 함수로 병합한 결과 : [('국어', 95), ('영어', 100), ('수학', 90), ('과탐', 80)]\n",
            "type(enumerated_scores) : <class 'enumerate'>\n",
            "성적을 enumerate() 함수로 나열한 결과 : [(0, 95), (1, 100), (2, 90), (3, 80)]\n",
            "zip() 병합후 enumerate()로 나열한 성적 : [(0, ('국어', 95)), (1, ('영어', 100)), (2, ('수학', 90)), (3, ('과탐', 80))]\n"
          ]
        }
      ]
    },
    {
      "cell_type": "code",
      "source": [
        "for index, (subject, score) in enumerate(zip(subjects_input,scores_input)):\n",
        "  print('인덱스 :', index, ', 과목 :', subject, ', 성적 :', score)"
      ],
      "metadata": {
        "colab": {
          "base_uri": "https://localhost:8080/"
        },
        "id": "GS3bh4j0hQr8",
        "outputId": "2ffd3096-f0d9-4b39-d77f-69986e1284c1"
      },
      "execution_count": null,
      "outputs": [
        {
          "output_type": "stream",
          "name": "stdout",
          "text": [
            "인덱스 : 0 , 과목 : 국어 , 성적 : 95\n",
            "인덱스 : 1 , 과목 : 영어 , 성적 : 100\n",
            "인덱스 : 2 , 과목 : 수학 , 성적 : 90\n",
            "인덱스 : 3 , 과목 : 과탐 , 성적 : 80\n"
          ]
        }
      ]
    },
    {
      "cell_type": "code",
      "source": [
        "subject_codes = ['Kor','Eng','Math','Sci']\n",
        "score_grades = ['A','A+','A','B']\n",
        "\n",
        "zipped_twice_scores = zip(zip(subject_codes,score_grades),zip(subjects_input,scores_input))\n",
        "print(list(zipped_twice_scores))\n",
        "\n",
        "for (subject_code,score_grade), (subject, score) in zip(zip(subject_codes,score_grades),zip(subjects_input,scores_input)):\n",
        "  print('과목코드 :', subject_code, ', 성적등급 :', score_grade, ', 과목 :', subject, ', 성적 :', score)"
      ],
      "metadata": {
        "colab": {
          "base_uri": "https://localhost:8080/"
        },
        "id": "2zJNuveUiyDi",
        "outputId": "a2151d0b-524a-45d7-8431-9284db4e66b5"
      },
      "execution_count": null,
      "outputs": [
        {
          "output_type": "stream",
          "name": "stdout",
          "text": [
            "[(('Kor', 'A'), ('국어', 95)), (('Eng', 'A+'), ('영어', 100)), (('Math', 'A'), ('수학', 90)), (('Sci', 'B'), ('과탐', 80))]\n",
            "과목코드 : Kor , 성적등급 : A , 과목 : 국어 , 성적 : 95\n",
            "과목코드 : Eng , 성적등급 : A+ , 과목 : 영어 , 성적 : 100\n",
            "과목코드 : Math , 성적등급 : A , 과목 : 수학 , 성적 : 90\n",
            "과목코드 : Sci , 성적등급 : B , 과목 : 과탐 , 성적 : 80\n"
          ]
        }
      ]
    }
  ]
}