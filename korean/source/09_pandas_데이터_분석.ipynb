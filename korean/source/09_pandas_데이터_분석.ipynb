{
  "nbformat": 4,
  "nbformat_minor": 0,
  "metadata": {
    "colab": {
      "provenance": [],
      "authorship_tag": "ABX9TyM+dQczTv34oRZF553SarIq",
      "include_colab_link": true
    },
    "kernelspec": {
      "name": "python3",
      "display_name": "Python 3"
    },
    "language_info": {
      "name": "python"
    }
  },
  "cells": [
    {
      "cell_type": "markdown",
      "metadata": {
        "id": "view-in-github",
        "colab_type": "text"
      },
      "source": [
        "<a href=\"https://colab.research.google.com/github/yongjaeahn/python_coding/blob/main/korean/source/09_pandas_%EB%8D%B0%EC%9D%B4%ED%84%B0_%EB%B6%84%EC%84%9D.ipynb\" target=\"_parent\"><img src=\"https://colab.research.google.com/assets/colab-badge.svg\" alt=\"Open In Colab\"/></a>"
      ]
    },
    {
      "cell_type": "markdown",
      "source": [
        "\t형변환으로 이해하는 pandas"
      ],
      "metadata": {
        "id": "GJuH_PwnzN51"
      }
    },
    {
      "cell_type": "markdown",
      "source": [
        "데이터프레임"
      ],
      "metadata": {
        "id": "rdVwEYoDod2H"
      }
    },
    {
      "cell_type": "code",
      "source": [
        "import numpy as np\n",
        "import pandas as pd\n",
        "\n",
        "array2d = np.array([[100,90,95,100,80],[95,95,90,100,85]])\n",
        "print('numpy 배열\\n',array2d)\n",
        "\n",
        "pandas_dataframe = pd.DataFrame(array2d)\n",
        "print('pandas 데이터프레임 from numpy 배열\\n',pandas_dataframe)"
      ],
      "metadata": {
        "colab": {
          "base_uri": "https://localhost:8080/"
        },
        "id": "VsZ5FzbfgTuF",
        "outputId": "a7b2ad79-de88-4d0b-8842-2aa2132c74aa"
      },
      "execution_count": null,
      "outputs": [
        {
          "output_type": "stream",
          "name": "stdout",
          "text": [
            "numpy 배열\n",
            " [[100  90  95 100  80]\n",
            " [ 95  95  90 100  85]]\n",
            "pandas 데이터프레임 from numpy 배열\n",
            "      0   1   2    3   4\n",
            "0  100  90  95  100  80\n",
            "1   95  95  90  100  85\n"
          ]
        }
      ]
    },
    {
      "cell_type": "code",
      "execution_count": null,
      "metadata": {
        "colab": {
          "base_uri": "https://localhost:8080/"
        },
        "id": "UuKxq4bHbWcq",
        "outputId": "1176c8a8-2b4d-4a45-ff1b-5f3d4ed38d57"
      },
      "outputs": [
        {
          "output_type": "stream",
          "name": "stdout",
          "text": [
            "dict: {'국어': [100, 95], '영어': [90, 95], '수학': [95, 90], '사탐': [100, 100], '과탐': [80, 85]}\n",
            "pandas 데이터프레임 from dict\n",
            "     국어  영어  수학   사탐  과탐\n",
            "0  100  90  95  100  80\n",
            "1   95  95  90  100  85\n"
          ]
        }
      ],
      "source": [
        "import pandas as pd\n",
        "\n",
        "dict_var = {'국어':[100,95],'영어':[90,95],'수학':[95,90],'사탐':[100,100],'과탐':[80,85]}\n",
        "print('dict:',dict_var)\n",
        "\n",
        "pandas_dataframe = pd.DataFrame(dict_var)\n",
        "print('pandas 데이터프레임 from dict\\n',pandas_dataframe)"
      ]
    },
    {
      "cell_type": "code",
      "source": [
        "import numpy as np\n",
        "import pandas as pd\n",
        "\n",
        "dict_var = {'이름':['홍길동','강감찬'],'국어':[100,95],'영어':[90,95]}\n",
        "\n",
        "pandas_dataframe = pd.DataFrame(dict_var)\n",
        "print('pandas 데이터프레임\\n',pandas_dataframe)\n",
        "print('이름',pandas_dataframe['이름'][0],'의 자료형:\\t',type(pandas_dataframe['이름'][0]))\n",
        "print('성적',pandas_dataframe['국어'][0],'의 자료형:\\t',type(pandas_dataframe['국어'][0]))"
      ],
      "metadata": {
        "colab": {
          "base_uri": "https://localhost:8080/"
        },
        "id": "sqcvz8bJ2mZC",
        "outputId": "5cdeabe2-c2f6-4916-d0a8-0f3dffe3fa21"
      },
      "execution_count": null,
      "outputs": [
        {
          "output_type": "stream",
          "name": "stdout",
          "text": [
            "pandas 데이터프레임\n",
            "     이름   국어  영어\n",
            "0  홍길동  100  90\n",
            "1  강감찬   95  95\n",
            "이름 홍길동 의 자료형:\t <class 'str'>\n",
            "성적 100 의 자료형:\t <class 'numpy.int64'>\n"
          ]
        }
      ]
    },
    {
      "cell_type": "markdown",
      "source": [
        "시리즈"
      ],
      "metadata": {
        "id": "Wxy_4mg8okUH"
      }
    },
    {
      "cell_type": "code",
      "source": [
        "print('pandas 데이터프레임\\n',pandas_dataframe)\n",
        "print('pandas 열시리즈/열벡터')\n",
        "print(pandas_dataframe['이름'])\n",
        "print(pandas_dataframe['국어'])"
      ],
      "metadata": {
        "id": "IsomAVrTvjqu",
        "colab": {
          "base_uri": "https://localhost:8080/"
        },
        "outputId": "debe0b8a-be05-4858-ce6f-92cbb707641b"
      },
      "execution_count": null,
      "outputs": [
        {
          "output_type": "stream",
          "name": "stdout",
          "text": [
            "pandas 데이터프레임\n",
            "     이름   국어  영어\n",
            "0  홍길동  100  90\n",
            "1  강감찬   95  95\n",
            "pandas 열시리즈/열벡터\n",
            "0    홍길동\n",
            "1    강감찬\n",
            "Name: 이름, dtype: object\n",
            "0    100\n",
            "1     95\n",
            "Name: 국어, dtype: int64\n"
          ]
        }
      ]
    },
    {
      "cell_type": "code",
      "source": [
        "print(type(pandas_dataframe['이름']))\n",
        "print(type(pandas_dataframe['국어']))"
      ],
      "metadata": {
        "colab": {
          "base_uri": "https://localhost:8080/"
        },
        "id": "RCLBnCcIkd99",
        "outputId": "5b5812fc-0b7b-4ba8-e8ae-0a3db3be393e"
      },
      "execution_count": null,
      "outputs": [
        {
          "output_type": "stream",
          "name": "stdout",
          "text": [
            "<class 'pandas.core.series.Series'>\n",
            "<class 'pandas.core.series.Series'>\n"
          ]
        }
      ]
    },
    {
      "cell_type": "code",
      "source": [
        "print('pandas 데이터프레임\\n',pandas_dataframe)\n",
        "print('pandas 행시리즈/행벡터')\n",
        "print(pandas_dataframe[:,0])\n",
        "print(pandas_dataframe[:,1])"
      ],
      "metadata": {
        "colab": {
          "base_uri": "https://localhost:8080/",
          "height": 565
        },
        "id": "d1-PFehS6wNL",
        "outputId": "d2ae1188-ba30-4959-e793-4fa6a9a98ca8"
      },
      "execution_count": null,
      "outputs": [
        {
          "output_type": "stream",
          "name": "stdout",
          "text": [
            "pandas 데이터프레임\n",
            "     이름   국어  영어\n",
            "0  홍길동  100  90\n",
            "1  강감찬   95  95\n",
            "pandas 행시리즈/행벡터\n"
          ]
        },
        {
          "output_type": "error",
          "ename": "InvalidIndexError",
          "evalue": "ignored",
          "traceback": [
            "\u001b[0;31m---------------------------------------------------------------------------\u001b[0m",
            "\u001b[0;31mTypeError\u001b[0m                                 Traceback (most recent call last)",
            "\u001b[0;32m/usr/local/lib/python3.10/dist-packages/pandas/core/indexes/base.py\u001b[0m in \u001b[0;36mget_loc\u001b[0;34m(self, key, method, tolerance)\u001b[0m\n\u001b[1;32m   3801\u001b[0m             \u001b[0;32mtry\u001b[0m\u001b[0;34m:\u001b[0m\u001b[0;34m\u001b[0m\u001b[0;34m\u001b[0m\u001b[0m\n\u001b[0;32m-> 3802\u001b[0;31m                 \u001b[0;32mreturn\u001b[0m \u001b[0mself\u001b[0m\u001b[0;34m.\u001b[0m\u001b[0m_engine\u001b[0m\u001b[0;34m.\u001b[0m\u001b[0mget_loc\u001b[0m\u001b[0;34m(\u001b[0m\u001b[0mcasted_key\u001b[0m\u001b[0;34m)\u001b[0m\u001b[0;34m\u001b[0m\u001b[0;34m\u001b[0m\u001b[0m\n\u001b[0m\u001b[1;32m   3803\u001b[0m             \u001b[0;32mexcept\u001b[0m \u001b[0mKeyError\u001b[0m \u001b[0;32mas\u001b[0m \u001b[0merr\u001b[0m\u001b[0;34m:\u001b[0m\u001b[0;34m\u001b[0m\u001b[0;34m\u001b[0m\u001b[0m\n",
            "\u001b[0;32m/usr/local/lib/python3.10/dist-packages/pandas/_libs/index.pyx\u001b[0m in \u001b[0;36mpandas._libs.index.IndexEngine.get_loc\u001b[0;34m()\u001b[0m\n",
            "\u001b[0;32m/usr/local/lib/python3.10/dist-packages/pandas/_libs/index.pyx\u001b[0m in \u001b[0;36mpandas._libs.index.IndexEngine.get_loc\u001b[0;34m()\u001b[0m\n",
            "\u001b[0;31mTypeError\u001b[0m: '(slice(None, None, None), 0)' is an invalid key",
            "\nDuring handling of the above exception, another exception occurred:\n",
            "\u001b[0;31mInvalidIndexError\u001b[0m                         Traceback (most recent call last)",
            "\u001b[0;32m<ipython-input-13-e3bbfbde3a10>\u001b[0m in \u001b[0;36m<cell line: 3>\u001b[0;34m()\u001b[0m\n\u001b[1;32m      1\u001b[0m \u001b[0mprint\u001b[0m\u001b[0;34m(\u001b[0m\u001b[0;34m'pandas 데이터프레임\\n'\u001b[0m\u001b[0;34m,\u001b[0m\u001b[0mpandas_dataframe\u001b[0m\u001b[0;34m)\u001b[0m\u001b[0;34m\u001b[0m\u001b[0;34m\u001b[0m\u001b[0m\n\u001b[1;32m      2\u001b[0m \u001b[0mprint\u001b[0m\u001b[0;34m(\u001b[0m\u001b[0;34m'pandas 행시리즈/행벡터'\u001b[0m\u001b[0;34m)\u001b[0m\u001b[0;34m\u001b[0m\u001b[0;34m\u001b[0m\u001b[0m\n\u001b[0;32m----> 3\u001b[0;31m \u001b[0mprint\u001b[0m\u001b[0;34m(\u001b[0m\u001b[0mpandas_dataframe\u001b[0m\u001b[0;34m[\u001b[0m\u001b[0;34m:\u001b[0m\u001b[0;34m,\u001b[0m\u001b[0;36m0\u001b[0m\u001b[0;34m]\u001b[0m\u001b[0;34m)\u001b[0m\u001b[0;34m\u001b[0m\u001b[0;34m\u001b[0m\u001b[0m\n\u001b[0m\u001b[1;32m      4\u001b[0m \u001b[0mprint\u001b[0m\u001b[0;34m(\u001b[0m\u001b[0mpandas_dataframe\u001b[0m\u001b[0;34m[\u001b[0m\u001b[0;34m:\u001b[0m\u001b[0;34m,\u001b[0m\u001b[0;36m1\u001b[0m\u001b[0;34m]\u001b[0m\u001b[0;34m)\u001b[0m\u001b[0;34m\u001b[0m\u001b[0;34m\u001b[0m\u001b[0m\n",
            "\u001b[0;32m/usr/local/lib/python3.10/dist-packages/pandas/core/frame.py\u001b[0m in \u001b[0;36m__getitem__\u001b[0;34m(self, key)\u001b[0m\n\u001b[1;32m   3805\u001b[0m             \u001b[0;32mif\u001b[0m \u001b[0mself\u001b[0m\u001b[0;34m.\u001b[0m\u001b[0mcolumns\u001b[0m\u001b[0;34m.\u001b[0m\u001b[0mnlevels\u001b[0m \u001b[0;34m>\u001b[0m \u001b[0;36m1\u001b[0m\u001b[0;34m:\u001b[0m\u001b[0;34m\u001b[0m\u001b[0;34m\u001b[0m\u001b[0m\n\u001b[1;32m   3806\u001b[0m                 \u001b[0;32mreturn\u001b[0m \u001b[0mself\u001b[0m\u001b[0;34m.\u001b[0m\u001b[0m_getitem_multilevel\u001b[0m\u001b[0;34m(\u001b[0m\u001b[0mkey\u001b[0m\u001b[0;34m)\u001b[0m\u001b[0;34m\u001b[0m\u001b[0;34m\u001b[0m\u001b[0m\n\u001b[0;32m-> 3807\u001b[0;31m             \u001b[0mindexer\u001b[0m \u001b[0;34m=\u001b[0m \u001b[0mself\u001b[0m\u001b[0;34m.\u001b[0m\u001b[0mcolumns\u001b[0m\u001b[0;34m.\u001b[0m\u001b[0mget_loc\u001b[0m\u001b[0;34m(\u001b[0m\u001b[0mkey\u001b[0m\u001b[0;34m)\u001b[0m\u001b[0;34m\u001b[0m\u001b[0;34m\u001b[0m\u001b[0m\n\u001b[0m\u001b[1;32m   3808\u001b[0m             \u001b[0;32mif\u001b[0m \u001b[0mis_integer\u001b[0m\u001b[0;34m(\u001b[0m\u001b[0mindexer\u001b[0m\u001b[0;34m)\u001b[0m\u001b[0;34m:\u001b[0m\u001b[0;34m\u001b[0m\u001b[0;34m\u001b[0m\u001b[0m\n\u001b[1;32m   3809\u001b[0m                 \u001b[0mindexer\u001b[0m \u001b[0;34m=\u001b[0m \u001b[0;34m[\u001b[0m\u001b[0mindexer\u001b[0m\u001b[0;34m]\u001b[0m\u001b[0;34m\u001b[0m\u001b[0;34m\u001b[0m\u001b[0m\n",
            "\u001b[0;32m/usr/local/lib/python3.10/dist-packages/pandas/core/indexes/base.py\u001b[0m in \u001b[0;36mget_loc\u001b[0;34m(self, key, method, tolerance)\u001b[0m\n\u001b[1;32m   3807\u001b[0m                 \u001b[0;31m#  InvalidIndexError. Otherwise we fall through and re-raise\u001b[0m\u001b[0;34m\u001b[0m\u001b[0;34m\u001b[0m\u001b[0m\n\u001b[1;32m   3808\u001b[0m                 \u001b[0;31m#  the TypeError.\u001b[0m\u001b[0;34m\u001b[0m\u001b[0;34m\u001b[0m\u001b[0m\n\u001b[0;32m-> 3809\u001b[0;31m                 \u001b[0mself\u001b[0m\u001b[0;34m.\u001b[0m\u001b[0m_check_indexing_error\u001b[0m\u001b[0;34m(\u001b[0m\u001b[0mkey\u001b[0m\u001b[0;34m)\u001b[0m\u001b[0;34m\u001b[0m\u001b[0;34m\u001b[0m\u001b[0m\n\u001b[0m\u001b[1;32m   3810\u001b[0m                 \u001b[0;32mraise\u001b[0m\u001b[0;34m\u001b[0m\u001b[0;34m\u001b[0m\u001b[0m\n\u001b[1;32m   3811\u001b[0m \u001b[0;34m\u001b[0m\u001b[0m\n",
            "\u001b[0;32m/usr/local/lib/python3.10/dist-packages/pandas/core/indexes/base.py\u001b[0m in \u001b[0;36m_check_indexing_error\u001b[0;34m(self, key)\u001b[0m\n\u001b[1;32m   5923\u001b[0m             \u001b[0;31m# if key is not a scalar, directly raise an error (the code below\u001b[0m\u001b[0;34m\u001b[0m\u001b[0;34m\u001b[0m\u001b[0m\n\u001b[1;32m   5924\u001b[0m             \u001b[0;31m# would convert to numpy arrays and raise later any way) - GH29926\u001b[0m\u001b[0;34m\u001b[0m\u001b[0;34m\u001b[0m\u001b[0m\n\u001b[0;32m-> 5925\u001b[0;31m             \u001b[0;32mraise\u001b[0m \u001b[0mInvalidIndexError\u001b[0m\u001b[0;34m(\u001b[0m\u001b[0mkey\u001b[0m\u001b[0;34m)\u001b[0m\u001b[0;34m\u001b[0m\u001b[0;34m\u001b[0m\u001b[0m\n\u001b[0m\u001b[1;32m   5926\u001b[0m \u001b[0;34m\u001b[0m\u001b[0m\n\u001b[1;32m   5927\u001b[0m     \u001b[0;34m@\u001b[0m\u001b[0mcache_readonly\u001b[0m\u001b[0;34m\u001b[0m\u001b[0;34m\u001b[0m\u001b[0m\n",
            "\u001b[0;31mInvalidIndexError\u001b[0m: (slice(None, None, None), 0)"
          ]
        }
      ]
    },
    {
      "cell_type": "code",
      "source": [
        "print('pandas 데이터프레임\\n',pandas_dataframe)\n",
        "print('pandas 행시리즈/행벡터')\n",
        "print(pandas_dataframe.iloc[0])\n",
        "print(pandas_dataframe.iloc[1])"
      ],
      "metadata": {
        "colab": {
          "base_uri": "https://localhost:8080/"
        },
        "id": "r4frD5W24lce",
        "outputId": "0549d368-a243-4dae-f258-e18795cd5f02"
      },
      "execution_count": null,
      "outputs": [
        {
          "output_type": "stream",
          "name": "stdout",
          "text": [
            "pandas 데이터프레임\n",
            "     이름   국어  영어\n",
            "0  홍길동  100  90\n",
            "1  강감찬   95  95\n",
            "pandas 행시리즈/행벡터\n",
            "이름    홍길동\n",
            "국어    100\n",
            "영어     90\n",
            "Name: 0, dtype: object\n",
            "이름    강감찬\n",
            "국어     95\n",
            "영어     95\n",
            "Name: 1, dtype: object\n"
          ]
        }
      ]
    },
    {
      "cell_type": "code",
      "source": [
        "print(type(pandas_dataframe.iloc[0]))\n",
        "print(type(pandas_dataframe.iloc[1]))"
      ],
      "metadata": {
        "colab": {
          "base_uri": "https://localhost:8080/"
        },
        "id": "vCZpQPA69Pgu",
        "outputId": "8f02831d-3d5f-40bb-e556-b3b9c11acfed"
      },
      "execution_count": null,
      "outputs": [
        {
          "output_type": "stream",
          "name": "stdout",
          "text": [
            "<class 'pandas.core.series.Series'>\n",
            "<class 'pandas.core.series.Series'>\n"
          ]
        }
      ]
    },
    {
      "cell_type": "code",
      "source": [
        "import pandas as pd\n",
        "import numpy as np\n",
        "\n",
        "kor_scores = pd.Series([100,95])\n",
        "eng_scores = pd.Series([90,95])\n",
        "random_series =  pd.Series(np.random.randn(2))\n",
        "\n",
        "print('국어성적\\n',kor_scores)\n",
        "print('영어성적\\n',eng_scores)\n",
        "print('난수시리즈\\n',random_series)"
      ],
      "metadata": {
        "colab": {
          "base_uri": "https://localhost:8080/"
        },
        "id": "oMa5yDHUEOcx",
        "outputId": "d245fda7-92ce-49b5-cb0e-b7bd5b855e8f"
      },
      "execution_count": null,
      "outputs": [
        {
          "output_type": "stream",
          "name": "stdout",
          "text": [
            "국어성적\n",
            " 0    100\n",
            "1     95\n",
            "dtype: int64\n",
            "영어성적\n",
            " 0    90\n",
            "1    95\n",
            "dtype: int64\n",
            "난수시리즈\n",
            " 0    0.318798\n",
            "1   -0.148459\n",
            "dtype: float64\n"
          ]
        }
      ]
    },
    {
      "cell_type": "code",
      "source": [
        "pandas_dataframe = pd.DataFrame({'국어':kor_scores,'영어':eng_scores})\n",
        "print('pandas 데이터프레임\\n',pandas_dataframe)"
      ],
      "metadata": {
        "colab": {
          "base_uri": "https://localhost:8080/"
        },
        "id": "8LHax37MGYrR",
        "outputId": "aff8f22e-2616-4919-f115-1ae24a91e394"
      },
      "execution_count": null,
      "outputs": [
        {
          "output_type": "stream",
          "name": "stdout",
          "text": [
            "pandas 데이터프레임\n",
            "     국어  영어\n",
            "0  100  90\n",
            "1   95  95\n"
          ]
        }
      ]
    },
    {
      "cell_type": "code",
      "source": [
        "print(pd.Series(np.arange(9).reshape(3,3)))"
      ],
      "metadata": {
        "colab": {
          "base_uri": "https://localhost:8080/",
          "height": 341
        },
        "id": "56NvlCjv3ZEl",
        "outputId": "c9275137-8472-4655-ae8b-1331cedd4633"
      },
      "execution_count": null,
      "outputs": [
        {
          "output_type": "error",
          "ename": "ValueError",
          "evalue": "ignored",
          "traceback": [
            "\u001b[0;31m---------------------------------------------------------------------------\u001b[0m",
            "\u001b[0;31mValueError\u001b[0m                                Traceback (most recent call last)",
            "\u001b[0;32m<ipython-input-10-a7d2dbc74df4>\u001b[0m in \u001b[0;36m<cell line: 1>\u001b[0;34m()\u001b[0m\n\u001b[0;32m----> 1\u001b[0;31m \u001b[0mprint\u001b[0m\u001b[0;34m(\u001b[0m\u001b[0mpd\u001b[0m\u001b[0;34m.\u001b[0m\u001b[0mSeries\u001b[0m\u001b[0;34m(\u001b[0m\u001b[0mnp\u001b[0m\u001b[0;34m.\u001b[0m\u001b[0marange\u001b[0m\u001b[0;34m(\u001b[0m\u001b[0;36m9\u001b[0m\u001b[0;34m)\u001b[0m\u001b[0;34m.\u001b[0m\u001b[0mreshape\u001b[0m\u001b[0;34m(\u001b[0m\u001b[0;36m3\u001b[0m\u001b[0;34m,\u001b[0m\u001b[0;36m3\u001b[0m\u001b[0;34m)\u001b[0m\u001b[0;34m)\u001b[0m\u001b[0;34m)\u001b[0m\u001b[0;34m\u001b[0m\u001b[0;34m\u001b[0m\u001b[0m\n\u001b[0m",
            "\u001b[0;32m/usr/local/lib/python3.10/dist-packages/pandas/core/series.py\u001b[0m in \u001b[0;36m__init__\u001b[0;34m(self, data, index, dtype, name, copy, fastpath)\u001b[0m\n\u001b[1;32m    468\u001b[0m                     \u001b[0mdata\u001b[0m \u001b[0;34m=\u001b[0m \u001b[0mdata\u001b[0m\u001b[0;34m.\u001b[0m\u001b[0mcopy\u001b[0m\u001b[0;34m(\u001b[0m\u001b[0;34m)\u001b[0m\u001b[0;34m\u001b[0m\u001b[0;34m\u001b[0m\u001b[0m\n\u001b[1;32m    469\u001b[0m             \u001b[0;32melse\u001b[0m\u001b[0;34m:\u001b[0m\u001b[0;34m\u001b[0m\u001b[0;34m\u001b[0m\u001b[0m\n\u001b[0;32m--> 470\u001b[0;31m                 \u001b[0mdata\u001b[0m \u001b[0;34m=\u001b[0m \u001b[0msanitize_array\u001b[0m\u001b[0;34m(\u001b[0m\u001b[0mdata\u001b[0m\u001b[0;34m,\u001b[0m \u001b[0mindex\u001b[0m\u001b[0;34m,\u001b[0m \u001b[0mdtype\u001b[0m\u001b[0;34m,\u001b[0m \u001b[0mcopy\u001b[0m\u001b[0;34m)\u001b[0m\u001b[0;34m\u001b[0m\u001b[0;34m\u001b[0m\u001b[0m\n\u001b[0m\u001b[1;32m    471\u001b[0m \u001b[0;34m\u001b[0m\u001b[0m\n\u001b[1;32m    472\u001b[0m                 \u001b[0mmanager\u001b[0m \u001b[0;34m=\u001b[0m \u001b[0mget_option\u001b[0m\u001b[0;34m(\u001b[0m\u001b[0;34m\"mode.data_manager\"\u001b[0m\u001b[0;34m)\u001b[0m\u001b[0;34m\u001b[0m\u001b[0;34m\u001b[0m\u001b[0m\n",
            "\u001b[0;32m/usr/local/lib/python3.10/dist-packages/pandas/core/construction.py\u001b[0m in \u001b[0;36msanitize_array\u001b[0;34m(data, index, dtype, copy, raise_cast_failure, allow_2d)\u001b[0m\n\u001b[1;32m    645\u001b[0m                 \u001b[0msubarr\u001b[0m \u001b[0;34m=\u001b[0m \u001b[0mmaybe_infer_to_datetimelike\u001b[0m\u001b[0;34m(\u001b[0m\u001b[0msubarr\u001b[0m\u001b[0;34m)\u001b[0m\u001b[0;34m\u001b[0m\u001b[0;34m\u001b[0m\u001b[0m\n\u001b[1;32m    646\u001b[0m \u001b[0;34m\u001b[0m\u001b[0m\n\u001b[0;32m--> 647\u001b[0;31m     \u001b[0msubarr\u001b[0m \u001b[0;34m=\u001b[0m \u001b[0m_sanitize_ndim\u001b[0m\u001b[0;34m(\u001b[0m\u001b[0msubarr\u001b[0m\u001b[0;34m,\u001b[0m \u001b[0mdata\u001b[0m\u001b[0;34m,\u001b[0m \u001b[0mdtype\u001b[0m\u001b[0;34m,\u001b[0m \u001b[0mindex\u001b[0m\u001b[0;34m,\u001b[0m \u001b[0mallow_2d\u001b[0m\u001b[0;34m=\u001b[0m\u001b[0mallow_2d\u001b[0m\u001b[0;34m)\u001b[0m\u001b[0;34m\u001b[0m\u001b[0;34m\u001b[0m\u001b[0m\n\u001b[0m\u001b[1;32m    648\u001b[0m \u001b[0;34m\u001b[0m\u001b[0m\n\u001b[1;32m    649\u001b[0m     \u001b[0;32mif\u001b[0m \u001b[0misinstance\u001b[0m\u001b[0;34m(\u001b[0m\u001b[0msubarr\u001b[0m\u001b[0;34m,\u001b[0m \u001b[0mnp\u001b[0m\u001b[0;34m.\u001b[0m\u001b[0mndarray\u001b[0m\u001b[0;34m)\u001b[0m\u001b[0;34m:\u001b[0m\u001b[0;34m\u001b[0m\u001b[0;34m\u001b[0m\u001b[0m\n",
            "\u001b[0;32m/usr/local/lib/python3.10/dist-packages/pandas/core/construction.py\u001b[0m in \u001b[0;36m_sanitize_ndim\u001b[0;34m(result, data, dtype, index, allow_2d)\u001b[0m\n\u001b[1;32m    696\u001b[0m             \u001b[0;32mif\u001b[0m \u001b[0mallow_2d\u001b[0m\u001b[0;34m:\u001b[0m\u001b[0;34m\u001b[0m\u001b[0;34m\u001b[0m\u001b[0m\n\u001b[1;32m    697\u001b[0m                 \u001b[0;32mreturn\u001b[0m \u001b[0mresult\u001b[0m\u001b[0;34m\u001b[0m\u001b[0;34m\u001b[0m\u001b[0m\n\u001b[0;32m--> 698\u001b[0;31m             \u001b[0;32mraise\u001b[0m \u001b[0mValueError\u001b[0m\u001b[0;34m(\u001b[0m\u001b[0;34m\"Data must be 1-dimensional\"\u001b[0m\u001b[0;34m)\u001b[0m\u001b[0;34m\u001b[0m\u001b[0;34m\u001b[0m\u001b[0m\n\u001b[0m\u001b[1;32m    699\u001b[0m         \u001b[0;32mif\u001b[0m \u001b[0mis_object_dtype\u001b[0m\u001b[0;34m(\u001b[0m\u001b[0mdtype\u001b[0m\u001b[0;34m)\u001b[0m \u001b[0;32mand\u001b[0m \u001b[0misinstance\u001b[0m\u001b[0;34m(\u001b[0m\u001b[0mdtype\u001b[0m\u001b[0;34m,\u001b[0m \u001b[0mExtensionDtype\u001b[0m\u001b[0;34m)\u001b[0m\u001b[0;34m:\u001b[0m\u001b[0;34m\u001b[0m\u001b[0;34m\u001b[0m\u001b[0m\n\u001b[1;32m    700\u001b[0m             \u001b[0;31m# i.e. PandasDtype(\"O\")\u001b[0m\u001b[0;34m\u001b[0m\u001b[0;34m\u001b[0m\u001b[0m\n",
            "\u001b[0;31mValueError\u001b[0m: Data must be 1-dimensional"
          ]
        }
      ]
    },
    {
      "cell_type": "markdown",
      "source": [
        "\tnumpy 패키지의 공통 기능으로 이해하는 pandas"
      ],
      "metadata": {
        "id": "jrptP1LtiOjC"
      }
    },
    {
      "cell_type": "markdown",
      "source": [
        "형상 확인"
      ],
      "metadata": {
        "id": "zrSuT56BjMDX"
      }
    },
    {
      "cell_type": "code",
      "source": [
        "import pandas as pd\n",
        "\n",
        "pandas_dataframe = pd.DataFrame({'국어':[100,95,80,95,90,85],\n",
        "                                 '영어':[90,95,100,70,75,100],\n",
        "                                 '수학':[50,60,70,80,90,100],\n",
        "                                 '과탐':[100,90,80,70,60,50],\n",
        "                                 '사탐':[99,88,77,66,55,44]})\n",
        "print('pandas 데이터프레임\\n',pandas_dataframe)"
      ],
      "metadata": {
        "colab": {
          "base_uri": "https://localhost:8080/"
        },
        "id": "TbEHSRvVWGCu",
        "outputId": "0a463523-afc2-49cc-cdae-c9db42ed76c2"
      },
      "execution_count": null,
      "outputs": [
        {
          "output_type": "stream",
          "name": "stdout",
          "text": [
            "pandas 데이터프레임\n",
            "     국어   영어   수학   과탐  사탐\n",
            "0  100   90   50  100  99\n",
            "1   95   95   60   90  88\n",
            "2   80  100   70   80  77\n",
            "3   95   70   80   70  66\n",
            "4   90   75   90   60  55\n",
            "5   85  100  100   50  44\n"
          ]
        }
      ]
    },
    {
      "cell_type": "code",
      "source": [
        "print('pandas 데이터프레임의 크기:',pandas_dataframe.size)\n",
        "print('pandas 데이터프레임의 형상:',pandas_dataframe.shape)\n",
        "print('pandas 데이터프레임의 형상:',pd.shape(pandas_dataframe))"
      ],
      "metadata": {
        "colab": {
          "base_uri": "https://localhost:8080/",
          "height": 391
        },
        "id": "e2cAX3_7SBgc",
        "outputId": "bf9e59ec-292b-4413-af4e-c8eabbe75d16"
      },
      "execution_count": null,
      "outputs": [
        {
          "output_type": "stream",
          "name": "stdout",
          "text": [
            "pandas 데이터프레임의 크기: 30\n",
            "pandas 데이터프레임의 형상: (6, 5)\n"
          ]
        },
        {
          "output_type": "error",
          "ename": "AttributeError",
          "evalue": "ignored",
          "traceback": [
            "\u001b[0;31m---------------------------------------------------------------------------\u001b[0m",
            "\u001b[0;31mAttributeError\u001b[0m                            Traceback (most recent call last)",
            "\u001b[0;32m<ipython-input-31-6bb765017c0d>\u001b[0m in \u001b[0;36m<cell line: 3>\u001b[0;34m()\u001b[0m\n\u001b[1;32m      1\u001b[0m \u001b[0mprint\u001b[0m\u001b[0;34m(\u001b[0m\u001b[0;34m'pandas 데이터프레임의 크기:'\u001b[0m\u001b[0;34m,\u001b[0m\u001b[0mpandas_dataframe\u001b[0m\u001b[0;34m.\u001b[0m\u001b[0msize\u001b[0m\u001b[0;34m)\u001b[0m\u001b[0;34m\u001b[0m\u001b[0;34m\u001b[0m\u001b[0m\n\u001b[1;32m      2\u001b[0m \u001b[0mprint\u001b[0m\u001b[0;34m(\u001b[0m\u001b[0;34m'pandas 데이터프레임의 형상:'\u001b[0m\u001b[0;34m,\u001b[0m\u001b[0mpandas_dataframe\u001b[0m\u001b[0;34m.\u001b[0m\u001b[0mshape\u001b[0m\u001b[0;34m)\u001b[0m\u001b[0;34m\u001b[0m\u001b[0;34m\u001b[0m\u001b[0m\n\u001b[0;32m----> 3\u001b[0;31m \u001b[0mprint\u001b[0m\u001b[0;34m(\u001b[0m\u001b[0;34m'pandas 데이터프레임의 형상:'\u001b[0m\u001b[0;34m,\u001b[0m\u001b[0mpd\u001b[0m\u001b[0;34m.\u001b[0m\u001b[0mshape\u001b[0m\u001b[0;34m(\u001b[0m\u001b[0mpandas_dataframe\u001b[0m\u001b[0;34m)\u001b[0m\u001b[0;34m)\u001b[0m\u001b[0;34m\u001b[0m\u001b[0;34m\u001b[0m\u001b[0m\n\u001b[0m",
            "\u001b[0;32m/usr/local/lib/python3.10/dist-packages/pandas/__init__.py\u001b[0m in \u001b[0;36m__getattr__\u001b[0;34m(name)\u001b[0m\n\u001b[1;32m    262\u001b[0m         \u001b[0;32mreturn\u001b[0m \u001b[0m_SparseArray\u001b[0m\u001b[0;34m\u001b[0m\u001b[0;34m\u001b[0m\u001b[0m\n\u001b[1;32m    263\u001b[0m \u001b[0;34m\u001b[0m\u001b[0m\n\u001b[0;32m--> 264\u001b[0;31m     \u001b[0;32mraise\u001b[0m \u001b[0mAttributeError\u001b[0m\u001b[0;34m(\u001b[0m\u001b[0;34mf\"module 'pandas' has no attribute '{name}'\"\u001b[0m\u001b[0;34m)\u001b[0m\u001b[0;34m\u001b[0m\u001b[0;34m\u001b[0m\u001b[0m\n\u001b[0m\u001b[1;32m    265\u001b[0m \u001b[0;34m\u001b[0m\u001b[0m\n\u001b[1;32m    266\u001b[0m \u001b[0;34m\u001b[0m\u001b[0m\n",
            "\u001b[0;31mAttributeError\u001b[0m: module 'pandas' has no attribute 'shape'"
          ]
        }
      ]
    },
    {
      "cell_type": "code",
      "source": [
        "pandas_dataframe.info()"
      ],
      "metadata": {
        "colab": {
          "base_uri": "https://localhost:8080/"
        },
        "id": "9uov0f7R5nzc",
        "outputId": "8df2e9b8-5f3c-4b3a-c246-770aaebf8248"
      },
      "execution_count": null,
      "outputs": [
        {
          "output_type": "stream",
          "name": "stdout",
          "text": [
            "<class 'pandas.core.frame.DataFrame'>\n",
            "RangeIndex: 6 entries, 0 to 5\n",
            "Data columns (total 5 columns):\n",
            " #   Column  Non-Null Count  Dtype\n",
            "---  ------  --------------  -----\n",
            " 0   국어      6 non-null      int64\n",
            " 1   영어      6 non-null      int64\n",
            " 2   수학      6 non-null      int64\n",
            " 3   과탐      6 non-null      int64\n",
            " 4   사탐      6 non-null      int64\n",
            "dtypes: int64(5)\n",
            "memory usage: 368.0 bytes\n"
          ]
        }
      ]
    },
    {
      "cell_type": "code",
      "source": [
        "pandas_dataframe['국어'].info()"
      ],
      "metadata": {
        "colab": {
          "base_uri": "https://localhost:8080/"
        },
        "id": "moLwl950APcT",
        "outputId": "3a8267e3-a10f-4eb2-e8e5-5ac9f50f3cf7"
      },
      "execution_count": null,
      "outputs": [
        {
          "output_type": "stream",
          "name": "stdout",
          "text": [
            "<class 'pandas.core.series.Series'>\n",
            "RangeIndex: 6 entries, 0 to 5\n",
            "Series name: 국어\n",
            "Non-Null Count  Dtype\n",
            "--------------  -----\n",
            "6 non-null      int64\n",
            "dtypes: int64(1)\n",
            "memory usage: 176.0 bytes\n"
          ]
        }
      ]
    },
    {
      "cell_type": "code",
      "source": [
        "pandas_dataframe['국어'].value_counts()"
      ],
      "metadata": {
        "colab": {
          "base_uri": "https://localhost:8080/"
        },
        "id": "QeCB16XIB2Bb",
        "outputId": "abd16b59-516c-4279-bd54-d989c0300f10"
      },
      "execution_count": null,
      "outputs": [
        {
          "output_type": "execute_result",
          "data": {
            "text/plain": [
              "95     2\n",
              "100    1\n",
              "80     1\n",
              "90     1\n",
              "85     1\n",
              "Name: 국어, dtype: int64"
            ]
          },
          "metadata": {},
          "execution_count": 9
        }
      ]
    },
    {
      "cell_type": "markdown",
      "source": [
        "조회"
      ],
      "metadata": {
        "id": "GTDNW2AkjBOp"
      }
    },
    {
      "cell_type": "code",
      "source": [
        "print(\"열 첫 요소 :\", pandas_dataframe['국어'][0], pandas_dataframe['영어'][0])\n",
        "#print(\"열 마지막 요소 :\", pandas_dataframe['국어'][-1], pandas_dataframe['영어'][-1])\n",
        "print(\"국어 열 3~5번째 요소 :\\n\", pandas_dataframe['국어'][2:5])\n",
        "print(\"영어 열 1~5번째 요소 :\\n\", pandas_dataframe['영어'][:5])\n",
        "print(\"국어 열 5번째~마지막 요소 :\\n\", pandas_dataframe['국어'][4:])\n",
        "print(\"영어 열 2~5번째 요소 중 짝수번째 요소 :\\n\", pandas_dataframe['영어'][1:5:2])\n",
        "#print(\"국어 열 마지막에서 2~5번째 요소 중 짝수번째 요소 :\\n\", pandas_dataframe['국어'][-2:-5:-2])\n",
        "print(\"영어 열 전체 요소 중 홀수번째 요소 :\\n\", pandas_dataframe['영어'][::2])"
      ],
      "metadata": {
        "colab": {
          "base_uri": "https://localhost:8080/"
        },
        "id": "QZHYX05HMwQn",
        "outputId": "02b31b5f-f34a-406e-ce96-9d24badac48b"
      },
      "execution_count": null,
      "outputs": [
        {
          "output_type": "stream",
          "name": "stdout",
          "text": [
            "열 첫 요소 : 100 90\n",
            "국어 열 3~5번째 요소 :\n",
            " 2    80\n",
            "3    95\n",
            "4    90\n",
            "Name: 국어, dtype: int64\n",
            "영어 열 1~5번째 요소 :\n",
            " 0     90\n",
            "1     95\n",
            "2    100\n",
            "3     70\n",
            "4     75\n",
            "Name: 영어, dtype: int64\n",
            "국어 열 5번째~마지막 요소 :\n",
            " 4    90\n",
            "5    85\n",
            "Name: 국어, dtype: int64\n",
            "영어 열 2~5번째 요소 중 짝수번째 요소 :\n",
            " 1    95\n",
            "3    70\n",
            "Name: 영어, dtype: int64\n",
            "영어 열 전체 요소 중 홀수번째 요소 :\n",
            " 0     90\n",
            "2    100\n",
            "4     75\n",
            "Name: 영어, dtype: int64\n"
          ]
        }
      ]
    },
    {
      "cell_type": "code",
      "source": [
        "print(pandas_dataframe.T)"
      ],
      "metadata": {
        "colab": {
          "base_uri": "https://localhost:8080/"
        },
        "id": "WEhmg1bNjuzI",
        "outputId": "d8938350-7bcb-4269-f5da-fedd576a5275"
      },
      "execution_count": null,
      "outputs": [
        {
          "output_type": "stream",
          "name": "stdout",
          "text": [
            "      0   1    2   3   4    5\n",
            "국어  100  95   80  95  90   85\n",
            "영어   90  95  100  70  75  100\n",
            "수학   50  60   70  80  90  100\n",
            "과탐  100  90   80  70  60   50\n",
            "사탐   99  88   77  66  55   44\n"
          ]
        }
      ]
    },
    {
      "cell_type": "code",
      "source": [
        "print(\"열 마지막 요소 :\",\n",
        "      pandas_dataframe['국어'].iloc[-1], pandas_dataframe['영어'].iloc[-1])\n",
        "print(\"국어 열 마지막에서 2~5번째 요소 중 짝수번째 요소 :\\n\",\n",
        "      pandas_dataframe['국어'].iloc[-2:-5:-2])"
      ],
      "metadata": {
        "colab": {
          "base_uri": "https://localhost:8080/"
        },
        "id": "Bf7sWGm2X16O",
        "outputId": "03d62809-16e2-4573-ee64-bbc9d352a6e5"
      },
      "execution_count": null,
      "outputs": [
        {
          "output_type": "stream",
          "name": "stdout",
          "text": [
            "열 마지막 요소 : 85 100\n",
            "국어 열 마지막에서 2~5번째 요소 중 짝수번째 요소 :\n",
            " 4    90\n",
            "2    80\n",
            "Name: 국어, dtype: int64\n"
          ]
        }
      ]
    },
    {
      "cell_type": "code",
      "source": [
        "print(\"2~4행 시리즈 :\\n\", pandas_dataframe.iloc[1:4])\n",
        "print(\"마지막행 시리즈 :\\n\", pandas_dataframe.iloc[-1])"
      ],
      "metadata": {
        "colab": {
          "base_uri": "https://localhost:8080/"
        },
        "id": "t3Ha2MGpafPo",
        "outputId": "9ddae113-78de-4997-ed2c-11193c3400d4"
      },
      "execution_count": null,
      "outputs": [
        {
          "output_type": "stream",
          "name": "stdout",
          "text": [
            "2~4행 시리즈 :\n",
            "    국어   영어  수학  과탐  사탐\n",
            "1  95   95  60  90  88\n",
            "2  80  100  70  80  77\n",
            "3  95   70  80  70  66\n",
            "마지막행 시리즈 :\n",
            " 국어     85\n",
            "영어    100\n",
            "수학    100\n",
            "과탐     50\n",
            "사탐     44\n",
            "Name: 5, dtype: int64\n"
          ]
        }
      ]
    },
    {
      "cell_type": "code",
      "source": [
        "print(\"2~4열 시리즈 :\\n\", pandas_dataframe.iloc[:,1:4])\n",
        "print(\"마지막열 시리즈 :\\n\", pandas_dataframe.iloc[:,-1])"
      ],
      "metadata": {
        "colab": {
          "base_uri": "https://localhost:8080/"
        },
        "id": "1J2k9zbNggW-",
        "outputId": "28b884ce-3a03-491a-caf9-748e1819e13e"
      },
      "execution_count": null,
      "outputs": [
        {
          "output_type": "stream",
          "name": "stdout",
          "text": [
            "2~4열 시리즈 :\n",
            "     영어   수학   과탐\n",
            "0   90   50  100\n",
            "1   95   60   90\n",
            "2  100   70   80\n",
            "3   70   80   70\n",
            "4   75   90   60\n",
            "5  100  100   50\n",
            "마지막열 시리즈 :\n",
            " 0    99\n",
            "1    88\n",
            "2    77\n",
            "3    66\n",
            "4    55\n",
            "5    44\n",
            "Name: 사탐, dtype: int64\n"
          ]
        }
      ]
    },
    {
      "cell_type": "code",
      "source": [
        "print(\"2~3행([1:3,)과 2~4열(,1:4]) 교차 슬라이싱 :\\n\",\n",
        "      pandas_dataframe.iloc[1:3,1:4])"
      ],
      "metadata": {
        "colab": {
          "base_uri": "https://localhost:8080/"
        },
        "id": "xevtk-6rlOdy",
        "outputId": "dfddc52a-2fe8-4d16-c015-12f5583ab845"
      },
      "execution_count": null,
      "outputs": [
        {
          "output_type": "stream",
          "name": "stdout",
          "text": [
            "2~3행([1:3,)과 2~4열(,1:4]) 교차 슬라이싱 :\n",
            "     영어  수학  과탐\n",
            "1   95  60  90\n",
            "2  100  70  80\n"
          ]
        }
      ]
    },
    {
      "cell_type": "code",
      "source": [
        "print(\"pandas_dataframe['사탐'][2]    :\",pandas_dataframe['사탐'][2])\n",
        "print(\"pandas_dataframe.loc[2]['사탐']:\",pandas_dataframe.loc[2]['사탐'])\n",
        "print(\"pandas_dataframe.loc[2,'사탐'] :\",pandas_dataframe.loc[2,'사탐'])"
      ],
      "metadata": {
        "colab": {
          "base_uri": "https://localhost:8080/"
        },
        "id": "v7gH6k44dL51",
        "outputId": "8bd61f25-6222-43e9-b212-50fce9580817"
      },
      "execution_count": null,
      "outputs": [
        {
          "output_type": "stream",
          "name": "stdout",
          "text": [
            "pandas_dataframe['사탐'][2]    : 77\n",
            "pandas_dataframe.loc[2]['사탐']: 77\n",
            "pandas_dataframe.loc[2,'사탐'] : 77\n"
          ]
        }
      ]
    },
    {
      "cell_type": "code",
      "source": [
        "print(\"국어,수학 및 사탐 열 조회\\n\", pandas_dataframe[['국어','수학','사탐']])"
      ],
      "metadata": {
        "colab": {
          "base_uri": "https://localhost:8080/"
        },
        "id": "4EzzstshqIEB",
        "outputId": "c97e57a0-9ed5-4a4f-fc7d-38e626f3a45a"
      },
      "execution_count": null,
      "outputs": [
        {
          "output_type": "stream",
          "name": "stdout",
          "text": [
            "국어,수학 및 사탐 열 조회\n",
            "     국어   수학  사탐\n",
            "0  100   50  99\n",
            "1   95   60  88\n",
            "2   80   70  77\n",
            "3   95   80  66\n",
            "4   90   90  55\n",
            "5   85  100  44\n"
          ]
        }
      ]
    },
    {
      "cell_type": "code",
      "source": [
        "print(\"수학 열을 시리즈로 조회\\n\", pandas_dataframe['수학'])\n",
        "print(type(pandas_dataframe['수학']))\n",
        "print(\"수학 열을 데이터프레임으로 조회\\n\", pandas_dataframe[['수학']])\n",
        "print(type(pandas_dataframe[['수학']]))"
      ],
      "metadata": {
        "colab": {
          "base_uri": "https://localhost:8080/"
        },
        "id": "rRAeEQDIsDnW",
        "outputId": "5572476d-871c-4940-8100-3c3bc628d330"
      },
      "execution_count": null,
      "outputs": [
        {
          "output_type": "stream",
          "name": "stdout",
          "text": [
            "수학 열을 시리즈로 조회\n",
            " 0     50\n",
            "1     60\n",
            "2     70\n",
            "3     80\n",
            "4     90\n",
            "5    100\n",
            "Name: 수학, dtype: int64\n",
            "<class 'pandas.core.series.Series'>\n",
            "수학 열을 데이터프레임으로 조회\n",
            "     수학\n",
            "0   50\n",
            "1   60\n",
            "2   70\n",
            "3   80\n",
            "4   90\n",
            "5  100\n",
            "<class 'pandas.core.frame.DataFrame'>\n"
          ]
        }
      ]
    },
    {
      "cell_type": "code",
      "source": [
        "print(\"영어 성적이 100점인 행들\\n\", pandas_dataframe[pandas_dataframe['영어'] == 100])"
      ],
      "metadata": {
        "colab": {
          "base_uri": "https://localhost:8080/"
        },
        "id": "gI6xNhtbH4c1",
        "outputId": "9ff69e7b-9bf6-4515-a5ab-680335945dfc"
      },
      "execution_count": null,
      "outputs": [
        {
          "output_type": "stream",
          "name": "stdout",
          "text": [
            "영어 성적이 100점인 행들\n",
            "    국어   영어   수학  과탐  사탐\n",
            "2  80  100   70  80  77\n",
            "5  85  100  100  50  44\n"
          ]
        }
      ]
    },
    {
      "cell_type": "code",
      "source": [
        "print('성적이 80점 이상인 영어 열의 요소:\\n',\n",
        "      pandas_dataframe['영어'][pandas_dataframe['영어'] >= 80])"
      ],
      "metadata": {
        "colab": {
          "base_uri": "https://localhost:8080/"
        },
        "id": "uTURj59OmfUT",
        "outputId": "a482233b-477d-4431-a52b-4093587c6d4e"
      },
      "execution_count": null,
      "outputs": [
        {
          "output_type": "stream",
          "name": "stdout",
          "text": [
            "성적이 80점 이상인 영어 열의 요소:\n",
            " 0     90\n",
            "1     95\n",
            "2    100\n",
            "5    100\n",
            "Name: 영어, dtype: int64\n"
          ]
        }
      ]
    },
    {
      "cell_type": "markdown",
      "source": [
        "수정"
      ],
      "metadata": {
        "id": "2s2uIReSWqeJ"
      }
    },
    {
      "cell_type": "markdown",
      "source": [
        "삭제"
      ],
      "metadata": {
        "id": "gXU8OXcaSnGA"
      }
    },
    {
      "cell_type": "code",
      "source": [
        "import pandas as pd\n",
        "\n",
        "pandas_series = pd.Series([1,2,3,4,5])\n",
        "print('삭제전:\\n',pandas_series)\n",
        "pandas_series = pandas_series.drop(3)\n",
        "print('삭제후:\\n',pandas_series)"
      ],
      "metadata": {
        "colab": {
          "base_uri": "https://localhost:8080/"
        },
        "id": "YqIqsYIIb95F",
        "outputId": "8cc86d48-a711-4abd-a8c1-77412e2c45e9"
      },
      "execution_count": null,
      "outputs": [
        {
          "output_type": "stream",
          "name": "stdout",
          "text": [
            "삭제전:\n",
            " 0    1\n",
            "1    2\n",
            "2    3\n",
            "3    4\n",
            "4    5\n",
            "dtype: int64\n",
            "삭제후:\n",
            " 0    1\n",
            "1    2\n",
            "2    3\n",
            "4    5\n",
            "dtype: int64\n"
          ]
        }
      ]
    },
    {
      "cell_type": "code",
      "source": [
        "print(pandas_series.loc[3])"
      ],
      "metadata": {
        "colab": {
          "base_uri": "https://localhost:8080/",
          "height": 546
        },
        "id": "fPJLBZrveGse",
        "outputId": "82909e82-6852-4ce3-951a-194b487b079b"
      },
      "execution_count": null,
      "outputs": [
        {
          "output_type": "error",
          "ename": "KeyError",
          "evalue": "ignored",
          "traceback": [
            "\u001b[0;31m---------------------------------------------------------------------------\u001b[0m",
            "\u001b[0;31mKeyError\u001b[0m                                  Traceback (most recent call last)",
            "\u001b[0;32m/usr/local/lib/python3.10/dist-packages/pandas/core/indexes/base.py\u001b[0m in \u001b[0;36mget_loc\u001b[0;34m(self, key, method, tolerance)\u001b[0m\n\u001b[1;32m   3801\u001b[0m             \u001b[0;32mtry\u001b[0m\u001b[0;34m:\u001b[0m\u001b[0;34m\u001b[0m\u001b[0;34m\u001b[0m\u001b[0m\n\u001b[0;32m-> 3802\u001b[0;31m                 \u001b[0;32mreturn\u001b[0m \u001b[0mself\u001b[0m\u001b[0;34m.\u001b[0m\u001b[0m_engine\u001b[0m\u001b[0;34m.\u001b[0m\u001b[0mget_loc\u001b[0m\u001b[0;34m(\u001b[0m\u001b[0mcasted_key\u001b[0m\u001b[0;34m)\u001b[0m\u001b[0;34m\u001b[0m\u001b[0;34m\u001b[0m\u001b[0m\n\u001b[0m\u001b[1;32m   3803\u001b[0m             \u001b[0;32mexcept\u001b[0m \u001b[0mKeyError\u001b[0m \u001b[0;32mas\u001b[0m \u001b[0merr\u001b[0m\u001b[0;34m:\u001b[0m\u001b[0;34m\u001b[0m\u001b[0;34m\u001b[0m\u001b[0m\n",
            "\u001b[0;32m/usr/local/lib/python3.10/dist-packages/pandas/_libs/index.pyx\u001b[0m in \u001b[0;36mpandas._libs.index.IndexEngine.get_loc\u001b[0;34m()\u001b[0m\n",
            "\u001b[0;32m/usr/local/lib/python3.10/dist-packages/pandas/_libs/index.pyx\u001b[0m in \u001b[0;36mpandas._libs.index.IndexEngine.get_loc\u001b[0;34m()\u001b[0m\n",
            "\u001b[0;32mpandas/_libs/hashtable_class_helper.pxi\u001b[0m in \u001b[0;36mpandas._libs.hashtable.Int64HashTable.get_item\u001b[0;34m()\u001b[0m\n",
            "\u001b[0;32mpandas/_libs/hashtable_class_helper.pxi\u001b[0m in \u001b[0;36mpandas._libs.hashtable.Int64HashTable.get_item\u001b[0;34m()\u001b[0m\n",
            "\u001b[0;31mKeyError\u001b[0m: 3",
            "\nThe above exception was the direct cause of the following exception:\n",
            "\u001b[0;31mKeyError\u001b[0m                                  Traceback (most recent call last)",
            "\u001b[0;32m<ipython-input-47-646946bfe915>\u001b[0m in \u001b[0;36m<cell line: 1>\u001b[0;34m()\u001b[0m\n\u001b[0;32m----> 1\u001b[0;31m \u001b[0mprint\u001b[0m\u001b[0;34m(\u001b[0m\u001b[0mpandas_series\u001b[0m\u001b[0;34m.\u001b[0m\u001b[0mloc\u001b[0m\u001b[0;34m[\u001b[0m\u001b[0;36m3\u001b[0m\u001b[0;34m]\u001b[0m\u001b[0;34m)\u001b[0m\u001b[0;34m\u001b[0m\u001b[0;34m\u001b[0m\u001b[0m\n\u001b[0m",
            "\u001b[0;32m/usr/local/lib/python3.10/dist-packages/pandas/core/indexing.py\u001b[0m in \u001b[0;36m__getitem__\u001b[0;34m(self, key)\u001b[0m\n\u001b[1;32m   1071\u001b[0m \u001b[0;34m\u001b[0m\u001b[0m\n\u001b[1;32m   1072\u001b[0m             \u001b[0mmaybe_callable\u001b[0m \u001b[0;34m=\u001b[0m \u001b[0mcom\u001b[0m\u001b[0;34m.\u001b[0m\u001b[0mapply_if_callable\u001b[0m\u001b[0;34m(\u001b[0m\u001b[0mkey\u001b[0m\u001b[0;34m,\u001b[0m \u001b[0mself\u001b[0m\u001b[0;34m.\u001b[0m\u001b[0mobj\u001b[0m\u001b[0;34m)\u001b[0m\u001b[0;34m\u001b[0m\u001b[0;34m\u001b[0m\u001b[0m\n\u001b[0;32m-> 1073\u001b[0;31m             \u001b[0;32mreturn\u001b[0m \u001b[0mself\u001b[0m\u001b[0;34m.\u001b[0m\u001b[0m_getitem_axis\u001b[0m\u001b[0;34m(\u001b[0m\u001b[0mmaybe_callable\u001b[0m\u001b[0;34m,\u001b[0m \u001b[0maxis\u001b[0m\u001b[0;34m=\u001b[0m\u001b[0maxis\u001b[0m\u001b[0;34m)\u001b[0m\u001b[0;34m\u001b[0m\u001b[0;34m\u001b[0m\u001b[0m\n\u001b[0m\u001b[1;32m   1074\u001b[0m \u001b[0;34m\u001b[0m\u001b[0m\n\u001b[1;32m   1075\u001b[0m     \u001b[0;32mdef\u001b[0m \u001b[0m_is_scalar_access\u001b[0m\u001b[0;34m(\u001b[0m\u001b[0mself\u001b[0m\u001b[0;34m,\u001b[0m \u001b[0mkey\u001b[0m\u001b[0;34m:\u001b[0m \u001b[0mtuple\u001b[0m\u001b[0;34m)\u001b[0m\u001b[0;34m:\u001b[0m\u001b[0;34m\u001b[0m\u001b[0;34m\u001b[0m\u001b[0m\n",
            "\u001b[0;32m/usr/local/lib/python3.10/dist-packages/pandas/core/indexing.py\u001b[0m in \u001b[0;36m_getitem_axis\u001b[0;34m(self, key, axis)\u001b[0m\n\u001b[1;32m   1310\u001b[0m         \u001b[0;31m# fall thru to straight lookup\u001b[0m\u001b[0;34m\u001b[0m\u001b[0;34m\u001b[0m\u001b[0m\n\u001b[1;32m   1311\u001b[0m         \u001b[0mself\u001b[0m\u001b[0;34m.\u001b[0m\u001b[0m_validate_key\u001b[0m\u001b[0;34m(\u001b[0m\u001b[0mkey\u001b[0m\u001b[0;34m,\u001b[0m \u001b[0maxis\u001b[0m\u001b[0;34m)\u001b[0m\u001b[0;34m\u001b[0m\u001b[0;34m\u001b[0m\u001b[0m\n\u001b[0;32m-> 1312\u001b[0;31m         \u001b[0;32mreturn\u001b[0m \u001b[0mself\u001b[0m\u001b[0;34m.\u001b[0m\u001b[0m_get_label\u001b[0m\u001b[0;34m(\u001b[0m\u001b[0mkey\u001b[0m\u001b[0;34m,\u001b[0m \u001b[0maxis\u001b[0m\u001b[0;34m=\u001b[0m\u001b[0maxis\u001b[0m\u001b[0;34m)\u001b[0m\u001b[0;34m\u001b[0m\u001b[0;34m\u001b[0m\u001b[0m\n\u001b[0m\u001b[1;32m   1313\u001b[0m \u001b[0;34m\u001b[0m\u001b[0m\n\u001b[1;32m   1314\u001b[0m     \u001b[0;32mdef\u001b[0m \u001b[0m_get_slice_axis\u001b[0m\u001b[0;34m(\u001b[0m\u001b[0mself\u001b[0m\u001b[0;34m,\u001b[0m \u001b[0mslice_obj\u001b[0m\u001b[0;34m:\u001b[0m \u001b[0mslice\u001b[0m\u001b[0;34m,\u001b[0m \u001b[0maxis\u001b[0m\u001b[0;34m:\u001b[0m \u001b[0mint\u001b[0m\u001b[0;34m)\u001b[0m\u001b[0;34m:\u001b[0m\u001b[0;34m\u001b[0m\u001b[0;34m\u001b[0m\u001b[0m\n",
            "\u001b[0;32m/usr/local/lib/python3.10/dist-packages/pandas/core/indexing.py\u001b[0m in \u001b[0;36m_get_label\u001b[0;34m(self, label, axis)\u001b[0m\n\u001b[1;32m   1258\u001b[0m     \u001b[0;32mdef\u001b[0m \u001b[0m_get_label\u001b[0m\u001b[0;34m(\u001b[0m\u001b[0mself\u001b[0m\u001b[0;34m,\u001b[0m \u001b[0mlabel\u001b[0m\u001b[0;34m,\u001b[0m \u001b[0maxis\u001b[0m\u001b[0;34m:\u001b[0m \u001b[0mint\u001b[0m\u001b[0;34m)\u001b[0m\u001b[0;34m:\u001b[0m\u001b[0;34m\u001b[0m\u001b[0;34m\u001b[0m\u001b[0m\n\u001b[1;32m   1259\u001b[0m         \u001b[0;31m# GH#5567 this will fail if the label is not present in the axis.\u001b[0m\u001b[0;34m\u001b[0m\u001b[0;34m\u001b[0m\u001b[0m\n\u001b[0;32m-> 1260\u001b[0;31m         \u001b[0;32mreturn\u001b[0m \u001b[0mself\u001b[0m\u001b[0;34m.\u001b[0m\u001b[0mobj\u001b[0m\u001b[0;34m.\u001b[0m\u001b[0mxs\u001b[0m\u001b[0;34m(\u001b[0m\u001b[0mlabel\u001b[0m\u001b[0;34m,\u001b[0m \u001b[0maxis\u001b[0m\u001b[0;34m=\u001b[0m\u001b[0maxis\u001b[0m\u001b[0;34m)\u001b[0m\u001b[0;34m\u001b[0m\u001b[0;34m\u001b[0m\u001b[0m\n\u001b[0m\u001b[1;32m   1261\u001b[0m \u001b[0;34m\u001b[0m\u001b[0m\n\u001b[1;32m   1262\u001b[0m     \u001b[0;32mdef\u001b[0m \u001b[0m_handle_lowerdim_multi_index_axis0\u001b[0m\u001b[0;34m(\u001b[0m\u001b[0mself\u001b[0m\u001b[0;34m,\u001b[0m \u001b[0mtup\u001b[0m\u001b[0;34m:\u001b[0m \u001b[0mtuple\u001b[0m\u001b[0;34m)\u001b[0m\u001b[0;34m:\u001b[0m\u001b[0;34m\u001b[0m\u001b[0;34m\u001b[0m\u001b[0m\n",
            "\u001b[0;32m/usr/local/lib/python3.10/dist-packages/pandas/core/generic.py\u001b[0m in \u001b[0;36mxs\u001b[0;34m(self, key, axis, level, drop_level)\u001b[0m\n\u001b[1;32m   4054\u001b[0m                     \u001b[0mnew_index\u001b[0m \u001b[0;34m=\u001b[0m \u001b[0mindex\u001b[0m\u001b[0;34m[\u001b[0m\u001b[0mloc\u001b[0m\u001b[0;34m]\u001b[0m\u001b[0;34m\u001b[0m\u001b[0;34m\u001b[0m\u001b[0m\n\u001b[1;32m   4055\u001b[0m         \u001b[0;32melse\u001b[0m\u001b[0;34m:\u001b[0m\u001b[0;34m\u001b[0m\u001b[0;34m\u001b[0m\u001b[0m\n\u001b[0;32m-> 4056\u001b[0;31m             \u001b[0mloc\u001b[0m \u001b[0;34m=\u001b[0m \u001b[0mindex\u001b[0m\u001b[0;34m.\u001b[0m\u001b[0mget_loc\u001b[0m\u001b[0;34m(\u001b[0m\u001b[0mkey\u001b[0m\u001b[0;34m)\u001b[0m\u001b[0;34m\u001b[0m\u001b[0;34m\u001b[0m\u001b[0m\n\u001b[0m\u001b[1;32m   4057\u001b[0m \u001b[0;34m\u001b[0m\u001b[0m\n\u001b[1;32m   4058\u001b[0m             \u001b[0;32mif\u001b[0m \u001b[0misinstance\u001b[0m\u001b[0;34m(\u001b[0m\u001b[0mloc\u001b[0m\u001b[0;34m,\u001b[0m \u001b[0mnp\u001b[0m\u001b[0;34m.\u001b[0m\u001b[0mndarray\u001b[0m\u001b[0;34m)\u001b[0m\u001b[0;34m:\u001b[0m\u001b[0;34m\u001b[0m\u001b[0;34m\u001b[0m\u001b[0m\n",
            "\u001b[0;32m/usr/local/lib/python3.10/dist-packages/pandas/core/indexes/base.py\u001b[0m in \u001b[0;36mget_loc\u001b[0;34m(self, key, method, tolerance)\u001b[0m\n\u001b[1;32m   3802\u001b[0m                 \u001b[0;32mreturn\u001b[0m \u001b[0mself\u001b[0m\u001b[0;34m.\u001b[0m\u001b[0m_engine\u001b[0m\u001b[0;34m.\u001b[0m\u001b[0mget_loc\u001b[0m\u001b[0;34m(\u001b[0m\u001b[0mcasted_key\u001b[0m\u001b[0;34m)\u001b[0m\u001b[0;34m\u001b[0m\u001b[0;34m\u001b[0m\u001b[0m\n\u001b[1;32m   3803\u001b[0m             \u001b[0;32mexcept\u001b[0m \u001b[0mKeyError\u001b[0m \u001b[0;32mas\u001b[0m \u001b[0merr\u001b[0m\u001b[0;34m:\u001b[0m\u001b[0;34m\u001b[0m\u001b[0;34m\u001b[0m\u001b[0m\n\u001b[0;32m-> 3804\u001b[0;31m                 \u001b[0;32mraise\u001b[0m \u001b[0mKeyError\u001b[0m\u001b[0;34m(\u001b[0m\u001b[0mkey\u001b[0m\u001b[0;34m)\u001b[0m \u001b[0;32mfrom\u001b[0m \u001b[0merr\u001b[0m\u001b[0;34m\u001b[0m\u001b[0;34m\u001b[0m\u001b[0m\n\u001b[0m\u001b[1;32m   3805\u001b[0m             \u001b[0;32mexcept\u001b[0m \u001b[0mTypeError\u001b[0m\u001b[0;34m:\u001b[0m\u001b[0;34m\u001b[0m\u001b[0;34m\u001b[0m\u001b[0m\n\u001b[1;32m   3806\u001b[0m                 \u001b[0;31m# If we have a listlike key, _check_indexing_error will raise\u001b[0m\u001b[0;34m\u001b[0m\u001b[0;34m\u001b[0m\u001b[0m\n",
            "\u001b[0;31mKeyError\u001b[0m: 3"
          ]
        }
      ]
    },
    {
      "cell_type": "code",
      "source": [
        "print(pandas_series.iloc[3])"
      ],
      "metadata": {
        "colab": {
          "base_uri": "https://localhost:8080/"
        },
        "id": "VC4PSCjGEu0W",
        "outputId": "0c83bbc9-e0b2-477e-efe3-5f4d74ee20ce"
      },
      "execution_count": null,
      "outputs": [
        {
          "output_type": "stream",
          "name": "stdout",
          "text": [
            "5\n"
          ]
        }
      ]
    },
    {
      "cell_type": "code",
      "source": [
        "print('삭제전:\\n',pandas_series)\n",
        "pandas_series = pandas_series.drop([0,1])\n",
        "print('삭제후:\\n',pandas_series)"
      ],
      "metadata": {
        "colab": {
          "base_uri": "https://localhost:8080/"
        },
        "id": "ngaJSmaXTgIe",
        "outputId": "dec6ec28-a482-4c54-b605-275ca830c371"
      },
      "execution_count": null,
      "outputs": [
        {
          "output_type": "stream",
          "name": "stdout",
          "text": [
            "삭제전:\n",
            " 0    1\n",
            "1    2\n",
            "2    3\n",
            "4    5\n",
            "dtype: int64\n",
            "삭제후:\n",
            " 2    3\n",
            "4    5\n",
            "dtype: int64\n"
          ]
        }
      ]
    },
    {
      "cell_type": "code",
      "source": [
        "import pandas as pd\n",
        "\n",
        "df = pd.DataFrame({'국어':[100,95,80,95,90,85],\n",
        "                   '영어':[90,95,100,70,75,100],\n",
        "                   '수학':[50,60,70,80,90,100]})\n",
        "print('삭제전\\n',df)\n",
        "df = df.drop(2)\n",
        "df = df.drop([4,5])\n",
        "print('삭제후\\n',df)"
      ],
      "metadata": {
        "colab": {
          "base_uri": "https://localhost:8080/"
        },
        "id": "sKE4x0z7ihxM",
        "outputId": "66b388c2-d635-416e-8199-0838bf061fda"
      },
      "execution_count": null,
      "outputs": [
        {
          "output_type": "stream",
          "name": "stdout",
          "text": [
            "삭제전\n",
            "     국어   영어   수학\n",
            "0  100   90   50\n",
            "1   95   95   60\n",
            "2   80  100   70\n",
            "3   95   70   80\n",
            "4   90   75   90\n",
            "5   85  100  100\n",
            "삭제후\n",
            "     국어  영어  수학\n",
            "0  100  90  50\n",
            "1   95  95  60\n",
            "3   95  70  80\n"
          ]
        }
      ]
    },
    {
      "cell_type": "code",
      "source": [
        "import pandas as pd\n",
        "\n",
        "df = pd.DataFrame({'국어':[100,95,80,95,90,85],\n",
        "                   '영어':[90,95,100,70,75,100],\n",
        "                   '수학':[50,60,70,80,90,100]})\n",
        "print('삭제전\\n',df)\n",
        "df = df.drop(['국어','영어'],axis=1)\n",
        "print('삭제후\\n',df)"
      ],
      "metadata": {
        "colab": {
          "base_uri": "https://localhost:8080/"
        },
        "id": "iH665dBY6Mr3",
        "outputId": "1081bec5-545e-40c9-8ad6-cc304c9973eb"
      },
      "execution_count": null,
      "outputs": [
        {
          "output_type": "stream",
          "name": "stdout",
          "text": [
            "삭제전\n",
            "     국어   영어   수학\n",
            "0  100   90   50\n",
            "1   95   95   60\n",
            "2   80  100   70\n",
            "3   95   70   80\n",
            "4   90   75   90\n",
            "5   85  100  100\n",
            "삭제후\n",
            "     수학\n",
            "0   50\n",
            "1   60\n",
            "2   70\n",
            "3   80\n",
            "4   90\n",
            "5  100\n"
          ]
        }
      ]
    },
    {
      "cell_type": "markdown",
      "source": [
        "추가"
      ],
      "metadata": {
        "id": "2_qVfZ-XkMiD"
      }
    },
    {
      "cell_type": "code",
      "source": [
        "import pandas as pd\n",
        "\n",
        "pandas_series = pd.Series([1,2,3])\n",
        "print('추가전:\\n',pandas_series)\n",
        "pandas_series[3] = 4\n",
        "pandas_series.loc[9] = 10\n",
        "print('추가후:\\n',pandas_series)"
      ],
      "metadata": {
        "colab": {
          "base_uri": "https://localhost:8080/"
        },
        "id": "Mp4ZHvKFy8RP",
        "outputId": "9d6e9ed6-066c-4984-f049-624ff3662af7"
      },
      "execution_count": null,
      "outputs": [
        {
          "output_type": "stream",
          "name": "stdout",
          "text": [
            "추가전:\n",
            " 0    1\n",
            "1    2\n",
            "2    3\n",
            "dtype: int64\n",
            "추가후:\n",
            " 0     1\n",
            "1     2\n",
            "2     3\n",
            "3     4\n",
            "9    10\n",
            "dtype: int64\n"
          ]
        }
      ]
    },
    {
      "cell_type": "code",
      "source": [
        "import pandas as pd\n",
        "\n",
        "df = pd.DataFrame({'국어':[100,95,80,95,90],\n",
        "                   '영어':[90,95,100,70,75],\n",
        "                   '수학':[50,60,70,80,90]})\n",
        "print('추가전\\n',df)\n",
        "df['과탐'] = [100,90,80,70,60]  # 열추가\n",
        "df.loc[5] = [99,99,99,99]       # 행추가\n",
        "print('추가후\\n',df)"
      ],
      "metadata": {
        "colab": {
          "base_uri": "https://localhost:8080/"
        },
        "id": "SZhAQW1__a-A",
        "outputId": "0c0e0ba3-a90a-4c3d-dae8-583634bd841b"
      },
      "execution_count": null,
      "outputs": [
        {
          "output_type": "stream",
          "name": "stdout",
          "text": [
            "추가전\n",
            "     국어   영어  수학\n",
            "0  100   90  50\n",
            "1   95   95  60\n",
            "2   80  100  70\n",
            "3   95   70  80\n",
            "4   90   75  90\n",
            "추가후\n",
            "     국어   영어  수학   과탐\n",
            "0  100   90  50  100\n",
            "1   95   95  60   90\n",
            "2   80  100  70   80\n",
            "3   95   70  80   70\n",
            "4   90   75  90   60\n",
            "5   99   99  99   99\n"
          ]
        }
      ]
    },
    {
      "cell_type": "markdown",
      "source": [
        "matplotlib 그래프 그리기"
      ],
      "metadata": {
        "id": "XH27bHACRiAF"
      }
    },
    {
      "cell_type": "code",
      "source": [
        "import pandas as pd\n",
        "import matplotlib.pyplot as plt\n",
        "\n",
        "df = pd.DataFrame({'korean':[100,95,80,95,90,85],\n",
        "                   'english':[90,95,100,70,75,100],\n",
        "                   'math':[50,60,70,80,90,100]})\n",
        "plt.figure(figsize=(3,3))\n",
        "plt.grid()\n",
        "plt.scatter(df['korean'],df['english'])\n",
        "plt.show()"
      ],
      "metadata": {
        "colab": {
          "base_uri": "https://localhost:8080/",
          "height": 291
        },
        "id": "43DJAHOARnMq",
        "outputId": "661db2d1-660c-4e4f-ab53-c1bf9380bbbf"
      },
      "execution_count": null,
      "outputs": [
        {
          "output_type": "display_data",
          "data": {
            "text/plain": [
              "<Figure size 300x300 with 1 Axes>"
            ],
            "image/png": "[encoded data removed]"
          },
          "metadata": {}
        }
      ]
    },
    {
      "cell_type": "code",
      "source": [
        "df.plot('korean', 'english', kind='scatter', grid=True)\n",
        "plt.show()"
      ],
      "metadata": {
        "colab": {
          "base_uri": "https://localhost:8080/",
          "height": 449
        },
        "id": "Nar6vXyE3dTu",
        "outputId": "5e67baa0-f6e7-478d-fde5-59f61137ef5f"
      },
      "execution_count": null,
      "outputs": [
        {
          "output_type": "display_data",
          "data": {
            "text/plain": [
              "<Figure size 640x480 with 1 Axes>"
            ],
            "image/png": "[encoded data removed]"
          },
          "metadata": {}
        }
      ]
    },
    {
      "cell_type": "code",
      "source": [
        "pd.plotting.scatter_matrix(df)\n",
        "plt.show()"
      ],
      "metadata": {
        "colab": {
          "base_uri": "https://localhost:8080/",
          "height": 457
        },
        "id": "jPOO60vf5DnZ",
        "outputId": "ef74e22c-9be1-46ce-c8c4-49e2d4b6dbaf"
      },
      "execution_count": null,
      "outputs": [
        {
          "output_type": "display_data",
          "data": {
            "text/plain": [
              "<Figure size 640x480 with 9 Axes>"
            ],
            "image/png": "[encoded data removed]"
          },
          "metadata": {}
        }
      ]
    },
    {
      "cell_type": "code",
      "source": [
        "import numpy as np\n",
        "import pandas as pd\n",
        "import matplotlib.pyplot as plt\n",
        "\n",
        "ages = [10, 17, 27, 24, 38, 35, 29, 40, 12, 32, 23, 21]\n",
        "weights = [30, 45, 58, 50, 61, 65, 50, 51, 35, 62, 50, 40]\n",
        "\n",
        "df = pd.DataFrame({\"ages\": ages, \"weights\": weights})\n",
        "df.plot(\"ages\",\"weights\",kind=\"scatter\",grid=True,s=df[\"weights\"]*30,c=\"weights\",cmap=\"jet\")\n",
        "plt.show()"
      ],
      "metadata": {
        "colab": {
          "base_uri": "https://localhost:8080/",
          "height": 455
        },
        "id": "4ljb3ta4pTfy",
        "outputId": "f639b7eb-dfd5-41f1-b505-7b6158d0e66e"
      },
      "execution_count": 45,
      "outputs": [
        {
          "output_type": "display_data",
          "data": {
            "text/plain": [
              "<Figure size 640x480 with 2 Axes>"
            ],
            "image/png": "[encoded data removed]"
          },
          "metadata": {}
        }
      ]
    },
    {
      "cell_type": "markdown",
      "source": [
        "파일 입출력"
      ],
      "metadata": {
        "id": "qt6jXmFv8lyd"
      }
    },
    {
      "cell_type": "code",
      "source": [
        "import pandas as pd\n",
        "\n",
        "df = pd.DataFrame({'국어':[100,95,80,95,90,85],\n",
        "                   '영어':[90,95,100,70,75,100],\n",
        "                   '수학':[50,60,70,80,90,100],\n",
        "                   '과탐':[100,90,80,70,60,50],\n",
        "                   '사탐':[99,88,77,66,55,44]})\n",
        "\n",
        "df = df.drop(3)\n",
        "print('pandas 데이터프레임\\n',df)\n",
        "df.to_csv('scores.csv',index_label='index',encoding='utf8')"
      ],
      "metadata": {
        "colab": {
          "base_uri": "https://localhost:8080/"
        },
        "id": "yOnJE0MZKVHr",
        "outputId": "e384fdaa-cf7b-41e9-da0e-6b1bfe8a7240"
      },
      "execution_count": null,
      "outputs": [
        {
          "output_type": "stream",
          "name": "stdout",
          "text": [
            "pandas 데이터프레임\n",
            "     국어   영어   수학   과탐  사탐\n",
            "0  100   90   50  100  99\n",
            "1   95   95   60   90  88\n",
            "2   80  100   70   80  77\n",
            "4   90   75   90   60  55\n",
            "5   85  100  100   50  44\n"
          ]
        }
      ]
    },
    {
      "cell_type": "code",
      "source": [
        "import pandas as pd\n",
        "\n",
        "df = pd.read_csv('scores.csv',index_col='index',encoding='utf8')\n",
        "print('pandas 데이터프레임\\n',df)"
      ],
      "metadata": {
        "colab": {
          "base_uri": "https://localhost:8080/"
        },
        "id": "uJzTRU45NvG3",
        "outputId": "7548822c-2d37-451a-8b0c-625402b82bbb"
      },
      "execution_count": null,
      "outputs": [
        {
          "output_type": "stream",
          "name": "stdout",
          "text": [
            "pandas 데이터프레임\n",
            "         국어   영어   수학   과탐  사탐\n",
            "index                        \n",
            "0      100   90   50  100  99\n",
            "1       95   95   60   90  88\n",
            "2       80  100   70   80  77\n",
            "4       90   75   90   60  55\n",
            "5       85  100  100   50  44\n"
          ]
        }
      ]
    },
    {
      "cell_type": "markdown",
      "source": [
        "데이터 분석과 정렬"
      ],
      "metadata": {
        "id": "Dx9jcAdIhopt"
      }
    },
    {
      "cell_type": "code",
      "source": [
        "labels=['가','양','미','우','수']\n",
        "bins=[0, 59, 69, 79, 89, 100]\n",
        "math_grades = pd.cut(df[\"수학\"], bins=bins, labels=labels)\n",
        "\n",
        "print('수학성적',np.array(df[\"수학\"]))\n",
        "print('수학등급',list(math_grades))"
      ],
      "metadata": {
        "colab": {
          "base_uri": "https://localhost:8080/"
        },
        "id": "zsWOXP7dQ1Ba",
        "outputId": "47902463-1c8e-40bf-f387-9101d1092245"
      },
      "execution_count": null,
      "outputs": [
        {
          "output_type": "stream",
          "name": "stdout",
          "text": [
            "수학성적 [ 50  60  70  90 100]\n",
            "수학등급 ['가', '양', '미', '수', '수']\n"
          ]
        }
      ]
    },
    {
      "cell_type": "code",
      "source": [
        "import pandas as pd\n",
        "import numpy as np\n",
        "\n",
        "# 샘플 데이터 생성\n",
        "data = pd.Series([55, 60, 65, 75, 85, 95, 100])\n",
        "\n",
        "# bins를 수정하여 첫 번째 원소를 최소값 이상으로 설정\n",
        "bins = np.array([60, 70, 80, 90, 100])\n",
        "\n",
        "# labels 지정\n",
        "labels = ['양', '미', '우', '수']\n",
        "\n",
        "# pd.cut을 사용하여 등급 만들기\n",
        "grades = pd.cut(data, bins=bins, labels=labels)\n",
        "\n",
        "# 결과 출력\n",
        "print(grades)"
      ],
      "metadata": {
        "colab": {
          "base_uri": "https://localhost:8080/"
        },
        "id": "Tg44I4Y9Tvts",
        "outputId": "0b22980d-4f1f-4098-d466-6eb4fe3127ea"
      },
      "execution_count": null,
      "outputs": [
        {
          "output_type": "stream",
          "name": "stdout",
          "text": [
            "0    NaN\n",
            "1    NaN\n",
            "2      양\n",
            "3      미\n",
            "4      우\n",
            "5      수\n",
            "6      수\n",
            "dtype: category\n",
            "Categories (4, object): ['양' < '미' < '우' < '수']\n"
          ]
        }
      ]
    },
    {
      "cell_type": "code",
      "source": [
        "df.describe()"
      ],
      "metadata": {
        "colab": {
          "base_uri": "https://localhost:8080/",
          "height": 300
        },
        "id": "w314VtpY7ABm",
        "outputId": "7d6c2006-f67f-42bc-d4c5-25d8799f39de"
      },
      "execution_count": null,
      "outputs": [
        {
          "output_type": "execute_result",
          "data": {
            "text/plain": [
              "               국어          영어          수학          과탐         사탐\n",
              "count    5.000000    5.000000    5.000000    5.000000   5.000000\n",
              "mean    90.000000   92.000000   74.000000   76.000000  72.600000\n",
              "std      7.905694   10.368221   20.736441   20.736441  22.810085\n",
              "min     80.000000   75.000000   50.000000   50.000000  44.000000\n",
              "25%     85.000000   90.000000   60.000000   60.000000  55.000000\n",
              "50%     90.000000   95.000000   70.000000   80.000000  77.000000\n",
              "75%     95.000000  100.000000   90.000000   90.000000  88.000000\n",
              "max    100.000000  100.000000  100.000000  100.000000  99.000000"
            ],
            "text/html": [
              "\n",
              "  <div id=\"df-6f46f778-e6e8-4027-bb60-b8d5fa0a0151\" class=\"colab-df-container\">\n",
              "    <div>\n",
              "<style scoped>\n",
              "    .dataframe tbody tr th:only-of-type {\n",
              "        vertical-align: middle;\n",
              "    }\n",
              "\n",
              "    .dataframe tbody tr th {\n",
              "        vertical-align: top;\n",
              "    }\n",
              "\n",
              "    .dataframe thead th {\n",
              "        text-align: right;\n",
              "    }\n",
              "</style>\n",
              "<table border=\"1\" class=\"dataframe\">\n",
              "  <thead>\n",
              "    <tr style=\"text-align: right;\">\n",
              "      <th></th>\n",
              "      <th>국어</th>\n",
              "      <th>영어</th>\n",
              "      <th>수학</th>\n",
              "      <th>과탐</th>\n",
              "      <th>사탐</th>\n",
              "    </tr>\n",
              "  </thead>\n",
              "  <tbody>\n",
              "    <tr>\n",
              "      <th>count</th>\n",
              "      <td>5.000000</td>\n",
              "      <td>5.000000</td>\n",
              "      <td>5.000000</td>\n",
              "      <td>5.000000</td>\n",
              "      <td>5.000000</td>\n",
              "    </tr>\n",
              "    <tr>\n",
              "      <th>mean</th>\n",
              "      <td>90.000000</td>\n",
              "      <td>92.000000</td>\n",
              "      <td>74.000000</td>\n",
              "      <td>76.000000</td>\n",
              "      <td>72.600000</td>\n",
              "    </tr>\n",
              "    <tr>\n",
              "      <th>std</th>\n",
              "      <td>7.905694</td>\n",
              "      <td>10.368221</td>\n",
              "      <td>20.736441</td>\n",
              "      <td>20.736441</td>\n",
              "      <td>22.810085</td>\n",
              "    </tr>\n",
              "    <tr>\n",
              "      <th>min</th>\n",
              "      <td>80.000000</td>\n",
              "      <td>75.000000</td>\n",
              "      <td>50.000000</td>\n",
              "      <td>50.000000</td>\n",
              "      <td>44.000000</td>\n",
              "    </tr>\n",
              "    <tr>\n",
              "      <th>25%</th>\n",
              "      <td>85.000000</td>\n",
              "      <td>90.000000</td>\n",
              "      <td>60.000000</td>\n",
              "      <td>60.000000</td>\n",
              "      <td>55.000000</td>\n",
              "    </tr>\n",
              "    <tr>\n",
              "      <th>50%</th>\n",
              "      <td>90.000000</td>\n",
              "      <td>95.000000</td>\n",
              "      <td>70.000000</td>\n",
              "      <td>80.000000</td>\n",
              "      <td>77.000000</td>\n",
              "    </tr>\n",
              "    <tr>\n",
              "      <th>75%</th>\n",
              "      <td>95.000000</td>\n",
              "      <td>100.000000</td>\n",
              "      <td>90.000000</td>\n",
              "      <td>90.000000</td>\n",
              "      <td>88.000000</td>\n",
              "    </tr>\n",
              "    <tr>\n",
              "      <th>max</th>\n",
              "      <td>100.000000</td>\n",
              "      <td>100.000000</td>\n",
              "      <td>100.000000</td>\n",
              "      <td>100.000000</td>\n",
              "      <td>99.000000</td>\n",
              "    </tr>\n",
              "  </tbody>\n",
              "</table>\n",
              "</div>\n",
              "    <div class=\"colab-df-buttons\">\n",
              "\n",
              "  <div class=\"colab-df-container\">\n",
              "    <button class=\"colab-df-convert\" onclick=\"convertToInteractive('df-6f46f778-e6e8-4027-bb60-b8d5fa0a0151')\"\n",
              "            title=\"Convert this dataframe to an interactive table.\"\n",
              "            style=\"display:none;\">\n",
              "\n",
              "  <svg xmlns=\"http://www.w3.org/2000/svg\" height=\"24px\" viewBox=\"0 -960 960 960\">\n",
              "    <path d=\"M120-120v-720h720v720H120Zm60-500h600v-160H180v160Zm220 220h160v-160H400v160Zm0 220h160v-160H400v160ZM180-400h160v-160H180v160Zm440 0h160v-160H620v160ZM180-180h160v-160H180v160Zm440 0h160v-160H620v160Z\"/>\n",
              "  </svg>\n",
              "    </button>\n",
              "\n",
              "  <style>\n",
              "    .colab-df-container {\n",
              "      display:flex;\n",
              "      gap: 12px;\n",
              "    }\n",
              "\n",
              "    .colab-df-convert {\n",
              "      background-color: #E8F0FE;\n",
              "      border: none;\n",
              "      border-radius: 50%;\n",
              "      cursor: pointer;\n",
              "      display: none;\n",
              "      fill: #1967D2;\n",
              "      height: 32px;\n",
              "      padding: 0 0 0 0;\n",
              "      width: 32px;\n",
              "    }\n",
              "\n",
              "    .colab-df-convert:hover {\n",
              "      background-color: #E2EBFA;\n",
              "      box-shadow: 0px 1px 2px rgba(60, 64, 67, 0.3), 0px 1px 3px 1px rgba(60, 64, 67, 0.15);\n",
              "      fill: #174EA6;\n",
              "    }\n",
              "\n",
              "    .colab-df-buttons div {\n",
              "      margin-bottom: 4px;\n",
              "    }\n",
              "\n",
              "    [theme=dark] .colab-df-convert {\n",
              "      background-color: #3B4455;\n",
              "      fill: #D2E3FC;\n",
              "    }\n",
              "\n",
              "    [theme=dark] .colab-df-convert:hover {\n",
              "      background-color: #434B5C;\n",
              "      box-shadow: 0px 1px 3px 1px rgba(0, 0, 0, 0.15);\n",
              "      filter: drop-shadow(0px 1px 2px rgba(0, 0, 0, 0.3));\n",
              "      fill: #FFFFFF;\n",
              "    }\n",
              "  </style>\n",
              "\n",
              "    <script>\n",
              "      const buttonEl =\n",
              "        document.querySelector('#df-6f46f778-e6e8-4027-bb60-b8d5fa0a0151 button.colab-df-convert');\n",
              "      buttonEl.style.display =\n",
              "        google.colab.kernel.accessAllowed ? 'block' : 'none';\n",
              "\n",
              "      async function convertToInteractive(key) {\n",
              "        const element = document.querySelector('#df-6f46f778-e6e8-4027-bb60-b8d5fa0a0151');\n",
              "        const dataTable =\n",
              "          await google.colab.kernel.invokeFunction('convertToInteractive',\n",
              "                                                    [key], {});\n",
              "        if (!dataTable) return;\n",
              "\n",
              "        const docLinkHtml = 'Like what you see? Visit the ' +\n",
              "          '<a target=\"_blank\" href=https://colab.research.google.com/notebooks/data_table.ipynb>data table notebook</a>'\n",
              "          + ' to learn more about interactive tables.';\n",
              "        element.innerHTML = '';\n",
              "        dataTable['output_type'] = 'display_data';\n",
              "        await google.colab.output.renderOutput(dataTable, element);\n",
              "        const docLink = document.createElement('div');\n",
              "        docLink.innerHTML = docLinkHtml;\n",
              "        element.appendChild(docLink);\n",
              "      }\n",
              "    </script>\n",
              "  </div>\n",
              "\n",
              "\n",
              "<div id=\"df-55fc1a2f-7c18-4d7e-a063-dee8c8f40102\">\n",
              "  <button class=\"colab-df-quickchart\" onclick=\"quickchart('df-55fc1a2f-7c18-4d7e-a063-dee8c8f40102')\"\n",
              "            title=\"Suggest charts\"\n",
              "            style=\"display:none;\">\n",
              "\n",
              "<svg xmlns=\"http://www.w3.org/2000/svg\" height=\"24px\"viewBox=\"0 0 24 24\"\n",
              "     width=\"24px\">\n",
              "    <g>\n",
              "        <path d=\"M19 3H5c-1.1 0-2 .9-2 2v14c0 1.1.9 2 2 2h14c1.1 0 2-.9 2-2V5c0-1.1-.9-2-2-2zM9 17H7v-7h2v7zm4 0h-2V7h2v10zm4 0h-2v-4h2v4z\"/>\n",
              "    </g>\n",
              "</svg>\n",
              "  </button>\n",
              "\n",
              "<style>\n",
              "  .colab-df-quickchart {\n",
              "      --bg-color: #E8F0FE;\n",
              "      --fill-color: #1967D2;\n",
              "      --hover-bg-color: #E2EBFA;\n",
              "      --hover-fill-color: #174EA6;\n",
              "      --disabled-fill-color: #AAA;\n",
              "      --disabled-bg-color: #DDD;\n",
              "  }\n",
              "\n",
              "  [theme=dark] .colab-df-quickchart {\n",
              "      --bg-color: #3B4455;\n",
              "      --fill-color: #D2E3FC;\n",
              "      --hover-bg-color: #434B5C;\n",
              "      --hover-fill-color: #FFFFFF;\n",
              "      --disabled-bg-color: #3B4455;\n",
              "      --disabled-fill-color: #666;\n",
              "  }\n",
              "\n",
              "  .colab-df-quickchart {\n",
              "    background-color: var(--bg-color);\n",
              "    border: none;\n",
              "    border-radius: 50%;\n",
              "    cursor: pointer;\n",
              "    display: none;\n",
              "    fill: var(--fill-color);\n",
              "    height: 32px;\n",
              "    padding: 0;\n",
              "    width: 32px;\n",
              "  }\n",
              "\n",
              "  .colab-df-quickchart:hover {\n",
              "    background-color: var(--hover-bg-color);\n",
              "    box-shadow: 0 1px 2px rgba(60, 64, 67, 0.3), 0 1px 3px 1px rgba(60, 64, 67, 0.15);\n",
              "    fill: var(--button-hover-fill-color);\n",
              "  }\n",
              "\n",
              "  .colab-df-quickchart-complete:disabled,\n",
              "  .colab-df-quickchart-complete:disabled:hover {\n",
              "    background-color: var(--disabled-bg-color);\n",
              "    fill: var(--disabled-fill-color);\n",
              "    box-shadow: none;\n",
              "  }\n",
              "\n",
              "  .colab-df-spinner {\n",
              "    border: 2px solid var(--fill-color);\n",
              "    border-color: transparent;\n",
              "    border-bottom-color: var(--fill-color);\n",
              "    animation:\n",
              "      spin 1s steps(1) infinite;\n",
              "  }\n",
              "\n",
              "  @keyframes spin {\n",
              "    0% {\n",
              "      border-color: transparent;\n",
              "      border-bottom-color: var(--fill-color);\n",
              "      border-left-color: var(--fill-color);\n",
              "    }\n",
              "    20% {\n",
              "      border-color: transparent;\n",
              "      border-left-color: var(--fill-color);\n",
              "      border-top-color: var(--fill-color);\n",
              "    }\n",
              "    30% {\n",
              "      border-color: transparent;\n",
              "      border-left-color: var(--fill-color);\n",
              "      border-top-color: var(--fill-color);\n",
              "      border-right-color: var(--fill-color);\n",
              "    }\n",
              "    40% {\n",
              "      border-color: transparent;\n",
              "      border-right-color: var(--fill-color);\n",
              "      border-top-color: var(--fill-color);\n",
              "    }\n",
              "    60% {\n",
              "      border-color: transparent;\n",
              "      border-right-color: var(--fill-color);\n",
              "    }\n",
              "    80% {\n",
              "      border-color: transparent;\n",
              "      border-right-color: var(--fill-color);\n",
              "      border-bottom-color: var(--fill-color);\n",
              "    }\n",
              "    90% {\n",
              "      border-color: transparent;\n",
              "      border-bottom-color: var(--fill-color);\n",
              "    }\n",
              "  }\n",
              "</style>\n",
              "\n",
              "  <script>\n",
              "    async function quickchart(key) {\n",
              "      const quickchartButtonEl =\n",
              "        document.querySelector('#' + key + ' button');\n",
              "      quickchartButtonEl.disabled = true;  // To prevent multiple clicks.\n",
              "      quickchartButtonEl.classList.add('colab-df-spinner');\n",
              "      try {\n",
              "        const charts = await google.colab.kernel.invokeFunction(\n",
              "            'suggestCharts', [key], {});\n",
              "      } catch (error) {\n",
              "        console.error('Error during call to suggestCharts:', error);\n",
              "      }\n",
              "      quickchartButtonEl.classList.remove('colab-df-spinner');\n",
              "      quickchartButtonEl.classList.add('colab-df-quickchart-complete');\n",
              "    }\n",
              "    (() => {\n",
              "      let quickchartButtonEl =\n",
              "        document.querySelector('#df-55fc1a2f-7c18-4d7e-a063-dee8c8f40102 button');\n",
              "      quickchartButtonEl.style.display =\n",
              "        google.colab.kernel.accessAllowed ? 'block' : 'none';\n",
              "    })();\n",
              "  </script>\n",
              "</div>\n",
              "\n",
              "    </div>\n",
              "  </div>\n"
            ]
          },
          "metadata": {},
          "execution_count": 5
        }
      ]
    },
    {
      "cell_type": "code",
      "source": [
        "df.sort_values(by=[\"국어\",\"영어\"])"
      ],
      "metadata": {
        "colab": {
          "base_uri": "https://localhost:8080/",
          "height": 237
        },
        "id": "AzlkmNqC9PEH",
        "outputId": "94e6bc46-73b8-4a7e-987d-be032f126736"
      },
      "execution_count": null,
      "outputs": [
        {
          "output_type": "execute_result",
          "data": {
            "text/plain": [
              "    국어   영어   수학   과탐  사탐\n",
              "2   80  100   70   80  77\n",
              "5   85  100  100   50  44\n",
              "4   90   75   90   60  55\n",
              "3   95   70   80   70  66\n",
              "1   95   95   60   90  88\n",
              "0  100   90   50  100  99"
            ],
            "text/html": [
              "\n",
              "  <div id=\"df-88a66a1b-34e7-4ea7-94e3-3022e8d2530e\" class=\"colab-df-container\">\n",
              "    <div>\n",
              "<style scoped>\n",
              "    .dataframe tbody tr th:only-of-type {\n",
              "        vertical-align: middle;\n",
              "    }\n",
              "\n",
              "    .dataframe tbody tr th {\n",
              "        vertical-align: top;\n",
              "    }\n",
              "\n",
              "    .dataframe thead th {\n",
              "        text-align: right;\n",
              "    }\n",
              "</style>\n",
              "<table border=\"1\" class=\"dataframe\">\n",
              "  <thead>\n",
              "    <tr style=\"text-align: right;\">\n",
              "      <th></th>\n",
              "      <th>국어</th>\n",
              "      <th>영어</th>\n",
              "      <th>수학</th>\n",
              "      <th>과탐</th>\n",
              "      <th>사탐</th>\n",
              "    </tr>\n",
              "  </thead>\n",
              "  <tbody>\n",
              "    <tr>\n",
              "      <th>2</th>\n",
              "      <td>80</td>\n",
              "      <td>100</td>\n",
              "      <td>70</td>\n",
              "      <td>80</td>\n",
              "      <td>77</td>\n",
              "    </tr>\n",
              "    <tr>\n",
              "      <th>5</th>\n",
              "      <td>85</td>\n",
              "      <td>100</td>\n",
              "      <td>100</td>\n",
              "      <td>50</td>\n",
              "      <td>44</td>\n",
              "    </tr>\n",
              "    <tr>\n",
              "      <th>4</th>\n",
              "      <td>90</td>\n",
              "      <td>75</td>\n",
              "      <td>90</td>\n",
              "      <td>60</td>\n",
              "      <td>55</td>\n",
              "    </tr>\n",
              "    <tr>\n",
              "      <th>3</th>\n",
              "      <td>95</td>\n",
              "      <td>70</td>\n",
              "      <td>80</td>\n",
              "      <td>70</td>\n",
              "      <td>66</td>\n",
              "    </tr>\n",
              "    <tr>\n",
              "      <th>1</th>\n",
              "      <td>95</td>\n",
              "      <td>95</td>\n",
              "      <td>60</td>\n",
              "      <td>90</td>\n",
              "      <td>88</td>\n",
              "    </tr>\n",
              "    <tr>\n",
              "      <th>0</th>\n",
              "      <td>100</td>\n",
              "      <td>90</td>\n",
              "      <td>50</td>\n",
              "      <td>100</td>\n",
              "      <td>99</td>\n",
              "    </tr>\n",
              "  </tbody>\n",
              "</table>\n",
              "</div>\n",
              "    <div class=\"colab-df-buttons\">\n",
              "\n",
              "  <div class=\"colab-df-container\">\n",
              "    <button class=\"colab-df-convert\" onclick=\"convertToInteractive('df-88a66a1b-34e7-4ea7-94e3-3022e8d2530e')\"\n",
              "            title=\"Convert this dataframe to an interactive table.\"\n",
              "            style=\"display:none;\">\n",
              "\n",
              "  <svg xmlns=\"http://www.w3.org/2000/svg\" height=\"24px\" viewBox=\"0 -960 960 960\">\n",
              "    <path d=\"M120-120v-720h720v720H120Zm60-500h600v-160H180v160Zm220 220h160v-160H400v160Zm0 220h160v-160H400v160ZM180-400h160v-160H180v160Zm440 0h160v-160H620v160ZM180-180h160v-160H180v160Zm440 0h160v-160H620v160Z\"/>\n",
              "  </svg>\n",
              "    </button>\n",
              "\n",
              "  <style>\n",
              "    .colab-df-container {\n",
              "      display:flex;\n",
              "      gap: 12px;\n",
              "    }\n",
              "\n",
              "    .colab-df-convert {\n",
              "      background-color: #E8F0FE;\n",
              "      border: none;\n",
              "      border-radius: 50%;\n",
              "      cursor: pointer;\n",
              "      display: none;\n",
              "      fill: #1967D2;\n",
              "      height: 32px;\n",
              "      padding: 0 0 0 0;\n",
              "      width: 32px;\n",
              "    }\n",
              "\n",
              "    .colab-df-convert:hover {\n",
              "      background-color: #E2EBFA;\n",
              "      box-shadow: 0px 1px 2px rgba(60, 64, 67, 0.3), 0px 1px 3px 1px rgba(60, 64, 67, 0.15);\n",
              "      fill: #174EA6;\n",
              "    }\n",
              "\n",
              "    .colab-df-buttons div {\n",
              "      margin-bottom: 4px;\n",
              "    }\n",
              "\n",
              "    [theme=dark] .colab-df-convert {\n",
              "      background-color: #3B4455;\n",
              "      fill: #D2E3FC;\n",
              "    }\n",
              "\n",
              "    [theme=dark] .colab-df-convert:hover {\n",
              "      background-color: #434B5C;\n",
              "      box-shadow: 0px 1px 3px 1px rgba(0, 0, 0, 0.15);\n",
              "      filter: drop-shadow(0px 1px 2px rgba(0, 0, 0, 0.3));\n",
              "      fill: #FFFFFF;\n",
              "    }\n",
              "  </style>\n",
              "\n",
              "    <script>\n",
              "      const buttonEl =\n",
              "        document.querySelector('#df-88a66a1b-34e7-4ea7-94e3-3022e8d2530e button.colab-df-convert');\n",
              "      buttonEl.style.display =\n",
              "        google.colab.kernel.accessAllowed ? 'block' : 'none';\n",
              "\n",
              "      async function convertToInteractive(key) {\n",
              "        const element = document.querySelector('#df-88a66a1b-34e7-4ea7-94e3-3022e8d2530e');\n",
              "        const dataTable =\n",
              "          await google.colab.kernel.invokeFunction('convertToInteractive',\n",
              "                                                    [key], {});\n",
              "        if (!dataTable) return;\n",
              "\n",
              "        const docLinkHtml = 'Like what you see? Visit the ' +\n",
              "          '<a target=\"_blank\" href=https://colab.research.google.com/notebooks/data_table.ipynb>data table notebook</a>'\n",
              "          + ' to learn more about interactive tables.';\n",
              "        element.innerHTML = '';\n",
              "        dataTable['output_type'] = 'display_data';\n",
              "        await google.colab.output.renderOutput(dataTable, element);\n",
              "        const docLink = document.createElement('div');\n",
              "        docLink.innerHTML = docLinkHtml;\n",
              "        element.appendChild(docLink);\n",
              "      }\n",
              "    </script>\n",
              "  </div>\n",
              "\n",
              "\n",
              "<div id=\"df-9e93d314-636d-4e18-ac65-a7aa9afc9a9b\">\n",
              "  <button class=\"colab-df-quickchart\" onclick=\"quickchart('df-9e93d314-636d-4e18-ac65-a7aa9afc9a9b')\"\n",
              "            title=\"Suggest charts\"\n",
              "            style=\"display:none;\">\n",
              "\n",
              "<svg xmlns=\"http://www.w3.org/2000/svg\" height=\"24px\"viewBox=\"0 0 24 24\"\n",
              "     width=\"24px\">\n",
              "    <g>\n",
              "        <path d=\"M19 3H5c-1.1 0-2 .9-2 2v14c0 1.1.9 2 2 2h14c1.1 0 2-.9 2-2V5c0-1.1-.9-2-2-2zM9 17H7v-7h2v7zm4 0h-2V7h2v10zm4 0h-2v-4h2v4z\"/>\n",
              "    </g>\n",
              "</svg>\n",
              "  </button>\n",
              "\n",
              "<style>\n",
              "  .colab-df-quickchart {\n",
              "      --bg-color: #E8F0FE;\n",
              "      --fill-color: #1967D2;\n",
              "      --hover-bg-color: #E2EBFA;\n",
              "      --hover-fill-color: #174EA6;\n",
              "      --disabled-fill-color: #AAA;\n",
              "      --disabled-bg-color: #DDD;\n",
              "  }\n",
              "\n",
              "  [theme=dark] .colab-df-quickchart {\n",
              "      --bg-color: #3B4455;\n",
              "      --fill-color: #D2E3FC;\n",
              "      --hover-bg-color: #434B5C;\n",
              "      --hover-fill-color: #FFFFFF;\n",
              "      --disabled-bg-color: #3B4455;\n",
              "      --disabled-fill-color: #666;\n",
              "  }\n",
              "\n",
              "  .colab-df-quickchart {\n",
              "    background-color: var(--bg-color);\n",
              "    border: none;\n",
              "    border-radius: 50%;\n",
              "    cursor: pointer;\n",
              "    display: none;\n",
              "    fill: var(--fill-color);\n",
              "    height: 32px;\n",
              "    padding: 0;\n",
              "    width: 32px;\n",
              "  }\n",
              "\n",
              "  .colab-df-quickchart:hover {\n",
              "    background-color: var(--hover-bg-color);\n",
              "    box-shadow: 0 1px 2px rgba(60, 64, 67, 0.3), 0 1px 3px 1px rgba(60, 64, 67, 0.15);\n",
              "    fill: var(--button-hover-fill-color);\n",
              "  }\n",
              "\n",
              "  .colab-df-quickchart-complete:disabled,\n",
              "  .colab-df-quickchart-complete:disabled:hover {\n",
              "    background-color: var(--disabled-bg-color);\n",
              "    fill: var(--disabled-fill-color);\n",
              "    box-shadow: none;\n",
              "  }\n",
              "\n",
              "  .colab-df-spinner {\n",
              "    border: 2px solid var(--fill-color);\n",
              "    border-color: transparent;\n",
              "    border-bottom-color: var(--fill-color);\n",
              "    animation:\n",
              "      spin 1s steps(1) infinite;\n",
              "  }\n",
              "\n",
              "  @keyframes spin {\n",
              "    0% {\n",
              "      border-color: transparent;\n",
              "      border-bottom-color: var(--fill-color);\n",
              "      border-left-color: var(--fill-color);\n",
              "    }\n",
              "    20% {\n",
              "      border-color: transparent;\n",
              "      border-left-color: var(--fill-color);\n",
              "      border-top-color: var(--fill-color);\n",
              "    }\n",
              "    30% {\n",
              "      border-color: transparent;\n",
              "      border-left-color: var(--fill-color);\n",
              "      border-top-color: var(--fill-color);\n",
              "      border-right-color: var(--fill-color);\n",
              "    }\n",
              "    40% {\n",
              "      border-color: transparent;\n",
              "      border-right-color: var(--fill-color);\n",
              "      border-top-color: var(--fill-color);\n",
              "    }\n",
              "    60% {\n",
              "      border-color: transparent;\n",
              "      border-right-color: var(--fill-color);\n",
              "    }\n",
              "    80% {\n",
              "      border-color: transparent;\n",
              "      border-right-color: var(--fill-color);\n",
              "      border-bottom-color: var(--fill-color);\n",
              "    }\n",
              "    90% {\n",
              "      border-color: transparent;\n",
              "      border-bottom-color: var(--fill-color);\n",
              "    }\n",
              "  }\n",
              "</style>\n",
              "\n",
              "  <script>\n",
              "    async function quickchart(key) {\n",
              "      const quickchartButtonEl =\n",
              "        document.querySelector('#' + key + ' button');\n",
              "      quickchartButtonEl.disabled = true;  // To prevent multiple clicks.\n",
              "      quickchartButtonEl.classList.add('colab-df-spinner');\n",
              "      try {\n",
              "        const charts = await google.colab.kernel.invokeFunction(\n",
              "            'suggestCharts', [key], {});\n",
              "      } catch (error) {\n",
              "        console.error('Error during call to suggestCharts:', error);\n",
              "      }\n",
              "      quickchartButtonEl.classList.remove('colab-df-spinner');\n",
              "      quickchartButtonEl.classList.add('colab-df-quickchart-complete');\n",
              "    }\n",
              "    (() => {\n",
              "      let quickchartButtonEl =\n",
              "        document.querySelector('#df-9e93d314-636d-4e18-ac65-a7aa9afc9a9b button');\n",
              "      quickchartButtonEl.style.display =\n",
              "        google.colab.kernel.accessAllowed ? 'block' : 'none';\n",
              "    })();\n",
              "  </script>\n",
              "</div>\n",
              "\n",
              "    </div>\n",
              "  </div>\n"
            ]
          },
          "metadata": {},
          "execution_count": 12
        }
      ]
    },
    {
      "cell_type": "markdown",
      "source": [
        "\tpandas 패키지의 고유 기능"
      ],
      "metadata": {
        "id": "vO2IOIBH8o6k"
      }
    },
    {
      "cell_type": "markdown",
      "source": [
        "다양한 인덱스"
      ],
      "metadata": {
        "id": "S1xjZU7q8u86"
      }
    },
    {
      "cell_type": "code",
      "source": [
        "import pandas as pd\n",
        "\n",
        "df = pd.DataFrame({'국어':[100,95,80,95,90,85],\n",
        "                   '영어':[90,95,100,70,75,100],\n",
        "                   '수학':[50,60,70,80,90,100],\n",
        "                   '과탐':[100,90,80,70,60,50],\n",
        "                   '사탐':[99,88,77,66,55,44]})\n",
        "\n",
        "print('데이터프레임의 행 이름 :',  df.index)\n",
        "print('데이터프레임의 열 이름 :\\n',df.columns)\n",
        "print('데이터프레임의 값\\n',       df.values)\n",
        "print('데이터프레임의 값의 자료형:',type(df.values))"
      ],
      "metadata": {
        "colab": {
          "base_uri": "https://localhost:8080/"
        },
        "id": "S1x8RL_A9Nab",
        "outputId": "67c588a2-db7d-47ad-da1d-c4a369dd7712"
      },
      "execution_count": null,
      "outputs": [
        {
          "output_type": "stream",
          "name": "stdout",
          "text": [
            "데이터프레임의 행 이름 : RangeIndex(start=0, stop=6, step=1)\n",
            "데이터프레임의 열 이름 :\n",
            " Index(['국어', '영어', '수학', '과탐', '사탐'], dtype='object')\n",
            "데이터프레임의 값\n",
            " [[100  90  50 100  99]\n",
            " [ 95  95  60  90  88]\n",
            " [ 80 100  70  80  77]\n",
            " [ 95  70  80  70  66]\n",
            " [ 90  75  90  60  55]\n",
            " [ 85 100 100  50  44]]\n",
            "데이터프레임의 값의 자료형: <class 'numpy.ndarray'>\n"
          ]
        }
      ]
    },
    {
      "cell_type": "code",
      "source": [
        "import pandas as pd\n",
        "\n",
        "exams = ['1차퀴즈','2차퀴즈','중간고사','3차퀴즈','4차퀴즈','기말고사']\n",
        "df = pd.DataFrame({'국어':[100,95,80,95,90,85],\n",
        "                   '영어':[90,95,100,70,75,100],\n",
        "                   '수학':[50,60,70,80,90,100],\n",
        "                   '과탐':[100,90,80,70,60,50],\n",
        "                   '사탐':[99,88,77,66,55,44]},\n",
        "                  index=exams)\n",
        "\n",
        "print('pandas 데이터프레임\\n',df)\n",
        "print('데이터프레임의 인덱스(행 이름)\\n',\n",
        "      df.index)"
      ],
      "metadata": {
        "colab": {
          "base_uri": "https://localhost:8080/"
        },
        "id": "q0MMOtxdEZcL",
        "outputId": "63bec6cd-db2a-4760-e153-43daff5cf44a"
      },
      "execution_count": null,
      "outputs": [
        {
          "output_type": "stream",
          "name": "stdout",
          "text": [
            "pandas 데이터프레임\n",
            "        국어   영어   수학   과탐  사탐\n",
            "1차퀴즈  100   90   50  100  99\n",
            "2차퀴즈   95   95   60   90  88\n",
            "중간고사   80  100   70   80  77\n",
            "3차퀴즈   95   70   80   70  66\n",
            "4차퀴즈   90   75   90   60  55\n",
            "기말고사   85  100  100   50  44\n",
            "데이터프레임의 인덱스(행 이름)\n",
            " Index(['1차퀴즈', '2차퀴즈', '중간고사', '3차퀴즈', '4차퀴즈', '기말고사'], dtype='object')\n"
          ]
        }
      ]
    },
    {
      "cell_type": "code",
      "source": [
        "print('중간고사 성적\\n',    df.loc['중간고사'])\n",
        "print('중간고사 영어 성적:',df.loc['중간고사','영어'])"
      ],
      "metadata": {
        "colab": {
          "base_uri": "https://localhost:8080/"
        },
        "id": "TCy3OYZeJtFW",
        "outputId": "86056d62-0cb0-4c66-c344-ff435d871894"
      },
      "execution_count": null,
      "outputs": [
        {
          "output_type": "stream",
          "name": "stdout",
          "text": [
            "중간고사 성적\n",
            " 국어     80\n",
            "영어    100\n",
            "수학     70\n",
            "과탐     80\n",
            "사탐     77\n",
            "Name: 중간고사, dtype: int64\n",
            "중간고사 영어 성적: 100\n"
          ]
        }
      ]
    },
    {
      "cell_type": "markdown",
      "source": [
        "시계열 데이터 처리"
      ],
      "metadata": {
        "id": "GMtoZIhFYwrE"
      }
    },
    {
      "cell_type": "code",
      "source": [
        "from datetime import datetime\n",
        "\n",
        "now = datetime.now()\n",
        "print(\"현재의 datetime:\",now)"
      ],
      "metadata": {
        "colab": {
          "base_uri": "https://localhost:8080/"
        },
        "id": "3lOEhqA2d4zC",
        "outputId": "1ce80f8d-6622-460b-a97d-f3cf1181536b"
      },
      "execution_count": null,
      "outputs": [
        {
          "output_type": "stream",
          "name": "stdout",
          "text": [
            "현재의 datetime: 2023-04-06 07:58:54.542829\n"
          ]
        }
      ]
    },
    {
      "cell_type": "code",
      "source": [
        "from datetime import datetime\n",
        "\n",
        "now = datetime.now()\n",
        "print(\"현재의 datetime:\",now)"
      ],
      "metadata": {
        "id": "NzhPnbADkl_l"
      },
      "execution_count": null,
      "outputs": []
    },
    {
      "cell_type": "code",
      "source": [
        "print(\"현재 날짜:\",now.date())\n",
        "print(\"현재 시간:\",now.time())\n",
        "\n",
        "print(\"현재 년:\",now.year)\n",
        "print(\"현재 월:\",now.month)\n",
        "print(\"현재 일:\",now.day)\n",
        "print(\"현재 시:\",now.hour)\n",
        "print(\"현재 분:\",now.minute)\n",
        "print(\"현재 초:\",now.second)"
      ],
      "metadata": {
        "colab": {
          "base_uri": "https://localhost:8080/"
        },
        "id": "-mowyefYkmzr",
        "outputId": "e8239354-b4dd-4bb1-8b12-129f936b62b6"
      },
      "execution_count": null,
      "outputs": [
        {
          "output_type": "stream",
          "name": "stdout",
          "text": [
            "현재 날짜: 2023-04-06\n",
            "현재 시간: 07:58:54.542829\n",
            "현재 년: 2023\n",
            "현재 월: 4\n",
            "현재 일: 6\n",
            "현재 시: 7\n",
            "현재 분: 58\n",
            "현재 초: 54\n"
          ]
        }
      ]
    },
    {
      "cell_type": "code",
      "source": [
        "from datetime import datetime\n",
        "\n",
        "start_datetime = datetime(2023,4,7,9,0)\n",
        "end_datetime = datetime(2023,4,16,17,30)\n",
        "\n",
        "print(\"시작일시:\",start_datetime)\n",
        "print(\"종료일시:\",end_datetime)\n",
        "print(\"소요일시:\",end_datetime - start_datetime)"
      ],
      "metadata": {
        "colab": {
          "base_uri": "https://localhost:8080/"
        },
        "id": "kohPzBG19Zi4",
        "outputId": "48864a72-180f-4a05-ff1a-cac278ae8f8c"
      },
      "execution_count": null,
      "outputs": [
        {
          "output_type": "stream",
          "name": "stdout",
          "text": [
            "시작일시: 2023-04-07 09:00:00\n",
            "종료일시: 2023-04-16 17:30:00\n",
            "소요일시: 9 days, 8:30:00\n"
          ]
        }
      ]
    },
    {
      "cell_type": "code",
      "source": [
        "from datetime import date\n",
        "\n",
        "start_date = date(2023,4,7)\n",
        "end_date = date(2023,4,16)\n",
        "\n",
        "print(\"시작일:\",start_date)\n",
        "print(\"종료일:\",end_date)\n",
        "print(\"소요일:\",end_date - start_date)\n",
        "print(\"소요일의 자료형:\",type(end_date - start_date))"
      ],
      "metadata": {
        "colab": {
          "base_uri": "https://localhost:8080/"
        },
        "id": "QkY9OdMpBS09",
        "outputId": "88d07dd6-9276-40de-b2b1-9627f47059a0"
      },
      "execution_count": null,
      "outputs": [
        {
          "output_type": "stream",
          "name": "stdout",
          "text": [
            "시작일: 2023-04-07\n",
            "종료일: 2023-04-16\n",
            "소요일: 9 days, 0:00:00\n",
            "소요일의 자료형: <class 'datetime.timedelta'>\n"
          ]
        }
      ]
    },
    {
      "cell_type": "code",
      "source": [
        "from datetime import date, timedelta\n",
        "\n",
        "start_date = date(2023,4,7)\n",
        "end_date = date(2023,4,16)\n",
        "\n",
        "print(\"시작일:\",start_date)\n",
        "print(\"종료일:\",end_date)\n",
        "print(\"소요일:\",end_date - start_date + timedelta(days=1))"
      ],
      "metadata": {
        "colab": {
          "base_uri": "https://localhost:8080/"
        },
        "id": "A5IKaALkEndQ",
        "outputId": "e637ab72-960d-44b9-b8c3-e39dbb88f687"
      },
      "execution_count": null,
      "outputs": [
        {
          "output_type": "stream",
          "name": "stdout",
          "text": [
            "시작일: 2023-04-07\n",
            "종료일: 2023-04-16\n",
            "소요일: 10 days, 0:00:00\n"
          ]
        }
      ]
    },
    {
      "cell_type": "code",
      "source": [
        "from datetime import date, timedelta\n",
        "\n",
        "today = date.today()\n",
        "day_delta = timedelta(days=10)\n",
        "print('오늘 날짜:',today)\n",
        "print('10일전 날짜:',today - day_delta)\n",
        "print('10일후 날짜:',today + day_delta)"
      ],
      "metadata": {
        "colab": {
          "base_uri": "https://localhost:8080/"
        },
        "id": "Obv0ydi2Y_ME",
        "outputId": "b5920455-4780-4919-d863-81c7846b5ca0"
      },
      "execution_count": null,
      "outputs": [
        {
          "output_type": "stream",
          "name": "stdout",
          "text": [
            "오늘 날짜: 2023-08-31\n",
            "10일전 날짜: 2023-08-21\n",
            "10일후 날짜: 2023-09-10\n"
          ]
        }
      ]
    },
    {
      "cell_type": "code",
      "source": [
        "from datetime import datetime, timedelta\n",
        "from dateutil.relativedelta import relativedelta\n",
        "\n",
        "now = datetime.now()\n",
        "\n",
        "print('현재일시:',now)\n",
        "print('10년전:',now - relativedelta(years=10))\n",
        "print('10개월후:',now + relativedelta(months=10))\n",
        "print('10시간전:',now - timedelta(hours=10))\n",
        "print('10분후:',now + timedelta(minutes=10))\n",
        "print('10초전:',now - timedelta(seconds=10))\n",
        "print('10마이크로초후:',now + timedelta(microseconds=10))"
      ],
      "metadata": {
        "colab": {
          "base_uri": "https://localhost:8080/"
        },
        "id": "X552cU5UMAfP",
        "outputId": "3016c546-aece-415f-a24a-74ed29ae86bd"
      },
      "execution_count": null,
      "outputs": [
        {
          "output_type": "stream",
          "name": "stdout",
          "text": [
            "현재일시: 2023-08-31 02:39:27.997769\n",
            "10년전: 2013-08-31 02:39:27.997769\n",
            "10개월후: 2024-06-30 02:39:27.997769\n",
            "10시간전: 2023-08-30 16:39:27.997769\n",
            "10분후: 2023-08-31 02:49:27.997769\n",
            "10초전: 2023-08-31 02:39:17.997769\n",
            "10마이크로초후: 2023-08-31 02:39:27.997779\n"
          ]
        }
      ]
    },
    {
      "cell_type": "code",
      "source": [
        "from datetime import date\n",
        "\n",
        "weekday_dict = { 0: '월요일',\n",
        "                 1: '화요일',\n",
        "                 2: '수요일',\n",
        "                 3: '목요일',\n",
        "                 4: '금요일',\n",
        "                 5: '토요일',\n",
        "                 6: '일요일' }\n",
        "\n",
        "print('현재요일:',weekday_dict[date.today().weekday()])"
      ],
      "metadata": {
        "colab": {
          "base_uri": "https://localhost:8080/"
        },
        "id": "3bfj6ZzqafdF",
        "outputId": "8321a74c-fd7e-4a89-f3a4-ffec6dc79f9b"
      },
      "execution_count": null,
      "outputs": [
        {
          "output_type": "stream",
          "name": "stdout",
          "text": [
            "현재요일: 목요일\n"
          ]
        }
      ]
    },
    {
      "cell_type": "code",
      "source": [
        "import time\n",
        "\n",
        "print('Enter 키 입력전 현재 초:', before_seconds := time.time())\n",
        "input('Enter 키를 치세요.')\n",
        "print('Enter 키 입력후 현재 초:', after_seconds := time.time())\n",
        "print('Enter 키 입력을 위하여 걸린 초:', after_seconds - before_seconds)"
      ],
      "metadata": {
        "colab": {
          "base_uri": "https://localhost:8080/"
        },
        "id": "fP-Bo6fazyxY",
        "outputId": "868dedc5-17ea-46a6-f4ae-4bbcd8b2a37f"
      },
      "execution_count": null,
      "outputs": [
        {
          "output_type": "stream",
          "name": "stdout",
          "text": [
            "Enter 키 입력전 현재 초: 1693449803.06651\n",
            "Enter 키를 치세요.\n",
            "Enter 키 입력후 현재 초: 1693449808.8644805\n",
            "Enter 키 입력을 위하여 걸린 초: 5.797970533370972\n"
          ]
        }
      ]
    },
    {
      "cell_type": "code",
      "source": [
        "import pandas as pd\n",
        "\n",
        "exam_dates = ['2022-09-20','2022-10-01','2022-10-25','2022-11-15','2022-11-25','2022-12-02']\n",
        "df = pd.DataFrame({'국어':[100,95,80,95,90,85],\n",
        "                   '영어':[90,95,100,70,75,100],\n",
        "                   '수학':[50,60,70,80,90,100],\n",
        "                   '과탐':[100,90,80,70,60,50],\n",
        "                   '사탐':[99,88,77,66,55,44]},\n",
        "                  index=exam_dates)\n",
        "\n",
        "print('pandas 데이터프레임\\n',df)\n",
        "print('데이터프레임의 인덱스:',df.index)"
      ],
      "metadata": {
        "colab": {
          "base_uri": "https://localhost:8080/"
        },
        "id": "O6iUb6hAYz-v",
        "outputId": "0095eaac-8e13-4599-c886-fe3b28e11a3d"
      },
      "execution_count": null,
      "outputs": [
        {
          "output_type": "stream",
          "name": "stdout",
          "text": [
            "pandas 데이터프레임\n",
            "              국어   영어   수학   과탐  사탐\n",
            "2022-09-20  100   90   50  100  99\n",
            "2022-10-01   95   95   60   90  88\n",
            "2022-10-25   80  100   70   80  77\n",
            "2022-11-15   95   70   80   70  66\n",
            "2022-11-25   90   75   90   60  55\n",
            "2022-12-02   85  100  100   50  44\n",
            "데이터프레임의 인덱스: Index(['2022-09-20', '2022-10-01', '2022-10-25', '2022-11-15', '2022-11-25',\n",
            "       '2022-12-02'],\n",
            "      dtype='object')\n"
          ]
        }
      ]
    },
    {
      "cell_type": "code",
      "source": [
        "print('2022년 12월 1일이후의 시험 성적:\\n',df.loc[df.index > '2022-12-01'])"
      ],
      "metadata": {
        "colab": {
          "base_uri": "https://localhost:8080/"
        },
        "id": "FBxF0qRAxOUI",
        "outputId": "b36045b0-0c7f-45a7-a6ab-95d072b1a265"
      },
      "execution_count": null,
      "outputs": [
        {
          "output_type": "stream",
          "name": "stdout",
          "text": [
            "2022년 12월 1일이후의 시험 성적:\n",
            "             국어   영어   수학  과탐  사탐\n",
            "2022-12-02  85  100  100  50  44\n"
          ]
        }
      ]
    },
    {
      "cell_type": "code",
      "source": [
        "import pandas as pd\n",
        "from datetime import date\n",
        "\n",
        "exam_dates = [date(2022,9,20),date(2022,10,1),date(2022,10,25),\n",
        "              date(2022,11,15),date(2022,11,25),date(2022,12,2)]\n",
        "df = pd.DataFrame({'국어':[100,95,80,95,90,85],\n",
        "                   '영어':[90,95,100,70,75,100],\n",
        "                   '수학':[50,60,70,80,90,100],\n",
        "                   '과탐':[100,90,80,70,60,50],\n",
        "                   '사탐':[99,88,77,66,55,44]},\n",
        "                  index=exam_dates)\n",
        "\n",
        "#print('pandas 데이터프레임\\n',df)\n",
        "print('데이터프레임의 인덱스\\n',df.index)"
      ],
      "metadata": {
        "colab": {
          "base_uri": "https://localhost:8080/"
        },
        "id": "4j44xWVDy9wj",
        "outputId": "53c8cfce-ca06-4803-b6ec-8b846e765a83"
      },
      "execution_count": null,
      "outputs": [
        {
          "output_type": "stream",
          "name": "stdout",
          "text": [
            "데이터프레임의 인덱스\n",
            " Index([2022-09-20, 2022-10-01, 2022-10-25, 2022-11-15, 2022-11-25, 2022-12-02], dtype='object')\n"
          ]
        }
      ]
    },
    {
      "cell_type": "code",
      "source": [
        "import pandas as pd\n",
        "from datetime import datetime\n",
        "\n",
        "exam_dates = [datetime(2022,9,20),datetime(2022,10,1),datetime(2022,10,25),\n",
        "              datetime(2022,11,15),datetime(2022,11,25),datetime(2022,12,2)]\n",
        "df = pd.DataFrame({'국어':[100,95,80,95,90,85],\n",
        "                   '영어':[90,95,100,70,75,100],\n",
        "                   '수학':[50,60,70,80,90,100],\n",
        "                   '과탐':[100,90,80,70,60,50],\n",
        "                   '사탐':[99,88,77,66,55,44]},\n",
        "                  index=exam_dates)\n",
        "\n",
        "#print('pandas 데이터프레임\\n',df)\n",
        "print('데이터프레임의 인덱스\\n',df.index)"
      ],
      "metadata": {
        "colab": {
          "base_uri": "https://localhost:8080/"
        },
        "id": "GQu2YNYPZjDa",
        "outputId": "ebd9dbd5-5c80-4e4b-8cc1-970ed73df776"
      },
      "execution_count": null,
      "outputs": [
        {
          "output_type": "stream",
          "name": "stdout",
          "text": [
            "데이터프레임의 인덱스\n",
            " DatetimeIndex(['2022-09-20', '2022-10-01', '2022-10-25', '2022-11-15',\n",
            "               '2022-11-25', '2022-12-02'],\n",
            "              dtype='datetime64[ns]', freq=None)\n"
          ]
        }
      ]
    },
    {
      "cell_type": "code",
      "source": [
        "print(df.index[0])"
      ],
      "metadata": {
        "colab": {
          "base_uri": "https://localhost:8080/"
        },
        "id": "TiQtqFmWa7W3",
        "outputId": "ee828cfc-40ad-44c0-921f-56e0c968a485"
      },
      "execution_count": null,
      "outputs": [
        {
          "output_type": "stream",
          "name": "stdout",
          "text": [
            "2022-09-20 00:00:00\n"
          ]
        }
      ]
    },
    {
      "cell_type": "code",
      "source": [
        "from dateutil.relativedelta import relativedelta\n",
        "\n",
        "print('2022년 12월 1일이후의 시험 성적:\\n',df.loc[df.index > datetime(2022,12,1)])\n",
        "date_14_month_ago = datetime.combine(datetime.now() - relativedelta(months=14),\n",
        "                                     datetime.min.time())\n",
        "print('1년전부터 현재까지의 시험 성적\\n',df.loc[df.index >= date_14_month_ago])"
      ],
      "metadata": {
        "colab": {
          "base_uri": "https://localhost:8080/"
        },
        "id": "UV_IBoakcPyf",
        "outputId": "6f119f86-6a72-4ef3-89ac-5ec66276cb9c"
      },
      "execution_count": null,
      "outputs": [
        {
          "output_type": "stream",
          "name": "stdout",
          "text": [
            "2022년 12월 1일이후의 시험 성적:\n",
            "             국어   영어   수학  과탐  사탐\n",
            "2022-12-02  85  100  100  50  44\n",
            "1년전부터 현재까지의 시험 성적\n",
            "             국어   영어   수학  과탐  사탐\n",
            "2022-11-15  95   70   80  70  66\n",
            "2022-11-25  90   75   90  60  55\n",
            "2022-12-02  85  100  100  50  44\n"
          ]
        }
      ]
    },
    {
      "cell_type": "code",
      "source": [
        "print(datetime.now() - relativedelta(months=14))\n",
        "print('datetime.min.time() :',datetime.min.time())\n",
        "print(datetime.combine(datetime.now() - relativedelta(months=14),datetime.min.time()))"
      ],
      "metadata": {
        "colab": {
          "base_uri": "https://localhost:8080/"
        },
        "id": "SzHO_7Z4fqtQ",
        "outputId": "b28c44c9-9034-474e-8e8f-cb7f1a0198af"
      },
      "execution_count": null,
      "outputs": [
        {
          "output_type": "stream",
          "name": "stdout",
          "text": [
            "2022-10-31 11:20:07.367257\n",
            "datetime.min.time() : 00:00:00\n",
            "2022-10-31 00:00:00\n"
          ]
        }
      ]
    },
    {
      "cell_type": "code",
      "source": [
        "import pandas as pd\n",
        "\n",
        "exam_dates = ['2022-09-20','2022-10-01','2022-10-25','2022-11-15','2022-11-25','2022-12-02']\n",
        "exam_dates = pd.to_datetime(exam_dates)\n",
        "df = pd.DataFrame({'국어':[100,95,80,95,90,85],\n",
        "                   '영어':[90,95,100,70,75,100],\n",
        "                   '수학':[50,60,70,80,90,100],\n",
        "                   '과탐':[100,90,80,70,60,50],\n",
        "                   '사탐':[99,88,77,66,55,44]},\n",
        "                  index=exam_dates)\n",
        "\n",
        "#print('pandas 데이터프레임\\n',df)\n",
        "print('데이터프레임의 인덱스:',df.index)"
      ],
      "metadata": {
        "colab": {
          "base_uri": "https://localhost:8080/"
        },
        "id": "s46ehQtZob_d",
        "outputId": "e20242c3-b760-4f90-e5c2-2cf9af6776a1"
      },
      "execution_count": null,
      "outputs": [
        {
          "output_type": "stream",
          "name": "stdout",
          "text": [
            "데이터프레임의 인덱스: DatetimeIndex(['2022-09-20', '2022-10-01', '2022-10-25', '2022-11-15',\n",
            "               '2022-11-25', '2022-12-02'],\n",
            "              dtype='datetime64[ns]', freq=None)\n"
          ]
        }
      ]
    },
    {
      "cell_type": "code",
      "source": [
        "import pandas as pd\n",
        "\n",
        "exam_dates = pd.date_range('2022-07-15',periods=6,freq='D')\n",
        "print('2022년 7월 15일부터 6일간\\n',exam_dates)\n",
        "exam_dates = pd.date_range('2022-07-15','2022-07-17',freq='D')\n",
        "print('2022년 7월 15일부터 7월 17일까지 매일\\n',exam_dates)\n",
        "\n",
        "exam_dates = pd.date_range('2022-07-15 09:00',periods=4,freq='H')\n",
        "print('2022년 7월 15일 9시부터 4시간\\n',exam_dates)\n",
        "exam_dates = pd.date_range('2022-07-15 09:00','2022-07-15 12:00',freq='H')\n",
        "print('2022년 7월 15일 9시부터 12시까지 매시간\\n',exam_dates)"
      ],
      "metadata": {
        "colab": {
          "base_uri": "https://localhost:8080/"
        },
        "id": "-N0D-ph4bmBa",
        "outputId": "17f04490-a7de-4176-8a2d-663bf363e68a"
      },
      "execution_count": null,
      "outputs": [
        {
          "output_type": "stream",
          "name": "stdout",
          "text": [
            "2022년 7월 15일부터 6일간\n",
            " DatetimeIndex(['2022-07-15', '2022-07-16', '2022-07-17', '2022-07-18',\n",
            "               '2022-07-19', '2022-07-20'],\n",
            "              dtype='datetime64[ns]', freq='D')\n",
            "2022년 7월 15일부터 7월 17일까지 매일\n",
            " DatetimeIndex(['2022-07-15', '2022-07-16', '2022-07-17'], dtype='datetime64[ns]', freq='D')\n",
            "2022년 7월 15일 9시부터 4시간\n",
            " DatetimeIndex(['2022-07-15 09:00:00', '2022-07-15 10:00:00',\n",
            "               '2022-07-15 11:00:00', '2022-07-15 12:00:00'],\n",
            "              dtype='datetime64[ns]', freq='H')\n",
            "2022년 7월 15일 9시부터 12시까지 매시간\n",
            " DatetimeIndex(['2022-07-15 09:00:00', '2022-07-15 10:00:00',\n",
            "               '2022-07-15 11:00:00', '2022-07-15 12:00:00'],\n",
            "              dtype='datetime64[ns]', freq='H')\n"
          ]
        }
      ]
    },
    {
      "cell_type": "markdown",
      "source": [
        "이상치 처리"
      ],
      "metadata": {
        "id": "CkQIDLvcu-ev"
      }
    },
    {
      "cell_type": "code",
      "source": [
        "import pandas as pd\n",
        "import matplotlib.pyplot as plt\n",
        "\n",
        "data = pd.Series([180,165,150,175,185,200,170,169,177,181])\n",
        "\n",
        "data.plot(kind='box',grid=True)\n",
        "plt.show()"
      ],
      "metadata": {
        "colab": {
          "base_uri": "https://localhost:8080/",
          "height": 411
        },
        "id": "5i_IR0NGu8CN",
        "outputId": "b78c8ba3-5713-46ba-99bd-66e21c1b274b"
      },
      "execution_count": null,
      "outputs": [
        {
          "output_type": "display_data",
          "data": {
            "text/plain": [
              "<Figure size 640x480 with 1 Axes>"
            ],
            "image/png": "[encoded data removed]"
          },
          "metadata": {}
        }
      ]
    },
    {
      "cell_type": "code",
      "source": [
        "import numpy as np\n",
        "\n",
        "Q1 = data.quantile(0.25)\n",
        "Q3 = data.quantile(0.75)\n",
        "IQR = Q3 - Q1       # InterQuartile Range\n",
        "lower_bound = Q1 - 1.5 * IQR\n",
        "upper_bound = Q3 + 1.5 * IQR\n",
        "print('1사분위:',Q1,', 3사분위:',Q3,', IQR:',IQR)\n",
        "print('하위 이상치 경계값:',lower_bound,', 하위 이상치 경계값:',upper_bound)\n",
        "\n",
        "data[(data < lower_bound) | (data > upper_bound)] = np.nan\n",
        "print(data)"
      ],
      "metadata": {
        "colab": {
          "base_uri": "https://localhost:8080/"
        },
        "id": "Tg5WmHl9IXf-",
        "outputId": "bb1f44f6-1b1b-475f-8f4c-c6a8fd74ef0b"
      },
      "execution_count": null,
      "outputs": [
        {
          "output_type": "stream",
          "name": "stdout",
          "text": [
            "1사분위: 169.25 , 3사분위: 180.75 , IQR: 11.5\n",
            "하위 이상치 경계값: 152.0 , 하위 이상치 경계값: 198.0\n",
            "0    180.0\n",
            "1    165.0\n",
            "2      NaN\n",
            "3    175.0\n",
            "4    185.0\n",
            "5      NaN\n",
            "6    170.0\n",
            "7    169.0\n",
            "8    177.0\n",
            "9    181.0\n",
            "dtype: float64\n"
          ]
        }
      ]
    },
    {
      "cell_type": "markdown",
      "source": [
        "결측치 처리"
      ],
      "metadata": {
        "id": "Ca7mx7RS6zJi"
      }
    },
    {
      "cell_type": "code",
      "source": [
        "import pandas as pd\n",
        "\n",
        "df = pd.DataFrame({'국어':[100,95,None,95,90,85],\n",
        "                   '영어':[90,95,None,70,75,100],\n",
        "                   '수학':[50,60,None,80,90,100],\n",
        "                   '과탐':[100,90,None,70,60,50],\n",
        "                   '사탐':[99,88,None,66,55,44]})\n",
        "print('pandas 데이터프레임\\n',df)"
      ],
      "metadata": {
        "colab": {
          "base_uri": "https://localhost:8080/"
        },
        "id": "9zIBJUyq7QGQ",
        "outputId": "aec33f67-e84d-413a-eb35-ad248cf9648b"
      },
      "execution_count": null,
      "outputs": [
        {
          "output_type": "stream",
          "name": "stdout",
          "text": [
            "pandas 데이터프레임\n",
            "       국어     영어     수학     과탐    사탐\n",
            "0  100.0   90.0   50.0  100.0  99.0\n",
            "1   95.0   95.0   60.0   90.0  88.0\n",
            "2    NaN    NaN    NaN    NaN   NaN\n",
            "3   95.0   70.0   80.0   70.0  66.0\n",
            "4   90.0   75.0   90.0   60.0  55.0\n",
            "5   85.0  100.0  100.0   50.0  44.0\n"
          ]
        }
      ]
    },
    {
      "cell_type": "code",
      "source": [
        "df['국어'][5] = df['국어'][5]/0\n",
        "df['영어'][0] = 0\n",
        "df['영어'][0] = df['영어'][0]/0\n",
        "df['수학'][1] = -1\n",
        "df['수학'][1] = df['수학'][1]/0\n",
        "print('pandas 데이터프레임\\n',df)"
      ],
      "metadata": {
        "colab": {
          "base_uri": "https://localhost:8080/"
        },
        "id": "lCRllxts86g-",
        "outputId": "44117da8-b4a5-4b82-e3fb-88e2984ab25c"
      },
      "execution_count": null,
      "outputs": [
        {
          "output_type": "stream",
          "name": "stdout",
          "text": [
            "pandas 데이터프레임\n",
            "       국어     영어     수학     과탐    사탐\n",
            "0  100.0    NaN   50.0  100.0  99.0\n",
            "1   95.0   95.0   -inf   90.0  88.0\n",
            "2    NaN    NaN    NaN    NaN   NaN\n",
            "3   95.0   70.0   80.0   70.0  66.0\n",
            "4   90.0   75.0   90.0   60.0  55.0\n",
            "5    inf  100.0  100.0   50.0  44.0\n"
          ]
        },
        {
          "output_type": "stream",
          "name": "stderr",
          "text": [
            "<ipython-input-17-7752cbe010f3>:1: RuntimeWarning: divide by zero encountered in double_scalars\n",
            "  df['국어'][5] = df['국어'][5]/0\n",
            "<ipython-input-17-7752cbe010f3>:3: RuntimeWarning: invalid value encountered in double_scalars\n",
            "  df['영어'][0] = df['영어'][0]/0\n",
            "<ipython-input-17-7752cbe010f3>:5: RuntimeWarning: divide by zero encountered in double_scalars\n",
            "  df['수학'][1] = df['수학'][1]/0\n"
          ]
        }
      ]
    },
    {
      "cell_type": "code",
      "source": [
        "import numpy as np\n",
        "\n",
        "df = df.replace([np.inf, -np.inf], np.nan)\n",
        "print('pandas 데이터프레임\\n',df)"
      ],
      "metadata": {
        "colab": {
          "base_uri": "https://localhost:8080/"
        },
        "id": "1GYcTxwrpqzy",
        "outputId": "c87fd919-8331-4644-fa10-1917df3eff46"
      },
      "execution_count": null,
      "outputs": [
        {
          "output_type": "stream",
          "name": "stdout",
          "text": [
            "pandas 데이터프레임\n",
            "       국어     영어     수학     과탐    사탐\n",
            "0  100.0    NaN   50.0  100.0  99.0\n",
            "1   95.0   95.0    NaN   90.0  88.0\n",
            "2    NaN    NaN    NaN    NaN   NaN\n",
            "3   95.0   70.0   80.0   70.0  66.0\n",
            "4   90.0   75.0   90.0   60.0  55.0\n",
            "5    NaN  100.0  100.0   50.0  44.0\n"
          ]
        }
      ]
    },
    {
      "cell_type": "code",
      "source": [
        "print('df.isna()\\n',df.isna())\n",
        "print('df.isnull()\\n',df.isnull())"
      ],
      "metadata": {
        "colab": {
          "base_uri": "https://localhost:8080/"
        },
        "id": "EWPA7X0ElEnh",
        "outputId": "705c314f-bc25-419e-dfdd-e6cb346115f1"
      },
      "execution_count": null,
      "outputs": [
        {
          "output_type": "stream",
          "name": "stdout",
          "text": [
            "df.isna()\n",
            "       국어     영어     수학     과탐     사탐\n",
            "0  False   True  False  False  False\n",
            "1  False  False   True  False  False\n",
            "2   True   True   True   True   True\n",
            "3  False  False  False  False  False\n",
            "4  False  False  False  False  False\n",
            "5   True  False  False  False  False\n",
            "df.isnull()\n",
            "       국어     영어     수학     과탐     사탐\n",
            "0  False   True  False  False  False\n",
            "1  False  False   True  False  False\n",
            "2   True   True   True   True   True\n",
            "3  False  False  False  False  False\n",
            "4  False  False  False  False  False\n",
            "5   True  False  False  False  False\n"
          ]
        }
      ]
    },
    {
      "cell_type": "code",
      "source": [
        "print('Nan 값의 개수\\n',df.isna().sum())"
      ],
      "metadata": {
        "colab": {
          "base_uri": "https://localhost:8080/"
        },
        "id": "x4lAtJL6BOOn",
        "outputId": "eb6baf23-912b-48d6-d2dd-942aea954245"
      },
      "execution_count": null,
      "outputs": [
        {
          "output_type": "stream",
          "name": "stdout",
          "text": [
            "Nan 값의 개수\n",
            " 국어    2\n",
            "영어    2\n",
            "수학    2\n",
            "과탐    1\n",
            "사탐    1\n",
            "dtype: int64\n"
          ]
        }
      ]
    },
    {
      "cell_type": "code",
      "source": [
        "df.info()"
      ],
      "metadata": {
        "colab": {
          "base_uri": "https://localhost:8080/"
        },
        "id": "077lB3AxjDS2",
        "outputId": "7d8572c3-3993-4ae9-da05-3dc48097b04b"
      },
      "execution_count": null,
      "outputs": [
        {
          "output_type": "stream",
          "name": "stdout",
          "text": [
            "<class 'pandas.core.frame.DataFrame'>\n",
            "RangeIndex: 6 entries, 0 to 5\n",
            "Data columns (total 5 columns):\n",
            " #   Column  Non-Null Count  Dtype  \n",
            "---  ------  --------------  -----  \n",
            " 0   국어      4 non-null      float64\n",
            " 1   영어      4 non-null      float64\n",
            " 2   수학      4 non-null      float64\n",
            " 3   과탐      5 non-null      float64\n",
            " 4   사탐      5 non-null      float64\n",
            "dtypes: float64(5)\n",
            "memory usage: 368.0 bytes\n"
          ]
        }
      ]
    },
    {
      "cell_type": "code",
      "source": [
        "print('Nan 값의 개수\\n',df.isna().sum().sum())"
      ],
      "metadata": {
        "colab": {
          "base_uri": "https://localhost:8080/"
        },
        "id": "MhLOlPGCB78n",
        "outputId": "f0befd01-ced3-42a1-ed30-d36a356b3005"
      },
      "execution_count": null,
      "outputs": [
        {
          "output_type": "stream",
          "name": "stdout",
          "text": [
            "Nan 값의 개수\n",
            " 8\n"
          ]
        }
      ]
    },
    {
      "cell_type": "code",
      "source": [
        "df_backup = df.copy()\n",
        "print('결측치 처리전 pandas 데이터프레임\\n',df)\n",
        "df = df.dropna()\n",
        "print('결측치 처리후 pandas 데이터프레임\\n',df)"
      ],
      "metadata": {
        "colab": {
          "base_uri": "https://localhost:8080/"
        },
        "id": "0BhPhCk7RSVE",
        "outputId": "3150218f-f7d2-49c4-b6ca-d96e75bc6787"
      },
      "execution_count": null,
      "outputs": [
        {
          "output_type": "stream",
          "name": "stdout",
          "text": [
            "결측치 처리전 pandas 데이터프레임\n",
            "       국어     영어     수학     과탐    사탐\n",
            "0  100.0    NaN   50.0  100.0  99.0\n",
            "1   95.0   95.0    NaN   90.0  88.0\n",
            "2    NaN    NaN    NaN    NaN   NaN\n",
            "3   95.0   70.0   80.0   70.0  66.0\n",
            "4   90.0   75.0   90.0   60.0  55.0\n",
            "5    NaN  100.0  100.0   50.0  44.0\n",
            "결측치 처리후 pandas 데이터프레임\n",
            "      국어    영어    수학    과탐    사탐\n",
            "3  95.0  70.0  80.0  70.0  66.0\n",
            "4  90.0  75.0  90.0  60.0  55.0\n"
          ]
        }
      ]
    },
    {
      "cell_type": "code",
      "source": [
        "df = df_backup.copy()\n",
        "print('결측치 처리전 pandas 데이터프레임\\n',df)\n",
        "df.dropna(how='all',inplace=True)\n",
        "print('결측치 처리후 pandas 데이터프레임\\n',df)"
      ],
      "metadata": {
        "colab": {
          "base_uri": "https://localhost:8080/"
        },
        "id": "cWKcCG9yGnVw",
        "outputId": "f51a2523-219a-4f2e-db3a-845e59eb4ba6"
      },
      "execution_count": null,
      "outputs": [
        {
          "output_type": "stream",
          "name": "stdout",
          "text": [
            "결측치 처리전 pandas 데이터프레임\n",
            "       국어     영어     수학     과탐    사탐\n",
            "0  100.0    NaN   50.0  100.0  99.0\n",
            "1   95.0   95.0    NaN   90.0  88.0\n",
            "2    NaN    NaN    NaN    NaN   NaN\n",
            "3   95.0   70.0   80.0   70.0  66.0\n",
            "4   90.0   75.0   90.0   60.0  55.0\n",
            "5    NaN  100.0  100.0   50.0  44.0\n",
            "결측치 처리후 pandas 데이터프레임\n",
            "       국어     영어     수학     과탐    사탐\n",
            "0  100.0    NaN   50.0  100.0  99.0\n",
            "1   95.0   95.0    NaN   90.0  88.0\n",
            "3   95.0   70.0   80.0   70.0  66.0\n",
            "4   90.0   75.0   90.0   60.0  55.0\n",
            "5    NaN  100.0  100.0   50.0  44.0\n"
          ]
        }
      ]
    },
    {
      "cell_type": "code",
      "source": [
        "print(df.mean())"
      ],
      "metadata": {
        "colab": {
          "base_uri": "https://localhost:8080/"
        },
        "id": "39QS_N4KopVx",
        "outputId": "cbe94005-a333-43e5-bfee-b50ad8b2ebbb"
      },
      "execution_count": null,
      "outputs": [
        {
          "output_type": "stream",
          "name": "stdout",
          "text": [
            "국어    95.0\n",
            "영어    85.0\n",
            "수학    80.0\n",
            "과탐    74.0\n",
            "사탐    70.4\n",
            "dtype: float64\n"
          ]
        }
      ]
    },
    {
      "cell_type": "code",
      "source": [
        "print('결측치 처리전 pandas 데이터프레임\\n',df)\n",
        "df.fillna(df.mean(),inplace=True)\n",
        "print('결측치 처리후 pandas 데이터프레임\\n',df)"
      ],
      "metadata": {
        "colab": {
          "base_uri": "https://localhost:8080/"
        },
        "id": "GKikLwYamzYx",
        "outputId": "2a011974-a365-4a92-f56f-dcf57f65e5d3"
      },
      "execution_count": null,
      "outputs": [
        {
          "output_type": "stream",
          "name": "stdout",
          "text": [
            "결측치 처리전 pandas 데이터프레임\n",
            "       국어     영어     수학     과탐    사탐\n",
            "0  100.0    NaN   50.0  100.0  99.0\n",
            "1   95.0   95.0    NaN   90.0  88.0\n",
            "3   95.0   70.0   80.0   70.0  66.0\n",
            "4   90.0   75.0   90.0   60.0  55.0\n",
            "5    NaN  100.0  100.0   50.0  44.0\n",
            "결측치 처리후 pandas 데이터프레임\n",
            "       국어     영어     수학     과탐    사탐\n",
            "0  100.0   85.0   50.0  100.0  99.0\n",
            "1   95.0   95.0   80.0   90.0  88.0\n",
            "3   95.0   70.0   80.0   70.0  66.0\n",
            "4   90.0   75.0   90.0   60.0  55.0\n",
            "5   95.0  100.0  100.0   50.0  44.0\n"
          ]
        }
      ]
    },
    {
      "cell_type": "code",
      "source": [
        "import numpy as np\n",
        "import pandas as pd\n",
        "\n",
        "print('NaN이 포함된 numpy  평균:',np.array([10,20,np.nan]).mean())\n",
        "print('NaN이 포함된 pandas 평균:',pd.Series([10,20,np.nan]).mean())"
      ],
      "metadata": {
        "colab": {
          "base_uri": "https://localhost:8080/"
        },
        "id": "rLxglaIhp_DN",
        "outputId": "5d4c1939-aabc-4ffa-f2d5-e4056ff00ffa"
      },
      "execution_count": null,
      "outputs": [
        {
          "output_type": "stream",
          "name": "stdout",
          "text": [
            "NaN이 포함된 numpy  평균: nan\n",
            "NaN이 포함된 pandas 평균: 15.0\n"
          ]
        }
      ]
    },
    {
      "cell_type": "code",
      "source": [
        "df = df_backup.copy()\n",
        "print('결측치 처리전 pandas 데이터프레임\\n',df)\n",
        "print('정방향채우기후 pandas 데이터프레임\\n',df.fillna(method='ffill'))"
      ],
      "metadata": {
        "colab": {
          "base_uri": "https://localhost:8080/"
        },
        "id": "Uo_21LPTMqD4",
        "outputId": "da1e7e10-2553-4b54-fee5-78e2547170ff"
      },
      "execution_count": null,
      "outputs": [
        {
          "output_type": "stream",
          "name": "stdout",
          "text": [
            "결측치 처리전 pandas 데이터프레임\n",
            "       국어     영어     수학     과탐    사탐\n",
            "0  100.0    NaN   50.0  100.0  99.0\n",
            "1   95.0   95.0    NaN   90.0  88.0\n",
            "2    NaN    NaN    NaN    NaN   NaN\n",
            "3   95.0   70.0   80.0   70.0  66.0\n",
            "4   90.0   75.0   90.0   60.0  55.0\n",
            "5    NaN  100.0  100.0   50.0  44.0\n",
            "정방향채우기후 pandas 데이터프레임\n",
            "       국어     영어     수학     과탐    사탐\n",
            "0  100.0    NaN   50.0  100.0  99.0\n",
            "1   95.0   95.0   50.0   90.0  88.0\n",
            "2   95.0   95.0   50.0   90.0  88.0\n",
            "3   95.0   70.0   80.0   70.0  66.0\n",
            "4   90.0   75.0   90.0   60.0  55.0\n",
            "5   90.0  100.0  100.0   50.0  44.0\n"
          ]
        }
      ]
    },
    {
      "cell_type": "code",
      "source": [
        "print('결측치 처리전 pandas 데이터프레임\\n',df)\n",
        "print('역방향채우기후 pandas 데이터프레임\\n',df.fillna(method='bfill'))"
      ],
      "metadata": {
        "colab": {
          "base_uri": "https://localhost:8080/"
        },
        "id": "Zf4Kn7nBJlFO",
        "outputId": "933b30db-a3c6-47b7-e0ab-8caa9db272db"
      },
      "execution_count": null,
      "outputs": [
        {
          "output_type": "stream",
          "name": "stdout",
          "text": [
            "결측치 처리전 pandas 데이터프레임\n",
            "       국어     영어     수학     과탐    사탐\n",
            "0  100.0    NaN   50.0  100.0  99.0\n",
            "1   95.0   95.0    NaN   90.0  88.0\n",
            "2    NaN    NaN    NaN    NaN   NaN\n",
            "3   95.0   70.0   80.0   70.0  66.0\n",
            "4   90.0   75.0   90.0   60.0  55.0\n",
            "5    NaN  100.0  100.0   50.0  44.0\n",
            "역방향채우기후 pandas 데이터프레임\n",
            "       국어     영어     수학     과탐    사탐\n",
            "0  100.0   95.0   50.0  100.0  99.0\n",
            "1   95.0   95.0   80.0   90.0  88.0\n",
            "2   95.0   70.0   80.0   70.0  66.0\n",
            "3   95.0   70.0   80.0   70.0  66.0\n",
            "4   90.0   75.0   90.0   60.0  55.0\n",
            "5    NaN  100.0  100.0   50.0  44.0\n"
          ]
        }
      ]
    },
    {
      "cell_type": "code",
      "source": [
        "print('정방향채우기\\n',df.fillna(method='ffill',axis=1))\n",
        "print('역방향채우기\\n',df.fillna(method='bfill',axis=1))"
      ],
      "metadata": {
        "colab": {
          "base_uri": "https://localhost:8080/"
        },
        "id": "ZUC-gvwR3gIO",
        "outputId": "09ce4347-4e7b-45c7-b120-fd8d084bb879"
      },
      "execution_count": null,
      "outputs": [
        {
          "output_type": "stream",
          "name": "stdout",
          "text": [
            "정방향채우기\n",
            "       국어     영어     수학     과탐    사탐\n",
            "0  100.0  100.0   50.0  100.0  99.0\n",
            "1   95.0   95.0   95.0   90.0  88.0\n",
            "2    NaN    NaN    NaN    NaN   NaN\n",
            "3   95.0   70.0   80.0   70.0  66.0\n",
            "4   90.0   75.0   90.0   60.0  55.0\n",
            "5    NaN  100.0  100.0   50.0  44.0\n",
            "역방향채우기\n",
            "       국어     영어     수학     과탐    사탐\n",
            "0  100.0   50.0   50.0  100.0  99.0\n",
            "1   95.0   95.0   90.0   90.0  88.0\n",
            "2    NaN    NaN    NaN    NaN   NaN\n",
            "3   95.0   70.0   80.0   70.0  66.0\n",
            "4   90.0   75.0   90.0   60.0  55.0\n",
            "5  100.0  100.0  100.0   50.0  44.0\n"
          ]
        }
      ]
    },
    {
      "cell_type": "code",
      "source": [
        "import numpy as np\n",
        "\n",
        "list1d = [1,2,3,4,5]\n",
        "\n",
        "ref_list1d = list1d   # 할당을 통한 참조\n",
        "\n",
        "print('값 변경전 list1d\\t:', list1d)\n",
        "print('값 변경전 ref_list1d\\t:', ref_list1d)\n",
        "list1d[0] = 99\n",
        "ref_list1d[4] = 88\n",
        "print('값 변경후 list1d\\t:', list1d)\n",
        "print('값 변경후 ref_list1d\\t:', ref_list1d)\n",
        "print(\"id(list1d)\\t:\",id(list1d))\n",
        "print(\"id(ref_list1d)\\t:\",id(ref_list1d))"
      ],
      "metadata": {
        "colab": {
          "base_uri": "https://localhost:8080/"
        },
        "id": "679S00NA17QJ",
        "outputId": "458f4f66-2f82-47c9-cbd3-556b779b64b1"
      },
      "execution_count": null,
      "outputs": [
        {
          "output_type": "stream",
          "name": "stdout",
          "text": [
            "값 변경전 list1d\t: [1, 2, 3, 4, 5]\n",
            "값 변경전 ref_list1d\t: [1, 2, 3, 4, 5]\n",
            "값 변경후 list1d\t: [99, 2, 3, 4, 88]\n",
            "값 변경후 ref_list1d\t: [99, 2, 3, 4, 88]\n",
            "id(list1d)\t: 137969249189760\n",
            "id(ref_list1d)\t: 137969249189760\n"
          ]
        }
      ]
    },
    {
      "cell_type": "code",
      "source": [
        "import numpy as np\n",
        "\n",
        "list1d = [1,2,3,4,5]\n",
        "\n",
        "copied_list1d = list1d.copy()   # 복사하여 할당\n",
        "\n",
        "print('값 변경전 list1d\\t:', list1d)\n",
        "print('값 변경전 copied_list1d\\t:', copied_list1d)\n",
        "list1d[0] = 99\n",
        "copied_list1d[4] = 88\n",
        "print('값 변경후 list1d\\t:', list1d)\n",
        "print('값 변경후 copied_list1d\\t:', copied_list1d)\n",
        "print(\"id(list1d)\\t\\t:\",id(list1d))\n",
        "print(\"id(copied_list1d)\\t:\",id(copied_list1d))"
      ],
      "metadata": {
        "colab": {
          "base_uri": "https://localhost:8080/"
        },
        "id": "JTl3clg6BXqk",
        "outputId": "8876538c-f2d1-4001-8999-9a39d47b1eb8"
      },
      "execution_count": null,
      "outputs": [
        {
          "output_type": "stream",
          "name": "stdout",
          "text": [
            "값 변경전 list1d\t: [1, 2, 3, 4, 5]\n",
            "값 변경전 copied_list1d\t: [1, 2, 3, 4, 5]\n",
            "값 변경후 list1d\t: [99, 2, 3, 4, 5]\n",
            "값 변경후 copied_list1d\t: [1, 2, 3, 4, 88]\n",
            "id(list1d)\t\t: 137969415266752\n",
            "id(copied_list1d)\t: 137969408416000\n"
          ]
        }
      ]
    },
    {
      "cell_type": "code",
      "source": [
        "def ref_test_func(scalar_param, list1d_param):\n",
        "  print(\"인자의 변경을 의도하지 않은 ref_test_func 함수가 호출되었습니다.\")\n",
        "  scalar_param = 99\n",
        "  list1d_param[0] = 88\n",
        "\n",
        "scalar = 1\n",
        "list1d = [1,2,3,4,5]\n",
        "print('함수 호출전 scalar와 list1d:',scalar,list1d)\n",
        "ref_test_func(scalar,list1d)\n",
        "print('함수 호출후 scalar와 list1d:',scalar,list1d)"
      ],
      "metadata": {
        "colab": {
          "base_uri": "https://localhost:8080/"
        },
        "id": "uEa__lf2OU4s",
        "outputId": "624de330-d8af-4e4e-9e04-f8b35b1130e4"
      },
      "execution_count": null,
      "outputs": [
        {
          "output_type": "stream",
          "name": "stdout",
          "text": [
            "함수 호출전 scalar와 list1d: 1 [1, 2, 3, 4, 5]\n",
            "인자의 변경을 의도하지 않은 ref_test_func 함수가 호출되었습니다.\n",
            "함수 호출후 scalar와 list1d: 1 [88, 2, 3, 4, 5]\n"
          ]
        }
      ]
    },
    {
      "cell_type": "code",
      "source": [
        "list2d = [[1,2,3,4,5],[6,7,8,9,10]]\n",
        "\n",
        "copied_list2d = list2d.copy()   # 얕은 복사\n",
        "\n",
        "print('값 변경전 list2d\\t:', list2d)\n",
        "print('값 변경전 copied_list2d :', copied_list2d)\n",
        "copied_list2d[0][0] = 99\n",
        "print('값 변경후 list2d\\t:', list2d)\n",
        "print('값 변경후 copied_list2d :', copied_list2d)"
      ],
      "metadata": {
        "colab": {
          "base_uri": "https://localhost:8080/"
        },
        "id": "LewIWCIUdHIM",
        "outputId": "3084843d-56e7-4081-eb23-cbcca6bb6fd1"
      },
      "execution_count": null,
      "outputs": [
        {
          "output_type": "stream",
          "name": "stdout",
          "text": [
            "값 변경전 list2d\t: [[1, 2, 3, 4, 5], [6, 7, 8, 9, 10]]\n",
            "값 변경전 copied_list2d : [[1, 2, 3, 4, 5], [6, 7, 8, 9, 10]]\n",
            "값 변경후 list2d\t: [[99, 2, 3, 4, 5], [6, 7, 8, 9, 10]]\n",
            "값 변경후 copied_list2d : [[99, 2, 3, 4, 5], [6, 7, 8, 9, 10]]\n"
          ]
        }
      ]
    },
    {
      "cell_type": "code",
      "source": [
        "import numpy as np\n",
        "\n",
        "array2d = np.array([[1,2,3,4,5],[6,7,8,9,10]])\n",
        "\n",
        "copied_array2d = array2d.copy() # 깊은 복사\n",
        "\n",
        "print('값 변경전 array2d\\n', array2d)\n",
        "print('값 변경전 copied_array2d\\n', copied_array2d)\n",
        "copied_array2d[-1,-1] = 99\n",
        "print('값 변경후 array2d\\n', array2d)\n",
        "print('값 변경후 copied_array2d\\n', copied_array2d)"
      ],
      "metadata": {
        "colab": {
          "base_uri": "https://localhost:8080/"
        },
        "id": "6_HJBqp_fke_",
        "outputId": "3df3f183-faa3-46ec-fb59-5a21c724460d"
      },
      "execution_count": null,
      "outputs": [
        {
          "output_type": "stream",
          "name": "stdout",
          "text": [
            "값 변경전 array2d\n",
            " [[ 1  2  3  4  5]\n",
            " [ 6  7  8  9 10]]\n",
            "값 변경전 copied_array2d\n",
            " [[ 1  2  3  4  5]\n",
            " [ 6  7  8  9 10]]\n",
            "값 변경후 array2d\n",
            " [[ 1  2  3  4  5]\n",
            " [ 6  7  8  9 10]]\n",
            "값 변경후 copied_array2d\n",
            " [[ 1  2  3  4  5]\n",
            " [ 6  7  8  9 99]]\n"
          ]
        }
      ]
    },
    {
      "cell_type": "markdown",
      "source": [
        "중복 데이터 처리"
      ],
      "metadata": {
        "id": "CBXnxyznzX0_"
      }
    },
    {
      "cell_type": "code",
      "source": [
        "import pandas as pd\n",
        "\n",
        "df = pd.DataFrame({'이름':['홍길동','강감찬','강감찬'],'국어':[100,95,95],'영어':[90,95,95]})\n",
        "print('pandas 데이터프레임\\n',df)\n",
        "\n",
        "print('중복 제거된 데이터프레임\\n',df.drop_duplicates())"
      ],
      "metadata": {
        "colab": {
          "base_uri": "https://localhost:8080/"
        },
        "id": "DKJCeP3VDinn",
        "outputId": "31d392b3-971d-463d-d561-1fc7517a346c"
      },
      "execution_count": null,
      "outputs": [
        {
          "output_type": "stream",
          "name": "stdout",
          "text": [
            "pandas 데이터프레임\n",
            "     이름   국어  영어\n",
            "0  홍길동  100  90\n",
            "1  강감찬   95  95\n",
            "2  강감찬   95  95\n",
            "중복 제거된 데이터프레임\n",
            "     이름   국어  영어\n",
            "0  홍길동  100  90\n",
            "1  강감찬   95  95\n"
          ]
        }
      ]
    },
    {
      "cell_type": "code",
      "source": [
        "import pandas as pd\n",
        "\n",
        "df = pd.DataFrame({'이름':['홍길동','강감찬','강감찬'],'국어':[100,95,95],'영어':[90,95,90]})\n",
        "print('pandas 데이터프레임\\n',df)\n",
        "\n",
        "print('중복 제거된 데이터프레임\\n',df.drop_duplicates())"
      ],
      "metadata": {
        "colab": {
          "base_uri": "https://localhost:8080/"
        },
        "id": "lfmFpgeMH9L7",
        "outputId": "7ec3b94c-fbfd-4461-bbd3-f9ee9262e432"
      },
      "execution_count": null,
      "outputs": [
        {
          "output_type": "stream",
          "name": "stdout",
          "text": [
            "pandas 데이터프레임\n",
            "     이름   국어  영어\n",
            "0  홍길동  100  90\n",
            "1  강감찬   95  95\n",
            "2  강감찬   95  90\n",
            "중복 제거된 데이터프레임\n",
            "     이름   국어  영어\n",
            "0  홍길동  100  90\n",
            "1  강감찬   95  95\n",
            "2  강감찬   95  90\n"
          ]
        }
      ]
    },
    {
      "cell_type": "code",
      "source": [
        "print('중복 제거된 데이터프레임(첫 데이터 남기기)\\n',df.drop_duplicates(['이름']))\n",
        "print('중복 제거된 데이터프레임(마지막 데이터 남기기)\\n',df.drop_duplicates(['이름'],keep='last'))"
      ],
      "metadata": {
        "colab": {
          "base_uri": "https://localhost:8080/"
        },
        "id": "6_cIdwYqKvpL",
        "outputId": "d3f60b3c-8925-4098-a92e-b120208b5fd0"
      },
      "execution_count": null,
      "outputs": [
        {
          "output_type": "stream",
          "name": "stdout",
          "text": [
            "중복 제거된 데이터프레임(첫 데이터 남기기)\n",
            "     이름   국어  영어\n",
            "0  홍길동  100  90\n",
            "1  강감찬   95  95\n",
            "중복 제거된 데이터프레임(마지막 데이터 남기기)\n",
            "     이름   국어  영어\n",
            "0  홍길동  100  90\n",
            "2  강감찬   95  90\n"
          ]
        }
      ]
    },
    {
      "cell_type": "markdown",
      "source": [
        "윈도우"
      ],
      "metadata": {
        "id": "x1BP2aHvPKJR"
      }
    },
    {
      "cell_type": "code",
      "source": [
        "import pandas as pd\n",
        "import matplotlib.pyplot as plt\n",
        "\n",
        "scores = pd.Series([100,95,75,95,90,80,90,95,95,70,75,90,60,60,70,80,90,80])\n",
        "\n",
        "plt.figure(figsize=(5,2))\n",
        "plt.plot(scores)\n",
        "plt.show()"
      ],
      "metadata": {
        "colab": {
          "base_uri": "https://localhost:8080/",
          "height": 214
        },
        "id": "iUROxZ3_POEm",
        "outputId": "58e46631-5574-49a3-c064-8afe68225142"
      },
      "execution_count": null,
      "outputs": [
        {
          "output_type": "display_data",
          "data": {
            "text/plain": [
              "<Figure size 500x200 with 1 Axes>"
            ],
            "image/png": "[encoded data removed]"
          },
          "metadata": {}
        }
      ]
    },
    {
      "cell_type": "code",
      "source": [
        "plt.figure(figsize=(5,2))\n",
        "plt.plot(scores.rolling(window=3).mean())\n",
        "plt.show()"
      ],
      "metadata": {
        "colab": {
          "base_uri": "https://localhost:8080/",
          "height": 214
        },
        "id": "ZMRy7dC1QGCe",
        "outputId": "7404481b-d779-451f-bb31-0c8f0f38a7f3"
      },
      "execution_count": null,
      "outputs": [
        {
          "output_type": "display_data",
          "data": {
            "text/plain": [
              "<Figure size 500x200 with 1 Axes>"
            ],
            "image/png": "[encoded data removed]"
          },
          "metadata": {}
        }
      ]
    },
    {
      "cell_type": "code",
      "source": [
        "print('3개씩 이동평균한 성적\\n',scores.rolling(window=3).mean())"
      ],
      "metadata": {
        "colab": {
          "base_uri": "https://localhost:8080/"
        },
        "id": "er4kbDysWo9Q",
        "outputId": "b331e13a-b3d5-4ffe-da35-cace176ffc05"
      },
      "execution_count": null,
      "outputs": [
        {
          "output_type": "stream",
          "name": "stdout",
          "text": [
            "3개씩 이동평균한 성적\n",
            " 0           NaN\n",
            "1           NaN\n",
            "2     90.000000\n",
            "3     88.333333\n",
            "4     86.666667\n",
            "5     88.333333\n",
            "6     86.666667\n",
            "7     88.333333\n",
            "8     93.333333\n",
            "9     86.666667\n",
            "10    80.000000\n",
            "11    78.333333\n",
            "12    75.000000\n",
            "13    70.000000\n",
            "14    63.333333\n",
            "15    70.000000\n",
            "16    80.000000\n",
            "17    83.333333\n",
            "dtype: float64\n"
          ]
        }
      ]
    }
  ]
}