{
  "nbformat": 4,
  "nbformat_minor": 0,
  "metadata": {
    "colab": {
      "provenance": [],
      "mount_file_id": "1DJwUCuuT0qH8l7kOFgd0Jq9drx9XIgx2",
      "authorship_tag": "ABX9TyOHumNJe+mElhAGTyKKTghC",
      "include_colab_link": true
    },
    "kernelspec": {
      "name": "python3",
      "display_name": "Python 3"
    },
    "language_info": {
      "name": "python"
    }
  },
  "cells": [
    {
      "cell_type": "markdown",
      "metadata": {
        "id": "view-in-github",
        "colab_type": "text"
      },
      "source": [
        "<a href=\"https://colab.research.google.com/github/yongjaeahn/python_coding/blob/main/korean/source/07_%ED%8C%8C%EC%9D%BC_%EC%9E%85%EC%B6%9C%EB%A0%A5_%EC%B2%98%EB%A6%AC.ipynb\" target=\"_parent\"><img src=\"https://colab.research.google.com/assets/colab-badge.svg\" alt=\"Open In Colab\"/></a>"
      ]
    },
    {
      "cell_type": "markdown",
      "source": [
        "\t파일 쓰기"
      ],
      "metadata": {
        "id": "TZx7uyXjTMcL"
      }
    },
    {
      "cell_type": "code",
      "source": [
        "f = open('파일이름.txt','r')"
      ],
      "metadata": {
        "colab": {
          "base_uri": "https://localhost:8080/",
          "height": 186
        },
        "id": "qFqfw2lwBwdD",
        "outputId": "44737f42-85c6-4a7e-c045-9cd7aebeecb7"
      },
      "execution_count": null,
      "outputs": [
        {
          "output_type": "error",
          "ename": "FileNotFoundError",
          "evalue": "ignored",
          "traceback": [
            "\u001b[0;31m---------------------------------------------------------------------------\u001b[0m",
            "\u001b[0;31mFileNotFoundError\u001b[0m                         Traceback (most recent call last)",
            "\u001b[0;32m<ipython-input-2-d11711f9c65a>\u001b[0m in \u001b[0;36m<cell line: 1>\u001b[0;34m()\u001b[0m\n\u001b[0;32m----> 1\u001b[0;31m \u001b[0mf\u001b[0m \u001b[0;34m=\u001b[0m \u001b[0mopen\u001b[0m\u001b[0;34m(\u001b[0m\u001b[0;34m'파일이름.txt'\u001b[0m\u001b[0;34m,\u001b[0m\u001b[0;34m'r'\u001b[0m\u001b[0;34m)\u001b[0m\u001b[0;34m\u001b[0m\u001b[0;34m\u001b[0m\u001b[0m\n\u001b[0m",
            "\u001b[0;31mFileNotFoundError\u001b[0m: [Errno 2] No such file or directory: '파일이름.txt'"
          ]
        }
      ]
    },
    {
      "cell_type": "code",
      "source": [
        "try:\n",
        "  print(\"try 블록은 예외가 발생할 것으로 예상되는 곳입니다.\")\n",
        "  result = True\n",
        "except IndexError:\n",
        "  print(\"except IndexError 블록은 인덱스가 허용한 범위를 벗어날 때 실행됩니다.\")\n",
        "except ZeroDivisionError:\n",
        "  print(\"except ZeroDivisionError 블록은 0으로 나누는 예외가 발생할 때 실행됩니다.\")\n",
        "except Exception as e:\n",
        "  print(\"except 블록은 위의 두가지 이외의 예외가 발생할 때 실행됩니다.\")\n",
        "  print(\"예외 메세지 :\",e)\n",
        "else:\n",
        "  print(\"try 블록에서 예외가 발생하지 않을 경우에만 else 블록이 실행됩니다.\")\n",
        "finally:\n",
        "  print(\"finally 블록은 위의 블록들을 수행한 후 최종적으로 언제나 실행됩니다.\")"
      ],
      "metadata": {
        "colab": {
          "base_uri": "https://localhost:8080/"
        },
        "id": "6NxWLu5EyAAt",
        "outputId": "41e8f45c-9334-4d7d-9587-4413166a7024"
      },
      "execution_count": null,
      "outputs": [
        {
          "output_type": "stream",
          "name": "stdout",
          "text": [
            "try 블록은 예외가 발생할 것으로 예상되는 곳입니다.\n",
            "try 블록에서 예외가 발생하지 않을 경우에만 else 블록이 실행됩니다.\n",
            "finally 블록은 위의 블록들을 수행한 후 최종적으로 언제나 실행됩니다.\n"
          ]
        }
      ]
    },
    {
      "cell_type": "code",
      "source": [
        "try:\n",
        "  print(\"try 블록은 예외가 발생할 것으로 예상되는 곳입니다.\")\n",
        "  list_variable = [1,2,3]\n",
        "  result = list_variable[3]\n",
        "except IndexError:\n",
        "  print(\"except IndexError 블록은 인덱스가 허용한 범위를 벗어날 때 실행됩니다.\")\n",
        "except ZeroDivisionError:\n",
        "  print(\"except ZeroDivisionError 블록은 0으로 나누는 예외가 발생할 때 실행됩니다.\")\n",
        "except Exception as e:\n",
        "  print(\"except 블록은 위의 두가지 이외의 예외가 발생할 때 실행됩니다.\")\n",
        "  print(\"예외 메세지 :\",e)\n",
        "else:\n",
        "  print(\"try 블록에서 예외가 발생하지 않을 경우에만 else 블록이 실행됩니다.\")\n",
        "finally:\n",
        "  print(\"finally 블록은 위의 블록들을 수행한 후 최종적으로 언제나 실행됩니다.\")"
      ],
      "metadata": {
        "colab": {
          "base_uri": "https://localhost:8080/"
        },
        "id": "6QTnqbjn96JA",
        "outputId": "5e317ea4-5443-4ba3-9d01-547cf27dc405"
      },
      "execution_count": null,
      "outputs": [
        {
          "output_type": "stream",
          "name": "stdout",
          "text": [
            "try 블록은 예외가 발생할 것으로 예상되는 곳입니다.\n",
            "except IndexError 블록은 인덱스가 허용한 범위를 벗어날 때 실행됩니다.\n",
            "finally 블록은 위의 블록들을 수행한 후 최종적으로 언제나 실행됩니다.\n"
          ]
        }
      ]
    },
    {
      "cell_type": "code",
      "source": [
        "try:\n",
        "  print(\"try 블록은 예외가 발생할 것으로 예상되는 곳입니다.\")\n",
        "  result = 1 / 0\n",
        "except IndexError:\n",
        "  print(\"except IndexError 블록은 인덱스가 허용한 범위를 벗어날 때 실행됩니다.\")\n",
        "except ZeroDivisionError:\n",
        "  print(\"except ZeroDivisionError 블록은 0으로 나누는 예외가 발생할 때 실행됩니다.\")\n",
        "except Exception as e:\n",
        "  print(\"except 블록은 위의 두가지 이외의 예외가 발생할 때 실행됩니다.\")\n",
        "  print(\"예외 메세지 :\",e)\n",
        "else:\n",
        "  print(\"try 블록에서 예외가 발생하지 않을 경우에만 else 블록이 실행됩니다.\")\n",
        "finally:\n",
        "  print(\"finally 블록은 위의 블록들을 수행한 후 최종적으로 언제나 실행됩니다.\")"
      ],
      "metadata": {
        "colab": {
          "base_uri": "https://localhost:8080/"
        },
        "id": "0zC2-YBJ_wf4",
        "outputId": "dd2970c9-815a-4012-e196-12963b3e987e"
      },
      "execution_count": null,
      "outputs": [
        {
          "output_type": "stream",
          "name": "stdout",
          "text": [
            "try 블록은 예외가 발생할 것으로 예상되는 곳입니다.\n",
            "except ZeroDivisionError 블록은 0으로 나누는 예외가 발생할 때 실행됩니다.\n",
            "finally 블록은 위의 블록들을 수행한 후 최종적으로 언제나 실행됩니다.\n"
          ]
        }
      ]
    },
    {
      "cell_type": "code",
      "source": [
        "try:\n",
        "  print(\"try 블록은 예외가 발생할 것으로 예상되는 곳입니다.\")\n",
        "  result = int(\"문자열\")\n",
        "except IndexError:\n",
        "  print(\"except IndexError 블록은 인덱스가 허용한 범위를 벗어날 때 실행됩니다.\")\n",
        "except ZeroDivisionError:\n",
        "  print(\"except ZeroDivisionError 블록은 0으로 나누는 예외가 발생할 때 실행됩니다.\")\n",
        "except Exception as e:\n",
        "  print(\"except 블록은 위의 두가지 이외의 예외가 발생할 때 실행됩니다.\")\n",
        "  print(\"예외 메세지 :\",e)\n",
        "else:\n",
        "  print(\"try 블록에서 예외가 발생하지 않을 경우에만 else 블록이 실행됩니다.\")\n",
        "finally:\n",
        "  print(\"finally 블록은 위의 블록들을 수행한 후 최종적으로 언제나 실행됩니다.\")"
      ],
      "metadata": {
        "colab": {
          "base_uri": "https://localhost:8080/"
        },
        "id": "mQAN7-5RALoe",
        "outputId": "459dac48-1c60-471f-8803-f452a17fbab2"
      },
      "execution_count": null,
      "outputs": [
        {
          "output_type": "stream",
          "name": "stdout",
          "text": [
            "try 블록은 예외가 발생할 것으로 예상되는 곳입니다.\n",
            "except 블록은 위의 두가지 이외의 예외가 발생할 때 실행됩니다.\n",
            "예외 메세지 : invalid literal for int() with base 10: '문자열'\n",
            "finally 블록은 위의 블록들을 수행한 후 최종적으로 언제나 실행됩니다.\n"
          ]
        }
      ]
    },
    {
      "cell_type": "code",
      "source": [
        "try:\n",
        "  f = open('파일이름.txt','r')\n",
        "except FileNotFoundError:\n",
        "  print(\"파일이름.txt 파일이 존재하지 않습니다.\")\n",
        "  print(\"파일 쓰기 프로그램을 먼저 실행한 후 읽기 작업을 하기 바랍니다.\")"
      ],
      "metadata": {
        "colab": {
          "base_uri": "https://localhost:8080/"
        },
        "id": "RXrpYaXMBZBL",
        "outputId": "4ea04698-939f-45e1-d9ee-8d3ad7424e1e"
      },
      "execution_count": null,
      "outputs": [
        {
          "output_type": "stream",
          "name": "stdout",
          "text": [
            "파일이름.txt 파일이 존재하지 않습니다.\n",
            "파일 쓰기 프로그램을 먼저 실행한 후 읽기 작업을 하기 바랍니다.\n"
          ]
        }
      ]
    },
    {
      "cell_type": "code",
      "source": [
        "import math\n",
        "\n",
        "def devide(number,divisor):\n",
        "  try:\n",
        "    return number / divisor\n",
        "  except ZeroDivisionError:\n",
        "    if number < 0: return -math.inf\n",
        "    elif number == 0: return math.nan\n",
        "    else: return math.inf\n",
        "\n",
        "print('10 / 3 :',devide(10,3))\n",
        "print('-1 / 0 :',devide(-1,0))\n",
        "print('0 / 0 :',devide(0,0))\n",
        "print('1 / 0 :',devide(1,0))"
      ],
      "metadata": {
        "colab": {
          "base_uri": "https://localhost:8080/"
        },
        "id": "0-wOcdnp0tmn",
        "outputId": "51f075d6-1bef-4a58-eaaa-d1f4b1d2840c"
      },
      "execution_count": null,
      "outputs": [
        {
          "output_type": "stream",
          "name": "stdout",
          "text": [
            "10 / 3 : 3.3333333333333335\n",
            "-1 / 0 : -inf\n",
            "0 / 0 : nan\n",
            "1 / 0 : inf\n"
          ]
        }
      ]
    },
    {
      "cell_type": "code",
      "source": [
        "f = open('파일이름.txt','w')"
      ],
      "metadata": {
        "id": "3hUFGT5lF-eB"
      },
      "execution_count": null,
      "outputs": []
    },
    {
      "cell_type": "code",
      "source": [
        "f.write('첫번째줄\\n')\n",
        "f.write('두번째줄\\n')\n",
        "f.write('세번째줄\\n')"
      ],
      "metadata": {
        "colab": {
          "base_uri": "https://localhost:8080/"
        },
        "id": "NzeBhyk5Lhp2",
        "outputId": "008a693d-ed82-4c53-f3c5-967b56230a01"
      },
      "execution_count": null,
      "outputs": [
        {
          "output_type": "execute_result",
          "data": {
            "text/plain": [
              "5"
            ]
          },
          "metadata": {},
          "execution_count": 13
        }
      ]
    },
    {
      "cell_type": "code",
      "source": [
        "f.close()"
      ],
      "metadata": {
        "id": "HnApZSnJQaee"
      },
      "execution_count": null,
      "outputs": []
    },
    {
      "cell_type": "markdown",
      "source": [
        "\t파일 내용 추가하기"
      ],
      "metadata": {
        "id": "fMpDn4juTR2M"
      }
    },
    {
      "cell_type": "code",
      "source": [
        "f = open('파일이름.txt','a')\n",
        "\n",
        "f.write('네번째줄\\n')\n",
        "f.write('다섯번째줄\\n')\n",
        "\n",
        "f.close()"
      ],
      "metadata": {
        "id": "k_9KhPAiSItC"
      },
      "execution_count": null,
      "outputs": []
    },
    {
      "cell_type": "markdown",
      "source": [
        "\t파일 읽기"
      ],
      "metadata": {
        "id": "GfJQlDh6S9Ai"
      }
    },
    {
      "cell_type": "code",
      "source": [
        "f = open('파일이름.txt','r')\n",
        "\n",
        "text_data = f.read()\n",
        "\n",
        "f.close()\n",
        "\n",
        "print(text_data)\n",
        "print(repr(text_data))"
      ],
      "metadata": {
        "colab": {
          "base_uri": "https://localhost:8080/"
        },
        "id": "vDsezDrJS78L",
        "outputId": "96fb3888-99a4-4f9a-c496-35c104e751ba"
      },
      "execution_count": null,
      "outputs": [
        {
          "output_type": "stream",
          "name": "stdout",
          "text": [
            "첫번째줄\n",
            "두번째줄\n",
            "세번째줄\n",
            "네번째줄\n",
            "다섯번째줄\n",
            "\n",
            "'첫번째줄\\n두번째줄\\n세번째줄\\n네번째줄\\n다섯번째줄\\n'\n"
          ]
        }
      ]
    },
    {
      "cell_type": "code",
      "source": [
        "f = open('파일이름.txt','r')\n",
        "\n",
        "text_data = f.readline()\n",
        "\n",
        "f.close()\n",
        "\n",
        "print(text_data)\n",
        "print(repr(text_data))"
      ],
      "metadata": {
        "colab": {
          "base_uri": "https://localhost:8080/"
        },
        "id": "DIZAzRJoZ8_n",
        "outputId": "af300f7b-2ca1-4912-f64a-90d63d1cbeea"
      },
      "execution_count": null,
      "outputs": [
        {
          "output_type": "stream",
          "name": "stdout",
          "text": [
            "첫번째줄\n",
            "\n",
            "'첫번째줄\\n'\n"
          ]
        }
      ]
    },
    {
      "cell_type": "code",
      "source": [
        "f = open('파일이름.txt','r')\n",
        "\n",
        "while line := f.readline():\n",
        "  print(repr(line))\n",
        "\n",
        "f.close()"
      ],
      "metadata": {
        "colab": {
          "base_uri": "https://localhost:8080/"
        },
        "id": "w-_DRSBQ56JX",
        "outputId": "1ac78ff4-f763-4252-c686-5bd9859e0252"
      },
      "execution_count": null,
      "outputs": [
        {
          "output_type": "stream",
          "name": "stdout",
          "text": [
            "'첫번째줄\\n'\n",
            "'두번째줄\\n'\n",
            "'세번째줄\\n'\n",
            "'네번째줄\\n'\n",
            "'다섯번째줄\\n'\n"
          ]
        }
      ]
    },
    {
      "cell_type": "code",
      "source": [
        "f = open('파일이름.txt','r')\n",
        "\n",
        "while line := f.readline().rstrip():\n",
        "  print(repr(line))\n",
        "\n",
        "f.close()"
      ],
      "metadata": {
        "colab": {
          "base_uri": "https://localhost:8080/"
        },
        "id": "Uv66MI8GAumK",
        "outputId": "940f2f7e-186f-4891-a142-5b5524d16114"
      },
      "execution_count": null,
      "outputs": [
        {
          "output_type": "stream",
          "name": "stdout",
          "text": [
            "'첫번째줄'\n",
            "'두번째줄'\n",
            "'세번째줄'\n",
            "'네번째줄'\n",
            "'다섯번째줄'\n"
          ]
        }
      ]
    },
    {
      "cell_type": "code",
      "source": [
        "f = open('파일이름.txt','r')\n",
        "\n",
        "for line in f:\n",
        "  print(line.rstrip())\n",
        "\n",
        "f.close()"
      ],
      "metadata": {
        "colab": {
          "base_uri": "https://localhost:8080/"
        },
        "id": "vlffqfGcKXg7",
        "outputId": "33845ef9-421d-4f12-a955-42ca80040471"
      },
      "execution_count": null,
      "outputs": [
        {
          "output_type": "stream",
          "name": "stdout",
          "text": [
            "첫번째줄\n",
            "두번째줄\n",
            "세번째줄\n",
            "네번째줄\n",
            "다섯번째줄\n"
          ]
        }
      ]
    },
    {
      "cell_type": "code",
      "source": [
        "with open('파일이름.txt','w') as f:\n",
        "  f.write('첫번째줄\\n')\n",
        "  f.write('두번째줄\\n')\n",
        "  f.write('세번째줄\\n')\n",
        "\n",
        "with open('파일이름.txt','r') as f:\n",
        "  for line in f:\n",
        "    print(line.rstrip())"
      ],
      "metadata": {
        "colab": {
          "base_uri": "https://localhost:8080/"
        },
        "id": "0vEqHpFJIA1C",
        "outputId": "c55c5f8e-f525-42b8-db03-d695752add8c"
      },
      "execution_count": null,
      "outputs": [
        {
          "output_type": "stream",
          "name": "stdout",
          "text": [
            "첫번째줄\n",
            "두번째줄\n",
            "세번째줄\n"
          ]
        }
      ]
    },
    {
      "cell_type": "markdown",
      "source": [
        "\t파일 인코딩"
      ],
      "metadata": {
        "id": "hLkCT7ylpSru"
      }
    },
    {
      "cell_type": "code",
      "source": [
        "bin(ord('a'))   # 문자 'a'의 UTF-8 이진 코드\n",
        "bin(ord('5'))   # 문자 '5'의 UTF-8 이진 코드\n",
        "bin(5)          # 숫자 5의 UTF-8 이진 코드\n",
        "bin(ord('안'))  # 한글 '안'의 UTF-8 이진 코드"
      ],
      "metadata": {
        "id": "rjCinesOpgNs"
      },
      "execution_count": null,
      "outputs": []
    },
    {
      "cell_type": "code",
      "source": [
        "with open('파일이름.txt','r', encoding='utf-8') as f:\n",
        "  in_list1d_str = f.readlines()\n",
        "\n",
        "print(in_list1d_str)"
      ],
      "metadata": {
        "colab": {
          "base_uri": "https://localhost:8080/"
        },
        "id": "BmM_uia5xmHu",
        "outputId": "9aac9e52-15a3-4377-a7fc-2bd3b0e2fe7e"
      },
      "execution_count": null,
      "outputs": [
        {
          "output_type": "stream",
          "name": "stdout",
          "text": [
            "['첫번째줄\\n', '두번째줄\\n', '세번째줄\\n']\n"
          ]
        }
      ]
    },
    {
      "cell_type": "code",
      "source": [
        "with open('파일이름.txt','r', encoding='utf-8') as f:\n",
        "    in_list1d_str = f.readlines()\n",
        "\n",
        "print(in_list1d_str)"
      ],
      "metadata": {
        "id": "k8NefS5M3_UO"
      },
      "execution_count": null,
      "outputs": []
    },
    {
      "cell_type": "code",
      "source": [
        "with open('파일이름.txt','r', encoding='ansi') as f:\n",
        "    in_list1d_str = f.readlines()\n",
        "\n",
        "print(in_list1d_str)"
      ],
      "metadata": {
        "id": "ozl22kAXjxVi"
      },
      "execution_count": null,
      "outputs": []
    },
    {
      "cell_type": "code",
      "source": [
        "with open('파일이름.txt','w', encoding='utf-8') as f:\n",
        "    f.write('첫번째줄\\n')\n",
        "    f.write('두번째줄\\n')\n",
        "    f.write('세번째줄\\n')\n",
        "\n",
        "with open('파일이름.txt','r', encoding='utf-8') as f:\n",
        "    in_list1d_str = f.readlines()\n",
        "\n",
        "print(in_list1d_str)"
      ],
      "metadata": {
        "id": "492maH_knnAy"
      },
      "execution_count": null,
      "outputs": []
    },
    {
      "cell_type": "markdown",
      "source": [
        "\tnumpy 배열 입출력"
      ],
      "metadata": {
        "id": "3_8Bhj8vEREg"
      }
    },
    {
      "cell_type": "code",
      "execution_count": null,
      "metadata": {
        "colab": {
          "base_uri": "https://localhost:8080/"
        },
        "id": "SZUr32xck29C",
        "outputId": "50042d4a-76aa-4530-b3f0-2141e8696e82"
      },
      "outputs": [
        {
          "output_type": "stream",
          "name": "stdout",
          "text": [
            "out_array_matrix :\n",
            " [[ 1  2  3  4  5  6  7  8  9 10]\n",
            " [11 12 13 14 15 16 17 18 19 20]\n",
            " [21 22 23 24 25 26 27 28 29 30]\n",
            " [31 32 33 34 35 36 37 38 39 40]\n",
            " [41 42 43 44 45 46 47 48 49 50]]\n",
            "in_array_matrix :\n",
            " [[ 1  2  3  4  5  6  7  8  9 10]\n",
            " [11 12 13 14 15 16 17 18 19 20]\n",
            " [21 22 23 24 25 26 27 28 29 30]\n",
            " [31 32 33 34 35 36 37 38 39 40]\n",
            " [41 42 43 44 45 46 47 48 49 50]]\n"
          ]
        }
      ],
      "source": [
        "import numpy as np\n",
        "\n",
        "out_array_matrix = np.arange(1,51).reshape(5,10)\n",
        "print(\"out_array_matrix :\\n\",out_array_matrix)\n",
        "\n",
        "np.savetxt(\"numpy배열.csv\",out_array_matrix,fmt='%d',delimiter=',',encoding='utf-8')\n",
        "\n",
        "in_array_matrix = np.loadtxt(\"numpy배열.csv\",dtype='int',delimiter=\",\",encoding='utf-8')\n",
        "\n",
        "print(\"in_array_matrix :\\n\",in_array_matrix)"
      ]
    },
    {
      "cell_type": "code",
      "source": [
        "import numpy as np\n",
        "\n",
        "out_array_matrix = np.arange(1,51).reshape(5,10)\n",
        "\n",
        "np.save(\"numpy배열.npy\",out_array_matrix)\n",
        "\n",
        "in_array_matrix = np.load(\"numpy배열.npy\")\n",
        "\n",
        "print(\"in_array_matrix :\\n\",in_array_matrix)\n",
        "type(in_array_matrix)"
      ],
      "metadata": {
        "colab": {
          "base_uri": "https://localhost:8080/"
        },
        "id": "9DvcV73qHkyE",
        "outputId": "f4f1da2d-bb4a-494a-d989-3d5e2b994155"
      },
      "execution_count": null,
      "outputs": [
        {
          "output_type": "stream",
          "name": "stdout",
          "text": [
            "in_array_matrix :\n",
            " [[ 1  2  3  4  5  6  7  8  9 10]\n",
            " [11 12 13 14 15 16 17 18 19 20]\n",
            " [21 22 23 24 25 26 27 28 29 30]\n",
            " [31 32 33 34 35 36 37 38 39 40]\n",
            " [41 42 43 44 45 46 47 48 49 50]]\n"
          ]
        },
        {
          "output_type": "execute_result",
          "data": {
            "text/plain": [
              "numpy.ndarray"
            ]
          },
          "metadata": {},
          "execution_count": 1
        }
      ]
    },
    {
      "cell_type": "code",
      "source": [
        "import numpy as np\n",
        "\n",
        "out_array_matrix01 = np.arange(1,51).reshape(5,10)\n",
        "out_array_matrix02 = np.arange(51,101).reshape(5,10)\n",
        "\n",
        "np.savez(\"numpy배열들.npz\",array01=out_array_matrix01,array02=out_array_matrix02)\n",
        "\n",
        "in_array_matrix = np.load(\"numpy배열들.npz\")\n",
        "\n",
        "print(\"in_array_matrix['array01'] :\\n\",in_array_matrix['array01'])\n",
        "print(\"in_array_matrix['array02'] :\\n\",in_array_matrix['array02'])\n",
        "in_array_matrix.close()"
      ],
      "metadata": {
        "colab": {
          "base_uri": "https://localhost:8080/"
        },
        "id": "OE-J2DuuWGoY",
        "outputId": "8974f829-3818-4007-f22d-e265dc75a9e7"
      },
      "execution_count": null,
      "outputs": [
        {
          "output_type": "stream",
          "name": "stdout",
          "text": [
            "in_array_matrix['array01'] :\n",
            " [[ 1  2  3  4  5  6  7  8  9 10]\n",
            " [11 12 13 14 15 16 17 18 19 20]\n",
            " [21 22 23 24 25 26 27 28 29 30]\n",
            " [31 32 33 34 35 36 37 38 39 40]\n",
            " [41 42 43 44 45 46 47 48 49 50]]\n",
            "in_array_matrix['array02'] :\n",
            " [[ 51  52  53  54  55  56  57  58  59  60]\n",
            " [ 61  62  63  64  65  66  67  68  69  70]\n",
            " [ 71  72  73  74  75  76  77  78  79  80]\n",
            " [ 81  82  83  84  85  86  87  88  89  90]\n",
            " [ 91  92  93  94  95  96  97  98  99 100]]\n"
          ]
        }
      ]
    },
    {
      "cell_type": "code",
      "source": [
        "import numpy as np\n",
        "\n",
        "out_array_matrix = np.arange(1,50001)\n",
        "\n",
        "np.savetxt(\"대용량numpy배열.csv\",out_array_matrix,fmt='%d',delimiter=',',encoding='utf-8')\n",
        "np.save(\"대용량numpy배열.npy\",out_array_matrix)\n",
        "np.savez(\"대용량numpy배열.npz\",array01=out_array_matrix)\n",
        "np.savez_compressed(\"대용량numpy배열-압축.npz\",array01=out_array_matrix)"
      ],
      "metadata": {
        "id": "EmGfs0P0gK4U"
      },
      "execution_count": null,
      "outputs": []
    },
    {
      "cell_type": "code",
      "source": [
        "import numpy as np\n",
        "import time\n",
        "\n",
        "out_array_matrix = np.arange(1,50001)\n",
        "\n",
        "start = time.time()\n",
        "np.savetxt(\"대용량numpy배열.csv\",out_array_matrix,fmt='%d',delimiter=',',encoding='utf-8')\n",
        "end = time.time()\n",
        "print(f'csv 파일 저장 시간\\t: {end - start:.3f}초')\n",
        "\n",
        "start = time.time()\n",
        "np.save(\"대용량numpy배열.npy\",out_array_matrix)\n",
        "end = time.time()\n",
        "print(f'바이너리 파일 저장 시간\\t: {end - start:.3f}초')\n",
        "\n",
        "start = time.time()\n",
        "np.savez_compressed(\"대용량numpy배열-압축.npz\",array01=out_array_matrix)\n",
        "end = time.time()\n",
        "print(f'압축 바이너리 파일 저장 시간\\t: {end - start:.3f}초')"
      ],
      "metadata": {
        "colab": {
          "base_uri": "https://localhost:8080/"
        },
        "id": "1y5hry77Ucxe",
        "outputId": "a9aeda44-96f8-4d62-f513-4b6f16139e6b"
      },
      "execution_count": null,
      "outputs": [
        {
          "output_type": "stream",
          "name": "stdout",
          "text": [
            "csv 파일 저장 시간\t: 0.077초\n",
            "바이너리 파일 저장 시간\t: 0.002초\n",
            "압축 바이너리 파일 저장 시간\t: 0.034초\n"
          ]
        }
      ]
    },
    {
      "cell_type": "code",
      "source": [
        "!pip install memory_profiler"
      ],
      "metadata": {
        "colab": {
          "base_uri": "https://localhost:8080/"
        },
        "id": "004jDhaAYE7O",
        "outputId": "79ca9589-edfb-404a-d49a-0888d4941b3e"
      },
      "execution_count": null,
      "outputs": [
        {
          "output_type": "stream",
          "name": "stdout",
          "text": [
            "Collecting memory_profiler\n",
            "  Downloading memory_profiler-0.61.0-py3-none-any.whl (31 kB)\n",
            "Requirement already satisfied: psutil in /usr/local/lib/python3.10/dist-packages (from memory_profiler) (5.9.5)\n",
            "Installing collected packages: memory_profiler\n",
            "Successfully installed memory_profiler-0.61.0\n"
          ]
        }
      ]
    },
    {
      "cell_type": "code",
      "source": [
        "import numpy as np\n",
        "from memory_profiler import memory_usage\n",
        "\n",
        "out_array_matrix = np.arange(1,50001)\n",
        "\n",
        "memory_usage_whole = memory_usage(lambda:\n",
        "    np.savetxt(\"대용량numpy배열.csv\",out_array_matrix,fmt='%d',delimiter=',',encoding='utf-8'))\n",
        "print(f\"np.savetxt() 메모리 사용량\\t\\t: {max(memory_usage_whole) - min(memory_usage_whole)}MB\")\n",
        "\n",
        "memory_usage_each = memory_usage(lambda:\n",
        "    np.save(\"대용량numpy배열.npy\",out_array_matrix))\n",
        "print(f\"np.save() 메모리 사용량\\t\\t\\t: {max(memory_usage_each) - min(memory_usage_each)}MB\")\n",
        "\n",
        "memory_usage_each = memory_usage(lambda:\n",
        "    np.savez_compressed(\"대용량numpy배열-압축.npz\",array01=out_array_matrix))\n",
        "print(f\"np.savez_compressed() 메모리 사용량\\t: {max(memory_usage_each) - min(memory_usage_each)}MB\")"
      ],
      "metadata": {
        "colab": {
          "base_uri": "https://localhost:8080/"
        },
        "id": "RpSDMODLbRwQ",
        "outputId": "bca727c6-107d-40df-8435-a7a080f7c4bd"
      },
      "execution_count": null,
      "outputs": [
        {
          "output_type": "stream",
          "name": "stdout",
          "text": [
            "np.savetxt() 메모리 사용량\t\t: 0.171875MB\n",
            "np.save() 메모리 사용량\t\t\t: 0.015625MB\n",
            "np.savez_compressed() 메모리 사용량\t: 0.00390625MB\n"
          ]
        }
      ]
    },
    {
      "cell_type": "code",
      "source": [
        "import numpy as np\n",
        "from memory_profiler import memory_usage\n",
        "\n",
        "out_array_matrix = np.arange(1,50001)\n",
        "\n",
        "memory_usage_whole = memory_usage(\n",
        "    np.savetxt(\"대용량numpy배열.csv\",out_array_matrix,fmt='%d',delimiter=',',encoding='utf-8'))\n",
        "print(f\"np.savetxt() 메모리 사용량\\t: {max(memory_usage_whole) - min(memory_usage_whole)}MB\")\n",
        "\n",
        "memory_usage_each = memory_usage(\n",
        "    np.save(\"대용량numpy배열.npy\",out_array_matrix))\n",
        "print(f\"np.save() 메모리 사용량\\t: {max(memory_usage_each) - min(memory_usage_each)}MB\")\n",
        "\n",
        "memory_usage_each = memory_usage(\n",
        "    np.savez_compressed(\"대용량numpy배열-압축.npz\",array01=out_array_matrix))\n",
        "print(f\"np.savez_compressed() 메모리 사용량\\t: {max(memory_usage_each) - min(memory_usage_each)}MB\")"
      ],
      "metadata": {
        "colab": {
          "base_uri": "https://localhost:8080/",
          "height": 318
        },
        "id": "w58kSueXYjZH",
        "outputId": "48c0e502-8afe-45d2-f52f-2d845606b9b0"
      },
      "execution_count": null,
      "outputs": [
        {
          "output_type": "error",
          "ename": "TypeError",
          "evalue": "ignored",
          "traceback": [
            "\u001b[0;31m---------------------------------------------------------------------------\u001b[0m",
            "\u001b[0;31mTypeError\u001b[0m                                 Traceback (most recent call last)",
            "\u001b[0;32m<ipython-input-5-bb0602c92880>\u001b[0m in \u001b[0;36m<cell line: 6>\u001b[0;34m()\u001b[0m\n\u001b[1;32m      4\u001b[0m \u001b[0mout_array_matrix\u001b[0m \u001b[0;34m=\u001b[0m \u001b[0mnp\u001b[0m\u001b[0;34m.\u001b[0m\u001b[0marange\u001b[0m\u001b[0;34m(\u001b[0m\u001b[0;36m1\u001b[0m\u001b[0;34m,\u001b[0m\u001b[0;36m50001\u001b[0m\u001b[0;34m)\u001b[0m\u001b[0;34m\u001b[0m\u001b[0;34m\u001b[0m\u001b[0m\n\u001b[1;32m      5\u001b[0m \u001b[0;34m\u001b[0m\u001b[0m\n\u001b[0;32m----> 6\u001b[0;31m \u001b[0mmemory_usage_whole\u001b[0m \u001b[0;34m=\u001b[0m \u001b[0mmemory_usage\u001b[0m\u001b[0;34m(\u001b[0m\u001b[0mnp\u001b[0m\u001b[0;34m.\u001b[0m\u001b[0msavetxt\u001b[0m\u001b[0;34m)\u001b[0m\u001b[0;34m\u001b[0m\u001b[0;34m\u001b[0m\u001b[0m\n\u001b[0m\u001b[1;32m      7\u001b[0m \u001b[0mprint\u001b[0m\u001b[0;34m(\u001b[0m\u001b[0;34mf\"np.savetxt() 메모리 사용량\\t: {max(memory_usage_whole) - min(memory_usage_whole)}MB\"\u001b[0m\u001b[0;34m)\u001b[0m\u001b[0;34m\u001b[0m\u001b[0;34m\u001b[0m\u001b[0m\n\u001b[1;32m      8\u001b[0m \u001b[0;34m\u001b[0m\u001b[0m\n",
            "\u001b[0;32m/usr/local/lib/python3.10/dist-packages/memory_profiler.py\u001b[0m in \u001b[0;36mmemory_usage\u001b[0;34m(proc, interval, timeout, timestamps, include_children, multiprocess, max_usage, retval, stream, backend, max_iterations)\u001b[0m\n\u001b[1;32m    377\u001b[0m             \u001b[0;31m# Therefore, the whole process hangs indefinitely. Here, we are ensuring that the process gets killed!\u001b[0m\u001b[0;34m\u001b[0m\u001b[0;34m\u001b[0m\u001b[0m\n\u001b[1;32m    378\u001b[0m             \u001b[0;32mtry\u001b[0m\u001b[0;34m:\u001b[0m\u001b[0;34m\u001b[0m\u001b[0;34m\u001b[0m\u001b[0m\n\u001b[0;32m--> 379\u001b[0;31m                 \u001b[0mreturned\u001b[0m \u001b[0;34m=\u001b[0m \u001b[0mf\u001b[0m\u001b[0;34m(\u001b[0m\u001b[0;34m*\u001b[0m\u001b[0margs\u001b[0m\u001b[0;34m,\u001b[0m \u001b[0;34m**\u001b[0m\u001b[0mkw\u001b[0m\u001b[0;34m)\u001b[0m\u001b[0;34m\u001b[0m\u001b[0;34m\u001b[0m\u001b[0m\n\u001b[0m\u001b[1;32m    380\u001b[0m                 \u001b[0mparent_conn\u001b[0m\u001b[0;34m.\u001b[0m\u001b[0msend\u001b[0m\u001b[0;34m(\u001b[0m\u001b[0;36m0\u001b[0m\u001b[0;34m)\u001b[0m  \u001b[0;31m# finish timing\u001b[0m\u001b[0;34m\u001b[0m\u001b[0;34m\u001b[0m\u001b[0m\n\u001b[1;32m    381\u001b[0m                 \u001b[0mret\u001b[0m \u001b[0;34m=\u001b[0m \u001b[0mparent_conn\u001b[0m\u001b[0;34m.\u001b[0m\u001b[0mrecv\u001b[0m\u001b[0;34m(\u001b[0m\u001b[0;34m)\u001b[0m\u001b[0;34m\u001b[0m\u001b[0;34m\u001b[0m\u001b[0m\n",
            "\u001b[0;32m/usr/local/lib/python3.10/dist-packages/numpy/core/overrides.py\u001b[0m in \u001b[0;36msavetxt\u001b[0;34m(*args, **kwargs)\u001b[0m\n",
            "\u001b[0;31mTypeError\u001b[0m: _savetxt_dispatcher() missing 2 required positional arguments: 'fname' and 'X'"
          ]
        }
      ]
    },
    {
      "cell_type": "markdown",
      "source": [
        "\t모니터링 로그 쓰기"
      ],
      "metadata": {
        "id": "y4y537xhX_Rl"
      }
    },
    {
      "cell_type": "code",
      "source": [
        "import logging\n",
        "\n",
        "logging.basicConfig(filename='monitoring.log',\n",
        "                    encoding='utf-8',\n",
        "                    format='%(asctime)s %(levelname)s %(message)s',\n",
        "                    level=logging.INFO)\n",
        "\n",
        "memory_usage = 10\n",
        "logging.debug(f'메모리 사용량 : {memory_usage}MB')\n",
        "logging.info('프로그램이 기동되었습니다.')\n",
        "logging.info(repr('\\t\\n과 같은 특수 문자가 포함된 로그의 출력은 repr() 함수를 사용합니다.'))\n",
        "logging.warning('나눗셈에 사용될 out_array_matrix 배열에 0이 포함되어 있습니다.')\n",
        "logging.error('나눗셈에 사용될 divisor 변수의 값이 0입니다.')\n",
        "logging.critical('프로그램이 정상 종료되지 않았습니다.')\n",
        "logging.info('프로그램이 종료되었습니다.')"
      ],
      "metadata": {
        "id": "RU3sHufpHzeV"
      },
      "execution_count": null,
      "outputs": []
    },
    {
      "cell_type": "code",
      "source": [
        "import logging\n",
        "\n",
        "logging.basicConfig(filename='monitoring.log',\n",
        "                    encoding='utf-8',\n",
        "                    format='%(asctime)s %(levelname)s %(message)s',\n",
        "                    #level=logging.INFO)\n",
        "                    level=logging.DEBUG)\n",
        "\n",
        "memory_usage = 10\n",
        "logging.debug(f'메모리 사용량 : {memory_usage}MB')\n",
        "logging.info('프로그램이 기동되었습니다.')\n",
        "logging.info(repr('\\t\\n과 같은 특수 문자가 포함된 로그의 출력은 repr() 함수를 사용합니다.'))\n",
        "logging.warning('나눗셈에 사용될 out_array_matrix 배열에 0이 포함되어 있습니다.')\n",
        "logging.error('나눗셈에 사용될 divisor 변수의 값이 0입니다.')\n",
        "logging.critical('프로그램이 정상 종료되지 않았습니다.')\n",
        "logging.info('프로그램이 종료되었습니다.')"
      ],
      "metadata": {
        "id": "7x94TcLmWLrF"
      },
      "execution_count": null,
      "outputs": []
    },
    {
      "cell_type": "code",
      "source": [
        "import logging\n",
        "\n",
        "logging.basicConfig(filename='monitoring.log',\n",
        "                    encoding='utf-8',\n",
        "                    format='%(asctime)s %(levelname)s %(message)s',\n",
        "                    #level=logging.INFO)\n",
        "                    level=logging.DEBUG)\n",
        "\n",
        "try:\n",
        "    result = 10 / 0\n",
        "except Exception:\n",
        "    logging.exception('처리할 수 없는 예외가 발생하여 프로그램의 실행을 종료합니다.')"
      ],
      "metadata": {
        "id": "f8fH1pOrrnvZ"
      },
      "execution_count": null,
      "outputs": []
    }
  ]
}