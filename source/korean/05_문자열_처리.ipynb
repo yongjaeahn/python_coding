{
  "nbformat": 4,
  "nbformat_minor": 0,
  "metadata": {
    "colab": {
      "provenance": [],
      "authorship_tag": "ABX9TyMf01TVcf3jNh8mAuRPoQs5",
      "include_colab_link": true
    },
    "kernelspec": {
      "name": "python3",
      "display_name": "Python 3"
    },
    "language_info": {
      "name": "python"
    }
  },
  "cells": [
    {
      "cell_type": "markdown",
      "metadata": {
        "id": "view-in-github",
        "colab_type": "text"
      },
      "source": [
        "<a href=\"https://colab.research.google.com/github/yongjaeahn/python_coding/blob/main/source/korean/05_%EB%AC%B8%EC%9E%90%EC%97%B4_%EC%B2%98%EB%A6%AC.ipynb\" target=\"_parent\"><img src=\"https://colab.research.google.com/assets/colab-badge.svg\" alt=\"Open In Colab\"/></a>"
      ]
    },
    {
      "cell_type": "markdown",
      "source": [
        "\t문자열 만들기"
      ],
      "metadata": {
        "id": "OzuXpwBTn3IO"
      }
    },
    {
      "cell_type": "code",
      "execution_count": null,
      "metadata": {
        "id": "FjCSaG-Nlvql",
        "colab": {
          "base_uri": "https://localhost:8080/"
        },
        "outputId": "03dfe973-f1bf-4856-9a6a-e9670e6981d6"
      },
      "outputs": [
        {
          "output_type": "stream",
          "name": "stdout",
          "text": [
            "문자열은 단일인용부호(')부호로 감싸주거나 이중인용부호(\")로 감싸줍니다.\n",
            "English 한글 1234 ,.)[{\n"
          ]
        }
      ],
      "source": [
        "print('문자열은 단일인용부호(\\')부호로 감싸주거나 ' + \"이중인용부호(\\\")로 감싸줍니다.\")\n",
        "print('English 한글 1234 ,.)[{')"
      ]
    },
    {
      "cell_type": "code",
      "source": [
        "print(\"Tab으로\\t\\t맞추는 문자열\")\n",
        "print(\"탭(Tab)으로\\t맞추는 문자열\")"
      ],
      "metadata": {
        "id": "hSKGn3Yt8F_v",
        "outputId": "6957899b-91e4-494f-fedc-0a23885de2b5",
        "colab": {
          "base_uri": "https://localhost:8080/"
        }
      },
      "execution_count": null,
      "outputs": [
        {
          "output_type": "stream",
          "name": "stdout",
          "text": [
            "Tab으로\t\t맞추는 문자열\n",
            "탭(Tab)으로\t맞추는 문자열\n"
          ]
        }
      ]
    },
    {
      "cell_type": "code",
      "source": [
        "print(\"새줄로 넘기기\\n새줄\")"
      ],
      "metadata": {
        "colab": {
          "base_uri": "https://localhost:8080/"
        },
        "id": "6Bg0gKyBmwq6",
        "outputId": "bf2a28fa-7183-45d3-f0ee-e2b41c7c9441"
      },
      "execution_count": null,
      "outputs": [
        {
          "output_type": "stream",
          "name": "stdout",
          "text": [
            "새줄로 넘기기\n",
            "새줄\n"
          ]
        }
      ]
    },
    {
      "cell_type": "code",
      "source": [
        "print(\"백슬래시(\\\\)출력\")\n",
        "print(\"이중인용부호 안의 단일인용부호(')\")\n",
        "print('단일인용부호 안의 이중인용부호(\")')"
      ],
      "metadata": {
        "colab": {
          "base_uri": "https://localhost:8080/"
        },
        "id": "tkQW4mQbnKwX",
        "outputId": "55e71af3-82fd-4434-a4d4-ec4fe445eb26"
      },
      "execution_count": null,
      "outputs": [
        {
          "output_type": "stream",
          "name": "stdout",
          "text": [
            "백슬래시(\\)출력\n",
            "이중인용부호 안의 단일인용부호(')\n",
            "단일인용부호 안의 이중인용부호(\")\n"
          ]
        }
      ]
    },
    {
      "cell_type": "code",
      "source": [
        "multi_line_string = '''1번째 문자열\n",
        "2번째 문자열\n",
        "3번째 문자열'''\n",
        "print(multi_line_string)\n",
        "\n",
        "print(\"-\"*12)\n",
        "\n",
        "multi_line_string = \"\"\"\n",
        "2번째 문자열\n",
        "3번째 문자열\n",
        "\"\"\"\n",
        "print(multi_line_string)"
      ],
      "metadata": {
        "colab": {
          "base_uri": "https://localhost:8080/"
        },
        "id": "qeBtf4FCxNd5",
        "outputId": "0fdeced5-ce30-4789-f134-42de6363badb"
      },
      "execution_count": null,
      "outputs": [
        {
          "output_type": "stream",
          "name": "stdout",
          "text": [
            "1번째 문자열\n",
            "2번째 문자열\n",
            "3번째 문자열\n",
            "------------\n",
            "\n",
            "2번째 문자열\n",
            "3번째 문자열\n",
            "\n"
          ]
        }
      ]
    },
    {
      "cell_type": "code",
      "source": [
        "'''\n",
        "단일인용부호를 사용한\n",
        "여러줄 주석\n",
        "'''\n",
        "\"\"\"\n",
        "이중인용부호를 사용한\n",
        "여러줄 주석\n",
        "\"\"\""
      ],
      "metadata": {
        "id": "n271FdZC8XlU"
      },
      "execution_count": null,
      "outputs": []
    },
    {
      "cell_type": "code",
      "source": [
        "print('일반 문자열은 \\t, \\n, \\\\, \\', \\\" 등을 제어 문자로 인식합니다.')"
      ],
      "metadata": {
        "colab": {
          "base_uri": "https://localhost:8080/"
        },
        "id": "lrD3uFDT-dv-",
        "outputId": "9a951b71-63b4-49f3-cc00-aa6db68a9923"
      },
      "execution_count": null,
      "outputs": [
        {
          "output_type": "stream",
          "name": "stdout",
          "text": [
            "일반 문자열은 \t, \n",
            ", \\, ', \" 등을 제어 문자로 인식합니다.\n"
          ]
        }
      ]
    },
    {
      "cell_type": "code",
      "source": [
        "print(r'Raw String은 \\t, \\n, \\\\, \\', \\\" 등을 일반 문자로 인식합니다.')"
      ],
      "metadata": {
        "colab": {
          "base_uri": "https://localhost:8080/"
        },
        "id": "-RZUduvp-gT9",
        "outputId": "64c930a8-1169-4b66-9336-4ccdaa1312dd"
      },
      "execution_count": null,
      "outputs": [
        {
          "output_type": "stream",
          "name": "stdout",
          "text": [
            "Raw String은 \\t, \\n, \\\\, \\', \\\" 등을 일반 문자로 인식합니다.\n"
          ]
        }
      ]
    },
    {
      "cell_type": "code",
      "source": [
        "project_folder = 'C:\\\\Users\\\\00320811\\\\Documents\\\\python_coding'\n",
        "print(project_folder)\n",
        "project_folder = r'C:\\Users\\00320811\\Documents\\python_coding'\n",
        "print(project_folder)"
      ],
      "metadata": {
        "colab": {
          "base_uri": "https://localhost:8080/"
        },
        "id": "Y5fH34MF-jp3",
        "outputId": "061ea4a5-afb6-4c37-d22b-6abb15b64555"
      },
      "execution_count": null,
      "outputs": [
        {
          "output_type": "stream",
          "name": "stdout",
          "text": [
            "C:\\Users\\00320811\\Documents\\python_coding\n",
            "C:\\Users\\00320811\\Documents\\python_coding\n"
          ]
        }
      ]
    },
    {
      "cell_type": "code",
      "source": [
        "print(repr('repr() 함수는 \\t, \\n, \\\\, \\', \\\" 등을 일반 문자로 인식합니다.'))\n",
        "print(repr(123))"
      ],
      "metadata": {
        "colab": {
          "base_uri": "https://localhost:8080/"
        },
        "id": "qls5oI0YAGT2",
        "outputId": "4108b4b7-41a5-40a0-e8c2-f26e3f037c16"
      },
      "execution_count": null,
      "outputs": [
        {
          "output_type": "stream",
          "name": "stdout",
          "text": [
            "'repr() 함수는 \\t, \\n, \\\\, \\', \" 등을 일반 문자로 인식합니다.'\n",
            "123\n"
          ]
        }
      ]
    },
    {
      "cell_type": "markdown",
      "source": [
        "\t문자열 연산"
      ],
      "metadata": {
        "id": "91zjk0pZTPdu"
      }
    },
    {
      "cell_type": "markdown",
      "source": [
        "문자열 상수"
      ],
      "metadata": {
        "id": "iBx6Cal_zGao"
      }
    },
    {
      "cell_type": "code",
      "source": [
        "import string\n",
        "print(string.punctuation)"
      ],
      "metadata": {
        "colab": {
          "base_uri": "https://localhost:8080/"
        },
        "id": "Bufpe1fETS0P",
        "outputId": "bc1eb707-9f52-4ea5-c4a1-44266dc7f8dc"
      },
      "execution_count": null,
      "outputs": [
        {
          "output_type": "stream",
          "name": "stdout",
          "text": [
            "!\"#$%&'()*+,-./:;<=>?@[\\]^_`{|}~\n"
          ]
        }
      ]
    },
    {
      "cell_type": "code",
      "source": [
        "print(repr(string.whitespace))"
      ],
      "metadata": {
        "colab": {
          "base_uri": "https://localhost:8080/"
        },
        "id": "0cdwHN6nnBde",
        "outputId": "6d2c6529-3a26-444e-829a-f32ee6db4a57"
      },
      "execution_count": null,
      "outputs": [
        {
          "output_type": "stream",
          "name": "stdout",
          "text": [
            "' \\t\\n\\r\\x0b\\x0c'\n"
          ]
        }
      ]
    },
    {
      "cell_type": "markdown",
      "source": [
        "문자열 확인"
      ],
      "metadata": {
        "id": "CzIVPWfPzRO0"
      }
    },
    {
      "cell_type": "code",
      "source": [
        "first_number = int(input(\"첫번째 숫자 : \"))"
      ],
      "metadata": {
        "id": "CvoGu1oW10sq"
      },
      "execution_count": null,
      "outputs": []
    },
    {
      "cell_type": "code",
      "source": [
        "first_number = int(input(\"첫번째 숫자 : \"))"
      ],
      "metadata": {
        "colab": {
          "base_uri": "https://localhost:8080/",
          "height": 204
        },
        "id": "8Xo9_Zx2zH1L",
        "outputId": "642c4707-83b1-41d1-e5c5-c66946192050"
      },
      "execution_count": null,
      "outputs": [
        {
          "name": "stdout",
          "output_type": "stream",
          "text": [
            "첫번째 숫자 : 1O\n"
          ]
        },
        {
          "output_type": "error",
          "ename": "ValueError",
          "evalue": "ignored",
          "traceback": [
            "\u001b[0;31m---------------------------------------------------------------------------\u001b[0m",
            "\u001b[0;31mValueError\u001b[0m                                Traceback (most recent call last)",
            "\u001b[0;32m<ipython-input-15-e2aadd37d8ac>\u001b[0m in \u001b[0;36m<cell line: 1>\u001b[0;34m()\u001b[0m\n\u001b[0;32m----> 1\u001b[0;31m \u001b[0mfirst_number\u001b[0m \u001b[0;34m=\u001b[0m \u001b[0mint\u001b[0m\u001b[0;34m(\u001b[0m\u001b[0minput\u001b[0m\u001b[0;34m(\u001b[0m\u001b[0;34m\"첫번째 숫자 : \"\u001b[0m\u001b[0;34m)\u001b[0m\u001b[0;34m)\u001b[0m\u001b[0;34m\u001b[0m\u001b[0;34m\u001b[0m\u001b[0m\n\u001b[0m",
            "\u001b[0;31mValueError\u001b[0m: invalid literal for int() with base 10: '1O'"
          ]
        }
      ]
    },
    {
      "cell_type": "code",
      "source": [
        "first_number = input(\"첫번째 숫자 : \")\n",
        "\n",
        "if first_number.isdecimal():\n",
        "  first_number = int(first_number)\n",
        "else:\n",
        "  print('입력한',first_number,'를 정수형으로 변환할 수 없습니다.')"
      ],
      "metadata": {
        "colab": {
          "base_uri": "https://localhost:8080/"
        },
        "id": "HYDC_fY9pFex",
        "outputId": "ca48a56e-a7fe-40e9-8f4e-840a8b32dd11"
      },
      "execution_count": null,
      "outputs": [
        {
          "output_type": "stream",
          "name": "stdout",
          "text": [
            "첫번째 숫자 : 1O\n",
            "입력한 1O 를 정수형으로 변환할 수 없습니다.\n"
          ]
        }
      ]
    },
    {
      "cell_type": "markdown",
      "source": [
        "대소문자 변환"
      ],
      "metadata": {
        "id": "oOSKhxrF1UXU"
      }
    },
    {
      "cell_type": "code",
      "source": [
        "print('this is english sentense. this is 한글문장.'.capitalize())\n",
        "print('subject score remark 타이틀'.title())"
      ],
      "metadata": {
        "colab": {
          "base_uri": "https://localhost:8080/"
        },
        "id": "6QUX3--q2fvS",
        "outputId": "bf759710-3c5f-4953-8e21-0cfb01dc198b"
      },
      "execution_count": null,
      "outputs": [
        {
          "output_type": "stream",
          "name": "stdout",
          "text": [
            "This is english sentense. this is 한글문장.\n",
            "Subject Score Remark 타이틀\n"
          ]
        }
      ]
    },
    {
      "cell_type": "code",
      "source": [
        "print('Subject Score Remark 타이틀'.lower())\n",
        "print('Subject Score Remark 타이틀'.upper())\n",
        "print('Subject Score Remark 타이틀'.swapcase())"
      ],
      "metadata": {
        "colab": {
          "base_uri": "https://localhost:8080/"
        },
        "id": "32ZWLxHl65EQ",
        "outputId": "ddebc9cc-6979-4f52-f67f-761fe12747ef"
      },
      "execution_count": null,
      "outputs": [
        {
          "output_type": "stream",
          "name": "stdout",
          "text": [
            "subject score remark 타이틀\n",
            "SUBJECT SCORE REMARK 타이틀\n",
            "sUBJECT sCORE rEMARK 타이틀\n"
          ]
        }
      ]
    },
    {
      "cell_type": "markdown",
      "source": [
        "문자열 나누기와 합치기"
      ],
      "metadata": {
        "id": "muoik8ld1b8q"
      }
    },
    {
      "cell_type": "code",
      "source": [
        "title_input = 'subject   score\\t\\n\\r\\x0b\\x0cremark'\n",
        "titles = title_input.title().split()\n",
        "print(titles)"
      ],
      "metadata": {
        "colab": {
          "base_uri": "https://localhost:8080/"
        },
        "id": "Ih0--ljl2mDO",
        "outputId": "2f9729bf-c3ad-4acd-bb32-66ac73b99afc"
      },
      "execution_count": null,
      "outputs": [
        {
          "output_type": "stream",
          "name": "stdout",
          "text": [
            "['Subject', 'Score', 'Remark']\n"
          ]
        }
      ]
    },
    {
      "cell_type": "code",
      "source": [
        "csv_input = '100,99,95,80,100'\n",
        "print(csv_input.split(','))\n",
        "txt_input = '홍길동\\t유관순\\t이순신'\n",
        "print(txt_input.split('\\t'))"
      ],
      "metadata": {
        "colab": {
          "base_uri": "https://localhost:8080/"
        },
        "id": "M88ztBgcS9mz",
        "outputId": "05045dba-ed62-47ea-e0aa-f7c03dfe6b10"
      },
      "execution_count": null,
      "outputs": [
        {
          "output_type": "stream",
          "name": "stdout",
          "text": [
            "['100', '99', '95', '80', '100']\n",
            "['홍길동', '유관순', '이순신']\n"
          ]
        }
      ]
    },
    {
      "cell_type": "code",
      "source": [
        "titles = ['subject','score','remark']\n",
        "print(  ''.join(titles))\n",
        "print( ' '.join(titles))\n",
        "print( ','.join(titles))\n",
        "print('\\t'.join(titles))\n",
        "print(repr('\\n'.join(titles)))"
      ],
      "metadata": {
        "colab": {
          "base_uri": "https://localhost:8080/"
        },
        "id": "-Z5ukSni8ccK",
        "outputId": "1ece6ecd-7eed-44bb-cdca-16e2772eff2b"
      },
      "execution_count": null,
      "outputs": [
        {
          "output_type": "stream",
          "name": "stdout",
          "text": [
            "subjectscoreremark\n",
            "subject score remark\n",
            "subject,score,remark\n",
            "subject\tscore\tremark\n",
            "'subject\\nscore\\nremark'\n"
          ]
        }
      ]
    },
    {
      "cell_type": "code",
      "source": [
        "web_text = '''Python은 문법이 매우 쉬워서 초보자들에게 추천되는 언어이다.\n",
        "Python은 학습용으로 좋은 언어이다.\\r동시에 실사용률과 생산성도 높은 언어이다.\\r\n",
        "오죽하면 python의 별명이 \"Executable Pseudocode\"일 정도이다.\\r'''\n",
        "\n",
        "text_lines = web_text.splitlines()\n",
        "for text_line in text_lines:\n",
        "  print(repr(text_line))"
      ],
      "metadata": {
        "colab": {
          "base_uri": "https://localhost:8080/"
        },
        "id": "NY4A8xoJhFMg",
        "outputId": "5db4f424-49c6-4516-9f7b-867723902ec4"
      },
      "execution_count": null,
      "outputs": [
        {
          "output_type": "stream",
          "name": "stdout",
          "text": [
            "'Python은 문법이 매우 쉬워서 초보자들에게 추천되는 언어이다.'\n",
            "'Python은 학습용으로 좋은 언어이다.'\n",
            "'동시에 실사용률과 생산성도 높은 언어이다.'\n",
            "'오죽하면 python의 별명이 \"Executable Pseudocode\"일 정도이다.'\n"
          ]
        }
      ]
    },
    {
      "cell_type": "code",
      "source": [
        "web_text = '''Python은 학습용 언어이다.\\r\n",
        "실사용률과 생산성도 높은 언어이다.\\r'''\n",
        "\n",
        "words = web_text.split()\n",
        "print(words)"
      ],
      "metadata": {
        "colab": {
          "base_uri": "https://localhost:8080/"
        },
        "id": "p8OFM0e77H6G",
        "outputId": "5aa89cec-fd67-4ce8-b8fd-e01ed3c16f0f"
      },
      "execution_count": null,
      "outputs": [
        {
          "output_type": "stream",
          "name": "stdout",
          "text": [
            "['Python은', '학습용', '언어이다.', '실사용률과', '생산성도', '높은', '언어이다.']\n"
          ]
        }
      ]
    },
    {
      "cell_type": "code",
      "source": [
        "!pip install konlpy"
      ],
      "metadata": {
        "colab": {
          "base_uri": "https://localhost:8080/"
        },
        "id": "SMV1RPZ0XN37",
        "outputId": "7bcc7513-c594-4203-b25a-378d626f9eb4"
      },
      "execution_count": null,
      "outputs": [
        {
          "output_type": "stream",
          "name": "stdout",
          "text": [
            "Collecting konlpy\n",
            "  Downloading konlpy-0.6.0-py2.py3-none-any.whl (19.4 MB)\n",
            "\u001b[2K     \u001b[90m━━━━━━━━━━━━━━━━━━━━━━━━━━━━━━━━━━━━━━━━\u001b[0m \u001b[32m19.4/19.4 MB\u001b[0m \u001b[31m37.5 MB/s\u001b[0m eta \u001b[36m0:00:00\u001b[0m\n",
            "\u001b[?25hCollecting JPype1>=0.7.0 (from konlpy)\n",
            "  Downloading JPype1-1.4.1-cp310-cp310-manylinux_2_12_x86_64.manylinux2010_x86_64.whl (465 kB)\n",
            "\u001b[2K     \u001b[90m━━━━━━━━━━━━━━━━━━━━━━━━━━━━━━━━━━━━━━━━\u001b[0m \u001b[32m465.3/465.3 kB\u001b[0m \u001b[31m33.7 MB/s\u001b[0m eta \u001b[36m0:00:00\u001b[0m\n",
            "\u001b[?25hRequirement already satisfied: lxml>=4.1.0 in /usr/local/lib/python3.10/dist-packages (from konlpy) (4.9.3)\n",
            "Requirement already satisfied: numpy>=1.6 in /usr/local/lib/python3.10/dist-packages (from konlpy) (1.23.5)\n",
            "Requirement already satisfied: packaging in /usr/local/lib/python3.10/dist-packages (from JPype1>=0.7.0->konlpy) (23.2)\n",
            "Installing collected packages: JPype1, konlpy\n",
            "Successfully installed JPype1-1.4.1 konlpy-0.6.0\n"
          ]
        }
      ]
    },
    {
      "cell_type": "code",
      "source": [
        "from konlpy.tag import Okt\n",
        "\n",
        "okt = Okt()\n",
        "words = okt.pos(web_text)\n",
        "print(words)"
      ],
      "metadata": {
        "colab": {
          "base_uri": "https://localhost:8080/"
        },
        "id": "7mQPxmB6PXx_",
        "outputId": "ff0869c9-8224-4061-e459-7ef5d6e3afa4"
      },
      "execution_count": null,
      "outputs": [
        {
          "output_type": "stream",
          "name": "stdout",
          "text": [
            "[('Python', 'Alpha'), ('은', 'Noun'), ('학습', 'Noun'), ('용', 'Noun'), ('언어', 'Noun'), ('이다', 'Josa'), ('.', 'Punctuation'), ('\\r\\n', 'Foreign'), ('실', 'Noun'), ('사용', 'Noun'), ('률', 'Noun'), ('과', 'Josa'), ('생산', 'Noun'), ('성도', 'Noun'), ('높은', 'Adjective'), ('언어', 'Noun'), ('이다', 'Josa'), ('.', 'Punctuation'), ('\\r', 'Foreign')]\n"
          ]
        }
      ]
    },
    {
      "cell_type": "markdown",
      "source": [
        "문자열 변환"
      ],
      "metadata": {
        "id": "VpmZS9ZP1qNE"
      }
    },
    {
      "cell_type": "code",
      "source": [
        "print('대체할 문자열 대체할 문자열'.replace('대체할','대체된'))\n",
        "print('대체할 문자열 대체할 문자열'.replace('대체할','대체된',1))"
      ],
      "metadata": {
        "colab": {
          "base_uri": "https://localhost:8080/"
        },
        "id": "mgSFEQJgQD3C",
        "outputId": "eb149eb3-176c-4363-a836-584354b3c298"
      },
      "execution_count": null,
      "outputs": [
        {
          "output_type": "stream",
          "name": "stdout",
          "text": [
            "대체된 문자열 대체된 문자열\n",
            "대체된 문자열 대체할 문자열\n"
          ]
        }
      ]
    },
    {
      "cell_type": "code",
      "source": [
        "text = \"아차 실수\\x0b아차차 또 실수\\x0c\".replace('\\x0b',' ')\n",
        "print(repr(text))\n",
        "text = text.replace('\\x0c','')\n",
        "print(repr(text))"
      ],
      "metadata": {
        "colab": {
          "base_uri": "https://localhost:8080/"
        },
        "id": "kKT-KaLFSy33",
        "outputId": "1edcbc12-2dd5-47fa-ddf5-bc5b9ba72772"
      },
      "execution_count": null,
      "outputs": [
        {
          "output_type": "stream",
          "name": "stdout",
          "text": [
            "'아차 실수 아차차 또 실수\\x0c'\n",
            "'아차 실수 아차차 또 실수'\n"
          ]
        }
      ]
    },
    {
      "cell_type": "code",
      "source": [
        "import re\n",
        "\n",
        "found_str_list = re.findall(r'패턴',\"찾을 문자열 패턴은 바로 이 패턴입니다.\")\n",
        "print(found_str_list)"
      ],
      "metadata": {
        "colab": {
          "base_uri": "https://localhost:8080/"
        },
        "id": "gSu9KV9uS6J1",
        "outputId": "1c730092-239f-4c22-9ea9-4a20062c78c5"
      },
      "execution_count": null,
      "outputs": [
        {
          "output_type": "stream",
          "name": "stdout",
          "text": [
            "['패턴', '패턴']\n"
          ]
        }
      ]
    },
    {
      "cell_type": "code",
      "source": [
        "import re\n",
        "\n",
        "found_str_list = re.findall(r'패턴.',\"찾을 문자열 패턴은 바로 이 패턴입니다.\")\n",
        "print(found_str_list)"
      ],
      "metadata": {
        "colab": {
          "base_uri": "https://localhost:8080/"
        },
        "id": "MXf3EQhfbeP0",
        "outputId": "ca4a5f82-2ad6-4d71-f659-d0fce9339084"
      },
      "execution_count": null,
      "outputs": [
        {
          "output_type": "stream",
          "name": "stdout",
          "text": [
            "['패턴은', '패턴입']\n"
          ]
        }
      ]
    },
    {
      "cell_type": "code",
      "source": [
        "import re\n",
        "\n",
        "found_str_list = re.findall(r'이 패턴.*다',\"찾을 문자열 패턴은 바로 이 패턴입니다.\")\n",
        "print(found_str_list)"
      ],
      "metadata": {
        "colab": {
          "base_uri": "https://localhost:8080/"
        },
        "id": "uq6yWv2YdVrY",
        "outputId": "9e35cd7d-7688-4822-df04-de0fdbe2ae26"
      },
      "execution_count": null,
      "outputs": [
        {
          "output_type": "stream",
          "name": "stdout",
          "text": [
            "['이 패턴입니다']\n"
          ]
        }
      ]
    },
    {
      "cell_type": "code",
      "source": [
        "import re\n",
        "\n",
        "substituted_text = re.sub(r'대체.','대체된',\"대체할 문자열 패턴은 대체될 패턴으로 바뀝니다.\")\n",
        "print(substituted_text)"
      ],
      "metadata": {
        "colab": {
          "base_uri": "https://localhost:8080/"
        },
        "id": "CaiIzx2hiaHg",
        "outputId": "32bb5da2-8a5c-4340-ec01-7ddc84236b28"
      },
      "execution_count": null,
      "outputs": [
        {
          "output_type": "stream",
          "name": "stdout",
          "text": [
            "대체된 문자열 패턴은 대체된 패턴으로 바뀝니다.\n"
          ]
        }
      ]
    },
    {
      "cell_type": "code",
      "source": [
        "import re\n",
        "\n",
        "web_text = '''Python은 학습용으로 좋은 언어이다.\\r\n",
        "동시에 실사용률과 생산성도 높은 언어이다.\\r\n",
        "Python은 문법이 매우 쉬워서 초보자들에게 추천되는 언어이다.\n",
        "오죽하면 python의 별명이 \"Executable Pseudocode\"일 정도이다.\\r'''자\n",
        "\n",
        "web_text = re.sub('[^0-9a-zA-Z가-힣 \\n]',' ',web_text)\n",
        "print(web_text)\n",
        "print(repr(web_text))"
      ],
      "metadata": {
        "colab": {
          "base_uri": "https://localhost:8080/"
        },
        "id": "5H008qCOm78L",
        "outputId": "2b09deb3-cb33-4ed3-ac02-62566a5569bf"
      },
      "execution_count": null,
      "outputs": [
        {
          "output_type": "stream",
          "name": "stdout",
          "text": [
            "Python은 학습용으로 좋은 언어이다  \n",
            "동시에 실사용률과 생산성도 높은 언어이다  \n",
            "Python은 문법이 매우 쉬워서 초보자들에게 추천되는 언어이다 \n",
            "오죽하면 python의 별명이  Executable Pseudocode 일 정도이다  \n",
            "'Python은 학습용으로 좋은 언어이다  \\n동시에 실사용률과 생산성도 높은 언어이다  \\nPython은 문법이 매우 쉬워서 초보자들에게 추천되는 언어이다 \\n오죽하면 python의 별명이  Executable Pseudocode 일 정도이다  '\n"
          ]
        }
      ]
    },
    {
      "cell_type": "code",
      "source": [
        "from konlpy.tag import Okt\n",
        "import re\n",
        "\n",
        "web_text = '''Python은 학습용 언어이다.\\r\n",
        "실사용률과 생산성도 높은 언어이다.\\r'''\n",
        "\n",
        "web_text = re.sub(r'[^0-9a-zA-Z가-힣 \\n]',r' ',web_text)\n",
        "\n",
        "okt = Okt()\n",
        "words = okt.pos(web_text)\n",
        "print(words)"
      ],
      "metadata": {
        "colab": {
          "base_uri": "https://localhost:8080/"
        },
        "id": "9dluhY618a6g",
        "outputId": "d816d0f3-ec0b-4c61-99b7-df7c51e6742d"
      },
      "execution_count": null,
      "outputs": [
        {
          "output_type": "stream",
          "name": "stdout",
          "text": [
            "[('Python', 'Alpha'), ('은', 'Noun'), ('학습', 'Noun'), ('용', 'Noun'), ('언어', 'Noun'), ('이다', 'Josa'), ('실', 'Noun'), ('사용', 'Noun'), ('률', 'Noun'), ('과', 'Josa'), ('생산', 'Noun'), ('성도', 'Noun'), ('높은', 'Adjective'), ('언어', 'Noun'), ('이다', 'Josa')]\n"
          ]
        }
      ]
    },
    {
      "cell_type": "code",
      "source": [
        "text = \"\\x0b      아차 실수, 아차차 또 실수\\x0c     \"\n",
        "print('text.lstrip()\\t:',repr(text.lstrip()))\n",
        "print('text.rstrip()\\t:',repr(text.rstrip()))\n",
        "print('text.strip()\\t:',repr(text.strip()))"
      ],
      "metadata": {
        "colab": {
          "base_uri": "https://localhost:8080/"
        },
        "id": "xL887r1z0uUU",
        "outputId": "591eb9db-ea4a-49e3-dff2-a9b6af5d0494"
      },
      "execution_count": null,
      "outputs": [
        {
          "output_type": "stream",
          "name": "stdout",
          "text": [
            "text.lstrip()\t: '아차 실수, 아차차 또 실수\\x0c     '\n",
            "text.rstrip()\t: '\\x0b      아차 실수, 아차차 또 실수'\n",
            "text.strip()\t: '아차 실수, 아차차 또 실수'\n"
          ]
        }
      ]
    },
    {
      "cell_type": "markdown",
      "source": [
        "문자열 비교"
      ],
      "metadata": {
        "id": "ZjQxaMpd1whk"
      }
    },
    {
      "cell_type": "code",
      "source": [
        "3 == 3.0\n",
        "3 > 3.1"
      ],
      "metadata": {
        "id": "QHhIhb6x2cm6"
      },
      "execution_count": null,
      "outputs": []
    },
    {
      "cell_type": "code",
      "source": [
        "'A' == 'a'\n",
        "'A' > 'a'\n",
        "'a' > 'A'"
      ],
      "metadata": {
        "id": "r0Ix1Wgi2fs7"
      },
      "execution_count": null,
      "outputs": []
    },
    {
      "cell_type": "code",
      "source": [
        "ord('a')\n",
        "ord('A')"
      ],
      "metadata": {
        "id": "2F6qcsLt2rar"
      },
      "execution_count": null,
      "outputs": []
    },
    {
      "cell_type": "code",
      "source": [
        "'a'.lower() == 'A'.lower()\n",
        "'a'.upper() == 'A'.upper()"
      ],
      "metadata": {
        "id": "PnigwCzlBRXq"
      },
      "execution_count": null,
      "outputs": []
    },
    {
      "cell_type": "code",
      "source": [
        "ord('가')\n",
        "ord('라')\n",
        "ord('아')\n",
        "ord('하')\n",
        "ord('히')\n",
        "ord('힣')\n",
        "'가' > 'z'"
      ],
      "metadata": {
        "id": "p40hGhJ0t8EQ"
      },
      "execution_count": null,
      "outputs": []
    },
    {
      "cell_type": "code",
      "source": [
        "bin(ord('a'))     # 이진수\n",
        "oct(ord('a'))     # 팔진수\n",
        "ord('가')         # 십진수\n",
        "hex(ord('가'))    # 16진수\n",
        "\n",
        "chr(0b1100001)    # 이진수\n",
        "chr(0o141)        # 팔진수\n",
        "chr(44032)        # 십진수\n",
        "chr(0xac00)       # 16진수"
      ],
      "metadata": {
        "id": "IoiInoo6hozl"
      },
      "execution_count": null,
      "outputs": []
    },
    {
      "cell_type": "code",
      "source": [
        "string_variable = 'Python C C++ Java'\n",
        "'Python' in string_variable\n",
        "'Python' not in string_variable\n",
        "string_variable.startswith('python')\n",
        "string_variable.endswith('java')"
      ],
      "metadata": {
        "id": "3j6nwn9zHOFH"
      },
      "execution_count": null,
      "outputs": []
    },
    {
      "cell_type": "markdown",
      "source": [
        "\t문자열 포맷팅"
      ],
      "metadata": {
        "id": "BgmbMUw1TJHe"
      }
    },
    {
      "cell_type": "code",
      "source": [
        "print(format(12345,'d'))\n",
        "print(f'{12345:d}')\n",
        "print(12345)"
      ],
      "metadata": {
        "colab": {
          "base_uri": "https://localhost:8080/"
        },
        "id": "lfKjoZD6qlh6",
        "outputId": "d397d490-14e2-42ad-8d5e-499e351878d5"
      },
      "execution_count": null,
      "outputs": [
        {
          "output_type": "stream",
          "name": "stdout",
          "text": [
            "12345\n",
            "12345\n",
            "12345\n"
          ]
        }
      ]
    },
    {
      "cell_type": "code",
      "source": [
        "value=12345\n",
        "print(format(value,'d'))\n",
        "print(f'{value:d}')\n",
        "\n",
        "print(format(value+1,'d'))\n",
        "print(f'{value+1:d}')"
      ],
      "metadata": {
        "colab": {
          "base_uri": "https://localhost:8080/"
        },
        "id": "wInJoRt_rppm",
        "outputId": "0c5cd654-d3e6-400c-afdc-ef553f63577f"
      },
      "execution_count": null,
      "outputs": [
        {
          "output_type": "stream",
          "name": "stdout",
          "text": [
            "12345\n",
            "12345\n",
            "12346\n",
            "12346\n"
          ]
        }
      ]
    },
    {
      "cell_type": "code",
      "source": [
        "print(format(12345,'10d'))\n",
        "print(f'{-12345:10d}')\n",
        "print(format('문자열','10s'))\n",
        "print(f'{\"문자열\":10s}')"
      ],
      "metadata": {
        "colab": {
          "base_uri": "https://localhost:8080/"
        },
        "id": "qPKLmHumxo0p",
        "outputId": "3e6fc585-1530-4d34-bd51-096e113500a6"
      },
      "execution_count": null,
      "outputs": [
        {
          "output_type": "stream",
          "name": "stdout",
          "text": [
            "     12345\n",
            "    -12345\n",
            "문자열       \n",
            "문자열       \n"
          ]
        }
      ]
    },
    {
      "cell_type": "code",
      "source": [
        "print(format('좌측 정렬','<10s'))\n",
        "print(f'{\"우측 정렬\":>10s}')\n",
        "print(format('중앙 정렬','^10s'))"
      ],
      "metadata": {
        "colab": {
          "base_uri": "https://localhost:8080/"
        },
        "id": "ndlbvCPbW0Sb",
        "outputId": "b4091434-970d-429a-a533-4996f0cbb4be"
      },
      "execution_count": null,
      "outputs": [
        {
          "output_type": "stream",
          "name": "stdout",
          "text": [
            "좌측 정렬     \n",
            "     우측 정렬\n",
            "  중앙 정렬   \n"
          ]
        }
      ]
    },
    {
      "cell_type": "code",
      "source": [
        "print(format(-12345,'10d'))\n",
        "print(f'{12345:+10d}')"
      ],
      "metadata": {
        "colab": {
          "base_uri": "https://localhost:8080/"
        },
        "id": "lG6QqJCKyHQ3",
        "outputId": "e5ffc5e4-bf23-47ad-9ae5-61c49de7ef21"
      },
      "execution_count": null,
      "outputs": [
        {
          "output_type": "stream",
          "name": "stdout",
          "text": [
            "    -12345\n",
            "    +12345\n"
          ]
        }
      ]
    },
    {
      "cell_type": "code",
      "source": [
        "print(format(12345,'10,d'))\n",
        "print(f'{12345:10,d}')"
      ],
      "metadata": {
        "colab": {
          "base_uri": "https://localhost:8080/"
        },
        "id": "3Qlx-8wf2geP",
        "outputId": "65863c64-3c9a-485e-c5f2-d3f96e0af4d6"
      },
      "execution_count": null,
      "outputs": [
        {
          "output_type": "stream",
          "name": "stdout",
          "text": [
            "    12,345\n",
            "    12,345\n"
          ]
        }
      ]
    },
    {
      "cell_type": "code",
      "source": [
        "print('$'+format(12345,',d'))\n",
        "print(f'\\{12345:,d}')"
      ],
      "metadata": {
        "colab": {
          "base_uri": "https://localhost:8080/"
        },
        "id": "AU68DqoeeYVO",
        "outputId": "ea5baeb5-8be9-4a89-fdad-16092c020516"
      },
      "execution_count": null,
      "outputs": [
        {
          "output_type": "stream",
          "name": "stdout",
          "text": [
            "$12,345\n",
            "\\12,345\n"
          ]
        }
      ]
    },
    {
      "cell_type": "code",
      "source": [
        "amount = 12345\n",
        "pay_due = '2023-02-15'\n",
        "print(f'지급일({pay_due})에 지급할 금액은 {amount:,d}원입니다.')\n",
        "print(f'Format String은 \\t, \\n, \\\\, \\', \\\" 등을 특수 문자로 인식합니다.')"
      ],
      "metadata": {
        "colab": {
          "base_uri": "https://localhost:8080/"
        },
        "id": "nayfQeIM68ma",
        "outputId": "6de4939e-4832-4abb-dd55-24b7fe7bfefb"
      },
      "execution_count": null,
      "outputs": [
        {
          "output_type": "stream",
          "name": "stdout",
          "text": [
            "지급일(2023-02-15)에 지급할 금액은 12,345원입니다.\n",
            "Format String은 \t, \n",
            ", \\, ', \" 등을 특수 문자로 인식합니다.\n"
          ]
        }
      ]
    },
    {
      "cell_type": "code",
      "source": [
        "print(f'f String에 {{ 그리고 }}와 같이 중괄호를 두번 사용하여 추가합니다.')"
      ],
      "metadata": {
        "colab": {
          "base_uri": "https://localhost:8080/"
        },
        "id": "uwwZO4P7jZ-D",
        "outputId": "6652cac9-1c0f-4731-96c0-2768b710c275"
      },
      "execution_count": 1,
      "outputs": [
        {
          "output_type": "stream",
          "name": "stdout",
          "text": [
            "f String에 { 그리고 }와 같이 중괄호를 두번 사용하여 추가합니다.\n"
          ]
        }
      ]
    },
    {
      "cell_type": "code",
      "source": [
        "print(format(12345.67,'10.1f'))\n",
        "print(f'{12345.67:10.3f}')\n",
        "print(format(12345.67,'3.1f'))\n",
        "print(f'{12345.67:.3f}')"
      ],
      "metadata": {
        "colab": {
          "base_uri": "https://localhost:8080/"
        },
        "id": "puFOwOhUTTel",
        "outputId": "ff4b4c6c-42a3-4bce-87b4-7b56963d4832"
      },
      "execution_count": null,
      "outputs": [
        {
          "output_type": "stream",
          "name": "stdout",
          "text": [
            "   12345.7\n",
            " 12345.670\n",
            "12345.7\n",
            "12345.670\n"
          ]
        }
      ]
    },
    {
      "cell_type": "code",
      "source": [
        "print(format(12345.67,'10.1e'))\n",
        "print(f'{12345.67:10.7E}')\n",
        "print(format(12345.67,'3.1e'))\n",
        "print(f'{12345.67:.7E}')"
      ],
      "metadata": {
        "colab": {
          "base_uri": "https://localhost:8080/"
        },
        "id": "QFRDlSHoFQpc",
        "outputId": "bb6fcdc0-e85c-4340-bc87-98718732cd02"
      },
      "execution_count": null,
      "outputs": [
        {
          "output_type": "stream",
          "name": "stdout",
          "text": [
            "   1.2e+04\n",
            "1.2345670E+04\n",
            "1.2e+04\n",
            "1.2345670E+04\n"
          ]
        }
      ]
    },
    {
      "cell_type": "code",
      "source": [
        "print('$'+format(12345.67,'*>10,.2f'))\n",
        "print(f'${12345.67:,.2f}')"
      ],
      "metadata": {
        "colab": {
          "base_uri": "https://localhost:8080/"
        },
        "id": "y54W3FMC3i74",
        "outputId": "a89be6b1-dde4-4e44-8a1f-74e17edbcbe2"
      },
      "execution_count": null,
      "outputs": [
        {
          "output_type": "stream",
          "name": "stdout",
          "text": [
            "$*12,345.67\n",
            "$12,345.67\n"
          ]
        }
      ]
    }
  ]
}